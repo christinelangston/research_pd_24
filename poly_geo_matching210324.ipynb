{
 "cells": [
  {
   "cell_type": "code",
   "execution_count": null,
   "id": "7d9783b6-eee8-45fb-9e1f-96ef8291db13",
   "metadata": {},
   "outputs": [],
   "source": [
    "#geomatching script "
   ]
  },
  {
   "cell_type": "code",
   "execution_count": null,
   "id": "4fa6bd2d-5c16-40d7-aa40-ab532fbbcfae",
   "metadata": {},
   "outputs": [],
   "source": [
    "## Try geolocation\n",
    "import geopy\n",
    "from geopy.geocoders import Nominatim"
   ]
  },
  {
   "cell_type": "code",
   "execution_count": null,
   "id": "dac3c44d-06e3-4088-8b77-dcf411061c36",
   "metadata": {},
   "outputs": [],
   "source": [
    "def get_coords(address):\n",
    "    address_long = str(address) + ', United Kingdom'\n",
    "    location = geolocator.geocode(address_long)\n",
    "    if location is not None: \n",
    "        return location.latitude, location.longitude\n",
    "    else:\n",
    "        return None, None\n",
    "    "
   ]
  },
  {
   "cell_type": "code",
   "execution_count": null,
   "id": "6dce2c04-f94e-44ec-9b0f-b6a12ca86864",
   "metadata": {},
   "outputs": [],
   "source": [
    "geolocator = Nominatim(user_agent=\"PD\")"
   ]
  },
  {
   "cell_type": "code",
   "execution_count": null,
   "id": "8f0a065f-2f5c-4503-b3d8-8d1ada841fb7",
   "metadata": {},
   "outputs": [],
   "source": [
    "location = geolocator.geocode(\"175 5th Avenue NYC\")\n",
    "#Panache, 280 Lodge Avenue, Dagenham, Barking And Dagenham, RM8 2HF\n",
    "\n",
    "print(location.address)\n",
    "location = geolocator.geocode(\"Panache, 280 Lodge Avenue, Dagenham, Barking And Dagenham, RM8 2HF\")\n",
    "location3 = geolocator.geocode(\"Panache, 280 Lodge Avenue, London, RM8 2HF\")\n",
    "print(location3)\n",
    "\n",
    "#location2 = geolocator.geocode(\"280 Lodge Avenue, London, RM8 2HF, United Kingdom\")\n",
    "location2 = geolocator.geocode(\"9-11 Burnley Road, London, NW10 1DY, United Kingdom\")\n",
    "\n",
    "print((location2.latitude, location2.longitude))\n",
    "\n",
    "test_data = non_resi_address_merge_no_match3.iloc[:10]\n",
    "\n",
    "#coalesce the columns to use both the LPA and GLA\n",
    "test_data['match_address'] = np.where(test_data['site_name_LPA'].isnull(), test_data['site_name_GLA'], test_data['site_name_LPA'] )\n",
    "#(test_data['lat'], test_data['lon']) = get_coords(\"9-11 Burnley Road, London, NW10 1DY\")\n",
    "#(test_data['lat'], test_data['lon']) = get_coords(\"Panache, 280 Lodge Avenue, London, RM8 2HF\")\n",
    "#result = test_data['match_address'].apply(lambda x: get_coords(x))\n",
    "#(test_data['lat'], test_data['lon']) = \n",
    "\n",
    "result\n",
    "\n",
    "#df_final[df_final['postcode'] == 'W13 9BP']\n",
    "\n",
    "\n",
    "#example: RM8 2HF 51.541876\t0.112679\n",
    "\n",
    "#take the unmatched addresses, compute the matching address\n",
    "# then geocode them \n",
    "# then export into csv \n",
    "non_resi_address_merge_no_match3['match_address'] = np.where(non_resi_address_merge_no_match3['site_name_LPA'].isnull(), non_resi_address_merge_no_match3['site_name_GLA'], non_resi_address_merge_no_match3['site_name_LPA'] )\n",
    "\n",
    "#non_resi_address_merge_no_match3['location'] = non_resi_address_merge_no_match3['match_address'].apply(lambda x: get_coords(x))\n",
    "#export as csv \n",
    "non_resi_address_merge_no_match3.to_csv(\"no_match_geocoded_07032024.csv\", index = False)\n",
    "\n",
    "\n",
    "from arcgis.gis import GIS\n",
    "from arcgis.geometry import Polygon, Geometry, Point, Polyline\n",
    "from arcgis.geocoding import geocode\n",
    "import arcpy\n",
    "import geopandas\n",
    "\n",
    "df['lon'] = df['geometry'].x\n",
    "df['lat'] = df['geometry'].y"
   ]
  }
 ],
 "metadata": {
  "kernelspec": {
   "display_name": "sds2023",
   "language": "python",
   "name": "sds2023"
  },
  "language_info": {
   "codemirror_mode": {
    "name": "ipython",
    "version": 3
   },
   "file_extension": ".py",
   "mimetype": "text/x-python",
   "name": "python",
   "nbconvert_exporter": "python",
   "pygments_lexer": "ipython3",
   "version": "3.11.7"
  }
 },
 "nbformat": 4,
 "nbformat_minor": 5
}
