{
 "cells": [
  {
   "cell_type": "code",
   "execution_count": 1,
   "id": "4c500459-056e-402d-a9b8-118a319c50d3",
   "metadata": {},
   "outputs": [],
   "source": [
    "\"\"\" Script to match planning applications to OSAddressBase addresses\n",
    "\n",
    "This script first loads the OSAddress Base data (separated into residential and other uses in separate script)\n",
    "and then loads the planning application data scraped from local planning authority websites.\n",
    "\n",
    "The matching methodology is described in an additional document, and uses multiple strategies to match the planning\n",
    "application data records to residential addresses first, and then to other uses. It outputs a match rate that summarizes\n",
    "how many records matched to each type of address. \n",
    "\n",
    "Written by: Christine Langston, April - June 2024\n",
    "\"\"\"\n",
    "import pandas as pd\n",
    "import time\n",
    "import numpy as np\n",
    "import copy\n",
    "import re"
   ]
  },
  {
   "cell_type": "markdown",
   "id": "1149bc74",
   "metadata": {},
   "source": [
    "# Define functions"
   ]
  },
  {
   "cell_type": "code",
   "execution_count": 2,
   "id": "d28e6b8f-8758-4551-9d3b-d271bd6dcb9a",
   "metadata": {
    "tags": []
   },
   "outputs": [],
   "source": [
    "#takes a merged dataset and separates matched addresses and not matched\n",
    "def separate_matches(dataset, column_name, match_strategy):\n",
    "    dataset_match = dataset.drop(dataset[pd.isna(dataset[column_name]) == True].index)\n",
    "    dataset_no_match = dataset.drop(dataset[pd.isna(dataset[column_name]) == False].index)\n",
    "    dataset_match['match_strategy'] = match_strategy\n",
    "    return dataset_match, dataset_no_match"
   ]
  },
  {
   "cell_type": "code",
   "execution_count": 3,
   "id": "09d8c1aa-27ee-4fd2-a82d-8cca7c6d36b1",
   "metadata": {
    "tags": []
   },
   "outputs": [],
   "source": [
    "#function to merge and then split based on if an address was matched  \n",
    "def my_merge(left, right, left_on, right_on): \n",
    "    merged = left.merge(right, how = 'left', left_on = left_on, right_on = right_on)\n",
    "    merged_match = merged.drop(merged[pd.isna(merged['uprn']) == True].index) \n",
    "    merged_no_match = merged.drop(merged[pd.isna(merged['uprn']) == False].index) \n",
    "    return merged_match, merged_no_match"
   ]
  },
  {
   "cell_type": "markdown",
   "id": "648a7e58",
   "metadata": {},
   "source": [
    "# Load Data"
   ]
  },
  {
   "cell_type": "code",
   "execution_count": 4,
   "id": "9cf1fb83-c0fd-4b58-aaf8-33285672c9d4",
   "metadata": {},
   "outputs": [
    {
     "name": "stdout",
     "output_type": "stream",
     "text": [
      "CPU times: user 5min 25s, sys: 15min 23s, total: 20min 49s\n",
      "Wall time: 50min 37s\n"
     ]
    }
   ],
   "source": [
    "%%time\n",
    "#### READ IN THE DATA IF EXPORTED \n",
    "resi_AB = pd.read_csv('data/resi_AB_cleaned_parsed_140624.csv',na_values = '0', low_memory = False)\n"
   ]
  },
  {
   "cell_type": "code",
   "execution_count": 5,
   "id": "fc15fad0",
   "metadata": {},
   "outputs": [
    {
     "name": "stdout",
     "output_type": "stream",
     "text": [
      "CPU times: user 40.9 s, sys: 9.68 s, total: 50.6 s\n",
      "Wall time: 59.5 s\n"
     ]
    }
   ],
   "source": [
    "%%time\n",
    "other_AB = pd.read_csv('data/other_AB_cleaned_parsed_140624.csv', na_values = '0',low_memory = False)\n",
    "\n"
   ]
  },
  {
   "cell_type": "code",
   "execution_count": 196,
   "id": "28b4f05b",
   "metadata": {},
   "outputs": [],
   "source": [
    "#load in the data that hasn't been matched yet\n",
    "#london_data = pd.read_csv('data/London2_no_match_2603.csv',low_memory = False)\n",
    "#london_data = pd.read_csv('data/London1_no_match_1903.csv',low_memory = False)\n",
    "#london_data = pd.read_csv('London1b_no_match_0406_manual_clean.csv',low_memory = False)\n",
    "england_data = pd.read_csv('data/Batch3b_no_match_1306_manual.csv', low_memory = False)"
   ]
  },
  {
   "cell_type": "markdown",
   "id": "8558fd71",
   "metadata": {},
   "source": [
    "# Data Cleaning"
   ]
  },
  {
   "cell_type": "markdown",
   "id": "fc67c32e",
   "metadata": {},
   "source": [
    "Data cleaning steps to clean up the Nan and numerical data coming from the CSV"
   ]
  },
  {
   "cell_type": "code",
   "execution_count": 7,
   "id": "2b3076b9-5155-4cd9-977d-c3b351496c54",
   "metadata": {
    "tags": []
   },
   "outputs": [],
   "source": [
    "#edit the parent uprn from OSAddress base to fill out to be strings with 12 digits and leading zeros\n",
    "#replace nan with empty string\n",
    "\n",
    "resi_AB = resi_AB.replace([np.nan, -np.inf], 0)\n",
    "\n",
    "#cast as integer\n",
    "resi_AB['parent_uprn'] = resi_AB['parent_uprn'].astype('Int64')\n",
    "resi_AB['uprn'] = resi_AB['uprn'].astype('Int64')"
   ]
  },
  {
   "cell_type": "code",
   "execution_count": 8,
   "id": "0016326f-51fd-43ab-b3ff-2b4a02a5ddb4",
   "metadata": {
    "tags": []
   },
   "outputs": [],
   "source": [
    "#cast as string \n",
    "resi_AB['parent_uprn'] = resi_AB['parent_uprn'].astype(str)\n",
    "resi_AB['uprn'] = resi_AB['uprn'].astype(str)\n",
    "\n",
    "#fill in with left side padding zeros \n",
    "resi_AB['parent_uprn'] = resi_AB['parent_uprn'].apply(lambda x: '{0:0>12}'.format(x))\n",
    "resi_AB['uprn'] = resi_AB['uprn'].apply(lambda x: '{0:0>12}'.format(x))\n"
   ]
  },
  {
   "cell_type": "code",
   "execution_count": 9,
   "id": "8163f510",
   "metadata": {},
   "outputs": [],
   "source": [
    "#do the same cleaning as above but for the OTHER addresses\n",
    "other_AB = other_AB.replace([np.nan, -np.inf], 0)\n",
    "\n",
    "#cast as integer\n",
    "other_AB['parent_uprn'] = other_AB['parent_uprn'].astype('Int64')\n",
    "other_AB['uprn'] = other_AB['uprn'].astype('Int64')"
   ]
  },
  {
   "cell_type": "code",
   "execution_count": 10,
   "id": "cb0f904c",
   "metadata": {},
   "outputs": [],
   "source": [
    "#cast as string \n",
    "other_AB['parent_uprn'] = other_AB['parent_uprn'].astype(str)\n",
    "other_AB['uprn'] = other_AB['uprn'].astype(str)\n",
    "\n",
    "#fill in with left side padding zeros \n",
    "other_AB['parent_uprn'] = other_AB['parent_uprn'].apply(lambda x: '{0:0>12}'.format(x))\n",
    "other_AB['uprn'] = other_AB['uprn'].apply(lambda x: '{0:0>12}'.format(x))\n"
   ]
  },
  {
   "cell_type": "markdown",
   "id": "aab98a8e",
   "metadata": {},
   "source": [
    "Recast data columns as integers and then strings where needed to eliminate decimals"
   ]
  },
  {
   "cell_type": "code",
   "execution_count": 11,
   "id": "2889e1ef-cc0a-4561-9bb8-bf522d5798a1",
   "metadata": {},
   "outputs": [],
   "source": [
    "#Address matching data clean, make building number into a string \n",
    "resi_AB['building_number'] = resi_AB['building_number'].astype('Int64').astype('str') "
   ]
  },
  {
   "cell_type": "code",
   "execution_count": 12,
   "id": "bc2ebb0d",
   "metadata": {},
   "outputs": [],
   "source": [
    "resi_AB['pao_start_number'] = resi_AB['pao_start_number'].astype('Int64').astype('str') \n"
   ]
  },
  {
   "cell_type": "code",
   "execution_count": 13,
   "id": "8ec0c75b",
   "metadata": {},
   "outputs": [],
   "source": [
    "resi_AB['pao_start_suffix'] = resi_AB.apply(lambda x: np.where(x['pao_start_suffix']== 0, '', x['pao_start_suffix']), axis = 1)"
   ]
  },
  {
   "cell_type": "code",
   "execution_count": 14,
   "id": "47741360",
   "metadata": {},
   "outputs": [],
   "source": [
    "resi_AB['pao_start_number'] = resi_AB.apply(lambda x: np.where(x['pao_start_number']== '0', '', x['pao_start_number'] )  , axis = 1)"
   ]
  },
  {
   "cell_type": "code",
   "execution_count": 15,
   "id": "00962863",
   "metadata": {},
   "outputs": [],
   "source": [
    "resi_AB['pao_start_number'] = resi_AB['pao_start_number'].replace('0','')"
   ]
  },
  {
   "cell_type": "code",
   "execution_count": 16,
   "id": "de3a9a8e",
   "metadata": {},
   "outputs": [],
   "source": [
    "resi_AB['pao_start_number'] = resi_AB['pao_start_number'].astype(str)"
   ]
  },
  {
   "cell_type": "code",
   "execution_count": 17,
   "id": "c4ff743e",
   "metadata": {},
   "outputs": [],
   "source": [
    "resi_AB['pao_start_suffix'] = resi_AB['pao_start_suffix'].astype(str)"
   ]
  },
  {
   "cell_type": "code",
   "execution_count": 18,
   "id": "3b09d6d2",
   "metadata": {},
   "outputs": [],
   "source": [
    "# create new column 'pao_start_num_suffix' with the pao_start_number plus pa_start_suffix \n",
    "resi_AB['pao_start_num_suffix'] = resi_AB['pao_start_number'].astype(str) + resi_AB['pao_start_suffix'].astype(str)"
   ]
  },
  {
   "cell_type": "code",
   "execution_count": 19,
   "id": "3c5a7c6f",
   "metadata": {},
   "outputs": [],
   "source": [
    "#make all nan into 0\n",
    "#then cast into string \n",
    "resi_AB['building_name'] = resi_AB['building_name'].replace([np.nan, -np.inf], 0).astype(str)"
   ]
  },
  {
   "cell_type": "code",
   "execution_count": 20,
   "id": "2481eeee",
   "metadata": {},
   "outputs": [],
   "source": [
    "#then make all 0 string into nan \n",
    "resi_AB['building_name'] = resi_AB['building_name'].replace('0',np.nan)"
   ]
  },
  {
   "cell_type": "code",
   "execution_count": 21,
   "id": "b10fdaa1",
   "metadata": {},
   "outputs": [],
   "source": [
    "#make all nan into 0\n",
    "#then cast into string \n",
    "resi_AB['town_name'] = resi_AB['town_name'].replace([np.nan, -np.inf], 0).astype(str)"
   ]
  },
  {
   "cell_type": "code",
   "execution_count": 22,
   "id": "d3346964",
   "metadata": {},
   "outputs": [],
   "source": [
    "resi_AB['town_name'] = resi_AB['town_name'].replace('0',np.nan)"
   ]
  },
  {
   "cell_type": "code",
   "execution_count": 23,
   "id": "ee1578fd",
   "metadata": {},
   "outputs": [],
   "source": [
    "#make all nan into 0\n",
    "#then cast into string \n",
    "resi_AB['post_town'] = resi_AB['post_town'].replace([np.nan, -np.inf], 0).astype(str)"
   ]
  },
  {
   "cell_type": "code",
   "execution_count": 24,
   "id": "809644ea",
   "metadata": {},
   "outputs": [],
   "source": [
    "resi_AB['post_town'] = resi_AB['post_town'].replace('0',np.nan)"
   ]
  },
  {
   "cell_type": "code",
   "execution_count": 26,
   "id": "b54c4800",
   "metadata": {},
   "outputs": [
    {
     "data": {
      "text/html": [
       "<div>\n",
       "<style scoped>\n",
       "    .dataframe tbody tr th:only-of-type {\n",
       "        vertical-align: middle;\n",
       "    }\n",
       "\n",
       "    .dataframe tbody tr th {\n",
       "        vertical-align: top;\n",
       "    }\n",
       "\n",
       "    .dataframe thead th {\n",
       "        text-align: right;\n",
       "    }\n",
       "</style>\n",
       "<table border=\"1\" class=\"dataframe\">\n",
       "  <thead>\n",
       "    <tr style=\"text-align: right;\">\n",
       "      <th></th>\n",
       "      <th>uprn</th>\n",
       "      <th>class</th>\n",
       "      <th>parent_uprn</th>\n",
       "      <th>latitude</th>\n",
       "      <th>longitude</th>\n",
       "      <th>country</th>\n",
       "      <th>legal_name</th>\n",
       "      <th>sub_building_name</th>\n",
       "      <th>building_name</th>\n",
       "      <th>building_number</th>\n",
       "      <th>...</th>\n",
       "      <th>town_name</th>\n",
       "      <th>administrative_area</th>\n",
       "      <th>post_town</th>\n",
       "      <th>postcode</th>\n",
       "      <th>postcode_locator</th>\n",
       "      <th>parsed_address1</th>\n",
       "      <th>parsed_address2</th>\n",
       "      <th>parsed_address3</th>\n",
       "      <th>postcode_sector</th>\n",
       "      <th>pao_start_num_suffix</th>\n",
       "    </tr>\n",
       "  </thead>\n",
       "  <tbody>\n",
       "    <tr>\n",
       "      <th>0</th>\n",
       "      <td>010012778289</td>\n",
       "      <td>RD02</td>\n",
       "      <td>000000000000</td>\n",
       "      <td>54.036005</td>\n",
       "      <td>-2.340833</td>\n",
       "      <td>E</td>\n",
       "      <td>0.0</td>\n",
       "      <td>0</td>\n",
       "      <td>NaN</td>\n",
       "      <td>0</td>\n",
       "      <td>...</td>\n",
       "      <td>SETTLE</td>\n",
       "      <td>NORTH YORKSHIRE</td>\n",
       "      <td>NaN</td>\n",
       "      <td>0</td>\n",
       "      <td>BD24 0LP</td>\n",
       "      <td>SCOUTBER END FARM, OLD OLIVER LANE TO RAGGED HALL</td>\n",
       "      <td>OLD OLIVER LANE TO RAGGED HALL</td>\n",
       "      <td>, SETTLE,</td>\n",
       "      <td>BD24 0</td>\n",
       "      <td></td>\n",
       "    </tr>\n",
       "    <tr>\n",
       "      <th>1</th>\n",
       "      <td>010013819934</td>\n",
       "      <td>RG02</td>\n",
       "      <td>010013819576</td>\n",
       "      <td>54.780687</td>\n",
       "      <td>-1.510651</td>\n",
       "      <td>E</td>\n",
       "      <td>0.0</td>\n",
       "      <td>0</td>\n",
       "      <td>NaN</td>\n",
       "      <td>0</td>\n",
       "      <td>...</td>\n",
       "      <td>SHERBURN</td>\n",
       "      <td>DURHAM</td>\n",
       "      <td>NaN</td>\n",
       "      <td>0</td>\n",
       "      <td>DH6 1JH</td>\n",
       "      <td>GARAGE SITE 53, DOWSEY ROAD</td>\n",
       "      <td>DOWSEY ROAD</td>\n",
       "      <td>, SHERBURN,</td>\n",
       "      <td>DH6 1</td>\n",
       "      <td></td>\n",
       "    </tr>\n",
       "    <tr>\n",
       "      <th>2</th>\n",
       "      <td>010014309637</td>\n",
       "      <td>RD04</td>\n",
       "      <td>200003655499</td>\n",
       "      <td>51.266510</td>\n",
       "      <td>0.497553</td>\n",
       "      <td>E</td>\n",
       "      <td>0.0</td>\n",
       "      <td>0</td>\n",
       "      <td>NaN</td>\n",
       "      <td>0</td>\n",
       "      <td>...</td>\n",
       "      <td>MAIDSTONE</td>\n",
       "      <td>KENT</td>\n",
       "      <td>NaN</td>\n",
       "      <td>0</td>\n",
       "      <td>ME16 8LD</td>\n",
       "      <td>ROOM 1, 85, MILTON STREET</td>\n",
       "      <td>MILTON STREET</td>\n",
       "      <td>, MAIDSTONE,</td>\n",
       "      <td>ME16 8</td>\n",
       "      <td>85</td>\n",
       "    </tr>\n",
       "    <tr>\n",
       "      <th>3</th>\n",
       "      <td>010033213520</td>\n",
       "      <td>RD01</td>\n",
       "      <td>010002821654</td>\n",
       "      <td>53.903252</td>\n",
       "      <td>-0.158754</td>\n",
       "      <td>E</td>\n",
       "      <td>0.0</td>\n",
       "      <td>0</td>\n",
       "      <td>NaN</td>\n",
       "      <td>0</td>\n",
       "      <td>...</td>\n",
       "      <td>HORNSEA</td>\n",
       "      <td>EAST RIDING OF YORKSHIRE</td>\n",
       "      <td>NaN</td>\n",
       "      <td>0</td>\n",
       "      <td>HU18 1TL</td>\n",
       "      <td>33 SOUTHFIELD, LONGBEACH LEISURE PARK, HORNSEA...</td>\n",
       "      <td>HORNSEA BURTON ROAD</td>\n",
       "      <td>, HORNSEA,</td>\n",
       "      <td>HU18 1</td>\n",
       "      <td></td>\n",
       "    </tr>\n",
       "    <tr>\n",
       "      <th>4</th>\n",
       "      <td>010033545757</td>\n",
       "      <td>RD06</td>\n",
       "      <td>100023479131</td>\n",
       "      <td>51.514983</td>\n",
       "      <td>-0.179260</td>\n",
       "      <td>E</td>\n",
       "      <td>0.0</td>\n",
       "      <td>0</td>\n",
       "      <td>NaN</td>\n",
       "      <td>0</td>\n",
       "      <td>...</td>\n",
       "      <td>LONDON</td>\n",
       "      <td>CITY OF WESTMINSTER</td>\n",
       "      <td>NaN</td>\n",
       "      <td>0</td>\n",
       "      <td>W2 3UJ</td>\n",
       "      <td>SECOND FLOOR, 58, WESTBOURNE TERRACE</td>\n",
       "      <td>WESTBOURNE TERRACE</td>\n",
       "      <td>, LONDON,</td>\n",
       "      <td>W2 3</td>\n",
       "      <td>58</td>\n",
       "    </tr>\n",
       "  </tbody>\n",
       "</table>\n",
       "<p>5 rows × 33 columns</p>\n",
       "</div>"
      ],
      "text/plain": [
       "           uprn class   parent_uprn   latitude  longitude country  legal_name  \\\n",
       "0  010012778289  RD02  000000000000  54.036005  -2.340833       E         0.0   \n",
       "1  010013819934  RG02  010013819576  54.780687  -1.510651       E         0.0   \n",
       "2  010014309637  RD04  200003655499  51.266510   0.497553       E         0.0   \n",
       "3  010033213520  RD01  010002821654  53.903252  -0.158754       E         0.0   \n",
       "4  010033545757  RD06  100023479131  51.514983  -0.179260       E         0.0   \n",
       "\n",
       "  sub_building_name building_name building_number  ...  town_name  \\\n",
       "0                 0           NaN               0  ...     SETTLE   \n",
       "1                 0           NaN               0  ...   SHERBURN   \n",
       "2                 0           NaN               0  ...  MAIDSTONE   \n",
       "3                 0           NaN               0  ...    HORNSEA   \n",
       "4                 0           NaN               0  ...     LONDON   \n",
       "\n",
       "        administrative_area  post_town postcode postcode_locator  \\\n",
       "0           NORTH YORKSHIRE        NaN        0         BD24 0LP   \n",
       "1                    DURHAM        NaN        0          DH6 1JH   \n",
       "2                      KENT        NaN        0         ME16 8LD   \n",
       "3  EAST RIDING OF YORKSHIRE        NaN        0         HU18 1TL   \n",
       "4       CITY OF WESTMINSTER        NaN        0           W2 3UJ   \n",
       "\n",
       "                                     parsed_address1  \\\n",
       "0  SCOUTBER END FARM, OLD OLIVER LANE TO RAGGED HALL   \n",
       "1                        GARAGE SITE 53, DOWSEY ROAD   \n",
       "2                          ROOM 1, 85, MILTON STREET   \n",
       "3  33 SOUTHFIELD, LONGBEACH LEISURE PARK, HORNSEA...   \n",
       "4               SECOND FLOOR, 58, WESTBOURNE TERRACE   \n",
       "\n",
       "                  parsed_address2  parsed_address3 postcode_sector  \\\n",
       "0  OLD OLIVER LANE TO RAGGED HALL       , SETTLE,           BD24 0   \n",
       "1                     DOWSEY ROAD     , SHERBURN,            DH6 1   \n",
       "2                   MILTON STREET    , MAIDSTONE,           ME16 8   \n",
       "3             HORNSEA BURTON ROAD      , HORNSEA,           HU18 1   \n",
       "4              WESTBOURNE TERRACE       , LONDON,             W2 3   \n",
       "\n",
       "  pao_start_num_suffix  \n",
       "0                       \n",
       "1                       \n",
       "2                   85  \n",
       "3                       \n",
       "4                   58  \n",
       "\n",
       "[5 rows x 33 columns]"
      ]
     },
     "execution_count": 26,
     "metadata": {},
     "output_type": "execute_result"
    }
   ],
   "source": [
    "resi_AB.head()"
   ]
  },
  {
   "cell_type": "markdown",
   "id": "c3fb7c08",
   "metadata": {},
   "source": [
    "Same data cleaning for Other AB"
   ]
  },
  {
   "cell_type": "code",
   "execution_count": 27,
   "id": "0e294c44",
   "metadata": {},
   "outputs": [],
   "source": [
    "other_AB['building_number'] = other_AB['building_number'].astype('Int64').astype('str') "
   ]
  },
  {
   "cell_type": "code",
   "execution_count": 28,
   "id": "54bda890",
   "metadata": {},
   "outputs": [],
   "source": [
    "other_AB['pao_start_number'] = other_AB['pao_start_number'].astype('Int64').astype('str') "
   ]
  },
  {
   "cell_type": "code",
   "execution_count": 29,
   "id": "facd60fa",
   "metadata": {},
   "outputs": [],
   "source": [
    "other_AB['pao_start_suffix'] = other_AB.apply(lambda x: np.where(x['pao_start_suffix']== 0, '', x['pao_start_suffix']), axis = 1)"
   ]
  },
  {
   "cell_type": "code",
   "execution_count": 30,
   "id": "4a99236d",
   "metadata": {},
   "outputs": [],
   "source": [
    "other_AB['pao_start_suffix'] = other_AB['pao_start_suffix'].astype(str)"
   ]
  },
  {
   "cell_type": "code",
   "execution_count": 31,
   "id": "131b4d33",
   "metadata": {},
   "outputs": [],
   "source": [
    "other_AB['pao_start_number'] = other_AB.apply(lambda x: np.where(x['pao_start_number']== '0', '', x['pao_start_number'] )  , axis = 1)"
   ]
  },
  {
   "cell_type": "code",
   "execution_count": 32,
   "id": "58874cb1",
   "metadata": {},
   "outputs": [],
   "source": [
    "other_AB['pao_start_number'] = other_AB['pao_start_number'].astype(str)"
   ]
  },
  {
   "cell_type": "code",
   "execution_count": 33,
   "id": "152ad19c",
   "metadata": {},
   "outputs": [],
   "source": [
    "# create new column 'pao_start_num_suffix' with the pao_start_number plus pa_start_suffix \n",
    "\n",
    "other_AB['pao_start_num_suffix'] = other_AB['pao_start_number'].astype(str) + other_AB['pao_start_suffix'].astype(str)"
   ]
  },
  {
   "cell_type": "markdown",
   "id": "0ecb015d",
   "metadata": {},
   "source": [
    "Data cleaning for planning application data"
   ]
  },
  {
   "cell_type": "code",
   "execution_count": 198,
   "id": "54dfd8e2",
   "metadata": {},
   "outputs": [
    {
     "data": {
      "text/plain": [
       "UCL ID                                  5229\n",
       "planning_application_number             5229\n",
       "lpa_name                                5229\n",
       "application_type                        5229\n",
       "application_type_full                   2299\n",
       "description                             5092\n",
       "number_of_units                          186\n",
       "manual_uprn                                2\n",
       "postcode_clean                          4534\n",
       "site_number_clean                       1830\n",
       "site_name_clean                         3344\n",
       "street_name                             3851\n",
       "site_name_LPA                           5227\n",
       "uprn_x                                   400\n",
       "decision                                4292\n",
       "status                                   707\n",
       "application_date                        4466\n",
       "decision_date                           4466\n",
       "PD_type                                 5229\n",
       "Full Address on Planning Application     388\n",
       "FPP_PA_Mix                                51\n",
       "parsed_street_LPA                        913\n",
       "concat_addr                             1376\n",
       "site_name_LPA_no_pc                     5229\n",
       "postcode_sector_x                       5229\n",
       "dtype: int64"
      ]
     },
     "execution_count": 198,
     "metadata": {},
     "output_type": "execute_result"
    }
   ],
   "source": [
    "england_data.count()"
   ]
  },
  {
   "cell_type": "code",
   "execution_count": 35,
   "id": "e4c96428",
   "metadata": {},
   "outputs": [
    {
     "data": {
      "text/plain": [
       "0       NaN\n",
       "1       NaN\n",
       "2       NaN\n",
       "3       NaN\n",
       "4       NaN\n",
       "       ... \n",
       "4665    NaN\n",
       "4666    NaN\n",
       "4667    NaN\n",
       "4668    NaN\n",
       "4669    NaN\n",
       "Name: uprn_x, Length: 4670, dtype: object"
      ]
     },
     "execution_count": 35,
     "metadata": {},
     "output_type": "execute_result"
    }
   ],
   "source": [
    "#check that uprn_x has NaNs and integers\n",
    "england_data['uprn_x']"
   ]
  },
  {
   "cell_type": "code",
   "execution_count": 36,
   "id": "74acf72f-612b-40cf-b6e9-353b7ca0f843",
   "metadata": {
    "tags": []
   },
   "outputs": [],
   "source": [
    "#BATCH 1 ONLY london_data has extra quotation marks, need to remove\n",
    "#london_data['uprn'] = london_data['uprn'].apply(lambda x: x.strip(\"''\") if not pd.isna(x) else x)\n"
   ]
  },
  {
   "cell_type": "code",
   "execution_count": 199,
   "id": "68b72a94-714d-4bc2-993f-a4342aae1f64",
   "metadata": {
    "tags": []
   },
   "outputs": [],
   "source": [
    "#clean the uprn_x column\n",
    "england_data['uprn_x'] = england_data['uprn_x'].astype('Int64', errors = 'ignore')"
   ]
  },
  {
   "cell_type": "code",
   "execution_count": 200,
   "id": "2cb84de6-9c8a-46b7-8079-a2d0feaa1a8b",
   "metadata": {
    "tags": []
   },
   "outputs": [],
   "source": [
    "#cast the strings and make sure it looks correct \n",
    "england_data['uprn_x'] = england_data['uprn_x'].astype('str') #apply(lambda x: str(x) if not pd.isna(x) else x)\n",
    "\n",
    "england_data['uprn_x'] = england_data['uprn_x'].apply(lambda x: '{0:0>12}'.format(x) if not pd.isna(x) else x)"
   ]
  },
  {
   "cell_type": "code",
   "execution_count": 201,
   "id": "e268f803-43d6-422d-a8d3-ea16f976ea71",
   "metadata": {
    "tags": []
   },
   "outputs": [],
   "source": [
    "#replace strings with Nan values\n",
    "england_data = england_data.replace('000000000nan',np.NaN)"
   ]
  },
  {
   "cell_type": "markdown",
   "id": "57361401",
   "metadata": {},
   "source": [
    "Ignore the creation of the columns below if columns already exist (such as when matching a batch for a second, third, etc. time)"
   ]
  },
  {
   "cell_type": "code",
   "execution_count": 273,
   "id": "5185cbad-13b5-4e16-a5f6-12c349dd89b2",
   "metadata": {
    "tags": []
   },
   "outputs": [],
   "source": [
    "#create street address from site_name_LPA\n",
    "london_data['parsed_street_LPA'] = london_data['site_name_LPA'].apply(lambda x: re.findall(\"[0-9]+.-?.[0-9]+?\\s(.+)(Road|Lane|Avenue|Parade|Courtyard|Street|Gardens|Drive)\", x) if not pd.isna(x) and '-' in x\n",
    "                                                                  else (re.findall(\"[0-9]+\\s(.+)(Road|Lane|Avenue|Parade|Courtyard|Street|Gardens|Drive)\", x) if not pd.isna(x) else []))\n"
   ]
  },
  {
   "cell_type": "code",
   "execution_count": 274,
   "id": "e31741b8-ad97-4ccc-96cc-5d2aecbc258f",
   "metadata": {
    "tags": []
   },
   "outputs": [],
   "source": [
    "london_data['parsed_street_LPA'] =  london_data['parsed_street_LPA'].apply(lambda x: x[0][0] + x[0][1]  if len(x) > 0 else None)"
   ]
  },
  {
   "cell_type": "markdown",
   "id": "25132bb9",
   "metadata": {},
   "source": [
    "Only execute fields with GLA if for Batch 1 or 2 (London Data)"
   ]
  },
  {
   "cell_type": "code",
   "execution_count": 275,
   "id": "46d0e2c6-a74a-4399-92d9-813f97ca4407",
   "metadata": {
    "tags": []
   },
   "outputs": [],
   "source": [
    "#cleaning - street address\n",
    "london_data['parsed_street_GLA'] = london_data['site_name_GLA'].apply(lambda x: re.findall(\"[0-9]+.-?.[0-9]+?\\s(.+)(Road|Lane|Avenue|Parade|Courtyard|Street|Gardens|Drive)\", x) if not pd.isna(x) and '-' in x\n",
    "                                                                  else (re.findall(\"[0-9]+\\s(.+)(Road|Lane|Avenue|Parade|Courtyard|Street|Gardens|Drive)\", x) if not pd.isna(x) else []))\n"
   ]
  },
  {
   "cell_type": "code",
   "execution_count": 276,
   "id": "91c78b6f-f3e5-4d06-92a3-fcdcbde921a7",
   "metadata": {
    "tags": []
   },
   "outputs": [],
   "source": [
    "london_data['parsed_street_GLA'] =  london_data['parsed_street_GLA'].apply(lambda x: x[0][0] + x[0][1]  if len(x) > 0 else None)"
   ]
  },
  {
   "cell_type": "code",
   "execution_count": 277,
   "id": "b23647b7-1efc-47b6-b392-71e3a42c3410",
   "metadata": {
    "tags": []
   },
   "outputs": [],
   "source": [
    "#if the original street was empty, then we want to use the LPA Or GLA parsed name as street_name \n",
    "\n",
    "london_data['street_name'] = np.where(london_data['street_name'].isnull(), np.where(london_data['parsed_street_LPA'].isnull(), london_data['parsed_street_GLA'], london_data['parsed_street_LPA']), london_data['street_name'] )"
   ]
  },
  {
   "cell_type": "markdown",
   "id": "ff978fe9",
   "metadata": {},
   "source": [
    "Continue here to clean data for all batches"
   ]
  },
  {
   "cell_type": "code",
   "execution_count": 41,
   "id": "64c11874",
   "metadata": {},
   "outputs": [],
   "source": [
    "# create new column with the number, street description, and the site name \n",
    "england_data['concat_addr'] = np.where(england_data['site_name_clean'].isnull(), '', england_data['site_name_clean'] +  ', ' ) + england_data['site_number_clean'] + ', ' +  england_data['street_name']"
   ]
  },
  {
   "cell_type": "code",
   "execution_count": 42,
   "id": "6570e4c9",
   "metadata": {},
   "outputs": [],
   "source": [
    "england_data['concat_addr'] = england_data['concat_addr'].str.upper()"
   ]
  },
  {
   "cell_type": "code",
   "execution_count": 43,
   "id": "86564adf-dc20-4480-8e7a-b5169c2b006f",
   "metadata": {
    "tags": []
   },
   "outputs": [],
   "source": [
    "#make street names all into capitals to regularize\n",
    "england_data['street_name'] = england_data['street_name'].str.upper()"
   ]
  },
  {
   "cell_type": "code",
   "execution_count": 44,
   "id": "f076f21a",
   "metadata": {},
   "outputs": [],
   "source": [
    "#remove unwanted characters\n",
    "england_data['postcode_clean'] = england_data['postcode_clean'].replace('x000D__x000D_\\n', '')"
   ]
  },
  {
   "cell_type": "code",
   "execution_count": 45,
   "id": "7983ae57",
   "metadata": {},
   "outputs": [],
   "source": [
    "england_data = england_data.replace({'_x000D__x000D_\\n': ' ', '_x000d__x000d_\\n': ' ' }, regex = True)"
   ]
  },
  {
   "cell_type": "code",
   "execution_count": 212,
   "id": "6b8877e7",
   "metadata": {},
   "outputs": [],
   "source": [
    "#remove white space\n",
    "england_data['postcode_clean'] = england_data['postcode_clean'].apply(lambda x: str(x).strip())"
   ]
  },
  {
   "cell_type": "code",
   "execution_count": 213,
   "id": "90f26137",
   "metadata": {},
   "outputs": [],
   "source": [
    "#add column with postcode sector\n",
    "england_data['postcode_sector'] = england_data['postcode_clean'].apply(lambda x: x[:-2])"
   ]
  },
  {
   "cell_type": "code",
   "execution_count": 48,
   "id": "2aff7441",
   "metadata": {},
   "outputs": [
    {
     "ename": "NameError",
     "evalue": "name 'london_data' is not defined",
     "output_type": "error",
     "traceback": [
      "\u001b[0;31m---------------------------------------------------------------------------\u001b[0m",
      "\u001b[0;31mNameError\u001b[0m                                 Traceback (most recent call last)",
      "Cell \u001b[0;32mIn[48], line 2\u001b[0m\n\u001b[1;32m      1\u001b[0m \u001b[38;5;66;03m#substring of site_name_GLA without the postcode .... \u001b[39;00m\n\u001b[0;32m----> 2\u001b[0m london_data[\u001b[38;5;124m'\u001b[39m\u001b[38;5;124msite_name_GLA_no_pc\u001b[39m\u001b[38;5;124m'\u001b[39m] \u001b[38;5;241m=\u001b[39m \u001b[43mlondon_data\u001b[49m\u001b[38;5;241m.\u001b[39mapply(\u001b[38;5;28;01mlambda\u001b[39;00m row: \u001b[38;5;28mstr\u001b[39m(row[\u001b[38;5;124m'\u001b[39m\u001b[38;5;124msite_name_GLA\u001b[39m\u001b[38;5;124m'\u001b[39m])\u001b[38;5;241m.\u001b[39mupper()\u001b[38;5;241m.\u001b[39mreplace(\u001b[38;5;124m'\u001b[39m\u001b[38;5;124m, \u001b[39m\u001b[38;5;124m'\u001b[39m \u001b[38;5;241m+\u001b[39m row[\u001b[38;5;124m'\u001b[39m\u001b[38;5;124mpostcode_clean\u001b[39m\u001b[38;5;124m'\u001b[39m], \u001b[38;5;124m'\u001b[39m\u001b[38;5;124m'\u001b[39m), axis \u001b[38;5;241m=\u001b[39m \u001b[38;5;241m1\u001b[39m)\n",
      "\u001b[0;31mNameError\u001b[0m: name 'london_data' is not defined"
     ]
    }
   ],
   "source": [
    "#substring of site_name_GLA without the postcode .... \n",
    "london_data['site_name_GLA_no_pc'] = london_data.apply(lambda row: str(row['site_name_GLA']).upper().replace(', ' + row['postcode_clean'], ''), axis = 1)"
   ]
  },
  {
   "cell_type": "code",
   "execution_count": 49,
   "id": "2fae9845",
   "metadata": {},
   "outputs": [],
   "source": [
    "england_data['site_name_LPA_no_pc'] = england_data.apply(lambda row: str(row['site_name_LPA']).replace(row['postcode_clean'], '').rstrip(', ').upper(), axis = 1)\n"
   ]
  },
  {
   "cell_type": "markdown",
   "id": "53c6246b",
   "metadata": {},
   "source": [
    "# Data matching"
   ]
  },
  {
   "cell_type": "markdown",
   "id": "8006f0f2",
   "metadata": {},
   "source": [
    "### Residential Class matching - Use only the addresses in AddressBase that are classified as Residential Uses"
   ]
  },
  {
   "cell_type": "markdown",
   "id": "1cf8f738",
   "metadata": {},
   "source": [
    "UPRN MATCHING: If reprocessing data that has already been matched, Ignore the Data matching on the UPRN / Parent UPRN"
   ]
  },
  {
   "cell_type": "code",
   "execution_count": 206,
   "id": "165b7859-ce81-4d40-ab87-e19f63f395f1",
   "metadata": {},
   "outputs": [],
   "source": [
    "#### -------- DATA MERGING --------\n",
    "#join the london data with the RESIDENTIAL AddressBase dataset on UPRN\n",
    "merged = england_data.merge(resi_AB, how = 'left', left_on = 'uprn_x', right_on = 'parent_uprn')"
   ]
  },
  {
   "cell_type": "code",
   "execution_count": 207,
   "id": "8a912217",
   "metadata": {},
   "outputs": [
    {
     "data": {
      "text/plain": [
       "4670"
      ]
     },
     "execution_count": 207,
     "metadata": {},
     "output_type": "execute_result"
    }
   ],
   "source": [
    "merged['UCL ID'].nunique()"
   ]
  },
  {
   "cell_type": "code",
   "execution_count": 33,
   "id": "20c4535f-d653-4014-aa0a-594d74d508bf",
   "metadata": {
    "tags": []
   },
   "outputs": [],
   "source": [
    "#separate merged into no match and match \n",
    "merged_match, merged_no_match = separate_matches(merged, 'parent_uprn', 'parent_uprn')\n",
    "\n",
    "merged_no_match = merged_no_match.dropna(axis=1, how='all')"
   ]
  },
  {
   "cell_type": "code",
   "execution_count": 34,
   "id": "0bc94052-a4b0-4f8b-ab48-962d4b59a966",
   "metadata": {
    "tags": []
   },
   "outputs": [],
   "source": [
    "#merge 2 on uprn not parent_uprn \n",
    "merged_2 = merged_no_match.merge(resi_AB, how = 'left', left_on = 'uprn_x', right_on = 'uprn')"
   ]
  },
  {
   "cell_type": "code",
   "execution_count": 35,
   "id": "040b81bd-843c-4d4d-b4f3-262ac6ea6297",
   "metadata": {
    "tags": []
   },
   "outputs": [],
   "source": [
    "#separate the merge 2 into two datasets for match v not match \n",
    "merged_2_match, merged_2_no_match = separate_matches(merged_2, 'uprn', 'uprn')\n",
    "\n",
    "merged_2_no_match = merged_2_no_match.dropna(axis=1, how='all')      "
   ]
  },
  {
   "cell_type": "code",
   "execution_count": 36,
   "id": "ab0f9b30-ea0f-4385-b318-b411f7cd0a62",
   "metadata": {
    "tags": []
   },
   "outputs": [],
   "source": [
    "merged_2_match = merged_2_match.rename(columns={\"uprn\": \"uprn_OSAB\"})\n",
    "merged_match = merged_match.rename(columns={\"uprn_y\": \"uprn_OSAB\"})\n",
    "\n",
    "#merged_2_match.count()"
   ]
  },
  {
   "cell_type": "code",
   "execution_count": 37,
   "id": "7fc90bc5-3f98-4673-bb39-ecf74d8e7079",
   "metadata": {
    "tags": []
   },
   "outputs": [],
   "source": [
    "all_matched = pd.concat([merged_2_match, merged_match])\n"
   ]
  },
  {
   "cell_type": "markdown",
   "id": "8e19e1c5",
   "metadata": {},
   "source": [
    "ADDRESS MATCHING: For all matching versions: Address matching starts here"
   ]
  },
  {
   "cell_type": "code",
   "execution_count": 215,
   "id": "3b44d18f",
   "metadata": {},
   "outputs": [],
   "source": [
    "# drop the extra column postcode_sector_x\n",
    "england_data = england_data.drop(columns=['postcode_sector_x'])"
   ]
  },
  {
   "cell_type": "code",
   "execution_count": 231,
   "id": "a072c78d",
   "metadata": {},
   "outputs": [],
   "source": [
    "merged_2_no_match = england_data"
   ]
  },
  {
   "cell_type": "markdown",
   "id": "d3da343b",
   "metadata": {},
   "source": [
    "-------- DATA MERGING --------  STRATEGY 1 ADDRESS MATCH\n",
    "\n",
    "Skipped for Batch 3 because it uses a field that Batch 3 doesn't have, the site name GLA for London data only  \n",
    "'site_name_GLA_no_pc' <> 'parsed_address1' and 'postcode_clean' <> 'postcode_locator'. "
   ]
  },
  {
   "cell_type": "code",
   "execution_count": 232,
   "id": "e800933c-6c15-4721-a906-9b3be0082eb0",
   "metadata": {
    "tags": []
   },
   "outputs": [
    {
     "data": {
      "text/plain": [
       "0"
      ]
     },
     "execution_count": 232,
     "metadata": {},
     "output_type": "execute_result"
    }
   ],
   "source": [
    "#### ADDRESS Strategy 2 - use the site name LPA without post code ...\n",
    "left_columns_2 = ['site_name_LPA_no_pc', 'postcode_clean'] #London Data \n",
    "right_columns_2 = ['parsed_address1', 'postcode_locator'] #AB\n",
    "\n",
    "merged_on_address2_match, merged_on_address2_no_match = my_merge(merged_2_no_match, resi_AB, left_columns_2, right_columns_2)\n",
    "\n",
    "merged_on_address2_match['UCL ID'].nunique()"
   ]
  },
  {
   "cell_type": "code",
   "execution_count": 233,
   "id": "ecde76ef-a35b-4da0-baea-a37a0f3cbc3d",
   "metadata": {
    "tags": []
   },
   "outputs": [],
   "source": [
    "merged_on_address2_match = merged_on_address2_match.rename(columns={\"uprn\": \"uprn_OSAB\"})\n",
    "merged_on_address2_match['match_strategy'] = 'address_2'\n",
    "\n",
    "all_matched =  merged_on_address2_match\n",
    "\n",
    "merged_on_address2_no_match = merged_on_address2_no_match.dropna(axis=1, how='all')\n"
   ]
  },
  {
   "cell_type": "markdown",
   "id": "f70433ff",
   "metadata": {},
   "source": [
    "-------- DATA MERGING: STRATEGY 3 ADDRESS MATCH\n",
    "\n",
    "Skipped for Batch 3 because it uses a field that Batch 3 doesn't have, the site name GLA for London data only  \n",
    "'site_name_GLA_no_pc' <> 'parsed_address2' and 'postcode_clean' <> 'postcode_locator'. "
   ]
  },
  {
   "cell_type": "code",
   "execution_count": 234,
   "id": "d9c34df6",
   "metadata": {},
   "outputs": [
    {
     "data": {
      "text/plain": [
       "0"
      ]
     },
     "execution_count": 234,
     "metadata": {},
     "output_type": "execute_result"
    }
   ],
   "source": [
    "#### ADDRESS Strategy 4 \n",
    "left_columns_4 = ['site_name_LPA_no_pc', 'postcode_clean']  #London Data \n",
    "right_columns_4 = ['parsed_address2', 'postcode_locator'] #AB\n",
    "\n",
    "merged_on_address4_match, merged_on_address4_no_match = my_merge(merged_on_address2_no_match, resi_AB, left_columns_4, right_columns_4)\n",
    "merged_on_address4_match['UCL ID'].nunique()"
   ]
  },
  {
   "cell_type": "code",
   "execution_count": 235,
   "id": "bbe05b28",
   "metadata": {},
   "outputs": [],
   "source": [
    "merged_on_address4_match = merged_on_address4_match.rename(columns={\"uprn\": \"uprn_OSAB\"})\n",
    "merged_on_address4_match['match_strategy'] = 'address_4'\n",
    "\n",
    "frames = [all_matched, merged_on_address4_match]\n",
    "\n",
    "all_matched = pd.concat(frames)\n",
    "merged_on_address4_no_match = merged_on_address4_no_match.dropna(axis=1, how='all')"
   ]
  },
  {
   "cell_type": "code",
   "execution_count": 236,
   "id": "ef23d683",
   "metadata": {},
   "outputs": [
    {
     "data": {
      "text/plain": [
       "0"
      ]
     },
     "execution_count": 236,
     "metadata": {},
     "output_type": "execute_result"
    }
   ],
   "source": [
    "## Strategy 5 \n",
    "#match on the street number, street name, postcode \n",
    "\n",
    "left_columns_5 = ['concat_addr', 'postcode_clean']\n",
    "right_columns_5 = ['parsed_address1', 'postcode_locator']\n",
    "\n",
    "merged_on_address5_match, merged_on_address5_no_match = my_merge(merged_on_address4_no_match, resi_AB, left_columns_5, right_columns_5)\n",
    "merged_on_address5_match['UCL ID'].nunique()"
   ]
  },
  {
   "cell_type": "code",
   "execution_count": 237,
   "id": "94a48a31",
   "metadata": {},
   "outputs": [],
   "source": [
    "merged_on_address5_match = merged_on_address5_match.rename(columns={\"uprn\": \"uprn_OSAB\"})\n",
    "merged_on_address5_match['match_strategy'] = 'address_5'\n",
    "\n",
    "frames = [all_matched, merged_on_address5_match]\n",
    "\n",
    "all_matched = pd.concat(frames)\n",
    "merged_on_address5_no_match = merged_on_address5_no_match.dropna(axis=1, how='all')"
   ]
  },
  {
   "cell_type": "code",
   "execution_count": 238,
   "id": "ca18c688",
   "metadata": {},
   "outputs": [],
   "source": [
    "## Strategy 6\n",
    "left_columns_6 = ['concat_addr', 'postcode_clean']\n",
    "right_columns_6 = ['parsed_address2', 'postcode_locator']\n",
    "\n",
    "merged_on_address6_match, merged_on_address6_no_match = my_merge(merged_on_address5_no_match, resi_AB, left_columns_6, right_columns_6)"
   ]
  },
  {
   "cell_type": "code",
   "execution_count": 239,
   "id": "87011981",
   "metadata": {},
   "outputs": [
    {
     "data": {
      "text/plain": [
       "0"
      ]
     },
     "execution_count": 239,
     "metadata": {},
     "output_type": "execute_result"
    }
   ],
   "source": [
    "merged_on_address6_match['UCL ID'].nunique()"
   ]
  },
  {
   "cell_type": "code",
   "execution_count": 240,
   "id": "fb9f695b",
   "metadata": {},
   "outputs": [],
   "source": [
    "merged_on_address6_match = merged_on_address6_match.rename(columns={\"uprn\": \"uprn_OSAB\"})\n",
    "merged_on_address6_match['match_strategy'] = 'address_6'\n",
    "\n",
    "frames = [all_matched, merged_on_address6_match]\n",
    "\n",
    "all_matched = pd.concat(frames)\n",
    "merged_on_address6_no_match = merged_on_address6_no_match.dropna(axis=1, how='all')"
   ]
  },
  {
   "cell_type": "code",
   "execution_count": 241,
   "id": "e226b558",
   "metadata": {},
   "outputs": [],
   "source": [
    "## Strategy 7\n",
    "left_columns_7 = ['site_number_clean', 'street_name', 'postcode_clean']\n",
    "right_columns_7 = ['pao_start_num_suffix', 'street_description', 'postcode_locator']\n",
    "\n",
    "merged_on_address7_match, merged_on_address7_no_match = my_merge(merged_on_address6_no_match, resi_AB, left_columns_7, right_columns_7)"
   ]
  },
  {
   "cell_type": "code",
   "execution_count": 242,
   "id": "434c4229",
   "metadata": {},
   "outputs": [
    {
     "data": {
      "text/plain": [
       "156"
      ]
     },
     "execution_count": 242,
     "metadata": {},
     "output_type": "execute_result"
    }
   ],
   "source": [
    "merged_on_address7_match['UCL ID'].nunique()"
   ]
  },
  {
   "cell_type": "code",
   "execution_count": 243,
   "id": "2830d078",
   "metadata": {},
   "outputs": [],
   "source": [
    "merged_on_address7_match = merged_on_address7_match.rename(columns={\"uprn\": \"uprn_OSAB\"})\n",
    "merged_on_address7_match['match_strategy'] = 'address_7'\n",
    "\n",
    "frames = [all_matched, merged_on_address7_match]\n",
    "\n",
    "all_matched = pd.concat(frames)\n",
    "merged_on_address7_no_match = merged_on_address7_no_match.dropna(axis=1, how='all')"
   ]
  },
  {
   "cell_type": "code",
   "execution_count": 244,
   "id": "87f0f744",
   "metadata": {},
   "outputs": [],
   "source": [
    "### strategy 8 \n",
    "left_columns_8 = ['site_number_clean', 'street_name', 'postcode_sector_x']\n",
    "right_columns_8 = ['pao_start_num_suffix', 'street_description', 'postcode_sector']\n",
    "\n",
    "merged_on_address8_match, merged_on_address8_no_match = my_merge(merged_on_address7_no_match, resi_AB, left_columns_8, right_columns_8)\n"
   ]
  },
  {
   "cell_type": "code",
   "execution_count": 245,
   "id": "2cac13dd",
   "metadata": {},
   "outputs": [
    {
     "data": {
      "text/plain": [
       "39"
      ]
     },
     "execution_count": 245,
     "metadata": {},
     "output_type": "execute_result"
    }
   ],
   "source": [
    "merged_on_address8_match['UCL ID'].nunique()"
   ]
  },
  {
   "cell_type": "code",
   "execution_count": 247,
   "id": "febcea38",
   "metadata": {},
   "outputs": [],
   "source": [
    "merged_on_address8_match = merged_on_address8_match.rename(columns={\"uprn\": \"uprn_OSAB\"})\n",
    "merged_on_address8_match['match_strategy'] = 'address_8'\n",
    "\n",
    "frames = [all_matched, merged_on_address8_match]\n",
    "\n",
    "all_matched = pd.concat(frames)\n",
    "merged_on_address8_no_match = merged_on_address8_no_match.dropna(axis=1, how='all')"
   ]
  },
  {
   "cell_type": "code",
   "execution_count": 248,
   "id": "0d803dc2",
   "metadata": {},
   "outputs": [],
   "source": [
    "### strategy 9 \n",
    "left_columns_9 = ['site_number_clean', 'street_name', 'postcode_clean']\n",
    "right_columns_9 = ['pao_start_number', 'street_description', 'postcode_locator']\n",
    "\n",
    "merged_on_address9_match, merged_on_address9_no_match = my_merge(merged_on_address8_no_match, resi_AB, left_columns_9, right_columns_9)\n"
   ]
  },
  {
   "cell_type": "code",
   "execution_count": 249,
   "id": "09ed32bb",
   "metadata": {},
   "outputs": [
    {
     "data": {
      "text/plain": [
       "26"
      ]
     },
     "execution_count": 249,
     "metadata": {},
     "output_type": "execute_result"
    }
   ],
   "source": [
    "merged_on_address9_match['UCL ID'].nunique()"
   ]
  },
  {
   "cell_type": "code",
   "execution_count": 250,
   "id": "f90b8d51",
   "metadata": {},
   "outputs": [],
   "source": [
    "merged_on_address9_match = merged_on_address9_match.rename(columns={\"uprn\": \"uprn_OSAB\"})\n",
    "merged_on_address9_match['match_strategy'] = 'address_9'\n",
    "\n",
    "frames = [all_matched, merged_on_address9_match]\n",
    "\n",
    "all_matched = pd.concat(frames)\n",
    "merged_on_address9_no_match = merged_on_address9_no_match.dropna(axis=1, how='all')"
   ]
  },
  {
   "cell_type": "code",
   "execution_count": 251,
   "id": "b51ed326",
   "metadata": {},
   "outputs": [],
   "source": [
    "### strategy 10 \n",
    "left_columns_10 = ['site_number_clean', 'street_name', 'postcode_sector_x']\n",
    "right_columns_10 = ['pao_start_number', 'street_description', 'postcode_sector']\n",
    "\n",
    "merged_on_address10_match, merged_on_address10_no_match = my_merge(merged_on_address9_no_match, resi_AB, left_columns_10, right_columns_10)\n"
   ]
  },
  {
   "cell_type": "code",
   "execution_count": 252,
   "id": "70fbad4c",
   "metadata": {},
   "outputs": [
    {
     "data": {
      "text/plain": [
       "9"
      ]
     },
     "execution_count": 252,
     "metadata": {},
     "output_type": "execute_result"
    }
   ],
   "source": [
    "merged_on_address10_match['UCL ID'].nunique()"
   ]
  },
  {
   "cell_type": "code",
   "execution_count": 253,
   "id": "d5cb4410",
   "metadata": {},
   "outputs": [],
   "source": [
    "merged_on_address10_match = merged_on_address10_match.rename(columns={\"uprn\": \"uprn_OSAB\"})\n",
    "merged_on_address10_match['match_strategy'] = 'address_10'\n",
    "\n",
    "frames = [all_matched, merged_on_address10_match]\n",
    "\n",
    "all_matched = pd.concat(frames)\n",
    "merged_on_address10_no_match = merged_on_address10_no_match.dropna(axis=1, how='all')"
   ]
  },
  {
   "cell_type": "markdown",
   "id": "f7cdc3f1",
   "metadata": {},
   "source": [
    "Strategy 11: Skip for Batch 3 because London specific. Uses site_name_GLA field \n",
    "\n",
    " 'site_name_GLA_no_pc' <> 'parsed_address1'\n",
    " 'postcode_sector_x' <> 'postcode_sector'\n"
   ]
  },
  {
   "cell_type": "code",
   "execution_count": 254,
   "id": "b055f696",
   "metadata": {},
   "outputs": [],
   "source": [
    "### strategy 12 \n",
    "left_columns_12 = ['site_name_LPA_no_pc',  'postcode_sector_x']\n",
    "right_columns_12 = ['parsed_address1',  'postcode_sector']\n",
    "\n",
    "merged_on_address12_match, merged_on_address12_no_match = my_merge(merged_on_address10_no_match, resi_AB, left_columns_12, right_columns_12)\n"
   ]
  },
  {
   "cell_type": "code",
   "execution_count": 255,
   "id": "31818ebb",
   "metadata": {},
   "outputs": [
    {
     "data": {
      "text/plain": [
       "0"
      ]
     },
     "execution_count": 255,
     "metadata": {},
     "output_type": "execute_result"
    }
   ],
   "source": [
    "merged_on_address12_match['UCL ID'].nunique()"
   ]
  },
  {
   "cell_type": "code",
   "execution_count": 256,
   "id": "2d05d7e2",
   "metadata": {},
   "outputs": [],
   "source": [
    "merged_on_address12_match = merged_on_address12_match.rename(columns={\"uprn\": \"uprn_OSAB\"})\n",
    "merged_on_address12_match['match_strategy'] = 'address_12'\n",
    "\n",
    "frames = [all_matched, merged_on_address12_match]\n",
    "\n",
    "all_matched = pd.concat(frames)\n",
    "merged_on_address12_no_match = merged_on_address12_no_match.dropna(axis=1, how='all')"
   ]
  },
  {
   "cell_type": "markdown",
   "id": "55dc70c8",
   "metadata": {},
   "source": [
    "Strategy 13: Skip for Batch 3 because London specific. Uses site_name_GLA field \n",
    "\n",
    " 'site_name_GLA_no_pc' <> 'parsed_address2'\n",
    " 'postcode_sector_x' <> 'postcode_sector'\n"
   ]
  },
  {
   "cell_type": "code",
   "execution_count": 257,
   "id": "2851f92d",
   "metadata": {},
   "outputs": [],
   "source": [
    "### strategy 14\n",
    "left_columns_14 = ['site_name_LPA_no_pc',  'postcode_sector_x']\n",
    "right_columns_14 = ['parsed_address2',  'postcode_sector']\n",
    "\n",
    "merged_on_address14_match, merged_on_address14_no_match = my_merge(merged_on_address12_no_match, resi_AB, left_columns_14, right_columns_14)\n"
   ]
  },
  {
   "cell_type": "code",
   "execution_count": 258,
   "id": "5a947ba3",
   "metadata": {},
   "outputs": [
    {
     "data": {
      "text/plain": [
       "0"
      ]
     },
     "execution_count": 258,
     "metadata": {},
     "output_type": "execute_result"
    }
   ],
   "source": [
    "merged_on_address14_match['UCL ID'].nunique()"
   ]
  },
  {
   "cell_type": "code",
   "execution_count": 259,
   "id": "e8e977cd",
   "metadata": {},
   "outputs": [],
   "source": [
    "merged_on_address14_match = merged_on_address14_match.rename(columns={\"uprn\": \"uprn_OSAB\"})\n",
    "merged_on_address14_match['match_strategy'] = 'address_14'\n",
    "\n",
    "frames = [all_matched, merged_on_address14_match]\n",
    "\n",
    "all_matched = pd.concat(frames)\n",
    "merged_on_address14_no_match = merged_on_address14_no_match.dropna(axis=1, how='all')"
   ]
  },
  {
   "cell_type": "markdown",
   "id": "7a2d647b",
   "metadata": {},
   "source": [
    " Realized Strategy 15 is redundant "
   ]
  },
  {
   "cell_type": "markdown",
   "id": "d337a816",
   "metadata": {},
   "source": [
    "### strategy 15\n",
    "left_columns_15 = ['site_number_clean', 'street_name',  'postcode_sector_x']\n",
    "right_columns_15 = ['pao_start_number', 'street_description',   'postcode_sector']\n",
    "\n",
    "merged_on_address15_match, merged_on_address15_no_match = my_merge(merged_on_address14_no_match, resi_AB, left_columns_15, right_columns_15)\n"
   ]
  },
  {
   "cell_type": "markdown",
   "id": "0ee83dab",
   "metadata": {},
   "source": [
    "merged_on_address15_match['UCL ID'].nunique()"
   ]
  },
  {
   "cell_type": "markdown",
   "id": "fdf587f4",
   "metadata": {},
   "source": [
    "merged_on_address15_match = merged_on_address15_match.rename(columns={\"uprn\": \"uprn_OSAB\"})\n",
    "merged_on_address15_match['match_strategy'] = 'address_15'\n",
    "\n",
    "frames = [all_matched, merged_on_address15_match]\n",
    "\n",
    "all_matched = pd.concat(frames)\n",
    "merged_on_address15_no_match = merged_on_address15_no_match.dropna(axis=1, how='all')"
   ]
  },
  {
   "cell_type": "code",
   "execution_count": 285,
   "id": "f2d04789",
   "metadata": {},
   "outputs": [
    {
     "data": {
      "text/plain": [
       "22"
      ]
     },
     "execution_count": 285,
     "metadata": {},
     "output_type": "execute_result"
    }
   ],
   "source": [
    "## Strategy 16 \n",
    "left_columns_16 = ['concat_addr', 'lpa_name']\n",
    "right_columns_16 = ['parsed_address1', 'administrative_area']\n",
    "\n",
    "merged_on_address14_no_match['lpa_name'] = merged_on_address14_no_match['lpa_name'].str.upper()\n",
    "\n",
    "merged_on_address16_match, merged_on_address16_no_match = my_merge(merged_on_address14_no_match, resi_AB, left_columns_16, right_columns_16)\n",
    "\n",
    "merged_on_address16_match['UCL ID'].nunique()"
   ]
  },
  {
   "cell_type": "code",
   "execution_count": 286,
   "id": "561f6c90",
   "metadata": {},
   "outputs": [],
   "source": [
    "merged_on_address16_match = merged_on_address16_match.rename(columns={\"uprn\": \"uprn_OSAB\"})\n",
    "merged_on_address16_match['match_strategy'] = 'address_16'\n",
    "\n",
    "frames = [all_matched, merged_on_address16_match]\n",
    "\n",
    "all_matched = pd.concat(frames)\n",
    "merged_on_address16_no_match = merged_on_address16_no_match.dropna(axis=1, how='all')"
   ]
  },
  {
   "cell_type": "code",
   "execution_count": 287,
   "id": "8ba12173",
   "metadata": {},
   "outputs": [
    {
     "data": {
      "text/plain": [
       "0"
      ]
     },
     "execution_count": 287,
     "metadata": {},
     "output_type": "execute_result"
    }
   ],
   "source": [
    "## Strategy 17 \n",
    "left_columns_17 = ['concat_addr', 'lpa_name']\n",
    "right_columns_17 = ['parsed_address2', 'administrative_area']\n",
    "\n",
    "merged_on_address17_match, merged_on_address17_no_match = my_merge(merged_on_address16_no_match, resi_AB, left_columns_17, right_columns_17)\n",
    "\n",
    "merged_on_address17_match['UCL ID'].nunique()"
   ]
  },
  {
   "cell_type": "code",
   "execution_count": 288,
   "id": "dce20544",
   "metadata": {},
   "outputs": [],
   "source": [
    "merged_on_address17_match = merged_on_address17_match.rename(columns={\"uprn\": \"uprn_OSAB\"})\n",
    "merged_on_address17_match['match_strategy'] = 'address_17'\n",
    "\n",
    "frames = [all_matched, merged_on_address17_match]\n",
    "\n",
    "all_matched = pd.concat(frames)\n",
    "merged_on_address17_no_match = merged_on_address17_no_match.dropna(axis=1, how='all')"
   ]
  },
  {
   "cell_type": "code",
   "execution_count": 289,
   "id": "f06d7685",
   "metadata": {},
   "outputs": [
    {
     "data": {
      "text/plain": [
       "0"
      ]
     },
     "execution_count": 289,
     "metadata": {},
     "output_type": "execute_result"
    }
   ],
   "source": [
    "#Strategy 18 \n",
    "left_columns_18 = ['site_name_clean', 'street_name','postcode_clean']\n",
    "right_columns_18 = ['pao_text', 'street_description','postcode_locator']\n",
    "\n",
    "merged_on_address18_match, merged_on_address18_no_match = my_merge(merged_on_address17_no_match, resi_AB, left_columns_18, right_columns_18)\n",
    "\n",
    "merged_on_address18_match['UCL ID'].nunique()"
   ]
  },
  {
   "cell_type": "code",
   "execution_count": 290,
   "id": "649bb4fa",
   "metadata": {},
   "outputs": [],
   "source": [
    "merged_on_address18_match = merged_on_address18_match.rename(columns={\"uprn\": \"uprn_OSAB\"})\n",
    "merged_on_address18_match['match_strategy'] = 'address_18'\n",
    "\n",
    "frames = [all_matched, merged_on_address18_match]\n",
    "\n",
    "all_matched = pd.concat(frames)\n",
    "merged_on_address18_no_match = merged_on_address18_no_match.dropna(axis=1, how='all')"
   ]
  },
  {
   "cell_type": "code",
   "execution_count": 291,
   "id": "86be878c",
   "metadata": {},
   "outputs": [
    {
     "data": {
      "text/plain": [
       "151"
      ]
     },
     "execution_count": 291,
     "metadata": {},
     "output_type": "execute_result"
    }
   ],
   "source": [
    "#Strategy 19 \n",
    "left_columns_19 = ['site_number_clean', 'site_name_clean','postcode_clean']\n",
    "right_columns_19 = ['pao_start_number', 'building_name','postcode_locator']\n",
    "\n",
    "merged_on_address19_match, merged_on_address19_no_match = my_merge(merged_on_address18_no_match, resi_AB, left_columns_19, right_columns_19)\n",
    "\n",
    "merged_on_address19_match['UCL ID'].nunique()"
   ]
  },
  {
   "cell_type": "code",
   "execution_count": 292,
   "id": "b97afdc0",
   "metadata": {},
   "outputs": [],
   "source": [
    "merged_on_address19_match = merged_on_address19_match.rename(columns={\"uprn\": \"uprn_OSAB\"})\n",
    "merged_on_address19_match['match_strategy'] = 'address_19'\n",
    "\n",
    "frames = [all_matched, merged_on_address19_match]\n",
    "\n",
    "all_matched = pd.concat(frames)\n",
    "merged_on_address19_no_match = merged_on_address19_no_match.dropna(axis=1, how='all')"
   ]
  },
  {
   "cell_type": "code",
   "execution_count": 293,
   "id": "07b126a4",
   "metadata": {},
   "outputs": [
    {
     "data": {
      "text/plain": [
       "5"
      ]
     },
     "execution_count": 293,
     "metadata": {},
     "output_type": "execute_result"
    }
   ],
   "source": [
    "#Strategy 20 \n",
    "left_columns_20 = ['site_number_clean', 'site_name_clean','postcode_clean']\n",
    "right_columns_20 = ['building_number', 'building_name','postcode_locator']\n",
    "\n",
    "merged_on_address20_match, merged_on_address20_no_match = my_merge(merged_on_address19_no_match, resi_AB, left_columns_20, right_columns_20)\n",
    "\n",
    "merged_on_address20_match['UCL ID'].nunique()"
   ]
  },
  {
   "cell_type": "code",
   "execution_count": 294,
   "id": "b829f00b",
   "metadata": {},
   "outputs": [],
   "source": [
    "merged_on_address20_match = merged_on_address20_match.rename(columns={\"uprn\": \"uprn_OSAB\"})\n",
    "merged_on_address20_match['match_strategy'] = 'address_20'\n",
    "\n",
    "frames = [all_matched, merged_on_address20_match]\n",
    "\n",
    "all_matched = pd.concat(frames)\n",
    "merged_on_address20_no_match = merged_on_address20_no_match.dropna(axis=1, how='all')"
   ]
  },
  {
   "cell_type": "code",
   "execution_count": 295,
   "id": "128f5184",
   "metadata": {},
   "outputs": [
    {
     "data": {
      "text/plain": [
       "0"
      ]
     },
     "execution_count": 295,
     "metadata": {},
     "output_type": "execute_result"
    }
   ],
   "source": [
    "#Strategy 21 \n",
    "left_columns_21 = ['site_name_LPA_no_pc','postcode_clean']\n",
    "right_columns_21 = ['parsed_address3','postcode_locator']\n",
    "#'building_name', 'town_name', 'post_town'\n",
    "\n",
    "merged_on_address21_match, merged_on_address21_no_match = my_merge(merged_on_address20_no_match, resi_AB, left_columns_21, right_columns_21)\n",
    "\n",
    "merged_on_address21_match['UCL ID'].nunique()"
   ]
  },
  {
   "cell_type": "code",
   "execution_count": 296,
   "id": "98ef3ab5",
   "metadata": {},
   "outputs": [],
   "source": [
    "merged_on_address21_match = merged_on_address21_match.rename(columns={\"uprn\": \"uprn_OSAB\"})\n",
    "merged_on_address21_match['match_strategy'] = 'address_21'\n",
    "\n",
    "frames = [all_matched, merged_on_address21_match]\n",
    "\n",
    "all_matched = pd.concat(frames)\n",
    "merged_on_address21_no_match = merged_on_address21_no_match.dropna(axis=1, how='all')"
   ]
  },
  {
   "cell_type": "code",
   "execution_count": 297,
   "id": "022dc8c7",
   "metadata": {},
   "outputs": [
    {
     "data": {
      "text/plain": [
       "746"
      ]
     },
     "execution_count": 297,
     "metadata": {},
     "output_type": "execute_result"
    }
   ],
   "source": [
    "#Strategy 22  - match the site name to building name \n",
    "left_columns_22 = ['site_name_clean', 'postcode_clean'] #['site_name_LPA_no_pc', 'postcode_clean'] #London Data \n",
    "right_columns_22 = ['building_name', 'postcode_locator'] # ['parsed_address1', 'postcode_locator'] #AB\n",
    "\n",
    "#separate data on if the site_name_clean is empty \n",
    "no_site_name = merged_on_address21_no_match.drop(merged_on_address21_no_match[pd.isna(merged_on_address21_no_match['site_name_clean']) == False].index)\n",
    "has_site_name = merged_on_address21_no_match.drop(merged_on_address21_no_match[pd.isna(merged_on_address21_no_match['site_name_clean']) == True].index)\n",
    "\n",
    "has_site_name['site_name_clean'] = has_site_name['site_name_clean'].str.upper()\n",
    "\n",
    "merged_on_address22_match, merged_on_address22_no_match = my_merge(has_site_name, resi_AB, left_columns_22, right_columns_22)\n",
    "\n",
    "merged_on_address22_match['UCL ID'].nunique()"
   ]
  },
  {
   "cell_type": "code",
   "execution_count": 298,
   "id": "0b877537",
   "metadata": {},
   "outputs": [],
   "source": [
    "#add the no_site_name and no_match together.. \n",
    "merged_on_address22_match = merged_on_address22_match.rename(columns={\"uprn\": \"uprn_OSAB\"})\n",
    "merged_on_address22_match['match_strategy'] = 'address_22'\n",
    "\n",
    "frames = [all_matched, merged_on_address22_match]\n",
    "\n",
    "all_matched = pd.concat(frames)\n"
   ]
  },
  {
   "cell_type": "code",
   "execution_count": 299,
   "id": "95909e0c",
   "metadata": {},
   "outputs": [],
   "source": [
    "#the no match will have the addresses without site name excluded at the start\n",
    "merged_on_address22_no_match = pd.concat([no_site_name, merged_on_address22_no_match])\n",
    "\n",
    "merged_on_address22_no_match = merged_on_address22_no_match.dropna(axis=1, how='all')"
   ]
  },
  {
   "cell_type": "code",
   "execution_count": 300,
   "id": "9dadd5f4",
   "metadata": {},
   "outputs": [
    {
     "data": {
      "text/plain": [
       "141"
      ]
     },
     "execution_count": 300,
     "metadata": {},
     "output_type": "execute_result"
    }
   ],
   "source": [
    "#Strategy 23  - match the site name to building name \n",
    "left_columns_23 = ['site_name_clean', 'postcode_clean'] #['site_name_LPA_no_pc', 'postcode_clean'] #London Data \n",
    "right_columns_23 = ['pao_text', 'postcode_locator'] # ['parsed_address1', 'postcode_locator'] #AB\n",
    "\n",
    "#separate data on if the site_name_clean is empty \n",
    "no_site_name = merged_on_address22_no_match.drop(merged_on_address22_no_match[pd.isna(merged_on_address22_no_match['site_name_clean']) == False].index)\n",
    "has_site_name = merged_on_address22_no_match.drop(merged_on_address22_no_match[pd.isna(merged_on_address22_no_match['site_name_clean']) == True].index)\n",
    "has_site_name['site_name_clean'] = has_site_name['site_name_clean'].str.upper()\n",
    "\n",
    "\n",
    "merged_on_address23_match, merged_on_address23_no_match = my_merge(has_site_name, resi_AB, left_columns_23, right_columns_23)\n",
    "\n",
    "merged_on_address23_match['UCL ID'].nunique()"
   ]
  },
  {
   "cell_type": "code",
   "execution_count": 301,
   "id": "7cb79c40",
   "metadata": {},
   "outputs": [],
   "source": [
    "#add the no_site_name and no_match together.. \n",
    "merged_on_address23_match = merged_on_address23_match.rename(columns={\"uprn\": \"uprn_OSAB\"})\n",
    "merged_on_address23_match['match_strategy'] = 'address_23'\n",
    "\n",
    "frames = [all_matched, merged_on_address23_match]\n",
    "\n",
    "all_matched = pd.concat(frames)\n"
   ]
  },
  {
   "cell_type": "code",
   "execution_count": 302,
   "id": "00bd0909",
   "metadata": {},
   "outputs": [],
   "source": [
    "#the no match will have the addresses without site name excluded at the start\n",
    "merged_on_address23_no_match = pd.concat([no_site_name, merged_on_address23_no_match])\n",
    "\n",
    "merged_on_address23_no_match = merged_on_address23_no_match.dropna(axis=1, how='all')"
   ]
  },
  {
   "cell_type": "code",
   "execution_count": 303,
   "id": "d4a0d015",
   "metadata": {},
   "outputs": [
    {
     "name": "stdout",
     "output_type": "stream",
     "text": [
      "Resi Match rate:  27.301927194860813  from record count:  1275\n"
     ]
    }
   ],
   "source": [
    "#print match rate\n",
    "resi_match_rate = 100 * all_matched['UCL ID'].nunique() / england_data['UCL ID'].nunique()\n",
    "\n",
    "print('Resi Match rate: ', resi_match_rate, ' from record count: ', all_matched['UCL ID'].nunique()) "
   ]
  },
  {
   "cell_type": "code",
   "execution_count": null,
   "id": "6692e0e0",
   "metadata": {},
   "outputs": [],
   "source": [
    "#Resi Match rate:  21.798715203426124  from record count:  1018"
   ]
  },
  {
   "cell_type": "markdown",
   "id": "0b55291d",
   "metadata": {},
   "source": [
    "------ specific address analysis ----- "
   ]
  },
  {
   "cell_type": "code",
   "execution_count": 179,
   "id": "2847f11e",
   "metadata": {},
   "outputs": [],
   "source": [
    "resi_AB[(resi_AB['postcode_sector'] == 'CA14 1') & (resi_AB['street_description'] == 'MAIN ROAD')].to_csv('main_CA141.csv')"
   ]
  },
  {
   "cell_type": "code",
   "execution_count": 180,
   "id": "49fc5915",
   "metadata": {},
   "outputs": [
    {
     "data": {
      "text/html": [
       "<div>\n",
       "<style scoped>\n",
       "    .dataframe tbody tr th:only-of-type {\n",
       "        vertical-align: middle;\n",
       "    }\n",
       "\n",
       "    .dataframe tbody tr th {\n",
       "        vertical-align: top;\n",
       "    }\n",
       "\n",
       "    .dataframe thead th {\n",
       "        text-align: right;\n",
       "    }\n",
       "</style>\n",
       "<table border=\"1\" class=\"dataframe\">\n",
       "  <thead>\n",
       "    <tr style=\"text-align: right;\">\n",
       "      <th></th>\n",
       "      <th>uprn</th>\n",
       "      <th>class</th>\n",
       "      <th>parent_uprn</th>\n",
       "      <th>latitude</th>\n",
       "      <th>longitude</th>\n",
       "      <th>country</th>\n",
       "      <th>legal_name</th>\n",
       "      <th>sub_building_name</th>\n",
       "      <th>building_name</th>\n",
       "      <th>building_number</th>\n",
       "      <th>...</th>\n",
       "      <th>town_name</th>\n",
       "      <th>administrative_area</th>\n",
       "      <th>post_town</th>\n",
       "      <th>postcode</th>\n",
       "      <th>postcode_locator</th>\n",
       "      <th>parsed_address1</th>\n",
       "      <th>parsed_address2</th>\n",
       "      <th>parsed_address3</th>\n",
       "      <th>postcode_sector</th>\n",
       "      <th>pao_start_num_suffix</th>\n",
       "    </tr>\n",
       "  </thead>\n",
       "  <tbody>\n",
       "    <tr>\n",
       "      <th>12722460</th>\n",
       "      <td>200003313031</td>\n",
       "      <td>RD02</td>\n",
       "      <td>000000000000</td>\n",
       "      <td>53.153104</td>\n",
       "      <td>-1.241189</td>\n",
       "      <td>E</td>\n",
       "      <td>0.0</td>\n",
       "      <td>0</td>\n",
       "      <td>PENNIMENT HOUSE FARM</td>\n",
       "      <td>0</td>\n",
       "      <td>...</td>\n",
       "      <td>SUTTON IN ASHFIELD</td>\n",
       "      <td>NOTTINGHAMSHIRE</td>\n",
       "      <td>MANSFIELD</td>\n",
       "      <td>NG19 6PH</td>\n",
       "      <td>NG19 6PH</td>\n",
       "      <td>PENNIMENT HOUSE FARM, PENNIMENT LANE</td>\n",
       "      <td>PENNIMENT HOUSE FARM, PENNIMENT LANE</td>\n",
       "      <td>PENNIMENT HOUSE FARM, SUTTON IN ASHFIELD, MANS...</td>\n",
       "      <td>NG19 6</td>\n",
       "      <td></td>\n",
       "    </tr>\n",
       "    <tr>\n",
       "      <th>18906713</th>\n",
       "      <td>010012813264</td>\n",
       "      <td>RD02</td>\n",
       "      <td>000000000000</td>\n",
       "      <td>53.153430</td>\n",
       "      <td>-1.240197</td>\n",
       "      <td>E</td>\n",
       "      <td>0.0</td>\n",
       "      <td>0</td>\n",
       "      <td>PENNIMENT LODGE FARM</td>\n",
       "      <td>0</td>\n",
       "      <td>...</td>\n",
       "      <td>MANSFIELD</td>\n",
       "      <td>NOTTINGHAMSHIRE</td>\n",
       "      <td>MANSFIELD</td>\n",
       "      <td>NG19 6PH</td>\n",
       "      <td>NG19 6PH</td>\n",
       "      <td>PENNIMENT LODGE FARM, PENNIMENT LANE</td>\n",
       "      <td>PENNIMENT LODGE FARM, PENNIMENT LANE</td>\n",
       "      <td>PENNIMENT LODGE FARM, MANSFIELD, MANSFIELD</td>\n",
       "      <td>NG19 6</td>\n",
       "      <td></td>\n",
       "    </tr>\n",
       "    <tr>\n",
       "      <th>19765929</th>\n",
       "      <td>010023934555</td>\n",
       "      <td>RD02</td>\n",
       "      <td>000000000000</td>\n",
       "      <td>53.153353</td>\n",
       "      <td>-1.240856</td>\n",
       "      <td>E</td>\n",
       "      <td>0.0</td>\n",
       "      <td>0</td>\n",
       "      <td>CROFTERS COTTAGE</td>\n",
       "      <td>0</td>\n",
       "      <td>...</td>\n",
       "      <td>MANSFIELD</td>\n",
       "      <td>NOTTINGHAMSHIRE</td>\n",
       "      <td>MANSFIELD</td>\n",
       "      <td>NG19 6PH</td>\n",
       "      <td>NG19 6PH</td>\n",
       "      <td>CROFTERS COTTAGE, PENNIMENT LANE</td>\n",
       "      <td>CROFTERS COTTAGE, PENNIMENT LANE</td>\n",
       "      <td>CROFTERS COTTAGE, MANSFIELD, MANSFIELD</td>\n",
       "      <td>NG19 6</td>\n",
       "      <td></td>\n",
       "    </tr>\n",
       "    <tr>\n",
       "      <th>19928388</th>\n",
       "      <td>010023932725</td>\n",
       "      <td>RD02</td>\n",
       "      <td>000000000000</td>\n",
       "      <td>53.153441</td>\n",
       "      <td>-1.240555</td>\n",
       "      <td>E</td>\n",
       "      <td>0.0</td>\n",
       "      <td>0</td>\n",
       "      <td>PENNIMENT BARN</td>\n",
       "      <td>0</td>\n",
       "      <td>...</td>\n",
       "      <td>MANSFIELD</td>\n",
       "      <td>NOTTINGHAMSHIRE</td>\n",
       "      <td>MANSFIELD</td>\n",
       "      <td>NG19 6PH</td>\n",
       "      <td>NG19 6PH</td>\n",
       "      <td>PENNIMENT BARN, PENNIMENT LANE</td>\n",
       "      <td>PENNIMENT BARN, PENNIMENT LANE</td>\n",
       "      <td>PENNIMENT BARN, MANSFIELD, MANSFIELD</td>\n",
       "      <td>NG19 6</td>\n",
       "      <td></td>\n",
       "    </tr>\n",
       "    <tr>\n",
       "      <th>20069712</th>\n",
       "      <td>010023931171</td>\n",
       "      <td>RD02</td>\n",
       "      <td>000000000000</td>\n",
       "      <td>53.153481</td>\n",
       "      <td>-1.241123</td>\n",
       "      <td>E</td>\n",
       "      <td>0.0</td>\n",
       "      <td>0</td>\n",
       "      <td>OLD FORGE</td>\n",
       "      <td>0</td>\n",
       "      <td>...</td>\n",
       "      <td>MANSFIELD</td>\n",
       "      <td>NOTTINGHAMSHIRE</td>\n",
       "      <td>MANSFIELD</td>\n",
       "      <td>NG19 6PH</td>\n",
       "      <td>NG19 6PH</td>\n",
       "      <td>THE OLD FORGE, PENNIMENT LANE</td>\n",
       "      <td>OLD FORGE, PENNIMENT LANE</td>\n",
       "      <td>OLD FORGE, MANSFIELD, MANSFIELD</td>\n",
       "      <td>NG19 6</td>\n",
       "      <td></td>\n",
       "    </tr>\n",
       "  </tbody>\n",
       "</table>\n",
       "<p>5 rows × 33 columns</p>\n",
       "</div>"
      ],
      "text/plain": [
       "                  uprn class   parent_uprn   latitude  longitude country  \\\n",
       "12722460  200003313031  RD02  000000000000  53.153104  -1.241189       E   \n",
       "18906713  010012813264  RD02  000000000000  53.153430  -1.240197       E   \n",
       "19765929  010023934555  RD02  000000000000  53.153353  -1.240856       E   \n",
       "19928388  010023932725  RD02  000000000000  53.153441  -1.240555       E   \n",
       "20069712  010023931171  RD02  000000000000  53.153481  -1.241123       E   \n",
       "\n",
       "          legal_name sub_building_name         building_name building_number  \\\n",
       "12722460         0.0                 0  PENNIMENT HOUSE FARM               0   \n",
       "18906713         0.0                 0  PENNIMENT LODGE FARM               0   \n",
       "19765929         0.0                 0      CROFTERS COTTAGE               0   \n",
       "19928388         0.0                 0        PENNIMENT BARN               0   \n",
       "20069712         0.0                 0             OLD FORGE               0   \n",
       "\n",
       "          ...           town_name administrative_area  post_town  postcode  \\\n",
       "12722460  ...  SUTTON IN ASHFIELD     NOTTINGHAMSHIRE  MANSFIELD  NG19 6PH   \n",
       "18906713  ...           MANSFIELD     NOTTINGHAMSHIRE  MANSFIELD  NG19 6PH   \n",
       "19765929  ...           MANSFIELD     NOTTINGHAMSHIRE  MANSFIELD  NG19 6PH   \n",
       "19928388  ...           MANSFIELD     NOTTINGHAMSHIRE  MANSFIELD  NG19 6PH   \n",
       "20069712  ...           MANSFIELD     NOTTINGHAMSHIRE  MANSFIELD  NG19 6PH   \n",
       "\n",
       "         postcode_locator                       parsed_address1  \\\n",
       "12722460         NG19 6PH  PENNIMENT HOUSE FARM, PENNIMENT LANE   \n",
       "18906713         NG19 6PH  PENNIMENT LODGE FARM, PENNIMENT LANE   \n",
       "19765929         NG19 6PH      CROFTERS COTTAGE, PENNIMENT LANE   \n",
       "19928388         NG19 6PH        PENNIMENT BARN, PENNIMENT LANE   \n",
       "20069712         NG19 6PH         THE OLD FORGE, PENNIMENT LANE   \n",
       "\n",
       "                               parsed_address2  \\\n",
       "12722460  PENNIMENT HOUSE FARM, PENNIMENT LANE   \n",
       "18906713  PENNIMENT LODGE FARM, PENNIMENT LANE   \n",
       "19765929      CROFTERS COTTAGE, PENNIMENT LANE   \n",
       "19928388        PENNIMENT BARN, PENNIMENT LANE   \n",
       "20069712             OLD FORGE, PENNIMENT LANE   \n",
       "\n",
       "                                            parsed_address3 postcode_sector  \\\n",
       "12722460  PENNIMENT HOUSE FARM, SUTTON IN ASHFIELD, MANS...          NG19 6   \n",
       "18906713         PENNIMENT LODGE FARM, MANSFIELD, MANSFIELD          NG19 6   \n",
       "19765929             CROFTERS COTTAGE, MANSFIELD, MANSFIELD          NG19 6   \n",
       "19928388               PENNIMENT BARN, MANSFIELD, MANSFIELD          NG19 6   \n",
       "20069712                    OLD FORGE, MANSFIELD, MANSFIELD          NG19 6   \n",
       "\n",
       "         pao_start_num_suffix  \n",
       "12722460                       \n",
       "18906713                       \n",
       "19765929                       \n",
       "19928388                       \n",
       "20069712                       \n",
       "\n",
       "[5 rows x 33 columns]"
      ]
     },
     "execution_count": 180,
     "metadata": {},
     "output_type": "execute_result"
    }
   ],
   "source": [
    "#NG19 6PH\n",
    "resi_AB[(resi_AB['postcode_locator'] == 'NG19 6PH')]"
   ]
  },
  {
   "cell_type": "code",
   "execution_count": 174,
   "id": "f4fab63c",
   "metadata": {},
   "outputs": [
    {
     "data": {
      "text/html": [
       "<div>\n",
       "<style scoped>\n",
       "    .dataframe tbody tr th:only-of-type {\n",
       "        vertical-align: middle;\n",
       "    }\n",
       "\n",
       "    .dataframe tbody tr th {\n",
       "        vertical-align: top;\n",
       "    }\n",
       "\n",
       "    .dataframe thead th {\n",
       "        text-align: right;\n",
       "    }\n",
       "</style>\n",
       "<table border=\"1\" class=\"dataframe\">\n",
       "  <thead>\n",
       "    <tr style=\"text-align: right;\">\n",
       "      <th></th>\n",
       "      <th>uprn</th>\n",
       "      <th>class</th>\n",
       "      <th>parent_uprn</th>\n",
       "      <th>latitude</th>\n",
       "      <th>longitude</th>\n",
       "      <th>country</th>\n",
       "      <th>legal_name</th>\n",
       "      <th>sub_building_name</th>\n",
       "      <th>building_name</th>\n",
       "      <th>building_number</th>\n",
       "      <th>...</th>\n",
       "      <th>town_name</th>\n",
       "      <th>administrative_area</th>\n",
       "      <th>post_town</th>\n",
       "      <th>postcode</th>\n",
       "      <th>postcode_locator</th>\n",
       "      <th>parsed_address1</th>\n",
       "      <th>parsed_address2</th>\n",
       "      <th>parsed_address3</th>\n",
       "      <th>postcode_sector</th>\n",
       "      <th>pao_start_num_suffix</th>\n",
       "    </tr>\n",
       "  </thead>\n",
       "  <tbody>\n",
       "  </tbody>\n",
       "</table>\n",
       "<p>0 rows × 33 columns</p>\n",
       "</div>"
      ],
      "text/plain": [
       "Empty DataFrame\n",
       "Columns: [uprn, class, parent_uprn, latitude, longitude, country, legal_name, sub_building_name, building_name, building_number, sao_start_number, sao_start_suffix, sao_end_number, sao_end_suffix, sao_text, pao_start_number, pao_start_suffix, pao_end_number, pao_end_suffix, pao_text, street_description, dependent_locality, locality, town_name, administrative_area, post_town, postcode, postcode_locator, parsed_address1, parsed_address2, parsed_address3, postcode_sector, pao_start_num_suffix]\n",
       "Index: []\n",
       "\n",
       "[0 rows x 33 columns]"
      ]
     },
     "execution_count": 174,
     "metadata": {},
     "output_type": "execute_result"
    }
   ],
   "source": [
    "other_AB[other_AB['administrative_area'] == 'ALLERDALE']"
   ]
  },
  {
   "cell_type": "code",
   "execution_count": 246,
   "id": "930fc49c",
   "metadata": {},
   "outputs": [
    {
     "data": {
      "text/html": [
       "<div>\n",
       "<style scoped>\n",
       "    .dataframe tbody tr th:only-of-type {\n",
       "        vertical-align: middle;\n",
       "    }\n",
       "\n",
       "    .dataframe tbody tr th {\n",
       "        vertical-align: top;\n",
       "    }\n",
       "\n",
       "    .dataframe thead th {\n",
       "        text-align: right;\n",
       "    }\n",
       "</style>\n",
       "<table border=\"1\" class=\"dataframe\">\n",
       "  <thead>\n",
       "    <tr style=\"text-align: right;\">\n",
       "      <th></th>\n",
       "      <th>uprn</th>\n",
       "      <th>class</th>\n",
       "      <th>parent_uprn</th>\n",
       "      <th>latitude</th>\n",
       "      <th>longitude</th>\n",
       "      <th>country</th>\n",
       "      <th>legal_name</th>\n",
       "      <th>sub_building_name</th>\n",
       "      <th>building_name</th>\n",
       "      <th>building_number</th>\n",
       "      <th>...</th>\n",
       "      <th>dependent_locality</th>\n",
       "      <th>locality</th>\n",
       "      <th>town_name</th>\n",
       "      <th>administrative_area</th>\n",
       "      <th>post_town</th>\n",
       "      <th>postcode</th>\n",
       "      <th>postcode_locator</th>\n",
       "      <th>postcode_sector</th>\n",
       "      <th>parsed_address1</th>\n",
       "      <th>parsed_address2</th>\n",
       "    </tr>\n",
       "  </thead>\n",
       "  <tbody>\n",
       "    <tr>\n",
       "      <th>1029703</th>\n",
       "      <td>010025177788</td>\n",
       "      <td>CU01</td>\n",
       "      <td>000000000000</td>\n",
       "      <td>51.544389</td>\n",
       "      <td>-0.302875</td>\n",
       "      <td>E</td>\n",
       "      <td>0.0</td>\n",
       "      <td>0</td>\n",
       "      <td>0</td>\n",
       "      <td>0</td>\n",
       "      <td>...</td>\n",
       "      <td>0</td>\n",
       "      <td>0</td>\n",
       "      <td>WEMBLEY</td>\n",
       "      <td>BRENT</td>\n",
       "      <td>0</td>\n",
       "      <td>0</td>\n",
       "      <td>HA0 4QS</td>\n",
       "      <td>HA0 4</td>\n",
       "      <td>ELECTRICITY SUB STATION 66M FROM 95 NORTON ROA...</td>\n",
       "      <td>BOWRONS AVENUE</td>\n",
       "    </tr>\n",
       "    <tr>\n",
       "      <th>1309948</th>\n",
       "      <td>000202228481</td>\n",
       "      <td>CR</td>\n",
       "      <td>000000000000</td>\n",
       "      <td>51.544930</td>\n",
       "      <td>-0.297450</td>\n",
       "      <td>E</td>\n",
       "      <td>0.0</td>\n",
       "      <td>0</td>\n",
       "      <td>0</td>\n",
       "      <td>0</td>\n",
       "      <td>...</td>\n",
       "      <td>0</td>\n",
       "      <td>0</td>\n",
       "      <td>WEMBLEY</td>\n",
       "      <td>BRENT</td>\n",
       "      <td>0</td>\n",
       "      <td>0</td>\n",
       "      <td>HA0 4QS</td>\n",
       "      <td>HA0 4</td>\n",
       "      <td>UNIT 1, 1, BOWRONS AVENUE</td>\n",
       "      <td>BOWRONS AVENUE</td>\n",
       "    </tr>\n",
       "    <tr>\n",
       "      <th>1561284</th>\n",
       "      <td>000202238960</td>\n",
       "      <td>PP</td>\n",
       "      <td>000000000000</td>\n",
       "      <td>51.544557</td>\n",
       "      <td>-0.302108</td>\n",
       "      <td>E</td>\n",
       "      <td>0.0</td>\n",
       "      <td>0</td>\n",
       "      <td>0</td>\n",
       "      <td>0</td>\n",
       "      <td>...</td>\n",
       "      <td>0</td>\n",
       "      <td>0</td>\n",
       "      <td>WEMBLEY</td>\n",
       "      <td>BRENT</td>\n",
       "      <td>0</td>\n",
       "      <td>0</td>\n",
       "      <td>HA0 4QS</td>\n",
       "      <td>HA0 4</td>\n",
       "      <td>SHELL FOR STUDIO FLATS A TO F AND LOFT D, 39, ...</td>\n",
       "      <td>BOWRONS AVENUE</td>\n",
       "    </tr>\n",
       "    <tr>\n",
       "      <th>1569192</th>\n",
       "      <td>000202228482</td>\n",
       "      <td>CR10</td>\n",
       "      <td>000000000000</td>\n",
       "      <td>51.544931</td>\n",
       "      <td>-0.297508</td>\n",
       "      <td>E</td>\n",
       "      <td>0.0</td>\n",
       "      <td>0</td>\n",
       "      <td>0</td>\n",
       "      <td>0</td>\n",
       "      <td>...</td>\n",
       "      <td>0</td>\n",
       "      <td>0</td>\n",
       "      <td>WEMBLEY</td>\n",
       "      <td>BRENT</td>\n",
       "      <td>0</td>\n",
       "      <td>0</td>\n",
       "      <td>HA0 4QS</td>\n",
       "      <td>HA0 4</td>\n",
       "      <td>UNIT 2, 1, BOWRONS AVENUE</td>\n",
       "      <td>BOWRONS AVENUE</td>\n",
       "    </tr>\n",
       "    <tr>\n",
       "      <th>3301459</th>\n",
       "      <td>000202128619</td>\n",
       "      <td>PS</td>\n",
       "      <td>000000000000</td>\n",
       "      <td>51.544703</td>\n",
       "      <td>-0.302270</td>\n",
       "      <td>E</td>\n",
       "      <td>0.0</td>\n",
       "      <td>0</td>\n",
       "      <td>0</td>\n",
       "      <td>0</td>\n",
       "      <td>...</td>\n",
       "      <td>0</td>\n",
       "      <td>0</td>\n",
       "      <td>WEMBLEY</td>\n",
       "      <td>BRENT</td>\n",
       "      <td>0</td>\n",
       "      <td>0</td>\n",
       "      <td>HA0 4QS</td>\n",
       "      <td>HA0 4</td>\n",
       "      <td>STREET RECORD, BOWRONS AVENUE</td>\n",
       "      <td>BOWRONS AVENUE</td>\n",
       "    </tr>\n",
       "    <tr>\n",
       "      <th>3471091</th>\n",
       "      <td>000202221907</td>\n",
       "      <td>PP</td>\n",
       "      <td>000000000000</td>\n",
       "      <td>51.544579</td>\n",
       "      <td>-0.301732</td>\n",
       "      <td>E</td>\n",
       "      <td>0.0</td>\n",
       "      <td>0</td>\n",
       "      <td>0</td>\n",
       "      <td>85</td>\n",
       "      <td>...</td>\n",
       "      <td>0</td>\n",
       "      <td>0</td>\n",
       "      <td>WEMBLEY</td>\n",
       "      <td>BRENT</td>\n",
       "      <td>WEMBLEY</td>\n",
       "      <td>HA0 4QS</td>\n",
       "      <td>HA0 4QS</td>\n",
       "      <td>HA0 4</td>\n",
       "      <td>85, BOWRONS AVENUE</td>\n",
       "      <td>85, BOWRONS AVENUE</td>\n",
       "    </tr>\n",
       "    <tr>\n",
       "      <th>3641012</th>\n",
       "      <td>000202220578</td>\n",
       "      <td>PP</td>\n",
       "      <td>000000000000</td>\n",
       "      <td>51.544845</td>\n",
       "      <td>-0.297742</td>\n",
       "      <td>E</td>\n",
       "      <td>0.0</td>\n",
       "      <td>0</td>\n",
       "      <td>0</td>\n",
       "      <td>3</td>\n",
       "      <td>...</td>\n",
       "      <td>0</td>\n",
       "      <td>0</td>\n",
       "      <td>WEMBLEY</td>\n",
       "      <td>BRENT</td>\n",
       "      <td>WEMBLEY</td>\n",
       "      <td>HA0 4QS</td>\n",
       "      <td>HA0 4QS</td>\n",
       "      <td>HA0 4</td>\n",
       "      <td>3, BOWRONS AVENUE</td>\n",
       "      <td>3, BOWRONS AVENUE</td>\n",
       "    </tr>\n",
       "  </tbody>\n",
       "</table>\n",
       "<p>7 rows × 31 columns</p>\n",
       "</div>"
      ],
      "text/plain": [
       "                 uprn class   parent_uprn   latitude  longitude country  \\\n",
       "1029703  010025177788  CU01  000000000000  51.544389  -0.302875       E   \n",
       "1309948  000202228481    CR  000000000000  51.544930  -0.297450       E   \n",
       "1561284  000202238960    PP  000000000000  51.544557  -0.302108       E   \n",
       "1569192  000202228482  CR10  000000000000  51.544931  -0.297508       E   \n",
       "3301459  000202128619    PS  000000000000  51.544703  -0.302270       E   \n",
       "3471091  000202221907    PP  000000000000  51.544579  -0.301732       E   \n",
       "3641012  000202220578    PP  000000000000  51.544845  -0.297742       E   \n",
       "\n",
       "         legal_name sub_building_name building_name building_number  ...  \\\n",
       "1029703         0.0                 0             0               0  ...   \n",
       "1309948         0.0                 0             0               0  ...   \n",
       "1561284         0.0                 0             0               0  ...   \n",
       "1569192         0.0                 0             0               0  ...   \n",
       "3301459         0.0                 0             0               0  ...   \n",
       "3471091         0.0                 0             0              85  ...   \n",
       "3641012         0.0                 0             0               3  ...   \n",
       "\n",
       "         dependent_locality locality  town_name administrative_area post_town  \\\n",
       "1029703                   0        0    WEMBLEY               BRENT         0   \n",
       "1309948                   0        0    WEMBLEY               BRENT         0   \n",
       "1561284                   0        0    WEMBLEY               BRENT         0   \n",
       "1569192                   0        0    WEMBLEY               BRENT         0   \n",
       "3301459                   0        0    WEMBLEY               BRENT         0   \n",
       "3471091                   0        0    WEMBLEY               BRENT   WEMBLEY   \n",
       "3641012                   0        0    WEMBLEY               BRENT   WEMBLEY   \n",
       "\n",
       "        postcode postcode_locator  postcode_sector  \\\n",
       "1029703        0          HA0 4QS            HA0 4   \n",
       "1309948        0          HA0 4QS            HA0 4   \n",
       "1561284        0          HA0 4QS            HA0 4   \n",
       "1569192        0          HA0 4QS            HA0 4   \n",
       "3301459        0          HA0 4QS            HA0 4   \n",
       "3471091  HA0 4QS          HA0 4QS            HA0 4   \n",
       "3641012  HA0 4QS          HA0 4QS            HA0 4   \n",
       "\n",
       "                                           parsed_address1     parsed_address2  \n",
       "1029703  ELECTRICITY SUB STATION 66M FROM 95 NORTON ROA...      BOWRONS AVENUE  \n",
       "1309948                          UNIT 1, 1, BOWRONS AVENUE      BOWRONS AVENUE  \n",
       "1561284  SHELL FOR STUDIO FLATS A TO F AND LOFT D, 39, ...      BOWRONS AVENUE  \n",
       "1569192                          UNIT 2, 1, BOWRONS AVENUE      BOWRONS AVENUE  \n",
       "3301459                      STREET RECORD, BOWRONS AVENUE      BOWRONS AVENUE  \n",
       "3471091                                 85, BOWRONS AVENUE  85, BOWRONS AVENUE  \n",
       "3641012                                  3, BOWRONS AVENUE   3, BOWRONS AVENUE  \n",
       "\n",
       "[7 rows x 31 columns]"
      ]
     },
     "execution_count": 246,
     "metadata": {},
     "output_type": "execute_result"
    }
   ],
   "source": [
    "other_AB[(other_AB['postcode_locator'] == 'HA0 4QS') & (other_AB['street_description'] == 'BOWRONS AVENUE')]"
   ]
  },
  {
   "cell_type": "code",
   "execution_count": 241,
   "id": "0a3f1f03",
   "metadata": {},
   "outputs": [],
   "source": [
    "resi_AB[(resi_AB['postcode_sector'] == 'HA0 4') & (resi_AB['street_description'] == 'BOWRONS AVENUE')].to_csv('output_HA04.csv', index  = False) # & (resi_AB['building_name'] == 'Apollo House') ] #& (other_AB['street_description'] == 'EAST STREET')]"
   ]
  },
  {
   "cell_type": "code",
   "execution_count": 242,
   "id": "c61c0381",
   "metadata": {},
   "outputs": [],
   "source": [
    "other_AB[(other_AB['postcode_sector']== 'HA0 4') & (other_AB['street_description'] == 'BOWRONS AVENUE')].to_csv('other_HA04.csv', index = False)"
   ]
  },
  {
   "cell_type": "code",
   "execution_count": 171,
   "id": "1fc01837",
   "metadata": {},
   "outputs": [],
   "source": [
    "seven_sisters.to_csv('seven_sisters.csv', index=False) "
   ]
  },
  {
   "cell_type": "markdown",
   "id": "f61f2bf1",
   "metadata": {},
   "source": [
    "### Commercial Class matching - Use only the addresses in AddressBase that are classified as Commercial or other uses"
   ]
  },
  {
   "cell_type": "markdown",
   "id": "5b0d2c10",
   "metadata": {},
   "source": [
    "Reproduce the process for Residential with commercial properties \n"
   ]
  },
  {
   "cell_type": "code",
   "execution_count": 60,
   "id": "6ad5eb21-c0fa-4612-bccd-31f77313e25c",
   "metadata": {
    "tags": []
   },
   "outputs": [],
   "source": [
    "#Merge on Parent UPRN \n",
    "non_resi_merged = merged_on_address3_no_match.merge(other_AB,how = 'left', left_on = 'uprn_x', right_on = 'parent_uprn')\n",
    "\n",
    "non_resi_match, non_resi_no_match =  separate_matches(non_resi_merged, 'parent_uprn', 'parent_uprn')\n",
    "\n",
    "non_resi_no_match = non_resi_no_match.dropna(axis=1, how='all')"
   ]
  },
  {
   "cell_type": "code",
   "execution_count": 61,
   "id": "9d6e60bd-519d-4476-b702-fcff09d5894e",
   "metadata": {
    "tags": []
   },
   "outputs": [],
   "source": [
    "#merge on UPRN\n",
    "non_resi_merged_2 = non_resi_no_match.merge(other_AB, how = 'left', left_on = 'uprn_x', right_on = 'uprn')\n",
    "\n",
    "non_resi_match_2, non_resi_no_match_2 =  separate_matches(non_resi_merged_2, 'parent_uprn', 'uprn')\n",
    "\n",
    "non_resi_no_match_2 = non_resi_no_match_2.dropna(axis=1, how='all')"
   ]
  },
  {
   "cell_type": "code",
   "execution_count": 62,
   "id": "35233bd0-1e5b-476b-a4e1-784aa153f75e",
   "metadata": {
    "tags": []
   },
   "outputs": [],
   "source": [
    "non_resi_match_2 = non_resi_match_2.rename(columns={\"uprn\": \"uprn_OSAB\"})\n",
    "#non_resi_match_2['match_strategy'] = 'uprn'\n",
    "non_resi_match_2.count()\n",
    "\n",
    "non_resi_match = non_resi_match.rename(columns={\"uprn\": \"uprn_OSAB\"})\n",
    "#non_resi_match['match_strategy'] = 'parent_uprn'"
   ]
  },
  {
   "cell_type": "code",
   "execution_count": 63,
   "id": "a766aec8-4f2a-4620-8938-c6a6c8df7c33",
   "metadata": {
    "tags": []
   },
   "outputs": [],
   "source": [
    "#union them together \n",
    "non_resi_all_matched = pd.concat([non_resi_match_2, non_resi_match])"
   ]
  },
  {
   "cell_type": "markdown",
   "id": "1ad6a0bc",
   "metadata": {},
   "source": [
    "---- Commercial address matching --- "
   ]
  },
  {
   "cell_type": "markdown",
   "id": "45102b75",
   "metadata": {},
   "source": [
    "Strategy 1: Skip for Batch 3 because it depends on data field only used for London: 'site_name_GLA'\n",
    "\n",
    "\n",
    "'site_name_GLA_no_pc' <> 'parsed_address1' and\n",
    "'postcode_clean' <> 'postcode_locator'\n"
   ]
  },
  {
   "cell_type": "code",
   "execution_count": 89,
   "id": "c5a5799b-2902-4c5f-aefd-3556ecf780d6",
   "metadata": {
    "tags": []
   },
   "outputs": [
    {
     "ename": "NameError",
     "evalue": "name 'merged_on_address20_no_match' is not defined",
     "output_type": "error",
     "traceback": [
      "\u001b[0;31m---------------------------------------------------------------------------\u001b[0m",
      "\u001b[0;31mNameError\u001b[0m                                 Traceback (most recent call last)",
      "Cell \u001b[0;32mIn[89], line 5\u001b[0m\n\u001b[1;32m      2\u001b[0m left_columns_2 \u001b[38;5;241m=\u001b[39m  [\u001b[38;5;124m'\u001b[39m\u001b[38;5;124msite_name_LPA_no_pc\u001b[39m\u001b[38;5;124m'\u001b[39m, \u001b[38;5;124m'\u001b[39m\u001b[38;5;124mpostcode_clean\u001b[39m\u001b[38;5;124m'\u001b[39m] \n\u001b[1;32m      3\u001b[0m right_columns_2 \u001b[38;5;241m=\u001b[39m  [\u001b[38;5;124m'\u001b[39m\u001b[38;5;124mparsed_address1\u001b[39m\u001b[38;5;124m'\u001b[39m, \u001b[38;5;124m'\u001b[39m\u001b[38;5;124mpostcode_locator\u001b[39m\u001b[38;5;124m'\u001b[39m]\n\u001b[0;32m----> 5\u001b[0m non_resi_address_merge_match2, non_resi_address_merge_no_match2 \u001b[38;5;241m=\u001b[39m my_merge(\u001b[43mmerged_on_address20_no_match\u001b[49m, other_AB, left_columns_2,right_columns_2 )\n\u001b[1;32m      6\u001b[0m non_resi_address_merge_match2[\u001b[38;5;124m'\u001b[39m\u001b[38;5;124mUCL ID\u001b[39m\u001b[38;5;124m'\u001b[39m]\u001b[38;5;241m.\u001b[39mnunique()\n",
      "\u001b[0;31mNameError\u001b[0m: name 'merged_on_address20_no_match' is not defined"
     ]
    }
   ],
   "source": [
    "#join addresses strategy 2\n",
    "left_columns_2 =  ['site_name_LPA_no_pc', 'postcode_clean'] \n",
    "right_columns_2 =  ['parsed_address1', 'postcode_locator']\n",
    " \n",
    "non_resi_address_merge_match2, non_resi_address_merge_no_match2 = my_merge(merged_on_address20_no_match, other_AB, left_columns_2,right_columns_2 )\n",
    "non_resi_address_merge_match2['UCL ID'].nunique()"
   ]
  },
  {
   "cell_type": "code",
   "execution_count": 125,
   "id": "40e38bdf-0103-4cac-949a-cc02dbe53e2d",
   "metadata": {
    "tags": []
   },
   "outputs": [],
   "source": [
    "non_resi_address_merge_no_match2 = non_resi_address_merge_no_match2.dropna(axis=1, how='all')\n",
    "\n",
    "## Add the merged_on_address_match to the matched\n",
    "non_resi_address_merge_match2 = non_resi_address_merge_match2.rename(columns={\"uprn\": \"uprn_OSAB\"})\n",
    "non_resi_address_merge_match2['match_strategy'] = 'address_2'\n",
    "\n",
    "non_resi_all_matched = non_resi_address_merge_match2"
   ]
  },
  {
   "cell_type": "markdown",
   "id": "f8bbf829",
   "metadata": {},
   "source": [
    "Strategy 3: Skip for Batch 3 because it depends on data field only used for London: 'site_name_GLA'\n",
    "'site_name_GLA_no_pc' <> 'parsed_address2' and\n",
    "'postcode_clean' <> 'postcode_locator'"
   ]
  },
  {
   "cell_type": "code",
   "execution_count": 126,
   "id": "9c5fb084",
   "metadata": {},
   "outputs": [],
   "source": [
    "# STRATEGY 4 ADDRESS MATCH \n",
    "left_columns_4 = ['site_name_LPA_no_pc', 'postcode_clean'] \n",
    "right_columns_4 = ['parsed_address2', 'postcode_locator']\n",
    "\n",
    "\n",
    "non_resi_address_merge_match4, non_resi_address_merge_no_match4 = my_merge(non_resi_address_merge_no_match2, other_AB, left_columns_4, right_columns_4)"
   ]
  },
  {
   "cell_type": "code",
   "execution_count": 127,
   "id": "d7899b47",
   "metadata": {},
   "outputs": [
    {
     "data": {
      "text/plain": [
       "0"
      ]
     },
     "execution_count": 127,
     "metadata": {},
     "output_type": "execute_result"
    }
   ],
   "source": [
    "non_resi_address_merge_match4['UCL ID'].nunique()"
   ]
  },
  {
   "cell_type": "code",
   "execution_count": 128,
   "id": "4abf57c1",
   "metadata": {},
   "outputs": [],
   "source": [
    "non_resi_address_merge_no_match4 = non_resi_address_merge_no_match4.dropna(axis=1, how='all')\n",
    "\n",
    "## Add the merged_on_address_match to the matched\n",
    "non_resi_address_merge_match4 = non_resi_address_merge_match4.rename(columns={\"uprn\": \"uprn_OSAB\"})\n",
    "non_resi_address_merge_match4['match_strategy'] = 'address_4'\n",
    "\n",
    "non_resi_all_matched = pd.concat([non_resi_all_matched, non_resi_address_merge_match4])"
   ]
  },
  {
   "cell_type": "code",
   "execution_count": 129,
   "id": "96f2f25d",
   "metadata": {},
   "outputs": [],
   "source": [
    "#strategy 5 ADDRESS MATCH \n",
    "left_columns_5 = ['concat_addr', 'postcode_clean'] \n",
    "right_columns_5 = ['parsed_address1', 'postcode_locator']\n",
    "\n",
    "\n",
    "non_resi_address_merge_match5, non_resi_address_merge_no_match5 = my_merge(non_resi_address_merge_no_match4, other_AB, left_columns_5, right_columns_5)\n"
   ]
  },
  {
   "cell_type": "code",
   "execution_count": 130,
   "id": "e422f17e",
   "metadata": {},
   "outputs": [],
   "source": [
    "non_resi_address_merge_no_match5 = non_resi_address_merge_no_match5.dropna(axis=1, how='all')\n",
    "\n",
    "## Add the merged_on_address_match to the matched\n",
    "non_resi_address_merge_match5 = non_resi_address_merge_match5.rename(columns={\"uprn\": \"uprn_OSAB\"})\n",
    "non_resi_address_merge_match5['match_strategy'] = 'address_5'\n",
    "\n",
    "non_resi_all_matched = pd.concat([non_resi_all_matched, non_resi_address_merge_match5])"
   ]
  },
  {
   "cell_type": "code",
   "execution_count": 131,
   "id": "a1f4f6b6",
   "metadata": {},
   "outputs": [],
   "source": [
    "## Strategy 6\n",
    "left_columns_6 = ['concat_addr', 'postcode_clean']  \n",
    "right_columns_6 = ['parsed_address2', 'postcode_locator'] \n",
    "\n",
    "non_resi_address_merge_match6, non_resi_address_merge_no_match6 = my_merge(non_resi_address_merge_no_match5, other_AB, left_columns_6, right_columns_6)"
   ]
  },
  {
   "cell_type": "code",
   "execution_count": 132,
   "id": "97d7abb6",
   "metadata": {},
   "outputs": [
    {
     "data": {
      "text/plain": [
       "48"
      ]
     },
     "execution_count": 132,
     "metadata": {},
     "output_type": "execute_result"
    }
   ],
   "source": [
    "non_resi_address_merge_match6['UCL ID'].nunique()"
   ]
  },
  {
   "cell_type": "code",
   "execution_count": 133,
   "id": "aafb8a84",
   "metadata": {},
   "outputs": [],
   "source": [
    "non_resi_address_merge_no_match6 = non_resi_address_merge_no_match6.dropna(axis=1, how='all')\n",
    "\n",
    "## Add the merged_on_address_match to the matched\n",
    "non_resi_address_merge_match6 = non_resi_address_merge_match6.rename(columns={\"uprn\": \"uprn_OSAB\"})\n",
    "non_resi_address_merge_match6['match_strategy'] = 'address_6'\n",
    "\n",
    "non_resi_all_matched = pd.concat([non_resi_all_matched, non_resi_address_merge_match6])"
   ]
  },
  {
   "cell_type": "markdown",
   "id": "dbecb32b",
   "metadata": {},
   "source": [
    "Strategy 7 Other"
   ]
  },
  {
   "cell_type": "code",
   "execution_count": 134,
   "id": "711594cb",
   "metadata": {},
   "outputs": [],
   "source": [
    "#strategy 7 ADDRESS MATCH \n",
    "left_columns_7 = ['site_number_clean', 'street_name', 'postcode_clean']\n",
    "right_columns_7 = ['pao_start_num_suffix', 'street_description', 'postcode_locator'] \n",
    "\n",
    "non_resi_address_merge_match7, non_resi_address_merge_no_match7 = my_merge(non_resi_address_merge_no_match6, other_AB, left_columns_7, right_columns_7)\n"
   ]
  },
  {
   "cell_type": "code",
   "execution_count": 135,
   "id": "c8763ec3",
   "metadata": {},
   "outputs": [
    {
     "data": {
      "text/plain": [
       "38"
      ]
     },
     "execution_count": 135,
     "metadata": {},
     "output_type": "execute_result"
    }
   ],
   "source": [
    "non_resi_address_merge_match7['UCL ID'].nunique()"
   ]
  },
  {
   "cell_type": "code",
   "execution_count": 136,
   "id": "3a5d8b87",
   "metadata": {},
   "outputs": [],
   "source": [
    "non_resi_address_merge_no_match7 = non_resi_address_merge_no_match7.dropna(axis=1, how='all')\n",
    "\n",
    "## Add the merged_on_address_match to the matched\n",
    "non_resi_address_merge_match7 = non_resi_address_merge_match7.rename(columns={\"uprn\": \"uprn_OSAB\"})\n",
    "non_resi_address_merge_match7['match_strategy'] = 'address_7'\n",
    "\n",
    "non_resi_all_matched = pd.concat([non_resi_all_matched, non_resi_address_merge_match7])"
   ]
  },
  {
   "cell_type": "code",
   "execution_count": 137,
   "id": "23cd9335",
   "metadata": {},
   "outputs": [],
   "source": [
    "#strategy 8 ADDRESS MATCH \n",
    "left_columns_8 = ['site_number_clean', 'street_name', 'postcode_sector_x']\n",
    "right_columns_8 = ['pao_start_num_suffix','street_description', 'postcode_sector']\n",
    "\n",
    "non_resi_address_merge_match8, non_resi_address_merge_no_match8 = my_merge(non_resi_address_merge_no_match7, other_AB, left_columns_8, right_columns_8)"
   ]
  },
  {
   "cell_type": "code",
   "execution_count": 138,
   "id": "c9c36e2c",
   "metadata": {},
   "outputs": [
    {
     "data": {
      "text/plain": [
       "33"
      ]
     },
     "execution_count": 138,
     "metadata": {},
     "output_type": "execute_result"
    }
   ],
   "source": [
    "non_resi_address_merge_match8['UCL ID'].nunique()"
   ]
  },
  {
   "cell_type": "code",
   "execution_count": 139,
   "id": "fd6fa6cf",
   "metadata": {},
   "outputs": [],
   "source": [
    "non_resi_address_merge_no_match8 = non_resi_address_merge_no_match8.dropna(axis=1, how='all')\n",
    "\n",
    "## Add the merged_on_address_match to the matched\n",
    "non_resi_address_merge_match8 = non_resi_address_merge_match8.rename(columns={\"uprn\": \"uprn_OSAB\"})\n",
    "non_resi_address_merge_match8['match_strategy'] = 'address_8'\n",
    "\n",
    "non_resi_all_matched = pd.concat([non_resi_all_matched, non_resi_address_merge_match8])"
   ]
  },
  {
   "cell_type": "code",
   "execution_count": 140,
   "id": "c80cabab",
   "metadata": {},
   "outputs": [],
   "source": [
    "#strategy 9 ADDRESS MATCH \n",
    "left_columns_9 = ['site_number_clean', 'street_name', 'postcode_clean']\n",
    "right_columns_9 = ['pao_start_number', 'street_description', 'postcode_locator']\n",
    "\n",
    "non_resi_address_merge_match9, non_resi_address_merge_no_match9 = my_merge(non_resi_address_merge_no_match8, other_AB, left_columns_9, right_columns_9)"
   ]
  },
  {
   "cell_type": "code",
   "execution_count": 141,
   "id": "1202ccf5",
   "metadata": {},
   "outputs": [
    {
     "data": {
      "text/plain": [
       "0"
      ]
     },
     "execution_count": 141,
     "metadata": {},
     "output_type": "execute_result"
    }
   ],
   "source": [
    "non_resi_address_merge_match9['UCL ID'].nunique() #was 88"
   ]
  },
  {
   "cell_type": "code",
   "execution_count": 142,
   "id": "04e298c0",
   "metadata": {},
   "outputs": [],
   "source": [
    "non_resi_address_merge_no_match9 = non_resi_address_merge_no_match9.dropna(axis=1, how='all')\n",
    "\n",
    "## Add the merged_on_address_match to the matched\n",
    "non_resi_address_merge_match9 = non_resi_address_merge_match9.rename(columns={\"uprn\": \"uprn_OSAB\"})\n",
    "non_resi_address_merge_match9['match_strategy'] = 'address_9'\n",
    "\n",
    "non_resi_all_matched = pd.concat([non_resi_all_matched, non_resi_address_merge_match9])"
   ]
  },
  {
   "cell_type": "code",
   "execution_count": 143,
   "id": "d9dbd02e",
   "metadata": {},
   "outputs": [],
   "source": [
    "#STRATEGY 10\n",
    "left_columns_10 = ['site_number_clean', 'street_name', 'postcode_sector_x']\n",
    "right_columns_10 = ['pao_start_number', 'street_description', 'postcode_sector']\n",
    "\n",
    "non_resi_address_merge_match10, non_resi_address_merge_no_match10 = my_merge(non_resi_address_merge_no_match9, other_AB, left_columns_10, right_columns_10)"
   ]
  },
  {
   "cell_type": "code",
   "execution_count": 144,
   "id": "77126c6e",
   "metadata": {},
   "outputs": [
    {
     "data": {
      "text/plain": [
       "1"
      ]
     },
     "execution_count": 144,
     "metadata": {},
     "output_type": "execute_result"
    }
   ],
   "source": [
    "non_resi_address_merge_match10['UCL ID'].nunique() #was 88"
   ]
  },
  {
   "cell_type": "code",
   "execution_count": 146,
   "id": "344c4585",
   "metadata": {},
   "outputs": [],
   "source": [
    "non_resi_address_merge_no_match10 = non_resi_address_merge_no_match10.dropna(axis=1, how='all')\n",
    "\n",
    "## Add the merged_on_address_match to the matched\n",
    "non_resi_address_merge_match10 = non_resi_address_merge_match10.rename(columns={\"uprn\": \"uprn_OSAB\"})\n",
    "non_resi_address_merge_match10['match_strategy'] = 'address_10'\n",
    "\n",
    "non_resi_all_matched = pd.concat([non_resi_all_matched, non_resi_address_merge_match10])"
   ]
  },
  {
   "cell_type": "raw",
   "id": "3defdf06",
   "metadata": {},
   "source": [
    "#STRATEGY 11\n",
    "left_columns_11 = ['site_name_GLA_no_pc',  'postcode_sector_x']\n",
    "right_columns_11 = ['parsed_address1',  'postcode_sector']\n",
    "\n",
    "non_resi_address_merge_match11, non_resi_address_merge_no_match11 = my_merge(non_resi_address_merge_no_match9, other_AB, left_columns_11, right_columns_11)"
   ]
  },
  {
   "cell_type": "raw",
   "id": "faeb3253",
   "metadata": {},
   "source": [
    "non_resi_address_merge_match11['UCL_ID'].nunique() #was 88"
   ]
  },
  {
   "cell_type": "raw",
   "id": "5753ef97",
   "metadata": {},
   "source": [
    "non_resi_address_merge_no_match11 = non_resi_address_merge_no_match11.dropna(axis=1, how='all')\n",
    "\n",
    "## Add the merged_on_address_match to the matched\n",
    "non_resi_address_merge_match11 = non_resi_address_merge_match11.rename(columns={\"uprn\": \"uprn_OSAB\"})\n",
    "non_resi_address_merge_match11['match_strategy'] = 'address_11'\n",
    "\n",
    "non_resi_all_matched = pd.concat([non_resi_all_matched, non_resi_address_merge_match11])"
   ]
  },
  {
   "cell_type": "code",
   "execution_count": 147,
   "id": "e1974dbe",
   "metadata": {},
   "outputs": [],
   "source": [
    "#STRATEGY 12\n",
    "left_columns_12 = ['site_name_LPA_no_pc',  'postcode_sector_x']\n",
    "right_columns_12 = ['parsed_address1',  'postcode_sector']\n",
    "\n",
    "non_resi_address_merge_match12, non_resi_address_merge_no_match12 = my_merge(non_resi_address_merge_no_match10, other_AB, left_columns_12, right_columns_12)"
   ]
  },
  {
   "cell_type": "code",
   "execution_count": 148,
   "id": "0330c7e6",
   "metadata": {},
   "outputs": [
    {
     "data": {
      "text/plain": [
       "0"
      ]
     },
     "execution_count": 148,
     "metadata": {},
     "output_type": "execute_result"
    }
   ],
   "source": [
    "non_resi_address_merge_match12['UCL ID'].nunique() #was 88"
   ]
  },
  {
   "cell_type": "code",
   "execution_count": 149,
   "id": "b8193ba3",
   "metadata": {},
   "outputs": [],
   "source": [
    "non_resi_address_merge_no_match12 = non_resi_address_merge_no_match12.dropna(axis=1, how='all')\n",
    "\n",
    "## Add the merged_on_address_match to the matched\n",
    "non_resi_address_merge_match12 = non_resi_address_merge_match12.rename(columns={\"uprn\": \"uprn_OSAB\"})\n",
    "non_resi_address_merge_match12['match_strategy'] = 'address_12'\n",
    "\n",
    "non_resi_all_matched = pd.concat([non_resi_all_matched, non_resi_address_merge_match12])"
   ]
  },
  {
   "cell_type": "raw",
   "id": "f9a9430a",
   "metadata": {},
   "source": [
    "#STRATEGY 13\n",
    "left_columns_13 = ['site_name_GLA_no_pc',  'postcode_sector_x']\n",
    "right_columns_13 = ['parsed_address2',  'postcode_sector']\n",
    "\n",
    "non_resi_address_merge_match13, non_resi_address_merge_no_match13 = my_merge(non_resi_address_merge_no_match12, other_AB, left_columns_13, right_columns_13)"
   ]
  },
  {
   "cell_type": "raw",
   "id": "a5ecc4bf",
   "metadata": {},
   "source": [
    "non_resi_address_merge_match13['UCL_ID'].nunique() #was 88"
   ]
  },
  {
   "cell_type": "raw",
   "id": "b2bdf719",
   "metadata": {},
   "source": [
    "non_resi_address_merge_no_match13 = non_resi_address_merge_no_match13.dropna(axis=1, how='all')\n",
    "\n",
    "## Add the merged_on_address_match to the matched\n",
    "non_resi_address_merge_match13 = non_resi_address_merge_match13.rename(columns={\"uprn\": \"uprn_OSAB\"})\n",
    "non_resi_address_merge_match13['match_strategy'] = 'address_13'\n",
    "\n",
    "non_resi_all_matched = pd.concat([non_resi_all_matched, non_resi_address_merge_match13])"
   ]
  },
  {
   "cell_type": "code",
   "execution_count": 150,
   "id": "751f1428",
   "metadata": {},
   "outputs": [],
   "source": [
    "#STRATEGY 14\n",
    "left_columns_14 = ['site_name_LPA_no_pc',  'postcode_sector_x'] \n",
    "right_columns_14 = ['parsed_address2',  'postcode_sector']\n",
    "\n",
    "non_resi_address_merge_match14, non_resi_address_merge_no_match14 = my_merge(non_resi_address_merge_no_match12, other_AB, left_columns_14, right_columns_14)\n"
   ]
  },
  {
   "cell_type": "code",
   "execution_count": 151,
   "id": "e4511f45",
   "metadata": {},
   "outputs": [
    {
     "data": {
      "text/plain": [
       "0"
      ]
     },
     "execution_count": 151,
     "metadata": {},
     "output_type": "execute_result"
    }
   ],
   "source": [
    "non_resi_address_merge_match14['UCL ID'].nunique() #was 88"
   ]
  },
  {
   "cell_type": "code",
   "execution_count": 152,
   "id": "b656c12f",
   "metadata": {},
   "outputs": [],
   "source": [
    "non_resi_address_merge_no_match14 = non_resi_address_merge_no_match14.dropna(axis=1, how='all')\n",
    "\n",
    "## Add the merged_on_address_match to the matched\n",
    "non_resi_address_merge_match14 = non_resi_address_merge_match14.rename(columns={\"uprn\": \"uprn_OSAB\"})\n",
    "non_resi_address_merge_match14['match_strategy'] = 'address_14'\n",
    "\n",
    "non_resi_all_matched = pd.concat([non_resi_all_matched, non_resi_address_merge_match14])"
   ]
  },
  {
   "cell_type": "code",
   "execution_count": 153,
   "id": "ed005551",
   "metadata": {},
   "outputs": [],
   "source": [
    "#STRATEGY 15\n",
    "left_columns_15 = ['site_number_clean', 'street_name',  'postcode_sector_x']\n",
    "right_columns_15 = ['pao_start_number', 'street_description',   'postcode_sector']\n",
    "\n",
    "non_resi_address_merge_match15, non_resi_address_merge_no_match15 = my_merge(non_resi_address_merge_no_match14, other_AB, left_columns_15, right_columns_15)\n"
   ]
  },
  {
   "cell_type": "code",
   "execution_count": 154,
   "id": "6e24b364",
   "metadata": {},
   "outputs": [
    {
     "data": {
      "text/plain": [
       "0"
      ]
     },
     "execution_count": 154,
     "metadata": {},
     "output_type": "execute_result"
    }
   ],
   "source": [
    "non_resi_address_merge_match15['UCL ID'].nunique() #was 88"
   ]
  },
  {
   "cell_type": "code",
   "execution_count": 155,
   "id": "a0c7656f",
   "metadata": {},
   "outputs": [],
   "source": [
    "non_resi_address_merge_no_match15 = non_resi_address_merge_no_match15.dropna(axis=1, how='all')\n",
    "\n",
    "## Add the merged_on_address_match to the matched\n",
    "non_resi_address_merge_match15 = non_resi_address_merge_match15.rename(columns={\"uprn\": \"uprn_OSAB\"})\n",
    "non_resi_address_merge_match15['match_strategy'] = 'address_15'\n",
    "\n",
    "non_resi_all_matched = pd.concat([non_resi_all_matched, non_resi_address_merge_match15])"
   ]
  },
  {
   "cell_type": "code",
   "execution_count": 156,
   "id": "c9efd2cb",
   "metadata": {},
   "outputs": [
    {
     "data": {
      "text/plain": [
       "0"
      ]
     },
     "execution_count": 156,
     "metadata": {},
     "output_type": "execute_result"
    }
   ],
   "source": [
    "#Strategy 16\n",
    "left_columns_16 = ['concat_addr', 'lpa_name'] \n",
    "right_columns_16 = ['parsed_address1', 'administrative_area']\n",
    "\n",
    "non_resi_address_merge_match16, non_resi_address_merge_no_match16 = my_merge(non_resi_address_merge_no_match15, other_AB, left_columns_16, right_columns_16)\n",
    "non_resi_address_merge_match16['UCL ID'].nunique()"
   ]
  },
  {
   "cell_type": "code",
   "execution_count": 157,
   "id": "1cde4a5e",
   "metadata": {},
   "outputs": [],
   "source": [
    "non_resi_address_merge_no_match16 = non_resi_address_merge_no_match16.dropna(axis=1, how='all')\n",
    "non_resi_address_merge_match16 = non_resi_address_merge_match16.rename(columns={\"uprn\": \"uprn_OSAB\"})\n",
    "non_resi_address_merge_match16['match_strategy'] = 'address_16'\n",
    "\n",
    "non_resi_all_matched = pd.concat([non_resi_all_matched, non_resi_address_merge_match16])"
   ]
  },
  {
   "cell_type": "code",
   "execution_count": 158,
   "id": "171cbc69",
   "metadata": {},
   "outputs": [],
   "source": [
    "#strategy 17 \n",
    "left_columns_17 = ['concat_addr', 'lpa_name'] \n",
    "right_columns_17 = ['parsed_address2', 'administrative_area']\n",
    "\n",
    "non_resi_address_merge_match17, non_resi_address_merge_no_match17 = my_merge(non_resi_address_merge_no_match16, other_AB, left_columns_17, right_columns_17)\n"
   ]
  },
  {
   "cell_type": "code",
   "execution_count": 159,
   "id": "e4ec79c5",
   "metadata": {},
   "outputs": [
    {
     "data": {
      "text/plain": [
       "0"
      ]
     },
     "execution_count": 159,
     "metadata": {},
     "output_type": "execute_result"
    }
   ],
   "source": [
    "non_resi_address_merge_match17['UCL ID'].nunique()"
   ]
  },
  {
   "cell_type": "code",
   "execution_count": 160,
   "id": "ad2eb3d3",
   "metadata": {},
   "outputs": [],
   "source": [
    "non_resi_address_merge_no_match17 = non_resi_address_merge_no_match17.dropna(axis=1, how='all')\n",
    "non_resi_address_merge_match17 = non_resi_address_merge_match17.rename(columns={\"uprn\": \"uprn_OSAB\"})\n",
    "non_resi_address_merge_match17['match_strategy'] = 'address_17'\n",
    "\n",
    "non_resi_all_matched = pd.concat([non_resi_all_matched, non_resi_address_merge_match17])"
   ]
  },
  {
   "cell_type": "code",
   "execution_count": 161,
   "id": "634a6242",
   "metadata": {},
   "outputs": [
    {
     "data": {
      "text/plain": [
       "31"
      ]
     },
     "execution_count": 161,
     "metadata": {},
     "output_type": "execute_result"
    }
   ],
   "source": [
    "#strategy 18\n",
    "left_columns_18 = ['site_name_clean', 'street_name','postcode_clean']\n",
    "right_columns_18 = ['pao_text', 'street_description','postcode_locator']\n",
    "\n",
    "non_resi_address_merge_match18, non_resi_address_merge_no_match18 = my_merge(non_resi_address_merge_no_match17, other_AB, left_columns_18, right_columns_18)\n",
    "non_resi_address_merge_match18['UCL ID'].nunique()"
   ]
  },
  {
   "cell_type": "code",
   "execution_count": 162,
   "id": "095f9594",
   "metadata": {},
   "outputs": [],
   "source": [
    "non_resi_address_merge_no_match18 = non_resi_address_merge_no_match18.dropna(axis=1, how='all')\n",
    "non_resi_address_merge_match18 = non_resi_address_merge_match18.rename(columns={\"uprn\": \"uprn_OSAB\"})\n",
    "non_resi_address_merge_match18['match_strategy'] = 'address_18'\n",
    "\n",
    "non_resi_all_matched = pd.concat([non_resi_all_matched, non_resi_address_merge_match18])"
   ]
  },
  {
   "cell_type": "code",
   "execution_count": 163,
   "id": "e5abc671",
   "metadata": {},
   "outputs": [
    {
     "data": {
      "text/plain": [
       "0"
      ]
     },
     "execution_count": 163,
     "metadata": {},
     "output_type": "execute_result"
    }
   ],
   "source": [
    "#strategy 19\n",
    "left_columns_19 = ['site_number_clean', 'site_name_clean','postcode_clean']\n",
    "right_columns_19 = ['pao_start_number', 'building_name','postcode_locator']\n",
    "\n",
    "non_resi_address_merge_match19, non_resi_address_merge_no_match19 = my_merge(non_resi_address_merge_no_match18, other_AB, left_columns_19, right_columns_19)\n",
    "non_resi_address_merge_match19['UCL ID'].nunique()"
   ]
  },
  {
   "cell_type": "code",
   "execution_count": 164,
   "id": "c8b23339",
   "metadata": {},
   "outputs": [],
   "source": [
    "non_resi_address_merge_no_match19 = non_resi_address_merge_no_match19.dropna(axis=1, how='all')\n",
    "non_resi_address_merge_match19 = non_resi_address_merge_match19.rename(columns={\"uprn\": \"uprn_OSAB\"})\n",
    "non_resi_address_merge_match19['match_strategy'] = 'address_19'\n",
    "\n",
    "non_resi_all_matched = pd.concat([non_resi_all_matched, non_resi_address_merge_match19])"
   ]
  },
  {
   "cell_type": "code",
   "execution_count": 167,
   "id": "22864e3f",
   "metadata": {},
   "outputs": [
    {
     "data": {
      "text/plain": [
       "2"
      ]
     },
     "execution_count": 167,
     "metadata": {},
     "output_type": "execute_result"
    }
   ],
   "source": [
    "#Strategy 20 \n",
    "left_columns_20 = ['site_number_clean', 'site_name_clean','postcode_clean']\n",
    "right_columns_20 = ['building_number', 'building_name','postcode_locator']\n",
    "\n",
    "non_resi_address_merge_match20, non_resi_address_merge_no_match20 = my_merge(merged_on_address19_no_match, other_AB, left_columns_20, right_columns_20)\n",
    "\n",
    "non_resi_address_merge_match20['UCL ID'].nunique()"
   ]
  },
  {
   "cell_type": "code",
   "execution_count": 168,
   "id": "df7ccf9e",
   "metadata": {},
   "outputs": [],
   "source": [
    "non_resi_address_merge_no_match20 = non_resi_address_merge_no_match20.dropna(axis=1, how='all')\n",
    "non_resi_address_merge_match20 = non_resi_address_merge_match20.rename(columns={\"uprn\": \"uprn_OSAB\"})\n",
    "non_resi_address_merge_match20['match_strategy'] = 'address_20'\n",
    "\n",
    "non_resi_all_matched = pd.concat([non_resi_all_matched, non_resi_address_merge_match20])"
   ]
  },
  {
   "cell_type": "code",
   "execution_count": 549,
   "id": "711757c3",
   "metadata": {},
   "outputs": [],
   "source": [
    "non_resi_address_merge_no_match17.to_csv('no_match_june4.csv', index = False)"
   ]
  },
  {
   "cell_type": "markdown",
   "id": "82c0ba13",
   "metadata": {
    "tags": []
   },
   "source": [
    "#  Post Match"
   ]
  },
  {
   "cell_type": "markdown",
   "id": "8ff557c7",
   "metadata": {},
   "source": [
    "Calculate the match rates, clean data, and save as CSVs"
   ]
  },
  {
   "cell_type": "code",
   "execution_count": 170,
   "id": "8eee3873-8729-4cfa-9ab6-17e877174e88",
   "metadata": {
    "tags": []
   },
   "outputs": [
    {
     "name": "stdout",
     "output_type": "stream",
     "text": [
      "Resi Match rate:  17.346767422334175\n"
     ]
    }
   ],
   "source": [
    "#print match rate\n",
    "resi_match_rate = 100 * all_matched['UCL ID'].nunique() / england_data['UCL ID'].nunique()\n",
    "\n",
    "print('Resi Match rate: ', resi_match_rate) "
   ]
  },
  {
   "cell_type": "code",
   "execution_count": 171,
   "id": "4912f701",
   "metadata": {},
   "outputs": [
    {
     "data": {
      "text/plain": [
       "1033"
      ]
     },
     "execution_count": 171,
     "metadata": {},
     "output_type": "execute_result"
    }
   ],
   "source": [
    "all_matched['UCL ID'].nunique()"
   ]
  },
  {
   "cell_type": "code",
   "execution_count": 172,
   "id": "cad5c34c-b713-4ff6-99ac-6fa528313e1f",
   "metadata": {
    "tags": []
   },
   "outputs": [
    {
     "name": "stdout",
     "output_type": "stream",
     "text": [
      "Other Match rate:  5.9613769941225865\n"
     ]
    }
   ],
   "source": [
    "other_match_rate = 100 * non_resi_all_matched['UCL ID'].nunique() / england_data['UCL ID'].nunique()\n",
    "\n",
    "print('Other Match rate: ', other_match_rate) "
   ]
  },
  {
   "cell_type": "code",
   "execution_count": 173,
   "id": "381f9758",
   "metadata": {},
   "outputs": [
    {
     "data": {
      "text/plain": [
       "355"
      ]
     },
     "execution_count": 173,
     "metadata": {},
     "output_type": "execute_result"
    }
   ],
   "source": [
    "non_resi_all_matched['UCL ID'].nunique() "
   ]
  },
  {
   "cell_type": "code",
   "execution_count": 304,
   "id": "8575f697-728d-480f-9520-5fb95ee038fa",
   "metadata": {
    "tags": []
   },
   "outputs": [],
   "source": [
    "#before export, make all these columns blank instead of 0 \n",
    "#'legal_name', 'sub_building_name', 'building_name','building_number','street_description', 'dependent_locality\tlocality\n",
    "all_matched['street_name'] = all_matched['street_name'].replace(0,'')\n",
    "all_matched['legal_name'] = all_matched['legal_name'].replace(0,'')\n",
    "all_matched['sub_building_name'] = all_matched['sub_building_name'].replace(0,'')\n",
    "all_matched['building_name'] = all_matched['building_name'].replace(0,'')\n",
    "all_matched['building_number'] = all_matched['building_number'].replace(0,'')\n",
    "all_matched['street_description'] = all_matched['street_description'].replace(0,'')\n",
    "all_matched['dependent_locality'] = all_matched['dependent_locality'].replace(0,'')\n",
    "all_matched['locality'] = all_matched['locality'].replace(0,'')\n",
    "all_matched['post_town'] = all_matched['post_town'].replace(0,'')\n",
    "all_matched['postcode'] = np.where(all_matched['postcode'] == 0, all_matched['postcode_clean'], all_matched['postcode'])\n"
   ]
  },
  {
   "cell_type": "code",
   "execution_count": 305,
   "id": "1f807ae3-2cb7-4d0c-a3b1-36f9fe6dd0e3",
   "metadata": {
    "tags": []
   },
   "outputs": [],
   "source": [
    "#write out to csv \n",
    "\n",
    "all_matched.to_csv('Batch3c_address_matched_2006.csv', index=False) \n",
    "\n"
   ]
  },
  {
   "cell_type": "code",
   "execution_count": null,
   "id": "3a22a8ad",
   "metadata": {},
   "outputs": [],
   "source": [
    "non_resi_all_matched.to_csv('Batch3b_non_resi_match_1306.csv', index=False)  "
   ]
  },
  {
   "cell_type": "code",
   "execution_count": 176,
   "id": "7c218041-111b-41bc-b6de-b82dbf94a23e",
   "metadata": {
    "tags": []
   },
   "outputs": [],
   "source": [
    "non_resi_address_merge_no_match6.to_csv('Batch3b_no_match_1306.csv', index = False)"
   ]
  },
  {
   "cell_type": "code",
   "execution_count": 307,
   "id": "9c23280e-034a-4b48-8135-b77f728a37e2",
   "metadata": {},
   "outputs": [],
   "source": [
    "merged_on_address23_no_match.to_csv('Batch3c_no_match_2006.csv', index = False)"
   ]
  },
  {
   "cell_type": "code",
   "execution_count": null,
   "id": "7f129f81",
   "metadata": {},
   "outputs": [],
   "source": []
  }
 ],
 "metadata": {
  "kernelspec": {
   "display_name": "sds2023",
   "language": "python",
   "name": "sds2023"
  },
  "language_info": {
   "codemirror_mode": {
    "name": "ipython",
    "version": 3
   },
   "file_extension": ".py",
   "mimetype": "text/x-python",
   "name": "python",
   "nbconvert_exporter": "python",
   "pygments_lexer": "ipython3",
   "version": "3.11.7"
  },
  "toc-autonumbering": true
 },
 "nbformat": 4,
 "nbformat_minor": 5
}
