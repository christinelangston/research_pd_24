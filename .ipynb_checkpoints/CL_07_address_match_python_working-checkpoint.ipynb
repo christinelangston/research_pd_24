{
 "cells": [
  {
   "cell_type": "code",
   "execution_count": 1,
   "id": "4c500459-056e-402d-a9b8-118a319c50d3",
   "metadata": {},
   "outputs": [],
   "source": [
    "\"\"\" Script to match planning applications to OSAddressBase addresses\n",
    "\n",
    "This script first loads the OSAddress Base data (separated into residential and other uses in separate script)\n",
    "and then loads the planning application data scraped from local planning authority websites.\n",
    "\n",
    "The matching methodology is described in an additional document, and uses multiple strategies to match the planning\n",
    "application data records to residential addresses first, and then to other uses. It outputs a match rate that summarizes\n",
    "how many records matched to each type of address. \n",
    "\n",
    "Written by: Christine Langston, April - June 2024\n",
    "\"\"\"\n",
    "import pandas as pd\n",
    "import time\n",
    "import numpy as np\n",
    "import copy\n",
    "import re"
   ]
  },
  {
   "cell_type": "markdown",
   "id": "1ffd58a6",
   "metadata": {},
   "source": [
    "# Define functions"
   ]
  },
  {
   "cell_type": "code",
   "execution_count": 3,
   "id": "d28e6b8f-8758-4551-9d3b-d271bd6dcb9a",
   "metadata": {
    "tags": []
   },
   "outputs": [],
   "source": [
    "#takes a merged dataset and separates matched addresses and not matched\n",
    "def separate_matches(dataset, column_name, match_strategy):\n",
    "    dataset_match = dataset.drop(dataset[pd.isna(dataset[column_name]) == True].index)\n",
    "    dataset_no_match = dataset.drop(dataset[pd.isna(dataset[column_name]) == False].index)\n",
    "    dataset_match['match_strategy'] = match_strategy\n",
    "    return dataset_match, dataset_no_match"
   ]
  },
  {
   "cell_type": "code",
   "execution_count": 4,
   "id": "09d8c1aa-27ee-4fd2-a82d-8cca7c6d36b1",
   "metadata": {
    "tags": []
   },
   "outputs": [],
   "source": [
    "#function to merge and then split based on if an address was matched  \n",
    "def my_merge(left, right, left_on, right_on): \n",
    "    merged = left.merge(right, how = 'left', left_on = left_on, right_on = right_on)\n",
    "    merged_match = merged.drop(merged[pd.isna(merged['uprn']) == True].index) \n",
    "    merged_no_match = merged.drop(merged[pd.isna(merged['uprn']) == False].index) \n",
    "    return merged_match, merged_no_match"
   ]
  },
  {
   "cell_type": "markdown",
   "id": "c1a9e578",
   "metadata": {},
   "source": [
    "# Load Data"
   ]
  },
  {
   "cell_type": "code",
   "execution_count": 5,
   "id": "9cf1fb83-c0fd-4b58-aaf8-33285672c9d4",
   "metadata": {},
   "outputs": [
    {
     "name": "stdout",
     "output_type": "stream",
     "text": [
      "CPU times: user 4min 44s, sys: 11min 24s, total: 16min 9s\n",
      "Wall time: 27min 36s\n"
     ]
    }
   ],
   "source": [
    "%%time\n",
    "#### READ IN THE DATA IF EXPORTED \n",
    "resi_AB = pd.read_csv('data/resi_AB_cleaned_parsed_110524.csv',na_values = '0', low_memory = False)\n"
   ]
  },
  {
   "cell_type": "code",
   "execution_count": 6,
   "id": "fc15fad0",
   "metadata": {},
   "outputs": [
    {
     "name": "stdout",
     "output_type": "stream",
     "text": [
      "CPU times: user 39.1 s, sys: 7.03 s, total: 46.2 s\n",
      "Wall time: 52.9 s\n"
     ]
    }
   ],
   "source": [
    "%%time\n",
    "other_AB = pd.read_csv('data/other_AB_cleaned_parsed_110524.csv', na_values = '0',low_memory = False)\n",
    "\n"
   ]
  },
  {
   "cell_type": "code",
   "execution_count": 7,
   "id": "28b4f05b",
   "metadata": {},
   "outputs": [],
   "source": [
    "#load in the data that hasn't been matched yet\n",
    "#london_data = pd.read_csv('data/London2_no_match_2603.csv',low_memory = False)\n",
    "#load in the batch 1 no match rate...\n",
    "#london_data = pd.read_csv('data/London1_no_match_1903.csv',low_memory = False)\n",
    "#london_data = pd.read_csv('London1b_no_match_0406_manual_clean.csv',low_memory = False)\n",
    "england_data = pd.read_csv('data/Batch3_no_match_1405.csv', low_memory = False)"
   ]
  },
  {
   "cell_type": "markdown",
   "id": "3f9869b1",
   "metadata": {},
   "source": [
    "# Data Cleaning"
   ]
  },
  {
   "cell_type": "markdown",
   "id": "fc67c32e",
   "metadata": {},
   "source": [
    "Data cleaning steps to clean up the Nan and numerical data coming from the CSV"
   ]
  },
  {
   "cell_type": "code",
   "execution_count": 8,
   "id": "2b3076b9-5155-4cd9-977d-c3b351496c54",
   "metadata": {
    "tags": []
   },
   "outputs": [],
   "source": [
    "#edit the parent uprn from OSAddress base to fill out to be strings with 12 digits and leading zeros\n",
    "#replace nan with empty string\n",
    "\n",
    "resi_AB = resi_AB.replace([np.nan, -np.inf], 0)\n",
    "\n",
    "#cast as integer\n",
    "resi_AB['parent_uprn'] = resi_AB['parent_uprn'].astype('Int64')\n",
    "resi_AB['uprn'] = resi_AB['uprn'].astype('Int64')"
   ]
  },
  {
   "cell_type": "code",
   "execution_count": 9,
   "id": "0016326f-51fd-43ab-b3ff-2b4a02a5ddb4",
   "metadata": {
    "tags": []
   },
   "outputs": [],
   "source": [
    "#cast as string \n",
    "resi_AB['parent_uprn'] = resi_AB['parent_uprn'].astype(str)\n",
    "resi_AB['uprn'] = resi_AB['uprn'].astype(str)\n",
    "\n",
    "#fill in with left side padding zeros \n",
    "resi_AB['parent_uprn'] = resi_AB['parent_uprn'].apply(lambda x: '{0:0>12}'.format(x))\n",
    "resi_AB['uprn'] = resi_AB['uprn'].apply(lambda x: '{0:0>12}'.format(x))\n"
   ]
  },
  {
   "cell_type": "code",
   "execution_count": 10,
   "id": "8163f510",
   "metadata": {},
   "outputs": [],
   "source": [
    "#do the same cleaning as above but for the OTHER addresses\n",
    "other_AB = other_AB.replace([np.nan, -np.inf], 0)\n",
    "\n",
    "#cast as integer\n",
    "other_AB['parent_uprn'] = other_AB['parent_uprn'].astype('Int64')\n",
    "other_AB['uprn'] = other_AB['uprn'].astype('Int64')"
   ]
  },
  {
   "cell_type": "code",
   "execution_count": 11,
   "id": "cb0f904c",
   "metadata": {},
   "outputs": [],
   "source": [
    "#cast as string \n",
    "other_AB['parent_uprn'] = other_AB['parent_uprn'].astype(str)\n",
    "other_AB['uprn'] = other_AB['uprn'].astype(str)\n",
    "\n",
    "#fill in with left side padding zeros \n",
    "other_AB['parent_uprn'] = other_AB['parent_uprn'].apply(lambda x: '{0:0>12}'.format(x))\n",
    "other_AB['uprn'] = other_AB['uprn'].apply(lambda x: '{0:0>12}'.format(x))\n"
   ]
  },
  {
   "cell_type": "markdown",
   "id": "5ddd3f23",
   "metadata": {},
   "source": [
    "Recast data columns as integers and then strings where needed to eliminate decimals"
   ]
  },
  {
   "cell_type": "code",
   "execution_count": 12,
   "id": "2889e1ef-cc0a-4561-9bb8-bf522d5798a1",
   "metadata": {},
   "outputs": [],
   "source": [
    "#Address matching data clean, make building number into a string \n",
    "resi_AB['building_number'] = resi_AB['building_number'].astype('Int64').astype('str') "
   ]
  },
  {
   "cell_type": "code",
   "execution_count": 13,
   "id": "bc2ebb0d",
   "metadata": {},
   "outputs": [],
   "source": [
    "resi_AB['pao_start_number'] = resi_AB['pao_start_number'].astype('Int64').astype('str') \n"
   ]
  },
  {
   "cell_type": "code",
   "execution_count": 14,
   "id": "8ec0c75b",
   "metadata": {},
   "outputs": [],
   "source": [
    "resi_AB['pao_start_suffix'] = resi_AB.apply(lambda x: np.where(x['pao_start_suffix']== 0, '', x['pao_start_suffix']), axis = 1)"
   ]
  },
  {
   "cell_type": "code",
   "execution_count": 15,
   "id": "47741360",
   "metadata": {},
   "outputs": [],
   "source": [
    "resi_AB['pao_start_number'] = resi_AB.apply(lambda x: np.where(x['pao_start_number']== '0', '', x['pao_start_number'] )  , axis = 1)"
   ]
  },
  {
   "cell_type": "code",
   "execution_count": 16,
   "id": "00962863",
   "metadata": {},
   "outputs": [],
   "source": [
    "resi_AB['pao_start_number'] = resi_AB['pao_start_number'].replace('0','')"
   ]
  },
  {
   "cell_type": "code",
   "execution_count": 17,
   "id": "de3a9a8e",
   "metadata": {},
   "outputs": [],
   "source": [
    "resi_AB['pao_start_number'] = resi_AB['pao_start_number'].astype(str)"
   ]
  },
  {
   "cell_type": "code",
   "execution_count": 18,
   "id": "c4ff743e",
   "metadata": {},
   "outputs": [],
   "source": [
    "resi_AB['pao_start_suffix'] = resi_AB['pao_start_suffix'].astype(str)"
   ]
  },
  {
   "cell_type": "code",
   "execution_count": 19,
   "id": "3b09d6d2",
   "metadata": {},
   "outputs": [],
   "source": [
    "# create new column 'pao_start_num_suffix' with the pao_start_number plus pa_start_suffix \n",
    "\n",
    "resi_AB['pao_start_num_suffix'] = resi_AB['pao_start_number'].astype(str) + resi_AB['pao_start_suffix'].astype(str)"
   ]
  },
  {
   "cell_type": "markdown",
   "id": "c3fb7c08",
   "metadata": {},
   "source": [
    "Same data cleaning for Other AB"
   ]
  },
  {
   "cell_type": "code",
   "execution_count": 20,
   "id": "0e294c44",
   "metadata": {},
   "outputs": [],
   "source": [
    "other_AB['building_number'] = other_AB['building_number'].astype('Int64').astype('str') "
   ]
  },
  {
   "cell_type": "code",
   "execution_count": 21,
   "id": "54bda890",
   "metadata": {},
   "outputs": [],
   "source": [
    "other_AB['pao_start_number'] = other_AB['pao_start_number'].astype('Int64').astype('str') "
   ]
  },
  {
   "cell_type": "code",
   "execution_count": 22,
   "id": "facd60fa",
   "metadata": {},
   "outputs": [],
   "source": [
    "other_AB['pao_start_suffix'] = other_AB.apply(lambda x: np.where(x['pao_start_suffix']== 0, '', x['pao_start_suffix']), axis = 1)"
   ]
  },
  {
   "cell_type": "code",
   "execution_count": 23,
   "id": "4a99236d",
   "metadata": {},
   "outputs": [],
   "source": [
    "other_AB['pao_start_suffix'] = other_AB['pao_start_suffix'].astype(str)"
   ]
  },
  {
   "cell_type": "code",
   "execution_count": 24,
   "id": "131b4d33",
   "metadata": {},
   "outputs": [],
   "source": [
    "other_AB['pao_start_number'] = other_AB.apply(lambda x: np.where(x['pao_start_number']== '0', '', x['pao_start_number'] )  , axis = 1)"
   ]
  },
  {
   "cell_type": "code",
   "execution_count": 25,
   "id": "58874cb1",
   "metadata": {},
   "outputs": [],
   "source": [
    "other_AB['pao_start_number'] = other_AB['pao_start_number'].astype(str)"
   ]
  },
  {
   "cell_type": "code",
   "execution_count": 26,
   "id": "152ad19c",
   "metadata": {},
   "outputs": [],
   "source": [
    "# create new column 'pao_start_num_suffix' with the pao_start_number plus pa_start_suffix \n",
    "\n",
    "other_AB['pao_start_num_suffix'] = other_AB['pao_start_number'].astype(str) + other_AB['pao_start_suffix'].astype(str)"
   ]
  },
  {
   "cell_type": "markdown",
   "id": "0ecb015d",
   "metadata": {},
   "source": [
    "Data cleaning for planning application data"
   ]
  },
  {
   "cell_type": "code",
   "execution_count": 27,
   "id": "54dfd8e2",
   "metadata": {},
   "outputs": [
    {
     "data": {
      "text/html": [
       "<div>\n",
       "<style scoped>\n",
       "    .dataframe tbody tr th:only-of-type {\n",
       "        vertical-align: middle;\n",
       "    }\n",
       "\n",
       "    .dataframe tbody tr th {\n",
       "        vertical-align: top;\n",
       "    }\n",
       "\n",
       "    .dataframe thead th {\n",
       "        text-align: right;\n",
       "    }\n",
       "</style>\n",
       "<table border=\"1\" class=\"dataframe\">\n",
       "  <thead>\n",
       "    <tr style=\"text-align: right;\">\n",
       "      <th></th>\n",
       "      <th>UCL ID</th>\n",
       "      <th>planning_application_number</th>\n",
       "      <th>lpa_name</th>\n",
       "      <th>application_type</th>\n",
       "      <th>application_type_full</th>\n",
       "      <th>description</th>\n",
       "      <th>number_of_units</th>\n",
       "      <th>postcode_clean</th>\n",
       "      <th>site_number_clean</th>\n",
       "      <th>site_name_clean</th>\n",
       "      <th>...</th>\n",
       "      <th>decision</th>\n",
       "      <th>status</th>\n",
       "      <th>application_date</th>\n",
       "      <th>decision_date</th>\n",
       "      <th>PD_type</th>\n",
       "      <th>Full Address on Planning Application</th>\n",
       "      <th>FPP_PA_Mix</th>\n",
       "      <th>parsed_street_LPA</th>\n",
       "      <th>concat_addr</th>\n",
       "      <th>site_name_LPA_no_pc</th>\n",
       "    </tr>\n",
       "  </thead>\n",
       "  <tbody>\n",
       "    <tr>\n",
       "      <th>0</th>\n",
       "      <td>5004</td>\n",
       "      <td>2/2014/0391</td>\n",
       "      <td>Allerdale</td>\n",
       "      <td>Prior Approval</td>\n",
       "      <td>NaN</td>\n",
       "      <td>Prior approval of proposed change of use of ag...</td>\n",
       "      <td>NaN</td>\n",
       "      <td>CA7 8NQ</td>\n",
       "      <td>NaN</td>\n",
       "      <td>Clea Green</td>\n",
       "      <td>...</td>\n",
       "      <td>Approved</td>\n",
       "      <td>NaN</td>\n",
       "      <td>NaN</td>\n",
       "      <td>2014-06-04 00:00:00</td>\n",
       "      <td>Agricultural to resi</td>\n",
       "      <td>NaN</td>\n",
       "      <td>NaN</td>\n",
       "      <td>NaN</td>\n",
       "      <td>NaN</td>\n",
       "      <td>CLEA GREEN, WESTWARD, WIGTON, CUMBRIA,</td>\n",
       "    </tr>\n",
       "    <tr>\n",
       "      <th>1</th>\n",
       "      <td>5006</td>\n",
       "      <td>2/2014/0749</td>\n",
       "      <td>Allerdale</td>\n",
       "      <td>Prior Approval</td>\n",
       "      <td>NaN</td>\n",
       "      <td>Notification for Prior Approval under Class MB...</td>\n",
       "      <td>NaN</td>\n",
       "      <td>CA7 0AB</td>\n",
       "      <td>NaN</td>\n",
       "      <td>Church Rigg Farm</td>\n",
       "      <td>...</td>\n",
       "      <td>Prior Approval Not Required</td>\n",
       "      <td>NaN</td>\n",
       "      <td>NaN</td>\n",
       "      <td>2014-10-14 00:00:00</td>\n",
       "      <td>Agricultural to resi</td>\n",
       "      <td>NaN</td>\n",
       "      <td>NaN</td>\n",
       "      <td>NaN</td>\n",
       "      <td>NaN</td>\n",
       "      <td>CHURCH RIGG FARM, WIGTON, CUMBRIA,</td>\n",
       "    </tr>\n",
       "    <tr>\n",
       "      <th>2</th>\n",
       "      <td>5007</td>\n",
       "      <td>2/2014/0832</td>\n",
       "      <td>Allerdale</td>\n",
       "      <td>Prior Approval</td>\n",
       "      <td>NaN</td>\n",
       "      <td>Prior approval of proposed change of use of ag...</td>\n",
       "      <td>NaN</td>\n",
       "      <td>CA7 8AS</td>\n",
       "      <td>NaN</td>\n",
       "      <td>Brackenridge Farm</td>\n",
       "      <td>...</td>\n",
       "      <td>Approved</td>\n",
       "      <td>NaN</td>\n",
       "      <td>NaN</td>\n",
       "      <td>2014-11-24 00:00:00</td>\n",
       "      <td>Agricultural to resi</td>\n",
       "      <td>NaN</td>\n",
       "      <td>NaN</td>\n",
       "      <td>NaN</td>\n",
       "      <td>NaN</td>\n",
       "      <td>BARN 2, BRACKENRIDGE FARM, BRACKENTHWAITE, WIG...</td>\n",
       "    </tr>\n",
       "    <tr>\n",
       "      <th>3</th>\n",
       "      <td>5008</td>\n",
       "      <td>2/2014/0896</td>\n",
       "      <td>Allerdale</td>\n",
       "      <td>Prior Approval</td>\n",
       "      <td>NaN</td>\n",
       "      <td>Prior approval of proposed change of use from ...</td>\n",
       "      <td>NaN</td>\n",
       "      <td>CA7 2RA</td>\n",
       "      <td>NaN</td>\n",
       "      <td>Greengill Farm</td>\n",
       "      <td>...</td>\n",
       "      <td>Approved</td>\n",
       "      <td>NaN</td>\n",
       "      <td>NaN</td>\n",
       "      <td>2014-12-19 00:00:00</td>\n",
       "      <td>Agricultural to resi</td>\n",
       "      <td>NaN</td>\n",
       "      <td>NaN</td>\n",
       "      <td>NaN</td>\n",
       "      <td>NaN</td>\n",
       "      <td>GREENGILL FARM, GREENGILL, ASPATRIA, WIGTON, C...</td>\n",
       "    </tr>\n",
       "    <tr>\n",
       "      <th>4</th>\n",
       "      <td>5009</td>\n",
       "      <td>2/2015/0001</td>\n",
       "      <td>Allerdale</td>\n",
       "      <td>Prior Approval</td>\n",
       "      <td>NaN</td>\n",
       "      <td>Prior approval of proposed change of use agric...</td>\n",
       "      <td>NaN</td>\n",
       "      <td>CA7 5LF</td>\n",
       "      <td>NaN</td>\n",
       "      <td>Powhill Farm Cottage</td>\n",
       "      <td>...</td>\n",
       "      <td>Prior Approval Not Required</td>\n",
       "      <td>NaN</td>\n",
       "      <td>NaN</td>\n",
       "      <td>2015-01-05 00:00:00</td>\n",
       "      <td>Agricultural to resi</td>\n",
       "      <td>NaN</td>\n",
       "      <td>NaN</td>\n",
       "      <td>NaN</td>\n",
       "      <td>NaN</td>\n",
       "      <td>POWHILL FARM COTTAGE, POWHILL FARM, KIRKBRIDE,...</td>\n",
       "    </tr>\n",
       "  </tbody>\n",
       "</table>\n",
       "<p>5 rows × 23 columns</p>\n",
       "</div>"
      ],
      "text/plain": [
       "   UCL ID planning_application_number   lpa_name application_type  \\\n",
       "0    5004                 2/2014/0391  Allerdale   Prior Approval   \n",
       "1    5006                 2/2014/0749  Allerdale   Prior Approval   \n",
       "2    5007                 2/2014/0832  Allerdale   Prior Approval   \n",
       "3    5008                 2/2014/0896  Allerdale   Prior Approval   \n",
       "4    5009                 2/2015/0001  Allerdale   Prior Approval   \n",
       "\n",
       "  application_type_full                                        description  \\\n",
       "0                   NaN  Prior approval of proposed change of use of ag...   \n",
       "1                   NaN  Notification for Prior Approval under Class MB...   \n",
       "2                   NaN  Prior approval of proposed change of use of ag...   \n",
       "3                   NaN  Prior approval of proposed change of use from ...   \n",
       "4                   NaN  Prior approval of proposed change of use agric...   \n",
       "\n",
       "  number_of_units postcode_clean site_number_clean       site_name_clean  ...  \\\n",
       "0             NaN        CA7 8NQ               NaN            Clea Green  ...   \n",
       "1             NaN        CA7 0AB               NaN      Church Rigg Farm  ...   \n",
       "2             NaN        CA7 8AS               NaN     Brackenridge Farm  ...   \n",
       "3             NaN        CA7 2RA               NaN        Greengill Farm  ...   \n",
       "4             NaN        CA7 5LF               NaN  Powhill Farm Cottage  ...   \n",
       "\n",
       "                      decision status application_date        decision_date  \\\n",
       "0                     Approved    NaN              NaN  2014-06-04 00:00:00   \n",
       "1  Prior Approval Not Required    NaN              NaN  2014-10-14 00:00:00   \n",
       "2                     Approved    NaN              NaN  2014-11-24 00:00:00   \n",
       "3                     Approved    NaN              NaN  2014-12-19 00:00:00   \n",
       "4  Prior Approval Not Required    NaN              NaN  2015-01-05 00:00:00   \n",
       "\n",
       "                PD_type Full Address on Planning Application FPP_PA_Mix  \\\n",
       "0  Agricultural to resi                                  NaN        NaN   \n",
       "1  Agricultural to resi                                  NaN        NaN   \n",
       "2  Agricultural to resi                                  NaN        NaN   \n",
       "3  Agricultural to resi                                  NaN        NaN   \n",
       "4  Agricultural to resi                                  NaN        NaN   \n",
       "\n",
       "  parsed_street_LPA concat_addr  \\\n",
       "0               NaN         NaN   \n",
       "1               NaN         NaN   \n",
       "2               NaN         NaN   \n",
       "3               NaN         NaN   \n",
       "4               NaN         NaN   \n",
       "\n",
       "                                 site_name_LPA_no_pc  \n",
       "0            CLEA GREEN, WESTWARD, WIGTON, CUMBRIA,   \n",
       "1                CHURCH RIGG FARM, WIGTON, CUMBRIA,   \n",
       "2  BARN 2, BRACKENRIDGE FARM, BRACKENTHWAITE, WIG...  \n",
       "3  GREENGILL FARM, GREENGILL, ASPATRIA, WIGTON, C...  \n",
       "4  POWHILL FARM COTTAGE, POWHILL FARM, KIRKBRIDE,...  \n",
       "\n",
       "[5 rows x 23 columns]"
      ]
     },
     "execution_count": 27,
     "metadata": {},
     "output_type": "execute_result"
    }
   ],
   "source": [
    "england_data.head()"
   ]
  },
  {
   "cell_type": "code",
   "execution_count": 41,
   "id": "e4c96428",
   "metadata": {},
   "outputs": [
    {
     "data": {
      "text/plain": [
       "0       000000000nan\n",
       "1       000000000nan\n",
       "2       000000000nan\n",
       "3       000000000nan\n",
       "4       000000000nan\n",
       "            ...     \n",
       "5950    000000000nan\n",
       "5951    000000000nan\n",
       "5952    000000000nan\n",
       "5953    000000000nan\n",
       "5954    000000000nan\n",
       "Name: uprn_x, Length: 5955, dtype: object"
      ]
     },
     "execution_count": 41,
     "metadata": {},
     "output_type": "execute_result"
    }
   ],
   "source": [
    "#check that uprn_x has NaNs and integers\n",
    "england_data['uprn_x']"
   ]
  },
  {
   "cell_type": "code",
   "execution_count": 18,
   "id": "74acf72f-612b-40cf-b6e9-353b7ca0f843",
   "metadata": {
    "tags": []
   },
   "outputs": [],
   "source": [
    "#BATCH 1 ONLY london_data has extra quotation marks, need to remove\n",
    "#london_data['uprn'] = london_data['uprn'].apply(lambda x: x.strip(\"''\") if not pd.isna(x) else x)\n"
   ]
  },
  {
   "cell_type": "code",
   "execution_count": 38,
   "id": "68b72a94-714d-4bc2-993f-a4342aae1f64",
   "metadata": {
    "tags": []
   },
   "outputs": [],
   "source": [
    "#clean the uprn_x column\n",
    "england_data['uprn_x'] = england_data['uprn_x'].astype('Int64', errors = 'ignore')"
   ]
  },
  {
   "cell_type": "code",
   "execution_count": 40,
   "id": "2cb84de6-9c8a-46b7-8079-a2d0feaa1a8b",
   "metadata": {
    "tags": []
   },
   "outputs": [],
   "source": [
    "#cast the strings and make sure it looks correct \n",
    "england_data['uprn_x'] = england_data['uprn_x'].astype('str') #apply(lambda x: str(x) if not pd.isna(x) else x)\n",
    "\n",
    "england_data['uprn_x'] = england_data['uprn_x'].apply(lambda x: '{0:0>12}'.format(x) if not pd.isna(x) else x)"
   ]
  },
  {
   "cell_type": "code",
   "execution_count": 42,
   "id": "e268f803-43d6-422d-a8d3-ea16f976ea71",
   "metadata": {
    "tags": []
   },
   "outputs": [],
   "source": [
    "#replace strings with Nan values\n",
    "england_data = england_data.replace('000000000nan',np.NaN)"
   ]
  },
  {
   "cell_type": "code",
   "execution_count": 47,
   "id": "8eeb6d39",
   "metadata": {},
   "outputs": [
    {
     "data": {
      "text/plain": [
       "UCL ID                                  5955\n",
       "planning_application_number             5955\n",
       "lpa_name                                5955\n",
       "application_type                        5955\n",
       "application_type_full                   2566\n",
       "description                             5815\n",
       "number_of_units                          229\n",
       "postcode_clean                          5279\n",
       "site_number_clean                       2495\n",
       "site_name_clean                         3468\n",
       "street_name                             4653\n",
       "site_name_LPA                           5953\n",
       "uprn_x                                   385\n",
       "decision                                4884\n",
       "status                                   740\n",
       "application_date                        5070\n",
       "decision_date                           5141\n",
       "PD_type                                 5955\n",
       "Full Address on Planning Application     405\n",
       "FPP_PA_Mix                                58\n",
       "parsed_street_LPA                       1485\n",
       "concat_addr                             4653\n",
       "site_name_LPA_no_pc                     5955\n",
       "dtype: int64"
      ]
     },
     "execution_count": 47,
     "metadata": {},
     "output_type": "execute_result"
    }
   ],
   "source": [
    "england_data.count()"
   ]
  },
  {
   "cell_type": "markdown",
   "id": "57361401",
   "metadata": {},
   "source": [
    "Ignore the creation of the columns below if columns already exist (such as when matching a batch for a second, third, etc. time)"
   ]
  },
  {
   "cell_type": "code",
   "execution_count": 273,
   "id": "5185cbad-13b5-4e16-a5f6-12c349dd89b2",
   "metadata": {
    "tags": []
   },
   "outputs": [],
   "source": [
    "#create street address from site_name_LPA\n",
    "london_data['parsed_street_LPA'] = london_data['site_name_LPA'].apply(lambda x: re.findall(\"[0-9]+.-?.[0-9]+?\\s(.+)(Road|Lane|Avenue|Parade|Courtyard|Street|Gardens|Drive)\", x) if not pd.isna(x) and '-' in x\n",
    "                                                                  else (re.findall(\"[0-9]+\\s(.+)(Road|Lane|Avenue|Parade|Courtyard|Street|Gardens|Drive)\", x) if not pd.isna(x) else []))\n"
   ]
  },
  {
   "cell_type": "code",
   "execution_count": 274,
   "id": "e31741b8-ad97-4ccc-96cc-5d2aecbc258f",
   "metadata": {
    "tags": []
   },
   "outputs": [],
   "source": [
    "london_data['parsed_street_LPA'] =  london_data['parsed_street_LPA'].apply(lambda x: x[0][0] + x[0][1]  if len(x) > 0 else None)"
   ]
  },
  {
   "cell_type": "markdown",
   "id": "db4d810f",
   "metadata": {},
   "source": [
    "Only execute fields with GLA if for Batch 1 or 2 (London Data)"
   ]
  },
  {
   "cell_type": "code",
   "execution_count": 275,
   "id": "46d0e2c6-a74a-4399-92d9-813f97ca4407",
   "metadata": {
    "tags": []
   },
   "outputs": [],
   "source": [
    "#cleaning - street address\n",
    "london_data['parsed_street_GLA'] = london_data['site_name_GLA'].apply(lambda x: re.findall(\"[0-9]+.-?.[0-9]+?\\s(.+)(Road|Lane|Avenue|Parade|Courtyard|Street|Gardens|Drive)\", x) if not pd.isna(x) and '-' in x\n",
    "                                                                  else (re.findall(\"[0-9]+\\s(.+)(Road|Lane|Avenue|Parade|Courtyard|Street|Gardens|Drive)\", x) if not pd.isna(x) else []))\n"
   ]
  },
  {
   "cell_type": "code",
   "execution_count": 276,
   "id": "91c78b6f-f3e5-4d06-92a3-fcdcbde921a7",
   "metadata": {
    "tags": []
   },
   "outputs": [],
   "source": [
    "london_data['parsed_street_GLA'] =  london_data['parsed_street_GLA'].apply(lambda x: x[0][0] + x[0][1]  if len(x) > 0 else None)"
   ]
  },
  {
   "cell_type": "code",
   "execution_count": 277,
   "id": "b23647b7-1efc-47b6-b392-71e3a42c3410",
   "metadata": {
    "tags": []
   },
   "outputs": [],
   "source": [
    "#if the original street was empty, then we want to use the LPA Or GLA parsed name as street_name \n",
    "\n",
    "london_data['street_name'] = np.where(london_data['street_name'].isnull(), np.where(london_data['parsed_street_LPA'].isnull(), london_data['parsed_street_GLA'], london_data['parsed_street_LPA']), london_data['street_name'] )"
   ]
  },
  {
   "cell_type": "markdown",
   "id": "ff978fe9",
   "metadata": {},
   "source": [
    "Continue here to clean data for all batches"
   ]
  },
  {
   "cell_type": "code",
   "execution_count": 48,
   "id": "64c11874",
   "metadata": {},
   "outputs": [],
   "source": [
    "# create new column with the number, street description, and the site name \n",
    "england_data['concat_addr'] = np.where(england_data['site_name_clean'].isnull(), '', england_data['site_name_clean'] +  ', ' ) + england_data['site_number_clean'] + ', ' +  england_data['street_name']"
   ]
  },
  {
   "cell_type": "code",
   "execution_count": 49,
   "id": "6570e4c9",
   "metadata": {},
   "outputs": [],
   "source": [
    "england_data['concat_addr'] = england_data['concat_addr'].str.upper()"
   ]
  },
  {
   "cell_type": "code",
   "execution_count": 50,
   "id": "86564adf-dc20-4480-8e7a-b5169c2b006f",
   "metadata": {
    "tags": []
   },
   "outputs": [],
   "source": [
    "#make street names all into capitals to regularize\n",
    "england_data['street_name'] = england_data['street_name'].str.upper()"
   ]
  },
  {
   "cell_type": "code",
   "execution_count": 51,
   "id": "f076f21a",
   "metadata": {},
   "outputs": [],
   "source": [
    "#remove unwanted characters\n",
    "england_data['postcode_clean'] = england_data['postcode_clean'].replace('x000D__x000D_\\n', '')"
   ]
  },
  {
   "cell_type": "code",
   "execution_count": 52,
   "id": "7983ae57",
   "metadata": {},
   "outputs": [],
   "source": [
    "england_data = england_data.replace({'_x000D__x000D_\\n': ' ', '_x000d__x000d_\\n': ' ' }, regex = True)"
   ]
  },
  {
   "cell_type": "code",
   "execution_count": 53,
   "id": "6b8877e7",
   "metadata": {},
   "outputs": [],
   "source": [
    "#remove white space\n",
    "england_data['postcode_clean'] = england_data['postcode_clean'].apply(lambda x: str(x).strip())"
   ]
  },
  {
   "cell_type": "code",
   "execution_count": 54,
   "id": "90f26137",
   "metadata": {},
   "outputs": [],
   "source": [
    "#add column with postcode sector\n",
    "england_data['postcode_sector'] = england_data['postcode_clean'].apply(lambda x: x[:-2])"
   ]
  },
  {
   "cell_type": "code",
   "execution_count": 285,
   "id": "2aff7441",
   "metadata": {},
   "outputs": [],
   "source": [
    "#substring of site_name_GLA without the postcode .... \n",
    "london_data['site_name_GLA_no_pc'] = london_data.apply(lambda row: str(row['site_name_GLA']).upper().replace(', ' + row['postcode_clean'], ''), axis = 1)"
   ]
  },
  {
   "cell_type": "code",
   "execution_count": 55,
   "id": "2fae9845",
   "metadata": {},
   "outputs": [],
   "source": [
    "england_data['site_name_LPA_no_pc'] = england_data.apply(lambda row: str(row['site_name_LPA']).upper().replace(row['postcode_clean'], ''), axis = 1)\n"
   ]
  },
  {
   "cell_type": "markdown",
   "id": "3c53501c",
   "metadata": {},
   "source": [
    "# Data matching"
   ]
  },
  {
   "cell_type": "markdown",
   "id": "1cf8f738",
   "metadata": {},
   "source": [
    "UPRN MATCHING: If reprocessing data that has already been matched, Ignore the Data matching on the UPRN / Parent UPRN"
   ]
  },
  {
   "cell_type": "code",
   "execution_count": 32,
   "id": "165b7859-ce81-4d40-ab87-e19f63f395f1",
   "metadata": {},
   "outputs": [],
   "source": [
    "#### -------- DATA MERGING --------\n",
    "#join the london data with the RESIDENTIAL AddressBase dataset on UPRN\n",
    "merged = england_data.merge(resi_AB, how = 'left', left_on = 'uprn', right_on = 'parent_uprn')\n",
    "\n",
    "#merged['UCL_ID'].nunique()"
   ]
  },
  {
   "cell_type": "code",
   "execution_count": 33,
   "id": "20c4535f-d653-4014-aa0a-594d74d508bf",
   "metadata": {
    "tags": []
   },
   "outputs": [],
   "source": [
    "#separate merged into no match and match \n",
    "merged_match, merged_no_match = separate_matches(merged, 'parent_uprn', 'parent_uprn')\n",
    "\n",
    "merged_no_match = merged_no_match.dropna(axis=1, how='all')"
   ]
  },
  {
   "cell_type": "code",
   "execution_count": 34,
   "id": "0bc94052-a4b0-4f8b-ab48-962d4b59a966",
   "metadata": {
    "tags": []
   },
   "outputs": [],
   "source": [
    "#merge 2 on uprn not parent_uprn \n",
    "merged_2 = merged_no_match.merge(resi_AB, how = 'left', left_on = 'uprn_x', right_on = 'uprn')"
   ]
  },
  {
   "cell_type": "code",
   "execution_count": 35,
   "id": "040b81bd-843c-4d4d-b4f3-262ac6ea6297",
   "metadata": {
    "tags": []
   },
   "outputs": [],
   "source": [
    "#separate the merge 2 into two datasets for match v not match \n",
    "merged_2_match, merged_2_no_match = separate_matches(merged_2, 'uprn', 'uprn')\n",
    "\n",
    "merged_2_no_match = merged_2_no_match.dropna(axis=1, how='all')      "
   ]
  },
  {
   "cell_type": "code",
   "execution_count": 36,
   "id": "ab0f9b30-ea0f-4385-b318-b411f7cd0a62",
   "metadata": {
    "tags": []
   },
   "outputs": [],
   "source": [
    "merged_2_match = merged_2_match.rename(columns={\"uprn\": \"uprn_OSAB\"})\n",
    "merged_match = merged_match.rename(columns={\"uprn_y\": \"uprn_OSAB\"})\n",
    "\n",
    "#merged_2_match.count()"
   ]
  },
  {
   "cell_type": "code",
   "execution_count": 37,
   "id": "7fc90bc5-3f98-4673-bb39-ecf74d8e7079",
   "metadata": {
    "tags": []
   },
   "outputs": [],
   "source": [
    "all_matched = pd.concat([merged_2_match, merged_match])\n"
   ]
  },
  {
   "cell_type": "markdown",
   "id": "8e19e1c5",
   "metadata": {},
   "source": [
    "ADDRESS MATCHING: For all matching versions: Address matching starts here"
   ]
  },
  {
   "cell_type": "code",
   "execution_count": 63,
   "id": "a7fa4dfe",
   "metadata": {},
   "outputs": [
    {
     "data": {
      "text/plain": [
       "UCL ID                                  5955\n",
       "planning_application_number             5955\n",
       "lpa_name                                5955\n",
       "application_type                        5955\n",
       "application_type_full                   2566\n",
       "description                             5815\n",
       "number_of_units                          229\n",
       "postcode_clean                          5955\n",
       "site_number_clean                       2495\n",
       "site_name_clean                         3468\n",
       "street_name                             4653\n",
       "site_name_LPA                           5953\n",
       "uprn_x                                   385\n",
       "decision                                4884\n",
       "status                                   740\n",
       "application_date                        5070\n",
       "decision_date                           5141\n",
       "PD_type                                 5955\n",
       "Full Address on Planning Application     405\n",
       "FPP_PA_Mix                                58\n",
       "parsed_street_LPA                       1485\n",
       "concat_addr                             2117\n",
       "site_name_LPA_no_pc                     5955\n",
       "postcode_sector                         5955\n",
       "dtype: int64"
      ]
     },
     "execution_count": 63,
     "metadata": {},
     "output_type": "execute_result"
    }
   ],
   "source": [
    "england_data.count()\n",
    "\n",
    "#england_data['UCL ID'].nunique()"
   ]
  },
  {
   "cell_type": "code",
   "execution_count": 291,
   "id": "3b44d18f",
   "metadata": {},
   "outputs": [],
   "source": [
    "# drop the extra column postcode_sector_x\n",
    "#england_data = england_data.drop(columns=['postcode_sector_x'])"
   ]
  },
  {
   "cell_type": "code",
   "execution_count": 64,
   "id": "a072c78d",
   "metadata": {},
   "outputs": [],
   "source": [
    "merged_2_no_match = england_data"
   ]
  },
  {
   "cell_type": "markdown",
   "id": "d3da343b",
   "metadata": {},
   "source": [
    "-------- DATA MERGING --------  STRATEGY 1 ADDRESS MATCH"
   ]
  },
  {
   "cell_type": "code",
   "execution_count": 65,
   "id": "a0f39357-fdb8-474b-bb23-de10501ca4fe",
   "metadata": {
    "tags": []
   },
   "outputs": [
    {
     "ename": "KeyError",
     "evalue": "'site_name_GLA_no_pc'",
     "output_type": "error",
     "traceback": [
      "\u001b[0;31m---------------------------------------------------------------------------\u001b[0m",
      "\u001b[0;31mKeyError\u001b[0m                                  Traceback (most recent call last)",
      "\u001b[0;32m/var/folders/0b/k156jw2x3rz7y1k26v1wkh880000gn/T/ipykernel_76275/491396301.py\u001b[0m in \u001b[0;36m?\u001b[0;34m()\u001b[0m\n\u001b[1;32m      3\u001b[0m \u001b[0mleft_columns\u001b[0m \u001b[0;34m=\u001b[0m \u001b[0;34m[\u001b[0m\u001b[0;34m'site_name_GLA_no_pc'\u001b[0m\u001b[0;34m,\u001b[0m \u001b[0;34m'postcode_clean'\u001b[0m\u001b[0;34m]\u001b[0m  \u001b[0;31m#['site_number_clean', 'street_name', 'postcode_clean']\u001b[0m\u001b[0;34m\u001b[0m\u001b[0;34m\u001b[0m\u001b[0m\n\u001b[1;32m      4\u001b[0m \u001b[0mright_columns\u001b[0m \u001b[0;34m=\u001b[0m \u001b[0;34m[\u001b[0m\u001b[0;34m'parsed_address1'\u001b[0m\u001b[0;34m,\u001b[0m \u001b[0;34m'postcode_locator'\u001b[0m\u001b[0;34m]\u001b[0m \u001b[0;31m#['building_number', 'street_description', 'postcode_locator']\u001b[0m\u001b[0;34m\u001b[0m\u001b[0;34m\u001b[0m\u001b[0m\n\u001b[1;32m      5\u001b[0m \u001b[0;34m\u001b[0m\u001b[0m\n\u001b[1;32m      6\u001b[0m \u001b[0;31m# this is a very strict conservative join\u001b[0m\u001b[0;34m\u001b[0m\u001b[0;34m\u001b[0m\u001b[0m\n\u001b[0;32m----> 7\u001b[0;31m \u001b[0mmerged_on_address\u001b[0m \u001b[0;34m=\u001b[0m \u001b[0mmerged_2_no_match\u001b[0m\u001b[0;34m.\u001b[0m\u001b[0mmerge\u001b[0m\u001b[0;34m(\u001b[0m\u001b[0mresi_AB\u001b[0m\u001b[0;34m,\u001b[0m \u001b[0mhow\u001b[0m \u001b[0;34m=\u001b[0m \u001b[0;34m'left'\u001b[0m\u001b[0;34m,\u001b[0m \u001b[0mleft_on\u001b[0m \u001b[0;34m=\u001b[0m \u001b[0mleft_columns\u001b[0m\u001b[0;34m,\u001b[0m \u001b[0mright_on\u001b[0m \u001b[0;34m=\u001b[0m \u001b[0mright_columns\u001b[0m\u001b[0;34m)\u001b[0m\u001b[0;34m\u001b[0m\u001b[0;34m\u001b[0m\u001b[0m\n\u001b[0m",
      "\u001b[0;32m~/anaconda3/envs/sds2023/lib/python3.11/site-packages/pandas/core/frame.py\u001b[0m in \u001b[0;36m?\u001b[0;34m(self, right, how, on, left_on, right_on, left_index, right_index, sort, suffixes, copy, indicator, validate)\u001b[0m\n\u001b[1;32m  10483\u001b[0m         \u001b[0mvalidate\u001b[0m\u001b[0;34m:\u001b[0m \u001b[0mMergeValidate\u001b[0m \u001b[0;34m|\u001b[0m \u001b[0;32mNone\u001b[0m \u001b[0;34m=\u001b[0m \u001b[0;32mNone\u001b[0m\u001b[0;34m,\u001b[0m\u001b[0;34m\u001b[0m\u001b[0;34m\u001b[0m\u001b[0m\n\u001b[1;32m  10484\u001b[0m     ) -> DataFrame:\n\u001b[1;32m  10485\u001b[0m         \u001b[0;32mfrom\u001b[0m \u001b[0mpandas\u001b[0m\u001b[0;34m.\u001b[0m\u001b[0mcore\u001b[0m\u001b[0;34m.\u001b[0m\u001b[0mreshape\u001b[0m\u001b[0;34m.\u001b[0m\u001b[0mmerge\u001b[0m \u001b[0;32mimport\u001b[0m \u001b[0mmerge\u001b[0m\u001b[0;34m\u001b[0m\u001b[0;34m\u001b[0m\u001b[0m\n\u001b[1;32m  10486\u001b[0m \u001b[0;34m\u001b[0m\u001b[0m\n\u001b[0;32m> 10487\u001b[0;31m         return merge(\n\u001b[0m\u001b[1;32m  10488\u001b[0m             \u001b[0mself\u001b[0m\u001b[0;34m,\u001b[0m\u001b[0;34m\u001b[0m\u001b[0;34m\u001b[0m\u001b[0m\n\u001b[1;32m  10489\u001b[0m             \u001b[0mright\u001b[0m\u001b[0;34m,\u001b[0m\u001b[0;34m\u001b[0m\u001b[0;34m\u001b[0m\u001b[0m\n\u001b[1;32m  10490\u001b[0m             \u001b[0mhow\u001b[0m\u001b[0;34m=\u001b[0m\u001b[0mhow\u001b[0m\u001b[0;34m,\u001b[0m\u001b[0;34m\u001b[0m\u001b[0;34m\u001b[0m\u001b[0m\n",
      "\u001b[0;32m~/anaconda3/envs/sds2023/lib/python3.11/site-packages/pandas/core/reshape/merge.py\u001b[0m in \u001b[0;36m?\u001b[0;34m(left, right, how, on, left_on, right_on, left_index, right_index, sort, suffixes, copy, indicator, validate)\u001b[0m\n\u001b[1;32m    165\u001b[0m             \u001b[0mvalidate\u001b[0m\u001b[0;34m=\u001b[0m\u001b[0mvalidate\u001b[0m\u001b[0;34m,\u001b[0m\u001b[0;34m\u001b[0m\u001b[0;34m\u001b[0m\u001b[0m\n\u001b[1;32m    166\u001b[0m             \u001b[0mcopy\u001b[0m\u001b[0;34m=\u001b[0m\u001b[0mcopy\u001b[0m\u001b[0;34m,\u001b[0m\u001b[0;34m\u001b[0m\u001b[0;34m\u001b[0m\u001b[0m\n\u001b[1;32m    167\u001b[0m         )\n\u001b[1;32m    168\u001b[0m     \u001b[0;32melse\u001b[0m\u001b[0;34m:\u001b[0m\u001b[0;34m\u001b[0m\u001b[0;34m\u001b[0m\u001b[0m\n\u001b[0;32m--> 169\u001b[0;31m         op = _MergeOperation(\n\u001b[0m\u001b[1;32m    170\u001b[0m             \u001b[0mleft_df\u001b[0m\u001b[0;34m,\u001b[0m\u001b[0;34m\u001b[0m\u001b[0;34m\u001b[0m\u001b[0m\n\u001b[1;32m    171\u001b[0m             \u001b[0mright_df\u001b[0m\u001b[0;34m,\u001b[0m\u001b[0;34m\u001b[0m\u001b[0;34m\u001b[0m\u001b[0m\n\u001b[1;32m    172\u001b[0m             \u001b[0mhow\u001b[0m\u001b[0;34m=\u001b[0m\u001b[0mhow\u001b[0m\u001b[0;34m,\u001b[0m\u001b[0;34m\u001b[0m\u001b[0;34m\u001b[0m\u001b[0m\n",
      "\u001b[0;32m~/anaconda3/envs/sds2023/lib/python3.11/site-packages/pandas/core/reshape/merge.py\u001b[0m in \u001b[0;36m?\u001b[0;34m(self, left, right, how, on, left_on, right_on, left_index, right_index, sort, suffixes, indicator, validate)\u001b[0m\n\u001b[1;32m    787\u001b[0m             \u001b[0mself\u001b[0m\u001b[0;34m.\u001b[0m\u001b[0mright_join_keys\u001b[0m\u001b[0;34m,\u001b[0m\u001b[0;34m\u001b[0m\u001b[0;34m\u001b[0m\u001b[0m\n\u001b[1;32m    788\u001b[0m             \u001b[0mself\u001b[0m\u001b[0;34m.\u001b[0m\u001b[0mjoin_names\u001b[0m\u001b[0;34m,\u001b[0m\u001b[0;34m\u001b[0m\u001b[0;34m\u001b[0m\u001b[0m\n\u001b[1;32m    789\u001b[0m             \u001b[0mleft_drop\u001b[0m\u001b[0;34m,\u001b[0m\u001b[0;34m\u001b[0m\u001b[0;34m\u001b[0m\u001b[0m\n\u001b[1;32m    790\u001b[0m             \u001b[0mright_drop\u001b[0m\u001b[0;34m,\u001b[0m\u001b[0;34m\u001b[0m\u001b[0;34m\u001b[0m\u001b[0m\n\u001b[0;32m--> 791\u001b[0;31m         ) = self._get_merge_keys()\n\u001b[0m\u001b[1;32m    792\u001b[0m \u001b[0;34m\u001b[0m\u001b[0m\n\u001b[1;32m    793\u001b[0m         \u001b[0;32mif\u001b[0m \u001b[0mleft_drop\u001b[0m\u001b[0;34m:\u001b[0m\u001b[0;34m\u001b[0m\u001b[0;34m\u001b[0m\u001b[0m\n\u001b[1;32m    794\u001b[0m             \u001b[0mself\u001b[0m\u001b[0;34m.\u001b[0m\u001b[0mleft\u001b[0m \u001b[0;34m=\u001b[0m \u001b[0mself\u001b[0m\u001b[0;34m.\u001b[0m\u001b[0mleft\u001b[0m\u001b[0;34m.\u001b[0m\u001b[0m_drop_labels_or_levels\u001b[0m\u001b[0;34m(\u001b[0m\u001b[0mleft_drop\u001b[0m\u001b[0;34m)\u001b[0m\u001b[0;34m\u001b[0m\u001b[0;34m\u001b[0m\u001b[0m\n",
      "\u001b[0;32m~/anaconda3/envs/sds2023/lib/python3.11/site-packages/pandas/core/reshape/merge.py\u001b[0m in \u001b[0;36m?\u001b[0;34m(self)\u001b[0m\n\u001b[1;32m   1283\u001b[0m                     \u001b[0;32mif\u001b[0m \u001b[0mlk\u001b[0m \u001b[0;32mis\u001b[0m \u001b[0;32mnot\u001b[0m \u001b[0;32mNone\u001b[0m\u001b[0;34m:\u001b[0m\u001b[0;34m\u001b[0m\u001b[0;34m\u001b[0m\u001b[0m\n\u001b[1;32m   1284\u001b[0m                         \u001b[0;31m# Then we're either Hashable or a wrong-length arraylike,\u001b[0m\u001b[0;34m\u001b[0m\u001b[0;34m\u001b[0m\u001b[0m\n\u001b[1;32m   1285\u001b[0m                         \u001b[0;31m#  the latter of which will raise\u001b[0m\u001b[0;34m\u001b[0m\u001b[0;34m\u001b[0m\u001b[0m\n\u001b[1;32m   1286\u001b[0m                         \u001b[0mlk\u001b[0m \u001b[0;34m=\u001b[0m \u001b[0mcast\u001b[0m\u001b[0;34m(\u001b[0m\u001b[0mHashable\u001b[0m\u001b[0;34m,\u001b[0m \u001b[0mlk\u001b[0m\u001b[0;34m)\u001b[0m\u001b[0;34m\u001b[0m\u001b[0;34m\u001b[0m\u001b[0m\n\u001b[0;32m-> 1287\u001b[0;31m                         \u001b[0mleft_keys\u001b[0m\u001b[0;34m.\u001b[0m\u001b[0mappend\u001b[0m\u001b[0;34m(\u001b[0m\u001b[0mleft\u001b[0m\u001b[0;34m.\u001b[0m\u001b[0m_get_label_or_level_values\u001b[0m\u001b[0;34m(\u001b[0m\u001b[0mlk\u001b[0m\u001b[0;34m)\u001b[0m\u001b[0;34m)\u001b[0m\u001b[0;34m\u001b[0m\u001b[0;34m\u001b[0m\u001b[0m\n\u001b[0m\u001b[1;32m   1288\u001b[0m                         \u001b[0mjoin_names\u001b[0m\u001b[0;34m.\u001b[0m\u001b[0mappend\u001b[0m\u001b[0;34m(\u001b[0m\u001b[0mlk\u001b[0m\u001b[0;34m)\u001b[0m\u001b[0;34m\u001b[0m\u001b[0;34m\u001b[0m\u001b[0m\n\u001b[1;32m   1289\u001b[0m                     \u001b[0;32melse\u001b[0m\u001b[0;34m:\u001b[0m\u001b[0;34m\u001b[0m\u001b[0;34m\u001b[0m\u001b[0m\n\u001b[1;32m   1290\u001b[0m                         \u001b[0;31m# work-around for merge_asof(left_index=True)\u001b[0m\u001b[0;34m\u001b[0m\u001b[0;34m\u001b[0m\u001b[0m\n",
      "\u001b[0;32m~/anaconda3/envs/sds2023/lib/python3.11/site-packages/pandas/core/generic.py\u001b[0m in \u001b[0;36m?\u001b[0;34m(self, key, axis)\u001b[0m\n\u001b[1;32m   1840\u001b[0m             \u001b[0mvalues\u001b[0m \u001b[0;34m=\u001b[0m \u001b[0mself\u001b[0m\u001b[0;34m.\u001b[0m\u001b[0mxs\u001b[0m\u001b[0;34m(\u001b[0m\u001b[0mkey\u001b[0m\u001b[0;34m,\u001b[0m \u001b[0maxis\u001b[0m\u001b[0;34m=\u001b[0m\u001b[0mother_axes\u001b[0m\u001b[0;34m[\u001b[0m\u001b[0;36m0\u001b[0m\u001b[0;34m]\u001b[0m\u001b[0;34m)\u001b[0m\u001b[0;34m.\u001b[0m\u001b[0m_values\u001b[0m\u001b[0;34m\u001b[0m\u001b[0;34m\u001b[0m\u001b[0m\n\u001b[1;32m   1841\u001b[0m         \u001b[0;32melif\u001b[0m \u001b[0mself\u001b[0m\u001b[0;34m.\u001b[0m\u001b[0m_is_level_reference\u001b[0m\u001b[0;34m(\u001b[0m\u001b[0mkey\u001b[0m\u001b[0;34m,\u001b[0m \u001b[0maxis\u001b[0m\u001b[0;34m=\u001b[0m\u001b[0maxis\u001b[0m\u001b[0;34m)\u001b[0m\u001b[0;34m:\u001b[0m\u001b[0;34m\u001b[0m\u001b[0;34m\u001b[0m\u001b[0m\n\u001b[1;32m   1842\u001b[0m             \u001b[0mvalues\u001b[0m \u001b[0;34m=\u001b[0m \u001b[0mself\u001b[0m\u001b[0;34m.\u001b[0m\u001b[0maxes\u001b[0m\u001b[0;34m[\u001b[0m\u001b[0maxis\u001b[0m\u001b[0;34m]\u001b[0m\u001b[0;34m.\u001b[0m\u001b[0mget_level_values\u001b[0m\u001b[0;34m(\u001b[0m\u001b[0mkey\u001b[0m\u001b[0;34m)\u001b[0m\u001b[0;34m.\u001b[0m\u001b[0m_values\u001b[0m\u001b[0;34m\u001b[0m\u001b[0;34m\u001b[0m\u001b[0m\n\u001b[1;32m   1843\u001b[0m         \u001b[0;32melse\u001b[0m\u001b[0;34m:\u001b[0m\u001b[0;34m\u001b[0m\u001b[0;34m\u001b[0m\u001b[0m\n\u001b[0;32m-> 1844\u001b[0;31m             \u001b[0;32mraise\u001b[0m \u001b[0mKeyError\u001b[0m\u001b[0;34m(\u001b[0m\u001b[0mkey\u001b[0m\u001b[0;34m)\u001b[0m\u001b[0;34m\u001b[0m\u001b[0;34m\u001b[0m\u001b[0m\n\u001b[0m\u001b[1;32m   1845\u001b[0m \u001b[0;34m\u001b[0m\u001b[0m\n\u001b[1;32m   1846\u001b[0m         \u001b[0;31m# Check for duplicates\u001b[0m\u001b[0;34m\u001b[0m\u001b[0;34m\u001b[0m\u001b[0m\n\u001b[1;32m   1847\u001b[0m         \u001b[0;32mif\u001b[0m \u001b[0mvalues\u001b[0m\u001b[0;34m.\u001b[0m\u001b[0mndim\u001b[0m \u001b[0;34m>\u001b[0m \u001b[0;36m1\u001b[0m\u001b[0;34m:\u001b[0m\u001b[0;34m\u001b[0m\u001b[0;34m\u001b[0m\u001b[0m\n",
      "\u001b[0;31mKeyError\u001b[0m: 'site_name_GLA_no_pc'"
     ]
    }
   ],
   "source": [
    "## ADDRESS STRATEGY ONE \n",
    "#use the site name GLA no pc with the parsed address 1 \n",
    "left_columns = ['site_name_GLA_no_pc', 'postcode_clean']  #['site_number_clean', 'street_name', 'postcode_clean']\n",
    "right_columns = ['parsed_address1', 'postcode_locator'] #['building_number', 'street_description', 'postcode_locator']\n",
    "\n",
    "# this is a very strict conservative join \n",
    "merged_on_address = merged_2_no_match.merge(resi_AB, how = 'left', left_on = left_columns, right_on = right_columns)"
   ]
  },
  {
   "cell_type": "code",
   "execution_count": 296,
   "id": "11092479-5f92-497f-8b80-9567008c12f0",
   "metadata": {
    "tags": []
   },
   "outputs": [],
   "source": [
    "merged_on_address_match,merged_on_address_no_match =  separate_matches(merged_on_address, 'uprn', 'address_1')\n"
   ]
  },
  {
   "cell_type": "code",
   "execution_count": 297,
   "id": "8d89aad9-0b55-4447-ac08-db5b1c54b165",
   "metadata": {
    "tags": []
   },
   "outputs": [
    {
     "data": {
      "text/plain": [
       "0"
      ]
     },
     "execution_count": 297,
     "metadata": {},
     "output_type": "execute_result"
    }
   ],
   "source": [
    "#how many unique ids were matched?\n",
    "merged_on_address_match['UCL_ID'].nunique()"
   ]
  },
  {
   "cell_type": "code",
   "execution_count": 430,
   "id": "62afc2f3-632b-4e8a-95bf-988c18846964",
   "metadata": {},
   "outputs": [],
   "source": [
    "## Add the merged_on_address_match to the matched\n",
    "merged_on_address_match = merged_on_address_match.rename(columns={\"uprn\": \"uprn_OSAB\"})\n",
    "merged_on_address_match['match_strategy'] = 'address_1'\n",
    "\n",
    "all_matched = merged_on_address_match\n",
    "\n",
    "# Use this if UPRN was used for matching above\n",
    "#all_matched = pd.concat([all_matched, merged_on_address_match])\n",
    "\n",
    "merged_on_address_no_match = merged_on_address_no_match.dropna(axis=1, how='all')\n"
   ]
  },
  {
   "cell_type": "code",
   "execution_count": 431,
   "id": "e800933c-6c15-4721-a906-9b3be0082eb0",
   "metadata": {
    "tags": []
   },
   "outputs": [],
   "source": [
    "#### ADDRESS Strategy 2 - \n",
    "## use the site name LPA without post code ...\n",
    "left_columns_2 = ['site_name_LPA_no_pc', 'postcode_clean'] #London Data \n",
    "right_columns_2 =  ['parsed_address1', 'postcode_locator'] #AB\n",
    "\n",
    "merged_on_address2 = merged_on_address_no_match.merge(resi_AB, how = 'left', left_on = left_columns_2, right_on = right_columns_2)"
   ]
  },
  {
   "cell_type": "code",
   "execution_count": 432,
   "id": "8582e5bb-4f88-4289-9a13-e98f311f787e",
   "metadata": {
    "tags": []
   },
   "outputs": [],
   "source": [
    "merged_on_address2_match = merged_on_address2.drop(merged_on_address2[pd.isna(merged_on_address2['uprn']) == True].index) \n",
    "merged_on_address2_no_match = merged_on_address2.drop(merged_on_address2[pd.isna(merged_on_address2['uprn']) == False].index) \n"
   ]
  },
  {
   "cell_type": "code",
   "execution_count": 433,
   "id": "8327cfc8",
   "metadata": {},
   "outputs": [
    {
     "data": {
      "text/plain": [
       "0"
      ]
     },
     "execution_count": 433,
     "metadata": {},
     "output_type": "execute_result"
    }
   ],
   "source": [
    "merged_on_address2_match['UCL_ID'].nunique()"
   ]
  },
  {
   "cell_type": "code",
   "execution_count": 434,
   "id": "ecde76ef-a35b-4da0-baea-a37a0f3cbc3d",
   "metadata": {
    "tags": []
   },
   "outputs": [],
   "source": [
    "merged_on_address2_match = merged_on_address2_match.rename(columns={\"uprn\": \"uprn_OSAB\"})\n",
    "merged_on_address2_match = merged_on_address2_match.drop(columns = ['short_site_name_LPA]']) \n",
    "merged_on_address2_match['match_strategy'] = 'address_2'"
   ]
  },
  {
   "cell_type": "code",
   "execution_count": 435,
   "id": "8e1b91f2-a0d2-4006-94b4-676678c0df9d",
   "metadata": {
    "tags": []
   },
   "outputs": [],
   "source": [
    "all_matched = pd.concat([all_matched, merged_on_address2_match])"
   ]
  },
  {
   "cell_type": "code",
   "execution_count": 436,
   "id": "77c5d607-7552-4d46-98cd-9bcc6d4af088",
   "metadata": {
    "tags": []
   },
   "outputs": [],
   "source": [
    "merged_on_address2_no_match = merged_on_address2_no_match.dropna(axis=1, how='all')\n"
   ]
  },
  {
   "cell_type": "markdown",
   "id": "f70433ff",
   "metadata": {},
   "source": [
    "-------- DATA MERGING --------  STRATEGY 3 ADDRESS MATCH"
   ]
  },
  {
   "cell_type": "code",
   "execution_count": 437,
   "id": "f4984641-af06-44eb-a845-880f0cf64da9",
   "metadata": {},
   "outputs": [],
   "source": [
    "# #-------- DATA MERGING --------  STRATEGY 3 ADDRESS MATCH \n",
    " # use the site name GLA no pc with the parsed address 2 \n",
    "left_columns_3 = ['site_name_GLA_no_pc', 'postcode_clean'] \n",
    "right_columns_3 = ['parsed_address2', 'postcode_locator'] \n",
    "\n",
    "\n",
    "merged_on_address3_match, merged_on_address3_no_match = my_merge(merged_on_address2_no_match, resi_AB, left_columns_3, right_columns_3)"
   ]
  },
  {
   "cell_type": "code",
   "execution_count": 438,
   "id": "c7ea97fb",
   "metadata": {},
   "outputs": [],
   "source": [
    "#for batch 2, gets 0 results\n",
    "#merged_on_address3_no_match.count()"
   ]
  },
  {
   "cell_type": "code",
   "execution_count": 439,
   "id": "c79f0700-afc0-44fa-bd75-43a0e982fc1d",
   "metadata": {
    "tags": []
   },
   "outputs": [],
   "source": [
    "# add the matched into all matched\n",
    "merged_on_address3_match = merged_on_address3_match.rename(columns={\"uprn\": \"uprn_OSAB\"})\n",
    "merged_on_address3_match['match_strategy'] = 'address_3'\n",
    "\n",
    "frames = [all_matched, merged_on_address3_match]\n",
    "\n",
    "all_matched = pd.concat(frames)"
   ]
  },
  {
   "cell_type": "code",
   "execution_count": 440,
   "id": "ebced5a5-32c2-433e-b196-83af5919bdb8",
   "metadata": {
    "tags": []
   },
   "outputs": [],
   "source": [
    "merged_on_address3_no_match = merged_on_address3_no_match.dropna(axis=1, how='all')"
   ]
  },
  {
   "cell_type": "code",
   "execution_count": 441,
   "id": "d9c34df6",
   "metadata": {},
   "outputs": [],
   "source": [
    "#### ADDRESS Strategy 4 \n",
    "left_columns_4 = ['site_name_LPA_no_pc', 'postcode_clean']  #London Data \n",
    "right_columns_4 = ['parsed_address2', 'postcode_locator'] #AB\n",
    "\n",
    "merged_on_address4 = merged_on_address3_no_match.merge(resi_AB, how = 'left', left_on = left_columns_4, right_on = right_columns_4)"
   ]
  },
  {
   "cell_type": "code",
   "execution_count": 442,
   "id": "6d4b7431",
   "metadata": {},
   "outputs": [],
   "source": [
    "merged_on_address4_match = merged_on_address4.drop(merged_on_address4[pd.isna(merged_on_address4['uprn']) == True].index) \n",
    "merged_on_address4_no_match = merged_on_address4.drop(merged_on_address4[pd.isna(merged_on_address4['uprn']) == False].index) \n"
   ]
  },
  {
   "cell_type": "code",
   "execution_count": 443,
   "id": "26bd8167",
   "metadata": {},
   "outputs": [
    {
     "data": {
      "text/plain": [
       "0"
      ]
     },
     "execution_count": 443,
     "metadata": {},
     "output_type": "execute_result"
    }
   ],
   "source": [
    "merged_on_address4_match['UCL_ID'].nunique()"
   ]
  },
  {
   "cell_type": "code",
   "execution_count": 444,
   "id": "bbe05b28",
   "metadata": {},
   "outputs": [],
   "source": [
    "merged_on_address4_match = merged_on_address4_match.rename(columns={\"uprn\": \"uprn_OSAB\"})\n",
    "merged_on_address4_match['match_strategy'] = 'address_4'\n",
    "\n",
    "frames = [all_matched, merged_on_address4_match]\n",
    "\n",
    "all_matched = pd.concat(frames)\n",
    "merged_on_address4_no_match = merged_on_address4_no_match.dropna(axis=1, how='all')"
   ]
  },
  {
   "cell_type": "code",
   "execution_count": 445,
   "id": "ef23d683",
   "metadata": {},
   "outputs": [],
   "source": [
    "## Strategy 5 \n",
    "#match on the street number, street name, postcode \n",
    "\n",
    "left_columns_5 = ['concat_addr', 'postcode_clean']\n",
    "right_columns_5 = ['parsed_address1', 'postcode_locator']\n",
    "\n",
    "merged_on_address5_match, merged_on_address5_no_match = my_merge(merged_on_address4_no_match, resi_AB, left_columns_5, right_columns_5)"
   ]
  },
  {
   "cell_type": "code",
   "execution_count": 446,
   "id": "873caa8d",
   "metadata": {},
   "outputs": [
    {
     "data": {
      "text/plain": [
       "19"
      ]
     },
     "execution_count": 446,
     "metadata": {},
     "output_type": "execute_result"
    }
   ],
   "source": [
    "merged_on_address5_match['UCL_ID'].nunique()"
   ]
  },
  {
   "cell_type": "code",
   "execution_count": 447,
   "id": "94a48a31",
   "metadata": {},
   "outputs": [],
   "source": [
    "merged_on_address5_match = merged_on_address5_match.rename(columns={\"uprn\": \"uprn_OSAB\"})\n",
    "merged_on_address5_match['match_strategy'] = 'address_5'\n",
    "\n",
    "frames = [all_matched, merged_on_address5_match]\n",
    "\n",
    "all_matched = pd.concat(frames)\n",
    "merged_on_address5_no_match = merged_on_address5_no_match.dropna(axis=1, how='all')"
   ]
  },
  {
   "cell_type": "code",
   "execution_count": 448,
   "id": "ca18c688",
   "metadata": {},
   "outputs": [],
   "source": [
    "## Strategy 6\n",
    "left_columns_6 = ['concat_addr', 'postcode_clean']\n",
    "right_columns_6 = ['parsed_address2', 'postcode_locator']\n",
    "\n",
    "merged_on_address6_match, merged_on_address6_no_match = my_merge(merged_on_address5_no_match, resi_AB, left_columns_6, right_columns_6)"
   ]
  },
  {
   "cell_type": "code",
   "execution_count": 449,
   "id": "87011981",
   "metadata": {},
   "outputs": [
    {
     "data": {
      "text/plain": [
       "1"
      ]
     },
     "execution_count": 449,
     "metadata": {},
     "output_type": "execute_result"
    }
   ],
   "source": [
    "merged_on_address6_match['UCL_ID'].nunique()"
   ]
  },
  {
   "cell_type": "code",
   "execution_count": 450,
   "id": "fb9f695b",
   "metadata": {},
   "outputs": [],
   "source": [
    "merged_on_address6_match = merged_on_address6_match.rename(columns={\"uprn\": \"uprn_OSAB\"})\n",
    "merged_on_address6_match['match_strategy'] = 'address_6'\n",
    "\n",
    "frames = [all_matched, merged_on_address6_match]\n",
    "\n",
    "all_matched = pd.concat(frames)\n",
    "merged_on_address6_no_match = merged_on_address6_no_match.dropna(axis=1, how='all')"
   ]
  },
  {
   "cell_type": "code",
   "execution_count": 451,
   "id": "c5e313eb",
   "metadata": {},
   "outputs": [],
   "source": [
    "# pao_start_number + street_description"
   ]
  },
  {
   "cell_type": "code",
   "execution_count": 452,
   "id": "e226b558",
   "metadata": {},
   "outputs": [],
   "source": [
    "## Strategy 7\n",
    "left_columns_7 = ['site_number_clean', 'street_name', 'postcode_clean']\n",
    "right_columns_7 = ['pao_start_num_suffix', 'street_description', 'postcode_locator']\n",
    "\n",
    "merged_on_address7_match, merged_on_address7_no_match = my_merge(merged_on_address6_no_match, resi_AB, left_columns_7, right_columns_7)"
   ]
  },
  {
   "cell_type": "code",
   "execution_count": 453,
   "id": "434c4229",
   "metadata": {},
   "outputs": [
    {
     "data": {
      "text/plain": [
       "36"
      ]
     },
     "execution_count": 453,
     "metadata": {},
     "output_type": "execute_result"
    }
   ],
   "source": [
    "merged_on_address7_match['UCL_ID'].nunique()"
   ]
  },
  {
   "cell_type": "code",
   "execution_count": 454,
   "id": "af4e1c26",
   "metadata": {},
   "outputs": [
    {
     "data": {
      "text/plain": [
       "''"
      ]
     },
     "execution_count": 454,
     "metadata": {},
     "output_type": "execute_result"
    }
   ],
   "source": [
    "resi_AB['pao_start_num_suffix'][0]"
   ]
  },
  {
   "cell_type": "code",
   "execution_count": 455,
   "id": "2830d078",
   "metadata": {},
   "outputs": [],
   "source": [
    "merged_on_address7_match = merged_on_address7_match.rename(columns={\"uprn\": \"uprn_OSAB\"})\n",
    "merged_on_address7_match['match_strategy'] = 'address_7'\n",
    "\n",
    "frames = [all_matched, merged_on_address7_match]\n",
    "\n",
    "all_matched = pd.concat(frames)\n",
    "merged_on_address7_no_match = merged_on_address7_no_match.dropna(axis=1, how='all')"
   ]
  },
  {
   "cell_type": "code",
   "execution_count": 456,
   "id": "87f0f744",
   "metadata": {},
   "outputs": [],
   "source": [
    "### strategy 8 \n",
    "left_columns_8 = ['site_number_clean', 'street_name', 'postcode_sector_x']\n",
    "right_columns_8 = ['pao_start_num_suffix', 'street_description', 'postcode_sector']\n",
    "\n",
    "merged_on_address8_match, merged_on_address8_no_match = my_merge(merged_on_address7_no_match, resi_AB, left_columns_8, right_columns_8)\n"
   ]
  },
  {
   "cell_type": "code",
   "execution_count": 457,
   "id": "2cac13dd",
   "metadata": {},
   "outputs": [
    {
     "data": {
      "text/plain": [
       "13"
      ]
     },
     "execution_count": 457,
     "metadata": {},
     "output_type": "execute_result"
    }
   ],
   "source": [
    "merged_on_address8_match['UCL_ID'].nunique()"
   ]
  },
  {
   "cell_type": "code",
   "execution_count": 458,
   "id": "febcea38",
   "metadata": {},
   "outputs": [],
   "source": [
    "merged_on_address8_match = merged_on_address8_match.rename(columns={\"uprn\": \"uprn_OSAB\"})\n",
    "merged_on_address8_match['match_strategy'] = 'address_8'\n",
    "\n",
    "frames = [all_matched, merged_on_address8_match]\n",
    "\n",
    "all_matched = pd.concat(frames)\n",
    "merged_on_address8_no_match = merged_on_address8_no_match.dropna(axis=1, how='all')"
   ]
  },
  {
   "cell_type": "code",
   "execution_count": 459,
   "id": "3ee1ec2b",
   "metadata": {},
   "outputs": [],
   "source": [
    "left_columns_9 = ['site_number_clean', 'street_name', 'postcode_clean']\n",
    "right_columns_9 = ['pao_start_number', 'street_description', 'postcode_locator']\n",
    "\n",
    "\n",
    "merged = merged_on_address8_no_match.merge(resi_AB, how = 'left', left_on = left_columns_9, right_on = right_columns_9)\n"
   ]
  },
  {
   "cell_type": "code",
   "execution_count": 460,
   "id": "0d803dc2",
   "metadata": {},
   "outputs": [],
   "source": [
    "### strategy 9 \n",
    "left_columns_9 = ['site_number_clean', 'street_name', 'postcode_clean']\n",
    "right_columns_9 = ['pao_start_number', 'street_description', 'postcode_locator']\n",
    "\n",
    "merged_on_address9_match, merged_on_address9_no_match = my_merge(merged_on_address8_no_match, resi_AB, left_columns_9, right_columns_9)\n"
   ]
  },
  {
   "cell_type": "code",
   "execution_count": 461,
   "id": "09ed32bb",
   "metadata": {},
   "outputs": [
    {
     "data": {
      "text/plain": [
       "4"
      ]
     },
     "execution_count": 461,
     "metadata": {},
     "output_type": "execute_result"
    }
   ],
   "source": [
    "merged_on_address9_match['UCL_ID'].nunique()"
   ]
  },
  {
   "cell_type": "code",
   "execution_count": 462,
   "id": "f90b8d51",
   "metadata": {},
   "outputs": [],
   "source": [
    "merged_on_address9_match = merged_on_address9_match.rename(columns={\"uprn\": \"uprn_OSAB\"})\n",
    "merged_on_address9_match['match_strategy'] = 'address_9'\n",
    "\n",
    "frames = [all_matched, merged_on_address9_match]\n",
    "\n",
    "all_matched = pd.concat(frames)\n",
    "merged_on_address9_no_match = merged_on_address9_no_match.dropna(axis=1, how='all')"
   ]
  },
  {
   "cell_type": "code",
   "execution_count": 463,
   "id": "b51ed326",
   "metadata": {},
   "outputs": [],
   "source": [
    "### strategy 10 \n",
    "left_columns_10 = ['site_number_clean', 'street_name', 'postcode_sector_x']\n",
    "right_columns_10 = ['pao_start_number', 'street_description', 'postcode_sector']\n",
    "\n",
    "merged_on_address10_match, merged_on_address10_no_match = my_merge(merged_on_address9_no_match, resi_AB, left_columns_10, right_columns_10)\n"
   ]
  },
  {
   "cell_type": "code",
   "execution_count": 464,
   "id": "70fbad4c",
   "metadata": {},
   "outputs": [
    {
     "data": {
      "text/plain": [
       "4"
      ]
     },
     "execution_count": 464,
     "metadata": {},
     "output_type": "execute_result"
    }
   ],
   "source": [
    "merged_on_address10_match['UCL_ID'].nunique()"
   ]
  },
  {
   "cell_type": "code",
   "execution_count": 465,
   "id": "d5cb4410",
   "metadata": {},
   "outputs": [],
   "source": [
    "merged_on_address10_match = merged_on_address10_match.rename(columns={\"uprn\": \"uprn_OSAB\"})\n",
    "merged_on_address10_match['match_strategy'] = 'address_10'\n",
    "\n",
    "frames = [all_matched, merged_on_address10_match]\n",
    "\n",
    "all_matched = pd.concat(frames)\n",
    "merged_on_address10_no_match = merged_on_address10_no_match.dropna(axis=1, how='all')"
   ]
  },
  {
   "cell_type": "code",
   "execution_count": 466,
   "id": "f4e470d4",
   "metadata": {},
   "outputs": [],
   "source": [
    "### strategy 11 \n",
    "left_columns_11 = ['site_name_GLA_no_pc',  'postcode_sector_x']\n",
    "right_columns_11 = ['parsed_address1',  'postcode_sector']\n",
    "\n",
    "merged_on_address11_match, merged_on_address11_no_match = my_merge(merged_on_address10_no_match, resi_AB, left_columns_11, right_columns_11)\n"
   ]
  },
  {
   "cell_type": "code",
   "execution_count": 467,
   "id": "756dd9b0",
   "metadata": {},
   "outputs": [
    {
     "data": {
      "text/plain": [
       "0"
      ]
     },
     "execution_count": 467,
     "metadata": {},
     "output_type": "execute_result"
    }
   ],
   "source": [
    "merged_on_address11_match['UCL_ID'].nunique()"
   ]
  },
  {
   "cell_type": "code",
   "execution_count": 468,
   "id": "3fbf96c1",
   "metadata": {},
   "outputs": [],
   "source": [
    "merged_on_address11_match = merged_on_address11_match.rename(columns={\"uprn\": \"uprn_OSAB\"})\n",
    "merged_on_address11_match['match_strategy'] = 'address_11'\n",
    "\n",
    "frames = [all_matched, merged_on_address11_match]\n",
    "\n",
    "all_matched = pd.concat(frames)\n",
    "merged_on_address11_no_match = merged_on_address11_no_match.dropna(axis=1, how='all')"
   ]
  },
  {
   "cell_type": "code",
   "execution_count": 469,
   "id": "b055f696",
   "metadata": {},
   "outputs": [],
   "source": [
    "### strategy 12 \n",
    "left_columns_12 = ['site_name_LPA_no_pc',  'postcode_sector_x']\n",
    "right_columns_12 = ['parsed_address1',  'postcode_sector']\n",
    "\n",
    "merged_on_address12_match, merged_on_address12_no_match = my_merge(merged_on_address11_no_match, resi_AB, left_columns_12, right_columns_12)\n"
   ]
  },
  {
   "cell_type": "code",
   "execution_count": 470,
   "id": "31818ebb",
   "metadata": {},
   "outputs": [
    {
     "data": {
      "text/plain": [
       "0"
      ]
     },
     "execution_count": 470,
     "metadata": {},
     "output_type": "execute_result"
    }
   ],
   "source": [
    "merged_on_address12_match['UCL_ID'].nunique()"
   ]
  },
  {
   "cell_type": "code",
   "execution_count": 471,
   "id": "2d05d7e2",
   "metadata": {},
   "outputs": [],
   "source": [
    "merged_on_address12_match = merged_on_address12_match.rename(columns={\"uprn\": \"uprn_OSAB\"})\n",
    "merged_on_address12_match['match_strategy'] = 'address_12'\n",
    "\n",
    "frames = [all_matched, merged_on_address12_match]\n",
    "\n",
    "all_matched = pd.concat(frames)\n",
    "merged_on_address12_no_match = merged_on_address12_no_match.dropna(axis=1, how='all')"
   ]
  },
  {
   "cell_type": "code",
   "execution_count": 472,
   "id": "8b22d8d7",
   "metadata": {},
   "outputs": [],
   "source": [
    "### strategy 13 \n",
    "left_columns_13 = ['site_name_GLA_no_pc',  'postcode_sector_x']\n",
    "right_columns_13 = ['parsed_address2',  'postcode_sector']\n",
    "\n",
    "\n",
    "merged_on_address13_match, merged_on_address13_no_match = my_merge(merged_on_address11_no_match, resi_AB, left_columns_13, right_columns_13)\n"
   ]
  },
  {
   "cell_type": "code",
   "execution_count": 473,
   "id": "66c78066",
   "metadata": {},
   "outputs": [
    {
     "data": {
      "text/plain": [
       "0"
      ]
     },
     "execution_count": 473,
     "metadata": {},
     "output_type": "execute_result"
    }
   ],
   "source": [
    "merged_on_address13_match['UCL_ID'].nunique()"
   ]
  },
  {
   "cell_type": "code",
   "execution_count": 474,
   "id": "9ec8f610",
   "metadata": {},
   "outputs": [],
   "source": [
    "merged_on_address13_match = merged_on_address13_match.rename(columns={\"uprn\": \"uprn_OSAB\"})\n",
    "merged_on_address13_match['match_strategy'] = 'address_13'\n",
    "\n",
    "frames = [all_matched, merged_on_address13_match]\n",
    "\n",
    "all_matched = pd.concat(frames)\n",
    "merged_on_address13_no_match = merged_on_address13_no_match.dropna(axis=1, how='all')"
   ]
  },
  {
   "cell_type": "code",
   "execution_count": 475,
   "id": "2851f92d",
   "metadata": {},
   "outputs": [],
   "source": [
    "### strategy 14\n",
    "left_columns_14 = ['site_name_LPA_no_pc',  'postcode_sector_x']\n",
    "right_columns_14 = ['parsed_address2',  'postcode_sector']\n",
    "\n",
    "merged_on_address14_match, merged_on_address14_no_match = my_merge(merged_on_address13_no_match, resi_AB, left_columns_14, right_columns_14)\n"
   ]
  },
  {
   "cell_type": "code",
   "execution_count": 476,
   "id": "5a947ba3",
   "metadata": {},
   "outputs": [
    {
     "data": {
      "text/plain": [
       "0"
      ]
     },
     "execution_count": 476,
     "metadata": {},
     "output_type": "execute_result"
    }
   ],
   "source": [
    "merged_on_address14_match['UCL_ID'].nunique()"
   ]
  },
  {
   "cell_type": "code",
   "execution_count": 477,
   "id": "e8e977cd",
   "metadata": {},
   "outputs": [],
   "source": [
    "merged_on_address14_match = merged_on_address14_match.rename(columns={\"uprn\": \"uprn_OSAB\"})\n",
    "merged_on_address14_match['match_strategy'] = 'address_14'\n",
    "\n",
    "frames = [all_matched, merged_on_address14_match]\n",
    "\n",
    "all_matched = pd.concat(frames)\n",
    "merged_on_address14_no_match = merged_on_address14_no_match.dropna(axis=1, how='all')"
   ]
  },
  {
   "cell_type": "code",
   "execution_count": 478,
   "id": "d0df4ea2",
   "metadata": {},
   "outputs": [],
   "source": [
    "### strategy 15\n",
    "left_columns_15 = ['site_number_clean', 'street_name',  'postcode_sector_x']\n",
    "right_columns_15 = ['pao_start_number', 'street_description',   'postcode_sector']\n",
    "\n",
    "merged_on_address15_match, merged_on_address15_no_match = my_merge(merged_on_address14_no_match, resi_AB, left_columns_15, right_columns_15)\n"
   ]
  },
  {
   "cell_type": "code",
   "execution_count": 479,
   "id": "dc08436d",
   "metadata": {},
   "outputs": [
    {
     "data": {
      "text/plain": [
       "0"
      ]
     },
     "execution_count": 479,
     "metadata": {},
     "output_type": "execute_result"
    }
   ],
   "source": [
    "merged_on_address15_match['UCL_ID'].nunique()"
   ]
  },
  {
   "cell_type": "code",
   "execution_count": 480,
   "id": "f8d16649",
   "metadata": {},
   "outputs": [],
   "source": [
    "merged_on_address15_match = merged_on_address15_match.rename(columns={\"uprn\": \"uprn_OSAB\"})\n",
    "merged_on_address15_match['match_strategy'] = 'address_15'\n",
    "\n",
    "frames = [all_matched, merged_on_address15_match]\n",
    "\n",
    "all_matched = pd.concat(frames)\n",
    "merged_on_address15_no_match = merged_on_address15_no_match.dropna(axis=1, how='all')"
   ]
  },
  {
   "cell_type": "code",
   "execution_count": 481,
   "id": "f2d04789",
   "metadata": {},
   "outputs": [
    {
     "data": {
      "text/plain": [
       "3"
      ]
     },
     "execution_count": 481,
     "metadata": {},
     "output_type": "execute_result"
    }
   ],
   "source": [
    "## Strategy 16 \n",
    "left_columns_16 = ['concat_addr', 'lpa_name']\n",
    "right_columns_16 = ['parsed_address1', 'administrative_area']\n",
    "\n",
    "merged_on_address16_match, merged_on_address16_no_match = my_merge(merged_on_address15_no_match, resi_AB, left_columns_16, right_columns_16)\n",
    "\n",
    "merged_on_address16_match['UCL_ID'].nunique()"
   ]
  },
  {
   "cell_type": "code",
   "execution_count": 482,
   "id": "561f6c90",
   "metadata": {},
   "outputs": [],
   "source": [
    "merged_on_address16_match = merged_on_address16_match.rename(columns={\"uprn\": \"uprn_OSAB\"})\n",
    "merged_on_address16_match['match_strategy'] = 'address_16'\n",
    "\n",
    "frames = [all_matched, merged_on_address16_match]\n",
    "\n",
    "all_matched = pd.concat(frames)\n",
    "merged_on_address16_no_match = merged_on_address16_no_match.dropna(axis=1, how='all')"
   ]
  },
  {
   "cell_type": "code",
   "execution_count": 483,
   "id": "8ba12173",
   "metadata": {},
   "outputs": [
    {
     "data": {
      "text/plain": [
       "0"
      ]
     },
     "execution_count": 483,
     "metadata": {},
     "output_type": "execute_result"
    }
   ],
   "source": [
    "## Strategy 17 \n",
    "left_columns_17 = ['concat_addr', 'lpa_name']\n",
    "right_columns_17 = ['parsed_address1', 'administrative_area']\n",
    "\n",
    "merged_on_address17_match, merged_on_address17_no_match = my_merge(merged_on_address16_no_match, resi_AB, left_columns_17, right_columns_17)\n",
    "\n",
    "merged_on_address17_match['UCL_ID'].nunique()"
   ]
  },
  {
   "cell_type": "code",
   "execution_count": 484,
   "id": "dce20544",
   "metadata": {},
   "outputs": [],
   "source": [
    "merged_on_address17_match = merged_on_address17_match.rename(columns={\"uprn\": \"uprn_OSAB\"})\n",
    "merged_on_address17_match['match_strategy'] = 'address_17'\n",
    "\n",
    "frames = [all_matched, merged_on_address17_match]\n",
    "\n",
    "all_matched = pd.concat(frames)\n",
    "merged_on_address17_no_match = merged_on_address17_no_match.dropna(axis=1, how='all')"
   ]
  },
  {
   "cell_type": "code",
   "execution_count": 485,
   "id": "03550a02",
   "metadata": {},
   "outputs": [],
   "source": [
    "merged_on_address17_no_match = merged_on_address17_no_match.dropna(axis=1, how='all')"
   ]
  },
  {
   "cell_type": "code",
   "execution_count": 486,
   "id": "f06d7685",
   "metadata": {},
   "outputs": [
    {
     "data": {
      "text/plain": [
       "2"
      ]
     },
     "execution_count": 486,
     "metadata": {},
     "output_type": "execute_result"
    }
   ],
   "source": [
    "#Strategy 18 \n",
    "left_columns_18 = ['site_name_clean', 'street_name','postcode_clean']\n",
    "right_columns_18 = ['pao_text', 'street_description','postcode_locator']\n",
    "\n",
    "merged_on_address18_match, merged_on_address18_no_match = my_merge(merged_on_address17_no_match, resi_AB, left_columns_18, right_columns_18)\n",
    "\n",
    "merged_on_address18_match['UCL_ID'].nunique()"
   ]
  },
  {
   "cell_type": "code",
   "execution_count": 487,
   "id": "649bb4fa",
   "metadata": {},
   "outputs": [],
   "source": [
    "merged_on_address18_match = merged_on_address18_match.rename(columns={\"uprn\": \"uprn_OSAB\"})\n",
    "merged_on_address18_match['match_strategy'] = 'address_18'\n",
    "\n",
    "frames = [all_matched, merged_on_address18_match]\n",
    "\n",
    "all_matched = pd.concat(frames)\n",
    "merged_on_address18_no_match = merged_on_address18_no_match.dropna(axis=1, how='all')"
   ]
  },
  {
   "cell_type": "code",
   "execution_count": 488,
   "id": "86be878c",
   "metadata": {},
   "outputs": [
    {
     "data": {
      "text/plain": [
       "0"
      ]
     },
     "execution_count": 488,
     "metadata": {},
     "output_type": "execute_result"
    }
   ],
   "source": [
    "#Strategy 19 \n",
    "left_columns_19 = ['site_number_clean', 'site_name_clean','postcode_clean']\n",
    "right_columns_19 = ['pao_start_number', 'building_name','postcode_locator']\n",
    "\n",
    "merged_on_address19_match, merged_on_address19_no_match = my_merge(merged_on_address18_no_match, resi_AB, left_columns_19, right_columns_19)\n",
    "\n",
    "merged_on_address19_match['UCL_ID'].nunique()"
   ]
  },
  {
   "cell_type": "code",
   "execution_count": 489,
   "id": "b97afdc0",
   "metadata": {},
   "outputs": [],
   "source": [
    "merged_on_address19_match = merged_on_address19_match.rename(columns={\"uprn\": \"uprn_OSAB\"})\n",
    "merged_on_address19_match['match_strategy'] = 'address_19'\n",
    "\n",
    "frames = [all_matched, merged_on_address19_match]\n",
    "\n",
    "all_matched = pd.concat(frames)\n",
    "merged_on_address19_no_match = merged_on_address19_no_match.dropna(axis=1, how='all')"
   ]
  },
  {
   "cell_type": "code",
   "execution_count": 490,
   "id": "07b126a4",
   "metadata": {},
   "outputs": [
    {
     "data": {
      "text/plain": [
       "0"
      ]
     },
     "execution_count": 490,
     "metadata": {},
     "output_type": "execute_result"
    }
   ],
   "source": [
    "#Strategy 20 \n",
    "left_columns_20 = ['site_number_clean', 'site_name_clean','postcode_clean']\n",
    "right_columns_20 = ['building_number', 'building_name','postcode_locator']\n",
    "\n",
    "merged_on_address20_match, merged_on_address20_no_match = my_merge(merged_on_address19_no_match, resi_AB, left_columns_20, right_columns_20)\n",
    "\n",
    "merged_on_address20_match['UCL_ID'].nunique()"
   ]
  },
  {
   "cell_type": "code",
   "execution_count": 494,
   "id": "b829f00b",
   "metadata": {},
   "outputs": [],
   "source": [
    "merged_on_address20_match = merged_on_address20_match.rename(columns={\"uprn\": \"uprn_OSAB\"})\n",
    "merged_on_address20_match['match_strategy'] = 'address_20'\n",
    "\n",
    "frames = [all_matched, merged_on_address20_match]\n",
    "\n",
    "all_matched = pd.concat(frames)\n",
    "merged_on_address20_no_match = merged_on_address20_no_match.dropna(axis=1, how='all')"
   ]
  },
  {
   "cell_type": "code",
   "execution_count": null,
   "id": "f484c6ad",
   "metadata": {},
   "outputs": [],
   "source": [
    "## Strategy 14: No postcode sector, match on administrative area but replace the & with the 'AND' for BARKING & DAGENHAM"
   ]
  },
  {
   "cell_type": "code",
   "execution_count": 495,
   "id": "d4a0d015",
   "metadata": {},
   "outputs": [
    {
     "name": "stdout",
     "output_type": "stream",
     "text": [
      "Resi Match rate:  35.78431372549019  from record count:  73\n"
     ]
    }
   ],
   "source": [
    "#print match rate\n",
    "resi_match_rate = 100 * all_matched['UCL_ID'].nunique() / london_data['UCL_ID'].nunique()\n",
    "\n",
    "print('Resi Match rate: ', resi_match_rate, ' from record count: ', all_matched['UCL_ID'].nunique()) "
   ]
  },
  {
   "cell_type": "markdown",
   "id": "0b55291d",
   "metadata": {},
   "source": [
    "------ specific address analysis ----- "
   ]
  },
  {
   "cell_type": "code",
   "execution_count": 142,
   "id": "e3f089e5",
   "metadata": {},
   "outputs": [
    {
     "data": {
      "text/html": [
       "<div>\n",
       "<style scoped>\n",
       "    .dataframe tbody tr th:only-of-type {\n",
       "        vertical-align: middle;\n",
       "    }\n",
       "\n",
       "    .dataframe tbody tr th {\n",
       "        vertical-align: top;\n",
       "    }\n",
       "\n",
       "    .dataframe thead th {\n",
       "        text-align: right;\n",
       "    }\n",
       "</style>\n",
       "<table border=\"1\" class=\"dataframe\">\n",
       "  <thead>\n",
       "    <tr style=\"text-align: right;\">\n",
       "      <th></th>\n",
       "      <th>UCL_ID</th>\n",
       "      <th>planning_application_number</th>\n",
       "      <th>lpa_name</th>\n",
       "      <th>application_type</th>\n",
       "      <th>application_type_full</th>\n",
       "      <th>description</th>\n",
       "      <th>number_of_units</th>\n",
       "      <th>site_number_clean</th>\n",
       "      <th>street_name</th>\n",
       "      <th>postcode_clean</th>\n",
       "      <th>...</th>\n",
       "      <th>dependent_locality</th>\n",
       "      <th>locality</th>\n",
       "      <th>town_name</th>\n",
       "      <th>administrative_area</th>\n",
       "      <th>post_town</th>\n",
       "      <th>postcode</th>\n",
       "      <th>postcode_locator</th>\n",
       "      <th>postcode_sector</th>\n",
       "      <th>parsed_address1</th>\n",
       "      <th>parsed_address2</th>\n",
       "    </tr>\n",
       "  </thead>\n",
       "  <tbody>\n",
       "    <tr>\n",
       "      <th>35</th>\n",
       "      <td>246</td>\n",
       "      <td>20/01567/PRIOFF</td>\n",
       "      <td>BARKING &amp; DAGENHAM</td>\n",
       "      <td>Prior Approval</td>\n",
       "      <td>NaN</td>\n",
       "      <td>Application for prior approval: Notification o...</td>\n",
       "      <td>6.0</td>\n",
       "      <td>7</td>\n",
       "      <td>BACK LANE</td>\n",
       "      <td>RM6 4BP</td>\n",
       "      <td>...</td>\n",
       "      <td>NaN</td>\n",
       "      <td>NaN</td>\n",
       "      <td>NaN</td>\n",
       "      <td>NaN</td>\n",
       "      <td>NaN</td>\n",
       "      <td>NaN</td>\n",
       "      <td>NaN</td>\n",
       "      <td>NaN</td>\n",
       "      <td>NaN</td>\n",
       "      <td>NaN</td>\n",
       "    </tr>\n",
       "  </tbody>\n",
       "</table>\n",
       "<p>1 rows × 58 columns</p>\n",
       "</div>"
      ],
      "text/plain": [
       "    UCL_ID planning_application_number            lpa_name application_type  \\\n",
       "35     246             20/01567/PRIOFF  BARKING & DAGENHAM   Prior Approval   \n",
       "\n",
       "   application_type_full                                        description  \\\n",
       "35                   NaN  Application for prior approval: Notification o...   \n",
       "\n",
       "    number_of_units site_number_clean street_name postcode_clean  ...  \\\n",
       "35              6.0                 7   BACK LANE        RM6 4BP  ...   \n",
       "\n",
       "   dependent_locality locality town_name administrative_area post_town  \\\n",
       "35                NaN      NaN       NaN                 NaN       NaN   \n",
       "\n",
       "   postcode postcode_locator postcode_sector parsed_address1 parsed_address2  \n",
       "35      NaN              NaN             NaN             NaN             NaN  \n",
       "\n",
       "[1 rows x 58 columns]"
      ]
     },
     "execution_count": 142,
     "metadata": {},
     "output_type": "execute_result"
    }
   ],
   "source": [
    "merged_on_address15_no_match[merged_on_address15_no_match['UCL_ID'] == 246]"
   ]
  },
  {
   "cell_type": "code",
   "execution_count": 236,
   "id": "04128001",
   "metadata": {},
   "outputs": [],
   "source": [
    "non_resi_address_merge_no_match15.to_csv('no_match_batch1b_may30.csv', index = False) #\t005300 082025\t"
   ]
  },
  {
   "cell_type": "code",
   "execution_count": 163,
   "id": "0156aeb4",
   "metadata": {},
   "outputs": [
    {
     "data": {
      "text/html": [
       "<div>\n",
       "<style scoped>\n",
       "    .dataframe tbody tr th:only-of-type {\n",
       "        vertical-align: middle;\n",
       "    }\n",
       "\n",
       "    .dataframe tbody tr th {\n",
       "        vertical-align: top;\n",
       "    }\n",
       "\n",
       "    .dataframe thead th {\n",
       "        text-align: right;\n",
       "    }\n",
       "</style>\n",
       "<table border=\"1\" class=\"dataframe\">\n",
       "  <thead>\n",
       "    <tr style=\"text-align: right;\">\n",
       "      <th></th>\n",
       "      <th>uprn</th>\n",
       "      <th>class</th>\n",
       "      <th>parent_uprn</th>\n",
       "      <th>latitude</th>\n",
       "      <th>longitude</th>\n",
       "      <th>country</th>\n",
       "      <th>legal_name</th>\n",
       "      <th>sub_building_name</th>\n",
       "      <th>building_name</th>\n",
       "      <th>building_number</th>\n",
       "      <th>...</th>\n",
       "      <th>dependent_locality</th>\n",
       "      <th>locality</th>\n",
       "      <th>town_name</th>\n",
       "      <th>administrative_area</th>\n",
       "      <th>post_town</th>\n",
       "      <th>postcode</th>\n",
       "      <th>postcode_locator</th>\n",
       "      <th>postcode_sector</th>\n",
       "      <th>parsed_address1</th>\n",
       "      <th>parsed_address2</th>\n",
       "    </tr>\n",
       "  </thead>\n",
       "  <tbody>\n",
       "  </tbody>\n",
       "</table>\n",
       "<p>0 rows × 31 columns</p>\n",
       "</div>"
      ],
      "text/plain": [
       "Empty DataFrame\n",
       "Columns: [uprn, class, parent_uprn, latitude, longitude, country, legal_name, sub_building_name, building_name, building_number, sao_start_number, sao_start_suffix, sao_end_number, sao_end_suffix, sao_text, pao_start_number, pao_start_suffix, pao_end_number, pao_end_suffix, pao_text, street_description, dependent_locality, locality, town_name, administrative_area, post_town, postcode, postcode_locator, postcode_sector, parsed_address1, parsed_address2]\n",
       "Index: []\n",
       "\n",
       "[0 rows x 31 columns]"
      ]
     },
     "execution_count": 163,
     "metadata": {},
     "output_type": "execute_result"
    }
   ],
   "source": [
    "resi_AB[resi_AB['parent_uprn']== '000202220323']"
   ]
  },
  {
   "cell_type": "code",
   "execution_count": 263,
   "id": "e6cd8162",
   "metadata": {},
   "outputs": [
    {
     "data": {
      "text/html": [
       "<div>\n",
       "<style scoped>\n",
       "    .dataframe tbody tr th:only-of-type {\n",
       "        vertical-align: middle;\n",
       "    }\n",
       "\n",
       "    .dataframe tbody tr th {\n",
       "        vertical-align: top;\n",
       "    }\n",
       "\n",
       "    .dataframe thead th {\n",
       "        text-align: right;\n",
       "    }\n",
       "</style>\n",
       "<table border=\"1\" class=\"dataframe\">\n",
       "  <thead>\n",
       "    <tr style=\"text-align: right;\">\n",
       "      <th></th>\n",
       "      <th>uprn</th>\n",
       "      <th>class</th>\n",
       "      <th>parent_uprn</th>\n",
       "      <th>latitude</th>\n",
       "      <th>longitude</th>\n",
       "      <th>country</th>\n",
       "      <th>legal_name</th>\n",
       "      <th>sub_building_name</th>\n",
       "      <th>building_name</th>\n",
       "      <th>building_number</th>\n",
       "      <th>...</th>\n",
       "      <th>locality</th>\n",
       "      <th>town_name</th>\n",
       "      <th>administrative_area</th>\n",
       "      <th>post_town</th>\n",
       "      <th>postcode</th>\n",
       "      <th>postcode_locator</th>\n",
       "      <th>postcode_sector</th>\n",
       "      <th>parsed_address1</th>\n",
       "      <th>parsed_address2</th>\n",
       "      <th>pao_start_num_suffix</th>\n",
       "    </tr>\n",
       "  </thead>\n",
       "  <tbody>\n",
       "    <tr>\n",
       "      <th>1217</th>\n",
       "      <td>100021539712</td>\n",
       "      <td>RD06</td>\n",
       "      <td>100023405589</td>\n",
       "      <td>51.477920</td>\n",
       "      <td>-0.405469</td>\n",
       "      <td>E</td>\n",
       "      <td>0.0</td>\n",
       "      <td>0</td>\n",
       "      <td>0</td>\n",
       "      <td>0</td>\n",
       "      <td>...</td>\n",
       "      <td>0</td>\n",
       "      <td>HOUNSLOW</td>\n",
       "      <td>HOUNSLOW</td>\n",
       "      <td>0</td>\n",
       "      <td>0</td>\n",
       "      <td>TW5 9TL</td>\n",
       "      <td>TW5 9</td>\n",
       "      <td>FLAT, 624, BATH ROAD</td>\n",
       "      <td>BATH ROAD</td>\n",
       "      <td>624</td>\n",
       "    </tr>\n",
       "    <tr>\n",
       "      <th>38040</th>\n",
       "      <td>010093768587</td>\n",
       "      <td>RD06</td>\n",
       "      <td>010093768585</td>\n",
       "      <td>51.479750</td>\n",
       "      <td>-0.412405</td>\n",
       "      <td>E</td>\n",
       "      <td>0.0</td>\n",
       "      <td>0</td>\n",
       "      <td>0</td>\n",
       "      <td>0</td>\n",
       "      <td>...</td>\n",
       "      <td>0</td>\n",
       "      <td>HOUNSLOW</td>\n",
       "      <td>HOUNSLOW</td>\n",
       "      <td>0</td>\n",
       "      <td>0</td>\n",
       "      <td>TW5 9TY</td>\n",
       "      <td>TW5 9</td>\n",
       "      <td>FLAT 2, 768, BATH ROAD</td>\n",
       "      <td>BATH ROAD</td>\n",
       "      <td>768B</td>\n",
       "    </tr>\n",
       "    <tr>\n",
       "      <th>102316</th>\n",
       "      <td>200003978414</td>\n",
       "      <td>RD06</td>\n",
       "      <td>200003985976</td>\n",
       "      <td>51.477969</td>\n",
       "      <td>-0.405638</td>\n",
       "      <td>E</td>\n",
       "      <td>0.0</td>\n",
       "      <td>0</td>\n",
       "      <td>0</td>\n",
       "      <td>0</td>\n",
       "      <td>...</td>\n",
       "      <td>0</td>\n",
       "      <td>HOUNSLOW</td>\n",
       "      <td>HOUNSLOW</td>\n",
       "      <td>0</td>\n",
       "      <td>0</td>\n",
       "      <td>TW5 9TL</td>\n",
       "      <td>TW5 9</td>\n",
       "      <td>FLAT, 628, BATH ROAD</td>\n",
       "      <td>BATH ROAD</td>\n",
       "      <td>628A</td>\n",
       "    </tr>\n",
       "    <tr>\n",
       "      <th>124228</th>\n",
       "      <td>010091693743</td>\n",
       "      <td>RD06</td>\n",
       "      <td>100021539703</td>\n",
       "      <td>51.477123</td>\n",
       "      <td>-0.403297</td>\n",
       "      <td>E</td>\n",
       "      <td>0.0</td>\n",
       "      <td>0</td>\n",
       "      <td>0</td>\n",
       "      <td>0</td>\n",
       "      <td>...</td>\n",
       "      <td>0</td>\n",
       "      <td>HOUNSLOW</td>\n",
       "      <td>HOUNSLOW</td>\n",
       "      <td>0</td>\n",
       "      <td>0</td>\n",
       "      <td>TW5 9UX</td>\n",
       "      <td>TW5 9</td>\n",
       "      <td>FLAT FIRST FLOOR, 568, BATH ROAD</td>\n",
       "      <td>BATH ROAD</td>\n",
       "      <td>568</td>\n",
       "    </tr>\n",
       "    <tr>\n",
       "      <th>180211</th>\n",
       "      <td>010091069046</td>\n",
       "      <td>RD06</td>\n",
       "      <td>100021539736</td>\n",
       "      <td>51.478403</td>\n",
       "      <td>-0.405332</td>\n",
       "      <td>E</td>\n",
       "      <td>0.0</td>\n",
       "      <td>0</td>\n",
       "      <td>0</td>\n",
       "      <td>0</td>\n",
       "      <td>...</td>\n",
       "      <td>0</td>\n",
       "      <td>HOUNSLOW</td>\n",
       "      <td>HOUNSLOW</td>\n",
       "      <td>0</td>\n",
       "      <td>0</td>\n",
       "      <td>TW5 9SR</td>\n",
       "      <td>TW5 9</td>\n",
       "      <td>FLAT FIRST FLOOR RIGHT, 687, BATH ROAD</td>\n",
       "      <td>BATH ROAD</td>\n",
       "      <td>687</td>\n",
       "    </tr>\n",
       "    <tr>\n",
       "      <th>...</th>\n",
       "      <td>...</td>\n",
       "      <td>...</td>\n",
       "      <td>...</td>\n",
       "      <td>...</td>\n",
       "      <td>...</td>\n",
       "      <td>...</td>\n",
       "      <td>...</td>\n",
       "      <td>...</td>\n",
       "      <td>...</td>\n",
       "      <td>...</td>\n",
       "      <td>...</td>\n",
       "      <td>...</td>\n",
       "      <td>...</td>\n",
       "      <td>...</td>\n",
       "      <td>...</td>\n",
       "      <td>...</td>\n",
       "      <td>...</td>\n",
       "      <td>...</td>\n",
       "      <td>...</td>\n",
       "      <td>...</td>\n",
       "      <td>...</td>\n",
       "    </tr>\n",
       "    <tr>\n",
       "      <th>17000434</th>\n",
       "      <td>100021539674</td>\n",
       "      <td>RD03</td>\n",
       "      <td>000000000000</td>\n",
       "      <td>51.476151</td>\n",
       "      <td>-0.399416</td>\n",
       "      <td>E</td>\n",
       "      <td>0.0</td>\n",
       "      <td>0</td>\n",
       "      <td>0</td>\n",
       "      <td>506</td>\n",
       "      <td>...</td>\n",
       "      <td>0</td>\n",
       "      <td>HOUNSLOW</td>\n",
       "      <td>HOUNSLOW</td>\n",
       "      <td>HOUNSLOW</td>\n",
       "      <td>TW5 9UP</td>\n",
       "      <td>TW5 9UP</td>\n",
       "      <td>TW5 9</td>\n",
       "      <td>506, BATH ROAD</td>\n",
       "      <td>506, BATH ROAD</td>\n",
       "      <td>506</td>\n",
       "    </tr>\n",
       "    <tr>\n",
       "      <th>17223772</th>\n",
       "      <td>100021539908</td>\n",
       "      <td>RD06</td>\n",
       "      <td>100023661721</td>\n",
       "      <td>51.478795</td>\n",
       "      <td>-0.406723</td>\n",
       "      <td>E</td>\n",
       "      <td>0.0</td>\n",
       "      <td>0</td>\n",
       "      <td>13 TREFUSIS COURT</td>\n",
       "      <td>0</td>\n",
       "      <td>...</td>\n",
       "      <td>0</td>\n",
       "      <td>HOUNSLOW</td>\n",
       "      <td>HOUNSLOW</td>\n",
       "      <td>HOUNSLOW</td>\n",
       "      <td>TW5 9SY</td>\n",
       "      <td>TW5 9SY</td>\n",
       "      <td>TW5 9</td>\n",
       "      <td>TREFUSIS COURT, BATH ROAD</td>\n",
       "      <td>13 TREFUSIS COURT, BATH ROAD</td>\n",
       "      <td></td>\n",
       "    </tr>\n",
       "    <tr>\n",
       "      <th>17238277</th>\n",
       "      <td>100021539902</td>\n",
       "      <td>RD06</td>\n",
       "      <td>100023661721</td>\n",
       "      <td>51.478795</td>\n",
       "      <td>-0.406723</td>\n",
       "      <td>E</td>\n",
       "      <td>0.0</td>\n",
       "      <td>0</td>\n",
       "      <td>7 TREFUSIS COURT</td>\n",
       "      <td>0</td>\n",
       "      <td>...</td>\n",
       "      <td>0</td>\n",
       "      <td>HOUNSLOW</td>\n",
       "      <td>HOUNSLOW</td>\n",
       "      <td>HOUNSLOW</td>\n",
       "      <td>TW5 9SY</td>\n",
       "      <td>TW5 9SY</td>\n",
       "      <td>TW5 9</td>\n",
       "      <td>TREFUSIS COURT, BATH ROAD</td>\n",
       "      <td>7 TREFUSIS COURT, BATH ROAD</td>\n",
       "      <td></td>\n",
       "    </tr>\n",
       "    <tr>\n",
       "      <th>17640205</th>\n",
       "      <td>010014073678</td>\n",
       "      <td>RD06</td>\n",
       "      <td>100023405715</td>\n",
       "      <td>51.479726</td>\n",
       "      <td>-0.412021</td>\n",
       "      <td>E</td>\n",
       "      <td>0.0</td>\n",
       "      <td>0</td>\n",
       "      <td>758B</td>\n",
       "      <td>0</td>\n",
       "      <td>...</td>\n",
       "      <td>0</td>\n",
       "      <td>HOUNSLOW</td>\n",
       "      <td>HOUNSLOW</td>\n",
       "      <td>HOUNSLOW</td>\n",
       "      <td>TW5 9TY</td>\n",
       "      <td>TW5 9TY</td>\n",
       "      <td>TW5 9</td>\n",
       "      <td>FLAT B, 758, BATH ROAD</td>\n",
       "      <td>758B, BATH ROAD</td>\n",
       "      <td>758</td>\n",
       "    </tr>\n",
       "    <tr>\n",
       "      <th>17698625</th>\n",
       "      <td>100021539928</td>\n",
       "      <td>RD06</td>\n",
       "      <td>100023661721</td>\n",
       "      <td>51.478879</td>\n",
       "      <td>-0.406337</td>\n",
       "      <td>E</td>\n",
       "      <td>0.0</td>\n",
       "      <td>0</td>\n",
       "      <td>33 TREFUSIS COURT</td>\n",
       "      <td>0</td>\n",
       "      <td>...</td>\n",
       "      <td>0</td>\n",
       "      <td>HOUNSLOW</td>\n",
       "      <td>HOUNSLOW</td>\n",
       "      <td>HOUNSLOW</td>\n",
       "      <td>TW5 9SY</td>\n",
       "      <td>TW5 9SY</td>\n",
       "      <td>TW5 9</td>\n",
       "      <td>TREFUSIS COURT, BATH ROAD</td>\n",
       "      <td>33 TREFUSIS COURT, BATH ROAD</td>\n",
       "      <td></td>\n",
       "    </tr>\n",
       "  </tbody>\n",
       "</table>\n",
       "<p>221 rows × 32 columns</p>\n",
       "</div>"
      ],
      "text/plain": [
       "                  uprn class   parent_uprn   latitude  longitude country  \\\n",
       "1217      100021539712  RD06  100023405589  51.477920  -0.405469       E   \n",
       "38040     010093768587  RD06  010093768585  51.479750  -0.412405       E   \n",
       "102316    200003978414  RD06  200003985976  51.477969  -0.405638       E   \n",
       "124228    010091693743  RD06  100021539703  51.477123  -0.403297       E   \n",
       "180211    010091069046  RD06  100021539736  51.478403  -0.405332       E   \n",
       "...                ...   ...           ...        ...        ...     ...   \n",
       "17000434  100021539674  RD03  000000000000  51.476151  -0.399416       E   \n",
       "17223772  100021539908  RD06  100023661721  51.478795  -0.406723       E   \n",
       "17238277  100021539902  RD06  100023661721  51.478795  -0.406723       E   \n",
       "17640205  010014073678  RD06  100023405715  51.479726  -0.412021       E   \n",
       "17698625  100021539928  RD06  100023661721  51.478879  -0.406337       E   \n",
       "\n",
       "          legal_name sub_building_name      building_name building_number  \\\n",
       "1217             0.0                 0                  0               0   \n",
       "38040            0.0                 0                  0               0   \n",
       "102316           0.0                 0                  0               0   \n",
       "124228           0.0                 0                  0               0   \n",
       "180211           0.0                 0                  0               0   \n",
       "...              ...               ...                ...             ...   \n",
       "17000434         0.0                 0                  0             506   \n",
       "17223772         0.0                 0  13 TREFUSIS COURT               0   \n",
       "17238277         0.0                 0   7 TREFUSIS COURT               0   \n",
       "17640205         0.0                 0               758B               0   \n",
       "17698625         0.0                 0  33 TREFUSIS COURT               0   \n",
       "\n",
       "          ...  locality town_name  administrative_area post_town postcode  \\\n",
       "1217      ...         0  HOUNSLOW             HOUNSLOW         0        0   \n",
       "38040     ...         0  HOUNSLOW             HOUNSLOW         0        0   \n",
       "102316    ...         0  HOUNSLOW             HOUNSLOW         0        0   \n",
       "124228    ...         0  HOUNSLOW             HOUNSLOW         0        0   \n",
       "180211    ...         0  HOUNSLOW             HOUNSLOW         0        0   \n",
       "...       ...       ...       ...                  ...       ...      ...   \n",
       "17000434  ...         0  HOUNSLOW             HOUNSLOW  HOUNSLOW  TW5 9UP   \n",
       "17223772  ...         0  HOUNSLOW             HOUNSLOW  HOUNSLOW  TW5 9SY   \n",
       "17238277  ...         0  HOUNSLOW             HOUNSLOW  HOUNSLOW  TW5 9SY   \n",
       "17640205  ...         0  HOUNSLOW             HOUNSLOW  HOUNSLOW  TW5 9TY   \n",
       "17698625  ...         0  HOUNSLOW             HOUNSLOW  HOUNSLOW  TW5 9SY   \n",
       "\n",
       "         postcode_locator postcode_sector  \\\n",
       "1217              TW5 9TL           TW5 9   \n",
       "38040             TW5 9TY           TW5 9   \n",
       "102316            TW5 9TL           TW5 9   \n",
       "124228            TW5 9UX           TW5 9   \n",
       "180211            TW5 9SR           TW5 9   \n",
       "...                   ...             ...   \n",
       "17000434          TW5 9UP           TW5 9   \n",
       "17223772          TW5 9SY           TW5 9   \n",
       "17238277          TW5 9SY           TW5 9   \n",
       "17640205          TW5 9TY           TW5 9   \n",
       "17698625          TW5 9SY           TW5 9   \n",
       "\n",
       "                                 parsed_address1  \\\n",
       "1217                        FLAT, 624, BATH ROAD   \n",
       "38040                     FLAT 2, 768, BATH ROAD   \n",
       "102316                      FLAT, 628, BATH ROAD   \n",
       "124228          FLAT FIRST FLOOR, 568, BATH ROAD   \n",
       "180211    FLAT FIRST FLOOR RIGHT, 687, BATH ROAD   \n",
       "...                                          ...   \n",
       "17000434                          506, BATH ROAD   \n",
       "17223772               TREFUSIS COURT, BATH ROAD   \n",
       "17238277               TREFUSIS COURT, BATH ROAD   \n",
       "17640205                  FLAT B, 758, BATH ROAD   \n",
       "17698625               TREFUSIS COURT, BATH ROAD   \n",
       "\n",
       "                       parsed_address2 pao_start_num_suffix  \n",
       "1217                         BATH ROAD                  624  \n",
       "38040                        BATH ROAD                 768B  \n",
       "102316                       BATH ROAD                 628A  \n",
       "124228                       BATH ROAD                  568  \n",
       "180211                       BATH ROAD                  687  \n",
       "...                                ...                  ...  \n",
       "17000434                506, BATH ROAD                  506  \n",
       "17223772  13 TREFUSIS COURT, BATH ROAD                       \n",
       "17238277   7 TREFUSIS COURT, BATH ROAD                       \n",
       "17640205               758B, BATH ROAD                  758  \n",
       "17698625  33 TREFUSIS COURT, BATH ROAD                       \n",
       "\n",
       "[221 rows x 32 columns]"
      ]
     },
     "execution_count": 263,
     "metadata": {},
     "output_type": "execute_result"
    }
   ],
   "source": [
    "resi_AB[(resi_AB['postcode_sector'] == 'TW5 9') & (resi_AB['street_description'] == 'BATH ROAD')].to_csv()"
   ]
  },
  {
   "cell_type": "code",
   "execution_count": null,
   "id": "2847f11e",
   "metadata": {},
   "outputs": [],
   "source": [
    "resi_AB[other_AB['postcode_locator'] == 'TW5 9AT']"
   ]
  },
  {
   "cell_type": "code",
   "execution_count": 246,
   "id": "930fc49c",
   "metadata": {},
   "outputs": [
    {
     "data": {
      "text/html": [
       "<div>\n",
       "<style scoped>\n",
       "    .dataframe tbody tr th:only-of-type {\n",
       "        vertical-align: middle;\n",
       "    }\n",
       "\n",
       "    .dataframe tbody tr th {\n",
       "        vertical-align: top;\n",
       "    }\n",
       "\n",
       "    .dataframe thead th {\n",
       "        text-align: right;\n",
       "    }\n",
       "</style>\n",
       "<table border=\"1\" class=\"dataframe\">\n",
       "  <thead>\n",
       "    <tr style=\"text-align: right;\">\n",
       "      <th></th>\n",
       "      <th>uprn</th>\n",
       "      <th>class</th>\n",
       "      <th>parent_uprn</th>\n",
       "      <th>latitude</th>\n",
       "      <th>longitude</th>\n",
       "      <th>country</th>\n",
       "      <th>legal_name</th>\n",
       "      <th>sub_building_name</th>\n",
       "      <th>building_name</th>\n",
       "      <th>building_number</th>\n",
       "      <th>...</th>\n",
       "      <th>dependent_locality</th>\n",
       "      <th>locality</th>\n",
       "      <th>town_name</th>\n",
       "      <th>administrative_area</th>\n",
       "      <th>post_town</th>\n",
       "      <th>postcode</th>\n",
       "      <th>postcode_locator</th>\n",
       "      <th>postcode_sector</th>\n",
       "      <th>parsed_address1</th>\n",
       "      <th>parsed_address2</th>\n",
       "    </tr>\n",
       "  </thead>\n",
       "  <tbody>\n",
       "    <tr>\n",
       "      <th>1029703</th>\n",
       "      <td>010025177788</td>\n",
       "      <td>CU01</td>\n",
       "      <td>000000000000</td>\n",
       "      <td>51.544389</td>\n",
       "      <td>-0.302875</td>\n",
       "      <td>E</td>\n",
       "      <td>0.0</td>\n",
       "      <td>0</td>\n",
       "      <td>0</td>\n",
       "      <td>0</td>\n",
       "      <td>...</td>\n",
       "      <td>0</td>\n",
       "      <td>0</td>\n",
       "      <td>WEMBLEY</td>\n",
       "      <td>BRENT</td>\n",
       "      <td>0</td>\n",
       "      <td>0</td>\n",
       "      <td>HA0 4QS</td>\n",
       "      <td>HA0 4</td>\n",
       "      <td>ELECTRICITY SUB STATION 66M FROM 95 NORTON ROA...</td>\n",
       "      <td>BOWRONS AVENUE</td>\n",
       "    </tr>\n",
       "    <tr>\n",
       "      <th>1309948</th>\n",
       "      <td>000202228481</td>\n",
       "      <td>CR</td>\n",
       "      <td>000000000000</td>\n",
       "      <td>51.544930</td>\n",
       "      <td>-0.297450</td>\n",
       "      <td>E</td>\n",
       "      <td>0.0</td>\n",
       "      <td>0</td>\n",
       "      <td>0</td>\n",
       "      <td>0</td>\n",
       "      <td>...</td>\n",
       "      <td>0</td>\n",
       "      <td>0</td>\n",
       "      <td>WEMBLEY</td>\n",
       "      <td>BRENT</td>\n",
       "      <td>0</td>\n",
       "      <td>0</td>\n",
       "      <td>HA0 4QS</td>\n",
       "      <td>HA0 4</td>\n",
       "      <td>UNIT 1, 1, BOWRONS AVENUE</td>\n",
       "      <td>BOWRONS AVENUE</td>\n",
       "    </tr>\n",
       "    <tr>\n",
       "      <th>1561284</th>\n",
       "      <td>000202238960</td>\n",
       "      <td>PP</td>\n",
       "      <td>000000000000</td>\n",
       "      <td>51.544557</td>\n",
       "      <td>-0.302108</td>\n",
       "      <td>E</td>\n",
       "      <td>0.0</td>\n",
       "      <td>0</td>\n",
       "      <td>0</td>\n",
       "      <td>0</td>\n",
       "      <td>...</td>\n",
       "      <td>0</td>\n",
       "      <td>0</td>\n",
       "      <td>WEMBLEY</td>\n",
       "      <td>BRENT</td>\n",
       "      <td>0</td>\n",
       "      <td>0</td>\n",
       "      <td>HA0 4QS</td>\n",
       "      <td>HA0 4</td>\n",
       "      <td>SHELL FOR STUDIO FLATS A TO F AND LOFT D, 39, ...</td>\n",
       "      <td>BOWRONS AVENUE</td>\n",
       "    </tr>\n",
       "    <tr>\n",
       "      <th>1569192</th>\n",
       "      <td>000202228482</td>\n",
       "      <td>CR10</td>\n",
       "      <td>000000000000</td>\n",
       "      <td>51.544931</td>\n",
       "      <td>-0.297508</td>\n",
       "      <td>E</td>\n",
       "      <td>0.0</td>\n",
       "      <td>0</td>\n",
       "      <td>0</td>\n",
       "      <td>0</td>\n",
       "      <td>...</td>\n",
       "      <td>0</td>\n",
       "      <td>0</td>\n",
       "      <td>WEMBLEY</td>\n",
       "      <td>BRENT</td>\n",
       "      <td>0</td>\n",
       "      <td>0</td>\n",
       "      <td>HA0 4QS</td>\n",
       "      <td>HA0 4</td>\n",
       "      <td>UNIT 2, 1, BOWRONS AVENUE</td>\n",
       "      <td>BOWRONS AVENUE</td>\n",
       "    </tr>\n",
       "    <tr>\n",
       "      <th>3301459</th>\n",
       "      <td>000202128619</td>\n",
       "      <td>PS</td>\n",
       "      <td>000000000000</td>\n",
       "      <td>51.544703</td>\n",
       "      <td>-0.302270</td>\n",
       "      <td>E</td>\n",
       "      <td>0.0</td>\n",
       "      <td>0</td>\n",
       "      <td>0</td>\n",
       "      <td>0</td>\n",
       "      <td>...</td>\n",
       "      <td>0</td>\n",
       "      <td>0</td>\n",
       "      <td>WEMBLEY</td>\n",
       "      <td>BRENT</td>\n",
       "      <td>0</td>\n",
       "      <td>0</td>\n",
       "      <td>HA0 4QS</td>\n",
       "      <td>HA0 4</td>\n",
       "      <td>STREET RECORD, BOWRONS AVENUE</td>\n",
       "      <td>BOWRONS AVENUE</td>\n",
       "    </tr>\n",
       "    <tr>\n",
       "      <th>3471091</th>\n",
       "      <td>000202221907</td>\n",
       "      <td>PP</td>\n",
       "      <td>000000000000</td>\n",
       "      <td>51.544579</td>\n",
       "      <td>-0.301732</td>\n",
       "      <td>E</td>\n",
       "      <td>0.0</td>\n",
       "      <td>0</td>\n",
       "      <td>0</td>\n",
       "      <td>85</td>\n",
       "      <td>...</td>\n",
       "      <td>0</td>\n",
       "      <td>0</td>\n",
       "      <td>WEMBLEY</td>\n",
       "      <td>BRENT</td>\n",
       "      <td>WEMBLEY</td>\n",
       "      <td>HA0 4QS</td>\n",
       "      <td>HA0 4QS</td>\n",
       "      <td>HA0 4</td>\n",
       "      <td>85, BOWRONS AVENUE</td>\n",
       "      <td>85, BOWRONS AVENUE</td>\n",
       "    </tr>\n",
       "    <tr>\n",
       "      <th>3641012</th>\n",
       "      <td>000202220578</td>\n",
       "      <td>PP</td>\n",
       "      <td>000000000000</td>\n",
       "      <td>51.544845</td>\n",
       "      <td>-0.297742</td>\n",
       "      <td>E</td>\n",
       "      <td>0.0</td>\n",
       "      <td>0</td>\n",
       "      <td>0</td>\n",
       "      <td>3</td>\n",
       "      <td>...</td>\n",
       "      <td>0</td>\n",
       "      <td>0</td>\n",
       "      <td>WEMBLEY</td>\n",
       "      <td>BRENT</td>\n",
       "      <td>WEMBLEY</td>\n",
       "      <td>HA0 4QS</td>\n",
       "      <td>HA0 4QS</td>\n",
       "      <td>HA0 4</td>\n",
       "      <td>3, BOWRONS AVENUE</td>\n",
       "      <td>3, BOWRONS AVENUE</td>\n",
       "    </tr>\n",
       "  </tbody>\n",
       "</table>\n",
       "<p>7 rows × 31 columns</p>\n",
       "</div>"
      ],
      "text/plain": [
       "                 uprn class   parent_uprn   latitude  longitude country  \\\n",
       "1029703  010025177788  CU01  000000000000  51.544389  -0.302875       E   \n",
       "1309948  000202228481    CR  000000000000  51.544930  -0.297450       E   \n",
       "1561284  000202238960    PP  000000000000  51.544557  -0.302108       E   \n",
       "1569192  000202228482  CR10  000000000000  51.544931  -0.297508       E   \n",
       "3301459  000202128619    PS  000000000000  51.544703  -0.302270       E   \n",
       "3471091  000202221907    PP  000000000000  51.544579  -0.301732       E   \n",
       "3641012  000202220578    PP  000000000000  51.544845  -0.297742       E   \n",
       "\n",
       "         legal_name sub_building_name building_name building_number  ...  \\\n",
       "1029703         0.0                 0             0               0  ...   \n",
       "1309948         0.0                 0             0               0  ...   \n",
       "1561284         0.0                 0             0               0  ...   \n",
       "1569192         0.0                 0             0               0  ...   \n",
       "3301459         0.0                 0             0               0  ...   \n",
       "3471091         0.0                 0             0              85  ...   \n",
       "3641012         0.0                 0             0               3  ...   \n",
       "\n",
       "         dependent_locality locality  town_name administrative_area post_town  \\\n",
       "1029703                   0        0    WEMBLEY               BRENT         0   \n",
       "1309948                   0        0    WEMBLEY               BRENT         0   \n",
       "1561284                   0        0    WEMBLEY               BRENT         0   \n",
       "1569192                   0        0    WEMBLEY               BRENT         0   \n",
       "3301459                   0        0    WEMBLEY               BRENT         0   \n",
       "3471091                   0        0    WEMBLEY               BRENT   WEMBLEY   \n",
       "3641012                   0        0    WEMBLEY               BRENT   WEMBLEY   \n",
       "\n",
       "        postcode postcode_locator  postcode_sector  \\\n",
       "1029703        0          HA0 4QS            HA0 4   \n",
       "1309948        0          HA0 4QS            HA0 4   \n",
       "1561284        0          HA0 4QS            HA0 4   \n",
       "1569192        0          HA0 4QS            HA0 4   \n",
       "3301459        0          HA0 4QS            HA0 4   \n",
       "3471091  HA0 4QS          HA0 4QS            HA0 4   \n",
       "3641012  HA0 4QS          HA0 4QS            HA0 4   \n",
       "\n",
       "                                           parsed_address1     parsed_address2  \n",
       "1029703  ELECTRICITY SUB STATION 66M FROM 95 NORTON ROA...      BOWRONS AVENUE  \n",
       "1309948                          UNIT 1, 1, BOWRONS AVENUE      BOWRONS AVENUE  \n",
       "1561284  SHELL FOR STUDIO FLATS A TO F AND LOFT D, 39, ...      BOWRONS AVENUE  \n",
       "1569192                          UNIT 2, 1, BOWRONS AVENUE      BOWRONS AVENUE  \n",
       "3301459                      STREET RECORD, BOWRONS AVENUE      BOWRONS AVENUE  \n",
       "3471091                                 85, BOWRONS AVENUE  85, BOWRONS AVENUE  \n",
       "3641012                                  3, BOWRONS AVENUE   3, BOWRONS AVENUE  \n",
       "\n",
       "[7 rows x 31 columns]"
      ]
     },
     "execution_count": 246,
     "metadata": {},
     "output_type": "execute_result"
    }
   ],
   "source": [
    "other_AB[(other_AB['postcode_locator'] == 'HA0 4QS') & (other_AB['street_description'] == 'BOWRONS AVENUE')]"
   ]
  },
  {
   "cell_type": "code",
   "execution_count": 241,
   "id": "0a3f1f03",
   "metadata": {},
   "outputs": [],
   "source": [
    "resi_AB[(resi_AB['postcode_sector'] == 'HA0 4') & (resi_AB['street_description'] == 'BOWRONS AVENUE')].to_csv('output_HA04.csv', index  = False) # & (resi_AB['building_name'] == 'Apollo House') ] #& (other_AB['street_description'] == 'EAST STREET')]"
   ]
  },
  {
   "cell_type": "code",
   "execution_count": 242,
   "id": "c61c0381",
   "metadata": {},
   "outputs": [],
   "source": [
    "other_AB[(other_AB['postcode_sector']== 'HA0 4') & (other_AB['street_description'] == 'BOWRONS AVENUE')].to_csv('other_HA04.csv', index = False)"
   ]
  },
  {
   "cell_type": "code",
   "execution_count": 171,
   "id": "1fc01837",
   "metadata": {},
   "outputs": [],
   "source": [
    "seven_sisters.to_csv('seven_sisters.csv', index=False) "
   ]
  },
  {
   "cell_type": "markdown",
   "id": "5b0d2c10",
   "metadata": {},
   "source": [
    "-------- DATA MERGING --------  COMMERCIAL PROPERTIES --- Reproduce the process with commercial properties \n"
   ]
  },
  {
   "cell_type": "code",
   "execution_count": 60,
   "id": "6ad5eb21-c0fa-4612-bccd-31f77313e25c",
   "metadata": {
    "tags": []
   },
   "outputs": [],
   "source": [
    "#Merge on Parent UPRN \n",
    "non_resi_merged = merged_on_address3_no_match.merge(other_AB,how = 'left', left_on = 'uprn_x', right_on = 'parent_uprn')\n",
    "\n",
    "non_resi_match, non_resi_no_match =  separate_matches(non_resi_merged, 'parent_uprn', 'parent_uprn')\n",
    "\n",
    "non_resi_no_match = non_resi_no_match.dropna(axis=1, how='all')"
   ]
  },
  {
   "cell_type": "code",
   "execution_count": 61,
   "id": "9d6e60bd-519d-4476-b702-fcff09d5894e",
   "metadata": {
    "tags": []
   },
   "outputs": [],
   "source": [
    "#merge on UPRN\n",
    "non_resi_merged_2 = non_resi_no_match.merge(other_AB, how = 'left', left_on = 'uprn_x', right_on = 'uprn')\n",
    "\n",
    "non_resi_match_2, non_resi_no_match_2 =  separate_matches(non_resi_merged_2, 'parent_uprn', 'uprn')\n",
    "\n",
    "non_resi_no_match_2 = non_resi_no_match_2.dropna(axis=1, how='all')"
   ]
  },
  {
   "cell_type": "code",
   "execution_count": 62,
   "id": "35233bd0-1e5b-476b-a4e1-784aa153f75e",
   "metadata": {
    "tags": []
   },
   "outputs": [],
   "source": [
    "non_resi_match_2 = non_resi_match_2.rename(columns={\"uprn\": \"uprn_OSAB\"})\n",
    "#non_resi_match_2['match_strategy'] = 'uprn'\n",
    "non_resi_match_2.count()\n",
    "\n",
    "non_resi_match = non_resi_match.rename(columns={\"uprn\": \"uprn_OSAB\"})\n",
    "#non_resi_match['match_strategy'] = 'parent_uprn'"
   ]
  },
  {
   "cell_type": "code",
   "execution_count": 63,
   "id": "a766aec8-4f2a-4620-8938-c6a6c8df7c33",
   "metadata": {
    "tags": []
   },
   "outputs": [],
   "source": [
    "#union them together \n",
    "non_resi_all_matched = pd.concat([non_resi_match_2, non_resi_match])"
   ]
  },
  {
   "cell_type": "markdown",
   "id": "1ad6a0bc",
   "metadata": {},
   "source": [
    "---- Commercial address matching --- "
   ]
  },
  {
   "cell_type": "code",
   "execution_count": 496,
   "id": "ff3df69e-74fd-4280-a8c6-f6d498751b87",
   "metadata": {
    "tags": []
   },
   "outputs": [],
   "source": [
    "#now join on addresses strat 1 \n",
    "left_columns = ['site_name_GLA_no_pc', 'postcode_clean']  #['site_number_clean', 'street_name', 'postcode_clean']\n",
    "right_columns = ['parsed_address1', 'postcode_locator'] #['building_number', 'street_description', 'postcode_locator']\n",
    "\n",
    "#non_resi_address_merge_match, non_resi_address_merge_no_match = my_merge(non_resi_no_match_2, other_AB, left_columns, right_columns)"
   ]
  },
  {
   "cell_type": "code",
   "execution_count": 497,
   "id": "ba7f0f38",
   "metadata": {},
   "outputs": [],
   "source": [
    "#use this one if skipping UPRN \n",
    "non_resi_address_merge_match, non_resi_address_merge_no_match = my_merge(merged_on_address20_no_match, other_AB, left_columns, right_columns)\n"
   ]
  },
  {
   "cell_type": "code",
   "execution_count": 498,
   "id": "89237c05-b592-4be1-ab3b-4c10a7045051",
   "metadata": {
    "tags": []
   },
   "outputs": [],
   "source": [
    "non_resi_address_merge_no_match = non_resi_address_merge_no_match.dropna(axis=1, how='all')\n",
    "\n",
    "## Add the merged_on_address_match to the matched\n",
    "non_resi_address_merge_match = non_resi_address_merge_match.rename(columns={\"uprn\": \"uprn_OSAB\"})\n",
    "non_resi_address_merge_match['match_strategy'] = 'address_1'\n",
    "\n",
    "non_resi_all_matched = non_resi_address_merge_match"
   ]
  },
  {
   "cell_type": "code",
   "execution_count": 499,
   "id": "635a0c1f",
   "metadata": {},
   "outputs": [
    {
     "data": {
      "text/plain": [
       "0"
      ]
     },
     "execution_count": 499,
     "metadata": {},
     "output_type": "execute_result"
    }
   ],
   "source": [
    "non_resi_address_merge_match['UCL_ID'].nunique()"
   ]
  },
  {
   "cell_type": "code",
   "execution_count": null,
   "id": "917ee507",
   "metadata": {},
   "outputs": [],
   "source": [
    "#USE THIS FIRST TIME THRU \n",
    "# non_resi_all_matched = pd.concat([non_resi_all_matched, non_resi_address_merge_match])"
   ]
  },
  {
   "cell_type": "code",
   "execution_count": 500,
   "id": "c5a5799b-2902-4c5f-aefd-3556ecf780d6",
   "metadata": {
    "tags": []
   },
   "outputs": [],
   "source": [
    "#join addresses strat 2\n",
    "left_columns_2 =  ['site_name_LPA_no_pc', 'postcode_clean'] \n",
    "right_columns_2 =  ['parsed_address1', 'postcode_locator']\n",
    " \n",
    "non_resi_address_merge_match2, non_resi_address_merge_no_match2 = my_merge(non_resi_address_merge_no_match, other_AB, left_columns_2,right_columns_2 )"
   ]
  },
  {
   "cell_type": "code",
   "execution_count": 501,
   "id": "77bf5575",
   "metadata": {},
   "outputs": [
    {
     "data": {
      "text/plain": [
       "0"
      ]
     },
     "execution_count": 501,
     "metadata": {},
     "output_type": "execute_result"
    }
   ],
   "source": [
    "non_resi_address_merge_match2['UCL_ID'].nunique()"
   ]
  },
  {
   "cell_type": "code",
   "execution_count": 502,
   "id": "40e38bdf-0103-4cac-949a-cc02dbe53e2d",
   "metadata": {
    "tags": []
   },
   "outputs": [],
   "source": [
    "non_resi_address_merge_no_match2 = non_resi_address_merge_no_match2.dropna(axis=1, how='all')\n",
    "\n",
    "## Add the merged_on_address_match to the matched\n",
    "non_resi_address_merge_match2 = non_resi_address_merge_match2.rename(columns={\"uprn\": \"uprn_OSAB\"})\n",
    "non_resi_address_merge_match2['match_strategy'] = 'address_2'\n",
    "\n",
    "non_resi_all_matched = pd.concat([non_resi_all_matched, non_resi_address_merge_match2])"
   ]
  },
  {
   "cell_type": "code",
   "execution_count": 503,
   "id": "3a746488-62e0-40f3-980e-d20722040d22",
   "metadata": {
    "tags": []
   },
   "outputs": [],
   "source": [
    "# STRATEGY 3 ADDRESS MATCH \n",
    "left_columns_3 = ['site_name_GLA_no_pc', 'postcode_clean'] \n",
    "right_columns_3 = ['parsed_address2', 'postcode_locator']\n",
    "\n",
    "\n",
    "non_resi_address_merge_match3, non_resi_address_merge_no_match3 = my_merge(non_resi_address_merge_no_match2, other_AB, left_columns_3, right_columns_3)"
   ]
  },
  {
   "cell_type": "code",
   "execution_count": 504,
   "id": "0ea4fe9a",
   "metadata": {},
   "outputs": [
    {
     "data": {
      "text/plain": [
       "0"
      ]
     },
     "execution_count": 504,
     "metadata": {},
     "output_type": "execute_result"
    }
   ],
   "source": [
    "non_resi_address_merge_match3['UCL_ID'].nunique()"
   ]
  },
  {
   "cell_type": "code",
   "execution_count": 505,
   "id": "09850e80-0072-40cc-9acf-4b827b8e79f7",
   "metadata": {
    "tags": []
   },
   "outputs": [],
   "source": [
    "non_resi_address_merge_no_match3 = non_resi_address_merge_no_match3.dropna(axis=1, how='all')\n",
    "\n",
    "## Add the merged_on_address_match to the matched\n",
    "non_resi_address_merge_match3 = non_resi_address_merge_match3.rename(columns={\"uprn\": \"uprn_OSAB\"})\n",
    "non_resi_address_merge_match3['match_strategy'] = 'address_3'\n",
    "\n",
    "non_resi_all_matched = pd.concat([non_resi_all_matched, non_resi_address_merge_match3])"
   ]
  },
  {
   "cell_type": "markdown",
   "id": "4add52e3",
   "metadata": {},
   "source": [
    "------- ADDRESS ----- Strategy 4 COMM "
   ]
  },
  {
   "cell_type": "code",
   "execution_count": 506,
   "id": "9c5fb084",
   "metadata": {},
   "outputs": [],
   "source": [
    "# STRATEGY 4 ADDRESS MATCH \n",
    "left_columns_4 = ['site_name_LPA_no_pc', 'postcode_clean'] \n",
    "right_columns_4 = ['parsed_address2', 'postcode_locator']\n",
    "\n",
    "\n",
    "non_resi_address_merge_match4, non_resi_address_merge_no_match4 = my_merge(non_resi_address_merge_no_match3, other_AB, left_columns_4, right_columns_4)"
   ]
  },
  {
   "cell_type": "code",
   "execution_count": 507,
   "id": "d7899b47",
   "metadata": {},
   "outputs": [
    {
     "data": {
      "text/plain": [
       "0"
      ]
     },
     "execution_count": 507,
     "metadata": {},
     "output_type": "execute_result"
    }
   ],
   "source": [
    "non_resi_address_merge_match4['UCL_ID'].nunique()"
   ]
  },
  {
   "cell_type": "code",
   "execution_count": 508,
   "id": "4abf57c1",
   "metadata": {},
   "outputs": [],
   "source": [
    "non_resi_address_merge_no_match4 = non_resi_address_merge_no_match4.dropna(axis=1, how='all')\n",
    "\n",
    "## Add the merged_on_address_match to the matched\n",
    "non_resi_address_merge_match4 = non_resi_address_merge_match4.rename(columns={\"uprn\": \"uprn_OSAB\"})\n",
    "non_resi_address_merge_match4['match_strategy'] = 'address_4'\n",
    "\n",
    "non_resi_all_matched = pd.concat([non_resi_all_matched, non_resi_address_merge_match4])"
   ]
  },
  {
   "cell_type": "code",
   "execution_count": 509,
   "id": "96f2f25d",
   "metadata": {},
   "outputs": [],
   "source": [
    "#strategy 5 ADDRESS MATCH \n",
    "left_columns_5 = ['concat_addr', 'postcode_clean'] \n",
    "right_columns_5 = ['parsed_address1', 'postcode_locator']\n",
    "\n",
    "\n",
    "non_resi_address_merge_match5, non_resi_address_merge_no_match5 = my_merge(non_resi_address_merge_no_match4, other_AB, left_columns_5, right_columns_5)\n"
   ]
  },
  {
   "cell_type": "code",
   "execution_count": 510,
   "id": "e422f17e",
   "metadata": {},
   "outputs": [],
   "source": [
    "non_resi_address_merge_no_match5 = non_resi_address_merge_no_match5.dropna(axis=1, how='all')\n",
    "\n",
    "## Add the merged_on_address_match to the matched\n",
    "non_resi_address_merge_match5 = non_resi_address_merge_match5.rename(columns={\"uprn\": \"uprn_OSAB\"})\n",
    "non_resi_address_merge_match5['match_strategy'] = 'address_5'\n",
    "\n",
    "non_resi_all_matched = pd.concat([non_resi_all_matched, non_resi_address_merge_match5])"
   ]
  },
  {
   "cell_type": "markdown",
   "id": "f43b4d65",
   "metadata": {},
   "source": [
    "Strategy 6 other"
   ]
  },
  {
   "cell_type": "code",
   "execution_count": 511,
   "id": "a1f4f6b6",
   "metadata": {},
   "outputs": [],
   "source": [
    "## Strategy 6\n",
    "left_columns_6 = ['concat_addr', 'postcode_clean']  \n",
    "right_columns_6 = ['parsed_address2', 'postcode_locator'] \n",
    "\n",
    "non_resi_address_merge_match6, non_resi_address_merge_no_match6 = my_merge(non_resi_address_merge_no_match5, other_AB, left_columns_6, right_columns_6)"
   ]
  },
  {
   "cell_type": "code",
   "execution_count": 512,
   "id": "97d7abb6",
   "metadata": {},
   "outputs": [
    {
     "data": {
      "text/plain": [
       "5"
      ]
     },
     "execution_count": 512,
     "metadata": {},
     "output_type": "execute_result"
    }
   ],
   "source": [
    "non_resi_address_merge_match6['UCL_ID'].nunique()"
   ]
  },
  {
   "cell_type": "code",
   "execution_count": 513,
   "id": "aafb8a84",
   "metadata": {},
   "outputs": [],
   "source": [
    "non_resi_address_merge_no_match6 = non_resi_address_merge_no_match6.dropna(axis=1, how='all')\n",
    "\n",
    "## Add the merged_on_address_match to the matched\n",
    "non_resi_address_merge_match6 = non_resi_address_merge_match6.rename(columns={\"uprn\": \"uprn_OSAB\"})\n",
    "non_resi_address_merge_match6['match_strategy'] = 'address_6'\n",
    "\n",
    "non_resi_all_matched = pd.concat([non_resi_all_matched, non_resi_address_merge_match6])"
   ]
  },
  {
   "cell_type": "markdown",
   "id": "dbecb32b",
   "metadata": {},
   "source": [
    "Strategy 7 Other"
   ]
  },
  {
   "cell_type": "code",
   "execution_count": 514,
   "id": "711594cb",
   "metadata": {},
   "outputs": [],
   "source": [
    "#strategy 7 ADDRESS MATCH \n",
    "left_columns_7 = ['site_number_clean', 'street_name', 'postcode_clean']\n",
    "right_columns_7 = ['pao_start_num_suffix', 'street_description', 'postcode_locator'] \n",
    "\n",
    "non_resi_address_merge_match7, non_resi_address_merge_no_match7 = my_merge(non_resi_address_merge_no_match6, other_AB, left_columns_7, right_columns_7)\n"
   ]
  },
  {
   "cell_type": "code",
   "execution_count": 515,
   "id": "c8763ec3",
   "metadata": {},
   "outputs": [
    {
     "data": {
      "text/plain": [
       "7"
      ]
     },
     "execution_count": 515,
     "metadata": {},
     "output_type": "execute_result"
    }
   ],
   "source": [
    "non_resi_address_merge_match7['UCL_ID'].nunique()"
   ]
  },
  {
   "cell_type": "code",
   "execution_count": 516,
   "id": "3a5d8b87",
   "metadata": {},
   "outputs": [],
   "source": [
    "non_resi_address_merge_no_match7 = non_resi_address_merge_no_match7.dropna(axis=1, how='all')\n",
    "\n",
    "## Add the merged_on_address_match to the matched\n",
    "non_resi_address_merge_match7 = non_resi_address_merge_match7.rename(columns={\"uprn\": \"uprn_OSAB\"})\n",
    "non_resi_address_merge_match7['match_strategy'] = 'address_7'\n",
    "\n",
    "non_resi_all_matched = pd.concat([non_resi_all_matched, non_resi_address_merge_match7])"
   ]
  },
  {
   "cell_type": "code",
   "execution_count": 517,
   "id": "23cd9335",
   "metadata": {},
   "outputs": [],
   "source": [
    "#strategy 8 ADDRESS MATCH \n",
    "left_columns_8 = ['site_number_clean', 'street_name', 'postcode_sector_x']\n",
    "right_columns_8 = ['pao_start_num_suffix','street_description', 'postcode_sector']\n",
    "\n",
    "non_resi_address_merge_match8, non_resi_address_merge_no_match8 = my_merge(non_resi_address_merge_no_match7, other_AB, left_columns_8, right_columns_8)"
   ]
  },
  {
   "cell_type": "code",
   "execution_count": 518,
   "id": "c9c36e2c",
   "metadata": {},
   "outputs": [
    {
     "data": {
      "text/plain": [
       "6"
      ]
     },
     "execution_count": 518,
     "metadata": {},
     "output_type": "execute_result"
    }
   ],
   "source": [
    "non_resi_address_merge_match8['UCL_ID'].nunique() #was 88"
   ]
  },
  {
   "cell_type": "code",
   "execution_count": 393,
   "id": "58c29905",
   "metadata": {},
   "outputs": [],
   "source": [
    "#other_AB[other_AB['postcode_locator'] == 'HA0 4QS']"
   ]
  },
  {
   "cell_type": "code",
   "execution_count": 519,
   "id": "fd6fa6cf",
   "metadata": {},
   "outputs": [],
   "source": [
    "non_resi_address_merge_no_match8 = non_resi_address_merge_no_match8.dropna(axis=1, how='all')\n",
    "\n",
    "## Add the merged_on_address_match to the matched\n",
    "non_resi_address_merge_match8 = non_resi_address_merge_match8.rename(columns={\"uprn\": \"uprn_OSAB\"})\n",
    "non_resi_address_merge_match8['match_strategy'] = 'address_8'\n",
    "\n",
    "non_resi_all_matched = pd.concat([non_resi_all_matched, non_resi_address_merge_match8])"
   ]
  },
  {
   "cell_type": "code",
   "execution_count": 520,
   "id": "c80cabab",
   "metadata": {},
   "outputs": [],
   "source": [
    "#strategy 9 ADDRESS MATCH \n",
    "left_columns_9 = ['site_number_clean', 'street_name', 'postcode_clean']\n",
    "right_columns_9 = ['pao_start_number', 'street_description', 'postcode_locator']\n",
    "\n",
    "non_resi_address_merge_match9, non_resi_address_merge_no_match9 = my_merge(non_resi_address_merge_no_match8, other_AB, left_columns_9, right_columns_9)"
   ]
  },
  {
   "cell_type": "code",
   "execution_count": 521,
   "id": "1202ccf5",
   "metadata": {},
   "outputs": [
    {
     "data": {
      "text/plain": [
       "0"
      ]
     },
     "execution_count": 521,
     "metadata": {},
     "output_type": "execute_result"
    }
   ],
   "source": [
    "non_resi_address_merge_match9['UCL_ID'].nunique() #was 88"
   ]
  },
  {
   "cell_type": "code",
   "execution_count": 522,
   "id": "04e298c0",
   "metadata": {},
   "outputs": [],
   "source": [
    "non_resi_address_merge_no_match9 = non_resi_address_merge_no_match9.dropna(axis=1, how='all')\n",
    "\n",
    "## Add the merged_on_address_match to the matched\n",
    "non_resi_address_merge_match9 = non_resi_address_merge_match9.rename(columns={\"uprn\": \"uprn_OSAB\"})\n",
    "non_resi_address_merge_match9['match_strategy'] = 'address_9'\n",
    "\n",
    "non_resi_all_matched = pd.concat([non_resi_all_matched, non_resi_address_merge_match9])"
   ]
  },
  {
   "cell_type": "code",
   "execution_count": 523,
   "id": "d9dbd02e",
   "metadata": {},
   "outputs": [],
   "source": [
    "#STRATEGY 10\n",
    "left_columns_10 = ['site_number_clean', 'street_name', 'postcode_sector_x']\n",
    "right_columns_10 = ['pao_start_number', 'street_description', 'postcode_sector']\n",
    "\n",
    "non_resi_address_merge_match10, non_resi_address_merge_no_match10 = my_merge(non_resi_address_merge_no_match9, other_AB, left_columns_10, right_columns_10)"
   ]
  },
  {
   "cell_type": "code",
   "execution_count": 524,
   "id": "77126c6e",
   "metadata": {},
   "outputs": [
    {
     "data": {
      "text/plain": [
       "0"
      ]
     },
     "execution_count": 524,
     "metadata": {},
     "output_type": "execute_result"
    }
   ],
   "source": [
    "non_resi_address_merge_match10['UCL_ID'].nunique() #was 88"
   ]
  },
  {
   "cell_type": "code",
   "execution_count": 525,
   "id": "93c9717f",
   "metadata": {},
   "outputs": [],
   "source": [
    "#STRATEGY 11\n",
    "left_columns_11 = ['site_name_GLA_no_pc',  'postcode_sector_x']\n",
    "right_columns_11 = ['parsed_address1',  'postcode_sector']\n",
    "\n",
    "non_resi_address_merge_match11, non_resi_address_merge_no_match11 = my_merge(non_resi_address_merge_no_match9, other_AB, left_columns_11, right_columns_11)"
   ]
  },
  {
   "cell_type": "code",
   "execution_count": 526,
   "id": "9ab934ad",
   "metadata": {},
   "outputs": [
    {
     "data": {
      "text/plain": [
       "0"
      ]
     },
     "execution_count": 526,
     "metadata": {},
     "output_type": "execute_result"
    }
   ],
   "source": [
    "non_resi_address_merge_match11['UCL_ID'].nunique() #was 88"
   ]
  },
  {
   "cell_type": "code",
   "execution_count": 527,
   "id": "b7e04e1a",
   "metadata": {},
   "outputs": [],
   "source": [
    "non_resi_address_merge_no_match11 = non_resi_address_merge_no_match11.dropna(axis=1, how='all')\n",
    "\n",
    "## Add the merged_on_address_match to the matched\n",
    "non_resi_address_merge_match11 = non_resi_address_merge_match11.rename(columns={\"uprn\": \"uprn_OSAB\"})\n",
    "non_resi_address_merge_match11['match_strategy'] = 'address_11'\n",
    "\n",
    "non_resi_all_matched = pd.concat([non_resi_all_matched, non_resi_address_merge_match11])"
   ]
  },
  {
   "cell_type": "code",
   "execution_count": 528,
   "id": "e1974dbe",
   "metadata": {},
   "outputs": [],
   "source": [
    "#STRATEGY 12\n",
    "left_columns_12 = ['site_name_LPA_no_pc',  'postcode_sector_x']\n",
    "right_columns_12 = ['parsed_address1',  'postcode_sector']\n",
    "\n",
    "non_resi_address_merge_match12, non_resi_address_merge_no_match12 = my_merge(non_resi_address_merge_no_match11, other_AB, left_columns_12, right_columns_12)"
   ]
  },
  {
   "cell_type": "code",
   "execution_count": 529,
   "id": "0330c7e6",
   "metadata": {},
   "outputs": [
    {
     "data": {
      "text/plain": [
       "0"
      ]
     },
     "execution_count": 529,
     "metadata": {},
     "output_type": "execute_result"
    }
   ],
   "source": [
    "non_resi_address_merge_match12['UCL_ID'].nunique() #was 88"
   ]
  },
  {
   "cell_type": "code",
   "execution_count": 530,
   "id": "b8193ba3",
   "metadata": {},
   "outputs": [],
   "source": [
    "non_resi_address_merge_no_match12 = non_resi_address_merge_no_match12.dropna(axis=1, how='all')\n",
    "\n",
    "## Add the merged_on_address_match to the matched\n",
    "non_resi_address_merge_match12 = non_resi_address_merge_match12.rename(columns={\"uprn\": \"uprn_OSAB\"})\n",
    "non_resi_address_merge_match12['match_strategy'] = 'address_12'\n",
    "\n",
    "non_resi_all_matched = pd.concat([non_resi_all_matched, non_resi_address_merge_match12])"
   ]
  },
  {
   "cell_type": "code",
   "execution_count": 531,
   "id": "bee4165b",
   "metadata": {},
   "outputs": [],
   "source": [
    "#STRATEGY 13\n",
    "left_columns_13 = ['site_name_GLA_no_pc',  'postcode_sector_x']\n",
    "right_columns_13 = ['parsed_address2',  'postcode_sector']\n",
    "\n",
    "non_resi_address_merge_match13, non_resi_address_merge_no_match13 = my_merge(non_resi_address_merge_no_match12, other_AB, left_columns_13, right_columns_13)"
   ]
  },
  {
   "cell_type": "code",
   "execution_count": 532,
   "id": "f06df8d2",
   "metadata": {},
   "outputs": [
    {
     "data": {
      "text/plain": [
       "0"
      ]
     },
     "execution_count": 532,
     "metadata": {},
     "output_type": "execute_result"
    }
   ],
   "source": [
    "non_resi_address_merge_match13['UCL_ID'].nunique() #was 88"
   ]
  },
  {
   "cell_type": "code",
   "execution_count": 533,
   "id": "e349c41c",
   "metadata": {},
   "outputs": [],
   "source": [
    "non_resi_address_merge_no_match13 = non_resi_address_merge_no_match13.dropna(axis=1, how='all')\n",
    "\n",
    "## Add the merged_on_address_match to the matched\n",
    "non_resi_address_merge_match13 = non_resi_address_merge_match13.rename(columns={\"uprn\": \"uprn_OSAB\"})\n",
    "non_resi_address_merge_match13['match_strategy'] = 'address_13'\n",
    "\n",
    "non_resi_all_matched = pd.concat([non_resi_all_matched, non_resi_address_merge_match13])"
   ]
  },
  {
   "cell_type": "code",
   "execution_count": 534,
   "id": "751f1428",
   "metadata": {},
   "outputs": [],
   "source": [
    "#STRATEGY 14\n",
    "left_columns_14 = ['site_name_LPA_no_pc',  'postcode_sector_x'] \n",
    "right_columns_14 = ['parsed_address2',  'postcode_sector']\n",
    "\n",
    "non_resi_address_merge_match14, non_resi_address_merge_no_match14 = my_merge(non_resi_address_merge_no_match13, other_AB, left_columns_14, right_columns_14)\n"
   ]
  },
  {
   "cell_type": "code",
   "execution_count": 535,
   "id": "e4511f45",
   "metadata": {},
   "outputs": [
    {
     "data": {
      "text/plain": [
       "0"
      ]
     },
     "execution_count": 535,
     "metadata": {},
     "output_type": "execute_result"
    }
   ],
   "source": [
    "non_resi_address_merge_match14['UCL_ID'].nunique() #was 88"
   ]
  },
  {
   "cell_type": "code",
   "execution_count": 536,
   "id": "b656c12f",
   "metadata": {},
   "outputs": [],
   "source": [
    "non_resi_address_merge_no_match14 = non_resi_address_merge_no_match14.dropna(axis=1, how='all')\n",
    "\n",
    "## Add the merged_on_address_match to the matched\n",
    "non_resi_address_merge_match14 = non_resi_address_merge_match14.rename(columns={\"uprn\": \"uprn_OSAB\"})\n",
    "non_resi_address_merge_match14['match_strategy'] = 'address_14'\n",
    "\n",
    "non_resi_all_matched = pd.concat([non_resi_all_matched, non_resi_address_merge_match14])"
   ]
  },
  {
   "cell_type": "code",
   "execution_count": 537,
   "id": "ed005551",
   "metadata": {},
   "outputs": [],
   "source": [
    "#STRATEGY 15\n",
    "left_columns_15 = ['site_number_clean', 'street_name',  'postcode_sector_x']\n",
    "right_columns_15 = ['pao_start_number', 'street_description',   'postcode_sector']\n",
    "\n",
    "non_resi_address_merge_match15, non_resi_address_merge_no_match15 = my_merge(non_resi_address_merge_no_match14, other_AB, left_columns_15, right_columns_15)\n"
   ]
  },
  {
   "cell_type": "code",
   "execution_count": 538,
   "id": "6e24b364",
   "metadata": {},
   "outputs": [
    {
     "data": {
      "text/plain": [
       "0"
      ]
     },
     "execution_count": 538,
     "metadata": {},
     "output_type": "execute_result"
    }
   ],
   "source": [
    "non_resi_address_merge_match15['UCL_ID'].nunique() #was 88"
   ]
  },
  {
   "cell_type": "code",
   "execution_count": 539,
   "id": "a0c7656f",
   "metadata": {},
   "outputs": [],
   "source": [
    "non_resi_address_merge_no_match15 = non_resi_address_merge_no_match15.dropna(axis=1, how='all')\n",
    "\n",
    "## Add the merged_on_address_match to the matched\n",
    "non_resi_address_merge_match15 = non_resi_address_merge_match15.rename(columns={\"uprn\": \"uprn_OSAB\"})\n",
    "non_resi_address_merge_match15['match_strategy'] = 'address_15'\n",
    "\n",
    "non_resi_all_matched = pd.concat([non_resi_all_matched, non_resi_address_merge_match15])"
   ]
  },
  {
   "cell_type": "code",
   "execution_count": 540,
   "id": "c9efd2cb",
   "metadata": {},
   "outputs": [
    {
     "data": {
      "text/plain": [
       "3"
      ]
     },
     "execution_count": 540,
     "metadata": {},
     "output_type": "execute_result"
    }
   ],
   "source": [
    "#Strategy 16\n",
    "left_columns_16 = ['concat_addr', 'lpa_name'] \n",
    "right_columns_16 = ['parsed_address1', 'administrative_area']\n",
    "\n",
    "non_resi_address_merge_match16, non_resi_address_merge_no_match16 = my_merge(non_resi_address_merge_no_match15, other_AB, left_columns_16, right_columns_16)\n",
    "non_resi_address_merge_match16['UCL_ID'].nunique()"
   ]
  },
  {
   "cell_type": "code",
   "execution_count": 541,
   "id": "1cde4a5e",
   "metadata": {},
   "outputs": [],
   "source": [
    "non_resi_address_merge_no_match16 = non_resi_address_merge_no_match16.dropna(axis=1, how='all')\n",
    "non_resi_address_merge_match16 = non_resi_address_merge_match16.rename(columns={\"uprn\": \"uprn_OSAB\"})\n",
    "non_resi_address_merge_match16['match_strategy'] = 'address_16'\n",
    "\n",
    "non_resi_all_matched = pd.concat([non_resi_all_matched, non_resi_address_merge_match16])"
   ]
  },
  {
   "cell_type": "code",
   "execution_count": 542,
   "id": "171cbc69",
   "metadata": {},
   "outputs": [],
   "source": [
    "#strategy 17 \n",
    "left_columns_17 = ['concat_addr', 'lpa_name'] \n",
    "right_columns_17 = ['parsed_address2', 'administrative_area']\n",
    "\n",
    "non_resi_address_merge_match17, non_resi_address_merge_no_match17 = my_merge(non_resi_address_merge_no_match16, other_AB, left_columns_17, right_columns_17)\n"
   ]
  },
  {
   "cell_type": "code",
   "execution_count": 543,
   "id": "e4ec79c5",
   "metadata": {},
   "outputs": [
    {
     "data": {
      "text/plain": [
       "3"
      ]
     },
     "execution_count": 543,
     "metadata": {},
     "output_type": "execute_result"
    }
   ],
   "source": [
    "non_resi_address_merge_match17['UCL_ID'].nunique()"
   ]
  },
  {
   "cell_type": "code",
   "execution_count": 544,
   "id": "ad2eb3d3",
   "metadata": {},
   "outputs": [],
   "source": [
    "non_resi_address_merge_no_match17 = non_resi_address_merge_no_match17.dropna(axis=1, how='all')\n",
    "non_resi_address_merge_match17 = non_resi_address_merge_match17.rename(columns={\"uprn\": \"uprn_OSAB\"})\n",
    "non_resi_address_merge_match17['match_strategy'] = 'address_17'\n",
    "\n",
    "non_resi_all_matched = pd.concat([non_resi_all_matched, non_resi_address_merge_match17])"
   ]
  },
  {
   "cell_type": "code",
   "execution_count": 545,
   "id": "634a6242",
   "metadata": {},
   "outputs": [
    {
     "data": {
      "text/plain": [
       "3"
      ]
     },
     "execution_count": 545,
     "metadata": {},
     "output_type": "execute_result"
    }
   ],
   "source": [
    "#strategy 18\n",
    "left_columns_18 = ['site_name_clean', 'street_name','postcode_clean']\n",
    "right_columns_18 = ['pao_text', 'street_description','postcode_locator']\n",
    "\n",
    "non_resi_address_merge_match18, non_resi_address_merge_no_match18 = my_merge(non_resi_address_merge_no_match17, other_AB, left_columns_18, right_columns_18)\n",
    "non_resi_address_merge_match18['UCL_ID'].nunique()"
   ]
  },
  {
   "cell_type": "code",
   "execution_count": 546,
   "id": "095f9594",
   "metadata": {},
   "outputs": [],
   "source": [
    "non_resi_address_merge_no_match18 = non_resi_address_merge_no_match18.dropna(axis=1, how='all')\n",
    "non_resi_address_merge_match18 = non_resi_address_merge_match18.rename(columns={\"uprn\": \"uprn_OSAB\"})\n",
    "non_resi_address_merge_match18['match_strategy'] = 'address_18'\n",
    "\n",
    "non_resi_all_matched = pd.concat([non_resi_all_matched, non_resi_address_merge_match18])"
   ]
  },
  {
   "cell_type": "code",
   "execution_count": 547,
   "id": "e5abc671",
   "metadata": {},
   "outputs": [
    {
     "data": {
      "text/plain": [
       "0"
      ]
     },
     "execution_count": 547,
     "metadata": {},
     "output_type": "execute_result"
    }
   ],
   "source": [
    "#strategy 19\n",
    "left_columns_19 = ['site_number_clean', 'site_name_clean','postcode_clean']\n",
    "right_columns_19 = ['pao_start_number', 'building_name','postcode_locator']\n",
    "\n",
    "non_resi_address_merge_match19, non_resi_address_merge_no_match19 = my_merge(non_resi_address_merge_no_match18, other_AB, left_columns_19, right_columns_19)\n",
    "non_resi_address_merge_match19['UCL_ID'].nunique()"
   ]
  },
  {
   "cell_type": "code",
   "execution_count": 548,
   "id": "c8b23339",
   "metadata": {},
   "outputs": [],
   "source": [
    "non_resi_address_merge_no_match19 = non_resi_address_merge_no_match19.dropna(axis=1, how='all')\n",
    "non_resi_address_merge_match19 = non_resi_address_merge_match19.rename(columns={\"uprn\": \"uprn_OSAB\"})\n",
    "non_resi_address_merge_match19['match_strategy'] = 'address_19'\n",
    "\n",
    "non_resi_all_matched = pd.concat([non_resi_all_matched, non_resi_address_merge_match19])"
   ]
  },
  {
   "cell_type": "code",
   "execution_count": 549,
   "id": "711757c3",
   "metadata": {},
   "outputs": [],
   "source": [
    "non_resi_address_merge_no_match17.to_csv('no_match_june4.csv', index = False)"
   ]
  },
  {
   "cell_type": "markdown",
   "id": "39876ad6",
   "metadata": {},
   "source": [
    "----- specific address analysis  ---- "
   ]
  },
  {
   "cell_type": "code",
   "execution_count": 71,
   "id": "83452072-fa8b-4bd9-8df8-712049bb007b",
   "metadata": {
    "tags": []
   },
   "outputs": [],
   "source": [
    "## ------------------------------- Post Match  -------------------------------"
   ]
  },
  {
   "cell_type": "code",
   "execution_count": 550,
   "id": "8eee3873-8729-4cfa-9ab6-17e877174e88",
   "metadata": {
    "tags": []
   },
   "outputs": [
    {
     "name": "stdout",
     "output_type": "stream",
     "text": [
      "Resi Match rate:  35.78431372549019\n"
     ]
    }
   ],
   "source": [
    "#print match rate\n",
    "resi_match_rate = 100 * all_matched['UCL_ID'].nunique() / london_data['UCL_ID'].nunique()\n",
    "\n",
    "print('Resi Match rate: ', resi_match_rate) "
   ]
  },
  {
   "cell_type": "code",
   "execution_count": 551,
   "id": "4912f701",
   "metadata": {},
   "outputs": [
    {
     "data": {
      "text/plain": [
       "73"
      ]
     },
     "execution_count": 551,
     "metadata": {},
     "output_type": "execute_result"
    }
   ],
   "source": [
    "all_matched['UCL_ID'].nunique()"
   ]
  },
  {
   "cell_type": "code",
   "execution_count": 552,
   "id": "cad5c34c-b713-4ff6-99ac-6fa528313e1f",
   "metadata": {
    "tags": []
   },
   "outputs": [
    {
     "name": "stdout",
     "output_type": "stream",
     "text": [
      "Other Match rate:  22.058823529411764\n"
     ]
    }
   ],
   "source": [
    "other_match_rate = 100 * non_resi_all_matched['UCL_ID'].nunique() / london_data['UCL_ID'].nunique()\n",
    "\n",
    "print('Other Match rate: ', other_match_rate) "
   ]
  },
  {
   "cell_type": "code",
   "execution_count": 553,
   "id": "381f9758",
   "metadata": {},
   "outputs": [
    {
     "data": {
      "text/plain": [
       "45"
      ]
     },
     "execution_count": 553,
     "metadata": {},
     "output_type": "execute_result"
    }
   ],
   "source": [
    "non_resi_all_matched['UCL_ID'].nunique() "
   ]
  },
  {
   "cell_type": "code",
   "execution_count": 555,
   "id": "a83bd164",
   "metadata": {},
   "outputs": [
    {
     "data": {
      "text/plain": [
       "136"
      ]
     },
     "execution_count": 555,
     "metadata": {},
     "output_type": "execute_result"
    }
   ],
   "source": [
    "non_resi_address_merge_no_match19['UCL_ID'].nunique()"
   ]
  },
  {
   "cell_type": "code",
   "execution_count": 556,
   "id": "8575f697-728d-480f-9520-5fb95ee038fa",
   "metadata": {
    "tags": []
   },
   "outputs": [],
   "source": [
    "#before export, make all these columns blank instead of 0 \n",
    "#'legal_name', 'sub_building_name', 'building_name','building_number','street_description', 'dependent_locality\tlocality\n",
    "all_matched['street_name'] = all_matched['street_name'].replace(0,'')\n",
    "all_matched['legal_name'] = all_matched['legal_name'].replace(0,'')\n",
    "all_matched['sub_building_name'] = all_matched['sub_building_name'].replace(0,'')\n",
    "all_matched['building_name'] = all_matched['building_name'].replace(0,'')\n",
    "all_matched['building_number'] = all_matched['building_number'].replace(0,'')\n",
    "all_matched['street_description'] = all_matched['street_description'].replace(0,'')\n",
    "all_matched['dependent_locality'] = all_matched['dependent_locality'].replace(0,'')\n",
    "all_matched['locality'] = all_matched['locality'].replace(0,'')\n",
    "all_matched['post_town'] = all_matched['post_town'].replace(0,'')\n",
    "all_matched['postcode'] = np.where(all_matched['postcode'] == 0, all_matched['postcode_clean'], all_matched['postcode'])\n"
   ]
  },
  {
   "cell_type": "code",
   "execution_count": 557,
   "id": "1f807ae3-2cb7-4d0c-a3b1-36f9fe6dd0e3",
   "metadata": {
    "tags": []
   },
   "outputs": [],
   "source": [
    "#write out to csv \n",
    "\n",
    "all_matched.to_csv('London1c_address_matched_0406.csv', index=False) \n",
    "\n",
    "non_resi_all_matched.to_csv('London1c_non_resi_match_0406.csv', index=False)  "
   ]
  },
  {
   "cell_type": "code",
   "execution_count": 558,
   "id": "7c218041-111b-41bc-b6de-b82dbf94a23e",
   "metadata": {
    "tags": []
   },
   "outputs": [],
   "source": [
    "non_resi_address_merge_no_match6.to_csv('London1c_no_match_0406.csv', index = False)"
   ]
  },
  {
   "cell_type": "code",
   "execution_count": null,
   "id": "9c23280e-034a-4b48-8135-b77f728a37e2",
   "metadata": {},
   "outputs": [],
   "source": []
  },
  {
   "cell_type": "code",
   "execution_count": 129,
   "id": "4ea26270",
   "metadata": {},
   "outputs": [],
   "source": [
    "#### some analysis on past records\n",
    "#London2_no_match_2603.csv\n",
    "#London2_non_resi_match_2603.csv\n",
    "#London2_address_matched_2603.csv\n",
    "\n",
    "batch2_no_match = pd.read_csv('data/London2_no_match_2603.csv')"
   ]
  },
  {
   "cell_type": "code",
   "execution_count": 130,
   "id": "92736107",
   "metadata": {},
   "outputs": [],
   "source": [
    "batch2_non_resi = pd.read_csv('data/London2_non_resi_match_2603.csv')\n",
    "batch2_resi = pd.read_csv('data/London2_address_matched_2603.csv')"
   ]
  },
  {
   "cell_type": "code",
   "execution_count": 133,
   "id": "3abcec37",
   "metadata": {},
   "outputs": [
    {
     "data": {
      "text/plain": [
       "ID                              729\n",
       "planning_application_number     990\n",
       "lpa_name                         37\n",
       "application_type                  1\n",
       "application_type_full            17\n",
       "description                     943\n",
       "number_of_units                  59\n",
       "site_number_clean               330\n",
       "street_name                     537\n",
       "postcode_clean                  695\n",
       "site_name_clean                 156\n",
       "site_name_GLA                   747\n",
       "site_name_LPA                   839\n",
       "uprn_x                          228\n",
       "decision                         57\n",
       "status                           10\n",
       "application_date                585\n",
       "decision_date                   667\n",
       "parsed_street_LPA               345\n",
       "parsed_street_GLA                17\n",
       "uprn_OSAB                      5560\n",
       "class                            10\n",
       "parent_uprn                     477\n",
       "latitude                        980\n",
       "longitude                       979\n",
       "country                           1\n",
       "legal_name                        0\n",
       "sub_building_name               648\n",
       "building_name                   317\n",
       "building_number                 229\n",
       "street_description              540\n",
       "dependent_locality               11\n",
       "locality                         56\n",
       "town_name                        85\n",
       "administrative_area              32\n",
       "post_town                        50\n",
       "postcode                        708\n",
       "number_street                   774\n",
       "match_strategy                    5\n",
       "dtype: int64"
      ]
     },
     "execution_count": 133,
     "metadata": {},
     "output_type": "execute_result"
    }
   ],
   "source": [
    "batch2_resi.nunique() #1752 no match , 676 non resi , 729 resi"
   ]
  },
  {
   "cell_type": "code",
   "execution_count": null,
   "id": "7f129f81",
   "metadata": {},
   "outputs": [],
   "source": []
  }
 ],
 "metadata": {
  "kernelspec": {
   "display_name": "sds2023",
   "language": "python",
   "name": "sds2023"
  },
  "language_info": {
   "codemirror_mode": {
    "name": "ipython",
    "version": 3
   },
   "file_extension": ".py",
   "mimetype": "text/x-python",
   "name": "python",
   "nbconvert_exporter": "python",
   "pygments_lexer": "ipython3",
   "version": "3.11.7"
  },
  "toc-autonumbering": true
 },
 "nbformat": 4,
 "nbformat_minor": 5
}
