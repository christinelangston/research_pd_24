{
 "cells": [
  {
   "cell_type": "code",
   "execution_count": 2,
   "id": "58454128-a26f-4b6d-87fc-f95e7868ea2f",
   "metadata": {
    "tags": []
   },
   "outputs": [],
   "source": [
    "# March 27 2024\n",
    "# explore the addresses from address base further \n",
    "# here I'm trying to use additional columns (SAO and PAO) to create a full address string\n",
    "    # Bin had said that there might be multiple combinations and also we are not getting the full address\n",
    "    # if we ignore these parts \n",
    "# work in progress: I am processing the data by adding an additional column to the end\n",
    "\n",
    "#TODO: need to delete the <NA>s -- I added code for this in cell below."
   ]
  },
  {
   "cell_type": "code",
   "execution_count": 3,
   "id": "494253d9-beec-4058-a28e-494b44ac9a0f",
   "metadata": {
    "tags": []
   },
   "outputs": [],
   "source": [
    "import pandas as pd\n",
    "import time\n",
    "import numpy as np\n",
    "import copy\n",
    "import re"
   ]
  },
  {
   "cell_type": "code",
   "execution_count": 4,
   "id": "1b7f3e13-4920-4541-9db4-a0052a670863",
   "metadata": {
    "tags": []
   },
   "outputs": [],
   "source": [
    "#create a function to iterate through csv. use for OSAddressBase file\n",
    "def read_csv(file_name, columns):\n",
    "    for chunk in pd.read_csv(file_name, chunksize=10000, usecols=columns, \n",
    "                            dtype={'urpn':int, 'parent_urpn': int, 'class': str, 'latitude': float, \n",
    "                                    'longitude': float, 'country': str, 'legal_name': str, \n",
    "                                      'sub_building_name': str, 'building_name': str, 'building_number':'float64', \n",
    "                                  'sao_start_number': 'float64', 'sao_start_suffix': str,'sao_end_number': 'float64', \n",
    "                                  'sao_end_suffix': str, 'sao_text': str, 'pao_start_number': 'float64', 'pao_start_suffix':str, \n",
    "                                  'pao_end_number':'float64', 'pao_end_suffix': str , 'pao_text': str, 'street_description': str} \n",
    "                               , \n",
    "                             low_memory=False):\n",
    "    \n",
    "        #if chunk['country'] == 'E':\n",
    "        yield chunk\n"
   ]
  },
  {
   "cell_type": "code",
   "execution_count": 7,
   "id": "ad1c9f28-f89c-433f-bfb6-4995ff45e66a",
   "metadata": {
    "tags": []
   },
   "outputs": [],
   "source": [
    "\"\"\"\n",
    "fewer_columns  = ['uprn', 'parent_uprn', 'class', 'latitude', 'longitude', 'country' ]\n",
    "all_columns = ['uprn', 'parent_uprn', 'class', 'latitude', 'longitude', 'country', 'legal_name','sub_building_name',\n",
    "           'building_name','building_number','sao_start_number','sao_start_suffix','sao_end_number',\n",
    "           'sao_end_suffix','sao_text','alt_language_sao_text','pao_start_number','pao_start_suffix',\n",
    "           'pao_end_number','pao_end_suffix','pao_text','alt_language_pao_text','usrn','usrn_match_indicator',\n",
    "           'area_name','level','official_flag','os_address_toid','os_address_toid_version','os_roadlink_toid',\n",
    "           'os_roadlink_toid_version','os_topo_toid','os_topo_toid_version','voa_ct_record','voa_ndr_record',\n",
    "           'street_description','alt_language_street_description','dependent_thoroughfare','thoroughfare',\n",
    "           'double_dependent_locality','dependent_locality','locality', 'town_name', \n",
    "          'administrative_area','post_town','postcode','postcode_locator' ]\n",
    "\n",
    "   \n",
    "                                   'dependent_locality': str, 'locality': object, 'town_name': str, \n",
    "                                  'administrative_area': str, 'post_town': str,  'postcode': str, \n",
    "                                  'postcode_locator': str}\n",
    "\"\"\"\n",
    "\n",
    "address_matching_columns = ['uprn', 'parent_uprn', 'class', 'latitude', 'longitude', 'country',\n",
    "                    'legal_name','sub_building_name', 'building_name','building_number',\n",
    "                    'sao_start_number','sao_start_suffix','sao_end_number',\n",
    "           'sao_end_suffix','sao_text', 'pao_start_number','pao_start_suffix',\n",
    "           'pao_end_number','pao_end_suffix','pao_text', 'street_description',\n",
    "                    'dependent_locality','locality', 'town_name', 'administrative_area','post_town','postcode', 'postcode_locator' ]\n",
    "\n",
    "address_base_file = \"/Users/christine/Documents/_UCL_grad school/research/research_pd_24/data/ab_plus_england_202308150944.csv\"\n"
   ]
  },
  {
   "cell_type": "code",
   "execution_count": 8,
   "id": "cc70c1bd-e1fd-4370-ba58-1be3c0e1059a",
   "metadata": {
    "tags": []
   },
   "outputs": [
    {
     "name": "stdout",
     "output_type": "stream",
     "text": [
      "seconds:  355.32542300224304\n"
     ]
    }
   ],
   "source": [
    "#read in the address base data - 32 Million rows\n",
    "t = time.time()\n",
    "df_lst = [] \n",
    "\n",
    "\n",
    "# Iterate over the file based on the criteria and append to the list\n",
    "for df in read_csv(address_base_file, address_matching_columns):\n",
    "       # if df['country'] == 'E':\n",
    "       # tmp_df = (df.pipe(lambda x:  x[x.country == 'E'] ))\n",
    "    df_lst +=   [df.copy()] \n",
    "\n",
    "# And finally combine filtered df_lst into the final larger output say 'df_final' dataframe \n",
    "df_final = pd.concat(df_lst)\n",
    "print('seconds: ', time.time() - t)"
   ]
  },
  {
   "cell_type": "code",
   "execution_count": 10,
   "id": "82c47013",
   "metadata": {},
   "outputs": [],
   "source": [
    "test = df_final.iloc[:10,:]"
   ]
  },
  {
   "cell_type": "code",
   "execution_count": 9,
   "id": "6825417a-e1cb-4692-8925-6a0566cd17f8",
   "metadata": {
    "tags": []
   },
   "outputs": [
    {
     "name": "stderr",
     "output_type": "stream",
     "text": [
      "/var/folders/0b/k156jw2x3rz7y1k26v1wkh880000gn/T/ipykernel_60657/860496464.py:1: SettingWithCopyWarning: \n",
      "A value is trying to be set on a copy of a slice from a DataFrame\n",
      "\n",
      "See the caveats in the documentation: https://pandas.pydata.org/pandas-docs/stable/user_guide/indexing.html#returning-a-view-versus-a-copy\n",
      "  test.replace([np.nan, -np.inf], '', inplace=True)\n"
     ]
    }
   ],
   "source": [
    "#test.replace([np.nan, -np.inf], '', inplace=True)"
   ]
  },
  {
   "cell_type": "code",
   "execution_count": 20,
   "id": "9bcd7588-9b3a-41a6-92a3-bb9bc8aebe70",
   "metadata": {
    "tags": []
   },
   "outputs": [],
   "source": [
    "\n",
    "def combine_columns(row): \n",
    "    columns = ['legal_name','sub_building_name', 'building_name','building_number',\n",
    "                    'sao_start_number','sao_start_suffix','sao_end_number',\n",
    "           'sao_end_suffix','sao_text', 'pao_start_number','pao_start_suffix',\n",
    "           'pao_end_number','pao_end_suffix','pao_text', 'street_description']\n",
    "    list_ = [str(row[x]) for x in columns]\n",
    "   # print(list_)\n",
    "    return ', '.join(filter(None, list_))"
   ]
  },
  {
   "cell_type": "code",
   "execution_count": 34,
   "id": "3638216e",
   "metadata": {},
   "outputs": [],
   "source": [
    "def combine_columns_1(row): \n",
    "    columns = ['sao_text','pao_text',  'pao_start_number', 'street_description']\n",
    "    list_ = [str(row[x]) for x in columns]\n",
    "   # print(list_)\n",
    "    return ', '.join(filter(None, list_))"
   ]
  },
  {
   "cell_type": "code",
   "execution_count": 35,
   "id": "1eab09d8",
   "metadata": {},
   "outputs": [],
   "source": [
    "def combine_columns_2(row): \n",
    "    columns = ['sub_building_name', 'building_name','building_number', 'street_description']\n",
    "    list_ = [str(row[x]) for x in columns]\n",
    "   # print(list_)\n",
    "    return ', '.join(filter(None, list_))"
   ]
  },
  {
   "cell_type": "code",
   "execution_count": 23,
   "id": "26d0805a-b103-4fc9-837c-6d1ae0682ddd",
   "metadata": {
    "tags": []
   },
   "outputs": [
    {
     "name": "stderr",
     "output_type": "stream",
     "text": [
      "/var/folders/0b/k156jw2x3rz7y1k26v1wkh880000gn/T/ipykernel_15306/1213200553.py:1: SettingWithCopyWarning: \n",
      "A value is trying to be set on a copy of a slice from a DataFrame.\n",
      "Try using .loc[row_indexer,col_indexer] = value instead\n",
      "\n",
      "See the caveats in the documentation: https://pandas.pydata.org/pandas-docs/stable/user_guide/indexing.html#returning-a-view-versus-a-copy\n",
      "  test['ColA+ColB'] = test.apply(combine_columns_1, axis = 1)\n"
     ]
    }
   ],
   "source": [
    "\n",
    "test['ColA+ColB'] = test.apply(combine_columns_1, axis = 1)"
   ]
  },
  {
   "cell_type": "code",
   "execution_count": 24,
   "id": "68ea4960-019f-4cf4-95b4-2a1cbe746f5b",
   "metadata": {
    "tags": []
   },
   "outputs": [
    {
     "data": {
      "text/plain": [
       "0    nan, SCOUTBER END FARM, nan, OLD OLIVER LANE T...\n",
       "1                       nan, MEEPSWOOD, nan, PARK LANE\n",
       "2                nan, GARAGE SITE 53, nan, DOWSEY ROAD\n",
       "3    nan, STREET RECORD, nan, FOOTPATH FROM GLEBE D...\n",
       "4                     ROOM 1, nan, 85.0, MILTON STREET\n",
       "5                      nan, UNIT D5, nan, PAVILION WAY\n",
       "6    nan, POST BOX 12M FROM 2 BENNACOTT COTTAGES ON...\n",
       "7    nan, SHAFT 644M FROM FIDDLERS COTTAGE 117M FRO...\n",
       "8    nan, TANK 187M FROM JACK LANE FARM, DUNSTER DR...\n",
       "9    nan, SPOIL HEAP 322M FROM ASH HOUSE, FARNDALE ...\n",
       "Name: ColA+ColB, dtype: object"
      ]
     },
     "execution_count": 24,
     "metadata": {},
     "output_type": "execute_result"
    }
   ],
   "source": [
    "test['ColA+ColB']"
   ]
  },
  {
   "cell_type": "code",
   "execution_count": 14,
   "id": "b70dedb4-8998-4bc4-b417-0530f6ed9436",
   "metadata": {
    "tags": []
   },
   "outputs": [],
   "source": [
    "## OK do it for real on the dataset now...\n",
    "#df_final.replace([np.nan, -np.inf], '', inplace=True)"
   ]
  },
  {
   "cell_type": "code",
   "execution_count": 17,
   "id": "f46fba08-a571-4ad7-90b7-c231c3aad1fa",
   "metadata": {
    "tags": []
   },
   "outputs": [],
   "source": [
    "df_final['building_number'] = df_final['building_number'].astype('Int64').astype('str') "
   ]
  },
  {
   "cell_type": "code",
   "execution_count": 18,
   "id": "2633a083-d34b-4e7d-9315-a17859665005",
   "metadata": {
    "tags": []
   },
   "outputs": [
    {
     "data": {
      "text/plain": [
       "0           <NA>\n",
       "1           <NA>\n",
       "2           <NA>\n",
       "3           <NA>\n",
       "4           <NA>\n",
       "            ... \n",
       "32339409      36\n",
       "32339410      73\n",
       "32339411      20\n",
       "32339412      18\n",
       "32339413      19\n",
       "Name: building_number, Length: 32339414, dtype: object"
      ]
     },
     "execution_count": 18,
     "metadata": {},
     "output_type": "execute_result"
    }
   ],
   "source": [
    "df_final['building_number'] # print this out to see what's happening... "
   ]
  },
  {
   "cell_type": "code",
   "execution_count": 19,
   "id": "e39d8f19",
   "metadata": {},
   "outputs": [],
   "source": [
    "df_final['pao_start_number'] = df_final['pao_start_number'].astype('Int64').astype('str') "
   ]
  },
  {
   "cell_type": "code",
   "execution_count": 25,
   "id": "1f8cf7b4",
   "metadata": {},
   "outputs": [
    {
     "data": {
      "text/plain": [
       "0           <NA>\n",
       "1           <NA>\n",
       "2           <NA>\n",
       "3           <NA>\n",
       "4             85\n",
       "            ... \n",
       "32339409      36\n",
       "32339410      73\n",
       "32339411      20\n",
       "32339412      18\n",
       "32339413      19\n",
       "Name: pao_start_number, Length: 32339414, dtype: object"
      ]
     },
     "execution_count": 25,
     "metadata": {},
     "output_type": "execute_result"
    }
   ],
   "source": [
    "df_final['pao_start_number']"
   ]
  },
  {
   "cell_type": "code",
   "execution_count": 26,
   "id": "12ea0673-f9e7-4f99-8096-38c0a60a084e",
   "metadata": {},
   "outputs": [],
   "source": [
    "# next time I think its less computationally expensive to not do this inplace...\n",
    "# here I am replacing the Nans with e\n",
    "df_final = df_final.replace([np.nan, -np.inf], '')\n"
   ]
  },
  {
   "cell_type": "code",
   "execution_count": 27,
   "id": "b9865e12-8ba6-4f44-8181-a0b1822daa4b",
   "metadata": {},
   "outputs": [],
   "source": [
    "# add in the replacement for NA (in building number) so that it is just empty string\n",
    "df_final = df_final.replace('<NA>', '')"
   ]
  },
  {
   "cell_type": "code",
   "execution_count": 28,
   "id": "9b1848e9-bd5f-49f7-8d8c-c871fd3a5ca5",
   "metadata": {
    "tags": []
   },
   "outputs": [
    {
     "data": {
      "text/html": [
       "<div>\n",
       "<style scoped>\n",
       "    .dataframe tbody tr th:only-of-type {\n",
       "        vertical-align: middle;\n",
       "    }\n",
       "\n",
       "    .dataframe tbody tr th {\n",
       "        vertical-align: top;\n",
       "    }\n",
       "\n",
       "    .dataframe thead th {\n",
       "        text-align: right;\n",
       "    }\n",
       "</style>\n",
       "<table border=\"1\" class=\"dataframe\">\n",
       "  <thead>\n",
       "    <tr style=\"text-align: right;\">\n",
       "      <th></th>\n",
       "      <th>uprn</th>\n",
       "      <th>class</th>\n",
       "      <th>parent_uprn</th>\n",
       "      <th>latitude</th>\n",
       "      <th>longitude</th>\n",
       "      <th>country</th>\n",
       "      <th>legal_name</th>\n",
       "      <th>sub_building_name</th>\n",
       "      <th>building_name</th>\n",
       "      <th>building_number</th>\n",
       "      <th>...</th>\n",
       "      <th>pao_end_suffix</th>\n",
       "      <th>pao_text</th>\n",
       "      <th>street_description</th>\n",
       "      <th>dependent_locality</th>\n",
       "      <th>locality</th>\n",
       "      <th>town_name</th>\n",
       "      <th>administrative_area</th>\n",
       "      <th>post_town</th>\n",
       "      <th>postcode</th>\n",
       "      <th>postcode_locator</th>\n",
       "    </tr>\n",
       "  </thead>\n",
       "  <tbody>\n",
       "    <tr>\n",
       "      <th>0</th>\n",
       "      <td>10012778289</td>\n",
       "      <td>RD02</td>\n",
       "      <td></td>\n",
       "      <td>54.036005</td>\n",
       "      <td>-2.340833</td>\n",
       "      <td>E</td>\n",
       "      <td></td>\n",
       "      <td></td>\n",
       "      <td></td>\n",
       "      <td></td>\n",
       "      <td>...</td>\n",
       "      <td></td>\n",
       "      <td>SCOUTBER END FARM</td>\n",
       "      <td>OLD OLIVER LANE TO RAGGED HALL</td>\n",
       "      <td></td>\n",
       "      <td>RATHMELL</td>\n",
       "      <td>SETTLE</td>\n",
       "      <td>NORTH YORKSHIRE</td>\n",
       "      <td></td>\n",
       "      <td></td>\n",
       "      <td>BD24 0LP</td>\n",
       "    </tr>\n",
       "    <tr>\n",
       "      <th>1</th>\n",
       "      <td>10013268085</td>\n",
       "      <td>LU01</td>\n",
       "      <td></td>\n",
       "      <td>51.628915</td>\n",
       "      <td>0.471228</td>\n",
       "      <td>E</td>\n",
       "      <td></td>\n",
       "      <td></td>\n",
       "      <td></td>\n",
       "      <td></td>\n",
       "      <td>...</td>\n",
       "      <td></td>\n",
       "      <td>MEEPSWOOD</td>\n",
       "      <td>PARK LANE</td>\n",
       "      <td></td>\n",
       "      <td>RAMSDEN HEATH</td>\n",
       "      <td>CHELMSFORD</td>\n",
       "      <td>ESSEX</td>\n",
       "      <td></td>\n",
       "      <td></td>\n",
       "      <td>CM11 1NN</td>\n",
       "    </tr>\n",
       "    <tr>\n",
       "      <th>2</th>\n",
       "      <td>10013819934</td>\n",
       "      <td>RG02</td>\n",
       "      <td>10013819576.0</td>\n",
       "      <td>54.780687</td>\n",
       "      <td>-1.510651</td>\n",
       "      <td>E</td>\n",
       "      <td></td>\n",
       "      <td></td>\n",
       "      <td></td>\n",
       "      <td></td>\n",
       "      <td>...</td>\n",
       "      <td></td>\n",
       "      <td>GARAGE SITE 53</td>\n",
       "      <td>DOWSEY ROAD</td>\n",
       "      <td></td>\n",
       "      <td></td>\n",
       "      <td>SHERBURN</td>\n",
       "      <td>DURHAM</td>\n",
       "      <td></td>\n",
       "      <td></td>\n",
       "      <td>DH6 1JH</td>\n",
       "    </tr>\n",
       "    <tr>\n",
       "      <th>3</th>\n",
       "      <td>10014205932</td>\n",
       "      <td>PS</td>\n",
       "      <td></td>\n",
       "      <td>51.590568</td>\n",
       "      <td>0.600675</td>\n",
       "      <td>E</td>\n",
       "      <td></td>\n",
       "      <td></td>\n",
       "      <td></td>\n",
       "      <td></td>\n",
       "      <td>...</td>\n",
       "      <td></td>\n",
       "      <td>STREET RECORD</td>\n",
       "      <td>FOOTPATH FROM GLEBE DRIVE TO THE APPROACH</td>\n",
       "      <td></td>\n",
       "      <td></td>\n",
       "      <td>RAYLEIGH</td>\n",
       "      <td>ESSEX</td>\n",
       "      <td></td>\n",
       "      <td></td>\n",
       "      <td>SS6 9HJ</td>\n",
       "    </tr>\n",
       "    <tr>\n",
       "      <th>4</th>\n",
       "      <td>10014309637</td>\n",
       "      <td>RD04</td>\n",
       "      <td>200003655499.0</td>\n",
       "      <td>51.266510</td>\n",
       "      <td>0.497553</td>\n",
       "      <td>E</td>\n",
       "      <td></td>\n",
       "      <td></td>\n",
       "      <td></td>\n",
       "      <td></td>\n",
       "      <td>...</td>\n",
       "      <td></td>\n",
       "      <td></td>\n",
       "      <td>MILTON STREET</td>\n",
       "      <td></td>\n",
       "      <td></td>\n",
       "      <td>MAIDSTONE</td>\n",
       "      <td>KENT</td>\n",
       "      <td></td>\n",
       "      <td></td>\n",
       "      <td>ME16 8LD</td>\n",
       "    </tr>\n",
       "  </tbody>\n",
       "</table>\n",
       "<p>5 rows × 28 columns</p>\n",
       "</div>"
      ],
      "text/plain": [
       "          uprn class     parent_uprn   latitude  longitude country legal_name  \\\n",
       "0  10012778289  RD02                  54.036005  -2.340833       E              \n",
       "1  10013268085  LU01                  51.628915   0.471228       E              \n",
       "2  10013819934  RG02   10013819576.0  54.780687  -1.510651       E              \n",
       "3  10014205932    PS                  51.590568   0.600675       E              \n",
       "4  10014309637  RD04  200003655499.0  51.266510   0.497553       E              \n",
       "\n",
       "  sub_building_name building_name building_number  ... pao_end_suffix  \\\n",
       "0                                                  ...                  \n",
       "1                                                  ...                  \n",
       "2                                                  ...                  \n",
       "3                                                  ...                  \n",
       "4                                                  ...                  \n",
       "\n",
       "            pao_text                         street_description  \\\n",
       "0  SCOUTBER END FARM             OLD OLIVER LANE TO RAGGED HALL   \n",
       "1          MEEPSWOOD                                  PARK LANE   \n",
       "2     GARAGE SITE 53                                DOWSEY ROAD   \n",
       "3      STREET RECORD  FOOTPATH FROM GLEBE DRIVE TO THE APPROACH   \n",
       "4                                                 MILTON STREET   \n",
       "\n",
       "  dependent_locality       locality   town_name administrative_area post_town  \\\n",
       "0                          RATHMELL      SETTLE     NORTH YORKSHIRE             \n",
       "1                     RAMSDEN HEATH  CHELMSFORD               ESSEX             \n",
       "2                                      SHERBURN              DURHAM             \n",
       "3                                      RAYLEIGH               ESSEX             \n",
       "4                                     MAIDSTONE                KENT             \n",
       "\n",
       "  postcode postcode_locator  \n",
       "0                  BD24 0LP  \n",
       "1                  CM11 1NN  \n",
       "2                   DH6 1JH  \n",
       "3                   SS6 9HJ  \n",
       "4                  ME16 8LD  \n",
       "\n",
       "[5 rows x 28 columns]"
      ]
     },
     "execution_count": 28,
     "metadata": {},
     "output_type": "execute_result"
    }
   ],
   "source": [
    "df_final.head()"
   ]
  },
  {
   "cell_type": "code",
   "execution_count": null,
   "id": "4c920aac",
   "metadata": {},
   "outputs": [],
   "source": [
    "df_final "
   ]
  },
  {
   "cell_type": "code",
   "execution_count": 36,
   "id": "74341d84",
   "metadata": {},
   "outputs": [],
   "source": [
    "test = df_final.iloc[:10,:]"
   ]
  },
  {
   "cell_type": "code",
   "execution_count": 37,
   "id": "5384520f",
   "metadata": {},
   "outputs": [
    {
     "name": "stderr",
     "output_type": "stream",
     "text": [
      "/var/folders/0b/k156jw2x3rz7y1k26v1wkh880000gn/T/ipykernel_15306/572530206.py:2: SettingWithCopyWarning: \n",
      "A value is trying to be set on a copy of a slice from a DataFrame.\n",
      "Try using .loc[row_indexer,col_indexer] = value instead\n",
      "\n",
      "See the caveats in the documentation: https://pandas.pydata.org/pandas-docs/stable/user_guide/indexing.html#returning-a-view-versus-a-copy\n",
      "  test['parsed_address1'] = test.apply(combine_columns_1, axis = 1)\n",
      "/var/folders/0b/k156jw2x3rz7y1k26v1wkh880000gn/T/ipykernel_15306/572530206.py:3: SettingWithCopyWarning: \n",
      "A value is trying to be set on a copy of a slice from a DataFrame.\n",
      "Try using .loc[row_indexer,col_indexer] = value instead\n",
      "\n",
      "See the caveats in the documentation: https://pandas.pydata.org/pandas-docs/stable/user_guide/indexing.html#returning-a-view-versus-a-copy\n",
      "  test['parsed_address2'] = test.apply(combine_columns_2, axis = 1)\n"
     ]
    }
   ],
   "source": [
    "#run it to see what it looks like\n",
    "test['parsed_address1'] = test.apply(combine_columns_1, axis = 1)\n",
    "test['parsed_address2'] = test.apply(combine_columns_2, axis = 1)"
   ]
  },
  {
   "cell_type": "code",
   "execution_count": 38,
   "id": "d139f5ed",
   "metadata": {},
   "outputs": [
    {
     "data": {
      "text/html": [
       "<div>\n",
       "<style scoped>\n",
       "    .dataframe tbody tr th:only-of-type {\n",
       "        vertical-align: middle;\n",
       "    }\n",
       "\n",
       "    .dataframe tbody tr th {\n",
       "        vertical-align: top;\n",
       "    }\n",
       "\n",
       "    .dataframe thead th {\n",
       "        text-align: right;\n",
       "    }\n",
       "</style>\n",
       "<table border=\"1\" class=\"dataframe\">\n",
       "  <thead>\n",
       "    <tr style=\"text-align: right;\">\n",
       "      <th></th>\n",
       "      <th>uprn</th>\n",
       "      <th>class</th>\n",
       "      <th>parent_uprn</th>\n",
       "      <th>latitude</th>\n",
       "      <th>longitude</th>\n",
       "      <th>country</th>\n",
       "      <th>legal_name</th>\n",
       "      <th>sub_building_name</th>\n",
       "      <th>building_name</th>\n",
       "      <th>building_number</th>\n",
       "      <th>...</th>\n",
       "      <th>street_description</th>\n",
       "      <th>dependent_locality</th>\n",
       "      <th>locality</th>\n",
       "      <th>town_name</th>\n",
       "      <th>administrative_area</th>\n",
       "      <th>post_town</th>\n",
       "      <th>postcode</th>\n",
       "      <th>postcode_locator</th>\n",
       "      <th>parsed_address1</th>\n",
       "      <th>parsed_address2</th>\n",
       "    </tr>\n",
       "  </thead>\n",
       "  <tbody>\n",
       "    <tr>\n",
       "      <th>0</th>\n",
       "      <td>10012778289</td>\n",
       "      <td>RD02</td>\n",
       "      <td></td>\n",
       "      <td>54.036005</td>\n",
       "      <td>-2.340833</td>\n",
       "      <td>E</td>\n",
       "      <td></td>\n",
       "      <td></td>\n",
       "      <td></td>\n",
       "      <td></td>\n",
       "      <td>...</td>\n",
       "      <td>OLD OLIVER LANE TO RAGGED HALL</td>\n",
       "      <td></td>\n",
       "      <td>RATHMELL</td>\n",
       "      <td>SETTLE</td>\n",
       "      <td>NORTH YORKSHIRE</td>\n",
       "      <td></td>\n",
       "      <td></td>\n",
       "      <td>BD24 0LP</td>\n",
       "      <td>SCOUTBER END FARM, OLD OLIVER LANE TO RAGGED HALL</td>\n",
       "      <td>OLD OLIVER LANE TO RAGGED HALL</td>\n",
       "    </tr>\n",
       "    <tr>\n",
       "      <th>1</th>\n",
       "      <td>10013268085</td>\n",
       "      <td>LU01</td>\n",
       "      <td></td>\n",
       "      <td>51.628915</td>\n",
       "      <td>0.471228</td>\n",
       "      <td>E</td>\n",
       "      <td></td>\n",
       "      <td></td>\n",
       "      <td></td>\n",
       "      <td></td>\n",
       "      <td>...</td>\n",
       "      <td>PARK LANE</td>\n",
       "      <td></td>\n",
       "      <td>RAMSDEN HEATH</td>\n",
       "      <td>CHELMSFORD</td>\n",
       "      <td>ESSEX</td>\n",
       "      <td></td>\n",
       "      <td></td>\n",
       "      <td>CM11 1NN</td>\n",
       "      <td>MEEPSWOOD, PARK LANE</td>\n",
       "      <td>PARK LANE</td>\n",
       "    </tr>\n",
       "    <tr>\n",
       "      <th>2</th>\n",
       "      <td>10013819934</td>\n",
       "      <td>RG02</td>\n",
       "      <td>10013819576.0</td>\n",
       "      <td>54.780687</td>\n",
       "      <td>-1.510651</td>\n",
       "      <td>E</td>\n",
       "      <td></td>\n",
       "      <td></td>\n",
       "      <td></td>\n",
       "      <td></td>\n",
       "      <td>...</td>\n",
       "      <td>DOWSEY ROAD</td>\n",
       "      <td></td>\n",
       "      <td></td>\n",
       "      <td>SHERBURN</td>\n",
       "      <td>DURHAM</td>\n",
       "      <td></td>\n",
       "      <td></td>\n",
       "      <td>DH6 1JH</td>\n",
       "      <td>GARAGE SITE 53, DOWSEY ROAD</td>\n",
       "      <td>DOWSEY ROAD</td>\n",
       "    </tr>\n",
       "    <tr>\n",
       "      <th>3</th>\n",
       "      <td>10014205932</td>\n",
       "      <td>PS</td>\n",
       "      <td></td>\n",
       "      <td>51.590568</td>\n",
       "      <td>0.600675</td>\n",
       "      <td>E</td>\n",
       "      <td></td>\n",
       "      <td></td>\n",
       "      <td></td>\n",
       "      <td></td>\n",
       "      <td>...</td>\n",
       "      <td>FOOTPATH FROM GLEBE DRIVE TO THE APPROACH</td>\n",
       "      <td></td>\n",
       "      <td></td>\n",
       "      <td>RAYLEIGH</td>\n",
       "      <td>ESSEX</td>\n",
       "      <td></td>\n",
       "      <td></td>\n",
       "      <td>SS6 9HJ</td>\n",
       "      <td>STREET RECORD, FOOTPATH FROM GLEBE DRIVE TO TH...</td>\n",
       "      <td>FOOTPATH FROM GLEBE DRIVE TO THE APPROACH</td>\n",
       "    </tr>\n",
       "    <tr>\n",
       "      <th>4</th>\n",
       "      <td>10014309637</td>\n",
       "      <td>RD04</td>\n",
       "      <td>200003655499.0</td>\n",
       "      <td>51.266510</td>\n",
       "      <td>0.497553</td>\n",
       "      <td>E</td>\n",
       "      <td></td>\n",
       "      <td></td>\n",
       "      <td></td>\n",
       "      <td></td>\n",
       "      <td>...</td>\n",
       "      <td>MILTON STREET</td>\n",
       "      <td></td>\n",
       "      <td></td>\n",
       "      <td>MAIDSTONE</td>\n",
       "      <td>KENT</td>\n",
       "      <td></td>\n",
       "      <td></td>\n",
       "      <td>ME16 8LD</td>\n",
       "      <td>ROOM 1, 85, MILTON STREET</td>\n",
       "      <td>MILTON STREET</td>\n",
       "    </tr>\n",
       "  </tbody>\n",
       "</table>\n",
       "<p>5 rows × 30 columns</p>\n",
       "</div>"
      ],
      "text/plain": [
       "          uprn class     parent_uprn   latitude  longitude country legal_name  \\\n",
       "0  10012778289  RD02                  54.036005  -2.340833       E              \n",
       "1  10013268085  LU01                  51.628915   0.471228       E              \n",
       "2  10013819934  RG02   10013819576.0  54.780687  -1.510651       E              \n",
       "3  10014205932    PS                  51.590568   0.600675       E              \n",
       "4  10014309637  RD04  200003655499.0  51.266510   0.497553       E              \n",
       "\n",
       "  sub_building_name building_name building_number  ...  \\\n",
       "0                                                  ...   \n",
       "1                                                  ...   \n",
       "2                                                  ...   \n",
       "3                                                  ...   \n",
       "4                                                  ...   \n",
       "\n",
       "                          street_description dependent_locality  \\\n",
       "0             OLD OLIVER LANE TO RAGGED HALL                      \n",
       "1                                  PARK LANE                      \n",
       "2                                DOWSEY ROAD                      \n",
       "3  FOOTPATH FROM GLEBE DRIVE TO THE APPROACH                      \n",
       "4                              MILTON STREET                      \n",
       "\n",
       "        locality   town_name administrative_area post_town postcode  \\\n",
       "0       RATHMELL      SETTLE     NORTH YORKSHIRE                      \n",
       "1  RAMSDEN HEATH  CHELMSFORD               ESSEX                      \n",
       "2                   SHERBURN              DURHAM                      \n",
       "3                   RAYLEIGH               ESSEX                      \n",
       "4                  MAIDSTONE                KENT                      \n",
       "\n",
       "  postcode_locator                                    parsed_address1  \\\n",
       "0         BD24 0LP  SCOUTBER END FARM, OLD OLIVER LANE TO RAGGED HALL   \n",
       "1         CM11 1NN                               MEEPSWOOD, PARK LANE   \n",
       "2          DH6 1JH                        GARAGE SITE 53, DOWSEY ROAD   \n",
       "3          SS6 9HJ  STREET RECORD, FOOTPATH FROM GLEBE DRIVE TO TH...   \n",
       "4         ME16 8LD                          ROOM 1, 85, MILTON STREET   \n",
       "\n",
       "                             parsed_address2  \n",
       "0             OLD OLIVER LANE TO RAGGED HALL  \n",
       "1                                  PARK LANE  \n",
       "2                                DOWSEY ROAD  \n",
       "3  FOOTPATH FROM GLEBE DRIVE TO THE APPROACH  \n",
       "4                              MILTON STREET  \n",
       "\n",
       "[5 rows x 30 columns]"
      ]
     },
     "execution_count": 38,
     "metadata": {},
     "output_type": "execute_result"
    }
   ],
   "source": [
    "test.head()"
   ]
  },
  {
   "cell_type": "code",
   "execution_count": null,
   "id": "f62017aa",
   "metadata": {},
   "outputs": [],
   "source": [
    "# create a function to combine columns 'sub_building', 'building_name', 'building_number', 'street_description'\n",
    "    # also 'sao_text', 'pao_text', 'pao_start_number', 'street_description'\n",
    "#def create_address_1"
   ]
  },
  {
   "cell_type": "code",
   "execution_count": null,
   "id": "91de9517",
   "metadata": {},
   "outputs": [],
   "source": [
    "#df_final['address_1']  = df_final.apply(, axis = 1)"
   ]
  },
  {
   "cell_type": "code",
   "execution_count": 39,
   "id": "1150c5d4-30d7-43f0-8863-66c290b29d67",
   "metadata": {
    "tags": []
   },
   "outputs": [
    {
     "name": "stdout",
     "output_type": "stream",
     "text": [
      "CPU times: user 25min 15s, sys: 9min 28s, total: 34min 44s\n",
      "Wall time: 1h 26min 28s\n"
     ]
    }
   ],
   "source": [
    "%%time\n",
    "## Add the column that adds parsed string to the entire dataset...\n",
    "df_final['parsed_address1'] = df_final.apply(combine_columns_1, axis = 1)\n",
    "df_final['parsed_address2'] = df_final.apply(combine_columns_2, axis = 1)"
   ]
  },
  {
   "cell_type": "code",
   "execution_count": 40,
   "id": "e8df4c4d-008a-434c-8a49-fce41449c246",
   "metadata": {
    "tags": []
   },
   "outputs": [],
   "source": [
    "#data cleaning - #replace nan\n",
    "#df_final = df_final.replace([np.nan, -np.inf], 0)\n",
    "resi_AB = df_final[df_final['class'].str.startswith('R')] \n",
    "other_AB = df_final[df_final['class'].str.startswith('R') == False] "
   ]
  },
  {
   "cell_type": "code",
   "execution_count": 42,
   "id": "e196deaa",
   "metadata": {
    "tags": []
   },
   "outputs": [
    {
     "data": {
      "text/html": [
       "<div>\n",
       "<style scoped>\n",
       "    .dataframe tbody tr th:only-of-type {\n",
       "        vertical-align: middle;\n",
       "    }\n",
       "\n",
       "    .dataframe tbody tr th {\n",
       "        vertical-align: top;\n",
       "    }\n",
       "\n",
       "    .dataframe thead th {\n",
       "        text-align: right;\n",
       "    }\n",
       "</style>\n",
       "<table border=\"1\" class=\"dataframe\">\n",
       "  <thead>\n",
       "    <tr style=\"text-align: right;\">\n",
       "      <th></th>\n",
       "      <th>uprn</th>\n",
       "      <th>class</th>\n",
       "      <th>parent_uprn</th>\n",
       "      <th>latitude</th>\n",
       "      <th>longitude</th>\n",
       "      <th>country</th>\n",
       "      <th>legal_name</th>\n",
       "      <th>sub_building_name</th>\n",
       "      <th>building_name</th>\n",
       "      <th>building_number</th>\n",
       "      <th>...</th>\n",
       "      <th>street_description</th>\n",
       "      <th>dependent_locality</th>\n",
       "      <th>locality</th>\n",
       "      <th>town_name</th>\n",
       "      <th>administrative_area</th>\n",
       "      <th>post_town</th>\n",
       "      <th>postcode</th>\n",
       "      <th>postcode_locator</th>\n",
       "      <th>parsed_address1</th>\n",
       "      <th>parsed_address2</th>\n",
       "    </tr>\n",
       "  </thead>\n",
       "  <tbody>\n",
       "    <tr>\n",
       "      <th>0</th>\n",
       "      <td>10012778289</td>\n",
       "      <td>RD02</td>\n",
       "      <td></td>\n",
       "      <td>54.036005</td>\n",
       "      <td>-2.340833</td>\n",
       "      <td>E</td>\n",
       "      <td></td>\n",
       "      <td></td>\n",
       "      <td></td>\n",
       "      <td></td>\n",
       "      <td>...</td>\n",
       "      <td>OLD OLIVER LANE TO RAGGED HALL</td>\n",
       "      <td></td>\n",
       "      <td>RATHMELL</td>\n",
       "      <td>SETTLE</td>\n",
       "      <td>NORTH YORKSHIRE</td>\n",
       "      <td></td>\n",
       "      <td></td>\n",
       "      <td>BD24 0LP</td>\n",
       "      <td>SCOUTBER END FARM, OLD OLIVER LANE TO RAGGED HALL</td>\n",
       "      <td>OLD OLIVER LANE TO RAGGED HALL</td>\n",
       "    </tr>\n",
       "    <tr>\n",
       "      <th>2</th>\n",
       "      <td>10013819934</td>\n",
       "      <td>RG02</td>\n",
       "      <td>10013819576.0</td>\n",
       "      <td>54.780687</td>\n",
       "      <td>-1.510651</td>\n",
       "      <td>E</td>\n",
       "      <td></td>\n",
       "      <td></td>\n",
       "      <td></td>\n",
       "      <td></td>\n",
       "      <td>...</td>\n",
       "      <td>DOWSEY ROAD</td>\n",
       "      <td></td>\n",
       "      <td></td>\n",
       "      <td>SHERBURN</td>\n",
       "      <td>DURHAM</td>\n",
       "      <td></td>\n",
       "      <td></td>\n",
       "      <td>DH6 1JH</td>\n",
       "      <td>GARAGE SITE 53, DOWSEY ROAD</td>\n",
       "      <td>DOWSEY ROAD</td>\n",
       "    </tr>\n",
       "    <tr>\n",
       "      <th>4</th>\n",
       "      <td>10014309637</td>\n",
       "      <td>RD04</td>\n",
       "      <td>200003655499.0</td>\n",
       "      <td>51.266510</td>\n",
       "      <td>0.497553</td>\n",
       "      <td>E</td>\n",
       "      <td></td>\n",
       "      <td></td>\n",
       "      <td></td>\n",
       "      <td></td>\n",
       "      <td>...</td>\n",
       "      <td>MILTON STREET</td>\n",
       "      <td></td>\n",
       "      <td></td>\n",
       "      <td>MAIDSTONE</td>\n",
       "      <td>KENT</td>\n",
       "      <td></td>\n",
       "      <td></td>\n",
       "      <td>ME16 8LD</td>\n",
       "      <td>ROOM 1, 85, MILTON STREET</td>\n",
       "      <td>MILTON STREET</td>\n",
       "    </tr>\n",
       "    <tr>\n",
       "      <th>21</th>\n",
       "      <td>10033213520</td>\n",
       "      <td>RD01</td>\n",
       "      <td>10002821654.0</td>\n",
       "      <td>53.903252</td>\n",
       "      <td>-0.158754</td>\n",
       "      <td>E</td>\n",
       "      <td></td>\n",
       "      <td></td>\n",
       "      <td></td>\n",
       "      <td></td>\n",
       "      <td>...</td>\n",
       "      <td>HORNSEA BURTON ROAD</td>\n",
       "      <td></td>\n",
       "      <td></td>\n",
       "      <td>HORNSEA</td>\n",
       "      <td>EAST RIDING OF YORKSHIRE</td>\n",
       "      <td></td>\n",
       "      <td></td>\n",
       "      <td>HU18 1TL</td>\n",
       "      <td>33 SOUTHFIELD, LONGBEACH LEISURE PARK, HORNSEA...</td>\n",
       "      <td>HORNSEA BURTON ROAD</td>\n",
       "    </tr>\n",
       "    <tr>\n",
       "      <th>22</th>\n",
       "      <td>10033545757</td>\n",
       "      <td>RD06</td>\n",
       "      <td>100023479131.0</td>\n",
       "      <td>51.514983</td>\n",
       "      <td>-0.179260</td>\n",
       "      <td>E</td>\n",
       "      <td></td>\n",
       "      <td></td>\n",
       "      <td></td>\n",
       "      <td></td>\n",
       "      <td>...</td>\n",
       "      <td>WESTBOURNE TERRACE</td>\n",
       "      <td></td>\n",
       "      <td></td>\n",
       "      <td>LONDON</td>\n",
       "      <td>CITY OF WESTMINSTER</td>\n",
       "      <td></td>\n",
       "      <td></td>\n",
       "      <td>W2 3UJ</td>\n",
       "      <td>SECOND FLOOR, 58, WESTBOURNE TERRACE</td>\n",
       "      <td>WESTBOURNE TERRACE</td>\n",
       "    </tr>\n",
       "  </tbody>\n",
       "</table>\n",
       "<p>5 rows × 30 columns</p>\n",
       "</div>"
      ],
      "text/plain": [
       "           uprn class     parent_uprn   latitude  longitude country  \\\n",
       "0   10012778289  RD02                  54.036005  -2.340833       E   \n",
       "2   10013819934  RG02   10013819576.0  54.780687  -1.510651       E   \n",
       "4   10014309637  RD04  200003655499.0  51.266510   0.497553       E   \n",
       "21  10033213520  RD01   10002821654.0  53.903252  -0.158754       E   \n",
       "22  10033545757  RD06  100023479131.0  51.514983  -0.179260       E   \n",
       "\n",
       "   legal_name sub_building_name building_name building_number  ...  \\\n",
       "0                                                              ...   \n",
       "2                                                              ...   \n",
       "4                                                              ...   \n",
       "21                                                             ...   \n",
       "22                                                             ...   \n",
       "\n",
       "                street_description dependent_locality  locality  town_name  \\\n",
       "0   OLD OLIVER LANE TO RAGGED HALL                     RATHMELL     SETTLE   \n",
       "2                      DOWSEY ROAD                                SHERBURN   \n",
       "4                    MILTON STREET                               MAIDSTONE   \n",
       "21             HORNSEA BURTON ROAD                                 HORNSEA   \n",
       "22              WESTBOURNE TERRACE                                  LONDON   \n",
       "\n",
       "         administrative_area post_town postcode postcode_locator  \\\n",
       "0            NORTH YORKSHIRE                            BD24 0LP   \n",
       "2                     DURHAM                             DH6 1JH   \n",
       "4                       KENT                            ME16 8LD   \n",
       "21  EAST RIDING OF YORKSHIRE                            HU18 1TL   \n",
       "22       CITY OF WESTMINSTER                              W2 3UJ   \n",
       "\n",
       "                                      parsed_address1  \\\n",
       "0   SCOUTBER END FARM, OLD OLIVER LANE TO RAGGED HALL   \n",
       "2                         GARAGE SITE 53, DOWSEY ROAD   \n",
       "4                           ROOM 1, 85, MILTON STREET   \n",
       "21  33 SOUTHFIELD, LONGBEACH LEISURE PARK, HORNSEA...   \n",
       "22               SECOND FLOOR, 58, WESTBOURNE TERRACE   \n",
       "\n",
       "                   parsed_address2  \n",
       "0   OLD OLIVER LANE TO RAGGED HALL  \n",
       "2                      DOWSEY ROAD  \n",
       "4                    MILTON STREET  \n",
       "21             HORNSEA BURTON ROAD  \n",
       "22              WESTBOURNE TERRACE  \n",
       "\n",
       "[5 rows x 30 columns]"
      ]
     },
     "execution_count": 42,
     "metadata": {},
     "output_type": "execute_result"
    }
   ],
   "source": [
    "resi_AB.head()"
   ]
  },
  {
   "cell_type": "code",
   "execution_count": 15,
   "id": "dafe74bd-478c-4cb1-8d6a-eab38f373776",
   "metadata": {
    "tags": []
   },
   "outputs": [
    {
     "data": {
      "text/plain": [
       "'<NA>'"
      ]
     },
     "execution_count": 15,
     "metadata": {},
     "output_type": "execute_result"
    }
   ],
   "source": [
    "#resi_AB.iloc[0].loc['building_number']"
   ]
  },
  {
   "cell_type": "code",
   "execution_count": 43,
   "id": "7d7bf4a1-cc59-4f47-98ae-4c4e6fcc379f",
   "metadata": {},
   "outputs": [],
   "source": [
    "# DATA EXPLORATION - EXPORT CSV IF NEEDED \n",
    "resi_AB.to_csv('resi_AB_cleaned_parsed_030524.csv', index = False)"
   ]
  },
  {
   "cell_type": "code",
   "execution_count": 44,
   "id": "a0ed9f83-231e-4fe7-a395-1eb59939e599",
   "metadata": {},
   "outputs": [],
   "source": [
    "# DATA EXPLORATION - EXPORT CSV IF NEEDED \n",
    "other_AB.to_csv('other_AB_cleaned_parsed_030524.csv', index = False)"
   ]
  },
  {
   "cell_type": "code",
   "execution_count": null,
   "id": "890860e1-d804-4ce1-99af-62ea7deab990",
   "metadata": {},
   "outputs": [],
   "source": [
    "#basically, we want to create an extra column with the address... \n",
    "\"\"\"\n",
    "legal_name                                        0.0\n",
    "sub_building_name                                   0\n",
    "building_name                                       0\n",
    "building_number                                   0.0\n",
    "sao_start_number                                  0.0\n",
    "sao_start_suffix                                    0\n",
    "sao_end_number                                    0.0\n",
    "sao_end_suffix                                      0\n",
    "sao_text                                            0\n",
    "pao_start_number                                  0.0\n",
    "pao_start_suffix                                    0\n",
    "pao_end_number                                    0.0\n",
    "pao_end_suffix                                      0\n",
    "pao_text                            SCOUTBER END FARM\n",
    "street_description     OLD OLIVER LANE TO RAGGED HALL\n",
    "\"\"\""
   ]
  }
 ],
 "metadata": {
  "kernelspec": {
   "display_name": "sds2023",
   "language": "python",
   "name": "sds2023"
  },
  "language_info": {
   "codemirror_mode": {
    "name": "ipython",
    "version": 3
   },
   "file_extension": ".py",
   "mimetype": "text/x-python",
   "name": "python",
   "nbconvert_exporter": "python",
   "pygments_lexer": "ipython3",
   "version": "3.11.7"
  }
 },
 "nbformat": 4,
 "nbformat_minor": 5
}
