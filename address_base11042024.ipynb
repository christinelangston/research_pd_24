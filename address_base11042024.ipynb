{
 "cells": [
  {
   "cell_type": "code",
   "execution_count": 1,
   "id": "58454128-a26f-4b6d-87fc-f95e7868ea2f",
   "metadata": {
    "tags": []
   },
   "outputs": [],
   "source": [
    "# March 27 2024\n",
    "# explore the addresses from address base further \n",
    "# here I'm trying to use additional columns (SAO and PAO) to create a full address string\n",
    "    # Bin had said that there might be multiple combinations and also we are not getting the full address\n",
    "    # if we ignore these parts \n",
    "# work in progress: I am processing the data by adding an additional column to the end\n",
    "\n",
    "TODO: need to delete the <NA>s -- I added code for this in cell below."
   ]
  },
  {
   "cell_type": "code",
   "execution_count": 3,
   "id": "494253d9-beec-4058-a28e-494b44ac9a0f",
   "metadata": {
    "tags": []
   },
   "outputs": [],
   "source": [
    "import pandas as pd\n",
    "import time\n",
    "import numpy as np\n",
    "import copy\n",
    "import re"
   ]
  },
  {
   "cell_type": "code",
   "execution_count": 4,
   "id": "1b7f3e13-4920-4541-9db4-a0052a670863",
   "metadata": {
    "tags": []
   },
   "outputs": [],
   "source": [
    "#create a function to iterate through csv. use for OSAddressBase file\n",
    "def read_csv(file_name, columns):\n",
    "    for chunk in pd.read_csv(file_name, chunksize=10000, usecols=columns, \n",
    "                            dtype={'urpn':int, 'parent_urpn': int, 'class': str, 'latitude': float, \n",
    "                                    'longitude': float, 'country': str, 'legal_name': str, \n",
    "                                      'sub_building_name': str, 'building_name': str, 'building_number':'float64', \n",
    "                                  'sao_start_number': 'float64', 'sao_start_suffix': str,'sao_end_number': 'float64', \n",
    "                                  'sao_end_suffix': str, 'sao_text': str, 'pao_start_number': 'float64', 'pao_start_suffix':str, \n",
    "                                  'pao_end_number':'float64', 'pao_end_suffix': str , 'pao_text': str, 'street_description': str} \n",
    "                               , \n",
    "                             low_memory=False):\n",
    "    \n",
    "        #if chunk['country'] == 'E':\n",
    "        yield chunk\n"
   ]
  },
  {
   "cell_type": "code",
   "execution_count": 5,
   "id": "ad1c9f28-f89c-433f-bfb6-4995ff45e66a",
   "metadata": {
    "tags": []
   },
   "outputs": [],
   "source": [
    "\"\"\"\n",
    "fewer_columns  = ['uprn', 'parent_uprn', 'class', 'latitude', 'longitude', 'country' ]\n",
    "all_columns = ['uprn', 'parent_uprn', 'class', 'latitude', 'longitude', 'country', 'legal_name','sub_building_name',\n",
    "           'building_name','building_number','sao_start_number','sao_start_suffix','sao_end_number',\n",
    "           'sao_end_suffix','sao_text','alt_language_sao_text','pao_start_number','pao_start_suffix',\n",
    "           'pao_end_number','pao_end_suffix','pao_text','alt_language_pao_text','usrn','usrn_match_indicator',\n",
    "           'area_name','level','official_flag','os_address_toid','os_address_toid_version','os_roadlink_toid',\n",
    "           'os_roadlink_toid_version','os_topo_toid','os_topo_toid_version','voa_ct_record','voa_ndr_record',\n",
    "           'street_description','alt_language_street_description','dependent_thoroughfare','thoroughfare',\n",
    "           'double_dependent_locality','dependent_locality','locality', 'town_name', \n",
    "          'administrative_area','post_town','postcode','postcode_locator' ]\n",
    "\n",
    "   \n",
    "                                   'dependent_locality': str, 'locality': object, 'town_name': str, \n",
    "                                  'administrative_area': str, 'post_town': str,  'postcode': str, \n",
    "                                  'postcode_locator': str}\n",
    "\"\"\"\n",
    "\n",
    "address_matching_columns = ['uprn', 'parent_uprn', 'class', 'latitude', 'longitude', 'country',\n",
    "                    'legal_name','sub_building_name', 'building_name','building_number',\n",
    "                    'sao_start_number','sao_start_suffix','sao_end_number',\n",
    "           'sao_end_suffix','sao_text', 'pao_start_number','pao_start_suffix',\n",
    "           'pao_end_number','pao_end_suffix','pao_text', 'street_description',\n",
    "                    'dependent_locality','locality', 'town_name', 'administrative_area','post_town','postcode', 'postcode_locator' ]\n",
    "\n",
    "address_base_file = \"/Users/christine/Documents/_UCL_grad school/research/ab_plus_england_202308150944.csv\"\n"
   ]
  },
  {
   "cell_type": "code",
   "execution_count": 6,
   "id": "cc70c1bd-e1fd-4370-ba58-1be3c0e1059a",
   "metadata": {
    "tags": []
   },
   "outputs": [
    {
     "name": "stdout",
     "output_type": "stream",
     "text": [
      "seconds:  345.327712059021\n"
     ]
    }
   ],
   "source": [
    "#read in the address base data - 32 Million rows\n",
    "t = time.time()\n",
    "df_lst = [] \n",
    "\n",
    "\n",
    "# Iterate over the file based on the criteria and append to the list\n",
    "for df in read_csv(address_base_file, address_matching_columns):\n",
    "       # if df['country'] == 'E':\n",
    "       # tmp_df = (df.pipe(lambda x:  x[x.country == 'E'] ))\n",
    "    df_lst +=   [df.copy()] \n",
    "\n",
    "# And finally combine filtered df_lst into the final larger output say 'df_final' dataframe \n",
    "df_final = pd.concat(df_lst)\n",
    "print('seconds: ', time.time() - t)"
   ]
  },
  {
   "cell_type": "code",
   "execution_count": 7,
   "id": "57342012-17f8-4193-b1ea-07b3becb3c62",
   "metadata": {
    "tags": []
   },
   "outputs": [],
   "source": [
    "#test = df_final.iloc[[0,10]]"
   ]
  },
  {
   "cell_type": "code",
   "execution_count": 10,
   "id": "526f5a47-f54f-4739-ab57-8ea73bf14c1e",
   "metadata": {
    "tags": []
   },
   "outputs": [
    {
     "data": {
      "text/html": [
       "<div>\n",
       "<style scoped>\n",
       "    .dataframe tbody tr th:only-of-type {\n",
       "        vertical-align: middle;\n",
       "    }\n",
       "\n",
       "    .dataframe tbody tr th {\n",
       "        vertical-align: top;\n",
       "    }\n",
       "\n",
       "    .dataframe thead th {\n",
       "        text-align: right;\n",
       "    }\n",
       "</style>\n",
       "<table border=\"1\" class=\"dataframe\">\n",
       "  <thead>\n",
       "    <tr style=\"text-align: right;\">\n",
       "      <th></th>\n",
       "      <th>uprn</th>\n",
       "      <th>class</th>\n",
       "      <th>parent_uprn</th>\n",
       "      <th>latitude</th>\n",
       "      <th>longitude</th>\n",
       "      <th>country</th>\n",
       "      <th>legal_name</th>\n",
       "      <th>sub_building_name</th>\n",
       "      <th>building_name</th>\n",
       "      <th>building_number</th>\n",
       "      <th>...</th>\n",
       "      <th>pao_end_suffix</th>\n",
       "      <th>pao_text</th>\n",
       "      <th>street_description</th>\n",
       "      <th>dependent_locality</th>\n",
       "      <th>locality</th>\n",
       "      <th>town_name</th>\n",
       "      <th>administrative_area</th>\n",
       "      <th>post_town</th>\n",
       "      <th>postcode</th>\n",
       "      <th>postcode_locator</th>\n",
       "    </tr>\n",
       "  </thead>\n",
       "  <tbody>\n",
       "    <tr>\n",
       "      <th>0</th>\n",
       "      <td>10012778289</td>\n",
       "      <td>RD02</td>\n",
       "      <td></td>\n",
       "      <td>54.036005</td>\n",
       "      <td>-2.340833</td>\n",
       "      <td>E</td>\n",
       "      <td></td>\n",
       "      <td></td>\n",
       "      <td></td>\n",
       "      <td></td>\n",
       "      <td>...</td>\n",
       "      <td></td>\n",
       "      <td>SCOUTBER END FARM</td>\n",
       "      <td>OLD OLIVER LANE TO RAGGED HALL</td>\n",
       "      <td></td>\n",
       "      <td>RATHMELL</td>\n",
       "      <td>SETTLE</td>\n",
       "      <td>NORTH YORKSHIRE</td>\n",
       "      <td></td>\n",
       "      <td></td>\n",
       "      <td>BD24 0LP</td>\n",
       "    </tr>\n",
       "    <tr>\n",
       "      <th>10</th>\n",
       "      <td>10015847274</td>\n",
       "      <td>OI07</td>\n",
       "      <td></td>\n",
       "      <td>52.667493</td>\n",
       "      <td>0.947364</td>\n",
       "      <td>E</td>\n",
       "      <td></td>\n",
       "      <td></td>\n",
       "      <td></td>\n",
       "      <td></td>\n",
       "      <td>...</td>\n",
       "      <td></td>\n",
       "      <td>TANK 16M FROM KONNECTBUS LTD, 7 JOHN GOSHAWK R...</td>\n",
       "      <td>JOHN GOSHAWK ROAD</td>\n",
       "      <td></td>\n",
       "      <td></td>\n",
       "      <td>DEREHAM</td>\n",
       "      <td>NORFOLK</td>\n",
       "      <td></td>\n",
       "      <td></td>\n",
       "      <td>NR19 1SY</td>\n",
       "    </tr>\n",
       "  </tbody>\n",
       "</table>\n",
       "<p>2 rows × 28 columns</p>\n",
       "</div>"
      ],
      "text/plain": [
       "           uprn class parent_uprn   latitude  longitude country legal_name  \\\n",
       "0   10012778289  RD02              54.036005  -2.340833       E              \n",
       "10  10015847274  OI07              52.667493   0.947364       E              \n",
       "\n",
       "   sub_building_name building_name building_number  ... pao_end_suffix  \\\n",
       "0                                                   ...                  \n",
       "10                                                  ...                  \n",
       "\n",
       "                                             pao_text  \\\n",
       "0                                   SCOUTBER END FARM   \n",
       "10  TANK 16M FROM KONNECTBUS LTD, 7 JOHN GOSHAWK R...   \n",
       "\n",
       "                street_description dependent_locality  locality town_name  \\\n",
       "0   OLD OLIVER LANE TO RAGGED HALL                     RATHMELL    SETTLE   \n",
       "10               JOHN GOSHAWK ROAD                                DEREHAM   \n",
       "\n",
       "   administrative_area post_town postcode postcode_locator  \n",
       "0      NORTH YORKSHIRE                            BD24 0LP  \n",
       "10             NORFOLK                            NR19 1SY  \n",
       "\n",
       "[2 rows x 28 columns]"
      ]
     },
     "execution_count": 10,
     "metadata": {},
     "output_type": "execute_result"
    }
   ],
   "source": [
    "#test.head()"
   ]
  },
  {
   "cell_type": "code",
   "execution_count": 9,
   "id": "6825417a-e1cb-4692-8925-6a0566cd17f8",
   "metadata": {
    "tags": []
   },
   "outputs": [
    {
     "name": "stderr",
     "output_type": "stream",
     "text": [
      "/var/folders/0b/k156jw2x3rz7y1k26v1wkh880000gn/T/ipykernel_60657/860496464.py:1: SettingWithCopyWarning: \n",
      "A value is trying to be set on a copy of a slice from a DataFrame\n",
      "\n",
      "See the caveats in the documentation: https://pandas.pydata.org/pandas-docs/stable/user_guide/indexing.html#returning-a-view-versus-a-copy\n",
      "  test.replace([np.nan, -np.inf], '', inplace=True)\n"
     ]
    }
   ],
   "source": [
    "#test.replace([np.nan, -np.inf], '', inplace=True)"
   ]
  },
  {
   "cell_type": "code",
   "execution_count": 7,
   "id": "9bcd7588-9b3a-41a6-92a3-bb9bc8aebe70",
   "metadata": {
    "tags": []
   },
   "outputs": [],
   "source": [
    "\n",
    "def combine_columns(row): \n",
    "    columns = ['legal_name','sub_building_name', 'building_name','building_number',\n",
    "                    'sao_start_number','sao_start_suffix','sao_end_number',\n",
    "           'sao_end_suffix','sao_text', 'pao_start_number','pao_start_suffix',\n",
    "           'pao_end_number','pao_end_suffix','pao_text', 'street_description']\n",
    "    list_ = [str(row[x]) for x in columns]\n",
    "   # print(list_)\n",
    "    return ', '.join(filter(None, list_))"
   ]
  },
  {
   "cell_type": "code",
   "execution_count": 12,
   "id": "26d0805a-b103-4fc9-837c-6d1ae0682ddd",
   "metadata": {
    "tags": []
   },
   "outputs": [
    {
     "name": "stdout",
     "output_type": "stream",
     "text": [
      "['', '', '', '', '', '', '', '', '', '', '', '', '', 'SCOUTBER END FARM', 'OLD OLIVER LANE TO RAGGED HALL']\n",
      "['', '', '', '', '', '', '', '', '', '', '', '', '', 'TANK 16M FROM KONNECTBUS LTD, 7 JOHN GOSHAWK ROAD 31M FROM JOHN GOSHAWK ROAD', 'JOHN GOSHAWK ROAD']\n"
     ]
    },
    {
     "name": "stderr",
     "output_type": "stream",
     "text": [
      "/var/folders/0b/k156jw2x3rz7y1k26v1wkh880000gn/T/ipykernel_60657/2458140104.py:1: SettingWithCopyWarning: \n",
      "A value is trying to be set on a copy of a slice from a DataFrame.\n",
      "Try using .loc[row_indexer,col_indexer] = value instead\n",
      "\n",
      "See the caveats in the documentation: https://pandas.pydata.org/pandas-docs/stable/user_guide/indexing.html#returning-a-view-versus-a-copy\n",
      "  test['ColA+ColB'] = test.apply(combine_columns, axis = 1)\n"
     ]
    }
   ],
   "source": [
    "\n",
    "#test['ColA+ColB'] = test.apply(combine_columns, axis = 1)"
   ]
  },
  {
   "cell_type": "code",
   "execution_count": 13,
   "id": "68ea4960-019f-4cf4-95b4-2a1cbe746f5b",
   "metadata": {
    "tags": []
   },
   "outputs": [
    {
     "data": {
      "text/plain": [
       "0     SCOUTBER END FARM, OLD OLIVER LANE TO RAGGED HALL\n",
       "10    TANK 16M FROM KONNECTBUS LTD, 7 JOHN GOSHAWK R...\n",
       "Name: ColA+ColB, dtype: object"
      ]
     },
     "execution_count": 13,
     "metadata": {},
     "output_type": "execute_result"
    }
   ],
   "source": [
    "#test['ColA+ColB']"
   ]
  },
  {
   "cell_type": "code",
   "execution_count": 14,
   "id": "b70dedb4-8998-4bc4-b417-0530f6ed9436",
   "metadata": {
    "tags": []
   },
   "outputs": [],
   "source": [
    "## OK do it for real on the dataset now...\n",
    "#df_final.replace([np.nan, -np.inf], '', inplace=True)"
   ]
  },
  {
   "cell_type": "code",
   "execution_count": 8,
   "id": "f46fba08-a571-4ad7-90b7-c231c3aad1fa",
   "metadata": {
    "tags": []
   },
   "outputs": [],
   "source": [
    "df_final['building_number'] = df_final['building_number'].astype('Int64').astype('str') "
   ]
  },
  {
   "cell_type": "code",
   "execution_count": 9,
   "id": "2633a083-d34b-4e7d-9315-a17859665005",
   "metadata": {
    "tags": []
   },
   "outputs": [
    {
     "data": {
      "text/plain": [
       "0           <NA>\n",
       "1           <NA>\n",
       "2           <NA>\n",
       "3           <NA>\n",
       "4           <NA>\n",
       "            ... \n",
       "32339409      36\n",
       "32339410      73\n",
       "32339411      20\n",
       "32339412      18\n",
       "32339413      19\n",
       "Name: building_number, Length: 32339414, dtype: object"
      ]
     },
     "execution_count": 9,
     "metadata": {},
     "output_type": "execute_result"
    }
   ],
   "source": [
    "df_final['building_number'] # print this out to see what's happening... "
   ]
  },
  {
   "cell_type": "code",
   "execution_count": 11,
   "id": "12ea0673-f9e7-4f99-8096-38c0a60a084e",
   "metadata": {},
   "outputs": [],
   "source": [
    "# next time I think its less computationally expensive to not do this inplace...\n",
    "# here I am replacing the Nans with e\n",
    "df_final = df_final.replace([np.nan, -np.inf], '')\n"
   ]
  },
  {
   "cell_type": "code",
   "execution_count": 10,
   "id": "b9865e12-8ba6-4f44-8181-a0b1822daa4b",
   "metadata": {},
   "outputs": [],
   "source": [
    "# TODO Next time: add in the replacement for NA (in building number) so that it is just empty string\n",
    "df_final = df_final.replace('<NA>', '')"
   ]
  },
  {
   "cell_type": "code",
   "execution_count": 12,
   "id": "9b1848e9-bd5f-49f7-8d8c-c871fd3a5ca5",
   "metadata": {
    "tags": []
   },
   "outputs": [
    {
     "data": {
      "text/html": [
       "<div>\n",
       "<style scoped>\n",
       "    .dataframe tbody tr th:only-of-type {\n",
       "        vertical-align: middle;\n",
       "    }\n",
       "\n",
       "    .dataframe tbody tr th {\n",
       "        vertical-align: top;\n",
       "    }\n",
       "\n",
       "    .dataframe thead th {\n",
       "        text-align: right;\n",
       "    }\n",
       "</style>\n",
       "<table border=\"1\" class=\"dataframe\">\n",
       "  <thead>\n",
       "    <tr style=\"text-align: right;\">\n",
       "      <th></th>\n",
       "      <th>uprn</th>\n",
       "      <th>class</th>\n",
       "      <th>parent_uprn</th>\n",
       "      <th>latitude</th>\n",
       "      <th>longitude</th>\n",
       "      <th>country</th>\n",
       "      <th>legal_name</th>\n",
       "      <th>sub_building_name</th>\n",
       "      <th>building_name</th>\n",
       "      <th>building_number</th>\n",
       "      <th>...</th>\n",
       "      <th>pao_end_suffix</th>\n",
       "      <th>pao_text</th>\n",
       "      <th>street_description</th>\n",
       "      <th>dependent_locality</th>\n",
       "      <th>locality</th>\n",
       "      <th>town_name</th>\n",
       "      <th>administrative_area</th>\n",
       "      <th>post_town</th>\n",
       "      <th>postcode</th>\n",
       "      <th>postcode_locator</th>\n",
       "    </tr>\n",
       "  </thead>\n",
       "  <tbody>\n",
       "    <tr>\n",
       "      <th>0</th>\n",
       "      <td>10012778289</td>\n",
       "      <td>RD02</td>\n",
       "      <td></td>\n",
       "      <td>54.036005</td>\n",
       "      <td>-2.340833</td>\n",
       "      <td>E</td>\n",
       "      <td></td>\n",
       "      <td></td>\n",
       "      <td></td>\n",
       "      <td></td>\n",
       "      <td>...</td>\n",
       "      <td></td>\n",
       "      <td>SCOUTBER END FARM</td>\n",
       "      <td>OLD OLIVER LANE TO RAGGED HALL</td>\n",
       "      <td></td>\n",
       "      <td>RATHMELL</td>\n",
       "      <td>SETTLE</td>\n",
       "      <td>NORTH YORKSHIRE</td>\n",
       "      <td></td>\n",
       "      <td></td>\n",
       "      <td>BD24 0LP</td>\n",
       "    </tr>\n",
       "    <tr>\n",
       "      <th>1</th>\n",
       "      <td>10013268085</td>\n",
       "      <td>LU01</td>\n",
       "      <td></td>\n",
       "      <td>51.628915</td>\n",
       "      <td>0.471228</td>\n",
       "      <td>E</td>\n",
       "      <td></td>\n",
       "      <td></td>\n",
       "      <td></td>\n",
       "      <td></td>\n",
       "      <td>...</td>\n",
       "      <td></td>\n",
       "      <td>MEEPSWOOD</td>\n",
       "      <td>PARK LANE</td>\n",
       "      <td></td>\n",
       "      <td>RAMSDEN HEATH</td>\n",
       "      <td>CHELMSFORD</td>\n",
       "      <td>ESSEX</td>\n",
       "      <td></td>\n",
       "      <td></td>\n",
       "      <td>CM11 1NN</td>\n",
       "    </tr>\n",
       "    <tr>\n",
       "      <th>2</th>\n",
       "      <td>10013819934</td>\n",
       "      <td>RG02</td>\n",
       "      <td>10013819576.0</td>\n",
       "      <td>54.780687</td>\n",
       "      <td>-1.510651</td>\n",
       "      <td>E</td>\n",
       "      <td></td>\n",
       "      <td></td>\n",
       "      <td></td>\n",
       "      <td></td>\n",
       "      <td>...</td>\n",
       "      <td></td>\n",
       "      <td>GARAGE SITE 53</td>\n",
       "      <td>DOWSEY ROAD</td>\n",
       "      <td></td>\n",
       "      <td></td>\n",
       "      <td>SHERBURN</td>\n",
       "      <td>DURHAM</td>\n",
       "      <td></td>\n",
       "      <td></td>\n",
       "      <td>DH6 1JH</td>\n",
       "    </tr>\n",
       "    <tr>\n",
       "      <th>3</th>\n",
       "      <td>10014205932</td>\n",
       "      <td>PS</td>\n",
       "      <td></td>\n",
       "      <td>51.590568</td>\n",
       "      <td>0.600675</td>\n",
       "      <td>E</td>\n",
       "      <td></td>\n",
       "      <td></td>\n",
       "      <td></td>\n",
       "      <td></td>\n",
       "      <td>...</td>\n",
       "      <td></td>\n",
       "      <td>STREET RECORD</td>\n",
       "      <td>FOOTPATH FROM GLEBE DRIVE TO THE APPROACH</td>\n",
       "      <td></td>\n",
       "      <td></td>\n",
       "      <td>RAYLEIGH</td>\n",
       "      <td>ESSEX</td>\n",
       "      <td></td>\n",
       "      <td></td>\n",
       "      <td>SS6 9HJ</td>\n",
       "    </tr>\n",
       "    <tr>\n",
       "      <th>4</th>\n",
       "      <td>10014309637</td>\n",
       "      <td>RD04</td>\n",
       "      <td>200003655499.0</td>\n",
       "      <td>51.266510</td>\n",
       "      <td>0.497553</td>\n",
       "      <td>E</td>\n",
       "      <td></td>\n",
       "      <td></td>\n",
       "      <td></td>\n",
       "      <td></td>\n",
       "      <td>...</td>\n",
       "      <td></td>\n",
       "      <td></td>\n",
       "      <td>MILTON STREET</td>\n",
       "      <td></td>\n",
       "      <td></td>\n",
       "      <td>MAIDSTONE</td>\n",
       "      <td>KENT</td>\n",
       "      <td></td>\n",
       "      <td></td>\n",
       "      <td>ME16 8LD</td>\n",
       "    </tr>\n",
       "  </tbody>\n",
       "</table>\n",
       "<p>5 rows × 28 columns</p>\n",
       "</div>"
      ],
      "text/plain": [
       "          uprn class     parent_uprn   latitude  longitude country legal_name  \\\n",
       "0  10012778289  RD02                  54.036005  -2.340833       E              \n",
       "1  10013268085  LU01                  51.628915   0.471228       E              \n",
       "2  10013819934  RG02   10013819576.0  54.780687  -1.510651       E              \n",
       "3  10014205932    PS                  51.590568   0.600675       E              \n",
       "4  10014309637  RD04  200003655499.0  51.266510   0.497553       E              \n",
       "\n",
       "  sub_building_name building_name building_number  ... pao_end_suffix  \\\n",
       "0                                                  ...                  \n",
       "1                                                  ...                  \n",
       "2                                                  ...                  \n",
       "3                                                  ...                  \n",
       "4                                                  ...                  \n",
       "\n",
       "            pao_text                         street_description  \\\n",
       "0  SCOUTBER END FARM             OLD OLIVER LANE TO RAGGED HALL   \n",
       "1          MEEPSWOOD                                  PARK LANE   \n",
       "2     GARAGE SITE 53                                DOWSEY ROAD   \n",
       "3      STREET RECORD  FOOTPATH FROM GLEBE DRIVE TO THE APPROACH   \n",
       "4                                                 MILTON STREET   \n",
       "\n",
       "  dependent_locality       locality   town_name administrative_area post_town  \\\n",
       "0                          RATHMELL      SETTLE     NORTH YORKSHIRE             \n",
       "1                     RAMSDEN HEATH  CHELMSFORD               ESSEX             \n",
       "2                                      SHERBURN              DURHAM             \n",
       "3                                      RAYLEIGH               ESSEX             \n",
       "4                                     MAIDSTONE                KENT             \n",
       "\n",
       "  postcode postcode_locator  \n",
       "0                  BD24 0LP  \n",
       "1                  CM11 1NN  \n",
       "2                   DH6 1JH  \n",
       "3                   SS6 9HJ  \n",
       "4                  ME16 8LD  \n",
       "\n",
       "[5 rows x 28 columns]"
      ]
     },
     "execution_count": 12,
     "metadata": {},
     "output_type": "execute_result"
    }
   ],
   "source": [
    "df_final.head()"
   ]
  },
  {
   "cell_type": "code",
   "execution_count": 13,
   "id": "1150c5d4-30d7-43f0-8863-66c290b29d67",
   "metadata": {
    "tags": []
   },
   "outputs": [
    {
     "name": "stdout",
     "output_type": "stream",
     "text": [
      "CPU times: user 1h 2min 15s, sys: 8min 17s, total: 1h 10min 32s\n",
      "Wall time: 1h 49min 32s\n"
     ]
    }
   ],
   "source": [
    "%%time\n",
    "## Add the column that adds parsed string to the entire dataset...\n",
    "df_final['parsed_address'] = df_final.apply(combine_columns, axis = 1)"
   ]
  },
  {
   "cell_type": "code",
   "execution_count": 14,
   "id": "e8df4c4d-008a-434c-8a49-fce41449c246",
   "metadata": {
    "tags": []
   },
   "outputs": [],
   "source": [
    "#data cleaning - #replace nan\n",
    "#df_final = df_final.replace([np.nan, -np.inf], 0)\n",
    "resi_AB = df_final[df_final['class'].str.startswith('R')] \n",
    "other_AB = df_final[df_final['class'].str.startswith('R') == False] "
   ]
  },
  {
   "cell_type": "raw",
   "id": "df34fa5c-7264-4576-981d-4325dacf37a6",
   "metadata": {
    "tags": []
   },
   "source": [
    "resi_AB.head()"
   ]
  },
  {
   "cell_type": "code",
   "execution_count": 18,
   "id": "2edf6c0a-a29f-4110-aadb-712a973c68df",
   "metadata": {
    "tags": []
   },
   "outputs": [
    {
     "ename": "KeyError",
     "evalue": "('sao_start_number', 'sao_start_suffix', 'sao_end_number', 'sao_end_suffix')",
     "output_type": "error",
     "traceback": [
      "\u001b[0;31m---------------------------------------------------------------------------\u001b[0m",
      "\u001b[0;31mKeyError\u001b[0m                                  Traceback (most recent call last)",
      "File \u001b[0;32m~/anaconda3/envs/sds2023/lib/python3.11/site-packages/pandas/core/indexes/base.py:3791\u001b[0m, in \u001b[0;36mIndex.get_loc\u001b[0;34m(self, key)\u001b[0m\n\u001b[1;32m   3790\u001b[0m \u001b[38;5;28;01mtry\u001b[39;00m:\n\u001b[0;32m-> 3791\u001b[0m     \u001b[38;5;28;01mreturn\u001b[39;00m \u001b[38;5;28;43mself\u001b[39;49m\u001b[38;5;241;43m.\u001b[39;49m\u001b[43m_engine\u001b[49m\u001b[38;5;241;43m.\u001b[39;49m\u001b[43mget_loc\u001b[49m\u001b[43m(\u001b[49m\u001b[43mcasted_key\u001b[49m\u001b[43m)\u001b[49m\n\u001b[1;32m   3792\u001b[0m \u001b[38;5;28;01mexcept\u001b[39;00m \u001b[38;5;167;01mKeyError\u001b[39;00m \u001b[38;5;28;01mas\u001b[39;00m err:\n",
      "File \u001b[0;32mindex.pyx:152\u001b[0m, in \u001b[0;36mpandas._libs.index.IndexEngine.get_loc\u001b[0;34m()\u001b[0m\n",
      "File \u001b[0;32mindex.pyx:181\u001b[0m, in \u001b[0;36mpandas._libs.index.IndexEngine.get_loc\u001b[0;34m()\u001b[0m\n",
      "File \u001b[0;32mpandas/_libs/hashtable_class_helper.pxi:7080\u001b[0m, in \u001b[0;36mpandas._libs.hashtable.PyObjectHashTable.get_item\u001b[0;34m()\u001b[0m\n",
      "File \u001b[0;32mpandas/_libs/hashtable_class_helper.pxi:7088\u001b[0m, in \u001b[0;36mpandas._libs.hashtable.PyObjectHashTable.get_item\u001b[0;34m()\u001b[0m\n",
      "\u001b[0;31mKeyError\u001b[0m: ('sao_start_number', 'sao_start_suffix', 'sao_end_number', 'sao_end_suffix')",
      "\nThe above exception was the direct cause of the following exception:\n",
      "\u001b[0;31mKeyError\u001b[0m                                  Traceback (most recent call last)",
      "Cell \u001b[0;32mIn[18], line 1\u001b[0m\n\u001b[0;32m----> 1\u001b[0m \u001b[43mresi_AB\u001b[49m\u001b[43m[\u001b[49m\u001b[43mresi_AB\u001b[49m\u001b[43m[\u001b[49m\u001b[38;5;124;43m'\u001b[39;49m\u001b[38;5;124;43muprn\u001b[39;49m\u001b[38;5;124;43m'\u001b[39;49m\u001b[43m]\u001b[49m\u001b[43m \u001b[49m\u001b[38;5;241;43m==\u001b[39;49m\u001b[43m \u001b[49m\u001b[38;5;241;43m10013819934\u001b[39;49m\u001b[43m]\u001b[49m\u001b[43m[\u001b[49m\u001b[38;5;124;43m'\u001b[39;49m\u001b[38;5;124;43msao_start_number\u001b[39;49m\u001b[38;5;124;43m'\u001b[39;49m\u001b[43m,\u001b[49m\u001b[38;5;124;43m'\u001b[39;49m\u001b[38;5;124;43msao_start_suffix\u001b[39;49m\u001b[38;5;124;43m'\u001b[39;49m\u001b[43m,\u001b[49m\u001b[38;5;124;43m'\u001b[39;49m\u001b[38;5;124;43msao_end_number\u001b[39;49m\u001b[38;5;124;43m'\u001b[39;49m\u001b[43m,\u001b[49m\n\u001b[1;32m      2\u001b[0m \u001b[43m           \u001b[49m\u001b[38;5;124;43m'\u001b[39;49m\u001b[38;5;124;43msao_end_suffix\u001b[39;49m\u001b[38;5;124;43m'\u001b[39;49m\u001b[43m]\u001b[49m\n",
      "File \u001b[0;32m~/anaconda3/envs/sds2023/lib/python3.11/site-packages/pandas/core/frame.py:3893\u001b[0m, in \u001b[0;36mDataFrame.__getitem__\u001b[0;34m(self, key)\u001b[0m\n\u001b[1;32m   3891\u001b[0m \u001b[38;5;28;01mif\u001b[39;00m \u001b[38;5;28mself\u001b[39m\u001b[38;5;241m.\u001b[39mcolumns\u001b[38;5;241m.\u001b[39mnlevels \u001b[38;5;241m>\u001b[39m \u001b[38;5;241m1\u001b[39m:\n\u001b[1;32m   3892\u001b[0m     \u001b[38;5;28;01mreturn\u001b[39;00m \u001b[38;5;28mself\u001b[39m\u001b[38;5;241m.\u001b[39m_getitem_multilevel(key)\n\u001b[0;32m-> 3893\u001b[0m indexer \u001b[38;5;241m=\u001b[39m \u001b[38;5;28;43mself\u001b[39;49m\u001b[38;5;241;43m.\u001b[39;49m\u001b[43mcolumns\u001b[49m\u001b[38;5;241;43m.\u001b[39;49m\u001b[43mget_loc\u001b[49m\u001b[43m(\u001b[49m\u001b[43mkey\u001b[49m\u001b[43m)\u001b[49m\n\u001b[1;32m   3894\u001b[0m \u001b[38;5;28;01mif\u001b[39;00m is_integer(indexer):\n\u001b[1;32m   3895\u001b[0m     indexer \u001b[38;5;241m=\u001b[39m [indexer]\n",
      "File \u001b[0;32m~/anaconda3/envs/sds2023/lib/python3.11/site-packages/pandas/core/indexes/base.py:3798\u001b[0m, in \u001b[0;36mIndex.get_loc\u001b[0;34m(self, key)\u001b[0m\n\u001b[1;32m   3793\u001b[0m     \u001b[38;5;28;01mif\u001b[39;00m \u001b[38;5;28misinstance\u001b[39m(casted_key, \u001b[38;5;28mslice\u001b[39m) \u001b[38;5;129;01mor\u001b[39;00m (\n\u001b[1;32m   3794\u001b[0m         \u001b[38;5;28misinstance\u001b[39m(casted_key, abc\u001b[38;5;241m.\u001b[39mIterable)\n\u001b[1;32m   3795\u001b[0m         \u001b[38;5;129;01mand\u001b[39;00m \u001b[38;5;28many\u001b[39m(\u001b[38;5;28misinstance\u001b[39m(x, \u001b[38;5;28mslice\u001b[39m) \u001b[38;5;28;01mfor\u001b[39;00m x \u001b[38;5;129;01min\u001b[39;00m casted_key)\n\u001b[1;32m   3796\u001b[0m     ):\n\u001b[1;32m   3797\u001b[0m         \u001b[38;5;28;01mraise\u001b[39;00m InvalidIndexError(key)\n\u001b[0;32m-> 3798\u001b[0m     \u001b[38;5;28;01mraise\u001b[39;00m \u001b[38;5;167;01mKeyError\u001b[39;00m(key) \u001b[38;5;28;01mfrom\u001b[39;00m \u001b[38;5;21;01merr\u001b[39;00m\n\u001b[1;32m   3799\u001b[0m \u001b[38;5;28;01mexcept\u001b[39;00m \u001b[38;5;167;01mTypeError\u001b[39;00m:\n\u001b[1;32m   3800\u001b[0m     \u001b[38;5;66;03m# If we have a listlike key, _check_indexing_error will raise\u001b[39;00m\n\u001b[1;32m   3801\u001b[0m     \u001b[38;5;66;03m#  InvalidIndexError. Otherwise we fall through and re-raise\u001b[39;00m\n\u001b[1;32m   3802\u001b[0m     \u001b[38;5;66;03m#  the TypeError.\u001b[39;00m\n\u001b[1;32m   3803\u001b[0m     \u001b[38;5;28mself\u001b[39m\u001b[38;5;241m.\u001b[39m_check_indexing_error(key)\n",
      "\u001b[0;31mKeyError\u001b[0m: ('sao_start_number', 'sao_start_suffix', 'sao_end_number', 'sao_end_suffix')"
     ]
    }
   ],
   "source": [
    "resi_AB[resi_AB['uprn'] == 10013819934]"
   ]
  },
  {
   "cell_type": "code",
   "execution_count": 15,
   "id": "dafe74bd-478c-4cb1-8d6a-eab38f373776",
   "metadata": {
    "tags": []
   },
   "outputs": [
    {
     "data": {
      "text/plain": [
       "'<NA>'"
      ]
     },
     "execution_count": 15,
     "metadata": {},
     "output_type": "execute_result"
    }
   ],
   "source": [
    "#resi_AB.iloc[0].loc['building_number']"
   ]
  },
  {
   "cell_type": "code",
   "execution_count": 19,
   "id": "7d7bf4a1-cc59-4f47-98ae-4c4e6fcc379f",
   "metadata": {},
   "outputs": [],
   "source": [
    "# DATA EXPLORATION - EXPORT CSV IF NEEDED \n",
    "resi_AB.to_csv('resi_AB_cleaned_parsed_110424.csv', index = False)"
   ]
  },
  {
   "cell_type": "code",
   "execution_count": 20,
   "id": "a0ed9f83-231e-4fe7-a395-1eb59939e599",
   "metadata": {},
   "outputs": [],
   "source": [
    "# DATA EXPLORATION - EXPORT CSV IF NEEDED \n",
    "other_AB.to_csv('other_AB_cleaned_parsed_110424.csv', index = False)"
   ]
  },
  {
   "cell_type": "code",
   "execution_count": null,
   "id": "890860e1-d804-4ce1-99af-62ea7deab990",
   "metadata": {},
   "outputs": [],
   "source": [
    "#basically, we want to create an extra column with the address... \n",
    "\"\"\"\n",
    "legal_name                                        0.0\n",
    "sub_building_name                                   0\n",
    "building_name                                       0\n",
    "building_number                                   0.0\n",
    "sao_start_number                                  0.0\n",
    "sao_start_suffix                                    0\n",
    "sao_end_number                                    0.0\n",
    "sao_end_suffix                                      0\n",
    "sao_text                                            0\n",
    "pao_start_number                                  0.0\n",
    "pao_start_suffix                                    0\n",
    "pao_end_number                                    0.0\n",
    "pao_end_suffix                                      0\n",
    "pao_text                            SCOUTBER END FARM\n",
    "street_description     OLD OLIVER LANE TO RAGGED HALL\n",
    "\"\"\""
   ]
  }
 ],
 "metadata": {
  "kernelspec": {
   "display_name": "sds2023",
   "language": "python",
   "name": "sds2023"
  },
  "language_info": {
   "codemirror_mode": {
    "name": "ipython",
    "version": 3
   },
   "file_extension": ".py",
   "mimetype": "text/x-python",
   "name": "python",
   "nbconvert_exporter": "python",
   "pygments_lexer": "ipython3",
   "version": "3.11.7"
  }
 },
 "nbformat": 4,
 "nbformat_minor": 5
}
