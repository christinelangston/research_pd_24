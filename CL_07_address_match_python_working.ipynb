{
 "cells": [
  {
   "cell_type": "code",
   "execution_count": 1,
   "id": "4c500459-056e-402d-a9b8-118a319c50d3",
   "metadata": {},
   "outputs": [],
   "source": [
    "\"\"\" Script to take planning applications and match to OSAddressBase addresses\n",
    "\n",
    "Written by: Christine Langston, April 2024\n",
    "\"\"\"\n",
    "import pandas as pd\n",
    "import time\n",
    "import numpy as np\n",
    "import copy\n",
    "import re"
   ]
  },
  {
   "cell_type": "code",
   "execution_count": 2,
   "id": "91b509a4-72c7-4f63-b2bb-0c53bcbe6e61",
   "metadata": {
    "tags": []
   },
   "outputs": [],
   "source": [
    "#create a function to iterate through csv. use for OSAddressBase file\n",
    "def read_csv(file_name, columns):\n",
    "    for chunk in pd.read_csv(file_name, chunksize=10000, usecols=columns, \n",
    "                            dtype={'urpn':str, 'parent_urpn': str, 'class': str, 'latitude': float, \n",
    "                                                  'longitude': float, 'country': str}):\n",
    "    \n",
    "        #if chunk['country'] == 'E':\n",
    "        yield chunk\n"
   ]
  },
  {
   "cell_type": "code",
   "execution_count": 3,
   "id": "d28e6b8f-8758-4551-9d3b-d271bd6dcb9a",
   "metadata": {
    "tags": []
   },
   "outputs": [],
   "source": [
    "#takes a merged dataset and separates matched addresses and not matched\n",
    "def separate_matches(dataset, column_name, match_strategy):\n",
    "    dataset_match = dataset.drop(dataset[pd.isna(dataset[column_name]) == True].index)\n",
    "    dataset_no_match = dataset.drop(dataset[pd.isna(dataset[column_name]) == False].index)\n",
    "    dataset_match['match_strategy'] = match_strategy\n",
    "    return dataset_match, dataset_no_match"
   ]
  },
  {
   "cell_type": "code",
   "execution_count": 4,
   "id": "09d8c1aa-27ee-4fd2-a82d-8cca7c6d36b1",
   "metadata": {
    "tags": []
   },
   "outputs": [],
   "source": [
    "#function to merge and then split based on if an address was matched  \n",
    "def my_merge(left, right, left_on, right_on): \n",
    "    merged = left.merge(right, how = 'left', left_on = left_on, right_on = right_on)\n",
    "    merged_match = merged.drop(merged[pd.isna(merged['uprn']) == True].index) \n",
    "    merged_no_match = merged.drop(merged[pd.isna(merged['uprn']) == False].index) \n",
    "    return merged_match, merged_no_match"
   ]
  },
  {
   "cell_type": "code",
   "execution_count": 5,
   "id": "9cf1fb83-c0fd-4b58-aaf8-33285672c9d4",
   "metadata": {},
   "outputs": [
    {
     "name": "stdout",
     "output_type": "stream",
     "text": [
      "CPU times: user 4min 50s, sys: 11min 48s, total: 16min 38s\n",
      "Wall time: 29min 58s\n"
     ]
    }
   ],
   "source": [
    "%%time\n",
    "#### READ IN THE DATA IF EXPORTED \n",
    "resi_AB = pd.read_csv('data/resi_AB_cleaned_parsed_110524.csv',na_values = '0', low_memory = False)\n"
   ]
  },
  {
   "cell_type": "code",
   "execution_count": 273,
   "id": "fc15fad0",
   "metadata": {},
   "outputs": [
    {
     "name": "stdout",
     "output_type": "stream",
     "text": [
      "CPU times: user 42.9 s, sys: 18.2 s, total: 1min 1s\n",
      "Wall time: 1min 18s\n"
     ]
    }
   ],
   "source": [
    "%%time\n",
    "other_AB = pd.read_csv('data/other_AB_cleaned_parsed_110524.csv', na_values = '0',low_memory = False)\n",
    "\n"
   ]
  },
  {
   "cell_type": "code",
   "execution_count": 7,
   "id": "28b4f05b",
   "metadata": {},
   "outputs": [],
   "source": [
    "#load in the data that hasn't been matched yet\n",
    "#london_data = pd.read_csv('data/London2_no_match_2603.csv',low_memory = False)\n",
    "#load in the batch 1 no match rate...\n",
    "london_data = pd.read_csv('data/London1_no_match_1903.csv',low_memory = False)\n"
   ]
  },
  {
   "cell_type": "markdown",
   "id": "fc67c32e",
   "metadata": {},
   "source": [
    "Some data cleaning steps to clean up the Nan and numerical data coming from the CSV"
   ]
  },
  {
   "cell_type": "code",
   "execution_count": 290,
   "id": "2b3076b9-5155-4cd9-977d-c3b351496c54",
   "metadata": {
    "tags": []
   },
   "outputs": [
    {
     "ename": "KeyboardInterrupt",
     "evalue": "",
     "output_type": "error",
     "traceback": [
      "\u001b[0;31m---------------------------------------------------------------------------\u001b[0m",
      "\u001b[0;31mKeyboardInterrupt\u001b[0m                         Traceback (most recent call last)",
      "Cell \u001b[0;32mIn[290], line 6\u001b[0m\n\u001b[1;32m      1\u001b[0m \u001b[38;5;66;03m### ------ DATA CLEANING  ----------\u001b[39;00m\n\u001b[1;32m      2\u001b[0m \u001b[38;5;66;03m#edit the parent uprn from OSAddress base to fill out to be strings with 12 digits and leading zeros\u001b[39;00m\n\u001b[1;32m      3\u001b[0m \u001b[38;5;66;03m#replace nan with empty string\u001b[39;00m\n\u001b[1;32m      4\u001b[0m \n\u001b[1;32m      5\u001b[0m \u001b[38;5;66;03m#resi_AB = resi_AB.replace([np.nan, -np.inf], 0)\u001b[39;00m\n\u001b[0;32m----> 6\u001b[0m resi_AB \u001b[38;5;241m=\u001b[39m \u001b[43mresi_AB\u001b[49m\u001b[38;5;241;43m.\u001b[39;49m\u001b[43mreplace\u001b[49m\u001b[43m(\u001b[49m\u001b[43m[\u001b[49m\u001b[43mnp\u001b[49m\u001b[38;5;241;43m.\u001b[39;49m\u001b[43mnan\u001b[49m\u001b[43m,\u001b[49m\u001b[43m \u001b[49m\u001b[38;5;241;43m-\u001b[39;49m\u001b[43mnp\u001b[49m\u001b[38;5;241;43m.\u001b[39;49m\u001b[43minf\u001b[49m\u001b[43m]\u001b[49m\u001b[43m,\u001b[49m\u001b[43m \u001b[49m\u001b[38;5;124;43m'\u001b[39;49m\u001b[38;5;124;43m'\u001b[39;49m\u001b[43m)\u001b[49m\n\u001b[1;32m      9\u001b[0m \u001b[38;5;66;03m#cast as integer\u001b[39;00m\n\u001b[1;32m     10\u001b[0m resi_AB[\u001b[38;5;124m'\u001b[39m\u001b[38;5;124mparent_uprn\u001b[39m\u001b[38;5;124m'\u001b[39m] \u001b[38;5;241m=\u001b[39m resi_AB[\u001b[38;5;124m'\u001b[39m\u001b[38;5;124mparent_uprn\u001b[39m\u001b[38;5;124m'\u001b[39m]\u001b[38;5;241m.\u001b[39mastype(\u001b[38;5;124m'\u001b[39m\u001b[38;5;124mInt64\u001b[39m\u001b[38;5;124m'\u001b[39m)\n",
      "File \u001b[0;32m~/anaconda3/envs/sds2023/lib/python3.11/site-packages/pandas/core/generic.py:7867\u001b[0m, in \u001b[0;36mNDFrame.replace\u001b[0;34m(self, to_replace, value, inplace, limit, regex, method)\u001b[0m\n\u001b[1;32m   7862\u001b[0m     \u001b[38;5;28;01mif\u001b[39;00m \u001b[38;5;28mlen\u001b[39m(to_replace) \u001b[38;5;241m!=\u001b[39m \u001b[38;5;28mlen\u001b[39m(value):\n\u001b[1;32m   7863\u001b[0m         \u001b[38;5;28;01mraise\u001b[39;00m \u001b[38;5;167;01mValueError\u001b[39;00m(\n\u001b[1;32m   7864\u001b[0m             \u001b[38;5;124mf\u001b[39m\u001b[38;5;124m\"\u001b[39m\u001b[38;5;124mReplacement lists must match in length. \u001b[39m\u001b[38;5;124m\"\u001b[39m\n\u001b[1;32m   7865\u001b[0m             \u001b[38;5;124mf\u001b[39m\u001b[38;5;124m\"\u001b[39m\u001b[38;5;124mExpecting \u001b[39m\u001b[38;5;132;01m{\u001b[39;00m\u001b[38;5;28mlen\u001b[39m(to_replace)\u001b[38;5;132;01m}\u001b[39;00m\u001b[38;5;124m got \u001b[39m\u001b[38;5;132;01m{\u001b[39;00m\u001b[38;5;28mlen\u001b[39m(value)\u001b[38;5;132;01m}\u001b[39;00m\u001b[38;5;124m \u001b[39m\u001b[38;5;124m\"\u001b[39m\n\u001b[1;32m   7866\u001b[0m         )\n\u001b[0;32m-> 7867\u001b[0m     new_data \u001b[38;5;241m=\u001b[39m \u001b[38;5;28;43mself\u001b[39;49m\u001b[38;5;241;43m.\u001b[39;49m\u001b[43m_mgr\u001b[49m\u001b[38;5;241;43m.\u001b[39;49m\u001b[43mreplace_list\u001b[49m\u001b[43m(\u001b[49m\n\u001b[1;32m   7868\u001b[0m \u001b[43m        \u001b[49m\u001b[43msrc_list\u001b[49m\u001b[38;5;241;43m=\u001b[39;49m\u001b[43mto_replace\u001b[49m\u001b[43m,\u001b[49m\n\u001b[1;32m   7869\u001b[0m \u001b[43m        \u001b[49m\u001b[43mdest_list\u001b[49m\u001b[38;5;241;43m=\u001b[39;49m\u001b[43mvalue\u001b[49m\u001b[43m,\u001b[49m\n\u001b[1;32m   7870\u001b[0m \u001b[43m        \u001b[49m\u001b[43minplace\u001b[49m\u001b[38;5;241;43m=\u001b[39;49m\u001b[43minplace\u001b[49m\u001b[43m,\u001b[49m\n\u001b[1;32m   7871\u001b[0m \u001b[43m        \u001b[49m\u001b[43mregex\u001b[49m\u001b[38;5;241;43m=\u001b[39;49m\u001b[43mregex\u001b[49m\u001b[43m,\u001b[49m\n\u001b[1;32m   7872\u001b[0m \u001b[43m    \u001b[49m\u001b[43m)\u001b[49m\n\u001b[1;32m   7874\u001b[0m \u001b[38;5;28;01melif\u001b[39;00m to_replace \u001b[38;5;129;01mis\u001b[39;00m \u001b[38;5;28;01mNone\u001b[39;00m:\n\u001b[1;32m   7875\u001b[0m     \u001b[38;5;28;01mif\u001b[39;00m \u001b[38;5;129;01mnot\u001b[39;00m (\n\u001b[1;32m   7876\u001b[0m         is_re_compilable(regex)\n\u001b[1;32m   7877\u001b[0m         \u001b[38;5;129;01mor\u001b[39;00m is_list_like(regex)\n\u001b[1;32m   7878\u001b[0m         \u001b[38;5;129;01mor\u001b[39;00m is_dict_like(regex)\n\u001b[1;32m   7879\u001b[0m     ):\n",
      "File \u001b[0;32m~/anaconda3/envs/sds2023/lib/python3.11/site-packages/pandas/core/internals/base.py:253\u001b[0m, in \u001b[0;36mDataManager.replace_list\u001b[0;34m(self, src_list, dest_list, inplace, regex)\u001b[0m\n\u001b[1;32m    250\u001b[0m \u001b[38;5;250m\u001b[39m\u001b[38;5;124;03m\"\"\"do a list replace\"\"\"\u001b[39;00m\n\u001b[1;32m    251\u001b[0m inplace \u001b[38;5;241m=\u001b[39m validate_bool_kwarg(inplace, \u001b[38;5;124m\"\u001b[39m\u001b[38;5;124minplace\u001b[39m\u001b[38;5;124m\"\u001b[39m)\n\u001b[0;32m--> 253\u001b[0m bm \u001b[38;5;241m=\u001b[39m \u001b[38;5;28;43mself\u001b[39;49m\u001b[38;5;241;43m.\u001b[39;49m\u001b[43mapply_with_block\u001b[49m\u001b[43m(\u001b[49m\n\u001b[1;32m    254\u001b[0m \u001b[43m    \u001b[49m\u001b[38;5;124;43m\"\u001b[39;49m\u001b[38;5;124;43mreplace_list\u001b[39;49m\u001b[38;5;124;43m\"\u001b[39;49m\u001b[43m,\u001b[49m\n\u001b[1;32m    255\u001b[0m \u001b[43m    \u001b[49m\u001b[43msrc_list\u001b[49m\u001b[38;5;241;43m=\u001b[39;49m\u001b[43msrc_list\u001b[49m\u001b[43m,\u001b[49m\n\u001b[1;32m    256\u001b[0m \u001b[43m    \u001b[49m\u001b[43mdest_list\u001b[49m\u001b[38;5;241;43m=\u001b[39;49m\u001b[43mdest_list\u001b[49m\u001b[43m,\u001b[49m\n\u001b[1;32m    257\u001b[0m \u001b[43m    \u001b[49m\u001b[43minplace\u001b[49m\u001b[38;5;241;43m=\u001b[39;49m\u001b[43minplace\u001b[49m\u001b[43m,\u001b[49m\n\u001b[1;32m    258\u001b[0m \u001b[43m    \u001b[49m\u001b[43mregex\u001b[49m\u001b[38;5;241;43m=\u001b[39;49m\u001b[43mregex\u001b[49m\u001b[43m,\u001b[49m\n\u001b[1;32m    259\u001b[0m \u001b[43m    \u001b[49m\u001b[43musing_cow\u001b[49m\u001b[38;5;241;43m=\u001b[39;49m\u001b[43musing_copy_on_write\u001b[49m\u001b[43m(\u001b[49m\u001b[43m)\u001b[49m\u001b[43m,\u001b[49m\n\u001b[1;32m    260\u001b[0m \u001b[43m\u001b[49m\u001b[43m)\u001b[49m\n\u001b[1;32m    261\u001b[0m bm\u001b[38;5;241m.\u001b[39m_consolidate_inplace()\n\u001b[1;32m    262\u001b[0m \u001b[38;5;28;01mreturn\u001b[39;00m bm\n",
      "File \u001b[0;32m~/anaconda3/envs/sds2023/lib/python3.11/site-packages/pandas/core/internals/managers.py:354\u001b[0m, in \u001b[0;36mBaseBlockManager.apply\u001b[0;34m(self, f, align_keys, **kwargs)\u001b[0m\n\u001b[1;32m    352\u001b[0m         applied \u001b[38;5;241m=\u001b[39m b\u001b[38;5;241m.\u001b[39mapply(f, \u001b[38;5;241m*\u001b[39m\u001b[38;5;241m*\u001b[39mkwargs)\n\u001b[1;32m    353\u001b[0m     \u001b[38;5;28;01melse\u001b[39;00m:\n\u001b[0;32m--> 354\u001b[0m         applied \u001b[38;5;241m=\u001b[39m \u001b[38;5;28;43mgetattr\u001b[39;49m\u001b[43m(\u001b[49m\u001b[43mb\u001b[49m\u001b[43m,\u001b[49m\u001b[43m \u001b[49m\u001b[43mf\u001b[49m\u001b[43m)\u001b[49m\u001b[43m(\u001b[49m\u001b[38;5;241;43m*\u001b[39;49m\u001b[38;5;241;43m*\u001b[39;49m\u001b[43mkwargs\u001b[49m\u001b[43m)\u001b[49m\n\u001b[1;32m    355\u001b[0m     result_blocks \u001b[38;5;241m=\u001b[39m extend_blocks(applied, result_blocks)\n\u001b[1;32m    357\u001b[0m out \u001b[38;5;241m=\u001b[39m \u001b[38;5;28mtype\u001b[39m(\u001b[38;5;28mself\u001b[39m)\u001b[38;5;241m.\u001b[39mfrom_blocks(result_blocks, \u001b[38;5;28mself\u001b[39m\u001b[38;5;241m.\u001b[39maxes)\n",
      "File \u001b[0;32m~/anaconda3/envs/sds2023/lib/python3.11/site-packages/pandas/core/internals/blocks.py:847\u001b[0m, in \u001b[0;36mBlock.replace_list\u001b[0;34m(self, src_list, dest_list, inplace, regex, using_cow)\u001b[0m\n\u001b[1;32m    842\u001b[0m src_len \u001b[38;5;241m=\u001b[39m \u001b[38;5;28mlen\u001b[39m(pairs) \u001b[38;5;241m-\u001b[39m \u001b[38;5;241m1\u001b[39m\n\u001b[1;32m    844\u001b[0m \u001b[38;5;28;01mif\u001b[39;00m is_string_dtype(values\u001b[38;5;241m.\u001b[39mdtype):\n\u001b[1;32m    845\u001b[0m     \u001b[38;5;66;03m# Calculate the mask once, prior to the call of comp\u001b[39;00m\n\u001b[1;32m    846\u001b[0m     \u001b[38;5;66;03m# in order to avoid repeating the same computations\u001b[39;00m\n\u001b[0;32m--> 847\u001b[0m     na_mask \u001b[38;5;241m=\u001b[39m \u001b[38;5;241m~\u001b[39m\u001b[43misna\u001b[49m\u001b[43m(\u001b[49m\u001b[43mvalues\u001b[49m\u001b[43m)\u001b[49m\n\u001b[1;32m    848\u001b[0m     masks: Iterable[npt\u001b[38;5;241m.\u001b[39mNDArray[np\u001b[38;5;241m.\u001b[39mbool_]] \u001b[38;5;241m=\u001b[39m (\n\u001b[1;32m    849\u001b[0m         extract_bool_array(\n\u001b[1;32m    850\u001b[0m             cast(\n\u001b[0;32m   (...)\u001b[0m\n\u001b[1;32m    857\u001b[0m         \u001b[38;5;28;01mfor\u001b[39;00m s \u001b[38;5;129;01min\u001b[39;00m pairs\n\u001b[1;32m    858\u001b[0m     )\n\u001b[1;32m    859\u001b[0m \u001b[38;5;28;01melse\u001b[39;00m:\n\u001b[1;32m    860\u001b[0m     \u001b[38;5;66;03m# GH#38086 faster if we know we dont need to check for regex\u001b[39;00m\n",
      "File \u001b[0;32m~/anaconda3/envs/sds2023/lib/python3.11/site-packages/pandas/core/dtypes/missing.py:178\u001b[0m, in \u001b[0;36misna\u001b[0;34m(obj)\u001b[0m\n\u001b[1;32m    101\u001b[0m \u001b[38;5;28;01mdef\u001b[39;00m \u001b[38;5;21misna\u001b[39m(obj: \u001b[38;5;28mobject\u001b[39m) \u001b[38;5;241m-\u001b[39m\u001b[38;5;241m>\u001b[39m \u001b[38;5;28mbool\u001b[39m \u001b[38;5;241m|\u001b[39m npt\u001b[38;5;241m.\u001b[39mNDArray[np\u001b[38;5;241m.\u001b[39mbool_] \u001b[38;5;241m|\u001b[39m NDFrame:\n\u001b[1;32m    102\u001b[0m \u001b[38;5;250m    \u001b[39m\u001b[38;5;124;03m\"\"\"\u001b[39;00m\n\u001b[1;32m    103\u001b[0m \u001b[38;5;124;03m    Detect missing values for an array-like object.\u001b[39;00m\n\u001b[1;32m    104\u001b[0m \n\u001b[0;32m   (...)\u001b[0m\n\u001b[1;32m    176\u001b[0m \u001b[38;5;124;03m    Name: 1, dtype: bool\u001b[39;00m\n\u001b[1;32m    177\u001b[0m \u001b[38;5;124;03m    \"\"\"\u001b[39;00m\n\u001b[0;32m--> 178\u001b[0m     \u001b[38;5;28;01mreturn\u001b[39;00m \u001b[43m_isna\u001b[49m\u001b[43m(\u001b[49m\u001b[43mobj\u001b[49m\u001b[43m)\u001b[49m\n",
      "File \u001b[0;32m~/anaconda3/envs/sds2023/lib/python3.11/site-packages/pandas/core/dtypes/missing.py:207\u001b[0m, in \u001b[0;36m_isna\u001b[0;34m(obj, inf_as_na)\u001b[0m\n\u001b[1;32m    205\u001b[0m     \u001b[38;5;28;01mreturn\u001b[39;00m \u001b[38;5;28;01mFalse\u001b[39;00m\n\u001b[1;32m    206\u001b[0m \u001b[38;5;28;01melif\u001b[39;00m \u001b[38;5;28misinstance\u001b[39m(obj, (np\u001b[38;5;241m.\u001b[39mndarray, ABCExtensionArray)):\n\u001b[0;32m--> 207\u001b[0m     \u001b[38;5;28;01mreturn\u001b[39;00m \u001b[43m_isna_array\u001b[49m\u001b[43m(\u001b[49m\u001b[43mobj\u001b[49m\u001b[43m,\u001b[49m\u001b[43m \u001b[49m\u001b[43minf_as_na\u001b[49m\u001b[38;5;241;43m=\u001b[39;49m\u001b[43minf_as_na\u001b[49m\u001b[43m)\u001b[49m\n\u001b[1;32m    208\u001b[0m \u001b[38;5;28;01melif\u001b[39;00m \u001b[38;5;28misinstance\u001b[39m(obj, ABCIndex):\n\u001b[1;32m    209\u001b[0m     \u001b[38;5;66;03m# Try to use cached isna, which also short-circuits for integer dtypes\u001b[39;00m\n\u001b[1;32m    210\u001b[0m     \u001b[38;5;66;03m#  and avoids materializing RangeIndex._values\u001b[39;00m\n\u001b[1;32m    211\u001b[0m     \u001b[38;5;28;01mif\u001b[39;00m \u001b[38;5;129;01mnot\u001b[39;00m obj\u001b[38;5;241m.\u001b[39m_can_hold_na:\n",
      "File \u001b[0;32m~/anaconda3/envs/sds2023/lib/python3.11/site-packages/pandas/core/dtypes/missing.py:292\u001b[0m, in \u001b[0;36m_isna_array\u001b[0;34m(values, inf_as_na)\u001b[0m\n\u001b[1;32m    290\u001b[0m     result \u001b[38;5;241m=\u001b[39m _isna_recarray_dtype(values, inf_as_na\u001b[38;5;241m=\u001b[39minf_as_na)\n\u001b[1;32m    291\u001b[0m \u001b[38;5;28;01melif\u001b[39;00m is_string_or_object_np_dtype(values\u001b[38;5;241m.\u001b[39mdtype):\n\u001b[0;32m--> 292\u001b[0m     result \u001b[38;5;241m=\u001b[39m \u001b[43m_isna_string_dtype\u001b[49m\u001b[43m(\u001b[49m\u001b[43mvalues\u001b[49m\u001b[43m,\u001b[49m\u001b[43m \u001b[49m\u001b[43minf_as_na\u001b[49m\u001b[38;5;241;43m=\u001b[39;49m\u001b[43minf_as_na\u001b[49m\u001b[43m)\u001b[49m\n\u001b[1;32m    293\u001b[0m \u001b[38;5;28;01melif\u001b[39;00m dtype\u001b[38;5;241m.\u001b[39mkind \u001b[38;5;129;01min\u001b[39;00m \u001b[38;5;124m\"\u001b[39m\u001b[38;5;124mmM\u001b[39m\u001b[38;5;124m\"\u001b[39m:\n\u001b[1;32m    294\u001b[0m     \u001b[38;5;66;03m# this is the NaT pattern\u001b[39;00m\n\u001b[1;32m    295\u001b[0m     result \u001b[38;5;241m=\u001b[39m values\u001b[38;5;241m.\u001b[39mview(\u001b[38;5;124m\"\u001b[39m\u001b[38;5;124mi8\u001b[39m\u001b[38;5;124m\"\u001b[39m) \u001b[38;5;241m==\u001b[39m iNaT\n",
      "File \u001b[0;32m~/anaconda3/envs/sds2023/lib/python3.11/site-packages/pandas/core/dtypes/missing.py:313\u001b[0m, in \u001b[0;36m_isna_string_dtype\u001b[0;34m(values, inf_as_na)\u001b[0m\n\u001b[1;32m    311\u001b[0m \u001b[38;5;28;01melse\u001b[39;00m:\n\u001b[1;32m    312\u001b[0m     \u001b[38;5;28;01mif\u001b[39;00m values\u001b[38;5;241m.\u001b[39mndim \u001b[38;5;129;01min\u001b[39;00m {\u001b[38;5;241m1\u001b[39m, \u001b[38;5;241m2\u001b[39m}:\n\u001b[0;32m--> 313\u001b[0m         result \u001b[38;5;241m=\u001b[39m \u001b[43mlibmissing\u001b[49m\u001b[38;5;241;43m.\u001b[39;49m\u001b[43misnaobj\u001b[49m\u001b[43m(\u001b[49m\u001b[43mvalues\u001b[49m\u001b[43m,\u001b[49m\u001b[43m \u001b[49m\u001b[43minf_as_na\u001b[49m\u001b[38;5;241;43m=\u001b[39;49m\u001b[43minf_as_na\u001b[49m\u001b[43m)\u001b[49m\n\u001b[1;32m    314\u001b[0m     \u001b[38;5;28;01melse\u001b[39;00m:\n\u001b[1;32m    315\u001b[0m         \u001b[38;5;66;03m# 0-D, reached via e.g. mask_missing\u001b[39;00m\n\u001b[1;32m    316\u001b[0m         result \u001b[38;5;241m=\u001b[39m libmissing\u001b[38;5;241m.\u001b[39misnaobj(values\u001b[38;5;241m.\u001b[39mravel(), inf_as_na\u001b[38;5;241m=\u001b[39minf_as_na)\n",
      "\u001b[0;31mKeyboardInterrupt\u001b[0m: "
     ]
    }
   ],
   "source": [
    "### ------ DATA CLEANING  ----------\n",
    "#edit the parent uprn from OSAddress base to fill out to be strings with 12 digits and leading zeros\n",
    "#replace nan with empty string\n",
    "\n",
    "#resi_AB = resi_AB.replace([np.nan, -np.inf], 0)\n",
    "resi_AB = resi_AB.replace([np.nan, -np.inf], '')\n",
    "\n",
    "\n",
    "#cast as integer\n",
    "resi_AB['parent_uprn'] = resi_AB['parent_uprn'].astype('Int64')\n",
    "resi_AB['uprn'] = resi_AB['uprn'].astype('Int64')\n"
   ]
  },
  {
   "cell_type": "code",
   "execution_count": 9,
   "id": "0016326f-51fd-43ab-b3ff-2b4a02a5ddb4",
   "metadata": {
    "tags": []
   },
   "outputs": [],
   "source": [
    "### ------ DATA CLEANING  ----------\n",
    "#cast as string \n",
    "resi_AB['parent_uprn'] = resi_AB['parent_uprn'].astype(str)\n",
    "resi_AB['uprn'] = resi_AB['uprn'].astype(str)\n",
    "\n",
    "#fill in with left side padding zeros \n",
    "resi_AB['parent_uprn'] = resi_AB['parent_uprn'].apply(lambda x: '{0:0>12}'.format(x))\n",
    "resi_AB['uprn'] = resi_AB['uprn'].apply(lambda x: '{0:0>12}'.format(x))\n"
   ]
  },
  {
   "cell_type": "code",
   "execution_count": 326,
   "id": "8163f510",
   "metadata": {},
   "outputs": [
    {
     "ename": "ValueError",
     "evalue": "invalid literal for int() with base 10: ''",
     "output_type": "error",
     "traceback": [
      "\u001b[0;31m---------------------------------------------------------------------------\u001b[0m",
      "\u001b[0;31mTypeError\u001b[0m                                 Traceback (most recent call last)",
      "File \u001b[0;32m~/anaconda3/envs/sds2023/lib/python3.11/site-packages/pandas/core/arrays/integer.py:51\u001b[0m, in \u001b[0;36mIntegerDtype._safe_cast\u001b[0;34m(cls, values, dtype, copy)\u001b[0m\n\u001b[1;32m     50\u001b[0m \u001b[38;5;28;01mtry\u001b[39;00m:\n\u001b[0;32m---> 51\u001b[0m     \u001b[38;5;28;01mreturn\u001b[39;00m \u001b[43mvalues\u001b[49m\u001b[38;5;241;43m.\u001b[39;49m\u001b[43mastype\u001b[49m\u001b[43m(\u001b[49m\u001b[43mdtype\u001b[49m\u001b[43m,\u001b[49m\u001b[43m \u001b[49m\u001b[43mcasting\u001b[49m\u001b[38;5;241;43m=\u001b[39;49m\u001b[38;5;124;43m\"\u001b[39;49m\u001b[38;5;124;43msafe\u001b[39;49m\u001b[38;5;124;43m\"\u001b[39;49m\u001b[43m,\u001b[49m\u001b[43m \u001b[49m\u001b[43mcopy\u001b[49m\u001b[38;5;241;43m=\u001b[39;49m\u001b[43mcopy\u001b[49m\u001b[43m)\u001b[49m\n\u001b[1;32m     52\u001b[0m \u001b[38;5;28;01mexcept\u001b[39;00m \u001b[38;5;167;01mTypeError\u001b[39;00m \u001b[38;5;28;01mas\u001b[39;00m err:\n",
      "\u001b[0;31mTypeError\u001b[0m: Cannot cast array data from dtype('O') to dtype('int64') according to the rule 'safe'",
      "\nDuring handling of the above exception, another exception occurred:\n",
      "\u001b[0;31mValueError\u001b[0m                                Traceback (most recent call last)",
      "Cell \u001b[0;32mIn[326], line 7\u001b[0m\n\u001b[1;32m      2\u001b[0m other_AB \u001b[38;5;241m=\u001b[39m other_AB\u001b[38;5;241m.\u001b[39mreplace([np\u001b[38;5;241m.\u001b[39mnan, \u001b[38;5;241m-\u001b[39mnp\u001b[38;5;241m.\u001b[39minf], \u001b[38;5;241m0\u001b[39m)\n\u001b[1;32m      3\u001b[0m \u001b[38;5;66;03m#other_AB = other_AB.replace([np.nan, -np.inf], '')\u001b[39;00m\n\u001b[1;32m      4\u001b[0m \n\u001b[1;32m      5\u001b[0m \n\u001b[1;32m      6\u001b[0m \u001b[38;5;66;03m#cast as integer\u001b[39;00m\n\u001b[0;32m----> 7\u001b[0m other_AB[\u001b[38;5;124m'\u001b[39m\u001b[38;5;124mparent_uprn\u001b[39m\u001b[38;5;124m'\u001b[39m] \u001b[38;5;241m=\u001b[39m \u001b[43mother_AB\u001b[49m\u001b[43m[\u001b[49m\u001b[38;5;124;43m'\u001b[39;49m\u001b[38;5;124;43mparent_uprn\u001b[39;49m\u001b[38;5;124;43m'\u001b[39;49m\u001b[43m]\u001b[49m\u001b[38;5;241;43m.\u001b[39;49m\u001b[43mastype\u001b[49m\u001b[43m(\u001b[49m\u001b[38;5;124;43m'\u001b[39;49m\u001b[38;5;124;43mInt64\u001b[39;49m\u001b[38;5;124;43m'\u001b[39;49m\u001b[43m)\u001b[49m\n\u001b[1;32m      8\u001b[0m other_AB[\u001b[38;5;124m'\u001b[39m\u001b[38;5;124muprn\u001b[39m\u001b[38;5;124m'\u001b[39m] \u001b[38;5;241m=\u001b[39m other_AB[\u001b[38;5;124m'\u001b[39m\u001b[38;5;124muprn\u001b[39m\u001b[38;5;124m'\u001b[39m]\u001b[38;5;241m.\u001b[39mastype(\u001b[38;5;124m'\u001b[39m\u001b[38;5;124mInt64\u001b[39m\u001b[38;5;124m'\u001b[39m)\n",
      "File \u001b[0;32m~/anaconda3/envs/sds2023/lib/python3.11/site-packages/pandas/core/generic.py:6534\u001b[0m, in \u001b[0;36mNDFrame.astype\u001b[0;34m(self, dtype, copy, errors)\u001b[0m\n\u001b[1;32m   6530\u001b[0m     results \u001b[38;5;241m=\u001b[39m [ser\u001b[38;5;241m.\u001b[39mastype(dtype, copy\u001b[38;5;241m=\u001b[39mcopy) \u001b[38;5;28;01mfor\u001b[39;00m _, ser \u001b[38;5;129;01min\u001b[39;00m \u001b[38;5;28mself\u001b[39m\u001b[38;5;241m.\u001b[39mitems()]\n\u001b[1;32m   6532\u001b[0m \u001b[38;5;28;01melse\u001b[39;00m:\n\u001b[1;32m   6533\u001b[0m     \u001b[38;5;66;03m# else, only a single dtype is given\u001b[39;00m\n\u001b[0;32m-> 6534\u001b[0m     new_data \u001b[38;5;241m=\u001b[39m \u001b[38;5;28;43mself\u001b[39;49m\u001b[38;5;241;43m.\u001b[39;49m\u001b[43m_mgr\u001b[49m\u001b[38;5;241;43m.\u001b[39;49m\u001b[43mastype\u001b[49m\u001b[43m(\u001b[49m\u001b[43mdtype\u001b[49m\u001b[38;5;241;43m=\u001b[39;49m\u001b[43mdtype\u001b[49m\u001b[43m,\u001b[49m\u001b[43m \u001b[49m\u001b[43mcopy\u001b[49m\u001b[38;5;241;43m=\u001b[39;49m\u001b[43mcopy\u001b[49m\u001b[43m,\u001b[49m\u001b[43m \u001b[49m\u001b[43merrors\u001b[49m\u001b[38;5;241;43m=\u001b[39;49m\u001b[43merrors\u001b[49m\u001b[43m)\u001b[49m\n\u001b[1;32m   6535\u001b[0m     res \u001b[38;5;241m=\u001b[39m \u001b[38;5;28mself\u001b[39m\u001b[38;5;241m.\u001b[39m_constructor_from_mgr(new_data, axes\u001b[38;5;241m=\u001b[39mnew_data\u001b[38;5;241m.\u001b[39maxes)\n\u001b[1;32m   6536\u001b[0m     \u001b[38;5;28;01mreturn\u001b[39;00m res\u001b[38;5;241m.\u001b[39m__finalize__(\u001b[38;5;28mself\u001b[39m, method\u001b[38;5;241m=\u001b[39m\u001b[38;5;124m\"\u001b[39m\u001b[38;5;124mastype\u001b[39m\u001b[38;5;124m\"\u001b[39m)\n",
      "File \u001b[0;32m~/anaconda3/envs/sds2023/lib/python3.11/site-packages/pandas/core/internals/managers.py:414\u001b[0m, in \u001b[0;36mBaseBlockManager.astype\u001b[0;34m(self, dtype, copy, errors)\u001b[0m\n\u001b[1;32m    411\u001b[0m \u001b[38;5;28;01melif\u001b[39;00m using_copy_on_write():\n\u001b[1;32m    412\u001b[0m     copy \u001b[38;5;241m=\u001b[39m \u001b[38;5;28;01mFalse\u001b[39;00m\n\u001b[0;32m--> 414\u001b[0m \u001b[38;5;28;01mreturn\u001b[39;00m \u001b[38;5;28;43mself\u001b[39;49m\u001b[38;5;241;43m.\u001b[39;49m\u001b[43mapply\u001b[49m\u001b[43m(\u001b[49m\n\u001b[1;32m    415\u001b[0m \u001b[43m    \u001b[49m\u001b[38;5;124;43m\"\u001b[39;49m\u001b[38;5;124;43mastype\u001b[39;49m\u001b[38;5;124;43m\"\u001b[39;49m\u001b[43m,\u001b[49m\n\u001b[1;32m    416\u001b[0m \u001b[43m    \u001b[49m\u001b[43mdtype\u001b[49m\u001b[38;5;241;43m=\u001b[39;49m\u001b[43mdtype\u001b[49m\u001b[43m,\u001b[49m\n\u001b[1;32m    417\u001b[0m \u001b[43m    \u001b[49m\u001b[43mcopy\u001b[49m\u001b[38;5;241;43m=\u001b[39;49m\u001b[43mcopy\u001b[49m\u001b[43m,\u001b[49m\n\u001b[1;32m    418\u001b[0m \u001b[43m    \u001b[49m\u001b[43merrors\u001b[49m\u001b[38;5;241;43m=\u001b[39;49m\u001b[43merrors\u001b[49m\u001b[43m,\u001b[49m\n\u001b[1;32m    419\u001b[0m \u001b[43m    \u001b[49m\u001b[43musing_cow\u001b[49m\u001b[38;5;241;43m=\u001b[39;49m\u001b[43musing_copy_on_write\u001b[49m\u001b[43m(\u001b[49m\u001b[43m)\u001b[49m\u001b[43m,\u001b[49m\n\u001b[1;32m    420\u001b[0m \u001b[43m\u001b[49m\u001b[43m)\u001b[49m\n",
      "File \u001b[0;32m~/anaconda3/envs/sds2023/lib/python3.11/site-packages/pandas/core/internals/managers.py:354\u001b[0m, in \u001b[0;36mBaseBlockManager.apply\u001b[0;34m(self, f, align_keys, **kwargs)\u001b[0m\n\u001b[1;32m    352\u001b[0m         applied \u001b[38;5;241m=\u001b[39m b\u001b[38;5;241m.\u001b[39mapply(f, \u001b[38;5;241m*\u001b[39m\u001b[38;5;241m*\u001b[39mkwargs)\n\u001b[1;32m    353\u001b[0m     \u001b[38;5;28;01melse\u001b[39;00m:\n\u001b[0;32m--> 354\u001b[0m         applied \u001b[38;5;241m=\u001b[39m \u001b[38;5;28;43mgetattr\u001b[39;49m\u001b[43m(\u001b[49m\u001b[43mb\u001b[49m\u001b[43m,\u001b[49m\u001b[43m \u001b[49m\u001b[43mf\u001b[49m\u001b[43m)\u001b[49m\u001b[43m(\u001b[49m\u001b[38;5;241;43m*\u001b[39;49m\u001b[38;5;241;43m*\u001b[39;49m\u001b[43mkwargs\u001b[49m\u001b[43m)\u001b[49m\n\u001b[1;32m    355\u001b[0m     result_blocks \u001b[38;5;241m=\u001b[39m extend_blocks(applied, result_blocks)\n\u001b[1;32m    357\u001b[0m out \u001b[38;5;241m=\u001b[39m \u001b[38;5;28mtype\u001b[39m(\u001b[38;5;28mself\u001b[39m)\u001b[38;5;241m.\u001b[39mfrom_blocks(result_blocks, \u001b[38;5;28mself\u001b[39m\u001b[38;5;241m.\u001b[39maxes)\n",
      "File \u001b[0;32m~/anaconda3/envs/sds2023/lib/python3.11/site-packages/pandas/core/internals/blocks.py:616\u001b[0m, in \u001b[0;36mBlock.astype\u001b[0;34m(self, dtype, copy, errors, using_cow)\u001b[0m\n\u001b[1;32m    596\u001b[0m \u001b[38;5;250m\u001b[39m\u001b[38;5;124;03m\"\"\"\u001b[39;00m\n\u001b[1;32m    597\u001b[0m \u001b[38;5;124;03mCoerce to the new dtype.\u001b[39;00m\n\u001b[1;32m    598\u001b[0m \n\u001b[0;32m   (...)\u001b[0m\n\u001b[1;32m    612\u001b[0m \u001b[38;5;124;03mBlock\u001b[39;00m\n\u001b[1;32m    613\u001b[0m \u001b[38;5;124;03m\"\"\"\u001b[39;00m\n\u001b[1;32m    614\u001b[0m values \u001b[38;5;241m=\u001b[39m \u001b[38;5;28mself\u001b[39m\u001b[38;5;241m.\u001b[39mvalues\n\u001b[0;32m--> 616\u001b[0m new_values \u001b[38;5;241m=\u001b[39m \u001b[43mastype_array_safe\u001b[49m\u001b[43m(\u001b[49m\u001b[43mvalues\u001b[49m\u001b[43m,\u001b[49m\u001b[43m \u001b[49m\u001b[43mdtype\u001b[49m\u001b[43m,\u001b[49m\u001b[43m \u001b[49m\u001b[43mcopy\u001b[49m\u001b[38;5;241;43m=\u001b[39;49m\u001b[43mcopy\u001b[49m\u001b[43m,\u001b[49m\u001b[43m \u001b[49m\u001b[43merrors\u001b[49m\u001b[38;5;241;43m=\u001b[39;49m\u001b[43merrors\u001b[49m\u001b[43m)\u001b[49m\n\u001b[1;32m    618\u001b[0m new_values \u001b[38;5;241m=\u001b[39m maybe_coerce_values(new_values)\n\u001b[1;32m    620\u001b[0m refs \u001b[38;5;241m=\u001b[39m \u001b[38;5;28;01mNone\u001b[39;00m\n",
      "File \u001b[0;32m~/anaconda3/envs/sds2023/lib/python3.11/site-packages/pandas/core/dtypes/astype.py:238\u001b[0m, in \u001b[0;36mastype_array_safe\u001b[0;34m(values, dtype, copy, errors)\u001b[0m\n\u001b[1;32m    235\u001b[0m     dtype \u001b[38;5;241m=\u001b[39m dtype\u001b[38;5;241m.\u001b[39mnumpy_dtype\n\u001b[1;32m    237\u001b[0m \u001b[38;5;28;01mtry\u001b[39;00m:\n\u001b[0;32m--> 238\u001b[0m     new_values \u001b[38;5;241m=\u001b[39m \u001b[43mastype_array\u001b[49m\u001b[43m(\u001b[49m\u001b[43mvalues\u001b[49m\u001b[43m,\u001b[49m\u001b[43m \u001b[49m\u001b[43mdtype\u001b[49m\u001b[43m,\u001b[49m\u001b[43m \u001b[49m\u001b[43mcopy\u001b[49m\u001b[38;5;241;43m=\u001b[39;49m\u001b[43mcopy\u001b[49m\u001b[43m)\u001b[49m\n\u001b[1;32m    239\u001b[0m \u001b[38;5;28;01mexcept\u001b[39;00m (\u001b[38;5;167;01mValueError\u001b[39;00m, \u001b[38;5;167;01mTypeError\u001b[39;00m):\n\u001b[1;32m    240\u001b[0m     \u001b[38;5;66;03m# e.g. _astype_nansafe can fail on object-dtype of strings\u001b[39;00m\n\u001b[1;32m    241\u001b[0m     \u001b[38;5;66;03m#  trying to convert to float\u001b[39;00m\n\u001b[1;32m    242\u001b[0m     \u001b[38;5;28;01mif\u001b[39;00m errors \u001b[38;5;241m==\u001b[39m \u001b[38;5;124m\"\u001b[39m\u001b[38;5;124mignore\u001b[39m\u001b[38;5;124m\"\u001b[39m:\n",
      "File \u001b[0;32m~/anaconda3/envs/sds2023/lib/python3.11/site-packages/pandas/core/dtypes/astype.py:183\u001b[0m, in \u001b[0;36mastype_array\u001b[0;34m(values, dtype, copy)\u001b[0m\n\u001b[1;32m    180\u001b[0m     values \u001b[38;5;241m=\u001b[39m values\u001b[38;5;241m.\u001b[39mastype(dtype, copy\u001b[38;5;241m=\u001b[39mcopy)\n\u001b[1;32m    182\u001b[0m \u001b[38;5;28;01melse\u001b[39;00m:\n\u001b[0;32m--> 183\u001b[0m     values \u001b[38;5;241m=\u001b[39m \u001b[43m_astype_nansafe\u001b[49m\u001b[43m(\u001b[49m\u001b[43mvalues\u001b[49m\u001b[43m,\u001b[49m\u001b[43m \u001b[49m\u001b[43mdtype\u001b[49m\u001b[43m,\u001b[49m\u001b[43m \u001b[49m\u001b[43mcopy\u001b[49m\u001b[38;5;241;43m=\u001b[39;49m\u001b[43mcopy\u001b[49m\u001b[43m)\u001b[49m\n\u001b[1;32m    185\u001b[0m \u001b[38;5;66;03m# in pandas we don't store numpy str dtypes, so convert to object\u001b[39;00m\n\u001b[1;32m    186\u001b[0m \u001b[38;5;28;01mif\u001b[39;00m \u001b[38;5;28misinstance\u001b[39m(dtype, np\u001b[38;5;241m.\u001b[39mdtype) \u001b[38;5;129;01mand\u001b[39;00m \u001b[38;5;28missubclass\u001b[39m(values\u001b[38;5;241m.\u001b[39mdtype\u001b[38;5;241m.\u001b[39mtype, \u001b[38;5;28mstr\u001b[39m):\n",
      "File \u001b[0;32m~/anaconda3/envs/sds2023/lib/python3.11/site-packages/pandas/core/dtypes/astype.py:80\u001b[0m, in \u001b[0;36m_astype_nansafe\u001b[0;34m(arr, dtype, copy, skipna)\u001b[0m\n\u001b[1;32m     78\u001b[0m \u001b[38;5;66;03m# dispatch on extension dtype if needed\u001b[39;00m\n\u001b[1;32m     79\u001b[0m \u001b[38;5;28;01mif\u001b[39;00m \u001b[38;5;28misinstance\u001b[39m(dtype, ExtensionDtype):\n\u001b[0;32m---> 80\u001b[0m     \u001b[38;5;28;01mreturn\u001b[39;00m \u001b[43mdtype\u001b[49m\u001b[38;5;241;43m.\u001b[39;49m\u001b[43mconstruct_array_type\u001b[49m\u001b[43m(\u001b[49m\u001b[43m)\u001b[49m\u001b[38;5;241;43m.\u001b[39;49m\u001b[43m_from_sequence\u001b[49m\u001b[43m(\u001b[49m\u001b[43marr\u001b[49m\u001b[43m,\u001b[49m\u001b[43m \u001b[49m\u001b[43mdtype\u001b[49m\u001b[38;5;241;43m=\u001b[39;49m\u001b[43mdtype\u001b[49m\u001b[43m,\u001b[49m\u001b[43m \u001b[49m\u001b[43mcopy\u001b[49m\u001b[38;5;241;43m=\u001b[39;49m\u001b[43mcopy\u001b[49m\u001b[43m)\u001b[49m\n\u001b[1;32m     82\u001b[0m \u001b[38;5;28;01melif\u001b[39;00m \u001b[38;5;129;01mnot\u001b[39;00m \u001b[38;5;28misinstance\u001b[39m(dtype, np\u001b[38;5;241m.\u001b[39mdtype):  \u001b[38;5;66;03m# pragma: no cover\u001b[39;00m\n\u001b[1;32m     83\u001b[0m     \u001b[38;5;28;01mraise\u001b[39;00m \u001b[38;5;167;01mValueError\u001b[39;00m(\u001b[38;5;124m\"\u001b[39m\u001b[38;5;124mdtype must be np.dtype or ExtensionDtype\u001b[39m\u001b[38;5;124m\"\u001b[39m)\n",
      "File \u001b[0;32m~/anaconda3/envs/sds2023/lib/python3.11/site-packages/pandas/core/arrays/masked.py:149\u001b[0m, in \u001b[0;36mBaseMaskedArray._from_sequence\u001b[0;34m(cls, scalars, dtype, copy)\u001b[0m\n\u001b[1;32m    147\u001b[0m \u001b[38;5;129m@classmethod\u001b[39m\n\u001b[1;32m    148\u001b[0m \u001b[38;5;28;01mdef\u001b[39;00m \u001b[38;5;21m_from_sequence\u001b[39m(\u001b[38;5;28mcls\u001b[39m, scalars, \u001b[38;5;241m*\u001b[39m, dtype\u001b[38;5;241m=\u001b[39m\u001b[38;5;28;01mNone\u001b[39;00m, copy: \u001b[38;5;28mbool\u001b[39m \u001b[38;5;241m=\u001b[39m \u001b[38;5;28;01mFalse\u001b[39;00m) \u001b[38;5;241m-\u001b[39m\u001b[38;5;241m>\u001b[39m Self:\n\u001b[0;32m--> 149\u001b[0m     values, mask \u001b[38;5;241m=\u001b[39m \u001b[38;5;28;43mcls\u001b[39;49m\u001b[38;5;241;43m.\u001b[39;49m\u001b[43m_coerce_to_array\u001b[49m\u001b[43m(\u001b[49m\u001b[43mscalars\u001b[49m\u001b[43m,\u001b[49m\u001b[43m \u001b[49m\u001b[43mdtype\u001b[49m\u001b[38;5;241;43m=\u001b[39;49m\u001b[43mdtype\u001b[49m\u001b[43m,\u001b[49m\u001b[43m \u001b[49m\u001b[43mcopy\u001b[49m\u001b[38;5;241;43m=\u001b[39;49m\u001b[43mcopy\u001b[49m\u001b[43m)\u001b[49m\n\u001b[1;32m    150\u001b[0m     \u001b[38;5;28;01mreturn\u001b[39;00m \u001b[38;5;28mcls\u001b[39m(values, mask)\n",
      "File \u001b[0;32m~/anaconda3/envs/sds2023/lib/python3.11/site-packages/pandas/core/arrays/numeric.py:264\u001b[0m, in \u001b[0;36mNumericArray._coerce_to_array\u001b[0;34m(cls, value, dtype, copy)\u001b[0m\n\u001b[1;32m    262\u001b[0m default_dtype \u001b[38;5;241m=\u001b[39m dtype_cls\u001b[38;5;241m.\u001b[39m_default_np_dtype\n\u001b[1;32m    263\u001b[0m mask \u001b[38;5;241m=\u001b[39m \u001b[38;5;28;01mNone\u001b[39;00m\n\u001b[0;32m--> 264\u001b[0m values, mask, _, _ \u001b[38;5;241m=\u001b[39m \u001b[43m_coerce_to_data_and_mask\u001b[49m\u001b[43m(\u001b[49m\n\u001b[1;32m    265\u001b[0m \u001b[43m    \u001b[49m\u001b[43mvalue\u001b[49m\u001b[43m,\u001b[49m\u001b[43m \u001b[49m\u001b[43mmask\u001b[49m\u001b[43m,\u001b[49m\u001b[43m \u001b[49m\u001b[43mdtype\u001b[49m\u001b[43m,\u001b[49m\u001b[43m \u001b[49m\u001b[43mcopy\u001b[49m\u001b[43m,\u001b[49m\u001b[43m \u001b[49m\u001b[43mdtype_cls\u001b[49m\u001b[43m,\u001b[49m\u001b[43m \u001b[49m\u001b[43mdefault_dtype\u001b[49m\n\u001b[1;32m    266\u001b[0m \u001b[43m\u001b[49m\u001b[43m)\u001b[49m\n\u001b[1;32m    267\u001b[0m \u001b[38;5;28;01mreturn\u001b[39;00m values, mask\n",
      "File \u001b[0;32m~/anaconda3/envs/sds2023/lib/python3.11/site-packages/pandas/core/arrays/numeric.py:220\u001b[0m, in \u001b[0;36m_coerce_to_data_and_mask\u001b[0;34m(values, mask, dtype, copy, dtype_cls, default_dtype)\u001b[0m\n\u001b[1;32m    218\u001b[0m     values \u001b[38;5;241m=\u001b[39m values\u001b[38;5;241m.\u001b[39mastype(dtype, copy\u001b[38;5;241m=\u001b[39mcopy)\n\u001b[1;32m    219\u001b[0m \u001b[38;5;28;01melse\u001b[39;00m:\n\u001b[0;32m--> 220\u001b[0m     values \u001b[38;5;241m=\u001b[39m \u001b[43mdtype_cls\u001b[49m\u001b[38;5;241;43m.\u001b[39;49m\u001b[43m_safe_cast\u001b[49m\u001b[43m(\u001b[49m\u001b[43mvalues\u001b[49m\u001b[43m,\u001b[49m\u001b[43m \u001b[49m\u001b[43mdtype\u001b[49m\u001b[43m,\u001b[49m\u001b[43m \u001b[49m\u001b[43mcopy\u001b[49m\u001b[38;5;241;43m=\u001b[39;49m\u001b[38;5;28;43;01mFalse\u001b[39;49;00m\u001b[43m)\u001b[49m\n\u001b[1;32m    222\u001b[0m \u001b[38;5;28;01mreturn\u001b[39;00m values, mask, dtype, inferred_type\n",
      "File \u001b[0;32m~/anaconda3/envs/sds2023/lib/python3.11/site-packages/pandas/core/arrays/integer.py:53\u001b[0m, in \u001b[0;36mIntegerDtype._safe_cast\u001b[0;34m(cls, values, dtype, copy)\u001b[0m\n\u001b[1;32m     51\u001b[0m     \u001b[38;5;28;01mreturn\u001b[39;00m values\u001b[38;5;241m.\u001b[39mastype(dtype, casting\u001b[38;5;241m=\u001b[39m\u001b[38;5;124m\"\u001b[39m\u001b[38;5;124msafe\u001b[39m\u001b[38;5;124m\"\u001b[39m, copy\u001b[38;5;241m=\u001b[39mcopy)\n\u001b[1;32m     52\u001b[0m \u001b[38;5;28;01mexcept\u001b[39;00m \u001b[38;5;167;01mTypeError\u001b[39;00m \u001b[38;5;28;01mas\u001b[39;00m err:\n\u001b[0;32m---> 53\u001b[0m     casted \u001b[38;5;241m=\u001b[39m \u001b[43mvalues\u001b[49m\u001b[38;5;241;43m.\u001b[39;49m\u001b[43mastype\u001b[49m\u001b[43m(\u001b[49m\u001b[43mdtype\u001b[49m\u001b[43m,\u001b[49m\u001b[43m \u001b[49m\u001b[43mcopy\u001b[49m\u001b[38;5;241;43m=\u001b[39;49m\u001b[43mcopy\u001b[49m\u001b[43m)\u001b[49m\n\u001b[1;32m     54\u001b[0m     \u001b[38;5;28;01mif\u001b[39;00m (casted \u001b[38;5;241m==\u001b[39m values)\u001b[38;5;241m.\u001b[39mall():\n\u001b[1;32m     55\u001b[0m         \u001b[38;5;28;01mreturn\u001b[39;00m casted\n",
      "\u001b[0;31mValueError\u001b[0m: invalid literal for int() with base 10: ''"
     ]
    }
   ],
   "source": [
    "#do the same cleaning as above but for the OTHER addresses\n",
    "other_AB = other_AB.replace([np.nan, -np.inf], 0)\n",
    "#other_AB = other_AB.replace([np.nan, -np.inf], '')\n",
    "\n",
    "\n",
    "#cast as integer\n",
    "other_AB['parent_uprn'] = other_AB['parent_uprn'].astype('Int64')\n",
    "other_AB['uprn'] = other_AB['uprn'].astype('Int64')"
   ]
  },
  {
   "cell_type": "code",
   "execution_count": 11,
   "id": "cb0f904c",
   "metadata": {},
   "outputs": [],
   "source": [
    "### ------ DATA CLEANING  ----------\n",
    "#cast as string \n",
    "other_AB['parent_uprn'] = other_AB['parent_uprn'].astype(str)\n",
    "other_AB['uprn'] = other_AB['uprn'].astype(str)\n",
    "\n",
    "#fill in with left side padding zeros \n",
    "other_AB['parent_uprn'] = other_AB['parent_uprn'].apply(lambda x: '{0:0>12}'.format(x))\n",
    "other_AB['uprn'] = other_AB['uprn'].apply(lambda x: '{0:0>12}'.format(x))\n"
   ]
  },
  {
   "cell_type": "code",
   "execution_count": 12,
   "id": "2889e1ef-cc0a-4561-9bb8-bf522d5798a1",
   "metadata": {},
   "outputs": [],
   "source": [
    "### ------ DATA CLEANING On RESI AB ----------\n",
    "\n",
    "#Address matching data clean, make building number into a string \n",
    "resi_AB['building_number'] = resi_AB['building_number'].astype('Int64').astype('str') "
   ]
  },
  {
   "cell_type": "code",
   "execution_count": 13,
   "id": "bc2ebb0d",
   "metadata": {},
   "outputs": [],
   "source": [
    "resi_AB['pao_start_number'] = resi_AB['pao_start_number'].astype('Int64').astype('str') \n"
   ]
  },
  {
   "cell_type": "code",
   "execution_count": null,
   "id": "c8624511",
   "metadata": {},
   "outputs": [],
   "source": [
    "# create new column with the pao_start_number plus pa_start_suffix \n",
    "resi_AB['pao_start_num_suffix'] = resi_AB['pao_start_number'] +  resi_AB['pao_start_suffix']"
   ]
  },
  {
   "cell_type": "code",
   "execution_count": 14,
   "id": "0e294c44",
   "metadata": {},
   "outputs": [],
   "source": [
    "other_AB['building_number'] = other_AB['building_number'].astype('Int64').astype('str') "
   ]
  },
  {
   "cell_type": "code",
   "execution_count": 323,
   "id": "54bda890",
   "metadata": {},
   "outputs": [
    {
     "ename": "ValueError",
     "evalue": "invalid literal for int() with base 10: ''",
     "output_type": "error",
     "traceback": [
      "\u001b[0;31m---------------------------------------------------------------------------\u001b[0m",
      "\u001b[0;31mTypeError\u001b[0m                                 Traceback (most recent call last)",
      "File \u001b[0;32m~/anaconda3/envs/sds2023/lib/python3.11/site-packages/pandas/core/arrays/integer.py:51\u001b[0m, in \u001b[0;36mIntegerDtype._safe_cast\u001b[0;34m(cls, values, dtype, copy)\u001b[0m\n\u001b[1;32m     50\u001b[0m \u001b[38;5;28;01mtry\u001b[39;00m:\n\u001b[0;32m---> 51\u001b[0m     \u001b[38;5;28;01mreturn\u001b[39;00m \u001b[43mvalues\u001b[49m\u001b[38;5;241;43m.\u001b[39;49m\u001b[43mastype\u001b[49m\u001b[43m(\u001b[49m\u001b[43mdtype\u001b[49m\u001b[43m,\u001b[49m\u001b[43m \u001b[49m\u001b[43mcasting\u001b[49m\u001b[38;5;241;43m=\u001b[39;49m\u001b[38;5;124;43m\"\u001b[39;49m\u001b[38;5;124;43msafe\u001b[39;49m\u001b[38;5;124;43m\"\u001b[39;49m\u001b[43m,\u001b[49m\u001b[43m \u001b[49m\u001b[43mcopy\u001b[49m\u001b[38;5;241;43m=\u001b[39;49m\u001b[43mcopy\u001b[49m\u001b[43m)\u001b[49m\n\u001b[1;32m     52\u001b[0m \u001b[38;5;28;01mexcept\u001b[39;00m \u001b[38;5;167;01mTypeError\u001b[39;00m \u001b[38;5;28;01mas\u001b[39;00m err:\n",
      "\u001b[0;31mTypeError\u001b[0m: Cannot cast array data from dtype('O') to dtype('int64') according to the rule 'safe'",
      "\nDuring handling of the above exception, another exception occurred:\n",
      "\u001b[0;31mValueError\u001b[0m                                Traceback (most recent call last)",
      "Cell \u001b[0;32mIn[323], line 1\u001b[0m\n\u001b[0;32m----> 1\u001b[0m other_AB[\u001b[38;5;124m'\u001b[39m\u001b[38;5;124mpao_start_number\u001b[39m\u001b[38;5;124m'\u001b[39m] \u001b[38;5;241m=\u001b[39m \u001b[43mother_AB\u001b[49m\u001b[43m[\u001b[49m\u001b[38;5;124;43m'\u001b[39;49m\u001b[38;5;124;43mpao_start_number\u001b[39;49m\u001b[38;5;124;43m'\u001b[39;49m\u001b[43m]\u001b[49m\u001b[38;5;241;43m.\u001b[39;49m\u001b[43mastype\u001b[49m\u001b[43m(\u001b[49m\u001b[38;5;124;43m'\u001b[39;49m\u001b[38;5;124;43mInt64\u001b[39;49m\u001b[38;5;124;43m'\u001b[39;49m\u001b[43m)\u001b[49m\u001b[38;5;241m.\u001b[39mastype(\u001b[38;5;124m'\u001b[39m\u001b[38;5;124mstr\u001b[39m\u001b[38;5;124m'\u001b[39m) \n",
      "File \u001b[0;32m~/anaconda3/envs/sds2023/lib/python3.11/site-packages/pandas/core/generic.py:6534\u001b[0m, in \u001b[0;36mNDFrame.astype\u001b[0;34m(self, dtype, copy, errors)\u001b[0m\n\u001b[1;32m   6530\u001b[0m     results \u001b[38;5;241m=\u001b[39m [ser\u001b[38;5;241m.\u001b[39mastype(dtype, copy\u001b[38;5;241m=\u001b[39mcopy) \u001b[38;5;28;01mfor\u001b[39;00m _, ser \u001b[38;5;129;01min\u001b[39;00m \u001b[38;5;28mself\u001b[39m\u001b[38;5;241m.\u001b[39mitems()]\n\u001b[1;32m   6532\u001b[0m \u001b[38;5;28;01melse\u001b[39;00m:\n\u001b[1;32m   6533\u001b[0m     \u001b[38;5;66;03m# else, only a single dtype is given\u001b[39;00m\n\u001b[0;32m-> 6534\u001b[0m     new_data \u001b[38;5;241m=\u001b[39m \u001b[38;5;28;43mself\u001b[39;49m\u001b[38;5;241;43m.\u001b[39;49m\u001b[43m_mgr\u001b[49m\u001b[38;5;241;43m.\u001b[39;49m\u001b[43mastype\u001b[49m\u001b[43m(\u001b[49m\u001b[43mdtype\u001b[49m\u001b[38;5;241;43m=\u001b[39;49m\u001b[43mdtype\u001b[49m\u001b[43m,\u001b[49m\u001b[43m \u001b[49m\u001b[43mcopy\u001b[49m\u001b[38;5;241;43m=\u001b[39;49m\u001b[43mcopy\u001b[49m\u001b[43m,\u001b[49m\u001b[43m \u001b[49m\u001b[43merrors\u001b[49m\u001b[38;5;241;43m=\u001b[39;49m\u001b[43merrors\u001b[49m\u001b[43m)\u001b[49m\n\u001b[1;32m   6535\u001b[0m     res \u001b[38;5;241m=\u001b[39m \u001b[38;5;28mself\u001b[39m\u001b[38;5;241m.\u001b[39m_constructor_from_mgr(new_data, axes\u001b[38;5;241m=\u001b[39mnew_data\u001b[38;5;241m.\u001b[39maxes)\n\u001b[1;32m   6536\u001b[0m     \u001b[38;5;28;01mreturn\u001b[39;00m res\u001b[38;5;241m.\u001b[39m__finalize__(\u001b[38;5;28mself\u001b[39m, method\u001b[38;5;241m=\u001b[39m\u001b[38;5;124m\"\u001b[39m\u001b[38;5;124mastype\u001b[39m\u001b[38;5;124m\"\u001b[39m)\n",
      "File \u001b[0;32m~/anaconda3/envs/sds2023/lib/python3.11/site-packages/pandas/core/internals/managers.py:414\u001b[0m, in \u001b[0;36mBaseBlockManager.astype\u001b[0;34m(self, dtype, copy, errors)\u001b[0m\n\u001b[1;32m    411\u001b[0m \u001b[38;5;28;01melif\u001b[39;00m using_copy_on_write():\n\u001b[1;32m    412\u001b[0m     copy \u001b[38;5;241m=\u001b[39m \u001b[38;5;28;01mFalse\u001b[39;00m\n\u001b[0;32m--> 414\u001b[0m \u001b[38;5;28;01mreturn\u001b[39;00m \u001b[38;5;28;43mself\u001b[39;49m\u001b[38;5;241;43m.\u001b[39;49m\u001b[43mapply\u001b[49m\u001b[43m(\u001b[49m\n\u001b[1;32m    415\u001b[0m \u001b[43m    \u001b[49m\u001b[38;5;124;43m\"\u001b[39;49m\u001b[38;5;124;43mastype\u001b[39;49m\u001b[38;5;124;43m\"\u001b[39;49m\u001b[43m,\u001b[49m\n\u001b[1;32m    416\u001b[0m \u001b[43m    \u001b[49m\u001b[43mdtype\u001b[49m\u001b[38;5;241;43m=\u001b[39;49m\u001b[43mdtype\u001b[49m\u001b[43m,\u001b[49m\n\u001b[1;32m    417\u001b[0m \u001b[43m    \u001b[49m\u001b[43mcopy\u001b[49m\u001b[38;5;241;43m=\u001b[39;49m\u001b[43mcopy\u001b[49m\u001b[43m,\u001b[49m\n\u001b[1;32m    418\u001b[0m \u001b[43m    \u001b[49m\u001b[43merrors\u001b[49m\u001b[38;5;241;43m=\u001b[39;49m\u001b[43merrors\u001b[49m\u001b[43m,\u001b[49m\n\u001b[1;32m    419\u001b[0m \u001b[43m    \u001b[49m\u001b[43musing_cow\u001b[49m\u001b[38;5;241;43m=\u001b[39;49m\u001b[43musing_copy_on_write\u001b[49m\u001b[43m(\u001b[49m\u001b[43m)\u001b[49m\u001b[43m,\u001b[49m\n\u001b[1;32m    420\u001b[0m \u001b[43m\u001b[49m\u001b[43m)\u001b[49m\n",
      "File \u001b[0;32m~/anaconda3/envs/sds2023/lib/python3.11/site-packages/pandas/core/internals/managers.py:354\u001b[0m, in \u001b[0;36mBaseBlockManager.apply\u001b[0;34m(self, f, align_keys, **kwargs)\u001b[0m\n\u001b[1;32m    352\u001b[0m         applied \u001b[38;5;241m=\u001b[39m b\u001b[38;5;241m.\u001b[39mapply(f, \u001b[38;5;241m*\u001b[39m\u001b[38;5;241m*\u001b[39mkwargs)\n\u001b[1;32m    353\u001b[0m     \u001b[38;5;28;01melse\u001b[39;00m:\n\u001b[0;32m--> 354\u001b[0m         applied \u001b[38;5;241m=\u001b[39m \u001b[38;5;28;43mgetattr\u001b[39;49m\u001b[43m(\u001b[49m\u001b[43mb\u001b[49m\u001b[43m,\u001b[49m\u001b[43m \u001b[49m\u001b[43mf\u001b[49m\u001b[43m)\u001b[49m\u001b[43m(\u001b[49m\u001b[38;5;241;43m*\u001b[39;49m\u001b[38;5;241;43m*\u001b[39;49m\u001b[43mkwargs\u001b[49m\u001b[43m)\u001b[49m\n\u001b[1;32m    355\u001b[0m     result_blocks \u001b[38;5;241m=\u001b[39m extend_blocks(applied, result_blocks)\n\u001b[1;32m    357\u001b[0m out \u001b[38;5;241m=\u001b[39m \u001b[38;5;28mtype\u001b[39m(\u001b[38;5;28mself\u001b[39m)\u001b[38;5;241m.\u001b[39mfrom_blocks(result_blocks, \u001b[38;5;28mself\u001b[39m\u001b[38;5;241m.\u001b[39maxes)\n",
      "File \u001b[0;32m~/anaconda3/envs/sds2023/lib/python3.11/site-packages/pandas/core/internals/blocks.py:616\u001b[0m, in \u001b[0;36mBlock.astype\u001b[0;34m(self, dtype, copy, errors, using_cow)\u001b[0m\n\u001b[1;32m    596\u001b[0m \u001b[38;5;250m\u001b[39m\u001b[38;5;124;03m\"\"\"\u001b[39;00m\n\u001b[1;32m    597\u001b[0m \u001b[38;5;124;03mCoerce to the new dtype.\u001b[39;00m\n\u001b[1;32m    598\u001b[0m \n\u001b[0;32m   (...)\u001b[0m\n\u001b[1;32m    612\u001b[0m \u001b[38;5;124;03mBlock\u001b[39;00m\n\u001b[1;32m    613\u001b[0m \u001b[38;5;124;03m\"\"\"\u001b[39;00m\n\u001b[1;32m    614\u001b[0m values \u001b[38;5;241m=\u001b[39m \u001b[38;5;28mself\u001b[39m\u001b[38;5;241m.\u001b[39mvalues\n\u001b[0;32m--> 616\u001b[0m new_values \u001b[38;5;241m=\u001b[39m \u001b[43mastype_array_safe\u001b[49m\u001b[43m(\u001b[49m\u001b[43mvalues\u001b[49m\u001b[43m,\u001b[49m\u001b[43m \u001b[49m\u001b[43mdtype\u001b[49m\u001b[43m,\u001b[49m\u001b[43m \u001b[49m\u001b[43mcopy\u001b[49m\u001b[38;5;241;43m=\u001b[39;49m\u001b[43mcopy\u001b[49m\u001b[43m,\u001b[49m\u001b[43m \u001b[49m\u001b[43merrors\u001b[49m\u001b[38;5;241;43m=\u001b[39;49m\u001b[43merrors\u001b[49m\u001b[43m)\u001b[49m\n\u001b[1;32m    618\u001b[0m new_values \u001b[38;5;241m=\u001b[39m maybe_coerce_values(new_values)\n\u001b[1;32m    620\u001b[0m refs \u001b[38;5;241m=\u001b[39m \u001b[38;5;28;01mNone\u001b[39;00m\n",
      "File \u001b[0;32m~/anaconda3/envs/sds2023/lib/python3.11/site-packages/pandas/core/dtypes/astype.py:238\u001b[0m, in \u001b[0;36mastype_array_safe\u001b[0;34m(values, dtype, copy, errors)\u001b[0m\n\u001b[1;32m    235\u001b[0m     dtype \u001b[38;5;241m=\u001b[39m dtype\u001b[38;5;241m.\u001b[39mnumpy_dtype\n\u001b[1;32m    237\u001b[0m \u001b[38;5;28;01mtry\u001b[39;00m:\n\u001b[0;32m--> 238\u001b[0m     new_values \u001b[38;5;241m=\u001b[39m \u001b[43mastype_array\u001b[49m\u001b[43m(\u001b[49m\u001b[43mvalues\u001b[49m\u001b[43m,\u001b[49m\u001b[43m \u001b[49m\u001b[43mdtype\u001b[49m\u001b[43m,\u001b[49m\u001b[43m \u001b[49m\u001b[43mcopy\u001b[49m\u001b[38;5;241;43m=\u001b[39;49m\u001b[43mcopy\u001b[49m\u001b[43m)\u001b[49m\n\u001b[1;32m    239\u001b[0m \u001b[38;5;28;01mexcept\u001b[39;00m (\u001b[38;5;167;01mValueError\u001b[39;00m, \u001b[38;5;167;01mTypeError\u001b[39;00m):\n\u001b[1;32m    240\u001b[0m     \u001b[38;5;66;03m# e.g. _astype_nansafe can fail on object-dtype of strings\u001b[39;00m\n\u001b[1;32m    241\u001b[0m     \u001b[38;5;66;03m#  trying to convert to float\u001b[39;00m\n\u001b[1;32m    242\u001b[0m     \u001b[38;5;28;01mif\u001b[39;00m errors \u001b[38;5;241m==\u001b[39m \u001b[38;5;124m\"\u001b[39m\u001b[38;5;124mignore\u001b[39m\u001b[38;5;124m\"\u001b[39m:\n",
      "File \u001b[0;32m~/anaconda3/envs/sds2023/lib/python3.11/site-packages/pandas/core/dtypes/astype.py:183\u001b[0m, in \u001b[0;36mastype_array\u001b[0;34m(values, dtype, copy)\u001b[0m\n\u001b[1;32m    180\u001b[0m     values \u001b[38;5;241m=\u001b[39m values\u001b[38;5;241m.\u001b[39mastype(dtype, copy\u001b[38;5;241m=\u001b[39mcopy)\n\u001b[1;32m    182\u001b[0m \u001b[38;5;28;01melse\u001b[39;00m:\n\u001b[0;32m--> 183\u001b[0m     values \u001b[38;5;241m=\u001b[39m \u001b[43m_astype_nansafe\u001b[49m\u001b[43m(\u001b[49m\u001b[43mvalues\u001b[49m\u001b[43m,\u001b[49m\u001b[43m \u001b[49m\u001b[43mdtype\u001b[49m\u001b[43m,\u001b[49m\u001b[43m \u001b[49m\u001b[43mcopy\u001b[49m\u001b[38;5;241;43m=\u001b[39;49m\u001b[43mcopy\u001b[49m\u001b[43m)\u001b[49m\n\u001b[1;32m    185\u001b[0m \u001b[38;5;66;03m# in pandas we don't store numpy str dtypes, so convert to object\u001b[39;00m\n\u001b[1;32m    186\u001b[0m \u001b[38;5;28;01mif\u001b[39;00m \u001b[38;5;28misinstance\u001b[39m(dtype, np\u001b[38;5;241m.\u001b[39mdtype) \u001b[38;5;129;01mand\u001b[39;00m \u001b[38;5;28missubclass\u001b[39m(values\u001b[38;5;241m.\u001b[39mdtype\u001b[38;5;241m.\u001b[39mtype, \u001b[38;5;28mstr\u001b[39m):\n",
      "File \u001b[0;32m~/anaconda3/envs/sds2023/lib/python3.11/site-packages/pandas/core/dtypes/astype.py:80\u001b[0m, in \u001b[0;36m_astype_nansafe\u001b[0;34m(arr, dtype, copy, skipna)\u001b[0m\n\u001b[1;32m     78\u001b[0m \u001b[38;5;66;03m# dispatch on extension dtype if needed\u001b[39;00m\n\u001b[1;32m     79\u001b[0m \u001b[38;5;28;01mif\u001b[39;00m \u001b[38;5;28misinstance\u001b[39m(dtype, ExtensionDtype):\n\u001b[0;32m---> 80\u001b[0m     \u001b[38;5;28;01mreturn\u001b[39;00m \u001b[43mdtype\u001b[49m\u001b[38;5;241;43m.\u001b[39;49m\u001b[43mconstruct_array_type\u001b[49m\u001b[43m(\u001b[49m\u001b[43m)\u001b[49m\u001b[38;5;241;43m.\u001b[39;49m\u001b[43m_from_sequence\u001b[49m\u001b[43m(\u001b[49m\u001b[43marr\u001b[49m\u001b[43m,\u001b[49m\u001b[43m \u001b[49m\u001b[43mdtype\u001b[49m\u001b[38;5;241;43m=\u001b[39;49m\u001b[43mdtype\u001b[49m\u001b[43m,\u001b[49m\u001b[43m \u001b[49m\u001b[43mcopy\u001b[49m\u001b[38;5;241;43m=\u001b[39;49m\u001b[43mcopy\u001b[49m\u001b[43m)\u001b[49m\n\u001b[1;32m     82\u001b[0m \u001b[38;5;28;01melif\u001b[39;00m \u001b[38;5;129;01mnot\u001b[39;00m \u001b[38;5;28misinstance\u001b[39m(dtype, np\u001b[38;5;241m.\u001b[39mdtype):  \u001b[38;5;66;03m# pragma: no cover\u001b[39;00m\n\u001b[1;32m     83\u001b[0m     \u001b[38;5;28;01mraise\u001b[39;00m \u001b[38;5;167;01mValueError\u001b[39;00m(\u001b[38;5;124m\"\u001b[39m\u001b[38;5;124mdtype must be np.dtype or ExtensionDtype\u001b[39m\u001b[38;5;124m\"\u001b[39m)\n",
      "File \u001b[0;32m~/anaconda3/envs/sds2023/lib/python3.11/site-packages/pandas/core/arrays/masked.py:149\u001b[0m, in \u001b[0;36mBaseMaskedArray._from_sequence\u001b[0;34m(cls, scalars, dtype, copy)\u001b[0m\n\u001b[1;32m    147\u001b[0m \u001b[38;5;129m@classmethod\u001b[39m\n\u001b[1;32m    148\u001b[0m \u001b[38;5;28;01mdef\u001b[39;00m \u001b[38;5;21m_from_sequence\u001b[39m(\u001b[38;5;28mcls\u001b[39m, scalars, \u001b[38;5;241m*\u001b[39m, dtype\u001b[38;5;241m=\u001b[39m\u001b[38;5;28;01mNone\u001b[39;00m, copy: \u001b[38;5;28mbool\u001b[39m \u001b[38;5;241m=\u001b[39m \u001b[38;5;28;01mFalse\u001b[39;00m) \u001b[38;5;241m-\u001b[39m\u001b[38;5;241m>\u001b[39m Self:\n\u001b[0;32m--> 149\u001b[0m     values, mask \u001b[38;5;241m=\u001b[39m \u001b[38;5;28;43mcls\u001b[39;49m\u001b[38;5;241;43m.\u001b[39;49m\u001b[43m_coerce_to_array\u001b[49m\u001b[43m(\u001b[49m\u001b[43mscalars\u001b[49m\u001b[43m,\u001b[49m\u001b[43m \u001b[49m\u001b[43mdtype\u001b[49m\u001b[38;5;241;43m=\u001b[39;49m\u001b[43mdtype\u001b[49m\u001b[43m,\u001b[49m\u001b[43m \u001b[49m\u001b[43mcopy\u001b[49m\u001b[38;5;241;43m=\u001b[39;49m\u001b[43mcopy\u001b[49m\u001b[43m)\u001b[49m\n\u001b[1;32m    150\u001b[0m     \u001b[38;5;28;01mreturn\u001b[39;00m \u001b[38;5;28mcls\u001b[39m(values, mask)\n",
      "File \u001b[0;32m~/anaconda3/envs/sds2023/lib/python3.11/site-packages/pandas/core/arrays/numeric.py:264\u001b[0m, in \u001b[0;36mNumericArray._coerce_to_array\u001b[0;34m(cls, value, dtype, copy)\u001b[0m\n\u001b[1;32m    262\u001b[0m default_dtype \u001b[38;5;241m=\u001b[39m dtype_cls\u001b[38;5;241m.\u001b[39m_default_np_dtype\n\u001b[1;32m    263\u001b[0m mask \u001b[38;5;241m=\u001b[39m \u001b[38;5;28;01mNone\u001b[39;00m\n\u001b[0;32m--> 264\u001b[0m values, mask, _, _ \u001b[38;5;241m=\u001b[39m \u001b[43m_coerce_to_data_and_mask\u001b[49m\u001b[43m(\u001b[49m\n\u001b[1;32m    265\u001b[0m \u001b[43m    \u001b[49m\u001b[43mvalue\u001b[49m\u001b[43m,\u001b[49m\u001b[43m \u001b[49m\u001b[43mmask\u001b[49m\u001b[43m,\u001b[49m\u001b[43m \u001b[49m\u001b[43mdtype\u001b[49m\u001b[43m,\u001b[49m\u001b[43m \u001b[49m\u001b[43mcopy\u001b[49m\u001b[43m,\u001b[49m\u001b[43m \u001b[49m\u001b[43mdtype_cls\u001b[49m\u001b[43m,\u001b[49m\u001b[43m \u001b[49m\u001b[43mdefault_dtype\u001b[49m\n\u001b[1;32m    266\u001b[0m \u001b[43m\u001b[49m\u001b[43m)\u001b[49m\n\u001b[1;32m    267\u001b[0m \u001b[38;5;28;01mreturn\u001b[39;00m values, mask\n",
      "File \u001b[0;32m~/anaconda3/envs/sds2023/lib/python3.11/site-packages/pandas/core/arrays/numeric.py:220\u001b[0m, in \u001b[0;36m_coerce_to_data_and_mask\u001b[0;34m(values, mask, dtype, copy, dtype_cls, default_dtype)\u001b[0m\n\u001b[1;32m    218\u001b[0m     values \u001b[38;5;241m=\u001b[39m values\u001b[38;5;241m.\u001b[39mastype(dtype, copy\u001b[38;5;241m=\u001b[39mcopy)\n\u001b[1;32m    219\u001b[0m \u001b[38;5;28;01melse\u001b[39;00m:\n\u001b[0;32m--> 220\u001b[0m     values \u001b[38;5;241m=\u001b[39m \u001b[43mdtype_cls\u001b[49m\u001b[38;5;241;43m.\u001b[39;49m\u001b[43m_safe_cast\u001b[49m\u001b[43m(\u001b[49m\u001b[43mvalues\u001b[49m\u001b[43m,\u001b[49m\u001b[43m \u001b[49m\u001b[43mdtype\u001b[49m\u001b[43m,\u001b[49m\u001b[43m \u001b[49m\u001b[43mcopy\u001b[49m\u001b[38;5;241;43m=\u001b[39;49m\u001b[38;5;28;43;01mFalse\u001b[39;49;00m\u001b[43m)\u001b[49m\n\u001b[1;32m    222\u001b[0m \u001b[38;5;28;01mreturn\u001b[39;00m values, mask, dtype, inferred_type\n",
      "File \u001b[0;32m~/anaconda3/envs/sds2023/lib/python3.11/site-packages/pandas/core/arrays/integer.py:53\u001b[0m, in \u001b[0;36mIntegerDtype._safe_cast\u001b[0;34m(cls, values, dtype, copy)\u001b[0m\n\u001b[1;32m     51\u001b[0m     \u001b[38;5;28;01mreturn\u001b[39;00m values\u001b[38;5;241m.\u001b[39mastype(dtype, casting\u001b[38;5;241m=\u001b[39m\u001b[38;5;124m\"\u001b[39m\u001b[38;5;124msafe\u001b[39m\u001b[38;5;124m\"\u001b[39m, copy\u001b[38;5;241m=\u001b[39mcopy)\n\u001b[1;32m     52\u001b[0m \u001b[38;5;28;01mexcept\u001b[39;00m \u001b[38;5;167;01mTypeError\u001b[39;00m \u001b[38;5;28;01mas\u001b[39;00m err:\n\u001b[0;32m---> 53\u001b[0m     casted \u001b[38;5;241m=\u001b[39m \u001b[43mvalues\u001b[49m\u001b[38;5;241;43m.\u001b[39;49m\u001b[43mastype\u001b[49m\u001b[43m(\u001b[49m\u001b[43mdtype\u001b[49m\u001b[43m,\u001b[49m\u001b[43m \u001b[49m\u001b[43mcopy\u001b[49m\u001b[38;5;241;43m=\u001b[39;49m\u001b[43mcopy\u001b[49m\u001b[43m)\u001b[49m\n\u001b[1;32m     54\u001b[0m     \u001b[38;5;28;01mif\u001b[39;00m (casted \u001b[38;5;241m==\u001b[39m values)\u001b[38;5;241m.\u001b[39mall():\n\u001b[1;32m     55\u001b[0m         \u001b[38;5;28;01mreturn\u001b[39;00m casted\n",
      "\u001b[0;31mValueError\u001b[0m: invalid literal for int() with base 10: ''"
     ]
    }
   ],
   "source": [
    "other_AB['pao_start_number'] = other_AB['pao_start_number'].astype('Int64').astype('str') "
   ]
  },
  {
   "cell_type": "code",
   "execution_count": 325,
   "id": "359ac565",
   "metadata": {},
   "outputs": [
    {
     "ename": "ValueError",
     "evalue": "invalid literal for int() with base 10: ''",
     "output_type": "error",
     "traceback": [
      "\u001b[0;31m---------------------------------------------------------------------------\u001b[0m",
      "\u001b[0;31mTypeError\u001b[0m                                 Traceback (most recent call last)",
      "File \u001b[0;32m~/anaconda3/envs/sds2023/lib/python3.11/site-packages/pandas/core/arrays/integer.py:51\u001b[0m, in \u001b[0;36mIntegerDtype._safe_cast\u001b[0;34m(cls, values, dtype, copy)\u001b[0m\n\u001b[1;32m     50\u001b[0m \u001b[38;5;28;01mtry\u001b[39;00m:\n\u001b[0;32m---> 51\u001b[0m     \u001b[38;5;28;01mreturn\u001b[39;00m \u001b[43mvalues\u001b[49m\u001b[38;5;241;43m.\u001b[39;49m\u001b[43mastype\u001b[49m\u001b[43m(\u001b[49m\u001b[43mdtype\u001b[49m\u001b[43m,\u001b[49m\u001b[43m \u001b[49m\u001b[43mcasting\u001b[49m\u001b[38;5;241;43m=\u001b[39;49m\u001b[38;5;124;43m\"\u001b[39;49m\u001b[38;5;124;43msafe\u001b[39;49m\u001b[38;5;124;43m\"\u001b[39;49m\u001b[43m,\u001b[49m\u001b[43m \u001b[49m\u001b[43mcopy\u001b[49m\u001b[38;5;241;43m=\u001b[39;49m\u001b[43mcopy\u001b[49m\u001b[43m)\u001b[49m\n\u001b[1;32m     52\u001b[0m \u001b[38;5;28;01mexcept\u001b[39;00m \u001b[38;5;167;01mTypeError\u001b[39;00m \u001b[38;5;28;01mas\u001b[39;00m err:\n",
      "\u001b[0;31mTypeError\u001b[0m: Cannot cast array data from dtype('O') to dtype('int64') according to the rule 'safe'",
      "\nDuring handling of the above exception, another exception occurred:\n",
      "\u001b[0;31mValueError\u001b[0m                                Traceback (most recent call last)",
      "Cell \u001b[0;32mIn[325], line 1\u001b[0m\n\u001b[0;32m----> 1\u001b[0m \u001b[43mother_AB\u001b[49m\u001b[43m[\u001b[49m\u001b[38;5;124;43m'\u001b[39;49m\u001b[38;5;124;43mpao_start_number\u001b[39;49m\u001b[38;5;124;43m'\u001b[39;49m\u001b[43m]\u001b[49m\u001b[38;5;241;43m.\u001b[39;49m\u001b[43mastype\u001b[49m\u001b[43m(\u001b[49m\u001b[38;5;124;43m'\u001b[39;49m\u001b[38;5;124;43mInt64\u001b[39;49m\u001b[38;5;124;43m'\u001b[39;49m\u001b[43m)\u001b[49m\n",
      "File \u001b[0;32m~/anaconda3/envs/sds2023/lib/python3.11/site-packages/pandas/core/generic.py:6534\u001b[0m, in \u001b[0;36mNDFrame.astype\u001b[0;34m(self, dtype, copy, errors)\u001b[0m\n\u001b[1;32m   6530\u001b[0m     results \u001b[38;5;241m=\u001b[39m [ser\u001b[38;5;241m.\u001b[39mastype(dtype, copy\u001b[38;5;241m=\u001b[39mcopy) \u001b[38;5;28;01mfor\u001b[39;00m _, ser \u001b[38;5;129;01min\u001b[39;00m \u001b[38;5;28mself\u001b[39m\u001b[38;5;241m.\u001b[39mitems()]\n\u001b[1;32m   6532\u001b[0m \u001b[38;5;28;01melse\u001b[39;00m:\n\u001b[1;32m   6533\u001b[0m     \u001b[38;5;66;03m# else, only a single dtype is given\u001b[39;00m\n\u001b[0;32m-> 6534\u001b[0m     new_data \u001b[38;5;241m=\u001b[39m \u001b[38;5;28;43mself\u001b[39;49m\u001b[38;5;241;43m.\u001b[39;49m\u001b[43m_mgr\u001b[49m\u001b[38;5;241;43m.\u001b[39;49m\u001b[43mastype\u001b[49m\u001b[43m(\u001b[49m\u001b[43mdtype\u001b[49m\u001b[38;5;241;43m=\u001b[39;49m\u001b[43mdtype\u001b[49m\u001b[43m,\u001b[49m\u001b[43m \u001b[49m\u001b[43mcopy\u001b[49m\u001b[38;5;241;43m=\u001b[39;49m\u001b[43mcopy\u001b[49m\u001b[43m,\u001b[49m\u001b[43m \u001b[49m\u001b[43merrors\u001b[49m\u001b[38;5;241;43m=\u001b[39;49m\u001b[43merrors\u001b[49m\u001b[43m)\u001b[49m\n\u001b[1;32m   6535\u001b[0m     res \u001b[38;5;241m=\u001b[39m \u001b[38;5;28mself\u001b[39m\u001b[38;5;241m.\u001b[39m_constructor_from_mgr(new_data, axes\u001b[38;5;241m=\u001b[39mnew_data\u001b[38;5;241m.\u001b[39maxes)\n\u001b[1;32m   6536\u001b[0m     \u001b[38;5;28;01mreturn\u001b[39;00m res\u001b[38;5;241m.\u001b[39m__finalize__(\u001b[38;5;28mself\u001b[39m, method\u001b[38;5;241m=\u001b[39m\u001b[38;5;124m\"\u001b[39m\u001b[38;5;124mastype\u001b[39m\u001b[38;5;124m\"\u001b[39m)\n",
      "File \u001b[0;32m~/anaconda3/envs/sds2023/lib/python3.11/site-packages/pandas/core/internals/managers.py:414\u001b[0m, in \u001b[0;36mBaseBlockManager.astype\u001b[0;34m(self, dtype, copy, errors)\u001b[0m\n\u001b[1;32m    411\u001b[0m \u001b[38;5;28;01melif\u001b[39;00m using_copy_on_write():\n\u001b[1;32m    412\u001b[0m     copy \u001b[38;5;241m=\u001b[39m \u001b[38;5;28;01mFalse\u001b[39;00m\n\u001b[0;32m--> 414\u001b[0m \u001b[38;5;28;01mreturn\u001b[39;00m \u001b[38;5;28;43mself\u001b[39;49m\u001b[38;5;241;43m.\u001b[39;49m\u001b[43mapply\u001b[49m\u001b[43m(\u001b[49m\n\u001b[1;32m    415\u001b[0m \u001b[43m    \u001b[49m\u001b[38;5;124;43m\"\u001b[39;49m\u001b[38;5;124;43mastype\u001b[39;49m\u001b[38;5;124;43m\"\u001b[39;49m\u001b[43m,\u001b[49m\n\u001b[1;32m    416\u001b[0m \u001b[43m    \u001b[49m\u001b[43mdtype\u001b[49m\u001b[38;5;241;43m=\u001b[39;49m\u001b[43mdtype\u001b[49m\u001b[43m,\u001b[49m\n\u001b[1;32m    417\u001b[0m \u001b[43m    \u001b[49m\u001b[43mcopy\u001b[49m\u001b[38;5;241;43m=\u001b[39;49m\u001b[43mcopy\u001b[49m\u001b[43m,\u001b[49m\n\u001b[1;32m    418\u001b[0m \u001b[43m    \u001b[49m\u001b[43merrors\u001b[49m\u001b[38;5;241;43m=\u001b[39;49m\u001b[43merrors\u001b[49m\u001b[43m,\u001b[49m\n\u001b[1;32m    419\u001b[0m \u001b[43m    \u001b[49m\u001b[43musing_cow\u001b[49m\u001b[38;5;241;43m=\u001b[39;49m\u001b[43musing_copy_on_write\u001b[49m\u001b[43m(\u001b[49m\u001b[43m)\u001b[49m\u001b[43m,\u001b[49m\n\u001b[1;32m    420\u001b[0m \u001b[43m\u001b[49m\u001b[43m)\u001b[49m\n",
      "File \u001b[0;32m~/anaconda3/envs/sds2023/lib/python3.11/site-packages/pandas/core/internals/managers.py:354\u001b[0m, in \u001b[0;36mBaseBlockManager.apply\u001b[0;34m(self, f, align_keys, **kwargs)\u001b[0m\n\u001b[1;32m    352\u001b[0m         applied \u001b[38;5;241m=\u001b[39m b\u001b[38;5;241m.\u001b[39mapply(f, \u001b[38;5;241m*\u001b[39m\u001b[38;5;241m*\u001b[39mkwargs)\n\u001b[1;32m    353\u001b[0m     \u001b[38;5;28;01melse\u001b[39;00m:\n\u001b[0;32m--> 354\u001b[0m         applied \u001b[38;5;241m=\u001b[39m \u001b[38;5;28;43mgetattr\u001b[39;49m\u001b[43m(\u001b[49m\u001b[43mb\u001b[49m\u001b[43m,\u001b[49m\u001b[43m \u001b[49m\u001b[43mf\u001b[49m\u001b[43m)\u001b[49m\u001b[43m(\u001b[49m\u001b[38;5;241;43m*\u001b[39;49m\u001b[38;5;241;43m*\u001b[39;49m\u001b[43mkwargs\u001b[49m\u001b[43m)\u001b[49m\n\u001b[1;32m    355\u001b[0m     result_blocks \u001b[38;5;241m=\u001b[39m extend_blocks(applied, result_blocks)\n\u001b[1;32m    357\u001b[0m out \u001b[38;5;241m=\u001b[39m \u001b[38;5;28mtype\u001b[39m(\u001b[38;5;28mself\u001b[39m)\u001b[38;5;241m.\u001b[39mfrom_blocks(result_blocks, \u001b[38;5;28mself\u001b[39m\u001b[38;5;241m.\u001b[39maxes)\n",
      "File \u001b[0;32m~/anaconda3/envs/sds2023/lib/python3.11/site-packages/pandas/core/internals/blocks.py:616\u001b[0m, in \u001b[0;36mBlock.astype\u001b[0;34m(self, dtype, copy, errors, using_cow)\u001b[0m\n\u001b[1;32m    596\u001b[0m \u001b[38;5;250m\u001b[39m\u001b[38;5;124;03m\"\"\"\u001b[39;00m\n\u001b[1;32m    597\u001b[0m \u001b[38;5;124;03mCoerce to the new dtype.\u001b[39;00m\n\u001b[1;32m    598\u001b[0m \n\u001b[0;32m   (...)\u001b[0m\n\u001b[1;32m    612\u001b[0m \u001b[38;5;124;03mBlock\u001b[39;00m\n\u001b[1;32m    613\u001b[0m \u001b[38;5;124;03m\"\"\"\u001b[39;00m\n\u001b[1;32m    614\u001b[0m values \u001b[38;5;241m=\u001b[39m \u001b[38;5;28mself\u001b[39m\u001b[38;5;241m.\u001b[39mvalues\n\u001b[0;32m--> 616\u001b[0m new_values \u001b[38;5;241m=\u001b[39m \u001b[43mastype_array_safe\u001b[49m\u001b[43m(\u001b[49m\u001b[43mvalues\u001b[49m\u001b[43m,\u001b[49m\u001b[43m \u001b[49m\u001b[43mdtype\u001b[49m\u001b[43m,\u001b[49m\u001b[43m \u001b[49m\u001b[43mcopy\u001b[49m\u001b[38;5;241;43m=\u001b[39;49m\u001b[43mcopy\u001b[49m\u001b[43m,\u001b[49m\u001b[43m \u001b[49m\u001b[43merrors\u001b[49m\u001b[38;5;241;43m=\u001b[39;49m\u001b[43merrors\u001b[49m\u001b[43m)\u001b[49m\n\u001b[1;32m    618\u001b[0m new_values \u001b[38;5;241m=\u001b[39m maybe_coerce_values(new_values)\n\u001b[1;32m    620\u001b[0m refs \u001b[38;5;241m=\u001b[39m \u001b[38;5;28;01mNone\u001b[39;00m\n",
      "File \u001b[0;32m~/anaconda3/envs/sds2023/lib/python3.11/site-packages/pandas/core/dtypes/astype.py:238\u001b[0m, in \u001b[0;36mastype_array_safe\u001b[0;34m(values, dtype, copy, errors)\u001b[0m\n\u001b[1;32m    235\u001b[0m     dtype \u001b[38;5;241m=\u001b[39m dtype\u001b[38;5;241m.\u001b[39mnumpy_dtype\n\u001b[1;32m    237\u001b[0m \u001b[38;5;28;01mtry\u001b[39;00m:\n\u001b[0;32m--> 238\u001b[0m     new_values \u001b[38;5;241m=\u001b[39m \u001b[43mastype_array\u001b[49m\u001b[43m(\u001b[49m\u001b[43mvalues\u001b[49m\u001b[43m,\u001b[49m\u001b[43m \u001b[49m\u001b[43mdtype\u001b[49m\u001b[43m,\u001b[49m\u001b[43m \u001b[49m\u001b[43mcopy\u001b[49m\u001b[38;5;241;43m=\u001b[39;49m\u001b[43mcopy\u001b[49m\u001b[43m)\u001b[49m\n\u001b[1;32m    239\u001b[0m \u001b[38;5;28;01mexcept\u001b[39;00m (\u001b[38;5;167;01mValueError\u001b[39;00m, \u001b[38;5;167;01mTypeError\u001b[39;00m):\n\u001b[1;32m    240\u001b[0m     \u001b[38;5;66;03m# e.g. _astype_nansafe can fail on object-dtype of strings\u001b[39;00m\n\u001b[1;32m    241\u001b[0m     \u001b[38;5;66;03m#  trying to convert to float\u001b[39;00m\n\u001b[1;32m    242\u001b[0m     \u001b[38;5;28;01mif\u001b[39;00m errors \u001b[38;5;241m==\u001b[39m \u001b[38;5;124m\"\u001b[39m\u001b[38;5;124mignore\u001b[39m\u001b[38;5;124m\"\u001b[39m:\n",
      "File \u001b[0;32m~/anaconda3/envs/sds2023/lib/python3.11/site-packages/pandas/core/dtypes/astype.py:183\u001b[0m, in \u001b[0;36mastype_array\u001b[0;34m(values, dtype, copy)\u001b[0m\n\u001b[1;32m    180\u001b[0m     values \u001b[38;5;241m=\u001b[39m values\u001b[38;5;241m.\u001b[39mastype(dtype, copy\u001b[38;5;241m=\u001b[39mcopy)\n\u001b[1;32m    182\u001b[0m \u001b[38;5;28;01melse\u001b[39;00m:\n\u001b[0;32m--> 183\u001b[0m     values \u001b[38;5;241m=\u001b[39m \u001b[43m_astype_nansafe\u001b[49m\u001b[43m(\u001b[49m\u001b[43mvalues\u001b[49m\u001b[43m,\u001b[49m\u001b[43m \u001b[49m\u001b[43mdtype\u001b[49m\u001b[43m,\u001b[49m\u001b[43m \u001b[49m\u001b[43mcopy\u001b[49m\u001b[38;5;241;43m=\u001b[39;49m\u001b[43mcopy\u001b[49m\u001b[43m)\u001b[49m\n\u001b[1;32m    185\u001b[0m \u001b[38;5;66;03m# in pandas we don't store numpy str dtypes, so convert to object\u001b[39;00m\n\u001b[1;32m    186\u001b[0m \u001b[38;5;28;01mif\u001b[39;00m \u001b[38;5;28misinstance\u001b[39m(dtype, np\u001b[38;5;241m.\u001b[39mdtype) \u001b[38;5;129;01mand\u001b[39;00m \u001b[38;5;28missubclass\u001b[39m(values\u001b[38;5;241m.\u001b[39mdtype\u001b[38;5;241m.\u001b[39mtype, \u001b[38;5;28mstr\u001b[39m):\n",
      "File \u001b[0;32m~/anaconda3/envs/sds2023/lib/python3.11/site-packages/pandas/core/dtypes/astype.py:80\u001b[0m, in \u001b[0;36m_astype_nansafe\u001b[0;34m(arr, dtype, copy, skipna)\u001b[0m\n\u001b[1;32m     78\u001b[0m \u001b[38;5;66;03m# dispatch on extension dtype if needed\u001b[39;00m\n\u001b[1;32m     79\u001b[0m \u001b[38;5;28;01mif\u001b[39;00m \u001b[38;5;28misinstance\u001b[39m(dtype, ExtensionDtype):\n\u001b[0;32m---> 80\u001b[0m     \u001b[38;5;28;01mreturn\u001b[39;00m \u001b[43mdtype\u001b[49m\u001b[38;5;241;43m.\u001b[39;49m\u001b[43mconstruct_array_type\u001b[49m\u001b[43m(\u001b[49m\u001b[43m)\u001b[49m\u001b[38;5;241;43m.\u001b[39;49m\u001b[43m_from_sequence\u001b[49m\u001b[43m(\u001b[49m\u001b[43marr\u001b[49m\u001b[43m,\u001b[49m\u001b[43m \u001b[49m\u001b[43mdtype\u001b[49m\u001b[38;5;241;43m=\u001b[39;49m\u001b[43mdtype\u001b[49m\u001b[43m,\u001b[49m\u001b[43m \u001b[49m\u001b[43mcopy\u001b[49m\u001b[38;5;241;43m=\u001b[39;49m\u001b[43mcopy\u001b[49m\u001b[43m)\u001b[49m\n\u001b[1;32m     82\u001b[0m \u001b[38;5;28;01melif\u001b[39;00m \u001b[38;5;129;01mnot\u001b[39;00m \u001b[38;5;28misinstance\u001b[39m(dtype, np\u001b[38;5;241m.\u001b[39mdtype):  \u001b[38;5;66;03m# pragma: no cover\u001b[39;00m\n\u001b[1;32m     83\u001b[0m     \u001b[38;5;28;01mraise\u001b[39;00m \u001b[38;5;167;01mValueError\u001b[39;00m(\u001b[38;5;124m\"\u001b[39m\u001b[38;5;124mdtype must be np.dtype or ExtensionDtype\u001b[39m\u001b[38;5;124m\"\u001b[39m)\n",
      "File \u001b[0;32m~/anaconda3/envs/sds2023/lib/python3.11/site-packages/pandas/core/arrays/masked.py:149\u001b[0m, in \u001b[0;36mBaseMaskedArray._from_sequence\u001b[0;34m(cls, scalars, dtype, copy)\u001b[0m\n\u001b[1;32m    147\u001b[0m \u001b[38;5;129m@classmethod\u001b[39m\n\u001b[1;32m    148\u001b[0m \u001b[38;5;28;01mdef\u001b[39;00m \u001b[38;5;21m_from_sequence\u001b[39m(\u001b[38;5;28mcls\u001b[39m, scalars, \u001b[38;5;241m*\u001b[39m, dtype\u001b[38;5;241m=\u001b[39m\u001b[38;5;28;01mNone\u001b[39;00m, copy: \u001b[38;5;28mbool\u001b[39m \u001b[38;5;241m=\u001b[39m \u001b[38;5;28;01mFalse\u001b[39;00m) \u001b[38;5;241m-\u001b[39m\u001b[38;5;241m>\u001b[39m Self:\n\u001b[0;32m--> 149\u001b[0m     values, mask \u001b[38;5;241m=\u001b[39m \u001b[38;5;28;43mcls\u001b[39;49m\u001b[38;5;241;43m.\u001b[39;49m\u001b[43m_coerce_to_array\u001b[49m\u001b[43m(\u001b[49m\u001b[43mscalars\u001b[49m\u001b[43m,\u001b[49m\u001b[43m \u001b[49m\u001b[43mdtype\u001b[49m\u001b[38;5;241;43m=\u001b[39;49m\u001b[43mdtype\u001b[49m\u001b[43m,\u001b[49m\u001b[43m \u001b[49m\u001b[43mcopy\u001b[49m\u001b[38;5;241;43m=\u001b[39;49m\u001b[43mcopy\u001b[49m\u001b[43m)\u001b[49m\n\u001b[1;32m    150\u001b[0m     \u001b[38;5;28;01mreturn\u001b[39;00m \u001b[38;5;28mcls\u001b[39m(values, mask)\n",
      "File \u001b[0;32m~/anaconda3/envs/sds2023/lib/python3.11/site-packages/pandas/core/arrays/numeric.py:264\u001b[0m, in \u001b[0;36mNumericArray._coerce_to_array\u001b[0;34m(cls, value, dtype, copy)\u001b[0m\n\u001b[1;32m    262\u001b[0m default_dtype \u001b[38;5;241m=\u001b[39m dtype_cls\u001b[38;5;241m.\u001b[39m_default_np_dtype\n\u001b[1;32m    263\u001b[0m mask \u001b[38;5;241m=\u001b[39m \u001b[38;5;28;01mNone\u001b[39;00m\n\u001b[0;32m--> 264\u001b[0m values, mask, _, _ \u001b[38;5;241m=\u001b[39m \u001b[43m_coerce_to_data_and_mask\u001b[49m\u001b[43m(\u001b[49m\n\u001b[1;32m    265\u001b[0m \u001b[43m    \u001b[49m\u001b[43mvalue\u001b[49m\u001b[43m,\u001b[49m\u001b[43m \u001b[49m\u001b[43mmask\u001b[49m\u001b[43m,\u001b[49m\u001b[43m \u001b[49m\u001b[43mdtype\u001b[49m\u001b[43m,\u001b[49m\u001b[43m \u001b[49m\u001b[43mcopy\u001b[49m\u001b[43m,\u001b[49m\u001b[43m \u001b[49m\u001b[43mdtype_cls\u001b[49m\u001b[43m,\u001b[49m\u001b[43m \u001b[49m\u001b[43mdefault_dtype\u001b[49m\n\u001b[1;32m    266\u001b[0m \u001b[43m\u001b[49m\u001b[43m)\u001b[49m\n\u001b[1;32m    267\u001b[0m \u001b[38;5;28;01mreturn\u001b[39;00m values, mask\n",
      "File \u001b[0;32m~/anaconda3/envs/sds2023/lib/python3.11/site-packages/pandas/core/arrays/numeric.py:220\u001b[0m, in \u001b[0;36m_coerce_to_data_and_mask\u001b[0;34m(values, mask, dtype, copy, dtype_cls, default_dtype)\u001b[0m\n\u001b[1;32m    218\u001b[0m     values \u001b[38;5;241m=\u001b[39m values\u001b[38;5;241m.\u001b[39mastype(dtype, copy\u001b[38;5;241m=\u001b[39mcopy)\n\u001b[1;32m    219\u001b[0m \u001b[38;5;28;01melse\u001b[39;00m:\n\u001b[0;32m--> 220\u001b[0m     values \u001b[38;5;241m=\u001b[39m \u001b[43mdtype_cls\u001b[49m\u001b[38;5;241;43m.\u001b[39;49m\u001b[43m_safe_cast\u001b[49m\u001b[43m(\u001b[49m\u001b[43mvalues\u001b[49m\u001b[43m,\u001b[49m\u001b[43m \u001b[49m\u001b[43mdtype\u001b[49m\u001b[43m,\u001b[49m\u001b[43m \u001b[49m\u001b[43mcopy\u001b[49m\u001b[38;5;241;43m=\u001b[39;49m\u001b[38;5;28;43;01mFalse\u001b[39;49;00m\u001b[43m)\u001b[49m\n\u001b[1;32m    222\u001b[0m \u001b[38;5;28;01mreturn\u001b[39;00m values, mask, dtype, inferred_type\n",
      "File \u001b[0;32m~/anaconda3/envs/sds2023/lib/python3.11/site-packages/pandas/core/arrays/integer.py:53\u001b[0m, in \u001b[0;36mIntegerDtype._safe_cast\u001b[0;34m(cls, values, dtype, copy)\u001b[0m\n\u001b[1;32m     51\u001b[0m     \u001b[38;5;28;01mreturn\u001b[39;00m values\u001b[38;5;241m.\u001b[39mastype(dtype, casting\u001b[38;5;241m=\u001b[39m\u001b[38;5;124m\"\u001b[39m\u001b[38;5;124msafe\u001b[39m\u001b[38;5;124m\"\u001b[39m, copy\u001b[38;5;241m=\u001b[39mcopy)\n\u001b[1;32m     52\u001b[0m \u001b[38;5;28;01mexcept\u001b[39;00m \u001b[38;5;167;01mTypeError\u001b[39;00m \u001b[38;5;28;01mas\u001b[39;00m err:\n\u001b[0;32m---> 53\u001b[0m     casted \u001b[38;5;241m=\u001b[39m \u001b[43mvalues\u001b[49m\u001b[38;5;241;43m.\u001b[39;49m\u001b[43mastype\u001b[49m\u001b[43m(\u001b[49m\u001b[43mdtype\u001b[49m\u001b[43m,\u001b[49m\u001b[43m \u001b[49m\u001b[43mcopy\u001b[49m\u001b[38;5;241;43m=\u001b[39;49m\u001b[43mcopy\u001b[49m\u001b[43m)\u001b[49m\n\u001b[1;32m     54\u001b[0m     \u001b[38;5;28;01mif\u001b[39;00m (casted \u001b[38;5;241m==\u001b[39m values)\u001b[38;5;241m.\u001b[39mall():\n\u001b[1;32m     55\u001b[0m         \u001b[38;5;28;01mreturn\u001b[39;00m casted\n",
      "\u001b[0;31mValueError\u001b[0m: invalid literal for int() with base 10: ''"
     ]
    }
   ],
   "source": []
  },
  {
   "cell_type": "code",
   "execution_count": 307,
   "id": "cd22d63d",
   "metadata": {},
   "outputs": [],
   "source": [
    "# create new column with the pao_start_number plus pa_start_suffix \n",
    "other_AB['pao_start_num_suffix'] = other_AB.apply(lambda x: np.where(x['pao_start_number']== 0, '', x['pao_start_number']) + np.where(x['pao_start_suffix']== 0, '', x['pao_start_suffix']), axis= 1)"
   ]
  },
  {
   "cell_type": "code",
   "execution_count": 309,
   "id": "facd60fa",
   "metadata": {},
   "outputs": [
    {
     "data": {
      "text/plain": [
       "0    \n",
       "1    \n",
       "2    \n",
       "3    \n",
       "4    \n",
       "Name: pao_start_num_suffix, dtype: object"
      ]
     },
     "execution_count": 309,
     "metadata": {},
     "output_type": "execute_result"
    }
   ],
   "source": [
    "other_AB['pao_start_num_suffix'].head()"
   ]
  },
  {
   "cell_type": "code",
   "execution_count": 322,
   "id": "dba4b636",
   "metadata": {},
   "outputs": [
    {
     "ename": "ValueError",
     "evalue": "invalid literal for int() with base 10: ''",
     "output_type": "error",
     "traceback": [
      "\u001b[0;31m---------------------------------------------------------------------------\u001b[0m",
      "\u001b[0;31mTypeError\u001b[0m                                 Traceback (most recent call last)",
      "File \u001b[0;32m~/anaconda3/envs/sds2023/lib/python3.11/site-packages/pandas/core/arrays/integer.py:51\u001b[0m, in \u001b[0;36mIntegerDtype._safe_cast\u001b[0;34m(cls, values, dtype, copy)\u001b[0m\n\u001b[1;32m     50\u001b[0m \u001b[38;5;28;01mtry\u001b[39;00m:\n\u001b[0;32m---> 51\u001b[0m     \u001b[38;5;28;01mreturn\u001b[39;00m \u001b[43mvalues\u001b[49m\u001b[38;5;241;43m.\u001b[39;49m\u001b[43mastype\u001b[49m\u001b[43m(\u001b[49m\u001b[43mdtype\u001b[49m\u001b[43m,\u001b[49m\u001b[43m \u001b[49m\u001b[43mcasting\u001b[49m\u001b[38;5;241;43m=\u001b[39;49m\u001b[38;5;124;43m\"\u001b[39;49m\u001b[38;5;124;43msafe\u001b[39;49m\u001b[38;5;124;43m\"\u001b[39;49m\u001b[43m,\u001b[49m\u001b[43m \u001b[49m\u001b[43mcopy\u001b[49m\u001b[38;5;241;43m=\u001b[39;49m\u001b[43mcopy\u001b[49m\u001b[43m)\u001b[49m\n\u001b[1;32m     52\u001b[0m \u001b[38;5;28;01mexcept\u001b[39;00m \u001b[38;5;167;01mTypeError\u001b[39;00m \u001b[38;5;28;01mas\u001b[39;00m err:\n",
      "\u001b[0;31mTypeError\u001b[0m: Cannot cast array data from dtype('O') to dtype('int64') according to the rule 'safe'",
      "\nDuring handling of the above exception, another exception occurred:\n",
      "\u001b[0;31mValueError\u001b[0m                                Traceback (most recent call last)",
      "Cell \u001b[0;32mIn[322], line 1\u001b[0m\n\u001b[0;32m----> 1\u001b[0m \u001b[43mother_AB\u001b[49m\u001b[43m[\u001b[49m\u001b[43mother_AB\u001b[49m\u001b[43m[\u001b[49m\u001b[38;5;124;43m'\u001b[39;49m\u001b[38;5;124;43mpostcode_locator\u001b[39;49m\u001b[38;5;124;43m'\u001b[39;49m\u001b[43m]\u001b[49m\u001b[43m \u001b[49m\u001b[38;5;241;43m==\u001b[39;49m\u001b[43m \u001b[49m\u001b[38;5;124;43m'\u001b[39;49m\u001b[38;5;124;43mHA0 4QS\u001b[39;49m\u001b[38;5;124;43m'\u001b[39;49m\u001b[43m]\u001b[49m\u001b[43m[\u001b[49m\u001b[38;5;124;43m'\u001b[39;49m\u001b[38;5;124;43mpao_start_number\u001b[39;49m\u001b[38;5;124;43m'\u001b[39;49m\u001b[43m]\u001b[49m\u001b[38;5;241;43m.\u001b[39;49m\u001b[43mastype\u001b[49m\u001b[43m(\u001b[49m\u001b[38;5;124;43m'\u001b[39;49m\u001b[38;5;124;43mInt64\u001b[39;49m\u001b[38;5;124;43m'\u001b[39;49m\u001b[43m)\u001b[49m\n",
      "File \u001b[0;32m~/anaconda3/envs/sds2023/lib/python3.11/site-packages/pandas/core/generic.py:6534\u001b[0m, in \u001b[0;36mNDFrame.astype\u001b[0;34m(self, dtype, copy, errors)\u001b[0m\n\u001b[1;32m   6530\u001b[0m     results \u001b[38;5;241m=\u001b[39m [ser\u001b[38;5;241m.\u001b[39mastype(dtype, copy\u001b[38;5;241m=\u001b[39mcopy) \u001b[38;5;28;01mfor\u001b[39;00m _, ser \u001b[38;5;129;01min\u001b[39;00m \u001b[38;5;28mself\u001b[39m\u001b[38;5;241m.\u001b[39mitems()]\n\u001b[1;32m   6532\u001b[0m \u001b[38;5;28;01melse\u001b[39;00m:\n\u001b[1;32m   6533\u001b[0m     \u001b[38;5;66;03m# else, only a single dtype is given\u001b[39;00m\n\u001b[0;32m-> 6534\u001b[0m     new_data \u001b[38;5;241m=\u001b[39m \u001b[38;5;28;43mself\u001b[39;49m\u001b[38;5;241;43m.\u001b[39;49m\u001b[43m_mgr\u001b[49m\u001b[38;5;241;43m.\u001b[39;49m\u001b[43mastype\u001b[49m\u001b[43m(\u001b[49m\u001b[43mdtype\u001b[49m\u001b[38;5;241;43m=\u001b[39;49m\u001b[43mdtype\u001b[49m\u001b[43m,\u001b[49m\u001b[43m \u001b[49m\u001b[43mcopy\u001b[49m\u001b[38;5;241;43m=\u001b[39;49m\u001b[43mcopy\u001b[49m\u001b[43m,\u001b[49m\u001b[43m \u001b[49m\u001b[43merrors\u001b[49m\u001b[38;5;241;43m=\u001b[39;49m\u001b[43merrors\u001b[49m\u001b[43m)\u001b[49m\n\u001b[1;32m   6535\u001b[0m     res \u001b[38;5;241m=\u001b[39m \u001b[38;5;28mself\u001b[39m\u001b[38;5;241m.\u001b[39m_constructor_from_mgr(new_data, axes\u001b[38;5;241m=\u001b[39mnew_data\u001b[38;5;241m.\u001b[39maxes)\n\u001b[1;32m   6536\u001b[0m     \u001b[38;5;28;01mreturn\u001b[39;00m res\u001b[38;5;241m.\u001b[39m__finalize__(\u001b[38;5;28mself\u001b[39m, method\u001b[38;5;241m=\u001b[39m\u001b[38;5;124m\"\u001b[39m\u001b[38;5;124mastype\u001b[39m\u001b[38;5;124m\"\u001b[39m)\n",
      "File \u001b[0;32m~/anaconda3/envs/sds2023/lib/python3.11/site-packages/pandas/core/internals/managers.py:414\u001b[0m, in \u001b[0;36mBaseBlockManager.astype\u001b[0;34m(self, dtype, copy, errors)\u001b[0m\n\u001b[1;32m    411\u001b[0m \u001b[38;5;28;01melif\u001b[39;00m using_copy_on_write():\n\u001b[1;32m    412\u001b[0m     copy \u001b[38;5;241m=\u001b[39m \u001b[38;5;28;01mFalse\u001b[39;00m\n\u001b[0;32m--> 414\u001b[0m \u001b[38;5;28;01mreturn\u001b[39;00m \u001b[38;5;28;43mself\u001b[39;49m\u001b[38;5;241;43m.\u001b[39;49m\u001b[43mapply\u001b[49m\u001b[43m(\u001b[49m\n\u001b[1;32m    415\u001b[0m \u001b[43m    \u001b[49m\u001b[38;5;124;43m\"\u001b[39;49m\u001b[38;5;124;43mastype\u001b[39;49m\u001b[38;5;124;43m\"\u001b[39;49m\u001b[43m,\u001b[49m\n\u001b[1;32m    416\u001b[0m \u001b[43m    \u001b[49m\u001b[43mdtype\u001b[49m\u001b[38;5;241;43m=\u001b[39;49m\u001b[43mdtype\u001b[49m\u001b[43m,\u001b[49m\n\u001b[1;32m    417\u001b[0m \u001b[43m    \u001b[49m\u001b[43mcopy\u001b[49m\u001b[38;5;241;43m=\u001b[39;49m\u001b[43mcopy\u001b[49m\u001b[43m,\u001b[49m\n\u001b[1;32m    418\u001b[0m \u001b[43m    \u001b[49m\u001b[43merrors\u001b[49m\u001b[38;5;241;43m=\u001b[39;49m\u001b[43merrors\u001b[49m\u001b[43m,\u001b[49m\n\u001b[1;32m    419\u001b[0m \u001b[43m    \u001b[49m\u001b[43musing_cow\u001b[49m\u001b[38;5;241;43m=\u001b[39;49m\u001b[43musing_copy_on_write\u001b[49m\u001b[43m(\u001b[49m\u001b[43m)\u001b[49m\u001b[43m,\u001b[49m\n\u001b[1;32m    420\u001b[0m \u001b[43m\u001b[49m\u001b[43m)\u001b[49m\n",
      "File \u001b[0;32m~/anaconda3/envs/sds2023/lib/python3.11/site-packages/pandas/core/internals/managers.py:354\u001b[0m, in \u001b[0;36mBaseBlockManager.apply\u001b[0;34m(self, f, align_keys, **kwargs)\u001b[0m\n\u001b[1;32m    352\u001b[0m         applied \u001b[38;5;241m=\u001b[39m b\u001b[38;5;241m.\u001b[39mapply(f, \u001b[38;5;241m*\u001b[39m\u001b[38;5;241m*\u001b[39mkwargs)\n\u001b[1;32m    353\u001b[0m     \u001b[38;5;28;01melse\u001b[39;00m:\n\u001b[0;32m--> 354\u001b[0m         applied \u001b[38;5;241m=\u001b[39m \u001b[38;5;28;43mgetattr\u001b[39;49m\u001b[43m(\u001b[49m\u001b[43mb\u001b[49m\u001b[43m,\u001b[49m\u001b[43m \u001b[49m\u001b[43mf\u001b[49m\u001b[43m)\u001b[49m\u001b[43m(\u001b[49m\u001b[38;5;241;43m*\u001b[39;49m\u001b[38;5;241;43m*\u001b[39;49m\u001b[43mkwargs\u001b[49m\u001b[43m)\u001b[49m\n\u001b[1;32m    355\u001b[0m     result_blocks \u001b[38;5;241m=\u001b[39m extend_blocks(applied, result_blocks)\n\u001b[1;32m    357\u001b[0m out \u001b[38;5;241m=\u001b[39m \u001b[38;5;28mtype\u001b[39m(\u001b[38;5;28mself\u001b[39m)\u001b[38;5;241m.\u001b[39mfrom_blocks(result_blocks, \u001b[38;5;28mself\u001b[39m\u001b[38;5;241m.\u001b[39maxes)\n",
      "File \u001b[0;32m~/anaconda3/envs/sds2023/lib/python3.11/site-packages/pandas/core/internals/blocks.py:616\u001b[0m, in \u001b[0;36mBlock.astype\u001b[0;34m(self, dtype, copy, errors, using_cow)\u001b[0m\n\u001b[1;32m    596\u001b[0m \u001b[38;5;250m\u001b[39m\u001b[38;5;124;03m\"\"\"\u001b[39;00m\n\u001b[1;32m    597\u001b[0m \u001b[38;5;124;03mCoerce to the new dtype.\u001b[39;00m\n\u001b[1;32m    598\u001b[0m \n\u001b[0;32m   (...)\u001b[0m\n\u001b[1;32m    612\u001b[0m \u001b[38;5;124;03mBlock\u001b[39;00m\n\u001b[1;32m    613\u001b[0m \u001b[38;5;124;03m\"\"\"\u001b[39;00m\n\u001b[1;32m    614\u001b[0m values \u001b[38;5;241m=\u001b[39m \u001b[38;5;28mself\u001b[39m\u001b[38;5;241m.\u001b[39mvalues\n\u001b[0;32m--> 616\u001b[0m new_values \u001b[38;5;241m=\u001b[39m \u001b[43mastype_array_safe\u001b[49m\u001b[43m(\u001b[49m\u001b[43mvalues\u001b[49m\u001b[43m,\u001b[49m\u001b[43m \u001b[49m\u001b[43mdtype\u001b[49m\u001b[43m,\u001b[49m\u001b[43m \u001b[49m\u001b[43mcopy\u001b[49m\u001b[38;5;241;43m=\u001b[39;49m\u001b[43mcopy\u001b[49m\u001b[43m,\u001b[49m\u001b[43m \u001b[49m\u001b[43merrors\u001b[49m\u001b[38;5;241;43m=\u001b[39;49m\u001b[43merrors\u001b[49m\u001b[43m)\u001b[49m\n\u001b[1;32m    618\u001b[0m new_values \u001b[38;5;241m=\u001b[39m maybe_coerce_values(new_values)\n\u001b[1;32m    620\u001b[0m refs \u001b[38;5;241m=\u001b[39m \u001b[38;5;28;01mNone\u001b[39;00m\n",
      "File \u001b[0;32m~/anaconda3/envs/sds2023/lib/python3.11/site-packages/pandas/core/dtypes/astype.py:238\u001b[0m, in \u001b[0;36mastype_array_safe\u001b[0;34m(values, dtype, copy, errors)\u001b[0m\n\u001b[1;32m    235\u001b[0m     dtype \u001b[38;5;241m=\u001b[39m dtype\u001b[38;5;241m.\u001b[39mnumpy_dtype\n\u001b[1;32m    237\u001b[0m \u001b[38;5;28;01mtry\u001b[39;00m:\n\u001b[0;32m--> 238\u001b[0m     new_values \u001b[38;5;241m=\u001b[39m \u001b[43mastype_array\u001b[49m\u001b[43m(\u001b[49m\u001b[43mvalues\u001b[49m\u001b[43m,\u001b[49m\u001b[43m \u001b[49m\u001b[43mdtype\u001b[49m\u001b[43m,\u001b[49m\u001b[43m \u001b[49m\u001b[43mcopy\u001b[49m\u001b[38;5;241;43m=\u001b[39;49m\u001b[43mcopy\u001b[49m\u001b[43m)\u001b[49m\n\u001b[1;32m    239\u001b[0m \u001b[38;5;28;01mexcept\u001b[39;00m (\u001b[38;5;167;01mValueError\u001b[39;00m, \u001b[38;5;167;01mTypeError\u001b[39;00m):\n\u001b[1;32m    240\u001b[0m     \u001b[38;5;66;03m# e.g. _astype_nansafe can fail on object-dtype of strings\u001b[39;00m\n\u001b[1;32m    241\u001b[0m     \u001b[38;5;66;03m#  trying to convert to float\u001b[39;00m\n\u001b[1;32m    242\u001b[0m     \u001b[38;5;28;01mif\u001b[39;00m errors \u001b[38;5;241m==\u001b[39m \u001b[38;5;124m\"\u001b[39m\u001b[38;5;124mignore\u001b[39m\u001b[38;5;124m\"\u001b[39m:\n",
      "File \u001b[0;32m~/anaconda3/envs/sds2023/lib/python3.11/site-packages/pandas/core/dtypes/astype.py:183\u001b[0m, in \u001b[0;36mastype_array\u001b[0;34m(values, dtype, copy)\u001b[0m\n\u001b[1;32m    180\u001b[0m     values \u001b[38;5;241m=\u001b[39m values\u001b[38;5;241m.\u001b[39mastype(dtype, copy\u001b[38;5;241m=\u001b[39mcopy)\n\u001b[1;32m    182\u001b[0m \u001b[38;5;28;01melse\u001b[39;00m:\n\u001b[0;32m--> 183\u001b[0m     values \u001b[38;5;241m=\u001b[39m \u001b[43m_astype_nansafe\u001b[49m\u001b[43m(\u001b[49m\u001b[43mvalues\u001b[49m\u001b[43m,\u001b[49m\u001b[43m \u001b[49m\u001b[43mdtype\u001b[49m\u001b[43m,\u001b[49m\u001b[43m \u001b[49m\u001b[43mcopy\u001b[49m\u001b[38;5;241;43m=\u001b[39;49m\u001b[43mcopy\u001b[49m\u001b[43m)\u001b[49m\n\u001b[1;32m    185\u001b[0m \u001b[38;5;66;03m# in pandas we don't store numpy str dtypes, so convert to object\u001b[39;00m\n\u001b[1;32m    186\u001b[0m \u001b[38;5;28;01mif\u001b[39;00m \u001b[38;5;28misinstance\u001b[39m(dtype, np\u001b[38;5;241m.\u001b[39mdtype) \u001b[38;5;129;01mand\u001b[39;00m \u001b[38;5;28missubclass\u001b[39m(values\u001b[38;5;241m.\u001b[39mdtype\u001b[38;5;241m.\u001b[39mtype, \u001b[38;5;28mstr\u001b[39m):\n",
      "File \u001b[0;32m~/anaconda3/envs/sds2023/lib/python3.11/site-packages/pandas/core/dtypes/astype.py:80\u001b[0m, in \u001b[0;36m_astype_nansafe\u001b[0;34m(arr, dtype, copy, skipna)\u001b[0m\n\u001b[1;32m     78\u001b[0m \u001b[38;5;66;03m# dispatch on extension dtype if needed\u001b[39;00m\n\u001b[1;32m     79\u001b[0m \u001b[38;5;28;01mif\u001b[39;00m \u001b[38;5;28misinstance\u001b[39m(dtype, ExtensionDtype):\n\u001b[0;32m---> 80\u001b[0m     \u001b[38;5;28;01mreturn\u001b[39;00m \u001b[43mdtype\u001b[49m\u001b[38;5;241;43m.\u001b[39;49m\u001b[43mconstruct_array_type\u001b[49m\u001b[43m(\u001b[49m\u001b[43m)\u001b[49m\u001b[38;5;241;43m.\u001b[39;49m\u001b[43m_from_sequence\u001b[49m\u001b[43m(\u001b[49m\u001b[43marr\u001b[49m\u001b[43m,\u001b[49m\u001b[43m \u001b[49m\u001b[43mdtype\u001b[49m\u001b[38;5;241;43m=\u001b[39;49m\u001b[43mdtype\u001b[49m\u001b[43m,\u001b[49m\u001b[43m \u001b[49m\u001b[43mcopy\u001b[49m\u001b[38;5;241;43m=\u001b[39;49m\u001b[43mcopy\u001b[49m\u001b[43m)\u001b[49m\n\u001b[1;32m     82\u001b[0m \u001b[38;5;28;01melif\u001b[39;00m \u001b[38;5;129;01mnot\u001b[39;00m \u001b[38;5;28misinstance\u001b[39m(dtype, np\u001b[38;5;241m.\u001b[39mdtype):  \u001b[38;5;66;03m# pragma: no cover\u001b[39;00m\n\u001b[1;32m     83\u001b[0m     \u001b[38;5;28;01mraise\u001b[39;00m \u001b[38;5;167;01mValueError\u001b[39;00m(\u001b[38;5;124m\"\u001b[39m\u001b[38;5;124mdtype must be np.dtype or ExtensionDtype\u001b[39m\u001b[38;5;124m\"\u001b[39m)\n",
      "File \u001b[0;32m~/anaconda3/envs/sds2023/lib/python3.11/site-packages/pandas/core/arrays/masked.py:149\u001b[0m, in \u001b[0;36mBaseMaskedArray._from_sequence\u001b[0;34m(cls, scalars, dtype, copy)\u001b[0m\n\u001b[1;32m    147\u001b[0m \u001b[38;5;129m@classmethod\u001b[39m\n\u001b[1;32m    148\u001b[0m \u001b[38;5;28;01mdef\u001b[39;00m \u001b[38;5;21m_from_sequence\u001b[39m(\u001b[38;5;28mcls\u001b[39m, scalars, \u001b[38;5;241m*\u001b[39m, dtype\u001b[38;5;241m=\u001b[39m\u001b[38;5;28;01mNone\u001b[39;00m, copy: \u001b[38;5;28mbool\u001b[39m \u001b[38;5;241m=\u001b[39m \u001b[38;5;28;01mFalse\u001b[39;00m) \u001b[38;5;241m-\u001b[39m\u001b[38;5;241m>\u001b[39m Self:\n\u001b[0;32m--> 149\u001b[0m     values, mask \u001b[38;5;241m=\u001b[39m \u001b[38;5;28;43mcls\u001b[39;49m\u001b[38;5;241;43m.\u001b[39;49m\u001b[43m_coerce_to_array\u001b[49m\u001b[43m(\u001b[49m\u001b[43mscalars\u001b[49m\u001b[43m,\u001b[49m\u001b[43m \u001b[49m\u001b[43mdtype\u001b[49m\u001b[38;5;241;43m=\u001b[39;49m\u001b[43mdtype\u001b[49m\u001b[43m,\u001b[49m\u001b[43m \u001b[49m\u001b[43mcopy\u001b[49m\u001b[38;5;241;43m=\u001b[39;49m\u001b[43mcopy\u001b[49m\u001b[43m)\u001b[49m\n\u001b[1;32m    150\u001b[0m     \u001b[38;5;28;01mreturn\u001b[39;00m \u001b[38;5;28mcls\u001b[39m(values, mask)\n",
      "File \u001b[0;32m~/anaconda3/envs/sds2023/lib/python3.11/site-packages/pandas/core/arrays/numeric.py:264\u001b[0m, in \u001b[0;36mNumericArray._coerce_to_array\u001b[0;34m(cls, value, dtype, copy)\u001b[0m\n\u001b[1;32m    262\u001b[0m default_dtype \u001b[38;5;241m=\u001b[39m dtype_cls\u001b[38;5;241m.\u001b[39m_default_np_dtype\n\u001b[1;32m    263\u001b[0m mask \u001b[38;5;241m=\u001b[39m \u001b[38;5;28;01mNone\u001b[39;00m\n\u001b[0;32m--> 264\u001b[0m values, mask, _, _ \u001b[38;5;241m=\u001b[39m \u001b[43m_coerce_to_data_and_mask\u001b[49m\u001b[43m(\u001b[49m\n\u001b[1;32m    265\u001b[0m \u001b[43m    \u001b[49m\u001b[43mvalue\u001b[49m\u001b[43m,\u001b[49m\u001b[43m \u001b[49m\u001b[43mmask\u001b[49m\u001b[43m,\u001b[49m\u001b[43m \u001b[49m\u001b[43mdtype\u001b[49m\u001b[43m,\u001b[49m\u001b[43m \u001b[49m\u001b[43mcopy\u001b[49m\u001b[43m,\u001b[49m\u001b[43m \u001b[49m\u001b[43mdtype_cls\u001b[49m\u001b[43m,\u001b[49m\u001b[43m \u001b[49m\u001b[43mdefault_dtype\u001b[49m\n\u001b[1;32m    266\u001b[0m \u001b[43m\u001b[49m\u001b[43m)\u001b[49m\n\u001b[1;32m    267\u001b[0m \u001b[38;5;28;01mreturn\u001b[39;00m values, mask\n",
      "File \u001b[0;32m~/anaconda3/envs/sds2023/lib/python3.11/site-packages/pandas/core/arrays/numeric.py:220\u001b[0m, in \u001b[0;36m_coerce_to_data_and_mask\u001b[0;34m(values, mask, dtype, copy, dtype_cls, default_dtype)\u001b[0m\n\u001b[1;32m    218\u001b[0m     values \u001b[38;5;241m=\u001b[39m values\u001b[38;5;241m.\u001b[39mastype(dtype, copy\u001b[38;5;241m=\u001b[39mcopy)\n\u001b[1;32m    219\u001b[0m \u001b[38;5;28;01melse\u001b[39;00m:\n\u001b[0;32m--> 220\u001b[0m     values \u001b[38;5;241m=\u001b[39m \u001b[43mdtype_cls\u001b[49m\u001b[38;5;241;43m.\u001b[39;49m\u001b[43m_safe_cast\u001b[49m\u001b[43m(\u001b[49m\u001b[43mvalues\u001b[49m\u001b[43m,\u001b[49m\u001b[43m \u001b[49m\u001b[43mdtype\u001b[49m\u001b[43m,\u001b[49m\u001b[43m \u001b[49m\u001b[43mcopy\u001b[49m\u001b[38;5;241;43m=\u001b[39;49m\u001b[38;5;28;43;01mFalse\u001b[39;49;00m\u001b[43m)\u001b[49m\n\u001b[1;32m    222\u001b[0m \u001b[38;5;28;01mreturn\u001b[39;00m values, mask, dtype, inferred_type\n",
      "File \u001b[0;32m~/anaconda3/envs/sds2023/lib/python3.11/site-packages/pandas/core/arrays/integer.py:53\u001b[0m, in \u001b[0;36mIntegerDtype._safe_cast\u001b[0;34m(cls, values, dtype, copy)\u001b[0m\n\u001b[1;32m     51\u001b[0m     \u001b[38;5;28;01mreturn\u001b[39;00m values\u001b[38;5;241m.\u001b[39mastype(dtype, casting\u001b[38;5;241m=\u001b[39m\u001b[38;5;124m\"\u001b[39m\u001b[38;5;124msafe\u001b[39m\u001b[38;5;124m\"\u001b[39m, copy\u001b[38;5;241m=\u001b[39mcopy)\n\u001b[1;32m     52\u001b[0m \u001b[38;5;28;01mexcept\u001b[39;00m \u001b[38;5;167;01mTypeError\u001b[39;00m \u001b[38;5;28;01mas\u001b[39;00m err:\n\u001b[0;32m---> 53\u001b[0m     casted \u001b[38;5;241m=\u001b[39m \u001b[43mvalues\u001b[49m\u001b[38;5;241;43m.\u001b[39;49m\u001b[43mastype\u001b[49m\u001b[43m(\u001b[49m\u001b[43mdtype\u001b[49m\u001b[43m,\u001b[49m\u001b[43m \u001b[49m\u001b[43mcopy\u001b[49m\u001b[38;5;241;43m=\u001b[39;49m\u001b[43mcopy\u001b[49m\u001b[43m)\u001b[49m\n\u001b[1;32m     54\u001b[0m     \u001b[38;5;28;01mif\u001b[39;00m (casted \u001b[38;5;241m==\u001b[39m values)\u001b[38;5;241m.\u001b[39mall():\n\u001b[1;32m     55\u001b[0m         \u001b[38;5;28;01mreturn\u001b[39;00m casted\n",
      "\u001b[0;31mValueError\u001b[0m: invalid literal for int() with base 10: ''"
     ]
    }
   ],
   "source": [
    "other_AB[other_AB['postcode_locator'] == 'HA0 4QS']['pao_start_number'].astype('Int64')"
   ]
  },
  {
   "cell_type": "code",
   "execution_count": 294,
   "id": "97fa3204",
   "metadata": {},
   "outputs": [
    {
     "data": {
      "text/html": [
       "<div>\n",
       "<style scoped>\n",
       "    .dataframe tbody tr th:only-of-type {\n",
       "        vertical-align: middle;\n",
       "    }\n",
       "\n",
       "    .dataframe tbody tr th {\n",
       "        vertical-align: top;\n",
       "    }\n",
       "\n",
       "    .dataframe thead th {\n",
       "        text-align: right;\n",
       "    }\n",
       "</style>\n",
       "<table border=\"1\" class=\"dataframe\">\n",
       "  <thead>\n",
       "    <tr style=\"text-align: right;\">\n",
       "      <th></th>\n",
       "      <th>uprn</th>\n",
       "      <th>class</th>\n",
       "      <th>parent_uprn</th>\n",
       "      <th>latitude</th>\n",
       "      <th>longitude</th>\n",
       "      <th>country</th>\n",
       "      <th>legal_name</th>\n",
       "      <th>sub_building_name</th>\n",
       "      <th>building_name</th>\n",
       "      <th>building_number</th>\n",
       "      <th>...</th>\n",
       "      <th>locality</th>\n",
       "      <th>town_name</th>\n",
       "      <th>administrative_area</th>\n",
       "      <th>post_town</th>\n",
       "      <th>postcode</th>\n",
       "      <th>postcode_locator</th>\n",
       "      <th>postcode_sector</th>\n",
       "      <th>parsed_address1</th>\n",
       "      <th>parsed_address2</th>\n",
       "      <th>pao_start_num_suffix</th>\n",
       "    </tr>\n",
       "  </thead>\n",
       "  <tbody>\n",
       "    <tr>\n",
       "      <th>0</th>\n",
       "      <td>10013268085</td>\n",
       "      <td>LU01</td>\n",
       "      <td></td>\n",
       "      <td>51.628915</td>\n",
       "      <td>0.471228</td>\n",
       "      <td>E</td>\n",
       "      <td></td>\n",
       "      <td></td>\n",
       "      <td></td>\n",
       "      <td></td>\n",
       "      <td>...</td>\n",
       "      <td>RAMSDEN HEATH</td>\n",
       "      <td>CHELMSFORD</td>\n",
       "      <td>ESSEX</td>\n",
       "      <td></td>\n",
       "      <td></td>\n",
       "      <td>CM11 1NN</td>\n",
       "      <td>CM11 1</td>\n",
       "      <td>MEEPSWOOD, PARK LANE</td>\n",
       "      <td>PARK LANE</td>\n",
       "      <td>0              \\n1              \\n2           ...</td>\n",
       "    </tr>\n",
       "    <tr>\n",
       "      <th>1</th>\n",
       "      <td>10014205932</td>\n",
       "      <td>PS</td>\n",
       "      <td></td>\n",
       "      <td>51.590568</td>\n",
       "      <td>0.600675</td>\n",
       "      <td>E</td>\n",
       "      <td></td>\n",
       "      <td></td>\n",
       "      <td></td>\n",
       "      <td></td>\n",
       "      <td>...</td>\n",
       "      <td></td>\n",
       "      <td>RAYLEIGH</td>\n",
       "      <td>ESSEX</td>\n",
       "      <td></td>\n",
       "      <td></td>\n",
       "      <td>SS6 9HJ</td>\n",
       "      <td>SS6 9</td>\n",
       "      <td>STREET RECORD, FOOTPATH FROM GLEBE DRIVE TO TH...</td>\n",
       "      <td>FOOTPATH FROM GLEBE DRIVE TO THE APPROACH</td>\n",
       "      <td>0              \\n1              \\n2           ...</td>\n",
       "    </tr>\n",
       "    <tr>\n",
       "      <th>2</th>\n",
       "      <td>10014456341</td>\n",
       "      <td>LD01</td>\n",
       "      <td></td>\n",
       "      <td>53.262298</td>\n",
       "      <td>-2.152675</td>\n",
       "      <td>E</td>\n",
       "      <td></td>\n",
       "      <td></td>\n",
       "      <td></td>\n",
       "      <td></td>\n",
       "      <td>...</td>\n",
       "      <td></td>\n",
       "      <td>MACCLESFIELD</td>\n",
       "      <td>CHESHIRE EAST</td>\n",
       "      <td></td>\n",
       "      <td></td>\n",
       "      <td>SK10 3GF</td>\n",
       "      <td>SK10 3</td>\n",
       "      <td>UNIT D5, PAVILION WAY</td>\n",
       "      <td>PAVILION WAY</td>\n",
       "      <td>0              \\n1              \\n2           ...</td>\n",
       "    </tr>\n",
       "    <tr>\n",
       "      <th>3</th>\n",
       "      <td>10015338472</td>\n",
       "      <td>OR01</td>\n",
       "      <td></td>\n",
       "      <td>50.703129</td>\n",
       "      <td>-4.411257</td>\n",
       "      <td>E</td>\n",
       "      <td></td>\n",
       "      <td></td>\n",
       "      <td></td>\n",
       "      <td></td>\n",
       "      <td>...</td>\n",
       "      <td>BOYTON</td>\n",
       "      <td>LAUNCESTON</td>\n",
       "      <td>CORNWALL</td>\n",
       "      <td></td>\n",
       "      <td></td>\n",
       "      <td>PL15 8NR</td>\n",
       "      <td>PL15 8</td>\n",
       "      <td>POST BOX 12M FROM 2 BENNACOTT COTTAGES ON B325...</td>\n",
       "      <td>B3254 FROM DOLSDON FARM TO BENNACOTT LAKE</td>\n",
       "      <td>0              \\n1              \\n2           ...</td>\n",
       "    </tr>\n",
       "    <tr>\n",
       "      <th>4</th>\n",
       "      <td>10015351527</td>\n",
       "      <td>OI10</td>\n",
       "      <td></td>\n",
       "      <td>54.781583</td>\n",
       "      <td>-2.355289</td>\n",
       "      <td>E</td>\n",
       "      <td></td>\n",
       "      <td></td>\n",
       "      <td></td>\n",
       "      <td></td>\n",
       "      <td>...</td>\n",
       "      <td></td>\n",
       "      <td>ALSTON</td>\n",
       "      <td>WESTMORLAND AND FURNESS</td>\n",
       "      <td></td>\n",
       "      <td></td>\n",
       "      <td>CA9 3NP</td>\n",
       "      <td>CA9 3</td>\n",
       "      <td>SHAFT 644M FROM FIDDLERS COTTAGE 117M FROM UNN...</td>\n",
       "      <td>NENTHEAD ON THE A689 TO THE C3039 CROSSING THE...</td>\n",
       "      <td>0              \\n1              \\n2           ...</td>\n",
       "    </tr>\n",
       "  </tbody>\n",
       "</table>\n",
       "<p>5 rows × 32 columns</p>\n",
       "</div>"
      ],
      "text/plain": [
       "          uprn class parent_uprn   latitude  longitude country legal_name  \\\n",
       "0  10013268085  LU01              51.628915   0.471228       E              \n",
       "1  10014205932    PS              51.590568   0.600675       E              \n",
       "2  10014456341  LD01              53.262298  -2.152675       E              \n",
       "3  10015338472  OR01              50.703129  -4.411257       E              \n",
       "4  10015351527  OI10              54.781583  -2.355289       E              \n",
       "\n",
       "  sub_building_name building_name building_number  ...       locality  \\\n",
       "0                                                  ...  RAMSDEN HEATH   \n",
       "1                                                  ...                  \n",
       "2                                                  ...                  \n",
       "3                                                  ...         BOYTON   \n",
       "4                                                  ...                  \n",
       "\n",
       "      town_name      administrative_area post_town postcode postcode_locator  \\\n",
       "0    CHELMSFORD                    ESSEX                            CM11 1NN   \n",
       "1      RAYLEIGH                    ESSEX                             SS6 9HJ   \n",
       "2  MACCLESFIELD            CHESHIRE EAST                            SK10 3GF   \n",
       "3    LAUNCESTON                 CORNWALL                            PL15 8NR   \n",
       "4        ALSTON  WESTMORLAND AND FURNESS                             CA9 3NP   \n",
       "\n",
       "  postcode_sector                                    parsed_address1  \\\n",
       "0          CM11 1                               MEEPSWOOD, PARK LANE   \n",
       "1           SS6 9  STREET RECORD, FOOTPATH FROM GLEBE DRIVE TO TH...   \n",
       "2          SK10 3                              UNIT D5, PAVILION WAY   \n",
       "3          PL15 8  POST BOX 12M FROM 2 BENNACOTT COTTAGES ON B325...   \n",
       "4           CA9 3  SHAFT 644M FROM FIDDLERS COTTAGE 117M FROM UNN...   \n",
       "\n",
       "                                     parsed_address2  \\\n",
       "0                                          PARK LANE   \n",
       "1          FOOTPATH FROM GLEBE DRIVE TO THE APPROACH   \n",
       "2                                       PAVILION WAY   \n",
       "3          B3254 FROM DOLSDON FARM TO BENNACOTT LAKE   \n",
       "4  NENTHEAD ON THE A689 TO THE C3039 CROSSING THE...   \n",
       "\n",
       "                                pao_start_num_suffix  \n",
       "0  0              \\n1              \\n2           ...  \n",
       "1  0              \\n1              \\n2           ...  \n",
       "2  0              \\n1              \\n2           ...  \n",
       "3  0              \\n1              \\n2           ...  \n",
       "4  0              \\n1              \\n2           ...  \n",
       "\n",
       "[5 rows x 32 columns]"
      ]
     },
     "execution_count": 294,
     "metadata": {},
     "output_type": "execute_result"
    }
   ],
   "source": [
    "other_AB.head()"
   ]
  },
  {
   "cell_type": "markdown",
   "id": "0ecb015d",
   "metadata": {},
   "source": [
    "------ DATA CLEANING PLANNING APPLICATION DATA  ----------\n"
   ]
  },
  {
   "cell_type": "code",
   "execution_count": 20,
   "id": "e4c96428",
   "metadata": {},
   "outputs": [
    {
     "data": {
      "text/plain": [
       "0           <NA>\n",
       "1           <NA>\n",
       "2           <NA>\n",
       "3           <NA>\n",
       "4           <NA>\n",
       "         ...    \n",
       "323    207182849\n",
       "324    207188743\n",
       "325    207188743\n",
       "326         <NA>\n",
       "327         <NA>\n",
       "Name: uprn_x, Length: 328, dtype: Int64"
      ]
     },
     "execution_count": 20,
     "metadata": {},
     "output_type": "execute_result"
    }
   ],
   "source": [
    "london_data['uprn_x']"
   ]
  },
  {
   "cell_type": "code",
   "execution_count": 18,
   "id": "74acf72f-612b-40cf-b6e9-353b7ca0f843",
   "metadata": {
    "tags": []
   },
   "outputs": [],
   "source": [
    "\n",
    "#BATCH 1 ONLY london_data has extra quotation marks, need to remove\n",
    "#london_data['uprn'] = london_data['uprn'].apply(lambda x: x.strip(\"''\") if not pd.isna(x) else x)\n"
   ]
  },
  {
   "cell_type": "code",
   "execution_count": 19,
   "id": "68b72a94-714d-4bc2-993f-a4342aae1f64",
   "metadata": {
    "tags": []
   },
   "outputs": [],
   "source": [
    "### ------ DATA CLEANING  ----------\n",
    "london_data['uprn_x'] = london_data['uprn_x'].astype('Int64')\n",
    "\n"
   ]
  },
  {
   "cell_type": "code",
   "execution_count": 21,
   "id": "2cb84de6-9c8a-46b7-8079-a2d0feaa1a8b",
   "metadata": {
    "tags": []
   },
   "outputs": [],
   "source": [
    "#cast the strings and make sure it looks good \n",
    "london_data['uprn_x'] = london_data['uprn_x'].astype('str') #apply(lambda x: str(x) if not pd.isna(x) else x)\n",
    "\n",
    "london_data['uprn_x'] = london_data['uprn_x'].apply(lambda x: '{0:0>12}'.format(x) if not pd.isna(x) else x)"
   ]
  },
  {
   "cell_type": "code",
   "execution_count": 22,
   "id": "e268f803-43d6-422d-a8d3-ea16f976ea71",
   "metadata": {
    "tags": []
   },
   "outputs": [],
   "source": [
    "### ------ DATA CLEANING  ----------\n",
    "\n",
    "london_data = london_data.replace('00000000<NA>',np.NaN)"
   ]
  },
  {
   "cell_type": "markdown",
   "id": "57361401",
   "metadata": {},
   "source": [
    "Ignore the creation of the columns below if matching a batch for a second, third, etc. time"
   ]
  },
  {
   "cell_type": "code",
   "execution_count": 20,
   "id": "5185cbad-13b5-4e16-a5f6-12c349dd89b2",
   "metadata": {
    "tags": []
   },
   "outputs": [],
   "source": [
    "### ------ DATA CLEANING  ----------\n",
    "#street address from site_name_LPA\n",
    "london_data['parsed_street_LPA'] = london_data['site_name_LPA'].apply(lambda x: re.findall(\"[0-9]+.-?.[0-9]+?\\s(.+)(Road|Lane|Avenue|Parade|Courtyard|Street|Gardens|Drive)\", x) if not pd.isna(x) and '-' in x\n",
    "                                                                  else (re.findall(\"[0-9]+\\s(.+)(Road|Lane|Avenue|Parade|Courtyard|Street|Gardens|Drive)\", x) if not pd.isna(x) else []))\n"
   ]
  },
  {
   "cell_type": "code",
   "execution_count": 21,
   "id": "e31741b8-ad97-4ccc-96cc-5d2aecbc258f",
   "metadata": {
    "tags": []
   },
   "outputs": [],
   "source": [
    "london_data['parsed_street_LPA'] =  london_data['parsed_street_LPA'].apply(lambda x: x[0][0] + x[0][1]  if len(x) > 0 else None)"
   ]
  },
  {
   "cell_type": "code",
   "execution_count": 22,
   "id": "46d0e2c6-a74a-4399-92d9-813f97ca4407",
   "metadata": {
    "tags": []
   },
   "outputs": [],
   "source": [
    "#cleaning - street address\n",
    "london_data['parsed_street_GLA'] = london_data['site_name_GLA'].apply(lambda x: re.findall(\"[0-9]+.-?.[0-9]+?\\s(.+)(Road|Lane|Avenue|Parade|Courtyard|Street|Gardens|Drive)\", x) if not pd.isna(x) and '-' in x\n",
    "                                                                  else (re.findall(\"[0-9]+\\s(.+)(Road|Lane|Avenue|Parade|Courtyard|Street|Gardens|Drive)\", x) if not pd.isna(x) else []))\n"
   ]
  },
  {
   "cell_type": "code",
   "execution_count": 23,
   "id": "91c78b6f-f3e5-4d06-92a3-fcdcbde921a7",
   "metadata": {
    "tags": []
   },
   "outputs": [],
   "source": [
    "london_data['parsed_street_GLA'] =  london_data['parsed_street_GLA'].apply(lambda x: x[0][0] + x[0][1]  if len(x) > 0 else None)"
   ]
  },
  {
   "cell_type": "code",
   "execution_count": 24,
   "id": "b23647b7-1efc-47b6-b392-71e3a42c3410",
   "metadata": {
    "tags": []
   },
   "outputs": [],
   "source": [
    "#if the original street was empty, then we want to use the LPA Or GLA parsed name as street_name \n",
    "\n",
    "london_data['street_name'] = np.where(london_data['street_name'].isnull(), np.where(london_data['parsed_street_LPA'].isnull(), london_data['parsed_street_GLA'], london_data['parsed_street_LPA']), london_data['street_name'] )"
   ]
  },
  {
   "cell_type": "code",
   "execution_count": 27,
   "id": "3a906a66-4f92-476f-bc42-6cc6f04f5060",
   "metadata": {
    "tags": []
   },
   "outputs": [],
   "source": [
    "# DATA EXPLORATION - EXPORT CSV IF NEEDED \n",
    "#london_data.to_csv('batch2_cleaned.csv', index = False)"
   ]
  },
  {
   "cell_type": "markdown",
   "id": "ff978fe9",
   "metadata": {},
   "source": [
    "Continue here to clean data for all batches"
   ]
  },
  {
   "cell_type": "code",
   "execution_count": 23,
   "id": "64c11874",
   "metadata": {},
   "outputs": [],
   "source": [
    "# create new column with the number, street description, and the site name \n",
    "london_data['concat_addr'] = np.where(london_data['site_name_clean'].isnull(), '', london_data['site_name_clean'] +  ', ' ) + london_data['site_number_clean'] + ', ' +  london_data['street_name']"
   ]
  },
  {
   "cell_type": "code",
   "execution_count": 24,
   "id": "6570e4c9",
   "metadata": {},
   "outputs": [],
   "source": [
    "london_data['concat_addr'] = london_data['concat_addr'].str.upper()"
   ]
  },
  {
   "cell_type": "code",
   "execution_count": 25,
   "id": "86564adf-dc20-4480-8e7a-b5169c2b006f",
   "metadata": {
    "tags": []
   },
   "outputs": [],
   "source": [
    "#make london_data all into capitals to regularize\n",
    "london_data['street_name'] = london_data['street_name'].str.upper()"
   ]
  },
  {
   "cell_type": "code",
   "execution_count": 26,
   "id": "f076f21a",
   "metadata": {},
   "outputs": [],
   "source": [
    "#remove unwanted characters\n",
    "london_data['postcode_clean'] = london_data['postcode_clean'].replace('x000D__x000D_\\n', '')"
   ]
  },
  {
   "cell_type": "code",
   "execution_count": 27,
   "id": "7983ae57",
   "metadata": {},
   "outputs": [],
   "source": [
    "london_data = london_data.replace({'_x000D__x000D_\\n': ' ', '_x000d__x000d_\\n': ' ' }, regex = True)"
   ]
  },
  {
   "cell_type": "code",
   "execution_count": 28,
   "id": "6b8877e7",
   "metadata": {},
   "outputs": [],
   "source": [
    "#remove white space\n",
    "london_data['postcode_clean'] = london_data['postcode_clean'].apply(lambda x: str(x).strip())"
   ]
  },
  {
   "cell_type": "code",
   "execution_count": 29,
   "id": "90f26137",
   "metadata": {},
   "outputs": [],
   "source": [
    "london_data['postcode_sector'] = london_data['postcode_clean'].apply(lambda x: x[:-2])"
   ]
  },
  {
   "cell_type": "code",
   "execution_count": 30,
   "id": "2aff7441",
   "metadata": {},
   "outputs": [],
   "source": [
    "#substring of site_name_GLA without the postcode .... \n",
    "london_data['site_name_GLA_no_pc'] = london_data.apply(lambda row: str(row['site_name_GLA']).upper().replace(', ' + row['postcode_clean'], ''), axis = 1)"
   ]
  },
  {
   "cell_type": "code",
   "execution_count": 31,
   "id": "2fae9845",
   "metadata": {},
   "outputs": [],
   "source": [
    "london_data['site_name_LPA_no_pc'] = london_data.apply(lambda row: str(row['site_name_LPA']).upper().replace(row['postcode_clean'], ''), axis = 1)\n"
   ]
  },
  {
   "cell_type": "markdown",
   "id": "1cf8f738",
   "metadata": {},
   "source": [
    "UPRN MATCHING: If reprocessing data that has already been matched, Ignore the Data matching on the UPRN / Parent UPRN"
   ]
  },
  {
   "cell_type": "code",
   "execution_count": 32,
   "id": "165b7859-ce81-4d40-ab87-e19f63f395f1",
   "metadata": {},
   "outputs": [],
   "source": [
    "#### -------- DATA MERGING --------\n",
    "#join the london data with the RESIDENTIAL AddressBase dataset on UPRN\n",
    "merged = london_data.merge(resi_AB, how = 'left', left_on = 'uprn', right_on = 'parent_uprn')\n",
    "\n",
    "#merged['UCL_ID'].nunique()"
   ]
  },
  {
   "cell_type": "code",
   "execution_count": 33,
   "id": "20c4535f-d653-4014-aa0a-594d74d508bf",
   "metadata": {
    "tags": []
   },
   "outputs": [],
   "source": [
    "#separate merged into no match and match \n",
    "merged_match, merged_no_match = separate_matches(merged, 'parent_uprn', 'parent_uprn')\n",
    "\n",
    "merged_no_match = merged_no_match.dropna(axis=1, how='all')"
   ]
  },
  {
   "cell_type": "code",
   "execution_count": 34,
   "id": "0bc94052-a4b0-4f8b-ab48-962d4b59a966",
   "metadata": {
    "tags": []
   },
   "outputs": [],
   "source": [
    "#merge 2 on uprn not parent_uprn \n",
    "merged_2 = merged_no_match.merge(resi_AB, how = 'left', left_on = 'uprn_x', right_on = 'uprn')"
   ]
  },
  {
   "cell_type": "code",
   "execution_count": 35,
   "id": "040b81bd-843c-4d4d-b4f3-262ac6ea6297",
   "metadata": {
    "tags": []
   },
   "outputs": [],
   "source": [
    "#separate the merge 2 into two datasets for match v not match \n",
    "merged_2_match, merged_2_no_match = separate_matches(merged_2, 'uprn', 'uprn')\n",
    "\n",
    "merged_2_no_match = merged_2_no_match.dropna(axis=1, how='all')      "
   ]
  },
  {
   "cell_type": "code",
   "execution_count": 36,
   "id": "ab0f9b30-ea0f-4385-b318-b411f7cd0a62",
   "metadata": {
    "tags": []
   },
   "outputs": [],
   "source": [
    "merged_2_match = merged_2_match.rename(columns={\"uprn\": \"uprn_OSAB\"})\n",
    "merged_match = merged_match.rename(columns={\"uprn_y\": \"uprn_OSAB\"})\n",
    "\n",
    "#merged_2_match.count()"
   ]
  },
  {
   "cell_type": "code",
   "execution_count": 37,
   "id": "7fc90bc5-3f98-4673-bb39-ecf74d8e7079",
   "metadata": {
    "tags": []
   },
   "outputs": [],
   "source": [
    "all_matched = pd.concat([merged_2_match, merged_match])\n"
   ]
  },
  {
   "cell_type": "markdown",
   "id": "8e19e1c5",
   "metadata": {},
   "source": [
    "ADDRESS MATCHING: For all matching versions: Address matching starts here"
   ]
  },
  {
   "cell_type": "code",
   "execution_count": 33,
   "id": "a072c78d",
   "metadata": {},
   "outputs": [],
   "source": [
    "merged_2_no_match = london_data"
   ]
  },
  {
   "cell_type": "code",
   "execution_count": 40,
   "id": "a7fa4dfe",
   "metadata": {},
   "outputs": [
    {
     "data": {
      "text/plain": [
       "UCL_ID                         328\n",
       "planning_application_number    328\n",
       "lpa_name                       328\n",
       "application_type               328\n",
       "application_type_full          231\n",
       "description                    308\n",
       "number_of_units                250\n",
       "site_number_clean              296\n",
       "street_name                    279\n",
       "postcode_clean                 328\n",
       "ward                           255\n",
       "site_name_clean                 75\n",
       "site_name_GLA                  255\n",
       "site_name_LPA                   28\n",
       "uprn_x                          90\n",
       "decision                       305\n",
       "status                         282\n",
       "application_date                27\n",
       "decision_date                    4\n",
       "PD_type                        328\n",
       "parsed_street_LPA               24\n",
       "parsed_street_GLA               63\n",
       "short_site_name_LPA]           255\n",
       "concat_addr                    265\n",
       "postcode_sector                328\n",
       "site_name_GLA_no_pc            328\n",
       "site_name_LPA_no_pc            328\n",
       "dtype: int64"
      ]
     },
     "execution_count": 40,
     "metadata": {},
     "output_type": "execute_result"
    }
   ],
   "source": [
    "london_data.count()"
   ]
  },
  {
   "cell_type": "markdown",
   "id": "d3da343b",
   "metadata": {},
   "source": [
    "-------- DATA MERGING --------  STRATEGY 1 ADDRESS MATCH"
   ]
  },
  {
   "cell_type": "code",
   "execution_count": 34,
   "id": "a0f39357-fdb8-474b-bb23-de10501ca4fe",
   "metadata": {
    "tags": []
   },
   "outputs": [],
   "source": [
    "## ADDRESS STRATEGY ONE \n",
    "#use the site name GLA no pc with the parsed address 1 \n",
    "left_columns = ['site_name_GLA_no_pc', 'postcode_clean']  #['site_number_clean', 'street_name', 'postcode_clean']\n",
    "right_columns = ['parsed_address1', 'postcode_locator'] #['building_number', 'street_description', 'postcode_locator']\n",
    "\n",
    "# this is a very strict conservative join \n",
    "merged_on_address = merged_2_no_match.merge(resi_AB, how = 'left', left_on = left_columns, right_on = right_columns)"
   ]
  },
  {
   "cell_type": "code",
   "execution_count": 35,
   "id": "11092479-5f92-497f-8b80-9567008c12f0",
   "metadata": {
    "tags": []
   },
   "outputs": [],
   "source": [
    "merged_on_address_match,merged_on_address_no_match =  separate_matches(merged_on_address, 'uprn', 'address_1')\n"
   ]
  },
  {
   "cell_type": "code",
   "execution_count": 37,
   "id": "8d89aad9-0b55-4447-ac08-db5b1c54b165",
   "metadata": {
    "tags": []
   },
   "outputs": [
    {
     "data": {
      "text/plain": [
       "0"
      ]
     },
     "execution_count": 37,
     "metadata": {},
     "output_type": "execute_result"
    }
   ],
   "source": [
    "#how many unique ids were matched?\n",
    "merged_on_address_match['UCL_ID'].nunique()"
   ]
  },
  {
   "cell_type": "code",
   "execution_count": 38,
   "id": "62afc2f3-632b-4e8a-95bf-988c18846964",
   "metadata": {},
   "outputs": [],
   "source": [
    "## Add the merged_on_address_match to the matched\n",
    "merged_on_address_match = merged_on_address_match.rename(columns={\"uprn\": \"uprn_OSAB\"})\n",
    "merged_on_address_match['match_strategy'] = 'address_1'\n",
    "\n",
    "all_matched = merged_on_address_match\n",
    "\n",
    "# Use this if UPRN was used for matching above\n",
    "#all_matched = pd.concat([all_matched, merged_on_address_match])\n",
    "\n",
    "merged_on_address_no_match = merged_on_address_no_match.dropna(axis=1, how='all')\n"
   ]
  },
  {
   "cell_type": "code",
   "execution_count": 39,
   "id": "e800933c-6c15-4721-a906-9b3be0082eb0",
   "metadata": {
    "tags": []
   },
   "outputs": [],
   "source": [
    "#### ADDRESS Strategy 2 - \n",
    "## use the site name LPA without post code ...\n",
    "left_columns_2 = ['site_name_LPA_no_pc', 'postcode_clean'] #London Data \n",
    "right_columns_2 =  ['parsed_address1', 'postcode_locator'] #AB\n",
    "\n",
    "merged_on_address2 = merged_on_address_no_match.merge(resi_AB, how = 'left', left_on = left_columns_2, right_on = right_columns_2)"
   ]
  },
  {
   "cell_type": "code",
   "execution_count": 41,
   "id": "8582e5bb-4f88-4289-9a13-e98f311f787e",
   "metadata": {
    "tags": []
   },
   "outputs": [],
   "source": [
    "merged_on_address2_match = merged_on_address2.drop(merged_on_address2[pd.isna(merged_on_address2['uprn']) == True].index) \n",
    "merged_on_address2_no_match = merged_on_address2.drop(merged_on_address2[pd.isna(merged_on_address2['uprn']) == False].index) \n"
   ]
  },
  {
   "cell_type": "code",
   "execution_count": 42,
   "id": "8327cfc8",
   "metadata": {},
   "outputs": [
    {
     "data": {
      "text/plain": [
       "0"
      ]
     },
     "execution_count": 42,
     "metadata": {},
     "output_type": "execute_result"
    }
   ],
   "source": [
    "merged_on_address2_match['UCL_ID'].nunique()"
   ]
  },
  {
   "cell_type": "code",
   "execution_count": 43,
   "id": "ecde76ef-a35b-4da0-baea-a37a0f3cbc3d",
   "metadata": {
    "tags": []
   },
   "outputs": [],
   "source": [
    "merged_on_address2_match = merged_on_address2_match.rename(columns={\"uprn\": \"uprn_OSAB\"})\n",
    "merged_on_address2_match = merged_on_address2_match.drop(columns = ['short_site_name_LPA]']) \n",
    "merged_on_address2_match['match_strategy'] = 'address_2'"
   ]
  },
  {
   "cell_type": "code",
   "execution_count": 44,
   "id": "8e1b91f2-a0d2-4006-94b4-676678c0df9d",
   "metadata": {
    "tags": []
   },
   "outputs": [],
   "source": [
    "all_matched = pd.concat([all_matched, merged_on_address2_match])"
   ]
  },
  {
   "cell_type": "code",
   "execution_count": 45,
   "id": "77c5d607-7552-4d46-98cd-9bcc6d4af088",
   "metadata": {
    "tags": []
   },
   "outputs": [],
   "source": [
    "merged_on_address2_no_match = merged_on_address2_no_match.dropna(axis=1, how='all')\n"
   ]
  },
  {
   "cell_type": "markdown",
   "id": "f70433ff",
   "metadata": {},
   "source": [
    "-------- DATA MERGING --------  STRATEGY 3 ADDRESS MATCH"
   ]
  },
  {
   "cell_type": "code",
   "execution_count": 46,
   "id": "f4984641-af06-44eb-a845-880f0cf64da9",
   "metadata": {},
   "outputs": [],
   "source": [
    "# #-------- DATA MERGING --------  STRATEGY 3 ADDRESS MATCH \n",
    " # use the site name GLA no pc with the parsed address 2 \n",
    "left_columns_3 = ['site_name_GLA_no_pc', 'postcode_clean'] \n",
    "right_columns_3 = ['parsed_address2', 'postcode_locator'] \n",
    "\n",
    "\n",
    "merged_on_address3_match, merged_on_address3_no_match = my_merge(merged_on_address2_no_match, resi_AB, left_columns_3, right_columns_3)"
   ]
  },
  {
   "cell_type": "code",
   "execution_count": 43,
   "id": "c7ea97fb",
   "metadata": {},
   "outputs": [],
   "source": [
    "#for batch 2, gets 0 results\n",
    "#merged_on_address3_no_match.count()"
   ]
  },
  {
   "cell_type": "code",
   "execution_count": 47,
   "id": "c79f0700-afc0-44fa-bd75-43a0e982fc1d",
   "metadata": {
    "tags": []
   },
   "outputs": [],
   "source": [
    "# add the matched into all matched\n",
    "merged_on_address3_match = merged_on_address3_match.rename(columns={\"uprn\": \"uprn_OSAB\"})\n",
    "merged_on_address3_match['match_strategy'] = 'address_3'\n",
    "\n",
    "frames = [all_matched, merged_on_address3_match]\n",
    "\n",
    "all_matched = pd.concat(frames)"
   ]
  },
  {
   "cell_type": "code",
   "execution_count": 48,
   "id": "ebced5a5-32c2-433e-b196-83af5919bdb8",
   "metadata": {
    "tags": []
   },
   "outputs": [],
   "source": [
    "merged_on_address3_no_match = merged_on_address3_no_match.dropna(axis=1, how='all')"
   ]
  },
  {
   "cell_type": "code",
   "execution_count": 49,
   "id": "d9c34df6",
   "metadata": {},
   "outputs": [],
   "source": [
    "#### ADDRESS Strategy 4 \n",
    "left_columns_4 = ['site_name_LPA_no_pc', 'postcode_clean']  #London Data \n",
    "right_columns_4 = ['parsed_address2', 'postcode_locator'] #AB\n",
    "\n",
    "merged_on_address4 = merged_on_address3_no_match.merge(resi_AB, how = 'left', left_on = left_columns_4, right_on = right_columns_4)"
   ]
  },
  {
   "cell_type": "code",
   "execution_count": 50,
   "id": "6d4b7431",
   "metadata": {},
   "outputs": [],
   "source": [
    "merged_on_address4_match = merged_on_address4.drop(merged_on_address4[pd.isna(merged_on_address4['uprn']) == True].index) \n",
    "merged_on_address4_no_match = merged_on_address4.drop(merged_on_address4[pd.isna(merged_on_address4['uprn']) == False].index) \n"
   ]
  },
  {
   "cell_type": "code",
   "execution_count": 51,
   "id": "26bd8167",
   "metadata": {},
   "outputs": [
    {
     "data": {
      "text/plain": [
       "0"
      ]
     },
     "execution_count": 51,
     "metadata": {},
     "output_type": "execute_result"
    }
   ],
   "source": [
    "merged_on_address4_match['UCL_ID'].nunique()"
   ]
  },
  {
   "cell_type": "code",
   "execution_count": 52,
   "id": "bbe05b28",
   "metadata": {},
   "outputs": [],
   "source": [
    "merged_on_address4_match = merged_on_address4_match.rename(columns={\"uprn\": \"uprn_OSAB\"})\n",
    "merged_on_address4_match['match_strategy'] = 'address_4'\n",
    "\n",
    "frames = [all_matched, merged_on_address4_match]\n",
    "\n",
    "all_matched = pd.concat(frames)\n",
    "merged_on_address4_no_match = merged_on_address4_no_match.dropna(axis=1, how='all')"
   ]
  },
  {
   "cell_type": "code",
   "execution_count": 93,
   "id": "ef23d683",
   "metadata": {},
   "outputs": [],
   "source": [
    "## Strategy 5 \n",
    "#match on the street number, street name, postcode \n",
    "\n",
    "left_columns_5 = ['concat_addr', 'postcode_clean']\n",
    "right_columns_5 = ['parsed_address1', 'postcode_locator']\n",
    "\n",
    "merged_on_address5_match, merged_on_address5_no_match = my_merge(merged_on_address4_no_match, resi_AB, left_columns_5, right_columns_5)"
   ]
  },
  {
   "cell_type": "code",
   "execution_count": 94,
   "id": "873caa8d",
   "metadata": {},
   "outputs": [
    {
     "data": {
      "text/plain": [
       "43"
      ]
     },
     "execution_count": 94,
     "metadata": {},
     "output_type": "execute_result"
    }
   ],
   "source": [
    "merged_on_address5_match['UCL_ID'].nunique()"
   ]
  },
  {
   "cell_type": "code",
   "execution_count": 96,
   "id": "94a48a31",
   "metadata": {},
   "outputs": [],
   "source": [
    "merged_on_address5_match = merged_on_address5_match.rename(columns={\"uprn\": \"uprn_OSAB\"})\n",
    "merged_on_address5_match['match_strategy'] = 'address_5'\n",
    "\n",
    "frames = [all_matched, merged_on_address5_match]\n",
    "\n",
    "all_matched = pd.concat(frames)\n",
    "merged_on_address5_no_match = merged_on_address5_no_match.dropna(axis=1, how='all')"
   ]
  },
  {
   "cell_type": "code",
   "execution_count": 97,
   "id": "ca18c688",
   "metadata": {},
   "outputs": [],
   "source": [
    "## Strategy 6\n",
    "left_columns_6 = ['concat_addr', 'postcode_clean']\n",
    "right_columns_6 = ['parsed_address2', 'postcode_locator']\n",
    "\n",
    "merged_on_address6_match, merged_on_address6_no_match = my_merge(merged_on_address5_no_match, resi_AB, left_columns_6, right_columns_6)"
   ]
  },
  {
   "cell_type": "code",
   "execution_count": 98,
   "id": "87011981",
   "metadata": {},
   "outputs": [
    {
     "data": {
      "text/plain": [
       "2"
      ]
     },
     "execution_count": 98,
     "metadata": {},
     "output_type": "execute_result"
    }
   ],
   "source": [
    "merged_on_address6_match['UCL_ID'].nunique()"
   ]
  },
  {
   "cell_type": "code",
   "execution_count": 99,
   "id": "fb9f695b",
   "metadata": {},
   "outputs": [],
   "source": [
    "merged_on_address6_match = merged_on_address6_match.rename(columns={\"uprn\": \"uprn_OSAB\"})\n",
    "merged_on_address6_match['match_strategy'] = 'address_6'\n",
    "\n",
    "frames = [all_matched, merged_on_address6_match]\n",
    "\n",
    "all_matched = pd.concat(frames)\n",
    "merged_on_address6_no_match = merged_on_address6_no_match.dropna(axis=1, how='all')"
   ]
  },
  {
   "cell_type": "code",
   "execution_count": 56,
   "id": "c5e313eb",
   "metadata": {},
   "outputs": [],
   "source": [
    "# pao_start_number + street_description"
   ]
  },
  {
   "cell_type": "code",
   "execution_count": 100,
   "id": "e226b558",
   "metadata": {},
   "outputs": [],
   "source": [
    "## Strategy 7\n",
    "left_columns_7 = ['site_number_clean', 'street_name', 'postcode_clean']\n",
    "right_columns_7 = ['pao_start_number', 'street_description', 'postcode_locator']\n",
    "\n",
    "merged_on_address7_match, merged_on_address7_no_match = my_merge(merged_on_address6_no_match, resi_AB, left_columns_7, right_columns_7)"
   ]
  },
  {
   "cell_type": "code",
   "execution_count": 101,
   "id": "434c4229",
   "metadata": {},
   "outputs": [
    {
     "data": {
      "text/plain": [
       "44"
      ]
     },
     "execution_count": 101,
     "metadata": {},
     "output_type": "execute_result"
    }
   ],
   "source": [
    "merged_on_address7_match['UCL_ID'].nunique()"
   ]
  },
  {
   "cell_type": "code",
   "execution_count": 102,
   "id": "2830d078",
   "metadata": {},
   "outputs": [],
   "source": [
    "merged_on_address7_match = merged_on_address7_match.rename(columns={\"uprn\": \"uprn_OSAB\"})\n",
    "merged_on_address7_match['match_strategy'] = 'address_7'\n",
    "\n",
    "frames = [all_matched, merged_on_address7_match]\n",
    "\n",
    "all_matched = pd.concat(frames)\n",
    "merged_on_address7_no_match = merged_on_address7_no_match.dropna(axis=1, how='all')"
   ]
  },
  {
   "cell_type": "code",
   "execution_count": 103,
   "id": "87f0f744",
   "metadata": {},
   "outputs": [],
   "source": [
    "### strategy 8 \n",
    "left_columns_8 = ['site_number_clean', 'street_name', 'postcode_sector_x']\n",
    "right_columns_8 = ['pao_start_number', 'street_description', 'postcode_sector']\n",
    "\n",
    "merged_on_address8_match, merged_on_address8_no_match = my_merge(merged_on_address7_no_match, resi_AB, left_columns_8, right_columns_8)\n"
   ]
  },
  {
   "cell_type": "code",
   "execution_count": 104,
   "id": "2cac13dd",
   "metadata": {},
   "outputs": [
    {
     "data": {
      "text/plain": [
       "8"
      ]
     },
     "execution_count": 104,
     "metadata": {},
     "output_type": "execute_result"
    }
   ],
   "source": [
    "merged_on_address8_match['UCL_ID'].nunique()"
   ]
  },
  {
   "cell_type": "code",
   "execution_count": 105,
   "id": "febcea38",
   "metadata": {},
   "outputs": [],
   "source": [
    "merged_on_address8_match = merged_on_address8_match.rename(columns={\"uprn\": \"uprn_OSAB\"})\n",
    "merged_on_address8_match['match_strategy'] = 'address_8'\n",
    "\n",
    "frames = [all_matched, merged_on_address8_match]\n",
    "\n",
    "all_matched = pd.concat(frames)\n",
    "merged_on_address8_no_match = merged_on_address8_no_match.dropna(axis=1, how='all')"
   ]
  },
  {
   "cell_type": "code",
   "execution_count": 106,
   "id": "0d803dc2",
   "metadata": {},
   "outputs": [],
   "source": [
    "### strategy 9 \n",
    "left_columns_9 = ['site_name_GLA_no_pc',  'postcode_sector_x']\n",
    "right_columns_9 = ['parsed_address1',  'postcode_sector']\n",
    "\n",
    "merged_on_address9_match, merged_on_address9_no_match = my_merge(merged_on_address8_no_match, resi_AB, left_columns_9, right_columns_9)\n"
   ]
  },
  {
   "cell_type": "code",
   "execution_count": 107,
   "id": "09ed32bb",
   "metadata": {},
   "outputs": [
    {
     "data": {
      "text/plain": [
       "0"
      ]
     },
     "execution_count": 107,
     "metadata": {},
     "output_type": "execute_result"
    }
   ],
   "source": [
    "merged_on_address9_match['UCL_ID'].nunique()"
   ]
  },
  {
   "cell_type": "code",
   "execution_count": 108,
   "id": "f90b8d51",
   "metadata": {},
   "outputs": [],
   "source": [
    "merged_on_address9_match = merged_on_address9_match.rename(columns={\"uprn\": \"uprn_OSAB\"})\n",
    "merged_on_address9_match['match_strategy'] = 'address_9'\n",
    "\n",
    "frames = [all_matched, merged_on_address9_match]\n",
    "\n",
    "all_matched = pd.concat(frames)\n",
    "merged_on_address9_no_match = merged_on_address9_no_match.dropna(axis=1, how='all')"
   ]
  },
  {
   "cell_type": "code",
   "execution_count": 109,
   "id": "b51ed326",
   "metadata": {},
   "outputs": [],
   "source": [
    "### strategy 10 \n",
    "left_columns_10 = ['site_name_LPA_no_pc',  'postcode_sector_x']\n",
    "right_columns_10 = ['parsed_address1',  'postcode_sector']\n",
    "\n",
    "merged_on_address10_match, merged_on_address10_no_match = my_merge(merged_on_address9_no_match, resi_AB, left_columns_10, right_columns_10)\n"
   ]
  },
  {
   "cell_type": "code",
   "execution_count": 110,
   "id": "70fbad4c",
   "metadata": {},
   "outputs": [
    {
     "data": {
      "text/plain": [
       "0"
      ]
     },
     "execution_count": 110,
     "metadata": {},
     "output_type": "execute_result"
    }
   ],
   "source": [
    "merged_on_address10_match['UCL_ID'].nunique()"
   ]
  },
  {
   "cell_type": "code",
   "execution_count": 111,
   "id": "d5cb4410",
   "metadata": {},
   "outputs": [],
   "source": [
    "merged_on_address10_match = merged_on_address10_match.rename(columns={\"uprn\": \"uprn_OSAB\"})\n",
    "merged_on_address10_match['match_strategy'] = 'address_10'\n",
    "\n",
    "frames = [all_matched, merged_on_address10_match]\n",
    "\n",
    "all_matched = pd.concat(frames)\n",
    "merged_on_address10_no_match = merged_on_address10_no_match.dropna(axis=1, how='all')"
   ]
  },
  {
   "cell_type": "code",
   "execution_count": 112,
   "id": "f4e470d4",
   "metadata": {},
   "outputs": [],
   "source": [
    "### strategy 11 \n",
    "left_columns_11 = ['site_name_GLA_no_pc',  'postcode_sector_x']\n",
    "right_columns_11 = ['parsed_address2',  'postcode_sector']\n",
    "\n",
    "merged_on_address11_match, merged_on_address11_no_match = my_merge(merged_on_address10_no_match, resi_AB, left_columns_11, right_columns_11)\n"
   ]
  },
  {
   "cell_type": "code",
   "execution_count": 113,
   "id": "756dd9b0",
   "metadata": {},
   "outputs": [
    {
     "data": {
      "text/plain": [
       "2"
      ]
     },
     "execution_count": 113,
     "metadata": {},
     "output_type": "execute_result"
    }
   ],
   "source": [
    "merged_on_address11_match['UCL_ID'].nunique()"
   ]
  },
  {
   "cell_type": "code",
   "execution_count": 114,
   "id": "3fbf96c1",
   "metadata": {},
   "outputs": [],
   "source": [
    "merged_on_address11_match = merged_on_address11_match.rename(columns={\"uprn\": \"uprn_OSAB\"})\n",
    "merged_on_address11_match['match_strategy'] = 'address_11'\n",
    "\n",
    "frames = [all_matched, merged_on_address11_match]\n",
    "\n",
    "all_matched = pd.concat(frames)\n",
    "merged_on_address11_no_match = merged_on_address11_no_match.dropna(axis=1, how='all')"
   ]
  },
  {
   "cell_type": "code",
   "execution_count": 115,
   "id": "b055f696",
   "metadata": {},
   "outputs": [],
   "source": [
    "### strategy 12 \n",
    "left_columns_12 = ['site_name_LPA_no_pc',  'postcode_sector_x']\n",
    "right_columns_12 = ['parsed_address2',  'postcode_sector']\n",
    "\n",
    "merged_on_address12_match, merged_on_address12_no_match = my_merge(merged_on_address11_no_match, resi_AB, left_columns_12, right_columns_12)\n"
   ]
  },
  {
   "cell_type": "code",
   "execution_count": 116,
   "id": "31818ebb",
   "metadata": {},
   "outputs": [
    {
     "data": {
      "text/plain": [
       "0"
      ]
     },
     "execution_count": 116,
     "metadata": {},
     "output_type": "execute_result"
    }
   ],
   "source": [
    "merged_on_address12_match['UCL_ID'].nunique()"
   ]
  },
  {
   "cell_type": "code",
   "execution_count": 117,
   "id": "2d05d7e2",
   "metadata": {},
   "outputs": [],
   "source": [
    "merged_on_address12_match = merged_on_address12_match.rename(columns={\"uprn\": \"uprn_OSAB\"})\n",
    "merged_on_address12_match['match_strategy'] = 'address_12'\n",
    "\n",
    "frames = [all_matched, merged_on_address12_match]\n",
    "\n",
    "all_matched = pd.concat(frames)\n",
    "merged_on_address12_no_match = merged_on_address12_no_match.dropna(axis=1, how='all')"
   ]
  },
  {
   "cell_type": "code",
   "execution_count": 118,
   "id": "8b22d8d7",
   "metadata": {},
   "outputs": [],
   "source": [
    "### strategy 13 \n",
    "left_columns_13 = ['site_number_clean', 'street_name',  'postcode_sector_x']\n",
    "right_columns_13 = ['pao_start_number', 'street_description',   'postcode_sector']\n",
    "\n",
    "\n",
    "merged_on_address13_match, merged_on_address13_no_match = my_merge(merged_on_address11_no_match, resi_AB, left_columns_13, right_columns_13)\n"
   ]
  },
  {
   "cell_type": "code",
   "execution_count": 119,
   "id": "66c78066",
   "metadata": {},
   "outputs": [
    {
     "data": {
      "text/plain": [
       "0"
      ]
     },
     "execution_count": 119,
     "metadata": {},
     "output_type": "execute_result"
    }
   ],
   "source": [
    "merged_on_address13_match['UCL_ID'].nunique()"
   ]
  },
  {
   "cell_type": "code",
   "execution_count": 120,
   "id": "9ec8f610",
   "metadata": {},
   "outputs": [],
   "source": [
    "merged_on_address13_match = merged_on_address13_match.rename(columns={\"uprn\": \"uprn_OSAB\"})\n",
    "merged_on_address13_match['match_strategy'] = 'address_13'\n",
    "\n",
    "frames = [all_matched, merged_on_address13_match]\n",
    "\n",
    "all_matched = pd.concat(frames)\n",
    "merged_on_address13_no_match = merged_on_address13_no_match.dropna(axis=1, how='all')"
   ]
  },
  {
   "cell_type": "code",
   "execution_count": 178,
   "id": "2851f92d",
   "metadata": {},
   "outputs": [],
   "source": [
    "### strategy 14\n",
    "left_columns_14 = ['concat_addr', 'lpa_name']\n",
    "right_columns_14 = ['parsed_address1', 'administrative_area']\n",
    "\n",
    "merged_on_address14_match, merged_on_address14_no_match = my_merge(merged_on_address13_no_match, resi_AB, left_columns_14, right_columns_14)\n"
   ]
  },
  {
   "cell_type": "code",
   "execution_count": 179,
   "id": "5a947ba3",
   "metadata": {},
   "outputs": [
    {
     "data": {
      "text/plain": [
       "3"
      ]
     },
     "execution_count": 179,
     "metadata": {},
     "output_type": "execute_result"
    }
   ],
   "source": [
    "merged_on_address14_match['UCL_ID'].nunique()"
   ]
  },
  {
   "cell_type": "code",
   "execution_count": 180,
   "id": "e8e977cd",
   "metadata": {},
   "outputs": [],
   "source": [
    "merged_on_address14_match = merged_on_address14_match.rename(columns={\"uprn\": \"uprn_OSAB\"})\n",
    "merged_on_address14_match['match_strategy'] = 'address_14'\n",
    "\n",
    "frames = [all_matched, merged_on_address14_match]\n",
    "\n",
    "all_matched = pd.concat(frames)\n",
    "merged_on_address14_no_match = merged_on_address14_no_match.dropna(axis=1, how='all')"
   ]
  },
  {
   "cell_type": "code",
   "execution_count": 181,
   "id": "d0df4ea2",
   "metadata": {},
   "outputs": [],
   "source": [
    "### strategy 15\n",
    "left_columns_15 = ['concat_addr', 'lpa_name']\n",
    "right_columns_15 = ['parsed_address1', 'administrative_area']\n",
    "\n",
    "merged_on_address15_match, merged_on_address15_no_match = my_merge(merged_on_address14_no_match, resi_AB, left_columns_15, right_columns_15)\n"
   ]
  },
  {
   "cell_type": "code",
   "execution_count": 182,
   "id": "dc08436d",
   "metadata": {},
   "outputs": [
    {
     "data": {
      "text/plain": [
       "0"
      ]
     },
     "execution_count": 182,
     "metadata": {},
     "output_type": "execute_result"
    }
   ],
   "source": [
    "merged_on_address15_match['UCL_ID'].nunique()"
   ]
  },
  {
   "cell_type": "code",
   "execution_count": 183,
   "id": "f8d16649",
   "metadata": {},
   "outputs": [],
   "source": [
    "merged_on_address15_match = merged_on_address15_match.rename(columns={\"uprn\": \"uprn_OSAB\"})\n",
    "merged_on_address15_match['match_strategy'] = 'address_15'\n",
    "\n",
    "frames = [all_matched, merged_on_address15_match]\n",
    "\n",
    "all_matched = pd.concat(frames)\n",
    "merged_on_address15_no_match = merged_on_address15_no_match.dropna(axis=1, how='all')"
   ]
  },
  {
   "cell_type": "code",
   "execution_count": null,
   "id": "f2d04789",
   "metadata": {},
   "outputs": [],
   "source": [
    "## Strategy 16 \n",
    "left_columns_16 = []\n",
    "right_columns_16 = []\n",
    "\n",
    "merged_on_address16_match, merged_on_address16_no_match = my_merge(merged_on_address15_no_match, resi_AB, left_columns_16, right_columns_16)\n",
    "\n",
    "merged_on_address15_match['UCL_ID'].nunique()"
   ]
  },
  {
   "cell_type": "code",
   "execution_count": null,
   "id": "561f6c90",
   "metadata": {},
   "outputs": [],
   "source": [
    "merged_on_address16_match = merged_on_address16_match.rename(columns={\"uprn\": \"uprn_OSAB\"})\n",
    "merged_on_address16_match['match_strategy'] = 'address_16'\n",
    "\n",
    "frames = [all_matched, merged_on_address16_match]\n",
    "\n",
    "all_matched = pd.concat(frames)\n",
    "merged_on_address16_no_match = merged_on_address16_no_match.dropna(axis=1, how='all')"
   ]
  },
  {
   "cell_type": "code",
   "execution_count": null,
   "id": "f484c6ad",
   "metadata": {},
   "outputs": [],
   "source": [
    "## Strategy 14: No postcode sector, match on administrative area but replace the & with the 'AND' for BARKING & DAGENHAM"
   ]
  },
  {
   "cell_type": "code",
   "execution_count": 184,
   "id": "d4a0d015",
   "metadata": {},
   "outputs": [
    {
     "name": "stdout",
     "output_type": "stream",
     "text": [
      "Resi Match rate:  31.70731707317073  from record count:  104\n"
     ]
    }
   ],
   "source": [
    "#print match rate\n",
    "resi_match_rate = 100 * all_matched['UCL_ID'].nunique() / london_data['UCL_ID'].nunique()\n",
    "\n",
    "print('Resi Match rate: ', resi_match_rate, ' from record count: ', all_matched['UCL_ID'].nunique()) "
   ]
  },
  {
   "cell_type": "markdown",
   "id": "0b55291d",
   "metadata": {},
   "source": [
    "------ specific address analysis ----- "
   ]
  },
  {
   "cell_type": "code",
   "execution_count": 142,
   "id": "e3f089e5",
   "metadata": {},
   "outputs": [
    {
     "data": {
      "text/html": [
       "<div>\n",
       "<style scoped>\n",
       "    .dataframe tbody tr th:only-of-type {\n",
       "        vertical-align: middle;\n",
       "    }\n",
       "\n",
       "    .dataframe tbody tr th {\n",
       "        vertical-align: top;\n",
       "    }\n",
       "\n",
       "    .dataframe thead th {\n",
       "        text-align: right;\n",
       "    }\n",
       "</style>\n",
       "<table border=\"1\" class=\"dataframe\">\n",
       "  <thead>\n",
       "    <tr style=\"text-align: right;\">\n",
       "      <th></th>\n",
       "      <th>UCL_ID</th>\n",
       "      <th>planning_application_number</th>\n",
       "      <th>lpa_name</th>\n",
       "      <th>application_type</th>\n",
       "      <th>application_type_full</th>\n",
       "      <th>description</th>\n",
       "      <th>number_of_units</th>\n",
       "      <th>site_number_clean</th>\n",
       "      <th>street_name</th>\n",
       "      <th>postcode_clean</th>\n",
       "      <th>...</th>\n",
       "      <th>dependent_locality</th>\n",
       "      <th>locality</th>\n",
       "      <th>town_name</th>\n",
       "      <th>administrative_area</th>\n",
       "      <th>post_town</th>\n",
       "      <th>postcode</th>\n",
       "      <th>postcode_locator</th>\n",
       "      <th>postcode_sector</th>\n",
       "      <th>parsed_address1</th>\n",
       "      <th>parsed_address2</th>\n",
       "    </tr>\n",
       "  </thead>\n",
       "  <tbody>\n",
       "    <tr>\n",
       "      <th>35</th>\n",
       "      <td>246</td>\n",
       "      <td>20/01567/PRIOFF</td>\n",
       "      <td>BARKING &amp; DAGENHAM</td>\n",
       "      <td>Prior Approval</td>\n",
       "      <td>NaN</td>\n",
       "      <td>Application for prior approval: Notification o...</td>\n",
       "      <td>6.0</td>\n",
       "      <td>7</td>\n",
       "      <td>BACK LANE</td>\n",
       "      <td>RM6 4BP</td>\n",
       "      <td>...</td>\n",
       "      <td>NaN</td>\n",
       "      <td>NaN</td>\n",
       "      <td>NaN</td>\n",
       "      <td>NaN</td>\n",
       "      <td>NaN</td>\n",
       "      <td>NaN</td>\n",
       "      <td>NaN</td>\n",
       "      <td>NaN</td>\n",
       "      <td>NaN</td>\n",
       "      <td>NaN</td>\n",
       "    </tr>\n",
       "  </tbody>\n",
       "</table>\n",
       "<p>1 rows × 58 columns</p>\n",
       "</div>"
      ],
      "text/plain": [
       "    UCL_ID planning_application_number            lpa_name application_type  \\\n",
       "35     246             20/01567/PRIOFF  BARKING & DAGENHAM   Prior Approval   \n",
       "\n",
       "   application_type_full                                        description  \\\n",
       "35                   NaN  Application for prior approval: Notification o...   \n",
       "\n",
       "    number_of_units site_number_clean street_name postcode_clean  ...  \\\n",
       "35              6.0                 7   BACK LANE        RM6 4BP  ...   \n",
       "\n",
       "   dependent_locality locality town_name administrative_area post_town  \\\n",
       "35                NaN      NaN       NaN                 NaN       NaN   \n",
       "\n",
       "   postcode postcode_locator postcode_sector parsed_address1 parsed_address2  \n",
       "35      NaN              NaN             NaN             NaN             NaN  \n",
       "\n",
       "[1 rows x 58 columns]"
      ]
     },
     "execution_count": 142,
     "metadata": {},
     "output_type": "execute_result"
    }
   ],
   "source": [
    "merged_on_address15_no_match[merged_on_address15_no_match['UCL_ID'] == 246]"
   ]
  },
  {
   "cell_type": "code",
   "execution_count": 236,
   "id": "04128001",
   "metadata": {},
   "outputs": [],
   "source": [
    "non_resi_address_merge_no_match15.to_csv('no_match_batch1b_may30.csv', index = False) #\t005300 082025\t"
   ]
  },
  {
   "cell_type": "code",
   "execution_count": 163,
   "id": "0156aeb4",
   "metadata": {},
   "outputs": [
    {
     "data": {
      "text/html": [
       "<div>\n",
       "<style scoped>\n",
       "    .dataframe tbody tr th:only-of-type {\n",
       "        vertical-align: middle;\n",
       "    }\n",
       "\n",
       "    .dataframe tbody tr th {\n",
       "        vertical-align: top;\n",
       "    }\n",
       "\n",
       "    .dataframe thead th {\n",
       "        text-align: right;\n",
       "    }\n",
       "</style>\n",
       "<table border=\"1\" class=\"dataframe\">\n",
       "  <thead>\n",
       "    <tr style=\"text-align: right;\">\n",
       "      <th></th>\n",
       "      <th>uprn</th>\n",
       "      <th>class</th>\n",
       "      <th>parent_uprn</th>\n",
       "      <th>latitude</th>\n",
       "      <th>longitude</th>\n",
       "      <th>country</th>\n",
       "      <th>legal_name</th>\n",
       "      <th>sub_building_name</th>\n",
       "      <th>building_name</th>\n",
       "      <th>building_number</th>\n",
       "      <th>...</th>\n",
       "      <th>dependent_locality</th>\n",
       "      <th>locality</th>\n",
       "      <th>town_name</th>\n",
       "      <th>administrative_area</th>\n",
       "      <th>post_town</th>\n",
       "      <th>postcode</th>\n",
       "      <th>postcode_locator</th>\n",
       "      <th>postcode_sector</th>\n",
       "      <th>parsed_address1</th>\n",
       "      <th>parsed_address2</th>\n",
       "    </tr>\n",
       "  </thead>\n",
       "  <tbody>\n",
       "  </tbody>\n",
       "</table>\n",
       "<p>0 rows × 31 columns</p>\n",
       "</div>"
      ],
      "text/plain": [
       "Empty DataFrame\n",
       "Columns: [uprn, class, parent_uprn, latitude, longitude, country, legal_name, sub_building_name, building_name, building_number, sao_start_number, sao_start_suffix, sao_end_number, sao_end_suffix, sao_text, pao_start_number, pao_start_suffix, pao_end_number, pao_end_suffix, pao_text, street_description, dependent_locality, locality, town_name, administrative_area, post_town, postcode, postcode_locator, postcode_sector, parsed_address1, parsed_address2]\n",
       "Index: []\n",
       "\n",
       "[0 rows x 31 columns]"
      ]
     },
     "execution_count": 163,
     "metadata": {},
     "output_type": "execute_result"
    }
   ],
   "source": [
    "resi_AB[resi_AB['parent_uprn']== '000202220323']"
   ]
  },
  {
   "cell_type": "code",
   "execution_count": 237,
   "id": "e6cd8162",
   "metadata": {},
   "outputs": [
    {
     "data": {
      "text/html": [
       "<div>\n",
       "<style scoped>\n",
       "    .dataframe tbody tr th:only-of-type {\n",
       "        vertical-align: middle;\n",
       "    }\n",
       "\n",
       "    .dataframe tbody tr th {\n",
       "        vertical-align: top;\n",
       "    }\n",
       "\n",
       "    .dataframe thead th {\n",
       "        text-align: right;\n",
       "    }\n",
       "</style>\n",
       "<table border=\"1\" class=\"dataframe\">\n",
       "  <thead>\n",
       "    <tr style=\"text-align: right;\">\n",
       "      <th></th>\n",
       "      <th>uprn</th>\n",
       "      <th>class</th>\n",
       "      <th>parent_uprn</th>\n",
       "      <th>latitude</th>\n",
       "      <th>longitude</th>\n",
       "      <th>country</th>\n",
       "      <th>legal_name</th>\n",
       "      <th>sub_building_name</th>\n",
       "      <th>building_name</th>\n",
       "      <th>building_number</th>\n",
       "      <th>...</th>\n",
       "      <th>dependent_locality</th>\n",
       "      <th>locality</th>\n",
       "      <th>town_name</th>\n",
       "      <th>administrative_area</th>\n",
       "      <th>post_town</th>\n",
       "      <th>postcode</th>\n",
       "      <th>postcode_locator</th>\n",
       "      <th>postcode_sector</th>\n",
       "      <th>parsed_address1</th>\n",
       "      <th>parsed_address2</th>\n",
       "    </tr>\n",
       "  </thead>\n",
       "  <tbody>\n",
       "    <tr>\n",
       "      <th>441140</th>\n",
       "      <td>000202102268</td>\n",
       "      <td>RD06</td>\n",
       "      <td>000000000000</td>\n",
       "      <td>51.544440</td>\n",
       "      <td>-0.297093</td>\n",
       "      <td>E</td>\n",
       "      <td>0.0</td>\n",
       "      <td>0</td>\n",
       "      <td>0</td>\n",
       "      <td>0</td>\n",
       "      <td>...</td>\n",
       "      <td>0</td>\n",
       "      <td>0</td>\n",
       "      <td>WEMBLEY</td>\n",
       "      <td>BRENT</td>\n",
       "      <td>0</td>\n",
       "      <td>0</td>\n",
       "      <td>HA0 4QG</td>\n",
       "      <td>HA0 4</td>\n",
       "      <td>212, EALING ROAD</td>\n",
       "      <td>EALING ROAD</td>\n",
       "    </tr>\n",
       "    <tr>\n",
       "      <th>632847</th>\n",
       "      <td>000202214037</td>\n",
       "      <td>RD06</td>\n",
       "      <td>000000000000</td>\n",
       "      <td>51.544350</td>\n",
       "      <td>-0.297097</td>\n",
       "      <td>E</td>\n",
       "      <td>0.0</td>\n",
       "      <td>0</td>\n",
       "      <td>0</td>\n",
       "      <td>0</td>\n",
       "      <td>...</td>\n",
       "      <td>0</td>\n",
       "      <td>0</td>\n",
       "      <td>WEMBLEY</td>\n",
       "      <td>BRENT</td>\n",
       "      <td>0</td>\n",
       "      <td>0</td>\n",
       "      <td>HA0 4QG</td>\n",
       "      <td>HA0 4</td>\n",
       "      <td>216, EALING ROAD</td>\n",
       "      <td>EALING ROAD</td>\n",
       "    </tr>\n",
       "    <tr>\n",
       "      <th>684087</th>\n",
       "      <td>000202015134</td>\n",
       "      <td>RD06</td>\n",
       "      <td>000000000000</td>\n",
       "      <td>51.544296</td>\n",
       "      <td>-0.297099</td>\n",
       "      <td>E</td>\n",
       "      <td>0.0</td>\n",
       "      <td>0</td>\n",
       "      <td>0</td>\n",
       "      <td>0</td>\n",
       "      <td>...</td>\n",
       "      <td>0</td>\n",
       "      <td>0</td>\n",
       "      <td>WEMBLEY</td>\n",
       "      <td>BRENT</td>\n",
       "      <td>0</td>\n",
       "      <td>0</td>\n",
       "      <td>HA0 4QG</td>\n",
       "      <td>HA0 4</td>\n",
       "      <td>218, EALING ROAD</td>\n",
       "      <td>EALING ROAD</td>\n",
       "    </tr>\n",
       "    <tr>\n",
       "      <th>963738</th>\n",
       "      <td>000202102266</td>\n",
       "      <td>RD06</td>\n",
       "      <td>000000000000</td>\n",
       "      <td>51.544395</td>\n",
       "      <td>-0.297095</td>\n",
       "      <td>E</td>\n",
       "      <td>0.0</td>\n",
       "      <td>0</td>\n",
       "      <td>0</td>\n",
       "      <td>0</td>\n",
       "      <td>...</td>\n",
       "      <td>0</td>\n",
       "      <td>0</td>\n",
       "      <td>WEMBLEY</td>\n",
       "      <td>BRENT</td>\n",
       "      <td>0</td>\n",
       "      <td>0</td>\n",
       "      <td>HA0 4QG</td>\n",
       "      <td>HA0 4</td>\n",
       "      <td>214, EALING ROAD</td>\n",
       "      <td>EALING ROAD</td>\n",
       "    </tr>\n",
       "    <tr>\n",
       "      <th>1792768</th>\n",
       "      <td>000202102286</td>\n",
       "      <td>RD06</td>\n",
       "      <td>000000000000</td>\n",
       "      <td>51.544919</td>\n",
       "      <td>-0.297249</td>\n",
       "      <td>E</td>\n",
       "      <td>0.0</td>\n",
       "      <td>0</td>\n",
       "      <td>194A</td>\n",
       "      <td>0</td>\n",
       "      <td>...</td>\n",
       "      <td>0</td>\n",
       "      <td>0</td>\n",
       "      <td>WEMBLEY</td>\n",
       "      <td>BRENT</td>\n",
       "      <td>WEMBLEY</td>\n",
       "      <td>HA0 4QG</td>\n",
       "      <td>HA0 4QG</td>\n",
       "      <td>HA0 4</td>\n",
       "      <td>194, EALING ROAD</td>\n",
       "      <td>194A, EALING ROAD</td>\n",
       "    </tr>\n",
       "    <tr>\n",
       "      <th>3420019</th>\n",
       "      <td>000202102271</td>\n",
       "      <td>RD06</td>\n",
       "      <td>000000000000</td>\n",
       "      <td>51.544539</td>\n",
       "      <td>-0.297119</td>\n",
       "      <td>E</td>\n",
       "      <td>0.0</td>\n",
       "      <td>0</td>\n",
       "      <td>208A</td>\n",
       "      <td>0</td>\n",
       "      <td>...</td>\n",
       "      <td>0</td>\n",
       "      <td>0</td>\n",
       "      <td>WEMBLEY</td>\n",
       "      <td>BRENT</td>\n",
       "      <td>WEMBLEY</td>\n",
       "      <td>HA0 4QG</td>\n",
       "      <td>HA0 4QG</td>\n",
       "      <td>HA0 4</td>\n",
       "      <td>208, EALING ROAD</td>\n",
       "      <td>208A, EALING ROAD</td>\n",
       "    </tr>\n",
       "    <tr>\n",
       "      <th>4468894</th>\n",
       "      <td>000202102273</td>\n",
       "      <td>RD06</td>\n",
       "      <td>000000000000</td>\n",
       "      <td>51.544602</td>\n",
       "      <td>-0.297116</td>\n",
       "      <td>E</td>\n",
       "      <td>0.0</td>\n",
       "      <td>0</td>\n",
       "      <td>206A</td>\n",
       "      <td>0</td>\n",
       "      <td>...</td>\n",
       "      <td>0</td>\n",
       "      <td>0</td>\n",
       "      <td>WEMBLEY</td>\n",
       "      <td>BRENT</td>\n",
       "      <td>WEMBLEY</td>\n",
       "      <td>HA0 4QG</td>\n",
       "      <td>HA0 4QG</td>\n",
       "      <td>HA0 4</td>\n",
       "      <td>206, EALING ROAD</td>\n",
       "      <td>206A, EALING ROAD</td>\n",
       "    </tr>\n",
       "    <tr>\n",
       "      <th>5162622</th>\n",
       "      <td>000202102275</td>\n",
       "      <td>RD06</td>\n",
       "      <td>000000000000</td>\n",
       "      <td>51.544656</td>\n",
       "      <td>-0.297143</td>\n",
       "      <td>E</td>\n",
       "      <td>0.0</td>\n",
       "      <td>0</td>\n",
       "      <td>204A</td>\n",
       "      <td>0</td>\n",
       "      <td>...</td>\n",
       "      <td>0</td>\n",
       "      <td>0</td>\n",
       "      <td>WEMBLEY</td>\n",
       "      <td>BRENT</td>\n",
       "      <td>WEMBLEY</td>\n",
       "      <td>HA0 4QG</td>\n",
       "      <td>HA0 4QG</td>\n",
       "      <td>HA0 4</td>\n",
       "      <td>204, EALING ROAD</td>\n",
       "      <td>204A, EALING ROAD</td>\n",
       "    </tr>\n",
       "    <tr>\n",
       "      <th>6561429</th>\n",
       "      <td>000202148301</td>\n",
       "      <td>RD06</td>\n",
       "      <td>000202102270</td>\n",
       "      <td>51.544494</td>\n",
       "      <td>-0.297106</td>\n",
       "      <td>E</td>\n",
       "      <td>0.0</td>\n",
       "      <td>0</td>\n",
       "      <td>210A</td>\n",
       "      <td>0</td>\n",
       "      <td>...</td>\n",
       "      <td>0</td>\n",
       "      <td>0</td>\n",
       "      <td>WEMBLEY</td>\n",
       "      <td>BRENT</td>\n",
       "      <td>WEMBLEY</td>\n",
       "      <td>HA0 4QG</td>\n",
       "      <td>HA0 4QG</td>\n",
       "      <td>HA0 4</td>\n",
       "      <td>FLAT 1, 210, EALING ROAD</td>\n",
       "      <td>210A, EALING ROAD</td>\n",
       "    </tr>\n",
       "    <tr>\n",
       "      <th>9480478</th>\n",
       "      <td>000202102282</td>\n",
       "      <td>RD06</td>\n",
       "      <td>000000000000</td>\n",
       "      <td>51.544801</td>\n",
       "      <td>-0.297224</td>\n",
       "      <td>E</td>\n",
       "      <td>0.0</td>\n",
       "      <td>0</td>\n",
       "      <td>198A</td>\n",
       "      <td>0</td>\n",
       "      <td>...</td>\n",
       "      <td>0</td>\n",
       "      <td>0</td>\n",
       "      <td>WEMBLEY</td>\n",
       "      <td>BRENT</td>\n",
       "      <td>WEMBLEY</td>\n",
       "      <td>HA0 4QG</td>\n",
       "      <td>HA0 4QG</td>\n",
       "      <td>HA0 4</td>\n",
       "      <td>198, EALING ROAD</td>\n",
       "      <td>198A, EALING ROAD</td>\n",
       "    </tr>\n",
       "    <tr>\n",
       "      <th>10900979</th>\n",
       "      <td>000202102277</td>\n",
       "      <td>RD06</td>\n",
       "      <td>000000000000</td>\n",
       "      <td>51.544711</td>\n",
       "      <td>-0.297170</td>\n",
       "      <td>E</td>\n",
       "      <td>0.0</td>\n",
       "      <td>0</td>\n",
       "      <td>202A</td>\n",
       "      <td>0</td>\n",
       "      <td>...</td>\n",
       "      <td>0</td>\n",
       "      <td>0</td>\n",
       "      <td>WEMBLEY</td>\n",
       "      <td>BRENT</td>\n",
       "      <td>WEMBLEY</td>\n",
       "      <td>HA0 4QG</td>\n",
       "      <td>HA0 4QG</td>\n",
       "      <td>HA0 4</td>\n",
       "      <td>202, EALING ROAD</td>\n",
       "      <td>202A, EALING ROAD</td>\n",
       "    </tr>\n",
       "    <tr>\n",
       "      <th>12499535</th>\n",
       "      <td>000202102279</td>\n",
       "      <td>RD06</td>\n",
       "      <td>000000000000</td>\n",
       "      <td>51.544756</td>\n",
       "      <td>-0.297211</td>\n",
       "      <td>E</td>\n",
       "      <td>0.0</td>\n",
       "      <td>0</td>\n",
       "      <td>200A</td>\n",
       "      <td>0</td>\n",
       "      <td>...</td>\n",
       "      <td>0</td>\n",
       "      <td>0</td>\n",
       "      <td>WEMBLEY</td>\n",
       "      <td>BRENT</td>\n",
       "      <td>WEMBLEY</td>\n",
       "      <td>HA0 4QG</td>\n",
       "      <td>HA0 4QG</td>\n",
       "      <td>HA0 4</td>\n",
       "      <td>200, EALING ROAD</td>\n",
       "      <td>200A, EALING ROAD</td>\n",
       "    </tr>\n",
       "    <tr>\n",
       "      <th>15758094</th>\n",
       "      <td>000202102284</td>\n",
       "      <td>RD06</td>\n",
       "      <td>000000000000</td>\n",
       "      <td>51.544864</td>\n",
       "      <td>-0.297222</td>\n",
       "      <td>E</td>\n",
       "      <td>0.0</td>\n",
       "      <td>0</td>\n",
       "      <td>196A</td>\n",
       "      <td>0</td>\n",
       "      <td>...</td>\n",
       "      <td>0</td>\n",
       "      <td>0</td>\n",
       "      <td>WEMBLEY</td>\n",
       "      <td>BRENT</td>\n",
       "      <td>WEMBLEY</td>\n",
       "      <td>HA0 4QG</td>\n",
       "      <td>HA0 4QG</td>\n",
       "      <td>HA0 4</td>\n",
       "      <td>196, EALING ROAD</td>\n",
       "      <td>196A, EALING ROAD</td>\n",
       "    </tr>\n",
       "  </tbody>\n",
       "</table>\n",
       "<p>13 rows × 31 columns</p>\n",
       "</div>"
      ],
      "text/plain": [
       "                  uprn class   parent_uprn   latitude  longitude country  \\\n",
       "441140    000202102268  RD06  000000000000  51.544440  -0.297093       E   \n",
       "632847    000202214037  RD06  000000000000  51.544350  -0.297097       E   \n",
       "684087    000202015134  RD06  000000000000  51.544296  -0.297099       E   \n",
       "963738    000202102266  RD06  000000000000  51.544395  -0.297095       E   \n",
       "1792768   000202102286  RD06  000000000000  51.544919  -0.297249       E   \n",
       "3420019   000202102271  RD06  000000000000  51.544539  -0.297119       E   \n",
       "4468894   000202102273  RD06  000000000000  51.544602  -0.297116       E   \n",
       "5162622   000202102275  RD06  000000000000  51.544656  -0.297143       E   \n",
       "6561429   000202148301  RD06  000202102270  51.544494  -0.297106       E   \n",
       "9480478   000202102282  RD06  000000000000  51.544801  -0.297224       E   \n",
       "10900979  000202102277  RD06  000000000000  51.544711  -0.297170       E   \n",
       "12499535  000202102279  RD06  000000000000  51.544756  -0.297211       E   \n",
       "15758094  000202102284  RD06  000000000000  51.544864  -0.297222       E   \n",
       "\n",
       "          legal_name sub_building_name building_name building_number  ...  \\\n",
       "441140           0.0                 0             0               0  ...   \n",
       "632847           0.0                 0             0               0  ...   \n",
       "684087           0.0                 0             0               0  ...   \n",
       "963738           0.0                 0             0               0  ...   \n",
       "1792768          0.0                 0          194A               0  ...   \n",
       "3420019          0.0                 0          208A               0  ...   \n",
       "4468894          0.0                 0          206A               0  ...   \n",
       "5162622          0.0                 0          204A               0  ...   \n",
       "6561429          0.0                 0          210A               0  ...   \n",
       "9480478          0.0                 0          198A               0  ...   \n",
       "10900979         0.0                 0          202A               0  ...   \n",
       "12499535         0.0                 0          200A               0  ...   \n",
       "15758094         0.0                 0          196A               0  ...   \n",
       "\n",
       "          dependent_locality locality  town_name administrative_area  \\\n",
       "441140                     0        0    WEMBLEY               BRENT   \n",
       "632847                     0        0    WEMBLEY               BRENT   \n",
       "684087                     0        0    WEMBLEY               BRENT   \n",
       "963738                     0        0    WEMBLEY               BRENT   \n",
       "1792768                    0        0    WEMBLEY               BRENT   \n",
       "3420019                    0        0    WEMBLEY               BRENT   \n",
       "4468894                    0        0    WEMBLEY               BRENT   \n",
       "5162622                    0        0    WEMBLEY               BRENT   \n",
       "6561429                    0        0    WEMBLEY               BRENT   \n",
       "9480478                    0        0    WEMBLEY               BRENT   \n",
       "10900979                   0        0    WEMBLEY               BRENT   \n",
       "12499535                   0        0    WEMBLEY               BRENT   \n",
       "15758094                   0        0    WEMBLEY               BRENT   \n",
       "\n",
       "         post_town postcode postcode_locator  postcode_sector  \\\n",
       "441140           0        0          HA0 4QG            HA0 4   \n",
       "632847           0        0          HA0 4QG            HA0 4   \n",
       "684087           0        0          HA0 4QG            HA0 4   \n",
       "963738           0        0          HA0 4QG            HA0 4   \n",
       "1792768    WEMBLEY  HA0 4QG          HA0 4QG            HA0 4   \n",
       "3420019    WEMBLEY  HA0 4QG          HA0 4QG            HA0 4   \n",
       "4468894    WEMBLEY  HA0 4QG          HA0 4QG            HA0 4   \n",
       "5162622    WEMBLEY  HA0 4QG          HA0 4QG            HA0 4   \n",
       "6561429    WEMBLEY  HA0 4QG          HA0 4QG            HA0 4   \n",
       "9480478    WEMBLEY  HA0 4QG          HA0 4QG            HA0 4   \n",
       "10900979   WEMBLEY  HA0 4QG          HA0 4QG            HA0 4   \n",
       "12499535   WEMBLEY  HA0 4QG          HA0 4QG            HA0 4   \n",
       "15758094   WEMBLEY  HA0 4QG          HA0 4QG            HA0 4   \n",
       "\n",
       "                   parsed_address1    parsed_address2  \n",
       "441140            212, EALING ROAD        EALING ROAD  \n",
       "632847            216, EALING ROAD        EALING ROAD  \n",
       "684087            218, EALING ROAD        EALING ROAD  \n",
       "963738            214, EALING ROAD        EALING ROAD  \n",
       "1792768           194, EALING ROAD  194A, EALING ROAD  \n",
       "3420019           208, EALING ROAD  208A, EALING ROAD  \n",
       "4468894           206, EALING ROAD  206A, EALING ROAD  \n",
       "5162622           204, EALING ROAD  204A, EALING ROAD  \n",
       "6561429   FLAT 1, 210, EALING ROAD  210A, EALING ROAD  \n",
       "9480478           198, EALING ROAD  198A, EALING ROAD  \n",
       "10900979          202, EALING ROAD  202A, EALING ROAD  \n",
       "12499535          200, EALING ROAD  200A, EALING ROAD  \n",
       "15758094          196, EALING ROAD  196A, EALING ROAD  \n",
       "\n",
       "[13 rows x 31 columns]"
      ]
     },
     "execution_count": 237,
     "metadata": {},
     "output_type": "execute_result"
    }
   ],
   "source": [
    "resi_AB[resi_AB['postcode_locator'] == 'HA0 4QG']"
   ]
  },
  {
   "cell_type": "code",
   "execution_count": 246,
   "id": "930fc49c",
   "metadata": {},
   "outputs": [
    {
     "data": {
      "text/html": [
       "<div>\n",
       "<style scoped>\n",
       "    .dataframe tbody tr th:only-of-type {\n",
       "        vertical-align: middle;\n",
       "    }\n",
       "\n",
       "    .dataframe tbody tr th {\n",
       "        vertical-align: top;\n",
       "    }\n",
       "\n",
       "    .dataframe thead th {\n",
       "        text-align: right;\n",
       "    }\n",
       "</style>\n",
       "<table border=\"1\" class=\"dataframe\">\n",
       "  <thead>\n",
       "    <tr style=\"text-align: right;\">\n",
       "      <th></th>\n",
       "      <th>uprn</th>\n",
       "      <th>class</th>\n",
       "      <th>parent_uprn</th>\n",
       "      <th>latitude</th>\n",
       "      <th>longitude</th>\n",
       "      <th>country</th>\n",
       "      <th>legal_name</th>\n",
       "      <th>sub_building_name</th>\n",
       "      <th>building_name</th>\n",
       "      <th>building_number</th>\n",
       "      <th>...</th>\n",
       "      <th>dependent_locality</th>\n",
       "      <th>locality</th>\n",
       "      <th>town_name</th>\n",
       "      <th>administrative_area</th>\n",
       "      <th>post_town</th>\n",
       "      <th>postcode</th>\n",
       "      <th>postcode_locator</th>\n",
       "      <th>postcode_sector</th>\n",
       "      <th>parsed_address1</th>\n",
       "      <th>parsed_address2</th>\n",
       "    </tr>\n",
       "  </thead>\n",
       "  <tbody>\n",
       "    <tr>\n",
       "      <th>1029703</th>\n",
       "      <td>010025177788</td>\n",
       "      <td>CU01</td>\n",
       "      <td>000000000000</td>\n",
       "      <td>51.544389</td>\n",
       "      <td>-0.302875</td>\n",
       "      <td>E</td>\n",
       "      <td>0.0</td>\n",
       "      <td>0</td>\n",
       "      <td>0</td>\n",
       "      <td>0</td>\n",
       "      <td>...</td>\n",
       "      <td>0</td>\n",
       "      <td>0</td>\n",
       "      <td>WEMBLEY</td>\n",
       "      <td>BRENT</td>\n",
       "      <td>0</td>\n",
       "      <td>0</td>\n",
       "      <td>HA0 4QS</td>\n",
       "      <td>HA0 4</td>\n",
       "      <td>ELECTRICITY SUB STATION 66M FROM 95 NORTON ROA...</td>\n",
       "      <td>BOWRONS AVENUE</td>\n",
       "    </tr>\n",
       "    <tr>\n",
       "      <th>1309948</th>\n",
       "      <td>000202228481</td>\n",
       "      <td>CR</td>\n",
       "      <td>000000000000</td>\n",
       "      <td>51.544930</td>\n",
       "      <td>-0.297450</td>\n",
       "      <td>E</td>\n",
       "      <td>0.0</td>\n",
       "      <td>0</td>\n",
       "      <td>0</td>\n",
       "      <td>0</td>\n",
       "      <td>...</td>\n",
       "      <td>0</td>\n",
       "      <td>0</td>\n",
       "      <td>WEMBLEY</td>\n",
       "      <td>BRENT</td>\n",
       "      <td>0</td>\n",
       "      <td>0</td>\n",
       "      <td>HA0 4QS</td>\n",
       "      <td>HA0 4</td>\n",
       "      <td>UNIT 1, 1, BOWRONS AVENUE</td>\n",
       "      <td>BOWRONS AVENUE</td>\n",
       "    </tr>\n",
       "    <tr>\n",
       "      <th>1561284</th>\n",
       "      <td>000202238960</td>\n",
       "      <td>PP</td>\n",
       "      <td>000000000000</td>\n",
       "      <td>51.544557</td>\n",
       "      <td>-0.302108</td>\n",
       "      <td>E</td>\n",
       "      <td>0.0</td>\n",
       "      <td>0</td>\n",
       "      <td>0</td>\n",
       "      <td>0</td>\n",
       "      <td>...</td>\n",
       "      <td>0</td>\n",
       "      <td>0</td>\n",
       "      <td>WEMBLEY</td>\n",
       "      <td>BRENT</td>\n",
       "      <td>0</td>\n",
       "      <td>0</td>\n",
       "      <td>HA0 4QS</td>\n",
       "      <td>HA0 4</td>\n",
       "      <td>SHELL FOR STUDIO FLATS A TO F AND LOFT D, 39, ...</td>\n",
       "      <td>BOWRONS AVENUE</td>\n",
       "    </tr>\n",
       "    <tr>\n",
       "      <th>1569192</th>\n",
       "      <td>000202228482</td>\n",
       "      <td>CR10</td>\n",
       "      <td>000000000000</td>\n",
       "      <td>51.544931</td>\n",
       "      <td>-0.297508</td>\n",
       "      <td>E</td>\n",
       "      <td>0.0</td>\n",
       "      <td>0</td>\n",
       "      <td>0</td>\n",
       "      <td>0</td>\n",
       "      <td>...</td>\n",
       "      <td>0</td>\n",
       "      <td>0</td>\n",
       "      <td>WEMBLEY</td>\n",
       "      <td>BRENT</td>\n",
       "      <td>0</td>\n",
       "      <td>0</td>\n",
       "      <td>HA0 4QS</td>\n",
       "      <td>HA0 4</td>\n",
       "      <td>UNIT 2, 1, BOWRONS AVENUE</td>\n",
       "      <td>BOWRONS AVENUE</td>\n",
       "    </tr>\n",
       "    <tr>\n",
       "      <th>3301459</th>\n",
       "      <td>000202128619</td>\n",
       "      <td>PS</td>\n",
       "      <td>000000000000</td>\n",
       "      <td>51.544703</td>\n",
       "      <td>-0.302270</td>\n",
       "      <td>E</td>\n",
       "      <td>0.0</td>\n",
       "      <td>0</td>\n",
       "      <td>0</td>\n",
       "      <td>0</td>\n",
       "      <td>...</td>\n",
       "      <td>0</td>\n",
       "      <td>0</td>\n",
       "      <td>WEMBLEY</td>\n",
       "      <td>BRENT</td>\n",
       "      <td>0</td>\n",
       "      <td>0</td>\n",
       "      <td>HA0 4QS</td>\n",
       "      <td>HA0 4</td>\n",
       "      <td>STREET RECORD, BOWRONS AVENUE</td>\n",
       "      <td>BOWRONS AVENUE</td>\n",
       "    </tr>\n",
       "    <tr>\n",
       "      <th>3471091</th>\n",
       "      <td>000202221907</td>\n",
       "      <td>PP</td>\n",
       "      <td>000000000000</td>\n",
       "      <td>51.544579</td>\n",
       "      <td>-0.301732</td>\n",
       "      <td>E</td>\n",
       "      <td>0.0</td>\n",
       "      <td>0</td>\n",
       "      <td>0</td>\n",
       "      <td>85</td>\n",
       "      <td>...</td>\n",
       "      <td>0</td>\n",
       "      <td>0</td>\n",
       "      <td>WEMBLEY</td>\n",
       "      <td>BRENT</td>\n",
       "      <td>WEMBLEY</td>\n",
       "      <td>HA0 4QS</td>\n",
       "      <td>HA0 4QS</td>\n",
       "      <td>HA0 4</td>\n",
       "      <td>85, BOWRONS AVENUE</td>\n",
       "      <td>85, BOWRONS AVENUE</td>\n",
       "    </tr>\n",
       "    <tr>\n",
       "      <th>3641012</th>\n",
       "      <td>000202220578</td>\n",
       "      <td>PP</td>\n",
       "      <td>000000000000</td>\n",
       "      <td>51.544845</td>\n",
       "      <td>-0.297742</td>\n",
       "      <td>E</td>\n",
       "      <td>0.0</td>\n",
       "      <td>0</td>\n",
       "      <td>0</td>\n",
       "      <td>3</td>\n",
       "      <td>...</td>\n",
       "      <td>0</td>\n",
       "      <td>0</td>\n",
       "      <td>WEMBLEY</td>\n",
       "      <td>BRENT</td>\n",
       "      <td>WEMBLEY</td>\n",
       "      <td>HA0 4QS</td>\n",
       "      <td>HA0 4QS</td>\n",
       "      <td>HA0 4</td>\n",
       "      <td>3, BOWRONS AVENUE</td>\n",
       "      <td>3, BOWRONS AVENUE</td>\n",
       "    </tr>\n",
       "  </tbody>\n",
       "</table>\n",
       "<p>7 rows × 31 columns</p>\n",
       "</div>"
      ],
      "text/plain": [
       "                 uprn class   parent_uprn   latitude  longitude country  \\\n",
       "1029703  010025177788  CU01  000000000000  51.544389  -0.302875       E   \n",
       "1309948  000202228481    CR  000000000000  51.544930  -0.297450       E   \n",
       "1561284  000202238960    PP  000000000000  51.544557  -0.302108       E   \n",
       "1569192  000202228482  CR10  000000000000  51.544931  -0.297508       E   \n",
       "3301459  000202128619    PS  000000000000  51.544703  -0.302270       E   \n",
       "3471091  000202221907    PP  000000000000  51.544579  -0.301732       E   \n",
       "3641012  000202220578    PP  000000000000  51.544845  -0.297742       E   \n",
       "\n",
       "         legal_name sub_building_name building_name building_number  ...  \\\n",
       "1029703         0.0                 0             0               0  ...   \n",
       "1309948         0.0                 0             0               0  ...   \n",
       "1561284         0.0                 0             0               0  ...   \n",
       "1569192         0.0                 0             0               0  ...   \n",
       "3301459         0.0                 0             0               0  ...   \n",
       "3471091         0.0                 0             0              85  ...   \n",
       "3641012         0.0                 0             0               3  ...   \n",
       "\n",
       "         dependent_locality locality  town_name administrative_area post_town  \\\n",
       "1029703                   0        0    WEMBLEY               BRENT         0   \n",
       "1309948                   0        0    WEMBLEY               BRENT         0   \n",
       "1561284                   0        0    WEMBLEY               BRENT         0   \n",
       "1569192                   0        0    WEMBLEY               BRENT         0   \n",
       "3301459                   0        0    WEMBLEY               BRENT         0   \n",
       "3471091                   0        0    WEMBLEY               BRENT   WEMBLEY   \n",
       "3641012                   0        0    WEMBLEY               BRENT   WEMBLEY   \n",
       "\n",
       "        postcode postcode_locator  postcode_sector  \\\n",
       "1029703        0          HA0 4QS            HA0 4   \n",
       "1309948        0          HA0 4QS            HA0 4   \n",
       "1561284        0          HA0 4QS            HA0 4   \n",
       "1569192        0          HA0 4QS            HA0 4   \n",
       "3301459        0          HA0 4QS            HA0 4   \n",
       "3471091  HA0 4QS          HA0 4QS            HA0 4   \n",
       "3641012  HA0 4QS          HA0 4QS            HA0 4   \n",
       "\n",
       "                                           parsed_address1     parsed_address2  \n",
       "1029703  ELECTRICITY SUB STATION 66M FROM 95 NORTON ROA...      BOWRONS AVENUE  \n",
       "1309948                          UNIT 1, 1, BOWRONS AVENUE      BOWRONS AVENUE  \n",
       "1561284  SHELL FOR STUDIO FLATS A TO F AND LOFT D, 39, ...      BOWRONS AVENUE  \n",
       "1569192                          UNIT 2, 1, BOWRONS AVENUE      BOWRONS AVENUE  \n",
       "3301459                      STREET RECORD, BOWRONS AVENUE      BOWRONS AVENUE  \n",
       "3471091                                 85, BOWRONS AVENUE  85, BOWRONS AVENUE  \n",
       "3641012                                  3, BOWRONS AVENUE   3, BOWRONS AVENUE  \n",
       "\n",
       "[7 rows x 31 columns]"
      ]
     },
     "execution_count": 246,
     "metadata": {},
     "output_type": "execute_result"
    }
   ],
   "source": [
    "other_AB[(other_AB['postcode_locator'] == 'HA0 4QS') & (other_AB['street_description'] == 'BOWRONS AVENUE')]"
   ]
  },
  {
   "cell_type": "code",
   "execution_count": 241,
   "id": "0a3f1f03",
   "metadata": {},
   "outputs": [],
   "source": [
    "resi_AB[(resi_AB['postcode_sector'] == 'HA0 4') & (resi_AB['street_description'] == 'BOWRONS AVENUE')].to_csv('output_HA04.csv', index  = False) # & (resi_AB['building_name'] == 'Apollo House') ] #& (other_AB['street_description'] == 'EAST STREET')]"
   ]
  },
  {
   "cell_type": "code",
   "execution_count": 242,
   "id": "c61c0381",
   "metadata": {},
   "outputs": [],
   "source": [
    "other_AB[(other_AB['postcode_sector']== 'HA0 4') & (other_AB['street_description'] == 'BOWRONS AVENUE')].to_csv('other_HA04.csv', index = False)"
   ]
  },
  {
   "cell_type": "code",
   "execution_count": 171,
   "id": "1fc01837",
   "metadata": {},
   "outputs": [],
   "source": [
    "seven_sisters.to_csv('seven_sisters.csv', index=False) "
   ]
  },
  {
   "cell_type": "markdown",
   "id": "5b0d2c10",
   "metadata": {},
   "source": [
    "-------- DATA MERGING --------  COMMERCIAL PROPERTIES --- Reproduce the process with commercial properties \n"
   ]
  },
  {
   "cell_type": "code",
   "execution_count": 60,
   "id": "6ad5eb21-c0fa-4612-bccd-31f77313e25c",
   "metadata": {
    "tags": []
   },
   "outputs": [],
   "source": [
    "#Merge on Parent UPRN \n",
    "non_resi_merged = merged_on_address3_no_match.merge(other_AB,how = 'left', left_on = 'uprn_x', right_on = 'parent_uprn')\n",
    "\n",
    "non_resi_match, non_resi_no_match =  separate_matches(non_resi_merged, 'parent_uprn', 'parent_uprn')\n",
    "\n",
    "non_resi_no_match = non_resi_no_match.dropna(axis=1, how='all')"
   ]
  },
  {
   "cell_type": "code",
   "execution_count": 61,
   "id": "9d6e60bd-519d-4476-b702-fcff09d5894e",
   "metadata": {
    "tags": []
   },
   "outputs": [],
   "source": [
    "#merge on UPRN\n",
    "non_resi_merged_2 = non_resi_no_match.merge(other_AB, how = 'left', left_on = 'uprn_x', right_on = 'uprn')\n",
    "\n",
    "non_resi_match_2, non_resi_no_match_2 =  separate_matches(non_resi_merged_2, 'parent_uprn', 'uprn')\n",
    "\n",
    "non_resi_no_match_2 = non_resi_no_match_2.dropna(axis=1, how='all')"
   ]
  },
  {
   "cell_type": "code",
   "execution_count": 62,
   "id": "35233bd0-1e5b-476b-a4e1-784aa153f75e",
   "metadata": {
    "tags": []
   },
   "outputs": [],
   "source": [
    "non_resi_match_2 = non_resi_match_2.rename(columns={\"uprn\": \"uprn_OSAB\"})\n",
    "#non_resi_match_2['match_strategy'] = 'uprn'\n",
    "non_resi_match_2.count()\n",
    "\n",
    "non_resi_match = non_resi_match.rename(columns={\"uprn\": \"uprn_OSAB\"})\n",
    "#non_resi_match['match_strategy'] = 'parent_uprn'"
   ]
  },
  {
   "cell_type": "code",
   "execution_count": 63,
   "id": "a766aec8-4f2a-4620-8938-c6a6c8df7c33",
   "metadata": {
    "tags": []
   },
   "outputs": [],
   "source": [
    "#union them together \n",
    "non_resi_all_matched = pd.concat([non_resi_match_2, non_resi_match])"
   ]
  },
  {
   "cell_type": "markdown",
   "id": "1ad6a0bc",
   "metadata": {},
   "source": [
    "---- Commercial address matching --- "
   ]
  },
  {
   "cell_type": "code",
   "execution_count": 185,
   "id": "ff3df69e-74fd-4280-a8c6-f6d498751b87",
   "metadata": {
    "tags": []
   },
   "outputs": [],
   "source": [
    "#now join on addresses strat 1 \n",
    "left_columns = ['site_name_GLA_no_pc', 'postcode_clean']  #['site_number_clean', 'street_name', 'postcode_clean']\n",
    "right_columns = ['parsed_address1', 'postcode_locator'] #['building_number', 'street_description', 'postcode_locator']\n",
    "\n",
    "#non_resi_address_merge_match, non_resi_address_merge_no_match = my_merge(non_resi_no_match_2, other_AB, left_columns, right_columns)"
   ]
  },
  {
   "cell_type": "code",
   "execution_count": 186,
   "id": "ba7f0f38",
   "metadata": {},
   "outputs": [],
   "source": [
    "#use this one if skipping UPRN \n",
    "non_resi_address_merge_match, non_resi_address_merge_no_match = my_merge(merged_on_address15_no_match, other_AB, left_columns, right_columns)\n"
   ]
  },
  {
   "cell_type": "code",
   "execution_count": 187,
   "id": "89237c05-b592-4be1-ab3b-4c10a7045051",
   "metadata": {
    "tags": []
   },
   "outputs": [],
   "source": [
    "non_resi_address_merge_no_match = non_resi_address_merge_no_match.dropna(axis=1, how='all')\n",
    "\n",
    "## Add the merged_on_address_match to the matched\n",
    "non_resi_address_merge_match = non_resi_address_merge_match.rename(columns={\"uprn\": \"uprn_OSAB\"})\n",
    "non_resi_address_merge_match['match_strategy'] = 'address_1'\n",
    "\n",
    "non_resi_all_matched = non_resi_address_merge_match"
   ]
  },
  {
   "cell_type": "code",
   "execution_count": 188,
   "id": "635a0c1f",
   "metadata": {},
   "outputs": [
    {
     "data": {
      "text/plain": [
       "0"
      ]
     },
     "execution_count": 188,
     "metadata": {},
     "output_type": "execute_result"
    }
   ],
   "source": [
    "non_resi_address_merge_match['UCL_ID'].nunique()"
   ]
  },
  {
   "cell_type": "code",
   "execution_count": 96,
   "id": "917ee507",
   "metadata": {},
   "outputs": [],
   "source": [
    "#USE THIS FIRST TIME THRU \n",
    "# non_resi_all_matched = pd.concat([non_resi_all_matched, non_resi_address_merge_match])"
   ]
  },
  {
   "cell_type": "code",
   "execution_count": 189,
   "id": "c5a5799b-2902-4c5f-aefd-3556ecf780d6",
   "metadata": {
    "tags": []
   },
   "outputs": [],
   "source": [
    "#join addresses strat 2\n",
    "left_columns_2 =  ['site_name_LPA_no_pc', 'postcode_clean'] \n",
    "right_columns_2 =  ['parsed_address1', 'postcode_locator']\n",
    " \n",
    "non_resi_address_merge_match2, non_resi_address_merge_no_match2 = my_merge(non_resi_address_merge_no_match, other_AB, left_columns_2,right_columns_2 )"
   ]
  },
  {
   "cell_type": "code",
   "execution_count": 190,
   "id": "77bf5575",
   "metadata": {},
   "outputs": [
    {
     "data": {
      "text/plain": [
       "0"
      ]
     },
     "execution_count": 190,
     "metadata": {},
     "output_type": "execute_result"
    }
   ],
   "source": [
    "non_resi_address_merge_match2['UCL_ID'].nunique()"
   ]
  },
  {
   "cell_type": "code",
   "execution_count": 191,
   "id": "40e38bdf-0103-4cac-949a-cc02dbe53e2d",
   "metadata": {
    "tags": []
   },
   "outputs": [],
   "source": [
    "non_resi_address_merge_no_match2 = non_resi_address_merge_no_match2.dropna(axis=1, how='all')\n",
    "\n",
    "## Add the merged_on_address_match to the matched\n",
    "non_resi_address_merge_match2 = non_resi_address_merge_match2.rename(columns={\"uprn\": \"uprn_OSAB\"})\n",
    "non_resi_address_merge_match2['match_strategy'] = 'address_2'\n",
    "\n",
    "non_resi_all_matched = pd.concat([non_resi_all_matched, non_resi_address_merge_match2])"
   ]
  },
  {
   "cell_type": "code",
   "execution_count": 192,
   "id": "3a746488-62e0-40f3-980e-d20722040d22",
   "metadata": {
    "tags": []
   },
   "outputs": [],
   "source": [
    "# STRATEGY 3 ADDRESS MATCH \n",
    "left_columns_3 = ['site_name_GLA_no_pc', 'postcode_clean'] \n",
    "right_columns_3 = ['parsed_address2', 'postcode_locator']\n",
    "\n",
    "\n",
    "non_resi_address_merge_match3, non_resi_address_merge_no_match3 = my_merge(non_resi_address_merge_no_match2, other_AB, left_columns_3, right_columns_3)"
   ]
  },
  {
   "cell_type": "code",
   "execution_count": 193,
   "id": "0ea4fe9a",
   "metadata": {},
   "outputs": [
    {
     "data": {
      "text/plain": [
       "0"
      ]
     },
     "execution_count": 193,
     "metadata": {},
     "output_type": "execute_result"
    }
   ],
   "source": [
    "non_resi_address_merge_match3['UCL_ID'].nunique()"
   ]
  },
  {
   "cell_type": "code",
   "execution_count": 194,
   "id": "09850e80-0072-40cc-9acf-4b827b8e79f7",
   "metadata": {
    "tags": []
   },
   "outputs": [],
   "source": [
    "non_resi_address_merge_no_match3 = non_resi_address_merge_no_match3.dropna(axis=1, how='all')\n",
    "\n",
    "## Add the merged_on_address_match to the matched\n",
    "non_resi_address_merge_match3 = non_resi_address_merge_match3.rename(columns={\"uprn\": \"uprn_OSAB\"})\n",
    "non_resi_address_merge_match3['match_strategy'] = 'address_3'\n",
    "\n",
    "non_resi_all_matched = pd.concat([non_resi_all_matched, non_resi_address_merge_match3])"
   ]
  },
  {
   "cell_type": "markdown",
   "id": "4add52e3",
   "metadata": {},
   "source": [
    "------- ADDRESS ----- Strategy 4 COMM "
   ]
  },
  {
   "cell_type": "code",
   "execution_count": 195,
   "id": "9c5fb084",
   "metadata": {},
   "outputs": [],
   "source": [
    "# STRATEGY 4 ADDRESS MATCH \n",
    "left_columns_4 = ['site_name_LPA_no_pc', 'postcode_clean'] \n",
    "right_columns_4 = ['parsed_address2', 'postcode_locator']\n",
    "\n",
    "\n",
    "non_resi_address_merge_match4, non_resi_address_merge_no_match4 = my_merge(non_resi_address_merge_no_match3, other_AB, left_columns_4, right_columns_4)"
   ]
  },
  {
   "cell_type": "code",
   "execution_count": 196,
   "id": "d7899b47",
   "metadata": {},
   "outputs": [
    {
     "data": {
      "text/plain": [
       "0"
      ]
     },
     "execution_count": 196,
     "metadata": {},
     "output_type": "execute_result"
    }
   ],
   "source": [
    "non_resi_address_merge_match4['UCL_ID'].nunique()"
   ]
  },
  {
   "cell_type": "code",
   "execution_count": 197,
   "id": "4abf57c1",
   "metadata": {},
   "outputs": [],
   "source": [
    "non_resi_address_merge_no_match4 = non_resi_address_merge_no_match4.dropna(axis=1, how='all')\n",
    "\n",
    "## Add the merged_on_address_match to the matched\n",
    "non_resi_address_merge_match4 = non_resi_address_merge_match4.rename(columns={\"uprn\": \"uprn_OSAB\"})\n",
    "non_resi_address_merge_match4['match_strategy'] = 'address_4'\n",
    "\n",
    "non_resi_all_matched = pd.concat([non_resi_all_matched, non_resi_address_merge_match4])"
   ]
  },
  {
   "cell_type": "code",
   "execution_count": 199,
   "id": "96f2f25d",
   "metadata": {},
   "outputs": [],
   "source": [
    "#strategy 5 ADDRESS MATCH \n",
    "left_columns_5 = ['concat_addr', 'postcode_clean'] \n",
    "right_columns_5 = ['parsed_address1', 'postcode_locator']\n",
    "\n",
    "\n",
    "non_resi_address_merge_match5, non_resi_address_merge_no_match5 = my_merge(non_resi_address_merge_no_match4, other_AB, left_columns_5, right_columns_5)\n"
   ]
  },
  {
   "cell_type": "code",
   "execution_count": 200,
   "id": "e422f17e",
   "metadata": {},
   "outputs": [],
   "source": [
    "non_resi_address_merge_no_match5 = non_resi_address_merge_no_match5.dropna(axis=1, how='all')\n",
    "\n",
    "## Add the merged_on_address_match to the matched\n",
    "non_resi_address_merge_match5 = non_resi_address_merge_match5.rename(columns={\"uprn\": \"uprn_OSAB\"})\n",
    "non_resi_address_merge_match5['match_strategy'] = 'address_5'\n",
    "\n",
    "non_resi_all_matched = pd.concat([non_resi_all_matched, non_resi_address_merge_match5])"
   ]
  },
  {
   "cell_type": "markdown",
   "id": "f43b4d65",
   "metadata": {},
   "source": [
    "strategy 6, same as for resi --- "
   ]
  },
  {
   "cell_type": "code",
   "execution_count": 201,
   "id": "a1f4f6b6",
   "metadata": {},
   "outputs": [],
   "source": [
    "## Strategy 6\n",
    "left_columns_6 = ['concat_addr', 'postcode_clean']  \n",
    "right_columns_6 = ['parsed_address2', 'postcode_locator'] \n",
    "\n",
    "non_resi_address_merge_match6, non_resi_address_merge_no_match6 = my_merge(non_resi_address_merge_no_match5, other_AB, left_columns_6, right_columns_6)"
   ]
  },
  {
   "cell_type": "code",
   "execution_count": 203,
   "id": "97d7abb6",
   "metadata": {},
   "outputs": [
    {
     "data": {
      "text/plain": [
       "9"
      ]
     },
     "execution_count": 203,
     "metadata": {},
     "output_type": "execute_result"
    }
   ],
   "source": [
    "non_resi_address_merge_match6['UCL_ID'].nunique()"
   ]
  },
  {
   "cell_type": "code",
   "execution_count": 204,
   "id": "aafb8a84",
   "metadata": {},
   "outputs": [],
   "source": [
    "non_resi_address_merge_no_match6 = non_resi_address_merge_no_match6.dropna(axis=1, how='all')\n",
    "\n",
    "## Add the merged_on_address_match to the matched\n",
    "non_resi_address_merge_match6 = non_resi_address_merge_match6.rename(columns={\"uprn\": \"uprn_OSAB\"})\n",
    "non_resi_address_merge_match6['match_strategy'] = 'address_6'\n",
    "\n",
    "non_resi_all_matched = pd.concat([non_resi_all_matched, non_resi_address_merge_match6])"
   ]
  },
  {
   "cell_type": "code",
   "execution_count": 310,
   "id": "711594cb",
   "metadata": {},
   "outputs": [],
   "source": [
    "#strategy 7 ADDRESS MATCH \n",
    "left_columns_7 = ['site_number_clean', 'street_name', 'postcode_clean']\n",
    "right_columns_7 = ['pao_start_num_suffix', 'street_description', 'postcode_locator'] \n",
    "#['pao_start_number', 'street_description', 'postcode_locator']\n",
    "\n",
    "non_resi_address_merge_match7, non_resi_address_merge_no_match7 = my_merge(non_resi_address_merge_no_match6, other_AB, left_columns_7, right_columns_7)\n"
   ]
  },
  {
   "cell_type": "code",
   "execution_count": 311,
   "id": "c8763ec3",
   "metadata": {},
   "outputs": [
    {
     "data": {
      "text/plain": [
       "0"
      ]
     },
     "execution_count": 311,
     "metadata": {},
     "output_type": "execute_result"
    }
   ],
   "source": [
    "non_resi_address_merge_match7['UCL_ID'].nunique() #was 88"
   ]
  },
  {
   "cell_type": "code",
   "execution_count": 312,
   "id": "3a5d8b87",
   "metadata": {},
   "outputs": [
    {
     "name": "stderr",
     "output_type": "stream",
     "text": [
      "/var/folders/0b/k156jw2x3rz7y1k26v1wkh880000gn/T/ipykernel_39380/2992107636.py:7: FutureWarning: The behavior of DataFrame concatenation with empty or all-NA entries is deprecated. In a future version, this will no longer exclude empty or all-NA columns when determining the result dtypes. To retain the old behavior, exclude the relevant entries before the concat operation.\n",
      "  non_resi_all_matched = pd.concat([non_resi_all_matched, non_resi_address_merge_match7])\n"
     ]
    }
   ],
   "source": [
    "non_resi_address_merge_no_match7 = non_resi_address_merge_no_match7.dropna(axis=1, how='all')\n",
    "\n",
    "## Add the merged_on_address_match to the matched\n",
    "non_resi_address_merge_match7 = non_resi_address_merge_match7.rename(columns={\"uprn\": \"uprn_OSAB\"})\n",
    "non_resi_address_merge_match7['match_strategy'] = 'address_7'\n",
    "\n",
    "non_resi_all_matched = pd.concat([non_resi_all_matched, non_resi_address_merge_match7])"
   ]
  },
  {
   "cell_type": "code",
   "execution_count": 313,
   "id": "23cd9335",
   "metadata": {},
   "outputs": [],
   "source": [
    "#strategy 8 ADDRESS MATCH \n",
    "left_columns_8 = ['site_number_clean', 'street_name', 'postcode_sector_x']\n",
    "right_columns_8 = ['pao_start_num_suffix','street_description', 'postcode_sector']\n",
    "#['pao_start_number', 'street_description', 'postcode_sector']\n",
    "\n",
    "non_resi_address_merge_match8, non_resi_address_merge_no_match8 = my_merge(non_resi_address_merge_no_match7, other_AB, left_columns_8, right_columns_8)"
   ]
  },
  {
   "cell_type": "code",
   "execution_count": 314,
   "id": "c9c36e2c",
   "metadata": {},
   "outputs": [
    {
     "data": {
      "text/plain": [
       "0"
      ]
     },
     "execution_count": 314,
     "metadata": {},
     "output_type": "execute_result"
    }
   ],
   "source": [
    "non_resi_address_merge_match8['UCL_ID'].nunique() #was 88"
   ]
  },
  {
   "cell_type": "code",
   "execution_count": 317,
   "id": "58c29905",
   "metadata": {},
   "outputs": [
    {
     "data": {
      "text/html": [
       "<div>\n",
       "<style scoped>\n",
       "    .dataframe tbody tr th:only-of-type {\n",
       "        vertical-align: middle;\n",
       "    }\n",
       "\n",
       "    .dataframe tbody tr th {\n",
       "        vertical-align: top;\n",
       "    }\n",
       "\n",
       "    .dataframe thead th {\n",
       "        text-align: right;\n",
       "    }\n",
       "</style>\n",
       "<table border=\"1\" class=\"dataframe\">\n",
       "  <thead>\n",
       "    <tr style=\"text-align: right;\">\n",
       "      <th></th>\n",
       "      <th>uprn</th>\n",
       "      <th>class</th>\n",
       "      <th>parent_uprn</th>\n",
       "      <th>latitude</th>\n",
       "      <th>longitude</th>\n",
       "      <th>country</th>\n",
       "      <th>legal_name</th>\n",
       "      <th>sub_building_name</th>\n",
       "      <th>building_name</th>\n",
       "      <th>building_number</th>\n",
       "      <th>...</th>\n",
       "      <th>locality</th>\n",
       "      <th>town_name</th>\n",
       "      <th>administrative_area</th>\n",
       "      <th>post_town</th>\n",
       "      <th>postcode</th>\n",
       "      <th>postcode_locator</th>\n",
       "      <th>postcode_sector</th>\n",
       "      <th>parsed_address1</th>\n",
       "      <th>parsed_address2</th>\n",
       "      <th>pao_start_num_suffix</th>\n",
       "    </tr>\n",
       "  </thead>\n",
       "  <tbody>\n",
       "    <tr>\n",
       "      <th>1029703</th>\n",
       "      <td>10025177788</td>\n",
       "      <td>CU01</td>\n",
       "      <td></td>\n",
       "      <td>51.544389</td>\n",
       "      <td>-0.302875</td>\n",
       "      <td>E</td>\n",
       "      <td></td>\n",
       "      <td></td>\n",
       "      <td></td>\n",
       "      <td></td>\n",
       "      <td>...</td>\n",
       "      <td></td>\n",
       "      <td>WEMBLEY</td>\n",
       "      <td>BRENT</td>\n",
       "      <td></td>\n",
       "      <td></td>\n",
       "      <td>HA0 4QS</td>\n",
       "      <td>HA0 4</td>\n",
       "      <td>ELECTRICITY SUB STATION 66M FROM 95 NORTON ROA...</td>\n",
       "      <td>BOWRONS AVENUE</td>\n",
       "      <td></td>\n",
       "    </tr>\n",
       "    <tr>\n",
       "      <th>1309948</th>\n",
       "      <td>202228481</td>\n",
       "      <td>CR</td>\n",
       "      <td></td>\n",
       "      <td>51.544930</td>\n",
       "      <td>-0.297450</td>\n",
       "      <td>E</td>\n",
       "      <td></td>\n",
       "      <td></td>\n",
       "      <td></td>\n",
       "      <td></td>\n",
       "      <td>...</td>\n",
       "      <td></td>\n",
       "      <td>WEMBLEY</td>\n",
       "      <td>BRENT</td>\n",
       "      <td></td>\n",
       "      <td></td>\n",
       "      <td>HA0 4QS</td>\n",
       "      <td>HA0 4</td>\n",
       "      <td>UNIT 1, 1, BOWRONS AVENUE</td>\n",
       "      <td>BOWRONS AVENUE</td>\n",
       "      <td>1.0A</td>\n",
       "    </tr>\n",
       "    <tr>\n",
       "      <th>1561284</th>\n",
       "      <td>202238960</td>\n",
       "      <td>PP</td>\n",
       "      <td></td>\n",
       "      <td>51.544557</td>\n",
       "      <td>-0.302108</td>\n",
       "      <td>E</td>\n",
       "      <td></td>\n",
       "      <td></td>\n",
       "      <td></td>\n",
       "      <td></td>\n",
       "      <td>...</td>\n",
       "      <td></td>\n",
       "      <td>WEMBLEY</td>\n",
       "      <td>BRENT</td>\n",
       "      <td></td>\n",
       "      <td></td>\n",
       "      <td>HA0 4QS</td>\n",
       "      <td>HA0 4</td>\n",
       "      <td>SHELL FOR STUDIO FLATS A TO F AND LOFT D, 39, ...</td>\n",
       "      <td>BOWRONS AVENUE</td>\n",
       "      <td>39.0</td>\n",
       "    </tr>\n",
       "    <tr>\n",
       "      <th>1569192</th>\n",
       "      <td>202228482</td>\n",
       "      <td>CR10</td>\n",
       "      <td></td>\n",
       "      <td>51.544931</td>\n",
       "      <td>-0.297508</td>\n",
       "      <td>E</td>\n",
       "      <td></td>\n",
       "      <td></td>\n",
       "      <td></td>\n",
       "      <td></td>\n",
       "      <td>...</td>\n",
       "      <td></td>\n",
       "      <td>WEMBLEY</td>\n",
       "      <td>BRENT</td>\n",
       "      <td></td>\n",
       "      <td></td>\n",
       "      <td>HA0 4QS</td>\n",
       "      <td>HA0 4</td>\n",
       "      <td>UNIT 2, 1, BOWRONS AVENUE</td>\n",
       "      <td>BOWRONS AVENUE</td>\n",
       "      <td>1.0A</td>\n",
       "    </tr>\n",
       "    <tr>\n",
       "      <th>3301459</th>\n",
       "      <td>202128619</td>\n",
       "      <td>PS</td>\n",
       "      <td></td>\n",
       "      <td>51.544703</td>\n",
       "      <td>-0.302270</td>\n",
       "      <td>E</td>\n",
       "      <td></td>\n",
       "      <td></td>\n",
       "      <td></td>\n",
       "      <td></td>\n",
       "      <td>...</td>\n",
       "      <td></td>\n",
       "      <td>WEMBLEY</td>\n",
       "      <td>BRENT</td>\n",
       "      <td></td>\n",
       "      <td></td>\n",
       "      <td>HA0 4QS</td>\n",
       "      <td>HA0 4</td>\n",
       "      <td>STREET RECORD, BOWRONS AVENUE</td>\n",
       "      <td>BOWRONS AVENUE</td>\n",
       "      <td></td>\n",
       "    </tr>\n",
       "    <tr>\n",
       "      <th>3471091</th>\n",
       "      <td>202221907</td>\n",
       "      <td>PP</td>\n",
       "      <td></td>\n",
       "      <td>51.544579</td>\n",
       "      <td>-0.301732</td>\n",
       "      <td>E</td>\n",
       "      <td></td>\n",
       "      <td></td>\n",
       "      <td></td>\n",
       "      <td>85.0</td>\n",
       "      <td>...</td>\n",
       "      <td></td>\n",
       "      <td>WEMBLEY</td>\n",
       "      <td>BRENT</td>\n",
       "      <td>WEMBLEY</td>\n",
       "      <td>HA0 4QS</td>\n",
       "      <td>HA0 4QS</td>\n",
       "      <td>HA0 4</td>\n",
       "      <td>85, BOWRONS AVENUE</td>\n",
       "      <td>85, BOWRONS AVENUE</td>\n",
       "      <td>85.0</td>\n",
       "    </tr>\n",
       "    <tr>\n",
       "      <th>3641012</th>\n",
       "      <td>202220578</td>\n",
       "      <td>PP</td>\n",
       "      <td></td>\n",
       "      <td>51.544845</td>\n",
       "      <td>-0.297742</td>\n",
       "      <td>E</td>\n",
       "      <td></td>\n",
       "      <td></td>\n",
       "      <td></td>\n",
       "      <td>3.0</td>\n",
       "      <td>...</td>\n",
       "      <td></td>\n",
       "      <td>WEMBLEY</td>\n",
       "      <td>BRENT</td>\n",
       "      <td>WEMBLEY</td>\n",
       "      <td>HA0 4QS</td>\n",
       "      <td>HA0 4QS</td>\n",
       "      <td>HA0 4</td>\n",
       "      <td>3, BOWRONS AVENUE</td>\n",
       "      <td>3, BOWRONS AVENUE</td>\n",
       "      <td>3.0</td>\n",
       "    </tr>\n",
       "  </tbody>\n",
       "</table>\n",
       "<p>7 rows × 32 columns</p>\n",
       "</div>"
      ],
      "text/plain": [
       "                uprn class parent_uprn   latitude  longitude country  \\\n",
       "1029703  10025177788  CU01              51.544389  -0.302875       E   \n",
       "1309948    202228481    CR              51.544930  -0.297450       E   \n",
       "1561284    202238960    PP              51.544557  -0.302108       E   \n",
       "1569192    202228482  CR10              51.544931  -0.297508       E   \n",
       "3301459    202128619    PS              51.544703  -0.302270       E   \n",
       "3471091    202221907    PP              51.544579  -0.301732       E   \n",
       "3641012    202220578    PP              51.544845  -0.297742       E   \n",
       "\n",
       "        legal_name sub_building_name building_name building_number  ...  \\\n",
       "1029703                                                             ...   \n",
       "1309948                                                             ...   \n",
       "1561284                                                             ...   \n",
       "1569192                                                             ...   \n",
       "3301459                                                             ...   \n",
       "3471091                                                       85.0  ...   \n",
       "3641012                                                        3.0  ...   \n",
       "\n",
       "        locality town_name administrative_area post_town postcode  \\\n",
       "1029703            WEMBLEY               BRENT                      \n",
       "1309948            WEMBLEY               BRENT                      \n",
       "1561284            WEMBLEY               BRENT                      \n",
       "1569192            WEMBLEY               BRENT                      \n",
       "3301459            WEMBLEY               BRENT                      \n",
       "3471091            WEMBLEY               BRENT   WEMBLEY  HA0 4QS   \n",
       "3641012            WEMBLEY               BRENT   WEMBLEY  HA0 4QS   \n",
       "\n",
       "        postcode_locator postcode_sector  \\\n",
       "1029703          HA0 4QS           HA0 4   \n",
       "1309948          HA0 4QS           HA0 4   \n",
       "1561284          HA0 4QS           HA0 4   \n",
       "1569192          HA0 4QS           HA0 4   \n",
       "3301459          HA0 4QS           HA0 4   \n",
       "3471091          HA0 4QS           HA0 4   \n",
       "3641012          HA0 4QS           HA0 4   \n",
       "\n",
       "                                           parsed_address1  \\\n",
       "1029703  ELECTRICITY SUB STATION 66M FROM 95 NORTON ROA...   \n",
       "1309948                          UNIT 1, 1, BOWRONS AVENUE   \n",
       "1561284  SHELL FOR STUDIO FLATS A TO F AND LOFT D, 39, ...   \n",
       "1569192                          UNIT 2, 1, BOWRONS AVENUE   \n",
       "3301459                      STREET RECORD, BOWRONS AVENUE   \n",
       "3471091                                 85, BOWRONS AVENUE   \n",
       "3641012                                  3, BOWRONS AVENUE   \n",
       "\n",
       "            parsed_address2 pao_start_num_suffix  \n",
       "1029703      BOWRONS AVENUE                       \n",
       "1309948      BOWRONS AVENUE                 1.0A  \n",
       "1561284      BOWRONS AVENUE                 39.0  \n",
       "1569192      BOWRONS AVENUE                 1.0A  \n",
       "3301459      BOWRONS AVENUE                       \n",
       "3471091  85, BOWRONS AVENUE                 85.0  \n",
       "3641012   3, BOWRONS AVENUE                  3.0  \n",
       "\n",
       "[7 rows x 32 columns]"
      ]
     },
     "execution_count": 317,
     "metadata": {},
     "output_type": "execute_result"
    }
   ],
   "source": [
    "other_AB[other_AB['postcode_locator'] == 'HA0 4QS']"
   ]
  },
  {
   "cell_type": "code",
   "execution_count": 210,
   "id": "fd6fa6cf",
   "metadata": {},
   "outputs": [],
   "source": [
    "non_resi_address_merge_no_match8 = non_resi_address_merge_no_match8.dropna(axis=1, how='all')\n",
    "\n",
    "## Add the merged_on_address_match to the matched\n",
    "non_resi_address_merge_match8 = non_resi_address_merge_match8.rename(columns={\"uprn\": \"uprn_OSAB\"})\n",
    "non_resi_address_merge_match8['match_strategy'] = 'address_8'\n",
    "\n",
    "non_resi_all_matched = pd.concat([non_resi_all_matched, non_resi_address_merge_match8])"
   ]
  },
  {
   "cell_type": "code",
   "execution_count": 211,
   "id": "c80cabab",
   "metadata": {},
   "outputs": [],
   "source": [
    "#strategy 9 ADDRESS MATCH \n",
    "left_columns_9 = ['site_name_GLA_no_pc',  'postcode_sector_x']\n",
    "right_columns_9 = ['parsed_address1',  'postcode_sector']\n",
    "\n",
    "non_resi_address_merge_match9, non_resi_address_merge_no_match9 = my_merge(non_resi_address_merge_no_match8, other_AB, left_columns_9, right_columns_9)"
   ]
  },
  {
   "cell_type": "code",
   "execution_count": 212,
   "id": "1202ccf5",
   "metadata": {},
   "outputs": [
    {
     "data": {
      "text/plain": [
       "0"
      ]
     },
     "execution_count": 212,
     "metadata": {},
     "output_type": "execute_result"
    }
   ],
   "source": [
    "non_resi_address_merge_match9['UCL_ID'].nunique() #was 88"
   ]
  },
  {
   "cell_type": "code",
   "execution_count": 213,
   "id": "04e298c0",
   "metadata": {},
   "outputs": [],
   "source": [
    "non_resi_address_merge_no_match9 = non_resi_address_merge_no_match9.dropna(axis=1, how='all')\n",
    "\n",
    "## Add the merged_on_address_match to the matched\n",
    "non_resi_address_merge_match9 = non_resi_address_merge_match9.rename(columns={\"uprn\": \"uprn_OSAB\"})\n",
    "non_resi_address_merge_match9['match_strategy'] = 'address_9'\n",
    "\n",
    "non_resi_all_matched = pd.concat([non_resi_all_matched, non_resi_address_merge_match9])"
   ]
  },
  {
   "cell_type": "code",
   "execution_count": 214,
   "id": "d9dbd02e",
   "metadata": {},
   "outputs": [],
   "source": [
    "#STRATEGY 10\n",
    "left_columns_10 = ['site_name_LPA_no_pc',  'postcode_sector_x']\n",
    "right_columns_10 = ['parsed_address1',  'postcode_sector']\n",
    "\n",
    "non_resi_address_merge_match10, non_resi_address_merge_no_match10 = my_merge(non_resi_address_merge_no_match9, other_AB, left_columns_10, right_columns_10)"
   ]
  },
  {
   "cell_type": "code",
   "execution_count": 215,
   "id": "77126c6e",
   "metadata": {},
   "outputs": [
    {
     "data": {
      "text/plain": [
       "0"
      ]
     },
     "execution_count": 215,
     "metadata": {},
     "output_type": "execute_result"
    }
   ],
   "source": [
    "non_resi_address_merge_match10['UCL_ID'].nunique() #was 88"
   ]
  },
  {
   "cell_type": "code",
   "execution_count": 216,
   "id": "93c9717f",
   "metadata": {},
   "outputs": [],
   "source": [
    "#STRATEGY 11\n",
    "left_columns_11 = ['site_name_GLA_no_pc',  'postcode_sector_x']\n",
    "right_columns_11 = ['parsed_address2',  'postcode_sector']\n",
    "\n",
    "non_resi_address_merge_match11, non_resi_address_merge_no_match11 = my_merge(non_resi_address_merge_no_match9, other_AB, left_columns_11, right_columns_11)"
   ]
  },
  {
   "cell_type": "code",
   "execution_count": 217,
   "id": "9ab934ad",
   "metadata": {},
   "outputs": [
    {
     "data": {
      "text/plain": [
       "0"
      ]
     },
     "execution_count": 217,
     "metadata": {},
     "output_type": "execute_result"
    }
   ],
   "source": [
    "non_resi_address_merge_match11['UCL_ID'].nunique() #was 88"
   ]
  },
  {
   "cell_type": "code",
   "execution_count": 218,
   "id": "b7e04e1a",
   "metadata": {},
   "outputs": [],
   "source": [
    "non_resi_address_merge_no_match11 = non_resi_address_merge_no_match11.dropna(axis=1, how='all')\n",
    "\n",
    "## Add the merged_on_address_match to the matched\n",
    "non_resi_address_merge_match11 = non_resi_address_merge_match11.rename(columns={\"uprn\": \"uprn_OSAB\"})\n",
    "non_resi_address_merge_match11['match_strategy'] = 'address_11'\n",
    "\n",
    "non_resi_all_matched = pd.concat([non_resi_all_matched, non_resi_address_merge_match11])"
   ]
  },
  {
   "cell_type": "code",
   "execution_count": 219,
   "id": "e1974dbe",
   "metadata": {},
   "outputs": [],
   "source": [
    "#STRATEGY 12\n",
    "left_columns_12 = ['site_name_LPA_no_pc',  'postcode_sector_x']\n",
    "right_columns_12 = ['parsed_address2',  'postcode_sector']\n",
    "\n",
    "non_resi_address_merge_match12, non_resi_address_merge_no_match12 = my_merge(non_resi_address_merge_no_match11, other_AB, left_columns_12, right_columns_12)"
   ]
  },
  {
   "cell_type": "code",
   "execution_count": 220,
   "id": "0330c7e6",
   "metadata": {},
   "outputs": [
    {
     "data": {
      "text/plain": [
       "0"
      ]
     },
     "execution_count": 220,
     "metadata": {},
     "output_type": "execute_result"
    }
   ],
   "source": [
    "non_resi_address_merge_match12['UCL_ID'].nunique() #was 88"
   ]
  },
  {
   "cell_type": "code",
   "execution_count": 221,
   "id": "b8193ba3",
   "metadata": {},
   "outputs": [],
   "source": [
    "non_resi_address_merge_no_match12 = non_resi_address_merge_no_match12.dropna(axis=1, how='all')\n",
    "\n",
    "## Add the merged_on_address_match to the matched\n",
    "non_resi_address_merge_match12 = non_resi_address_merge_match12.rename(columns={\"uprn\": \"uprn_OSAB\"})\n",
    "non_resi_address_merge_match12['match_strategy'] = 'address_12'\n",
    "\n",
    "non_resi_all_matched = pd.concat([non_resi_all_matched, non_resi_address_merge_match12])"
   ]
  },
  {
   "cell_type": "code",
   "execution_count": 222,
   "id": "bee4165b",
   "metadata": {},
   "outputs": [],
   "source": [
    "#STRATEGY 13\n",
    "left_columns_13 = ['site_number_clean', 'street_name',  'postcode_sector_x']\n",
    "right_columns_13 = ['pao_start_number', 'street_description',   'postcode_sector']\n",
    "\n",
    "non_resi_address_merge_match13, non_resi_address_merge_no_match13 = my_merge(non_resi_address_merge_no_match12, other_AB, left_columns_13, right_columns_13)"
   ]
  },
  {
   "cell_type": "code",
   "execution_count": 223,
   "id": "f06df8d2",
   "metadata": {},
   "outputs": [
    {
     "data": {
      "text/plain": [
       "0"
      ]
     },
     "execution_count": 223,
     "metadata": {},
     "output_type": "execute_result"
    }
   ],
   "source": [
    "non_resi_address_merge_match13['UCL_ID'].nunique() #was 88"
   ]
  },
  {
   "cell_type": "code",
   "execution_count": 224,
   "id": "e349c41c",
   "metadata": {},
   "outputs": [],
   "source": [
    "non_resi_address_merge_no_match13 = non_resi_address_merge_no_match13.dropna(axis=1, how='all')\n",
    "\n",
    "## Add the merged_on_address_match to the matched\n",
    "non_resi_address_merge_match13 = non_resi_address_merge_match13.rename(columns={\"uprn\": \"uprn_OSAB\"})\n",
    "non_resi_address_merge_match13['match_strategy'] = 'address_13'\n",
    "\n",
    "non_resi_all_matched = pd.concat([non_resi_all_matched, non_resi_address_merge_match13])"
   ]
  },
  {
   "cell_type": "code",
   "execution_count": 225,
   "id": "751f1428",
   "metadata": {},
   "outputs": [],
   "source": [
    "#STRATEGY 14\n",
    "left_columns_14 = ['concat_addr', 'lpa_name'] \n",
    "right_columns_14 = ['parsed_address1', 'administrative_area']\n",
    "\n",
    "non_resi_address_merge_match14, non_resi_address_merge_no_match14 = my_merge(non_resi_address_merge_no_match13, other_AB, left_columns_14, right_columns_14)\n"
   ]
  },
  {
   "cell_type": "code",
   "execution_count": 226,
   "id": "e4511f45",
   "metadata": {},
   "outputs": [
    {
     "data": {
      "text/plain": [
       "0"
      ]
     },
     "execution_count": 226,
     "metadata": {},
     "output_type": "execute_result"
    }
   ],
   "source": [
    "non_resi_address_merge_match14['UCL_ID'].nunique() #was 88"
   ]
  },
  {
   "cell_type": "code",
   "execution_count": 227,
   "id": "b656c12f",
   "metadata": {},
   "outputs": [],
   "source": [
    "non_resi_address_merge_no_match14 = non_resi_address_merge_no_match14.dropna(axis=1, how='all')\n",
    "\n",
    "## Add the merged_on_address_match to the matched\n",
    "non_resi_address_merge_match14 = non_resi_address_merge_match14.rename(columns={\"uprn\": \"uprn_OSAB\"})\n",
    "non_resi_address_merge_match14['match_strategy'] = 'address_14'\n",
    "\n",
    "non_resi_all_matched = pd.concat([non_resi_all_matched, non_resi_address_merge_match14])"
   ]
  },
  {
   "cell_type": "code",
   "execution_count": 228,
   "id": "ed005551",
   "metadata": {},
   "outputs": [],
   "source": [
    "#STRATEGY 15\n",
    "left_columns_15 = ['concat_addr', 'lpa_name'] \n",
    "right_columns_15 = ['parsed_address2', 'administrative_area']\n",
    "\n",
    "non_resi_address_merge_match15, non_resi_address_merge_no_match15 = my_merge(non_resi_address_merge_no_match14, other_AB, left_columns_15, right_columns_15)\n"
   ]
  },
  {
   "cell_type": "code",
   "execution_count": 229,
   "id": "6e24b364",
   "metadata": {},
   "outputs": [
    {
     "data": {
      "text/plain": [
       "2"
      ]
     },
     "execution_count": 229,
     "metadata": {},
     "output_type": "execute_result"
    }
   ],
   "source": [
    "non_resi_address_merge_match15['UCL_ID'].nunique() #was 88"
   ]
  },
  {
   "cell_type": "code",
   "execution_count": 230,
   "id": "a0c7656f",
   "metadata": {},
   "outputs": [],
   "source": [
    "non_resi_address_merge_no_match15 = non_resi_address_merge_no_match15.dropna(axis=1, how='all')\n",
    "\n",
    "## Add the merged_on_address_match to the matched\n",
    "non_resi_address_merge_match15 = non_resi_address_merge_match15.rename(columns={\"uprn\": \"uprn_OSAB\"})\n",
    "non_resi_address_merge_match15['match_strategy'] = 'address_15'\n",
    "\n",
    "non_resi_all_matched = pd.concat([non_resi_all_matched, non_resi_address_merge_match15])"
   ]
  },
  {
   "cell_type": "markdown",
   "id": "39876ad6",
   "metadata": {},
   "source": [
    "----- specific address analysis  ---- "
   ]
  },
  {
   "cell_type": "code",
   "execution_count": 71,
   "id": "83452072-fa8b-4bd9-8df8-712049bb007b",
   "metadata": {
    "tags": []
   },
   "outputs": [],
   "source": [
    "## ------------------------------- Post Match  -------------------------------"
   ]
  },
  {
   "cell_type": "code",
   "execution_count": 231,
   "id": "8eee3873-8729-4cfa-9ab6-17e877174e88",
   "metadata": {
    "tags": []
   },
   "outputs": [
    {
     "name": "stdout",
     "output_type": "stream",
     "text": [
      "Resi Match rate:  31.70731707317073\n"
     ]
    }
   ],
   "source": [
    "#print match rate\n",
    "resi_match_rate = 100 * all_matched['UCL_ID'].nunique() / london_data['UCL_ID'].nunique()\n",
    "\n",
    "print('Resi Match rate: ', resi_match_rate) "
   ]
  },
  {
   "cell_type": "code",
   "execution_count": 233,
   "id": "4912f701",
   "metadata": {},
   "outputs": [
    {
     "data": {
      "text/plain": [
       "104"
      ]
     },
     "execution_count": 233,
     "metadata": {},
     "output_type": "execute_result"
    }
   ],
   "source": [
    "all_matched['UCL_ID'].nunique()"
   ]
  },
  {
   "cell_type": "code",
   "execution_count": 235,
   "id": "cad5c34c-b713-4ff6-99ac-6fa528313e1f",
   "metadata": {
    "tags": []
   },
   "outputs": [
    {
     "name": "stdout",
     "output_type": "stream",
     "text": [
      "Other Match rate:  8.536585365853659\n"
     ]
    }
   ],
   "source": [
    "other_match_rate = 100 * non_resi_all_matched['UCL_ID'].nunique() / london_data['UCL_ID'].nunique()\n",
    "\n",
    "print('Other Match rate: ', other_match_rate) "
   ]
  },
  {
   "cell_type": "code",
   "execution_count": 125,
   "id": "a83bd164",
   "metadata": {},
   "outputs": [
    {
     "data": {
      "text/plain": [
       "310"
      ]
     },
     "execution_count": 125,
     "metadata": {},
     "output_type": "execute_result"
    }
   ],
   "source": [
    "non_resi_all_matched['ID'].nunique()"
   ]
  },
  {
   "cell_type": "code",
   "execution_count": 126,
   "id": "8575f697-728d-480f-9520-5fb95ee038fa",
   "metadata": {
    "tags": []
   },
   "outputs": [],
   "source": [
    "#before export, make all these columns blank instead of 0 \n",
    "#'legal_name', 'sub_building_name', 'building_name','building_number','street_description', 'dependent_locality\tlocality\n",
    "all_matched['street_name'] = all_matched['street_name'].replace(0,'')\n",
    "all_matched['legal_name'] = all_matched['legal_name'].replace(0,'')\n",
    "all_matched['sub_building_name'] = all_matched['sub_building_name'].replace(0,'')\n",
    "all_matched['building_name'] = all_matched['building_name'].replace(0,'')\n",
    "all_matched['building_number'] = all_matched['building_number'].replace(0,'')\n",
    "all_matched['street_description'] = all_matched['street_description'].replace(0,'')\n",
    "all_matched['dependent_locality'] = all_matched['dependent_locality'].replace(0,'')\n",
    "all_matched['locality'] = all_matched['locality'].replace(0,'')\n",
    "all_matched['post_town'] = all_matched['post_town'].replace(0,'')\n",
    "all_matched['postcode'] = np.where(all_matched['postcode'] == 0, all_matched['postcode_clean'], all_matched['postcode'])\n"
   ]
  },
  {
   "cell_type": "code",
   "execution_count": 127,
   "id": "1f807ae3-2cb7-4d0c-a3b1-36f9fe6dd0e3",
   "metadata": {
    "tags": []
   },
   "outputs": [],
   "source": [
    "#write out to csv \n",
    "\n",
    "all_matched.to_csv('London2b_address_matched_1705.csv', index=False) \n",
    "\n",
    "non_resi_all_matched.to_csv('London2b_non_resi_match_1705.csv', index=False)  "
   ]
  },
  {
   "cell_type": "code",
   "execution_count": 128,
   "id": "7c218041-111b-41bc-b6de-b82dbf94a23e",
   "metadata": {
    "tags": []
   },
   "outputs": [],
   "source": [
    "non_resi_address_merge_no_match6.to_csv('London2b_no_match_1705.csv', index = False)"
   ]
  },
  {
   "cell_type": "code",
   "execution_count": null,
   "id": "9c23280e-034a-4b48-8135-b77f728a37e2",
   "metadata": {},
   "outputs": [],
   "source": []
  },
  {
   "cell_type": "code",
   "execution_count": 129,
   "id": "4ea26270",
   "metadata": {},
   "outputs": [],
   "source": [
    "#### some analysis on past records\n",
    "#London2_no_match_2603.csv\n",
    "#London2_non_resi_match_2603.csv\n",
    "#London2_address_matched_2603.csv\n",
    "\n",
    "batch2_no_match = pd.read_csv('data/London2_no_match_2603.csv')"
   ]
  },
  {
   "cell_type": "code",
   "execution_count": 130,
   "id": "92736107",
   "metadata": {},
   "outputs": [],
   "source": [
    "batch2_non_resi = pd.read_csv('data/London2_non_resi_match_2603.csv')\n",
    "batch2_resi = pd.read_csv('data/London2_address_matched_2603.csv')"
   ]
  },
  {
   "cell_type": "code",
   "execution_count": 133,
   "id": "3abcec37",
   "metadata": {},
   "outputs": [
    {
     "data": {
      "text/plain": [
       "ID                              729\n",
       "planning_application_number     990\n",
       "lpa_name                         37\n",
       "application_type                  1\n",
       "application_type_full            17\n",
       "description                     943\n",
       "number_of_units                  59\n",
       "site_number_clean               330\n",
       "street_name                     537\n",
       "postcode_clean                  695\n",
       "site_name_clean                 156\n",
       "site_name_GLA                   747\n",
       "site_name_LPA                   839\n",
       "uprn_x                          228\n",
       "decision                         57\n",
       "status                           10\n",
       "application_date                585\n",
       "decision_date                   667\n",
       "parsed_street_LPA               345\n",
       "parsed_street_GLA                17\n",
       "uprn_OSAB                      5560\n",
       "class                            10\n",
       "parent_uprn                     477\n",
       "latitude                        980\n",
       "longitude                       979\n",
       "country                           1\n",
       "legal_name                        0\n",
       "sub_building_name               648\n",
       "building_name                   317\n",
       "building_number                 229\n",
       "street_description              540\n",
       "dependent_locality               11\n",
       "locality                         56\n",
       "town_name                        85\n",
       "administrative_area              32\n",
       "post_town                        50\n",
       "postcode                        708\n",
       "number_street                   774\n",
       "match_strategy                    5\n",
       "dtype: int64"
      ]
     },
     "execution_count": 133,
     "metadata": {},
     "output_type": "execute_result"
    }
   ],
   "source": [
    "batch2_resi.nunique() #1752 no match , 676 non resi , 729 resi"
   ]
  },
  {
   "cell_type": "code",
   "execution_count": null,
   "id": "7f129f81",
   "metadata": {},
   "outputs": [],
   "source": []
  }
 ],
 "metadata": {
  "kernelspec": {
   "display_name": "sds2023",
   "language": "python",
   "name": "sds2023"
  },
  "language_info": {
   "codemirror_mode": {
    "name": "ipython",
    "version": 3
   },
   "file_extension": ".py",
   "mimetype": "text/x-python",
   "name": "python",
   "nbconvert_exporter": "python",
   "pygments_lexer": "ipython3",
   "version": "3.11.7"
  },
  "toc-autonumbering": true
 },
 "nbformat": 4,
 "nbformat_minor": 5
}
