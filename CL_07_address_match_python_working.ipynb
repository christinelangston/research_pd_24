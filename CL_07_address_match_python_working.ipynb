{
 "cells": [
  {
   "cell_type": "code",
   "execution_count": 1,
   "id": "4c500459-056e-402d-a9b8-118a319c50d3",
   "metadata": {},
   "outputs": [],
   "source": [
    "\"\"\" Script to take planning applications and match to OSAddressBase addresses\n",
    "\n",
    "Written by: Christine Langston, April 2024\n",
    "\"\"\"\n",
    "import pandas as pd\n",
    "import time\n",
    "import numpy as np\n",
    "import copy\n",
    "import re"
   ]
  },
  {
   "cell_type": "code",
   "execution_count": 2,
   "id": "91b509a4-72c7-4f63-b2bb-0c53bcbe6e61",
   "metadata": {
    "tags": []
   },
   "outputs": [],
   "source": [
    "#create a function to iterate through csv. use for OSAddressBase file\n",
    "def read_csv(file_name, columns):\n",
    "    for chunk in pd.read_csv(file_name, chunksize=10000, usecols=columns, \n",
    "                            dtype={'urpn':str, 'parent_urpn': str, 'class': str, 'latitude': float, \n",
    "                                                  'longitude': float, 'country': str}):\n",
    "    \n",
    "        #if chunk['country'] == 'E':\n",
    "        yield chunk\n"
   ]
  },
  {
   "cell_type": "code",
   "execution_count": 3,
   "id": "d28e6b8f-8758-4551-9d3b-d271bd6dcb9a",
   "metadata": {
    "tags": []
   },
   "outputs": [],
   "source": [
    "#takes a merged dataset and separates matched addresses and not matched\n",
    "def separate_matches(dataset, column_name, match_strategy):\n",
    "    dataset_match = dataset.drop(dataset[pd.isna(dataset[column_name]) == True].index)\n",
    "    dataset_no_match = dataset.drop(dataset[pd.isna(dataset[column_name]) == False].index)\n",
    "    dataset_match['match_strategy'] = match_strategy\n",
    "    return dataset_match, dataset_no_match"
   ]
  },
  {
   "cell_type": "code",
   "execution_count": 4,
   "id": "09d8c1aa-27ee-4fd2-a82d-8cca7c6d36b1",
   "metadata": {
    "tags": []
   },
   "outputs": [],
   "source": [
    "#function to merge and then split based on if an address was matched  \n",
    "def my_merge(left, right, left_on, right_on): \n",
    "    merged = left.merge(right, how = 'left', left_on = left_on, right_on = right_on)\n",
    "    merged_match = merged.drop(merged[pd.isna(merged['uprn']) == True].index) \n",
    "    merged_no_match = merged.drop(merged[pd.isna(merged['uprn']) == False].index) \n",
    "    return merged_match, merged_no_match"
   ]
  },
  {
   "cell_type": "code",
   "execution_count": 5,
   "id": "9cf1fb83-c0fd-4b58-aaf8-33285672c9d4",
   "metadata": {},
   "outputs": [
    {
     "name": "stdout",
     "output_type": "stream",
     "text": [
      "CPU times: user 4min 50s, sys: 11min 20s, total: 16min 11s\n",
      "Wall time: 33min 53s\n"
     ]
    }
   ],
   "source": [
    "%%time\n",
    "#### READ IN THE DATA IF EXPORTED \n",
    "resi_AB = pd.read_csv('data/resi_AB_cleaned_parsed_110524.csv', low_memory = False)\n"
   ]
  },
  {
   "cell_type": "code",
   "execution_count": 6,
   "id": "fc15fad0",
   "metadata": {},
   "outputs": [
    {
     "name": "stdout",
     "output_type": "stream",
     "text": [
      "CPU times: user 41.6 s, sys: 10.6 s, total: 52.2 s\n",
      "Wall time: 1min 17s\n"
     ]
    }
   ],
   "source": [
    "%%time\n",
    "other_AB = pd.read_csv('data/other_AB_cleaned_parsed_110524.csv',low_memory = False)\n",
    "\n"
   ]
  },
  {
   "cell_type": "code",
   "execution_count": 7,
   "id": "28b4f05b",
   "metadata": {},
   "outputs": [],
   "source": [
    "#load in the data that hasn't been matched yet\n",
    "london_data = pd.read_csv('data/London2_no_match_2603.csv',low_memory = False)"
   ]
  },
  {
   "cell_type": "markdown",
   "id": "fc67c32e",
   "metadata": {},
   "source": [
    "Some data cleaning steps to clean up the Nan and numerical data coming from the CSV"
   ]
  },
  {
   "cell_type": "code",
   "execution_count": 8,
   "id": "2b3076b9-5155-4cd9-977d-c3b351496c54",
   "metadata": {
    "tags": []
   },
   "outputs": [],
   "source": [
    "### ------ DATA CLEANING  ----------\n",
    "#edit the parent uprn from OSAddress base to fill out to be strings with 12 digits and leading zeros\n",
    "#replace nan\n",
    "resi_AB = resi_AB.replace([np.nan, -np.inf], 0)\n",
    "\n",
    "#cast as integer\n",
    "resi_AB['parent_uprn'] = resi_AB['parent_uprn'].astype('Int64')\n",
    "resi_AB['uprn'] = resi_AB['uprn'].astype('Int64')\n"
   ]
  },
  {
   "cell_type": "code",
   "execution_count": 9,
   "id": "0016326f-51fd-43ab-b3ff-2b4a02a5ddb4",
   "metadata": {
    "tags": []
   },
   "outputs": [],
   "source": [
    "### ------ DATA CLEANING  ----------\n",
    "#cast as string \n",
    "resi_AB['parent_uprn'] = resi_AB['parent_uprn'].astype(str)\n",
    "resi_AB['uprn'] = resi_AB['uprn'].astype(str)\n",
    "\n",
    "#fill in with left side padding zeros \n",
    "resi_AB['parent_uprn'] = resi_AB['parent_uprn'].apply(lambda x: '{0:0>12}'.format(x))\n",
    "resi_AB['uprn'] = resi_AB['uprn'].apply(lambda x: '{0:0>12}'.format(x))\n"
   ]
  },
  {
   "cell_type": "code",
   "execution_count": 11,
   "id": "8163f510",
   "metadata": {},
   "outputs": [],
   "source": [
    "#do the same cleaning as above but for the OTHER addresses\n",
    "other_AB = other_AB.replace([np.nan, -np.inf], 0)\n",
    "\n",
    "#cast as integer\n",
    "other_AB['parent_uprn'] = other_AB['parent_uprn'].astype('Int64')\n",
    "other_AB['uprn'] = other_AB['uprn'].astype('Int64')"
   ]
  },
  {
   "cell_type": "code",
   "execution_count": 12,
   "id": "cb0f904c",
   "metadata": {},
   "outputs": [],
   "source": [
    "### ------ DATA CLEANING  ----------\n",
    "#cast as string \n",
    "other_AB['parent_uprn'] = other_AB['parent_uprn'].astype(str)\n",
    "other_AB['uprn'] = other_AB['uprn'].astype(str)\n",
    "\n",
    "#fill in with left side padding zeros \n",
    "other_AB['parent_uprn'] = other_AB['parent_uprn'].apply(lambda x: '{0:0>12}'.format(x))\n",
    "other_AB['uprn'] = other_AB['uprn'].apply(lambda x: '{0:0>12}'.format(x))\n"
   ]
  },
  {
   "cell_type": "code",
   "execution_count": 13,
   "id": "2889e1ef-cc0a-4561-9bb8-bf522d5798a1",
   "metadata": {},
   "outputs": [],
   "source": [
    "### ------ DATA CLEANING On RESI AB ----------\n",
    "\n",
    "#Address matching data clean, make building number into a string \n",
    "resi_AB['building_number'] = resi_AB['building_number'].astype('Int64').astype('str') "
   ]
  },
  {
   "cell_type": "code",
   "execution_count": 14,
   "id": "bc2ebb0d",
   "metadata": {},
   "outputs": [],
   "source": [
    "resi_AB['pao_start_number'] = resi_AB['pao_start_number'].astype('Int64').astype('str') \n"
   ]
  },
  {
   "cell_type": "code",
   "execution_count": 15,
   "id": "0e294c44",
   "metadata": {},
   "outputs": [],
   "source": [
    "other_AB['building_number'] = other_AB['building_number'].astype('Int64').astype('str') "
   ]
  },
  {
   "cell_type": "code",
   "execution_count": 16,
   "id": "54bda890",
   "metadata": {},
   "outputs": [],
   "source": [
    "other_AB['pao_start_number'] = other_AB['pao_start_number'].astype('Int64').astype('str') \n"
   ]
  },
  {
   "cell_type": "markdown",
   "id": "0ecb015d",
   "metadata": {},
   "source": [
    "------ DATA CLEANING PLANNING APPLICATION DATA  ----------\n"
   ]
  },
  {
   "cell_type": "code",
   "execution_count": 18,
   "id": "74acf72f-612b-40cf-b6e9-353b7ca0f843",
   "metadata": {
    "tags": []
   },
   "outputs": [],
   "source": [
    "\n",
    "#BATCH 1 ONLY london_data has extra quotation marks, need to remove\n",
    "#london_data['uprn'] = london_data['uprn'].apply(lambda x: x.strip(\"''\") if not pd.isna(x) else x)\n"
   ]
  },
  {
   "cell_type": "code",
   "execution_count": 17,
   "id": "68b72a94-714d-4bc2-993f-a4342aae1f64",
   "metadata": {
    "tags": []
   },
   "outputs": [],
   "source": [
    "### ------ DATA CLEANING  ----------\n",
    "london_data['uprn_x'] = london_data['uprn_x'].astype('Int64')\n",
    "\n"
   ]
  },
  {
   "cell_type": "code",
   "execution_count": 18,
   "id": "2cb84de6-9c8a-46b7-8079-a2d0feaa1a8b",
   "metadata": {
    "tags": []
   },
   "outputs": [],
   "source": [
    "#cast the strings and make sure it looks good \n",
    "london_data['uprn_x'] = london_data['uprn_x'].astype('str') #apply(lambda x: str(x) if not pd.isna(x) else x)\n",
    "\n",
    "london_data['uprn_x'] = london_data['uprn_x'].apply(lambda x: '{0:0>12}'.format(x) if not pd.isna(x) else x)"
   ]
  },
  {
   "cell_type": "code",
   "execution_count": 19,
   "id": "e268f803-43d6-422d-a8d3-ea16f976ea71",
   "metadata": {
    "tags": []
   },
   "outputs": [],
   "source": [
    "### ------ DATA CLEANING  ----------\n",
    "\n",
    "london_data = london_data.replace('00000000<NA>',np.NaN)"
   ]
  },
  {
   "cell_type": "markdown",
   "id": "57361401",
   "metadata": {},
   "source": [
    "Ignore the creation of the columns below if matching a batch for a second, third, etc. time"
   ]
  },
  {
   "cell_type": "code",
   "execution_count": 20,
   "id": "5185cbad-13b5-4e16-a5f6-12c349dd89b2",
   "metadata": {
    "tags": []
   },
   "outputs": [],
   "source": [
    "### ------ DATA CLEANING  ----------\n",
    "#street address from site_name_LPA\n",
    "london_data['parsed_street_LPA'] = london_data['site_name_LPA'].apply(lambda x: re.findall(\"[0-9]+.-?.[0-9]+?\\s(.+)(Road|Lane|Avenue|Parade|Courtyard|Street|Gardens|Drive)\", x) if not pd.isna(x) and '-' in x\n",
    "                                                                  else (re.findall(\"[0-9]+\\s(.+)(Road|Lane|Avenue|Parade|Courtyard|Street|Gardens|Drive)\", x) if not pd.isna(x) else []))\n"
   ]
  },
  {
   "cell_type": "code",
   "execution_count": 21,
   "id": "e31741b8-ad97-4ccc-96cc-5d2aecbc258f",
   "metadata": {
    "tags": []
   },
   "outputs": [],
   "source": [
    "london_data['parsed_street_LPA'] =  london_data['parsed_street_LPA'].apply(lambda x: x[0][0] + x[0][1]  if len(x) > 0 else None)"
   ]
  },
  {
   "cell_type": "code",
   "execution_count": 22,
   "id": "46d0e2c6-a74a-4399-92d9-813f97ca4407",
   "metadata": {
    "tags": []
   },
   "outputs": [],
   "source": [
    "#cleaning - street address\n",
    "london_data['parsed_street_GLA'] = london_data['site_name_GLA'].apply(lambda x: re.findall(\"[0-9]+.-?.[0-9]+?\\s(.+)(Road|Lane|Avenue|Parade|Courtyard|Street|Gardens|Drive)\", x) if not pd.isna(x) and '-' in x\n",
    "                                                                  else (re.findall(\"[0-9]+\\s(.+)(Road|Lane|Avenue|Parade|Courtyard|Street|Gardens|Drive)\", x) if not pd.isna(x) else []))\n"
   ]
  },
  {
   "cell_type": "code",
   "execution_count": 23,
   "id": "91c78b6f-f3e5-4d06-92a3-fcdcbde921a7",
   "metadata": {
    "tags": []
   },
   "outputs": [],
   "source": [
    "london_data['parsed_street_GLA'] =  london_data['parsed_street_GLA'].apply(lambda x: x[0][0] + x[0][1]  if len(x) > 0 else None)"
   ]
  },
  {
   "cell_type": "code",
   "execution_count": 24,
   "id": "b23647b7-1efc-47b6-b392-71e3a42c3410",
   "metadata": {
    "tags": []
   },
   "outputs": [],
   "source": [
    "#if the original street was empty, then we want to use the LPA Or GLA parsed name as street_name \n",
    "\n",
    "london_data['street_name'] = np.where(london_data['street_name'].isnull(), np.where(london_data['parsed_street_LPA'].isnull(), london_data['parsed_street_GLA'], london_data['parsed_street_LPA']), london_data['street_name'] )"
   ]
  },
  {
   "cell_type": "code",
   "execution_count": 27,
   "id": "3a906a66-4f92-476f-bc42-6cc6f04f5060",
   "metadata": {
    "tags": []
   },
   "outputs": [],
   "source": [
    "# DATA EXPLORATION - EXPORT CSV IF NEEDED \n",
    "#london_data.to_csv('batch2_cleaned.csv', index = False)"
   ]
  },
  {
   "cell_type": "markdown",
   "id": "ff978fe9",
   "metadata": {},
   "source": [
    "Continue here to clean data for all batches"
   ]
  },
  {
   "cell_type": "code",
   "execution_count": 20,
   "id": "64c11874",
   "metadata": {},
   "outputs": [],
   "source": [
    "# create new column with the number, street description, and the site name \n",
    "london_data['concat_addr'] = np.where(london_data['site_name_clean'].isnull(), '', london_data['site_name_clean'] +  ', ' ) + london_data['site_number_clean'] + ', ' +  london_data['street_name']"
   ]
  },
  {
   "cell_type": "code",
   "execution_count": 21,
   "id": "6570e4c9",
   "metadata": {},
   "outputs": [],
   "source": [
    "london_data['concat_addr'] = london_data['concat_addr'].str.upper()"
   ]
  },
  {
   "cell_type": "code",
   "execution_count": 22,
   "id": "86564adf-dc20-4480-8e7a-b5169c2b006f",
   "metadata": {
    "tags": []
   },
   "outputs": [],
   "source": [
    "#make london_data all into capitals to regularize\n",
    "london_data['street_name'] = london_data['street_name'].str.upper()"
   ]
  },
  {
   "cell_type": "code",
   "execution_count": 23,
   "id": "f076f21a",
   "metadata": {},
   "outputs": [],
   "source": [
    "#remove unwanted characters\n",
    "london_data['postcode_clean'] = london_data['postcode_clean'].replace('x000D__x000D_\\n', '')"
   ]
  },
  {
   "cell_type": "code",
   "execution_count": 24,
   "id": "7983ae57",
   "metadata": {},
   "outputs": [],
   "source": [
    "london_data = london_data.replace({'_x000D__x000D_\\n': ' ', '_x000d__x000d_\\n': ' ' }, regex = True)"
   ]
  },
  {
   "cell_type": "code",
   "execution_count": 25,
   "id": "6b8877e7",
   "metadata": {},
   "outputs": [],
   "source": [
    "#remove white space\n",
    "london_data['postcode_clean'] = london_data['postcode_clean'].apply(lambda x: str(x).strip())"
   ]
  },
  {
   "cell_type": "code",
   "execution_count": 27,
   "id": "90f26137",
   "metadata": {},
   "outputs": [],
   "source": [
    "london_data['postcode_sector'] = london_data['postcode_clean'].apply(lambda x: x[:-2])"
   ]
  },
  {
   "cell_type": "code",
   "execution_count": 29,
   "id": "2aff7441",
   "metadata": {},
   "outputs": [],
   "source": [
    "#substring of site_name_GLA without the postcode .... \n",
    "london_data['site_name_GLA_no_pc'] = london_data.apply(lambda row: str(row['site_name_GLA']).upper().replace(', ' + row['postcode_clean'], ''), axis = 1)"
   ]
  },
  {
   "cell_type": "code",
   "execution_count": 30,
   "id": "2fae9845",
   "metadata": {},
   "outputs": [],
   "source": [
    "london_data['site_name_LPA_no_pc'] = london_data.apply(lambda row: str(row['site_name_LPA']).upper().replace(row['postcode_clean'], ''), axis = 1)\n"
   ]
  },
  {
   "cell_type": "markdown",
   "id": "1cf8f738",
   "metadata": {},
   "source": [
    "UPRN MATCHING: If reprocessing data that has already been matched, Ignore the Data matching on the UPRN / Parent UPRN"
   ]
  },
  {
   "cell_type": "code",
   "execution_count": 32,
   "id": "165b7859-ce81-4d40-ab87-e19f63f395f1",
   "metadata": {},
   "outputs": [],
   "source": [
    "#### -------- DATA MERGING --------\n",
    "#join the london data with the RESIDENTIAL AddressBase dataset on UPRN\n",
    "merged = london_data.merge(resi_AB, how = 'left', left_on = 'uprn', right_on = 'parent_uprn')\n",
    "\n",
    "#merged['UCL_ID'].nunique()"
   ]
  },
  {
   "cell_type": "code",
   "execution_count": 33,
   "id": "20c4535f-d653-4014-aa0a-594d74d508bf",
   "metadata": {
    "tags": []
   },
   "outputs": [],
   "source": [
    "#separate merged into no match and match \n",
    "merged_match, merged_no_match = separate_matches(merged, 'parent_uprn', 'parent_uprn')\n",
    "\n",
    "merged_no_match = merged_no_match.dropna(axis=1, how='all')"
   ]
  },
  {
   "cell_type": "code",
   "execution_count": 34,
   "id": "0bc94052-a4b0-4f8b-ab48-962d4b59a966",
   "metadata": {
    "tags": []
   },
   "outputs": [],
   "source": [
    "#merge 2 on uprn not parent_uprn \n",
    "merged_2 = merged_no_match.merge(resi_AB, how = 'left', left_on = 'uprn_x', right_on = 'uprn')"
   ]
  },
  {
   "cell_type": "code",
   "execution_count": 35,
   "id": "040b81bd-843c-4d4d-b4f3-262ac6ea6297",
   "metadata": {
    "tags": []
   },
   "outputs": [],
   "source": [
    "#separate the merge 2 into two datasets for match v not match \n",
    "merged_2_match, merged_2_no_match = separate_matches(merged_2, 'uprn', 'uprn')\n",
    "\n",
    "merged_2_no_match = merged_2_no_match.dropna(axis=1, how='all')      "
   ]
  },
  {
   "cell_type": "code",
   "execution_count": 36,
   "id": "ab0f9b30-ea0f-4385-b318-b411f7cd0a62",
   "metadata": {
    "tags": []
   },
   "outputs": [],
   "source": [
    "merged_2_match = merged_2_match.rename(columns={\"uprn\": \"uprn_OSAB\"})\n",
    "merged_match = merged_match.rename(columns={\"uprn_y\": \"uprn_OSAB\"})\n",
    "\n",
    "#merged_2_match.count()"
   ]
  },
  {
   "cell_type": "code",
   "execution_count": 37,
   "id": "7fc90bc5-3f98-4673-bb39-ecf74d8e7079",
   "metadata": {
    "tags": []
   },
   "outputs": [],
   "source": [
    "all_matched = pd.concat([merged_2_match, merged_match])\n"
   ]
  },
  {
   "cell_type": "markdown",
   "id": "8e19e1c5",
   "metadata": {},
   "source": [
    "ADDRESS MATCHING: For all matching versions: Address matching starts here"
   ]
  },
  {
   "cell_type": "code",
   "execution_count": 31,
   "id": "a072c78d",
   "metadata": {},
   "outputs": [],
   "source": [
    "merged_2_no_match = london_data"
   ]
  },
  {
   "cell_type": "markdown",
   "id": "d3da343b",
   "metadata": {},
   "source": [
    "-------- DATA MERGING --------  STRATEGY 1 ADDRESS MATCH"
   ]
  },
  {
   "cell_type": "code",
   "execution_count": 32,
   "id": "a0f39357-fdb8-474b-bb23-de10501ca4fe",
   "metadata": {
    "tags": []
   },
   "outputs": [],
   "source": [
    "## ADDRESS STRATEGY ONE \n",
    "#use the site name GLA no pc with the parsed address 1 \n",
    "left_columns = ['site_name_GLA_no_pc', 'postcode_clean']  #['site_number_clean', 'street_name', 'postcode_clean']\n",
    "right_columns = ['parsed_address1', 'postcode_locator'] #['building_number', 'street_description', 'postcode_locator']\n",
    "\n",
    "# this is a very strict conservative join \n",
    "merged_on_address = merged_2_no_match.merge(resi_AB, how = 'left', left_on = left_columns, right_on = right_columns)"
   ]
  },
  {
   "cell_type": "code",
   "execution_count": 33,
   "id": "11092479-5f92-497f-8b80-9567008c12f0",
   "metadata": {
    "tags": []
   },
   "outputs": [],
   "source": [
    "merged_on_address_match,merged_on_address_no_match =  separate_matches(merged_on_address, 'uprn', 'address_1')\n"
   ]
  },
  {
   "cell_type": "code",
   "execution_count": 34,
   "id": "8d89aad9-0b55-4447-ac08-db5b1c54b165",
   "metadata": {
    "tags": []
   },
   "outputs": [
    {
     "data": {
      "text/plain": [
       "68"
      ]
     },
     "execution_count": 34,
     "metadata": {},
     "output_type": "execute_result"
    }
   ],
   "source": [
    "#how many unique ids were matched?\n",
    "merged_on_address_match['ID'].nunique()"
   ]
  },
  {
   "cell_type": "code",
   "execution_count": 35,
   "id": "62afc2f3-632b-4e8a-95bf-988c18846964",
   "metadata": {},
   "outputs": [],
   "source": [
    "## Add the merged_on_address_match to the matched\n",
    "merged_on_address_match = merged_on_address_match.rename(columns={\"uprn\": \"uprn_OSAB\"})\n",
    "merged_on_address_match['match_strategy'] = 'address_1'\n",
    "\n",
    "all_matched = merged_on_address_match\n",
    "\n",
    "# Use this if UPRN was used for matching above\n",
    "#all_matched = pd.concat([all_matched, merged_on_address_match])\n",
    "\n",
    "merged_on_address_no_match = merged_on_address_no_match.dropna(axis=1, how='all')\n"
   ]
  },
  {
   "cell_type": "code",
   "execution_count": 36,
   "id": "e800933c-6c15-4721-a906-9b3be0082eb0",
   "metadata": {
    "tags": []
   },
   "outputs": [],
   "source": [
    "#### ADDRESS Strategy 2 - \n",
    "## use the site name LPA without post code ...\n",
    "left_columns_2 = ['site_name_LPA_no_pc', 'postcode_clean'] #London Data \n",
    "right_columns_2 =  ['parsed_address1', 'postcode_locator'] #AB\n",
    "\n",
    "merged_on_address2 = merged_on_address_no_match.merge(resi_AB, how = 'left', left_on = left_columns_2, right_on = right_columns_2)"
   ]
  },
  {
   "cell_type": "code",
   "execution_count": 37,
   "id": "8582e5bb-4f88-4289-9a13-e98f311f787e",
   "metadata": {
    "tags": []
   },
   "outputs": [],
   "source": [
    "merged_on_address2_match = merged_on_address2.drop(merged_on_address2[pd.isna(merged_on_address2['uprn']) == True].index) \n",
    "merged_on_address2_no_match = merged_on_address2.drop(merged_on_address2[pd.isna(merged_on_address2['uprn']) == False].index) \n"
   ]
  },
  {
   "cell_type": "code",
   "execution_count": 38,
   "id": "8327cfc8",
   "metadata": {},
   "outputs": [
    {
     "data": {
      "text/plain": [
       "0"
      ]
     },
     "execution_count": 38,
     "metadata": {},
     "output_type": "execute_result"
    }
   ],
   "source": [
    "merged_on_address2_match['ID'].nunique()"
   ]
  },
  {
   "cell_type": "code",
   "execution_count": 39,
   "id": "ecde76ef-a35b-4da0-baea-a37a0f3cbc3d",
   "metadata": {
    "tags": []
   },
   "outputs": [],
   "source": [
    "merged_on_address2_match = merged_on_address2_match.rename(columns={\"uprn\": \"uprn_OSAB\"})\n",
    "merged_on_address2_match = merged_on_address2_match.drop(columns = ['short_site_name_LPA]']) \n",
    "merged_on_address2_match['match_strategy'] = 'address_2'"
   ]
  },
  {
   "cell_type": "code",
   "execution_count": 40,
   "id": "8e1b91f2-a0d2-4006-94b4-676678c0df9d",
   "metadata": {
    "tags": []
   },
   "outputs": [],
   "source": [
    "all_matched = pd.concat([all_matched, merged_on_address2_match])"
   ]
  },
  {
   "cell_type": "code",
   "execution_count": 41,
   "id": "77c5d607-7552-4d46-98cd-9bcc6d4af088",
   "metadata": {
    "tags": []
   },
   "outputs": [],
   "source": [
    "merged_on_address2_no_match = merged_on_address2_no_match.dropna(axis=1, how='all')\n"
   ]
  },
  {
   "cell_type": "markdown",
   "id": "f70433ff",
   "metadata": {},
   "source": [
    "-------- DATA MERGING --------  STRATEGY 3 ADDRESS MATCH"
   ]
  },
  {
   "cell_type": "code",
   "execution_count": 42,
   "id": "f4984641-af06-44eb-a845-880f0cf64da9",
   "metadata": {},
   "outputs": [],
   "source": [
    "# #-------- DATA MERGING --------  STRATEGY 3 ADDRESS MATCH \n",
    " # use the site name GLA no pc with the parsed address 2 \n",
    "left_columns_3 = ['site_name_GLA_no_pc', 'postcode_clean'] \n",
    "right_columns_3 = ['parsed_address2', 'postcode_locator'] \n",
    "\n",
    "\n",
    "merged_on_address3_match, merged_on_address3_no_match = my_merge(merged_on_address2_no_match, resi_AB, left_columns_3, right_columns_3)"
   ]
  },
  {
   "cell_type": "code",
   "execution_count": 43,
   "id": "c7ea97fb",
   "metadata": {},
   "outputs": [],
   "source": [
    "#for batch 2, gets 0 results\n",
    "#merged_on_address3_no_match.count()"
   ]
  },
  {
   "cell_type": "code",
   "execution_count": 44,
   "id": "c79f0700-afc0-44fa-bd75-43a0e982fc1d",
   "metadata": {
    "tags": []
   },
   "outputs": [],
   "source": [
    "# add the matched into all matched\n",
    "merged_on_address3_match = merged_on_address3_match.rename(columns={\"uprn\": \"uprn_OSAB\"})\n",
    "merged_on_address3_match['match_strategy'] = 'address_3'\n",
    "\n",
    "frames = [all_matched, merged_on_address3_match]\n",
    "\n",
    "all_matched = pd.concat(frames)"
   ]
  },
  {
   "cell_type": "code",
   "execution_count": 45,
   "id": "ebced5a5-32c2-433e-b196-83af5919bdb8",
   "metadata": {
    "tags": []
   },
   "outputs": [],
   "source": [
    "merged_on_address3_no_match = merged_on_address3_no_match.dropna(axis=1, how='all')"
   ]
  },
  {
   "cell_type": "code",
   "execution_count": 46,
   "id": "d9c34df6",
   "metadata": {},
   "outputs": [],
   "source": [
    "#### ADDRESS Strategy 4 \n",
    "left_columns_4 = ['site_name_LPA_no_pc', 'postcode_clean']  #London Data \n",
    "right_columns_4 = ['parsed_address2', 'postcode_locator'] #AB\n",
    "\n",
    "merged_on_address4 = merged_on_address3_no_match.merge(resi_AB, how = 'left', left_on = left_columns_4, right_on = right_columns_4)"
   ]
  },
  {
   "cell_type": "code",
   "execution_count": 47,
   "id": "6d4b7431",
   "metadata": {},
   "outputs": [],
   "source": [
    "merged_on_address4_match = merged_on_address4.drop(merged_on_address4[pd.isna(merged_on_address4['uprn']) == True].index) \n",
    "merged_on_address4_no_match = merged_on_address4.drop(merged_on_address4[pd.isna(merged_on_address4['uprn']) == False].index) \n"
   ]
  },
  {
   "cell_type": "code",
   "execution_count": 48,
   "id": "26bd8167",
   "metadata": {},
   "outputs": [
    {
     "data": {
      "text/plain": [
       "0"
      ]
     },
     "execution_count": 48,
     "metadata": {},
     "output_type": "execute_result"
    }
   ],
   "source": [
    "merged_on_address4_match['ID'].nunique()"
   ]
  },
  {
   "cell_type": "code",
   "execution_count": 49,
   "id": "bbe05b28",
   "metadata": {},
   "outputs": [],
   "source": [
    "merged_on_address4_match = merged_on_address4_match.rename(columns={\"uprn\": \"uprn_OSAB\"})\n",
    "merged_on_address4_match['match_strategy'] = 'address_4'\n",
    "\n",
    "frames = [all_matched, merged_on_address4_match]\n",
    "\n",
    "all_matched = pd.concat(frames)\n",
    "merged_on_address4_no_match = merged_on_address4_no_match.dropna(axis=1, how='all')"
   ]
  },
  {
   "cell_type": "code",
   "execution_count": 50,
   "id": "ef23d683",
   "metadata": {},
   "outputs": [],
   "source": [
    "## Strategy 5 \n",
    "#match on the street number, street name, postcode \n",
    "\n",
    "left_columns_5 = ['concat_addr', 'lpa_name']\n",
    "right_columns_5 = ['parsed_address1', 'administrative_area']\n",
    "\n",
    "merged_on_address5_match, merged_on_address5_no_match = my_merge(merged_on_address4_no_match, resi_AB, left_columns_5, right_columns_5)"
   ]
  },
  {
   "cell_type": "code",
   "execution_count": 51,
   "id": "873caa8d",
   "metadata": {},
   "outputs": [
    {
     "data": {
      "text/plain": [
       "43"
      ]
     },
     "execution_count": 51,
     "metadata": {},
     "output_type": "execute_result"
    }
   ],
   "source": [
    "merged_on_address5_match['ID'].nunique()"
   ]
  },
  {
   "cell_type": "code",
   "execution_count": 52,
   "id": "94a48a31",
   "metadata": {},
   "outputs": [],
   "source": [
    "merged_on_address5_match = merged_on_address5_match.rename(columns={\"uprn\": \"uprn_OSAB\"})\n",
    "merged_on_address5_match['match_strategy'] = 'address_5'\n",
    "\n",
    "frames = [all_matched, merged_on_address5_match]\n",
    "\n",
    "all_matched = pd.concat(frames)\n",
    "merged_on_address5_no_match = merged_on_address5_no_match.dropna(axis=1, how='all')"
   ]
  },
  {
   "cell_type": "code",
   "execution_count": 53,
   "id": "ca18c688",
   "metadata": {},
   "outputs": [],
   "source": [
    "## Strategy 6\n",
    "left_columns_6 = ['concat_addr', 'lpa_name']\n",
    "right_columns_6 = ['parsed_address2', 'administrative_area']\n",
    "\n",
    "merged_on_address6_match, merged_on_address6_no_match = my_merge(merged_on_address5_no_match, resi_AB, left_columns_6, right_columns_6)"
   ]
  },
  {
   "cell_type": "code",
   "execution_count": 54,
   "id": "87011981",
   "metadata": {},
   "outputs": [
    {
     "data": {
      "text/plain": [
       "32"
      ]
     },
     "execution_count": 54,
     "metadata": {},
     "output_type": "execute_result"
    }
   ],
   "source": [
    "merged_on_address6_match['ID'].nunique()"
   ]
  },
  {
   "cell_type": "code",
   "execution_count": 56,
   "id": "fb9f695b",
   "metadata": {},
   "outputs": [],
   "source": [
    "merged_on_address6_match = merged_on_address6_match.rename(columns={\"uprn\": \"uprn_OSAB\"})\n",
    "merged_on_address6_match['match_strategy'] = 'address_6'\n",
    "\n",
    "frames = [all_matched, merged_on_address6_match]\n",
    "\n",
    "all_matched = pd.concat(frames)\n",
    "merged_on_address6_no_match = merged_on_address6_no_match.dropna(axis=1, how='all')"
   ]
  },
  {
   "cell_type": "code",
   "execution_count": 56,
   "id": "c5e313eb",
   "metadata": {},
   "outputs": [],
   "source": [
    "# pao_start_number + street_description"
   ]
  },
  {
   "cell_type": "code",
   "execution_count": 57,
   "id": "e226b558",
   "metadata": {},
   "outputs": [],
   "source": [
    "## Strategy 7\n",
    "left_columns_7 = ['site_number_clean', 'street_name', 'postcode_clean']\n",
    "right_columns_7 = ['pao_start_number', 'street_description', 'postcode_locator']\n",
    "\n",
    "merged_on_address7_match, merged_on_address7_no_match = my_merge(merged_on_address6_no_match, resi_AB, left_columns_7, right_columns_7)"
   ]
  },
  {
   "cell_type": "code",
   "execution_count": 58,
   "id": "434c4229",
   "metadata": {},
   "outputs": [
    {
     "data": {
      "text/plain": [
       "33"
      ]
     },
     "execution_count": 58,
     "metadata": {},
     "output_type": "execute_result"
    }
   ],
   "source": [
    "merged_on_address7_match['ID'].nunique()"
   ]
  },
  {
   "cell_type": "code",
   "execution_count": 60,
   "id": "2830d078",
   "metadata": {},
   "outputs": [],
   "source": [
    "merged_on_address7_match = merged_on_address7_match.rename(columns={\"uprn\": \"uprn_OSAB\"})\n",
    "merged_on_address7_match['match_strategy'] = 'address_7'\n",
    "\n",
    "frames = [all_matched, merged_on_address7_match]\n",
    "\n",
    "all_matched = pd.concat(frames)\n",
    "merged_on_address7_no_match = merged_on_address7_no_match.dropna(axis=1, how='all')"
   ]
  },
  {
   "cell_type": "code",
   "execution_count": 65,
   "id": "87f0f744",
   "metadata": {},
   "outputs": [],
   "source": [
    "### strategy 8 \n",
    "left_columns_8 = ['site_number_clean', 'street_name', 'postcode_sector_x']\n",
    "right_columns_8 = ['pao_start_number', 'street_description', 'postcode_sector']\n",
    "\n",
    "merged_on_address8_match, merged_on_address8_no_match = my_merge(merged_on_address7_no_match, resi_AB, left_columns_8, right_columns_8)\n"
   ]
  },
  {
   "cell_type": "code",
   "execution_count": 66,
   "id": "2cac13dd",
   "metadata": {},
   "outputs": [
    {
     "data": {
      "text/plain": [
       "71"
      ]
     },
     "execution_count": 66,
     "metadata": {},
     "output_type": "execute_result"
    }
   ],
   "source": [
    "merged_on_address8_match['ID'].nunique()"
   ]
  },
  {
   "cell_type": "code",
   "execution_count": 67,
   "id": "febcea38",
   "metadata": {},
   "outputs": [],
   "source": [
    "merged_on_address8_match = merged_on_address8_match.rename(columns={\"uprn\": \"uprn_OSAB\"})\n",
    "merged_on_address8_match['match_strategy'] = 'address_8'\n",
    "\n",
    "frames = [all_matched, merged_on_address8_match]\n",
    "\n",
    "all_matched = pd.concat(frames)\n",
    "merged_on_address8_no_match = merged_on_address8_no_match.dropna(axis=1, how='all')"
   ]
  },
  {
   "cell_type": "code",
   "execution_count": 70,
   "id": "0d803dc2",
   "metadata": {},
   "outputs": [],
   "source": [
    "### strategy 9 \n",
    "left_columns_9 = ['site_name_GLA_no_pc',  'postcode_sector_x']\n",
    "right_columns_9 = ['parsed_address1',  'postcode_sector']\n",
    "\n",
    "merged_on_address9_match, merged_on_address9_no_match = my_merge(merged_on_address8_no_match, resi_AB, left_columns_9, right_columns_9)\n"
   ]
  },
  {
   "cell_type": "code",
   "execution_count": 71,
   "id": "09ed32bb",
   "metadata": {},
   "outputs": [
    {
     "data": {
      "text/plain": [
       "3"
      ]
     },
     "execution_count": 71,
     "metadata": {},
     "output_type": "execute_result"
    }
   ],
   "source": [
    "merged_on_address9_match['ID'].nunique()"
   ]
  },
  {
   "cell_type": "code",
   "execution_count": 72,
   "id": "f90b8d51",
   "metadata": {},
   "outputs": [],
   "source": [
    "merged_on_address9_match = merged_on_address9_match.rename(columns={\"uprn\": \"uprn_OSAB\"})\n",
    "merged_on_address9_match['match_strategy'] = 'address_9'\n",
    "\n",
    "frames = [all_matched, merged_on_address9_match]\n",
    "\n",
    "all_matched = pd.concat(frames)\n",
    "merged_on_address9_no_match = merged_on_address9_no_match.dropna(axis=1, how='all')"
   ]
  },
  {
   "cell_type": "code",
   "execution_count": 73,
   "id": "b51ed326",
   "metadata": {},
   "outputs": [],
   "source": [
    "### strategy 10 \n",
    "left_columns_10 = ['site_name_LPA_no_pc',  'postcode_sector_x']\n",
    "right_columns_10 = ['parsed_address1',  'postcode_sector']\n",
    "\n",
    "merged_on_address10_match, merged_on_address10_no_match = my_merge(merged_on_address9_no_match, resi_AB, left_columns_10, right_columns_10)\n"
   ]
  },
  {
   "cell_type": "code",
   "execution_count": 74,
   "id": "70fbad4c",
   "metadata": {},
   "outputs": [
    {
     "data": {
      "text/plain": [
       "0"
      ]
     },
     "execution_count": 74,
     "metadata": {},
     "output_type": "execute_result"
    }
   ],
   "source": [
    "merged_on_address10_match['ID'].nunique()"
   ]
  },
  {
   "cell_type": "code",
   "execution_count": 75,
   "id": "d5cb4410",
   "metadata": {},
   "outputs": [],
   "source": [
    "merged_on_address10_match = merged_on_address10_match.rename(columns={\"uprn\": \"uprn_OSAB\"})\n",
    "merged_on_address10_match['match_strategy'] = 'address_10'\n",
    "\n",
    "frames = [all_matched, merged_on_address10_match]\n",
    "\n",
    "all_matched = pd.concat(frames)\n",
    "merged_on_address10_no_match = merged_on_address10_no_match.dropna(axis=1, how='all')"
   ]
  },
  {
   "cell_type": "code",
   "execution_count": 76,
   "id": "f4e470d4",
   "metadata": {},
   "outputs": [],
   "source": [
    "### strategy 11 \n",
    "left_columns_11 = ['site_name_GLA_no_pc',  'postcode_sector_x']\n",
    "right_columns_11 = ['parsed_address2',  'postcode_sector']\n",
    "\n",
    "merged_on_address11_match, merged_on_address11_no_match = my_merge(merged_on_address10_no_match, resi_AB, left_columns_11, right_columns_11)\n"
   ]
  },
  {
   "cell_type": "code",
   "execution_count": 77,
   "id": "756dd9b0",
   "metadata": {},
   "outputs": [
    {
     "data": {
      "text/plain": [
       "0"
      ]
     },
     "execution_count": 77,
     "metadata": {},
     "output_type": "execute_result"
    }
   ],
   "source": [
    "merged_on_address11_match['ID'].nunique()"
   ]
  },
  {
   "cell_type": "code",
   "execution_count": 78,
   "id": "3fbf96c1",
   "metadata": {},
   "outputs": [],
   "source": [
    "merged_on_address11_match = merged_on_address11_match.rename(columns={\"uprn\": \"uprn_OSAB\"})\n",
    "merged_on_address11_match['match_strategy'] = 'address_11'\n",
    "\n",
    "frames = [all_matched, merged_on_address11_match]\n",
    "\n",
    "all_matched = pd.concat(frames)\n",
    "merged_on_address11_no_match = merged_on_address11_no_match.dropna(axis=1, how='all')"
   ]
  },
  {
   "cell_type": "code",
   "execution_count": 79,
   "id": "b055f696",
   "metadata": {},
   "outputs": [],
   "source": [
    "### strategy 12 \n",
    "left_columns_12 = ['site_name_LPA_no_pc',  'postcode_sector_x']\n",
    "right_columns_12 = ['parsed_address2',  'postcode_sector']\n",
    "\n",
    "merged_on_address12_match, merged_on_address12_no_match = my_merge(merged_on_address11_no_match, resi_AB, left_columns_12, right_columns_12)\n"
   ]
  },
  {
   "cell_type": "code",
   "execution_count": 80,
   "id": "31818ebb",
   "metadata": {},
   "outputs": [
    {
     "data": {
      "text/plain": [
       "0"
      ]
     },
     "execution_count": 80,
     "metadata": {},
     "output_type": "execute_result"
    }
   ],
   "source": [
    "merged_on_address12_match['ID'].nunique()"
   ]
  },
  {
   "cell_type": "code",
   "execution_count": 81,
   "id": "8b22d8d7",
   "metadata": {},
   "outputs": [],
   "source": [
    "### strategy 13 \n",
    "left_columns_13 = ['site_number_clean', 'street_name',  'postcode_sector_x']\n",
    "right_columns_13 = ['pao_start_number', 'street_description',   'postcode_sector']\n",
    "\n",
    "\n",
    "merged_on_address13_match, merged_on_address13_no_match = my_merge(merged_on_address11_no_match, resi_AB, left_columns_13, right_columns_13)\n"
   ]
  },
  {
   "cell_type": "code",
   "execution_count": 82,
   "id": "66c78066",
   "metadata": {},
   "outputs": [
    {
     "data": {
      "text/plain": [
       "0"
      ]
     },
     "execution_count": 82,
     "metadata": {},
     "output_type": "execute_result"
    }
   ],
   "source": [
    "merged_on_address13_match['ID'].nunique()"
   ]
  },
  {
   "cell_type": "markdown",
   "id": "0b55291d",
   "metadata": {},
   "source": [
    "------ specific address analysis ----- "
   ]
  },
  {
   "cell_type": "code",
   "execution_count": null,
   "id": "04128001",
   "metadata": {},
   "outputs": [],
   "source": []
  },
  {
   "cell_type": "code",
   "execution_count": 66,
   "id": "f471e114",
   "metadata": {},
   "outputs": [
    {
     "data": {
      "text/html": [
       "<div>\n",
       "<style scoped>\n",
       "    .dataframe tbody tr th:only-of-type {\n",
       "        vertical-align: middle;\n",
       "    }\n",
       "\n",
       "    .dataframe tbody tr th {\n",
       "        vertical-align: top;\n",
       "    }\n",
       "\n",
       "    .dataframe thead th {\n",
       "        text-align: right;\n",
       "    }\n",
       "</style>\n",
       "<table border=\"1\" class=\"dataframe\">\n",
       "  <thead>\n",
       "    <tr style=\"text-align: right;\">\n",
       "      <th></th>\n",
       "      <th>ID</th>\n",
       "      <th>planning_application_number</th>\n",
       "      <th>lpa_name</th>\n",
       "      <th>application_type</th>\n",
       "      <th>application_type_full</th>\n",
       "      <th>description</th>\n",
       "      <th>number_of_units</th>\n",
       "      <th>site_number_clean</th>\n",
       "      <th>street_name</th>\n",
       "      <th>postcode_clean</th>\n",
       "      <th>...</th>\n",
       "      <th>dependent_locality</th>\n",
       "      <th>locality</th>\n",
       "      <th>town_name</th>\n",
       "      <th>administrative_area</th>\n",
       "      <th>post_town</th>\n",
       "      <th>postcode</th>\n",
       "      <th>postcode_locator</th>\n",
       "      <th>parsed_address1</th>\n",
       "      <th>parsed_address2</th>\n",
       "      <th>match_strategy</th>\n",
       "    </tr>\n",
       "  </thead>\n",
       "  <tbody>\n",
       "    <tr>\n",
       "      <th>7</th>\n",
       "      <td>1547</td>\n",
       "      <td>P2017/2905/PRA</td>\n",
       "      <td>ISLINGTON</td>\n",
       "      <td>Prior Approval</td>\n",
       "      <td>Prior Approval (Class M - formerly IA)</td>\n",
       "      <td>Notification for Prior Approval for the change...</td>\n",
       "      <td>1.0</td>\n",
       "      <td>194</td>\n",
       "      <td>SEVEN SISTERS ROAD</td>\n",
       "      <td>N4 3NX</td>\n",
       "      <td>...</td>\n",
       "      <td>0</td>\n",
       "      <td>0</td>\n",
       "      <td>LONDON</td>\n",
       "      <td>ISLINGTON</td>\n",
       "      <td>LONDON</td>\n",
       "      <td>N4 3NX</td>\n",
       "      <td>N4 3NX</td>\n",
       "      <td>FLAT 3, 194, SEVEN SISTERS ROAD</td>\n",
       "      <td>FLAT 3, 194A, SEVEN SISTERS ROAD</td>\n",
       "      <td>address_6</td>\n",
       "    </tr>\n",
       "    <tr>\n",
       "      <th>8</th>\n",
       "      <td>1547</td>\n",
       "      <td>P2017/2905/PRA</td>\n",
       "      <td>ISLINGTON</td>\n",
       "      <td>Prior Approval</td>\n",
       "      <td>Prior Approval (Class M - formerly IA)</td>\n",
       "      <td>Notification for Prior Approval for the change...</td>\n",
       "      <td>1.0</td>\n",
       "      <td>194</td>\n",
       "      <td>SEVEN SISTERS ROAD</td>\n",
       "      <td>N4 3NX</td>\n",
       "      <td>...</td>\n",
       "      <td>0</td>\n",
       "      <td>0</td>\n",
       "      <td>LONDON</td>\n",
       "      <td>ISLINGTON</td>\n",
       "      <td>LONDON</td>\n",
       "      <td>N4 3NX</td>\n",
       "      <td>N4 3NX</td>\n",
       "      <td>FLAT 1, 194, SEVEN SISTERS ROAD</td>\n",
       "      <td>FLAT 1, 194A, SEVEN SISTERS ROAD</td>\n",
       "      <td>address_6</td>\n",
       "    </tr>\n",
       "    <tr>\n",
       "      <th>9</th>\n",
       "      <td>1547</td>\n",
       "      <td>P2017/2905/PRA</td>\n",
       "      <td>ISLINGTON</td>\n",
       "      <td>Prior Approval</td>\n",
       "      <td>Prior Approval (Class M - formerly IA)</td>\n",
       "      <td>Notification for Prior Approval for the change...</td>\n",
       "      <td>1.0</td>\n",
       "      <td>194</td>\n",
       "      <td>SEVEN SISTERS ROAD</td>\n",
       "      <td>N4 3NX</td>\n",
       "      <td>...</td>\n",
       "      <td>0</td>\n",
       "      <td>0</td>\n",
       "      <td>LONDON</td>\n",
       "      <td>ISLINGTON</td>\n",
       "      <td>LONDON</td>\n",
       "      <td>N4 3NX</td>\n",
       "      <td>N4 3NX</td>\n",
       "      <td>FLAT 2, 194, SEVEN SISTERS ROAD</td>\n",
       "      <td>FLAT 2, 194A, SEVEN SISTERS ROAD</td>\n",
       "      <td>address_6</td>\n",
       "    </tr>\n",
       "    <tr>\n",
       "      <th>10</th>\n",
       "      <td>1547</td>\n",
       "      <td>P2016/2604/PRA</td>\n",
       "      <td>ISLINGTON</td>\n",
       "      <td>Prior Approval</td>\n",
       "      <td>Prior Approval (Class O - formerly J)</td>\n",
       "      <td>Prior approval application for the proposed ch...</td>\n",
       "      <td>1.0</td>\n",
       "      <td>222</td>\n",
       "      <td>SEVEN SISTERS ROAD</td>\n",
       "      <td>N4 3NX</td>\n",
       "      <td>...</td>\n",
       "      <td>0</td>\n",
       "      <td>0</td>\n",
       "      <td>LONDON</td>\n",
       "      <td>ISLINGTON</td>\n",
       "      <td>0</td>\n",
       "      <td>0</td>\n",
       "      <td>N4 3NX</td>\n",
       "      <td>FLAT 5, 222, SEVEN SISTERS ROAD</td>\n",
       "      <td>SEVEN SISTERS ROAD</td>\n",
       "      <td>address_6</td>\n",
       "    </tr>\n",
       "    <tr>\n",
       "      <th>11</th>\n",
       "      <td>1547</td>\n",
       "      <td>P2016/2604/PRA</td>\n",
       "      <td>ISLINGTON</td>\n",
       "      <td>Prior Approval</td>\n",
       "      <td>Prior Approval (Class O - formerly J)</td>\n",
       "      <td>Prior approval application for the proposed ch...</td>\n",
       "      <td>1.0</td>\n",
       "      <td>222</td>\n",
       "      <td>SEVEN SISTERS ROAD</td>\n",
       "      <td>N4 3NX</td>\n",
       "      <td>...</td>\n",
       "      <td>0</td>\n",
       "      <td>0</td>\n",
       "      <td>LONDON</td>\n",
       "      <td>ISLINGTON</td>\n",
       "      <td>0</td>\n",
       "      <td>0</td>\n",
       "      <td>N4 3NX</td>\n",
       "      <td>FLAT 3, 222, SEVEN SISTERS ROAD</td>\n",
       "      <td>SEVEN SISTERS ROAD</td>\n",
       "      <td>address_6</td>\n",
       "    </tr>\n",
       "    <tr>\n",
       "      <th>12</th>\n",
       "      <td>1547</td>\n",
       "      <td>P2016/2604/PRA</td>\n",
       "      <td>ISLINGTON</td>\n",
       "      <td>Prior Approval</td>\n",
       "      <td>Prior Approval (Class O - formerly J)</td>\n",
       "      <td>Prior approval application for the proposed ch...</td>\n",
       "      <td>1.0</td>\n",
       "      <td>222</td>\n",
       "      <td>SEVEN SISTERS ROAD</td>\n",
       "      <td>N4 3NX</td>\n",
       "      <td>...</td>\n",
       "      <td>0</td>\n",
       "      <td>0</td>\n",
       "      <td>LONDON</td>\n",
       "      <td>ISLINGTON</td>\n",
       "      <td>0</td>\n",
       "      <td>0</td>\n",
       "      <td>N4 3NX</td>\n",
       "      <td>FLAT 1, 222, SEVEN SISTERS ROAD</td>\n",
       "      <td>SEVEN SISTERS ROAD</td>\n",
       "      <td>address_6</td>\n",
       "    </tr>\n",
       "    <tr>\n",
       "      <th>13</th>\n",
       "      <td>1547</td>\n",
       "      <td>P2016/2604/PRA</td>\n",
       "      <td>ISLINGTON</td>\n",
       "      <td>Prior Approval</td>\n",
       "      <td>Prior Approval (Class O - formerly J)</td>\n",
       "      <td>Prior approval application for the proposed ch...</td>\n",
       "      <td>1.0</td>\n",
       "      <td>222</td>\n",
       "      <td>SEVEN SISTERS ROAD</td>\n",
       "      <td>N4 3NX</td>\n",
       "      <td>...</td>\n",
       "      <td>0</td>\n",
       "      <td>0</td>\n",
       "      <td>LONDON</td>\n",
       "      <td>ISLINGTON</td>\n",
       "      <td>0</td>\n",
       "      <td>0</td>\n",
       "      <td>N4 3NX</td>\n",
       "      <td>FLAT 2, 222, SEVEN SISTERS ROAD</td>\n",
       "      <td>SEVEN SISTERS ROAD</td>\n",
       "      <td>address_6</td>\n",
       "    </tr>\n",
       "    <tr>\n",
       "      <th>14</th>\n",
       "      <td>1547</td>\n",
       "      <td>P2016/2604/PRA</td>\n",
       "      <td>ISLINGTON</td>\n",
       "      <td>Prior Approval</td>\n",
       "      <td>Prior Approval (Class O - formerly J)</td>\n",
       "      <td>Prior approval application for the proposed ch...</td>\n",
       "      <td>1.0</td>\n",
       "      <td>222</td>\n",
       "      <td>SEVEN SISTERS ROAD</td>\n",
       "      <td>N4 3NX</td>\n",
       "      <td>...</td>\n",
       "      <td>0</td>\n",
       "      <td>0</td>\n",
       "      <td>LONDON</td>\n",
       "      <td>ISLINGTON</td>\n",
       "      <td>0</td>\n",
       "      <td>0</td>\n",
       "      <td>N4 3NX</td>\n",
       "      <td>FLAT 4, 222, SEVEN SISTERS ROAD</td>\n",
       "      <td>SEVEN SISTERS ROAD</td>\n",
       "      <td>address_6</td>\n",
       "    </tr>\n",
       "    <tr>\n",
       "      <th>15</th>\n",
       "      <td>1547</td>\n",
       "      <td>P2016/2604/PRA</td>\n",
       "      <td>ISLINGTON</td>\n",
       "      <td>Prior Approval</td>\n",
       "      <td>Prior Approval (Class O - formerly J)</td>\n",
       "      <td>Prior approval application for the proposed ch...</td>\n",
       "      <td>1.0</td>\n",
       "      <td>222</td>\n",
       "      <td>SEVEN SISTERS ROAD</td>\n",
       "      <td>N4 3NX</td>\n",
       "      <td>...</td>\n",
       "      <td>0</td>\n",
       "      <td>0</td>\n",
       "      <td>LONDON</td>\n",
       "      <td>ISLINGTON</td>\n",
       "      <td>0</td>\n",
       "      <td>0</td>\n",
       "      <td>N4 3NX</td>\n",
       "      <td>FLAT 5, 222, SEVEN SISTERS ROAD</td>\n",
       "      <td>SEVEN SISTERS ROAD</td>\n",
       "      <td>address_6</td>\n",
       "    </tr>\n",
       "    <tr>\n",
       "      <th>16</th>\n",
       "      <td>1547</td>\n",
       "      <td>P2016/2604/PRA</td>\n",
       "      <td>ISLINGTON</td>\n",
       "      <td>Prior Approval</td>\n",
       "      <td>Prior Approval (Class O - formerly J)</td>\n",
       "      <td>Prior approval application for the proposed ch...</td>\n",
       "      <td>1.0</td>\n",
       "      <td>222</td>\n",
       "      <td>SEVEN SISTERS ROAD</td>\n",
       "      <td>N4 3NX</td>\n",
       "      <td>...</td>\n",
       "      <td>0</td>\n",
       "      <td>0</td>\n",
       "      <td>LONDON</td>\n",
       "      <td>ISLINGTON</td>\n",
       "      <td>0</td>\n",
       "      <td>0</td>\n",
       "      <td>N4 3NX</td>\n",
       "      <td>FLAT 3, 222, SEVEN SISTERS ROAD</td>\n",
       "      <td>SEVEN SISTERS ROAD</td>\n",
       "      <td>address_6</td>\n",
       "    </tr>\n",
       "    <tr>\n",
       "      <th>17</th>\n",
       "      <td>1547</td>\n",
       "      <td>P2016/2604/PRA</td>\n",
       "      <td>ISLINGTON</td>\n",
       "      <td>Prior Approval</td>\n",
       "      <td>Prior Approval (Class O - formerly J)</td>\n",
       "      <td>Prior approval application for the proposed ch...</td>\n",
       "      <td>1.0</td>\n",
       "      <td>222</td>\n",
       "      <td>SEVEN SISTERS ROAD</td>\n",
       "      <td>N4 3NX</td>\n",
       "      <td>...</td>\n",
       "      <td>0</td>\n",
       "      <td>0</td>\n",
       "      <td>LONDON</td>\n",
       "      <td>ISLINGTON</td>\n",
       "      <td>0</td>\n",
       "      <td>0</td>\n",
       "      <td>N4 3NX</td>\n",
       "      <td>FLAT 1, 222, SEVEN SISTERS ROAD</td>\n",
       "      <td>SEVEN SISTERS ROAD</td>\n",
       "      <td>address_6</td>\n",
       "    </tr>\n",
       "    <tr>\n",
       "      <th>18</th>\n",
       "      <td>1547</td>\n",
       "      <td>P2016/2604/PRA</td>\n",
       "      <td>ISLINGTON</td>\n",
       "      <td>Prior Approval</td>\n",
       "      <td>Prior Approval (Class O - formerly J)</td>\n",
       "      <td>Prior approval application for the proposed ch...</td>\n",
       "      <td>1.0</td>\n",
       "      <td>222</td>\n",
       "      <td>SEVEN SISTERS ROAD</td>\n",
       "      <td>N4 3NX</td>\n",
       "      <td>...</td>\n",
       "      <td>0</td>\n",
       "      <td>0</td>\n",
       "      <td>LONDON</td>\n",
       "      <td>ISLINGTON</td>\n",
       "      <td>0</td>\n",
       "      <td>0</td>\n",
       "      <td>N4 3NX</td>\n",
       "      <td>FLAT 2, 222, SEVEN SISTERS ROAD</td>\n",
       "      <td>SEVEN SISTERS ROAD</td>\n",
       "      <td>address_6</td>\n",
       "    </tr>\n",
       "    <tr>\n",
       "      <th>19</th>\n",
       "      <td>1547</td>\n",
       "      <td>P2016/2604/PRA</td>\n",
       "      <td>ISLINGTON</td>\n",
       "      <td>Prior Approval</td>\n",
       "      <td>Prior Approval (Class O - formerly J)</td>\n",
       "      <td>Prior approval application for the proposed ch...</td>\n",
       "      <td>1.0</td>\n",
       "      <td>222</td>\n",
       "      <td>SEVEN SISTERS ROAD</td>\n",
       "      <td>N4 3NX</td>\n",
       "      <td>...</td>\n",
       "      <td>0</td>\n",
       "      <td>0</td>\n",
       "      <td>LONDON</td>\n",
       "      <td>ISLINGTON</td>\n",
       "      <td>0</td>\n",
       "      <td>0</td>\n",
       "      <td>N4 3NX</td>\n",
       "      <td>FLAT 4, 222, SEVEN SISTERS ROAD</td>\n",
       "      <td>SEVEN SISTERS ROAD</td>\n",
       "      <td>address_6</td>\n",
       "    </tr>\n",
       "    <tr>\n",
       "      <th>20</th>\n",
       "      <td>1548</td>\n",
       "      <td>P2019/0911/PRA</td>\n",
       "      <td>ISLINGTON</td>\n",
       "      <td>Prior Approval</td>\n",
       "      <td>Prior Approval: Change of use - offices to dwe...</td>\n",
       "      <td>Notification of Prior Approval for the Change ...</td>\n",
       "      <td>1.0</td>\n",
       "      <td>196</td>\n",
       "      <td>BLACKSTOCK ROAD</td>\n",
       "      <td>N5 1EN</td>\n",
       "      <td>...</td>\n",
       "      <td>0</td>\n",
       "      <td>0</td>\n",
       "      <td>LONDON</td>\n",
       "      <td>ISLINGTON</td>\n",
       "      <td>LONDON</td>\n",
       "      <td>N5 1EN</td>\n",
       "      <td>N5 1EN</td>\n",
       "      <td>FLAT A, 196, BLACKSTOCK ROAD</td>\n",
       "      <td>196A, BLACKSTOCK ROAD</td>\n",
       "      <td>address_6</td>\n",
       "    </tr>\n",
       "    <tr>\n",
       "      <th>43</th>\n",
       "      <td>1576</td>\n",
       "      <td>14/00976/RESPA</td>\n",
       "      <td>BROMLEY</td>\n",
       "      <td>Prior Approval</td>\n",
       "      <td>Prior Approval (Class O - formerly J)</td>\n",
       "      <td>Change of use of St Marks House from Class B1(...</td>\n",
       "      <td>1.0</td>\n",
       "      <td>13</td>\n",
       "      <td>LEWES ROAD</td>\n",
       "      <td>BR1 2RN</td>\n",
       "      <td>...</td>\n",
       "      <td>0</td>\n",
       "      <td>0</td>\n",
       "      <td>BROMLEY</td>\n",
       "      <td>BROMLEY</td>\n",
       "      <td>BROMLEY</td>\n",
       "      <td>BR1 2RN</td>\n",
       "      <td>BR1 2RN</td>\n",
       "      <td>13, LEWES ROAD</td>\n",
       "      <td>13A, LEWES ROAD</td>\n",
       "      <td>address_6</td>\n",
       "    </tr>\n",
       "    <tr>\n",
       "      <th>44</th>\n",
       "      <td>1576</td>\n",
       "      <td>14/00976/RESPA</td>\n",
       "      <td>BROMLEY</td>\n",
       "      <td>Prior Approval</td>\n",
       "      <td>Prior Approval (Class O - formerly J)</td>\n",
       "      <td>Change of use of St Marks House from Class B1(...</td>\n",
       "      <td>1.0</td>\n",
       "      <td>13</td>\n",
       "      <td>LEWES ROAD</td>\n",
       "      <td>BR1 2RN</td>\n",
       "      <td>...</td>\n",
       "      <td>0</td>\n",
       "      <td>0</td>\n",
       "      <td>BROMLEY</td>\n",
       "      <td>BROMLEY</td>\n",
       "      <td>BROMLEY</td>\n",
       "      <td>BR1 2RN</td>\n",
       "      <td>BR1 2RN</td>\n",
       "      <td>13, LEWES ROAD</td>\n",
       "      <td>13B, LEWES ROAD</td>\n",
       "      <td>address_6</td>\n",
       "    </tr>\n",
       "    <tr>\n",
       "      <th>45</th>\n",
       "      <td>1576</td>\n",
       "      <td>14/00976/RESPA</td>\n",
       "      <td>BROMLEY</td>\n",
       "      <td>Prior Approval</td>\n",
       "      <td>Prior Approval (Class O - formerly J)</td>\n",
       "      <td>Change of use of St Marks House from Class B1(...</td>\n",
       "      <td>1.0</td>\n",
       "      <td>13</td>\n",
       "      <td>LEWES ROAD</td>\n",
       "      <td>BR1 2RN</td>\n",
       "      <td>...</td>\n",
       "      <td>0</td>\n",
       "      <td>0</td>\n",
       "      <td>BROMLEY</td>\n",
       "      <td>BROMLEY</td>\n",
       "      <td>BROMLEY</td>\n",
       "      <td>BR1 2RN</td>\n",
       "      <td>BR1 2RN</td>\n",
       "      <td>13, LEWES ROAD</td>\n",
       "      <td>13A, LEWES ROAD</td>\n",
       "      <td>address_6</td>\n",
       "    </tr>\n",
       "    <tr>\n",
       "      <th>46</th>\n",
       "      <td>1576</td>\n",
       "      <td>14/00976/RESPA</td>\n",
       "      <td>BROMLEY</td>\n",
       "      <td>Prior Approval</td>\n",
       "      <td>Prior Approval (Class O - formerly J)</td>\n",
       "      <td>Change of use of St Marks House from Class B1(...</td>\n",
       "      <td>1.0</td>\n",
       "      <td>13</td>\n",
       "      <td>LEWES ROAD</td>\n",
       "      <td>BR1 2RN</td>\n",
       "      <td>...</td>\n",
       "      <td>0</td>\n",
       "      <td>0</td>\n",
       "      <td>BROMLEY</td>\n",
       "      <td>BROMLEY</td>\n",
       "      <td>BROMLEY</td>\n",
       "      <td>BR1 2RN</td>\n",
       "      <td>BR1 2RN</td>\n",
       "      <td>13, LEWES ROAD</td>\n",
       "      <td>13B, LEWES ROAD</td>\n",
       "      <td>address_6</td>\n",
       "    </tr>\n",
       "    <tr>\n",
       "      <th>132</th>\n",
       "      <td>1679</td>\n",
       "      <td>17/05609/GPDO</td>\n",
       "      <td>CROYDON</td>\n",
       "      <td>Prior Approval</td>\n",
       "      <td>Prior Approval (Class O - formerly J)</td>\n",
       "      <td>Alterations ; Use of first floor as 2 flats; p...</td>\n",
       "      <td>2.0</td>\n",
       "      <td>85</td>\n",
       "      <td>GLOUCESTER ROAD</td>\n",
       "      <td>CR0 2DN</td>\n",
       "      <td>...</td>\n",
       "      <td>0</td>\n",
       "      <td>0</td>\n",
       "      <td>CROYDON</td>\n",
       "      <td>CROYDON</td>\n",
       "      <td>CROYDON</td>\n",
       "      <td>CR0 2DN</td>\n",
       "      <td>CR0 2DN</td>\n",
       "      <td>FLAT 2, 85, GLOUCESTER ROAD</td>\n",
       "      <td>FLAT 2, 85A, GLOUCESTER ROAD</td>\n",
       "      <td>address_6</td>\n",
       "    </tr>\n",
       "    <tr>\n",
       "      <th>133</th>\n",
       "      <td>1679</td>\n",
       "      <td>17/05609/GPDO</td>\n",
       "      <td>CROYDON</td>\n",
       "      <td>Prior Approval</td>\n",
       "      <td>Prior Approval (Class O - formerly J)</td>\n",
       "      <td>Alterations ; Use of first floor as 2 flats; p...</td>\n",
       "      <td>2.0</td>\n",
       "      <td>85</td>\n",
       "      <td>GLOUCESTER ROAD</td>\n",
       "      <td>CR0 2DN</td>\n",
       "      <td>...</td>\n",
       "      <td>0</td>\n",
       "      <td>0</td>\n",
       "      <td>CROYDON</td>\n",
       "      <td>CROYDON</td>\n",
       "      <td>CROYDON</td>\n",
       "      <td>CR0 2DN</td>\n",
       "      <td>CR0 2DN</td>\n",
       "      <td>FLAT 1, 85, GLOUCESTER ROAD</td>\n",
       "      <td>FLAT 1, 85A, GLOUCESTER ROAD</td>\n",
       "      <td>address_6</td>\n",
       "    </tr>\n",
       "  </tbody>\n",
       "</table>\n",
       "<p>20 rows × 55 columns</p>\n",
       "</div>"
      ],
      "text/plain": [
       "       ID planning_application_number   lpa_name application_type  \\\n",
       "7    1547              P2017/2905/PRA  ISLINGTON   Prior Approval   \n",
       "8    1547              P2017/2905/PRA  ISLINGTON   Prior Approval   \n",
       "9    1547              P2017/2905/PRA  ISLINGTON   Prior Approval   \n",
       "10   1547              P2016/2604/PRA  ISLINGTON   Prior Approval   \n",
       "11   1547              P2016/2604/PRA  ISLINGTON   Prior Approval   \n",
       "12   1547              P2016/2604/PRA  ISLINGTON   Prior Approval   \n",
       "13   1547              P2016/2604/PRA  ISLINGTON   Prior Approval   \n",
       "14   1547              P2016/2604/PRA  ISLINGTON   Prior Approval   \n",
       "15   1547              P2016/2604/PRA  ISLINGTON   Prior Approval   \n",
       "16   1547              P2016/2604/PRA  ISLINGTON   Prior Approval   \n",
       "17   1547              P2016/2604/PRA  ISLINGTON   Prior Approval   \n",
       "18   1547              P2016/2604/PRA  ISLINGTON   Prior Approval   \n",
       "19   1547              P2016/2604/PRA  ISLINGTON   Prior Approval   \n",
       "20   1548              P2019/0911/PRA  ISLINGTON   Prior Approval   \n",
       "43   1576              14/00976/RESPA    BROMLEY   Prior Approval   \n",
       "44   1576              14/00976/RESPA    BROMLEY   Prior Approval   \n",
       "45   1576              14/00976/RESPA    BROMLEY   Prior Approval   \n",
       "46   1576              14/00976/RESPA    BROMLEY   Prior Approval   \n",
       "132  1679               17/05609/GPDO    CROYDON   Prior Approval   \n",
       "133  1679               17/05609/GPDO    CROYDON   Prior Approval   \n",
       "\n",
       "                                 application_type_full  \\\n",
       "7               Prior Approval (Class M - formerly IA)   \n",
       "8               Prior Approval (Class M - formerly IA)   \n",
       "9               Prior Approval (Class M - formerly IA)   \n",
       "10               Prior Approval (Class O - formerly J)   \n",
       "11               Prior Approval (Class O - formerly J)   \n",
       "12               Prior Approval (Class O - formerly J)   \n",
       "13               Prior Approval (Class O - formerly J)   \n",
       "14               Prior Approval (Class O - formerly J)   \n",
       "15               Prior Approval (Class O - formerly J)   \n",
       "16               Prior Approval (Class O - formerly J)   \n",
       "17               Prior Approval (Class O - formerly J)   \n",
       "18               Prior Approval (Class O - formerly J)   \n",
       "19               Prior Approval (Class O - formerly J)   \n",
       "20   Prior Approval: Change of use - offices to dwe...   \n",
       "43               Prior Approval (Class O - formerly J)   \n",
       "44               Prior Approval (Class O - formerly J)   \n",
       "45               Prior Approval (Class O - formerly J)   \n",
       "46               Prior Approval (Class O - formerly J)   \n",
       "132              Prior Approval (Class O - formerly J)   \n",
       "133              Prior Approval (Class O - formerly J)   \n",
       "\n",
       "                                           description  number_of_units  \\\n",
       "7    Notification for Prior Approval for the change...              1.0   \n",
       "8    Notification for Prior Approval for the change...              1.0   \n",
       "9    Notification for Prior Approval for the change...              1.0   \n",
       "10   Prior approval application for the proposed ch...              1.0   \n",
       "11   Prior approval application for the proposed ch...              1.0   \n",
       "12   Prior approval application for the proposed ch...              1.0   \n",
       "13   Prior approval application for the proposed ch...              1.0   \n",
       "14   Prior approval application for the proposed ch...              1.0   \n",
       "15   Prior approval application for the proposed ch...              1.0   \n",
       "16   Prior approval application for the proposed ch...              1.0   \n",
       "17   Prior approval application for the proposed ch...              1.0   \n",
       "18   Prior approval application for the proposed ch...              1.0   \n",
       "19   Prior approval application for the proposed ch...              1.0   \n",
       "20   Notification of Prior Approval for the Change ...              1.0   \n",
       "43   Change of use of St Marks House from Class B1(...              1.0   \n",
       "44   Change of use of St Marks House from Class B1(...              1.0   \n",
       "45   Change of use of St Marks House from Class B1(...              1.0   \n",
       "46   Change of use of St Marks House from Class B1(...              1.0   \n",
       "132  Alterations ; Use of first floor as 2 flats; p...              2.0   \n",
       "133  Alterations ; Use of first floor as 2 flats; p...              2.0   \n",
       "\n",
       "    site_number_clean         street_name postcode_clean  ...  \\\n",
       "7                 194  SEVEN SISTERS ROAD         N4 3NX  ...   \n",
       "8                 194  SEVEN SISTERS ROAD         N4 3NX  ...   \n",
       "9                 194  SEVEN SISTERS ROAD         N4 3NX  ...   \n",
       "10                222  SEVEN SISTERS ROAD         N4 3NX  ...   \n",
       "11                222  SEVEN SISTERS ROAD         N4 3NX  ...   \n",
       "12                222  SEVEN SISTERS ROAD         N4 3NX  ...   \n",
       "13                222  SEVEN SISTERS ROAD         N4 3NX  ...   \n",
       "14                222  SEVEN SISTERS ROAD         N4 3NX  ...   \n",
       "15                222  SEVEN SISTERS ROAD         N4 3NX  ...   \n",
       "16                222  SEVEN SISTERS ROAD         N4 3NX  ...   \n",
       "17                222  SEVEN SISTERS ROAD         N4 3NX  ...   \n",
       "18                222  SEVEN SISTERS ROAD         N4 3NX  ...   \n",
       "19                222  SEVEN SISTERS ROAD         N4 3NX  ...   \n",
       "20                196     BLACKSTOCK ROAD         N5 1EN  ...   \n",
       "43                 13          LEWES ROAD        BR1 2RN  ...   \n",
       "44                 13          LEWES ROAD        BR1 2RN  ...   \n",
       "45                 13          LEWES ROAD        BR1 2RN  ...   \n",
       "46                 13          LEWES ROAD        BR1 2RN  ...   \n",
       "132                85     GLOUCESTER ROAD        CR0 2DN  ...   \n",
       "133                85     GLOUCESTER ROAD        CR0 2DN  ...   \n",
       "\n",
       "    dependent_locality locality town_name administrative_area post_town  \\\n",
       "7                    0        0    LONDON           ISLINGTON    LONDON   \n",
       "8                    0        0    LONDON           ISLINGTON    LONDON   \n",
       "9                    0        0    LONDON           ISLINGTON    LONDON   \n",
       "10                   0        0    LONDON           ISLINGTON         0   \n",
       "11                   0        0    LONDON           ISLINGTON         0   \n",
       "12                   0        0    LONDON           ISLINGTON         0   \n",
       "13                   0        0    LONDON           ISLINGTON         0   \n",
       "14                   0        0    LONDON           ISLINGTON         0   \n",
       "15                   0        0    LONDON           ISLINGTON         0   \n",
       "16                   0        0    LONDON           ISLINGTON         0   \n",
       "17                   0        0    LONDON           ISLINGTON         0   \n",
       "18                   0        0    LONDON           ISLINGTON         0   \n",
       "19                   0        0    LONDON           ISLINGTON         0   \n",
       "20                   0        0    LONDON           ISLINGTON    LONDON   \n",
       "43                   0        0   BROMLEY             BROMLEY   BROMLEY   \n",
       "44                   0        0   BROMLEY             BROMLEY   BROMLEY   \n",
       "45                   0        0   BROMLEY             BROMLEY   BROMLEY   \n",
       "46                   0        0   BROMLEY             BROMLEY   BROMLEY   \n",
       "132                  0        0   CROYDON             CROYDON   CROYDON   \n",
       "133                  0        0   CROYDON             CROYDON   CROYDON   \n",
       "\n",
       "    postcode postcode_locator                  parsed_address1  \\\n",
       "7     N4 3NX           N4 3NX  FLAT 3, 194, SEVEN SISTERS ROAD   \n",
       "8     N4 3NX           N4 3NX  FLAT 1, 194, SEVEN SISTERS ROAD   \n",
       "9     N4 3NX           N4 3NX  FLAT 2, 194, SEVEN SISTERS ROAD   \n",
       "10         0           N4 3NX  FLAT 5, 222, SEVEN SISTERS ROAD   \n",
       "11         0           N4 3NX  FLAT 3, 222, SEVEN SISTERS ROAD   \n",
       "12         0           N4 3NX  FLAT 1, 222, SEVEN SISTERS ROAD   \n",
       "13         0           N4 3NX  FLAT 2, 222, SEVEN SISTERS ROAD   \n",
       "14         0           N4 3NX  FLAT 4, 222, SEVEN SISTERS ROAD   \n",
       "15         0           N4 3NX  FLAT 5, 222, SEVEN SISTERS ROAD   \n",
       "16         0           N4 3NX  FLAT 3, 222, SEVEN SISTERS ROAD   \n",
       "17         0           N4 3NX  FLAT 1, 222, SEVEN SISTERS ROAD   \n",
       "18         0           N4 3NX  FLAT 2, 222, SEVEN SISTERS ROAD   \n",
       "19         0           N4 3NX  FLAT 4, 222, SEVEN SISTERS ROAD   \n",
       "20    N5 1EN           N5 1EN     FLAT A, 196, BLACKSTOCK ROAD   \n",
       "43   BR1 2RN          BR1 2RN                   13, LEWES ROAD   \n",
       "44   BR1 2RN          BR1 2RN                   13, LEWES ROAD   \n",
       "45   BR1 2RN          BR1 2RN                   13, LEWES ROAD   \n",
       "46   BR1 2RN          BR1 2RN                   13, LEWES ROAD   \n",
       "132  CR0 2DN          CR0 2DN      FLAT 2, 85, GLOUCESTER ROAD   \n",
       "133  CR0 2DN          CR0 2DN      FLAT 1, 85, GLOUCESTER ROAD   \n",
       "\n",
       "                      parsed_address2 match_strategy  \n",
       "7    FLAT 3, 194A, SEVEN SISTERS ROAD      address_6  \n",
       "8    FLAT 1, 194A, SEVEN SISTERS ROAD      address_6  \n",
       "9    FLAT 2, 194A, SEVEN SISTERS ROAD      address_6  \n",
       "10                 SEVEN SISTERS ROAD      address_6  \n",
       "11                 SEVEN SISTERS ROAD      address_6  \n",
       "12                 SEVEN SISTERS ROAD      address_6  \n",
       "13                 SEVEN SISTERS ROAD      address_6  \n",
       "14                 SEVEN SISTERS ROAD      address_6  \n",
       "15                 SEVEN SISTERS ROAD      address_6  \n",
       "16                 SEVEN SISTERS ROAD      address_6  \n",
       "17                 SEVEN SISTERS ROAD      address_6  \n",
       "18                 SEVEN SISTERS ROAD      address_6  \n",
       "19                 SEVEN SISTERS ROAD      address_6  \n",
       "20              196A, BLACKSTOCK ROAD      address_6  \n",
       "43                    13A, LEWES ROAD      address_6  \n",
       "44                    13B, LEWES ROAD      address_6  \n",
       "45                    13A, LEWES ROAD      address_6  \n",
       "46                    13B, LEWES ROAD      address_6  \n",
       "132      FLAT 2, 85A, GLOUCESTER ROAD      address_6  \n",
       "133      FLAT 1, 85A, GLOUCESTER ROAD      address_6  \n",
       "\n",
       "[20 rows x 55 columns]"
      ]
     },
     "execution_count": 66,
     "metadata": {},
     "output_type": "execute_result"
    }
   ],
   "source": [
    "merged_on_address7_match.head(20)"
   ]
  },
  {
   "cell_type": "code",
   "execution_count": 62,
   "id": "c61c0381",
   "metadata": {},
   "outputs": [
    {
     "data": {
      "text/html": [
       "<div>\n",
       "<style scoped>\n",
       "    .dataframe tbody tr th:only-of-type {\n",
       "        vertical-align: middle;\n",
       "    }\n",
       "\n",
       "    .dataframe tbody tr th {\n",
       "        vertical-align: top;\n",
       "    }\n",
       "\n",
       "    .dataframe thead th {\n",
       "        text-align: right;\n",
       "    }\n",
       "</style>\n",
       "<table border=\"1\" class=\"dataframe\">\n",
       "  <thead>\n",
       "    <tr style=\"text-align: right;\">\n",
       "      <th></th>\n",
       "      <th>uprn</th>\n",
       "      <th>class</th>\n",
       "      <th>parent_uprn</th>\n",
       "      <th>latitude</th>\n",
       "      <th>longitude</th>\n",
       "      <th>country</th>\n",
       "      <th>legal_name</th>\n",
       "      <th>sub_building_name</th>\n",
       "      <th>building_name</th>\n",
       "      <th>building_number</th>\n",
       "      <th>...</th>\n",
       "      <th>street_description</th>\n",
       "      <th>dependent_locality</th>\n",
       "      <th>locality</th>\n",
       "      <th>town_name</th>\n",
       "      <th>administrative_area</th>\n",
       "      <th>post_town</th>\n",
       "      <th>postcode</th>\n",
       "      <th>postcode_locator</th>\n",
       "      <th>parsed_address1</th>\n",
       "      <th>parsed_address2</th>\n",
       "    </tr>\n",
       "  </thead>\n",
       "  <tbody>\n",
       "  </tbody>\n",
       "</table>\n",
       "<p>0 rows × 30 columns</p>\n",
       "</div>"
      ],
      "text/plain": [
       "Empty DataFrame\n",
       "Columns: [uprn, class, parent_uprn, latitude, longitude, country, legal_name, sub_building_name, building_name, building_number, sao_start_number, sao_start_suffix, sao_end_number, sao_end_suffix, sao_text, pao_start_number, pao_start_suffix, pao_end_number, pao_end_suffix, pao_text, street_description, dependent_locality, locality, town_name, administrative_area, post_town, postcode, postcode_locator, parsed_address1, parsed_address2]\n",
       "Index: []\n",
       "\n",
       "[0 rows x 30 columns]"
      ]
     },
     "execution_count": 62,
     "metadata": {},
     "output_type": "execute_result"
    }
   ],
   "source": [
    "other_AB[(other_AB['building_number'] == '3') & (other_AB['street_description'] == 'HIGH STREET') & (other_AB['postcode_locator'] == 'BR1 1LF')]"
   ]
  },
  {
   "cell_type": "code",
   "execution_count": 178,
   "id": "5adfd2de",
   "metadata": {},
   "outputs": [
    {
     "data": {
      "text/html": [
       "<div>\n",
       "<style scoped>\n",
       "    .dataframe tbody tr th:only-of-type {\n",
       "        vertical-align: middle;\n",
       "    }\n",
       "\n",
       "    .dataframe tbody tr th {\n",
       "        vertical-align: top;\n",
       "    }\n",
       "\n",
       "    .dataframe thead th {\n",
       "        text-align: right;\n",
       "    }\n",
       "</style>\n",
       "<table border=\"1\" class=\"dataframe\">\n",
       "  <thead>\n",
       "    <tr style=\"text-align: right;\">\n",
       "      <th></th>\n",
       "      <th>uprn</th>\n",
       "      <th>class</th>\n",
       "      <th>parent_uprn</th>\n",
       "      <th>latitude</th>\n",
       "      <th>longitude</th>\n",
       "      <th>country</th>\n",
       "      <th>legal_name</th>\n",
       "      <th>sub_building_name</th>\n",
       "      <th>building_name</th>\n",
       "      <th>building_number</th>\n",
       "      <th>...</th>\n",
       "      <th>street_description</th>\n",
       "      <th>dependent_locality</th>\n",
       "      <th>locality</th>\n",
       "      <th>town_name</th>\n",
       "      <th>administrative_area</th>\n",
       "      <th>post_town</th>\n",
       "      <th>postcode</th>\n",
       "      <th>postcode_locator</th>\n",
       "      <th>parsed_address1</th>\n",
       "      <th>parsed_address2</th>\n",
       "    </tr>\n",
       "  </thead>\n",
       "  <tbody>\n",
       "    <tr>\n",
       "      <th>4055311</th>\n",
       "      <td>005300082025</td>\n",
       "      <td>CR</td>\n",
       "      <td>000000000000</td>\n",
       "      <td>51.562168</td>\n",
       "      <td>-0.109969</td>\n",
       "      <td>E</td>\n",
       "      <td>0.0</td>\n",
       "      <td>0</td>\n",
       "      <td>0</td>\n",
       "      <td>194</td>\n",
       "      <td>...</td>\n",
       "      <td>SEVEN SISTERS ROAD</td>\n",
       "      <td>0</td>\n",
       "      <td>0</td>\n",
       "      <td>LONDON</td>\n",
       "      <td>ISLINGTON</td>\n",
       "      <td>LONDON</td>\n",
       "      <td>N4 3NX</td>\n",
       "      <td>N4 3NX</td>\n",
       "      <td>194, SEVEN SISTERS ROAD</td>\n",
       "      <td>194, SEVEN SISTERS ROAD</td>\n",
       "    </tr>\n",
       "    <tr>\n",
       "      <th>4136519</th>\n",
       "      <td>005300082026</td>\n",
       "      <td>PP</td>\n",
       "      <td>000000000000</td>\n",
       "      <td>51.562168</td>\n",
       "      <td>-0.109969</td>\n",
       "      <td>E</td>\n",
       "      <td>0.0</td>\n",
       "      <td>0</td>\n",
       "      <td>0</td>\n",
       "      <td>&lt;NA&gt;</td>\n",
       "      <td>...</td>\n",
       "      <td>SEVEN SISTERS ROAD</td>\n",
       "      <td>0</td>\n",
       "      <td>0</td>\n",
       "      <td>LONDON</td>\n",
       "      <td>ISLINGTON</td>\n",
       "      <td>0</td>\n",
       "      <td>0</td>\n",
       "      <td>N4 3NX</td>\n",
       "      <td>194, SEVEN SISTERS ROAD</td>\n",
       "      <td>SEVEN SISTERS ROAD</td>\n",
       "    </tr>\n",
       "  </tbody>\n",
       "</table>\n",
       "<p>2 rows × 30 columns</p>\n",
       "</div>"
      ],
      "text/plain": [
       "                 uprn class   parent_uprn   latitude  longitude country  \\\n",
       "4055311  005300082025    CR  000000000000  51.562168  -0.109969       E   \n",
       "4136519  005300082026    PP  000000000000  51.562168  -0.109969       E   \n",
       "\n",
       "         legal_name sub_building_name building_name building_number  ...  \\\n",
       "4055311         0.0                 0             0             194  ...   \n",
       "4136519         0.0                 0             0            <NA>  ...   \n",
       "\n",
       "         street_description dependent_locality  locality town_name  \\\n",
       "4055311  SEVEN SISTERS ROAD                  0         0    LONDON   \n",
       "4136519  SEVEN SISTERS ROAD                  0         0    LONDON   \n",
       "\n",
       "        administrative_area post_town postcode  postcode_locator  \\\n",
       "4055311           ISLINGTON    LONDON   N4 3NX            N4 3NX   \n",
       "4136519           ISLINGTON         0        0            N4 3NX   \n",
       "\n",
       "                 parsed_address1          parsed_address2  \n",
       "4055311  194, SEVEN SISTERS ROAD  194, SEVEN SISTERS ROAD  \n",
       "4136519  194, SEVEN SISTERS ROAD       SEVEN SISTERS ROAD  \n",
       "\n",
       "[2 rows x 30 columns]"
      ]
     },
     "execution_count": 178,
     "metadata": {},
     "output_type": "execute_result"
    }
   ],
   "source": [
    "### hmm why isnt itfinding the correct record?? \n",
    "#this record exists in other AB - okay... so might work once I match taht! \n",
    "other_AB[(other_AB['street_description'] == 'SEVEN SISTERS ROAD')  & (other_AB['postcode_locator'] == 'N4 3NX') \n",
    "                        & (other_AB['parsed_address1'] == '194, SEVEN SISTERS ROAD')]"
   ]
  },
  {
   "cell_type": "code",
   "execution_count": 171,
   "id": "1fc01837",
   "metadata": {},
   "outputs": [],
   "source": [
    "seven_sisters.to_csv('seven_sisters.csv', index=False) "
   ]
  },
  {
   "cell_type": "code",
   "execution_count": 60,
   "id": "6ad5eb21-c0fa-4612-bccd-31f77313e25c",
   "metadata": {
    "tags": []
   },
   "outputs": [],
   "source": [
    "##-------- DATA MERGING --------  COMMERCIAL PROPERTIES --- Reproduce the process with commercial properties \n",
    "#Merge on Parent UPRN \n",
    "non_resi_merged = merged_on_address3_no_match.merge(other_AB,how = 'left', left_on = 'uprn_x', right_on = 'parent_uprn')\n",
    "\n",
    "non_resi_match, non_resi_no_match =  separate_matches(non_resi_merged, 'parent_uprn', 'parent_uprn')\n",
    "\n",
    "non_resi_no_match = non_resi_no_match.dropna(axis=1, how='all')"
   ]
  },
  {
   "cell_type": "code",
   "execution_count": 61,
   "id": "9d6e60bd-519d-4476-b702-fcff09d5894e",
   "metadata": {
    "tags": []
   },
   "outputs": [],
   "source": [
    "#merge on UPRN\n",
    "non_resi_merged_2 = non_resi_no_match.merge(other_AB, how = 'left', left_on = 'uprn_x', right_on = 'uprn')\n",
    "\n",
    "non_resi_match_2, non_resi_no_match_2 =  separate_matches(non_resi_merged_2, 'parent_uprn', 'uprn')\n",
    "\n",
    "non_resi_no_match_2 = non_resi_no_match_2.dropna(axis=1, how='all')"
   ]
  },
  {
   "cell_type": "code",
   "execution_count": 62,
   "id": "35233bd0-1e5b-476b-a4e1-784aa153f75e",
   "metadata": {
    "tags": []
   },
   "outputs": [],
   "source": [
    "non_resi_match_2 = non_resi_match_2.rename(columns={\"uprn\": \"uprn_OSAB\"})\n",
    "#non_resi_match_2['match_strategy'] = 'uprn'\n",
    "non_resi_match_2.count()\n",
    "\n",
    "non_resi_match = non_resi_match.rename(columns={\"uprn\": \"uprn_OSAB\"})\n",
    "#non_resi_match['match_strategy'] = 'parent_uprn'"
   ]
  },
  {
   "cell_type": "code",
   "execution_count": 63,
   "id": "a766aec8-4f2a-4620-8938-c6a6c8df7c33",
   "metadata": {
    "tags": []
   },
   "outputs": [],
   "source": [
    "#union them together \n",
    "non_resi_all_matched = pd.concat([non_resi_match_2, non_resi_match])"
   ]
  },
  {
   "cell_type": "markdown",
   "id": "1ad6a0bc",
   "metadata": {},
   "source": [
    "---- Commercial address matching --- "
   ]
  },
  {
   "cell_type": "code",
   "execution_count": 83,
   "id": "ff3df69e-74fd-4280-a8c6-f6d498751b87",
   "metadata": {
    "tags": []
   },
   "outputs": [],
   "source": [
    "#now join on addresses strat 1 \n",
    "left_columns = ['site_name_GLA_no_pc', 'postcode_clean']  #['site_number_clean', 'street_name', 'postcode_clean']\n",
    "right_columns = ['parsed_address1', 'postcode_locator'] #['building_number', 'street_description', 'postcode_locator']\n",
    "\n",
    "#non_resi_address_merge_match, non_resi_address_merge_no_match = my_merge(non_resi_no_match_2, other_AB, left_columns, right_columns)"
   ]
  },
  {
   "cell_type": "code",
   "execution_count": 84,
   "id": "ba7f0f38",
   "metadata": {},
   "outputs": [],
   "source": [
    "#use this one if skipping UPRN \n",
    "non_resi_address_merge_match, non_resi_address_merge_no_match = my_merge(merged_on_address7_no_match, other_AB, left_columns, right_columns)\n"
   ]
  },
  {
   "cell_type": "code",
   "execution_count": 86,
   "id": "89237c05-b592-4be1-ab3b-4c10a7045051",
   "metadata": {
    "tags": []
   },
   "outputs": [],
   "source": [
    "non_resi_address_merge_no_match = non_resi_address_merge_no_match.dropna(axis=1, how='all')\n",
    "\n",
    "## Add the merged_on_address_match to the matched\n",
    "non_resi_address_merge_match = non_resi_address_merge_match.rename(columns={\"uprn\": \"uprn_OSAB\"})\n",
    "non_resi_address_merge_match['match_strategy'] = 'address_1'\n",
    "\n",
    "non_resi_all_matched = non_resi_address_merge_match"
   ]
  },
  {
   "cell_type": "code",
   "execution_count": 85,
   "id": "635a0c1f",
   "metadata": {},
   "outputs": [
    {
     "data": {
      "text/plain": [
       "73"
      ]
     },
     "execution_count": 85,
     "metadata": {},
     "output_type": "execute_result"
    }
   ],
   "source": [
    "non_resi_address_merge_match['ID'].nunique()"
   ]
  },
  {
   "cell_type": "code",
   "execution_count": 96,
   "id": "917ee507",
   "metadata": {},
   "outputs": [],
   "source": [
    "#USE THIS FIRST TIME THRU \n",
    "# non_resi_all_matched = pd.concat([non_resi_all_matched, non_resi_address_merge_match])"
   ]
  },
  {
   "cell_type": "code",
   "execution_count": 87,
   "id": "c5a5799b-2902-4c5f-aefd-3556ecf780d6",
   "metadata": {
    "tags": []
   },
   "outputs": [],
   "source": [
    "#join addresses strat 2\n",
    "left_columns_2 =  ['site_name_LPA_no_pc', 'postcode_clean'] \n",
    "right_columns_2 =  ['parsed_address1', 'postcode_locator']\n",
    " \n",
    "non_resi_address_merge_match2, non_resi_address_merge_no_match2 = my_merge(non_resi_address_merge_no_match, other_AB, left_columns_2,right_columns_2 )"
   ]
  },
  {
   "cell_type": "code",
   "execution_count": 88,
   "id": "77bf5575",
   "metadata": {},
   "outputs": [
    {
     "data": {
      "text/plain": [
       "0"
      ]
     },
     "execution_count": 88,
     "metadata": {},
     "output_type": "execute_result"
    }
   ],
   "source": [
    "non_resi_address_merge_match2['ID'].nunique()"
   ]
  },
  {
   "cell_type": "code",
   "execution_count": 89,
   "id": "40e38bdf-0103-4cac-949a-cc02dbe53e2d",
   "metadata": {
    "tags": []
   },
   "outputs": [],
   "source": [
    "non_resi_address_merge_no_match2 = non_resi_address_merge_no_match2.dropna(axis=1, how='all')\n",
    "\n",
    "## Add the merged_on_address_match to the matched\n",
    "non_resi_address_merge_match2 = non_resi_address_merge_match2.rename(columns={\"uprn\": \"uprn_OSAB\"})\n",
    "non_resi_address_merge_match2['match_strategy'] = 'address_2'\n",
    "\n",
    "non_resi_all_matched = pd.concat([non_resi_all_matched, non_resi_address_merge_match2])"
   ]
  },
  {
   "cell_type": "code",
   "execution_count": 90,
   "id": "3a746488-62e0-40f3-980e-d20722040d22",
   "metadata": {
    "tags": []
   },
   "outputs": [],
   "source": [
    "# STRATEGY 3 ADDRESS MATCH \n",
    "left_columns_3 = ['site_name_GLA_no_pc', 'postcode_clean'] \n",
    "right_columns_3 = ['parsed_address2', 'postcode_locator']\n",
    "\n",
    "\n",
    "non_resi_address_merge_match3, non_resi_address_merge_no_match3 = my_merge(non_resi_address_merge_no_match2, other_AB, left_columns_3, right_columns_3)"
   ]
  },
  {
   "cell_type": "code",
   "execution_count": 91,
   "id": "0ea4fe9a",
   "metadata": {},
   "outputs": [
    {
     "data": {
      "text/plain": [
       "93"
      ]
     },
     "execution_count": 91,
     "metadata": {},
     "output_type": "execute_result"
    }
   ],
   "source": [
    "non_resi_address_merge_match3['ID'].nunique()"
   ]
  },
  {
   "cell_type": "code",
   "execution_count": 92,
   "id": "09850e80-0072-40cc-9acf-4b827b8e79f7",
   "metadata": {
    "tags": []
   },
   "outputs": [],
   "source": [
    "non_resi_address_merge_no_match3 = non_resi_address_merge_no_match3.dropna(axis=1, how='all')\n",
    "\n",
    "## Add the merged_on_address_match to the matched\n",
    "non_resi_address_merge_match3 = non_resi_address_merge_match3.rename(columns={\"uprn\": \"uprn_OSAB\"})\n",
    "non_resi_address_merge_match3['match_strategy'] = 'address_3'\n",
    "\n",
    "non_resi_all_matched = pd.concat([non_resi_all_matched, non_resi_address_merge_match3])"
   ]
  },
  {
   "cell_type": "markdown",
   "id": "4add52e3",
   "metadata": {},
   "source": [
    "------- ADDRESS ----- Strategy 4 COMM "
   ]
  },
  {
   "cell_type": "code",
   "execution_count": 93,
   "id": "9c5fb084",
   "metadata": {},
   "outputs": [],
   "source": [
    "# STRATEGY 4 ADDRESS MATCH \n",
    "left_columns_4 = ['site_name_LPA_no_pc', 'postcode_clean'] \n",
    "right_columns_4 = ['parsed_address2', 'postcode_locator']\n",
    "\n",
    "\n",
    "non_resi_address_merge_match4, non_resi_address_merge_no_match4 = my_merge(non_resi_address_merge_no_match3, other_AB, left_columns_4, right_columns_4)"
   ]
  },
  {
   "cell_type": "code",
   "execution_count": 94,
   "id": "d7899b47",
   "metadata": {},
   "outputs": [
    {
     "data": {
      "text/plain": [
       "0"
      ]
     },
     "execution_count": 94,
     "metadata": {},
     "output_type": "execute_result"
    }
   ],
   "source": [
    "non_resi_address_merge_match4['ID'].nunique()"
   ]
  },
  {
   "cell_type": "code",
   "execution_count": 95,
   "id": "4abf57c1",
   "metadata": {},
   "outputs": [],
   "source": [
    "non_resi_address_merge_no_match4 = non_resi_address_merge_no_match4.dropna(axis=1, how='all')\n",
    "\n",
    "## Add the merged_on_address_match to the matched\n",
    "non_resi_address_merge_match4 = non_resi_address_merge_match4.rename(columns={\"uprn\": \"uprn_OSAB\"})\n",
    "non_resi_address_merge_match4['match_strategy'] = 'address_4'\n",
    "\n",
    "non_resi_all_matched = pd.concat([non_resi_all_matched, non_resi_address_merge_match4])"
   ]
  },
  {
   "cell_type": "code",
   "execution_count": 96,
   "id": "96f2f25d",
   "metadata": {},
   "outputs": [],
   "source": [
    "#strategy 5 ADDRESS MATCH \n",
    "left_columns_5 = ['concat_addr', 'lpa_name'] \n",
    "right_columns_5 = ['parsed_address1', 'administrative_area']\n",
    "\n",
    "\n",
    "non_resi_address_merge_match5, non_resi_address_merge_no_match5 = my_merge(non_resi_address_merge_no_match4, other_AB, left_columns_5, right_columns_5)\n"
   ]
  },
  {
   "cell_type": "code",
   "execution_count": 97,
   "id": "e422f17e",
   "metadata": {},
   "outputs": [],
   "source": [
    "non_resi_address_merge_no_match5 = non_resi_address_merge_no_match5.dropna(axis=1, how='all')\n",
    "\n",
    "## Add the merged_on_address_match to the matched\n",
    "non_resi_address_merge_match5 = non_resi_address_merge_match5.rename(columns={\"uprn\": \"uprn_OSAB\"})\n",
    "non_resi_address_merge_match5['match_strategy'] = 'address_5'\n",
    "\n",
    "non_resi_all_matched = pd.concat([non_resi_all_matched, non_resi_address_merge_match5])"
   ]
  },
  {
   "cell_type": "markdown",
   "id": "f43b4d65",
   "metadata": {},
   "source": [
    "strategy 6, same as for resi --- "
   ]
  },
  {
   "cell_type": "code",
   "execution_count": 98,
   "id": "a1f4f6b6",
   "metadata": {},
   "outputs": [],
   "source": [
    "## Strategy 6\n",
    "left_columns_6 = ['concat_addr', 'lpa_name']  \n",
    "right_columns_6 = ['parsed_address2', 'administrative_area'] \n",
    "\n",
    "non_resi_address_merge_match6, non_resi_address_merge_no_match6 = my_merge(non_resi_address_merge_no_match5, other_AB, left_columns_6, right_columns_6)"
   ]
  },
  {
   "cell_type": "code",
   "execution_count": 99,
   "id": "97d7abb6",
   "metadata": {},
   "outputs": [
    {
     "data": {
      "text/plain": [
       "32"
      ]
     },
     "execution_count": 99,
     "metadata": {},
     "output_type": "execute_result"
    }
   ],
   "source": [
    "non_resi_address_merge_match6['ID'].nunique()"
   ]
  },
  {
   "cell_type": "code",
   "execution_count": 100,
   "id": "aafb8a84",
   "metadata": {},
   "outputs": [],
   "source": [
    "non_resi_address_merge_no_match6 = non_resi_address_merge_no_match6.dropna(axis=1, how='all')\n",
    "\n",
    "## Add the merged_on_address_match to the matched\n",
    "non_resi_address_merge_match6 = non_resi_address_merge_match6.rename(columns={\"uprn\": \"uprn_OSAB\"})\n",
    "non_resi_address_merge_match6['match_strategy'] = 'address_6'\n",
    "\n",
    "non_resi_all_matched = pd.concat([non_resi_all_matched, non_resi_address_merge_match6])"
   ]
  },
  {
   "cell_type": "code",
   "execution_count": 101,
   "id": "711594cb",
   "metadata": {},
   "outputs": [],
   "source": [
    "#strategy 7 ADDRESS MATCH \n",
    "left_columns_7 = ['site_number_clean', 'street_name', 'postcode_clean']\n",
    "right_columns_7 = ['pao_start_number', 'street_description', 'postcode_locator']\n",
    "\n",
    "non_resi_address_merge_match7, non_resi_address_merge_no_match7 = my_merge(non_resi_address_merge_no_match6, other_AB, left_columns_7, right_columns_7)\n"
   ]
  },
  {
   "cell_type": "code",
   "execution_count": 102,
   "id": "c8763ec3",
   "metadata": {},
   "outputs": [
    {
     "data": {
      "text/plain": [
       "9"
      ]
     },
     "execution_count": 102,
     "metadata": {},
     "output_type": "execute_result"
    }
   ],
   "source": [
    "non_resi_address_merge_match7['ID'].nunique() #was 88"
   ]
  },
  {
   "cell_type": "code",
   "execution_count": 103,
   "id": "3a5d8b87",
   "metadata": {},
   "outputs": [],
   "source": [
    "non_resi_address_merge_no_match7 = non_resi_address_merge_no_match7.dropna(axis=1, how='all')\n",
    "\n",
    "## Add the merged_on_address_match to the matched\n",
    "non_resi_address_merge_match7 = non_resi_address_merge_match7.rename(columns={\"uprn\": \"uprn_OSAB\"})\n",
    "non_resi_address_merge_match7['match_strategy'] = 'address_7'\n",
    "\n",
    "non_resi_all_matched = pd.concat([non_resi_all_matched, non_resi_address_merge_match7])"
   ]
  },
  {
   "cell_type": "code",
   "execution_count": 105,
   "id": "23cd9335",
   "metadata": {},
   "outputs": [],
   "source": [
    "#strategy 8 ADDRESS MATCH \n",
    "left_columns_8 = ['site_number_clean', 'street_name', 'postcode_sector_x']\n",
    "right_columns_8 = ['pao_start_number', 'street_description', 'postcode_sector']\n",
    "\n",
    "non_resi_address_merge_match8, non_resi_address_merge_no_match8 = my_merge(non_resi_address_merge_no_match7, other_AB, left_columns_8, right_columns_8)"
   ]
  },
  {
   "cell_type": "code",
   "execution_count": 106,
   "id": "c9c36e2c",
   "metadata": {},
   "outputs": [
    {
     "data": {
      "text/plain": [
       "33"
      ]
     },
     "execution_count": 106,
     "metadata": {},
     "output_type": "execute_result"
    }
   ],
   "source": [
    "non_resi_address_merge_match8['ID'].nunique() #was 88"
   ]
  },
  {
   "cell_type": "code",
   "execution_count": 107,
   "id": "fd6fa6cf",
   "metadata": {},
   "outputs": [],
   "source": [
    "non_resi_address_merge_no_match8 = non_resi_address_merge_no_match8.dropna(axis=1, how='all')\n",
    "\n",
    "## Add the merged_on_address_match to the matched\n",
    "non_resi_address_merge_match8 = non_resi_address_merge_match8.rename(columns={\"uprn\": \"uprn_OSAB\"})\n",
    "non_resi_address_merge_match8['match_strategy'] = 'address_8'\n",
    "\n",
    "non_resi_all_matched = pd.concat([non_resi_all_matched, non_resi_address_merge_match8])"
   ]
  },
  {
   "cell_type": "code",
   "execution_count": 108,
   "id": "c80cabab",
   "metadata": {},
   "outputs": [],
   "source": [
    "#strategy 9 ADDRESS MATCH \n",
    "left_columns_9 = ['site_name_GLA_no_pc',  'postcode_sector_x']\n",
    "right_columns_9 = ['parsed_address1',  'postcode_sector']\n",
    "\n",
    "non_resi_address_merge_match9, non_resi_address_merge_no_match9 = my_merge(non_resi_address_merge_no_match8, other_AB, left_columns_9, right_columns_9)"
   ]
  },
  {
   "cell_type": "code",
   "execution_count": 109,
   "id": "1202ccf5",
   "metadata": {},
   "outputs": [
    {
     "data": {
      "text/plain": [
       "15"
      ]
     },
     "execution_count": 109,
     "metadata": {},
     "output_type": "execute_result"
    }
   ],
   "source": [
    "non_resi_address_merge_match9['ID'].nunique() #was 88"
   ]
  },
  {
   "cell_type": "code",
   "execution_count": 110,
   "id": "04e298c0",
   "metadata": {},
   "outputs": [],
   "source": [
    "non_resi_address_merge_no_match9 = non_resi_address_merge_no_match9.dropna(axis=1, how='all')\n",
    "\n",
    "## Add the merged_on_address_match to the matched\n",
    "non_resi_address_merge_match9 = non_resi_address_merge_match9.rename(columns={\"uprn\": \"uprn_OSAB\"})\n",
    "non_resi_address_merge_match9['match_strategy'] = 'address_9'\n",
    "\n",
    "non_resi_all_matched = pd.concat([non_resi_all_matched, non_resi_address_merge_match9])"
   ]
  },
  {
   "cell_type": "code",
   "execution_count": 111,
   "id": "d9dbd02e",
   "metadata": {},
   "outputs": [],
   "source": [
    "#STRATEGY 10\n",
    "left_columns_10 = ['site_name_LPA_no_pc',  'postcode_sector_x']\n",
    "right_columns_10 = ['parsed_address1',  'postcode_sector']\n",
    "\n",
    "non_resi_address_merge_match10, non_resi_address_merge_no_match10 = my_merge(non_resi_address_merge_no_match9, other_AB, left_columns_10, right_columns_10)"
   ]
  },
  {
   "cell_type": "code",
   "execution_count": 112,
   "id": "77126c6e",
   "metadata": {},
   "outputs": [
    {
     "data": {
      "text/plain": [
       "0"
      ]
     },
     "execution_count": 112,
     "metadata": {},
     "output_type": "execute_result"
    }
   ],
   "source": [
    "non_resi_address_merge_match10['ID'].nunique() #was 88"
   ]
  },
  {
   "cell_type": "code",
   "execution_count": 114,
   "id": "93c9717f",
   "metadata": {},
   "outputs": [],
   "source": [
    "#STRATEGY 11\n",
    "left_columns_11 = ['site_name_GLA_no_pc',  'postcode_sector_x']\n",
    "right_columns_11 = ['parsed_address2',  'postcode_sector']\n",
    "\n",
    "non_resi_address_merge_match11, non_resi_address_merge_no_match11 = my_merge(non_resi_address_merge_no_match9, other_AB, left_columns_11, right_columns_11)"
   ]
  },
  {
   "cell_type": "code",
   "execution_count": 115,
   "id": "9ab934ad",
   "metadata": {},
   "outputs": [
    {
     "data": {
      "text/plain": [
       "6"
      ]
     },
     "execution_count": 115,
     "metadata": {},
     "output_type": "execute_result"
    }
   ],
   "source": [
    "non_resi_address_merge_match11['ID'].nunique() #was 88"
   ]
  },
  {
   "cell_type": "code",
   "execution_count": 116,
   "id": "b7e04e1a",
   "metadata": {},
   "outputs": [],
   "source": [
    "non_resi_address_merge_no_match11 = non_resi_address_merge_no_match11.dropna(axis=1, how='all')\n",
    "\n",
    "## Add the merged_on_address_match to the matched\n",
    "non_resi_address_merge_match11 = non_resi_address_merge_match11.rename(columns={\"uprn\": \"uprn_OSAB\"})\n",
    "non_resi_address_merge_match11['match_strategy'] = 'address_11'\n",
    "\n",
    "non_resi_all_matched = pd.concat([non_resi_all_matched, non_resi_address_merge_match11])"
   ]
  },
  {
   "cell_type": "code",
   "execution_count": 117,
   "id": "e1974dbe",
   "metadata": {},
   "outputs": [],
   "source": [
    "#STRATEGY 12\n",
    "left_columns_12 = ['site_name_LPA_no_pc',  'postcode_sector_x']\n",
    "right_columns_12 = ['parsed_address2',  'postcode_sector']\n",
    "\n",
    "non_resi_address_merge_match12, non_resi_address_merge_no_match12 = my_merge(non_resi_address_merge_no_match11, other_AB, left_columns_12, right_columns_12)"
   ]
  },
  {
   "cell_type": "code",
   "execution_count": 118,
   "id": "0330c7e6",
   "metadata": {},
   "outputs": [
    {
     "data": {
      "text/plain": [
       "0"
      ]
     },
     "execution_count": 118,
     "metadata": {},
     "output_type": "execute_result"
    }
   ],
   "source": [
    "non_resi_address_merge_match12['ID'].nunique() #was 88"
   ]
  },
  {
   "cell_type": "code",
   "execution_count": 119,
   "id": "bee4165b",
   "metadata": {},
   "outputs": [],
   "source": [
    "#STRATEGY 13\n",
    "left_columns_13 = ['site_number_clean', 'street_name',  'postcode_sector_x']\n",
    "right_columns_13 = ['pao_start_number', 'street_description',   'postcode_sector']\n",
    "\n",
    "non_resi_address_merge_match13, non_resi_address_merge_no_match13 = my_merge(non_resi_address_merge_no_match11, other_AB, left_columns_13, right_columns_13)"
   ]
  },
  {
   "cell_type": "code",
   "execution_count": 120,
   "id": "f06df8d2",
   "metadata": {},
   "outputs": [
    {
     "data": {
      "text/plain": [
       "0"
      ]
     },
     "execution_count": 120,
     "metadata": {},
     "output_type": "execute_result"
    }
   ],
   "source": [
    "non_resi_address_merge_match13['ID'].nunique() #was 88"
   ]
  },
  {
   "cell_type": "code",
   "execution_count": 121,
   "id": "e349c41c",
   "metadata": {},
   "outputs": [],
   "source": [
    "non_resi_address_merge_no_match13 = non_resi_address_merge_no_match13.dropna(axis=1, how='all')\n",
    "\n",
    "## Add the merged_on_address_match to the matched\n",
    "non_resi_address_merge_match13 = non_resi_address_merge_match13.rename(columns={\"uprn\": \"uprn_OSAB\"})\n",
    "non_resi_address_merge_match13['match_strategy'] = 'address_13'\n",
    "\n",
    "non_resi_all_matched = pd.concat([non_resi_all_matched, non_resi_address_merge_match13])"
   ]
  },
  {
   "cell_type": "markdown",
   "id": "39876ad6",
   "metadata": {},
   "source": [
    "----- specific address analysis  ---- "
   ]
  },
  {
   "cell_type": "code",
   "execution_count": 71,
   "id": "83452072-fa8b-4bd9-8df8-712049bb007b",
   "metadata": {
    "tags": []
   },
   "outputs": [],
   "source": [
    "## ------------------------------- Post Match  -------------------------------"
   ]
  },
  {
   "cell_type": "code",
   "execution_count": 122,
   "id": "8eee3873-8729-4cfa-9ab6-17e877174e88",
   "metadata": {
    "tags": []
   },
   "outputs": [
    {
     "name": "stdout",
     "output_type": "stream",
     "text": [
      "Resi Match rate:  16.72374429223744\n"
     ]
    }
   ],
   "source": [
    "#print match rate\n",
    "resi_match_rate = 100 * all_matched['ID'].nunique() / london_data['ID'].nunique()\n",
    "\n",
    "print('Resi Match rate: ', resi_match_rate) "
   ]
  },
  {
   "cell_type": "code",
   "execution_count": 124,
   "id": "4912f701",
   "metadata": {},
   "outputs": [
    {
     "data": {
      "text/plain": [
       "293"
      ]
     },
     "execution_count": 124,
     "metadata": {},
     "output_type": "execute_result"
    }
   ],
   "source": [
    "all_matched['ID'].nunique()"
   ]
  },
  {
   "cell_type": "code",
   "execution_count": 123,
   "id": "cad5c34c-b713-4ff6-99ac-6fa528313e1f",
   "metadata": {
    "tags": []
   },
   "outputs": [
    {
     "name": "stdout",
     "output_type": "stream",
     "text": [
      "Other Match rate:  17.69406392694064\n"
     ]
    }
   ],
   "source": [
    "other_match_rate = 100 * non_resi_all_matched['ID'].nunique() / london_data['ID'].nunique()\n",
    "\n",
    "print('Other Match rate: ', other_match_rate) "
   ]
  },
  {
   "cell_type": "code",
   "execution_count": 125,
   "id": "a83bd164",
   "metadata": {},
   "outputs": [
    {
     "data": {
      "text/plain": [
       "310"
      ]
     },
     "execution_count": 125,
     "metadata": {},
     "output_type": "execute_result"
    }
   ],
   "source": [
    "non_resi_all_matched['ID'].nunique()"
   ]
  },
  {
   "cell_type": "code",
   "execution_count": 126,
   "id": "8575f697-728d-480f-9520-5fb95ee038fa",
   "metadata": {
    "tags": []
   },
   "outputs": [],
   "source": [
    "#before export, make all these columns blank instead of 0 \n",
    "#'legal_name', 'sub_building_name', 'building_name','building_number','street_description', 'dependent_locality\tlocality\n",
    "all_matched['street_name'] = all_matched['street_name'].replace(0,'')\n",
    "all_matched['legal_name'] = all_matched['legal_name'].replace(0,'')\n",
    "all_matched['sub_building_name'] = all_matched['sub_building_name'].replace(0,'')\n",
    "all_matched['building_name'] = all_matched['building_name'].replace(0,'')\n",
    "all_matched['building_number'] = all_matched['building_number'].replace(0,'')\n",
    "all_matched['street_description'] = all_matched['street_description'].replace(0,'')\n",
    "all_matched['dependent_locality'] = all_matched['dependent_locality'].replace(0,'')\n",
    "all_matched['locality'] = all_matched['locality'].replace(0,'')\n",
    "all_matched['post_town'] = all_matched['post_town'].replace(0,'')\n",
    "all_matched['postcode'] = np.where(all_matched['postcode'] == 0, all_matched['postcode_clean'], all_matched['postcode'])\n"
   ]
  },
  {
   "cell_type": "code",
   "execution_count": 127,
   "id": "1f807ae3-2cb7-4d0c-a3b1-36f9fe6dd0e3",
   "metadata": {
    "tags": []
   },
   "outputs": [],
   "source": [
    "#write out to csv \n",
    "\n",
    "all_matched.to_csv('London2b_address_matched_1705.csv', index=False) \n",
    "\n",
    "non_resi_all_matched.to_csv('London2b_non_resi_match_1705.csv', index=False)  "
   ]
  },
  {
   "cell_type": "code",
   "execution_count": 128,
   "id": "7c218041-111b-41bc-b6de-b82dbf94a23e",
   "metadata": {
    "tags": []
   },
   "outputs": [],
   "source": [
    "non_resi_address_merge_no_match6.to_csv('London2b_no_match_1705.csv', index = False)"
   ]
  },
  {
   "cell_type": "code",
   "execution_count": null,
   "id": "9c23280e-034a-4b48-8135-b77f728a37e2",
   "metadata": {},
   "outputs": [],
   "source": []
  },
  {
   "cell_type": "code",
   "execution_count": 129,
   "id": "4ea26270",
   "metadata": {},
   "outputs": [],
   "source": [
    "#### some analysis on past records\n",
    "#London2_no_match_2603.csv\n",
    "#London2_non_resi_match_2603.csv\n",
    "#London2_address_matched_2603.csv\n",
    "\n",
    "batch2_no_match = pd.read_csv('data/London2_no_match_2603.csv')"
   ]
  },
  {
   "cell_type": "code",
   "execution_count": 130,
   "id": "92736107",
   "metadata": {},
   "outputs": [],
   "source": [
    "batch2_non_resi = pd.read_csv('data/London2_non_resi_match_2603.csv')\n",
    "batch2_resi = pd.read_csv('data/London2_address_matched_2603.csv')"
   ]
  },
  {
   "cell_type": "code",
   "execution_count": 133,
   "id": "3abcec37",
   "metadata": {},
   "outputs": [
    {
     "data": {
      "text/plain": [
       "ID                              729\n",
       "planning_application_number     990\n",
       "lpa_name                         37\n",
       "application_type                  1\n",
       "application_type_full            17\n",
       "description                     943\n",
       "number_of_units                  59\n",
       "site_number_clean               330\n",
       "street_name                     537\n",
       "postcode_clean                  695\n",
       "site_name_clean                 156\n",
       "site_name_GLA                   747\n",
       "site_name_LPA                   839\n",
       "uprn_x                          228\n",
       "decision                         57\n",
       "status                           10\n",
       "application_date                585\n",
       "decision_date                   667\n",
       "parsed_street_LPA               345\n",
       "parsed_street_GLA                17\n",
       "uprn_OSAB                      5560\n",
       "class                            10\n",
       "parent_uprn                     477\n",
       "latitude                        980\n",
       "longitude                       979\n",
       "country                           1\n",
       "legal_name                        0\n",
       "sub_building_name               648\n",
       "building_name                   317\n",
       "building_number                 229\n",
       "street_description              540\n",
       "dependent_locality               11\n",
       "locality                         56\n",
       "town_name                        85\n",
       "administrative_area              32\n",
       "post_town                        50\n",
       "postcode                        708\n",
       "number_street                   774\n",
       "match_strategy                    5\n",
       "dtype: int64"
      ]
     },
     "execution_count": 133,
     "metadata": {},
     "output_type": "execute_result"
    }
   ],
   "source": [
    "batch2_resi.nunique() #1752 no match , 676 non resi , 729 resi"
   ]
  },
  {
   "cell_type": "code",
   "execution_count": null,
   "id": "7f129f81",
   "metadata": {},
   "outputs": [],
   "source": []
  }
 ],
 "metadata": {
  "kernelspec": {
   "display_name": "sds2023",
   "language": "python",
   "name": "sds2023"
  },
  "language_info": {
   "codemirror_mode": {
    "name": "ipython",
    "version": 3
   },
   "file_extension": ".py",
   "mimetype": "text/x-python",
   "name": "python",
   "nbconvert_exporter": "python",
   "pygments_lexer": "ipython3",
   "version": "3.11.7"
  },
  "toc-autonumbering": true
 },
 "nbformat": 4,
 "nbformat_minor": 5
}
