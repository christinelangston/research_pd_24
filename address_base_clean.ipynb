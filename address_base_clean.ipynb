{
 "cells": [
  {
   "cell_type": "code",
   "execution_count": 1,
   "id": "58454128-a26f-4b6d-87fc-f95e7868ea2f",
   "metadata": {
    "tags": []
   },
   "outputs": [],
   "source": [
    "\n",
    "#In this script, we read in the OSAddressBase file. We only take in the fields that we need for the matching process.\n",
    "# Then, we combine a few fields to create new address columns\n",
    "# We also add a column of postcode sector (the postcode minus the last two characters)\n",
    "# Then we divide the data into a residential dataset and other dataset based on 'class'\n",
    "\n",
    "\n",
    "## INPUTS: from the OneDrive: OS ADDRESSBASE file ab_plus_england_202308150944.csv\n",
    "## OUTPUTS: Residential and Other address base CSVs"
   ]
  },
  {
   "cell_type": "code",
   "execution_count": 2,
   "id": "494253d9-beec-4058-a28e-494b44ac9a0f",
   "metadata": {
    "tags": []
   },
   "outputs": [],
   "source": [
    "import pandas as pd\n",
    "import time\n",
    "import numpy as np\n",
    "import copy\n",
    "import re"
   ]
  },
  {
   "cell_type": "code",
   "execution_count": 3,
   "id": "1b7f3e13-4920-4541-9db4-a0052a670863",
   "metadata": {
    "tags": []
   },
   "outputs": [],
   "source": [
    "#create a function to iterate through csv. use for OSAddressBase file\n",
    "def read_csv(file_name, columns):\n",
    "    for chunk in pd.read_csv(file_name, chunksize=10000, usecols=columns, \n",
    "                            dtype={'urpn':int, 'parent_urpn': int, 'class': str, 'latitude': float, \n",
    "                                    'longitude': float, 'country': str, 'legal_name': str, \n",
    "                                      'sub_building_name': str, 'building_name': str, 'building_number':'float64', \n",
    "                                  'sao_start_number': 'float64', 'sao_start_suffix': str,'sao_end_number': 'float64', \n",
    "                                  'sao_end_suffix': str, 'sao_text': str, 'pao_start_number': 'float64', 'pao_start_suffix':str, \n",
    "                                  'pao_end_number':'float64', 'pao_end_suffix': str , 'pao_text': str, 'street_description': str} \n",
    "                               , \n",
    "                             low_memory=False):\n",
    "    \n",
    "        yield chunk\n"
   ]
  },
  {
   "cell_type": "code",
   "execution_count": 4,
   "id": "ad1c9f28-f89c-433f-bfb6-4995ff45e66a",
   "metadata": {
    "tags": []
   },
   "outputs": [],
   "source": [
    "\"\"\"\n",
    "fewer_columns  = ['uprn', 'parent_uprn', 'class', 'latitude', 'longitude', 'country' ]\n",
    "all_columns = ['uprn', 'parent_uprn', 'class', 'latitude', 'longitude', 'country', 'legal_name','sub_building_name',\n",
    "           'building_name','building_number','sao_start_number','sao_start_suffix','sao_end_number',\n",
    "           'sao_end_suffix','sao_text','alt_language_sao_text','pao_start_number','pao_start_suffix',\n",
    "           'pao_end_number','pao_end_suffix','pao_text','alt_language_pao_text','usrn','usrn_match_indicator',\n",
    "           'area_name','level','official_flag','os_address_toid','os_address_toid_version','os_roadlink_toid',\n",
    "           'os_roadlink_toid_version','os_topo_toid','os_topo_toid_version','voa_ct_record','voa_ndr_record',\n",
    "           'street_description','alt_language_street_description','dependent_thoroughfare','thoroughfare',\n",
    "           'double_dependent_locality','dependent_locality','locality', 'town_name', \n",
    "          'administrative_area','post_town','postcode','postcode_locator' ]\n",
    "\n",
    "   \n",
    "                                   'dependent_locality': str, 'locality': object, 'town_name': str, \n",
    "                                  'administrative_area': str, 'post_town': str,  'postcode': str, \n",
    "                                  'postcode_locator': str}\n",
    "\"\"\"\n",
    "\n",
    "address_matching_columns = ['uprn', 'parent_uprn', 'class', 'latitude', 'longitude', 'country',\n",
    "                    'legal_name','sub_building_name', 'building_name','building_number',\n",
    "                    'sao_start_number','sao_start_suffix','sao_end_number',\n",
    "           'sao_end_suffix','sao_text', 'pao_start_number','pao_start_suffix',\n",
    "           'pao_end_number','pao_end_suffix','pao_text', 'street_description',\n",
    "                    'dependent_locality','locality', 'town_name', 'administrative_area','post_town','postcode', 'postcode_locator' ]\n",
    "\n",
    "address_base_file = \"/Users/christine/Documents/_UCL_grad school/research/research_pd_24/data/ab_plus_england_202308150944.csv\"\n"
   ]
  },
  {
   "cell_type": "code",
   "execution_count": 5,
   "id": "cc70c1bd-e1fd-4370-ba58-1be3c0e1059a",
   "metadata": {
    "tags": []
   },
   "outputs": [
    {
     "name": "stdout",
     "output_type": "stream",
     "text": [
      "seconds:  331.6477301120758\n"
     ]
    }
   ],
   "source": [
    "#read in the address base data - 32 Million rows\n",
    "t = time.time()\n",
    "df_lst = [] \n",
    "\n",
    "\n",
    "# Iterate over the file based on the criteria and append to the list\n",
    "for df in read_csv(address_base_file, address_matching_columns):\n",
    "    df_lst +=   [df.copy()] \n",
    "\n",
    "# And finally combine filtered df_lst into the final larger output say 'df_final' dataframe \n",
    "df_final = pd.concat(df_lst)\n",
    "print('seconds: ', time.time() - t)"
   ]
  },
  {
   "cell_type": "code",
   "execution_count": 6,
   "id": "3638216e",
   "metadata": {},
   "outputs": [],
   "source": [
    "def combine_columns_1(row): \n",
    "    columns = ['sao_text','pao_text',  'pao_start_number', 'street_description']\n",
    "    list_ = [str(row[x]) for x in columns]\n",
    "    return ', '.join(filter(None, list_))"
   ]
  },
  {
   "cell_type": "code",
   "execution_count": 7,
   "id": "1eab09d8",
   "metadata": {},
   "outputs": [],
   "source": [
    "def combine_columns_2(row): \n",
    "    columns = ['sub_building_name', 'building_name','building_number', 'street_description']\n",
    "    list_ = [str(row[x]) for x in columns]\n",
    "    return ', '.join(filter(None, list_))"
   ]
  },
  {
   "cell_type": "code",
   "execution_count": 8,
   "id": "f46fba08-a571-4ad7-90b7-c231c3aad1fa",
   "metadata": {
    "tags": []
   },
   "outputs": [],
   "source": [
    "df_final['building_number'] = df_final['building_number'].astype('Int64').astype('str') "
   ]
  },
  {
   "cell_type": "code",
   "execution_count": 10,
   "id": "e39d8f19",
   "metadata": {},
   "outputs": [],
   "source": [
    "df_final['pao_start_number'] = df_final['pao_start_number'].astype('Int64').astype('str') "
   ]
  },
  {
   "cell_type": "code",
   "execution_count": 12,
   "id": "12ea0673-f9e7-4f99-8096-38c0a60a084e",
   "metadata": {},
   "outputs": [],
   "source": [
    "# here I am replacing the Nans with e\n",
    "df_final = df_final.replace([np.nan, -np.inf], '')\n"
   ]
  },
  {
   "cell_type": "code",
   "execution_count": 13,
   "id": "b9865e12-8ba6-4f44-8181-a0b1822daa4b",
   "metadata": {},
   "outputs": [],
   "source": [
    "# add in the replacement for NA (in building number) so that it is just empty string\n",
    "df_final = df_final.replace('<NA>', '')"
   ]
  },
  {
   "cell_type": "code",
   "execution_count": 14,
   "id": "9b1848e9-bd5f-49f7-8d8c-c871fd3a5ca5",
   "metadata": {
    "tags": []
   },
   "outputs": [
    {
     "data": {
      "text/html": [
       "<div>\n",
       "<style scoped>\n",
       "    .dataframe tbody tr th:only-of-type {\n",
       "        vertical-align: middle;\n",
       "    }\n",
       "\n",
       "    .dataframe tbody tr th {\n",
       "        vertical-align: top;\n",
       "    }\n",
       "\n",
       "    .dataframe thead th {\n",
       "        text-align: right;\n",
       "    }\n",
       "</style>\n",
       "<table border=\"1\" class=\"dataframe\">\n",
       "  <thead>\n",
       "    <tr style=\"text-align: right;\">\n",
       "      <th></th>\n",
       "      <th>uprn</th>\n",
       "      <th>class</th>\n",
       "      <th>parent_uprn</th>\n",
       "      <th>latitude</th>\n",
       "      <th>longitude</th>\n",
       "      <th>country</th>\n",
       "      <th>legal_name</th>\n",
       "      <th>sub_building_name</th>\n",
       "      <th>building_name</th>\n",
       "      <th>building_number</th>\n",
       "      <th>...</th>\n",
       "      <th>pao_end_suffix</th>\n",
       "      <th>pao_text</th>\n",
       "      <th>street_description</th>\n",
       "      <th>dependent_locality</th>\n",
       "      <th>locality</th>\n",
       "      <th>town_name</th>\n",
       "      <th>administrative_area</th>\n",
       "      <th>post_town</th>\n",
       "      <th>postcode</th>\n",
       "      <th>postcode_locator</th>\n",
       "    </tr>\n",
       "  </thead>\n",
       "  <tbody>\n",
       "    <tr>\n",
       "      <th>0</th>\n",
       "      <td>10012778289</td>\n",
       "      <td>RD02</td>\n",
       "      <td></td>\n",
       "      <td>54.036005</td>\n",
       "      <td>-2.340833</td>\n",
       "      <td>E</td>\n",
       "      <td></td>\n",
       "      <td></td>\n",
       "      <td></td>\n",
       "      <td></td>\n",
       "      <td>...</td>\n",
       "      <td></td>\n",
       "      <td>SCOUTBER END FARM</td>\n",
       "      <td>OLD OLIVER LANE TO RAGGED HALL</td>\n",
       "      <td></td>\n",
       "      <td>RATHMELL</td>\n",
       "      <td>SETTLE</td>\n",
       "      <td>NORTH YORKSHIRE</td>\n",
       "      <td></td>\n",
       "      <td></td>\n",
       "      <td>BD24 0LP</td>\n",
       "    </tr>\n",
       "    <tr>\n",
       "      <th>1</th>\n",
       "      <td>10013268085</td>\n",
       "      <td>LU01</td>\n",
       "      <td></td>\n",
       "      <td>51.628915</td>\n",
       "      <td>0.471228</td>\n",
       "      <td>E</td>\n",
       "      <td></td>\n",
       "      <td></td>\n",
       "      <td></td>\n",
       "      <td></td>\n",
       "      <td>...</td>\n",
       "      <td></td>\n",
       "      <td>MEEPSWOOD</td>\n",
       "      <td>PARK LANE</td>\n",
       "      <td></td>\n",
       "      <td>RAMSDEN HEATH</td>\n",
       "      <td>CHELMSFORD</td>\n",
       "      <td>ESSEX</td>\n",
       "      <td></td>\n",
       "      <td></td>\n",
       "      <td>CM11 1NN</td>\n",
       "    </tr>\n",
       "    <tr>\n",
       "      <th>2</th>\n",
       "      <td>10013819934</td>\n",
       "      <td>RG02</td>\n",
       "      <td>10013819576.0</td>\n",
       "      <td>54.780687</td>\n",
       "      <td>-1.510651</td>\n",
       "      <td>E</td>\n",
       "      <td></td>\n",
       "      <td></td>\n",
       "      <td></td>\n",
       "      <td></td>\n",
       "      <td>...</td>\n",
       "      <td></td>\n",
       "      <td>GARAGE SITE 53</td>\n",
       "      <td>DOWSEY ROAD</td>\n",
       "      <td></td>\n",
       "      <td></td>\n",
       "      <td>SHERBURN</td>\n",
       "      <td>DURHAM</td>\n",
       "      <td></td>\n",
       "      <td></td>\n",
       "      <td>DH6 1JH</td>\n",
       "    </tr>\n",
       "    <tr>\n",
       "      <th>3</th>\n",
       "      <td>10014205932</td>\n",
       "      <td>PS</td>\n",
       "      <td></td>\n",
       "      <td>51.590568</td>\n",
       "      <td>0.600675</td>\n",
       "      <td>E</td>\n",
       "      <td></td>\n",
       "      <td></td>\n",
       "      <td></td>\n",
       "      <td></td>\n",
       "      <td>...</td>\n",
       "      <td></td>\n",
       "      <td>STREET RECORD</td>\n",
       "      <td>FOOTPATH FROM GLEBE DRIVE TO THE APPROACH</td>\n",
       "      <td></td>\n",
       "      <td></td>\n",
       "      <td>RAYLEIGH</td>\n",
       "      <td>ESSEX</td>\n",
       "      <td></td>\n",
       "      <td></td>\n",
       "      <td>SS6 9HJ</td>\n",
       "    </tr>\n",
       "    <tr>\n",
       "      <th>4</th>\n",
       "      <td>10014309637</td>\n",
       "      <td>RD04</td>\n",
       "      <td>200003655499.0</td>\n",
       "      <td>51.266510</td>\n",
       "      <td>0.497553</td>\n",
       "      <td>E</td>\n",
       "      <td></td>\n",
       "      <td></td>\n",
       "      <td></td>\n",
       "      <td></td>\n",
       "      <td>...</td>\n",
       "      <td></td>\n",
       "      <td></td>\n",
       "      <td>MILTON STREET</td>\n",
       "      <td></td>\n",
       "      <td></td>\n",
       "      <td>MAIDSTONE</td>\n",
       "      <td>KENT</td>\n",
       "      <td></td>\n",
       "      <td></td>\n",
       "      <td>ME16 8LD</td>\n",
       "    </tr>\n",
       "  </tbody>\n",
       "</table>\n",
       "<p>5 rows × 28 columns</p>\n",
       "</div>"
      ],
      "text/plain": [
       "          uprn class     parent_uprn   latitude  longitude country legal_name  \\\n",
       "0  10012778289  RD02                  54.036005  -2.340833       E              \n",
       "1  10013268085  LU01                  51.628915   0.471228       E              \n",
       "2  10013819934  RG02   10013819576.0  54.780687  -1.510651       E              \n",
       "3  10014205932    PS                  51.590568   0.600675       E              \n",
       "4  10014309637  RD04  200003655499.0  51.266510   0.497553       E              \n",
       "\n",
       "  sub_building_name building_name building_number  ... pao_end_suffix  \\\n",
       "0                                                  ...                  \n",
       "1                                                  ...                  \n",
       "2                                                  ...                  \n",
       "3                                                  ...                  \n",
       "4                                                  ...                  \n",
       "\n",
       "            pao_text                         street_description  \\\n",
       "0  SCOUTBER END FARM             OLD OLIVER LANE TO RAGGED HALL   \n",
       "1          MEEPSWOOD                                  PARK LANE   \n",
       "2     GARAGE SITE 53                                DOWSEY ROAD   \n",
       "3      STREET RECORD  FOOTPATH FROM GLEBE DRIVE TO THE APPROACH   \n",
       "4                                                 MILTON STREET   \n",
       "\n",
       "  dependent_locality       locality   town_name administrative_area post_town  \\\n",
       "0                          RATHMELL      SETTLE     NORTH YORKSHIRE             \n",
       "1                     RAMSDEN HEATH  CHELMSFORD               ESSEX             \n",
       "2                                      SHERBURN              DURHAM             \n",
       "3                                      RAYLEIGH               ESSEX             \n",
       "4                                     MAIDSTONE                KENT             \n",
       "\n",
       "  postcode postcode_locator  \n",
       "0                  BD24 0LP  \n",
       "1                  CM11 1NN  \n",
       "2                   DH6 1JH  \n",
       "3                   SS6 9HJ  \n",
       "4                  ME16 8LD  \n",
       "\n",
       "[5 rows x 28 columns]"
      ]
     },
     "execution_count": 14,
     "metadata": {},
     "output_type": "execute_result"
    }
   ],
   "source": [
    "df_final.head()"
   ]
  },
  {
   "cell_type": "code",
   "execution_count": 15,
   "id": "1150c5d4-30d7-43f0-8863-66c290b29d67",
   "metadata": {
    "tags": []
   },
   "outputs": [
    {
     "name": "stdout",
     "output_type": "stream",
     "text": [
      "CPU times: user 17min 38s, sys: 6min 11s, total: 23min 49s\n",
      "Wall time: 28min 21s\n"
     ]
    }
   ],
   "source": [
    "%%time\n",
    "## Add the column that adds parsed string to the entire dataset...\n",
    "df_final['parsed_address1'] = df_final.apply(combine_columns_1, axis = 1)\n",
    "df_final['parsed_address2'] = df_final.apply(combine_columns_2, axis = 1)"
   ]
  },
  {
   "cell_type": "code",
   "execution_count": 16,
   "id": "56d844fb",
   "metadata": {},
   "outputs": [],
   "source": [
    "#also create a third column alternate address\n",
    "df_final['parsed_address3'] = df_final[['building_name', 'town_name', 'post_town']].agg(lambda x: ', '.join(x[~x.isnull()].values), axis=1)"
   ]
  },
  {
   "cell_type": "code",
   "execution_count": 17,
   "id": "119f08ea",
   "metadata": {},
   "outputs": [],
   "source": [
    "#create a new column that is just the postcode sector (the postcode minus the last two characters)\n",
    "df_final['postcode_sector'] = df_final['postcode_locator'].apply(lambda x: x[:-2])"
   ]
  },
  {
   "cell_type": "code",
   "execution_count": 18,
   "id": "e8df4c4d-008a-434c-8a49-fce41449c246",
   "metadata": {
    "tags": []
   },
   "outputs": [],
   "source": [
    "#Divide the Address Base data into residential use class and other use class \n",
    "resi_AB = df_final[df_final['class'].str.startswith('R')] \n",
    "other_AB = df_final[df_final['class'].str.startswith('R') == False] "
   ]
  },
  {
   "cell_type": "code",
   "execution_count": 20,
   "id": "7d7bf4a1-cc59-4f47-98ae-4c4e6fcc379f",
   "metadata": {},
   "outputs": [],
   "source": [
    "# DATA EXPLORATION - EXPORT CSV IF NEEDED \n",
    "resi_AB.to_csv('resi_AB_cleaned_parsed_140624.csv', index = False)"
   ]
  },
  {
   "cell_type": "code",
   "execution_count": 21,
   "id": "a0ed9f83-231e-4fe7-a395-1eb59939e599",
   "metadata": {},
   "outputs": [],
   "source": [
    "# DATA EXPLORATION - EXPORT CSV IF NEEDED \n",
    "other_AB.to_csv('other_AB_cleaned_parsed_140624.csv', index = False)"
   ]
  }
 ],
 "metadata": {
  "kernelspec": {
   "display_name": "sds2023",
   "language": "python",
   "name": "sds2023"
  },
  "language_info": {
   "codemirror_mode": {
    "name": "ipython",
    "version": 3
   },
   "file_extension": ".py",
   "mimetype": "text/x-python",
   "name": "python",
   "nbconvert_exporter": "python",
   "pygments_lexer": "ipython3",
   "version": "3.11.7"
  }
 },
 "nbformat": 4,
 "nbformat_minor": 5
}
