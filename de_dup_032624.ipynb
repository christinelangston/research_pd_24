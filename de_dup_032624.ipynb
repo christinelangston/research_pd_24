{
 "cells": [
  {
   "cell_type": "code",
   "execution_count": 1,
   "id": "7472c646-3b1b-42a8-ac0f-041b4be029f2",
   "metadata": {
    "tags": []
   },
   "outputs": [],
   "source": [
    "# read in the csv and then work on splitting the data...\n",
    "import pandas as pd\n",
    "import time\n",
    "import numpy as np\n",
    "import copy\n",
    "import re"
   ]
  },
  {
   "cell_type": "code",
   "execution_count": 2,
   "id": "6e434e8f-17ec-458f-83f9-2d568e9b958a",
   "metadata": {
    "tags": []
   },
   "outputs": [],
   "source": [
    "nana_process_file = \"/Users/christine/Documents/_UCL_grad school/research/Batch2_London_filtered_with_manual&Glenigan.csv\"\n"
   ]
  },
  {
   "cell_type": "code",
   "execution_count": 3,
   "id": "16dac42d-b884-4ac9-8602-a6cd6d4ab77e",
   "metadata": {
    "tags": []
   },
   "outputs": [],
   "source": [
    "london_data = pd.read_csv(nana_process_file)"
   ]
  },
  {
   "cell_type": "code",
   "execution_count": 10,
   "id": "02cc7de4-e596-4d9e-9d8c-080a91dfe3f4",
   "metadata": {
    "tags": []
   },
   "outputs": [
    {
     "data": {
      "text/plain": [
       "5638"
      ]
     },
     "execution_count": 10,
     "metadata": {},
     "output_type": "execute_result"
    }
   ],
   "source": [
    "len(london_data)"
   ]
  },
  {
   "cell_type": "code",
   "execution_count": 12,
   "id": "9e4b22e5-dd9d-481d-bae6-f470f8359bc2",
   "metadata": {
    "tags": []
   },
   "outputs": [
    {
     "data": {
      "text/plain": [
       "5638"
      ]
     },
     "execution_count": 12,
     "metadata": {},
     "output_type": "execute_result"
    }
   ],
   "source": [
    "len(london_data)"
   ]
  },
  {
   "cell_type": "code",
   "execution_count": 21,
   "id": "84284d15-b077-4c60-8c5e-0417566d271f",
   "metadata": {
    "tags": []
   },
   "outputs": [],
   "source": [
    "\n",
    "  elif '-' in london_data.loc[i, 'site_number_clean']:\n",
    "        nums = london_data.loc[i, 'site_number_clean'].split('-')\n",
    "        print('- ', nums)\n",
    "        for n in range(len(nums)): \n",
    "            new_row = london_data.loc[i]\n",
    "            print(new_row)\n",
    "            new_row['site_number_clean'] = nums[n] \n",
    "            print(new_row)\n",
    "            new_data.append(i)\n",
    "            #print(new_data)\n",
    " #'a;bcd,ef g'.replace(';',' ').replace(',',' ').split()\n",
    "london_data.loc[i, 'site_number_clean'].replace(',', '&')\n"
   ]
  },
  {
   "cell_type": "code",
   "execution_count": 42,
   "id": "4066ff00-c4e6-4b65-8d26-28c653675d8d",
   "metadata": {
    "tags": []
   },
   "outputs": [
    {
     "name": "stdout",
     "output_type": "stream",
     "text": [
      "['21 ', ' 21A']\n",
      "['21 ', ' 21A']\n",
      "['21 ', ' 21A']\n",
      "['21 ', ' 21A']\n",
      "['21 ', ' 21A']\n",
      "['21 ', ' 21A']\n",
      "['21 ', ' 21A']\n",
      "['15 ', ' 17']\n",
      "['1 ', ' 2']\n",
      "['1, 2, 3 ', ' 4']\n",
      "['560, 562 ', ' 562A']\n",
      "['2A ', ' 2B']\n",
      "['1A ', ' 1B']\n",
      "['108 ', ' 108A']\n",
      "['1 ', ' 1A']\n",
      "['87A ', ' 89B']\n",
      "['69 ', ' 71']\n",
      "['64-70  ', ' 43-49']\n",
      "['17 ', ' 27']\n",
      "['17 ', ' 27']\n",
      "['17 ', ' 27']\n",
      "['17 ', ' 27']\n",
      "['17 ', ' 27']\n",
      "['17 ', ' 27']\n",
      "['17 ', ' 27']\n",
      "['17 ', ' 27']\n",
      "['1 ', ' 2']\n",
      "['112A, 112B ', ' 112C']\n",
      "['8A ', ' 12A']\n",
      "['10 ', ' 12']\n",
      "['27A ', ' 85-91']\n",
      "['27A ', ' 85-91']\n",
      "['29 ', ' 30']\n",
      "['17 ', ' 39']\n",
      "['17 ', ' 39']\n",
      "['15 ', ' 16']\n",
      "['2B ', ' 2C']\n",
      "['2B ', ' 2C']\n",
      "['2 2A ', ' 4']\n",
      "['2 2A ', ' 4']\n",
      "['147 ', ' 12']\n"
     ]
    },
    {
     "name": "stderr",
     "output_type": "stream",
     "text": [
      "/var/folders/0b/k156jw2x3rz7y1k26v1wkh880000gn/T/ipykernel_12751/680933034.py:16: SettingWithCopyWarning: \n",
      "A value is trying to be set on a copy of a slice from a DataFrame\n",
      "\n",
      "See the caveats in the documentation: https://pandas.pydata.org/pandas-docs/stable/user_guide/indexing.html#returning-a-view-versus-a-copy\n",
      "  new_row['site_number_clean'] = nums[n]\n"
     ]
    }
   ],
   "source": [
    "## '-', '&', ','\n",
    "\n",
    "\n",
    "new_data = []\n",
    "for i in range(len(london_data)):\n",
    "   # print(i)\n",
    "   # print(london_data.loc[i, 'site_number_clean'])\n",
    "    if pd.isna(london_data.loc[i, 'site_number_clean']): \n",
    "        pass \n",
    "    elif '&' in london_data.loc[i, 'site_number_clean']:\n",
    "        #print(london_data.loc[i]) \n",
    "        nums = london_data.loc[i, 'site_number_clean'].split('&')\n",
    "        print(nums)\n",
    "        for n in range(len(nums)): \n",
    "            new_row = london_data.loc[i]\n",
    "            new_row['site_number_clean'] = nums[n]\n",
    "          #  print(new_row)\n",
    "            new_data.append(new_row)\n",
    "   # else: \n",
    "    #    new_data.append(london_data.loc[i])\n",
    "   "
   ]
  },
  {
   "cell_type": "code",
   "execution_count": null,
   "id": "6e697a01-f7fb-48ce-9434-241d0006868d",
   "metadata": {},
   "outputs": [],
   "source": [
    " elif '-' in london_data.loc[i, 'site_number_clean']:\n",
    "        nums = london_data.loc[i, 'site_number_clean'].split('-')\n",
    "        print('- ', nums)\n",
    "        for n in nums: \n",
    "            new_row = london_data.loc[i]\n",
    "            new_row['site_number_clean'] = n.strip() \n",
    "            print(new_row)\n",
    "            london_data.append(new_row)\n",
    "   "
   ]
  },
  {
   "cell_type": "code",
   "execution_count": null,
   "id": "06834833-7514-43b0-af85-ed6300a113a3",
   "metadata": {},
   "outputs": [],
   "source": [
    "#if it has a '-', then separate and fill in additional numbers \n",
    "# if it has an &, then separate into two rows \n",
    "\n"
   ]
  }
 ],
 "metadata": {
  "kernelspec": {
   "display_name": "sds2023",
   "language": "python",
   "name": "sds2023"
  },
  "language_info": {
   "codemirror_mode": {
    "name": "ipython",
    "version": 3
   },
   "file_extension": ".py",
   "mimetype": "text/x-python",
   "name": "python",
   "nbconvert_exporter": "python",
   "pygments_lexer": "ipython3",
   "version": "3.11.7"
  }
 },
 "nbformat": 4,
 "nbformat_minor": 5
}
