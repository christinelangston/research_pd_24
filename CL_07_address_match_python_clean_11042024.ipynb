{
 "cells": [
  {
   "cell_type": "code",
   "execution_count": 1,
   "id": "4c500459-056e-402d-a9b8-118a319c50d3",
   "metadata": {},
   "outputs": [],
   "source": [
    "\"\"\" Script to clean datasets\n",
    "    Input: AddressBase\n",
    "    Output: Address Base -> Resi_AB and Other_AB\n",
    "\n",
    "Written by: Christine Langston, March 2024\n",
    "\"\"\"\n",
    "import pandas as pd\n",
    "import time\n",
    "import numpy as np\n",
    "import copy\n",
    "import re"
   ]
  },
  {
   "cell_type": "code",
   "execution_count": 2,
   "id": "91b509a4-72c7-4f63-b2bb-0c53bcbe6e61",
   "metadata": {
    "tags": []
   },
   "outputs": [],
   "source": [
    "#create a function to iterate through csv. use for OSAddressBase file\n",
    "def read_csv(file_name, columns):\n",
    "    for chunk in pd.read_csv(file_name, chunksize=10000, usecols=columns, \n",
    "                            dtype={'urpn':int, 'parent_urpn': int, 'class': str, 'latitude': float, \n",
    "                                    'longitude': float, 'country': str, 'legal_name': str, \n",
    "                                      'sub_building_name': str, 'building_name': str, 'building_number':'float64', \n",
    "                                  'sao_start_number': 'float64', 'sao_start_suffix': str,'sao_end_number': 'float64', \n",
    "                                  'sao_end_suffix': str, 'sao_text': str, 'pao_start_number': 'float64', 'pao_start_suffix':str, \n",
    "                                  'pao_end_number':'float64', 'pao_end_suffix': str , 'pao_text': str, 'street_description': str} \n",
    "                               , \n",
    "                             low_memory=False):\n",
    "        yield chunk\n"
   ]
  },
  {
   "cell_type": "code",
   "execution_count": 5,
   "id": "4cc08158-0950-4fee-953e-b90039e59f34",
   "metadata": {
    "tags": []
   },
   "outputs": [],
   "source": [
    "# Set the columns and datasource\n",
    "\"\"\"\n",
    "fewer_columns  = ['uprn', 'parent_uprn', 'class', 'latitude', 'longitude', 'country' ]\n",
    "all_columns = ['uprn', 'parent_uprn', 'class', 'latitude', 'longitude', 'country', 'legal_name','sub_building_name',\n",
    "           'building_name','building_number','sao_start_number','sao_start_suffix','sao_end_number',\n",
    "           'sao_end_suffix','sao_text','alt_language_sao_text','pao_start_number','pao_start_suffix',\n",
    "           'pao_end_number','pao_end_suffix','pao_text','alt_language_pao_text','usrn','usrn_match_indicator',\n",
    "           'area_name','level','official_flag','os_address_toid','os_address_toid_version','os_roadlink_toid',\n",
    "           'os_roadlink_toid_version','os_topo_toid','os_topo_toid_version','voa_ct_record','voa_ndr_record',\n",
    "           'street_description','alt_language_street_description','dependent_thoroughfare','thoroughfare',\n",
    "           'double_dependent_locality','dependent_locality','locality', 'town_name', \n",
    "          'administrative_area','post_town','postcode','postcode_locator' ]\n",
    "\"\"\"\n",
    "\n",
    "address_matching_columns = ['uprn', 'parent_uprn', 'class', 'latitude', 'longitude', 'country',\n",
    "                    'legal_name','sub_building_name', 'building_name','building_number',\n",
    "                    'sao_start_number','sao_start_suffix','sao_end_number',\n",
    "           'sao_end_suffix','sao_text', 'pao_start_number','pao_start_suffix',\n",
    "           'pao_end_number','pao_end_suffix','pao_text', 'street_description',\n",
    "                    'dependent_locality','locality', 'town_name', 'administrative_area','post_town','postcode', \n",
    "                                                        'postcode_locator', 'parsed_address' ]\n",
    "\n",
    "address_base_file = \"/Users/christine/Documents/_UCL_grad school/research/resi_AB_cleaned_parsed_280324.csv\"\n"
   ]
  },
  {
   "cell_type": "code",
   "execution_count": 6,
   "id": "f2187d93-6f1a-4066-9ec2-f0bbebf2bb50",
   "metadata": {
    "tags": []
   },
   "outputs": [
    {
     "name": "stdout",
     "output_type": "stream",
     "text": [
      "seconds:  229.36897921562195\n"
     ]
    }
   ],
   "source": [
    "#read in the address base data - 32 Million rows\n",
    "t = time.time()\n",
    "df_lst = [] \n",
    "\n",
    "\n",
    "# Iterate over the file based on the criteria and append to the list\n",
    "for df in read_csv(address_base_file, address_matching_columns):\n",
    "    df_lst +=   [df.copy()] \n",
    "\n",
    "# And finally combine filtered df_lst into the final larger output say 'df_final' dataframe \n",
    "df_final = pd.concat(df_lst)\n",
    "print('seconds: ', time.time() - t)"
   ]
  },
  {
   "cell_type": "code",
   "execution_count": 9,
   "id": "a4347edd-a5e2-4167-b313-275fe78b2921",
   "metadata": {
    "tags": []
   },
   "outputs": [],
   "source": [
    "#check the data... \n",
    "\n",
    "df_final = df_final.replace([np.nan, -np.inf], '')\n"
   ]
  },
  {
   "cell_type": "code",
   "execution_count": 10,
   "id": "5e07221b-e766-4cbd-b7ef-1054ff117810",
   "metadata": {
    "tags": []
   },
   "outputs": [
    {
     "data": {
      "text/html": [
       "<div>\n",
       "<style scoped>\n",
       "    .dataframe tbody tr th:only-of-type {\n",
       "        vertical-align: middle;\n",
       "    }\n",
       "\n",
       "    .dataframe tbody tr th {\n",
       "        vertical-align: top;\n",
       "    }\n",
       "\n",
       "    .dataframe thead th {\n",
       "        text-align: right;\n",
       "    }\n",
       "</style>\n",
       "<table border=\"1\" class=\"dataframe\">\n",
       "  <thead>\n",
       "    <tr style=\"text-align: right;\">\n",
       "      <th></th>\n",
       "      <th>uprn</th>\n",
       "      <th>class</th>\n",
       "      <th>parent_uprn</th>\n",
       "      <th>latitude</th>\n",
       "      <th>longitude</th>\n",
       "      <th>country</th>\n",
       "      <th>legal_name</th>\n",
       "      <th>sub_building_name</th>\n",
       "      <th>building_name</th>\n",
       "      <th>building_number</th>\n",
       "      <th>...</th>\n",
       "      <th>pao_text</th>\n",
       "      <th>street_description</th>\n",
       "      <th>dependent_locality</th>\n",
       "      <th>locality</th>\n",
       "      <th>town_name</th>\n",
       "      <th>administrative_area</th>\n",
       "      <th>post_town</th>\n",
       "      <th>postcode</th>\n",
       "      <th>postcode_locator</th>\n",
       "      <th>parsed_address</th>\n",
       "    </tr>\n",
       "  </thead>\n",
       "  <tbody>\n",
       "    <tr>\n",
       "      <th>0</th>\n",
       "      <td>10012778289</td>\n",
       "      <td>RD02</td>\n",
       "      <td></td>\n",
       "      <td>54.036005</td>\n",
       "      <td>-2.340833</td>\n",
       "      <td>E</td>\n",
       "      <td></td>\n",
       "      <td></td>\n",
       "      <td></td>\n",
       "      <td></td>\n",
       "      <td>...</td>\n",
       "      <td>SCOUTBER END FARM</td>\n",
       "      <td>OLD OLIVER LANE TO RAGGED HALL</td>\n",
       "      <td></td>\n",
       "      <td>RATHMELL</td>\n",
       "      <td>SETTLE</td>\n",
       "      <td>NORTH YORKSHIRE</td>\n",
       "      <td></td>\n",
       "      <td></td>\n",
       "      <td>BD24 0LP</td>\n",
       "      <td>&lt;NA&gt;, SCOUTBER END FARM, OLD OLIVER LANE TO RA...</td>\n",
       "    </tr>\n",
       "    <tr>\n",
       "      <th>1</th>\n",
       "      <td>10013819934</td>\n",
       "      <td>RG02</td>\n",
       "      <td>10013819576.0</td>\n",
       "      <td>54.780687</td>\n",
       "      <td>-1.510651</td>\n",
       "      <td>E</td>\n",
       "      <td></td>\n",
       "      <td></td>\n",
       "      <td></td>\n",
       "      <td></td>\n",
       "      <td>...</td>\n",
       "      <td>GARAGE SITE 53</td>\n",
       "      <td>DOWSEY ROAD</td>\n",
       "      <td></td>\n",
       "      <td></td>\n",
       "      <td>SHERBURN</td>\n",
       "      <td>DURHAM</td>\n",
       "      <td></td>\n",
       "      <td></td>\n",
       "      <td>DH6 1JH</td>\n",
       "      <td>&lt;NA&gt;, 22.0, GARAGE SITE 53, DOWSEY ROAD</td>\n",
       "    </tr>\n",
       "    <tr>\n",
       "      <th>2</th>\n",
       "      <td>10014309637</td>\n",
       "      <td>RD04</td>\n",
       "      <td>200003655499.0</td>\n",
       "      <td>51.266510</td>\n",
       "      <td>0.497553</td>\n",
       "      <td>E</td>\n",
       "      <td></td>\n",
       "      <td></td>\n",
       "      <td></td>\n",
       "      <td></td>\n",
       "      <td>...</td>\n",
       "      <td></td>\n",
       "      <td>MILTON STREET</td>\n",
       "      <td></td>\n",
       "      <td></td>\n",
       "      <td>MAIDSTONE</td>\n",
       "      <td>KENT</td>\n",
       "      <td></td>\n",
       "      <td></td>\n",
       "      <td>ME16 8LD</td>\n",
       "      <td>&lt;NA&gt;, ROOM 1, 85.0, MILTON STREET</td>\n",
       "    </tr>\n",
       "    <tr>\n",
       "      <th>3</th>\n",
       "      <td>10033213520</td>\n",
       "      <td>RD01</td>\n",
       "      <td>10002821654.0</td>\n",
       "      <td>53.903252</td>\n",
       "      <td>-0.158754</td>\n",
       "      <td>E</td>\n",
       "      <td></td>\n",
       "      <td></td>\n",
       "      <td></td>\n",
       "      <td></td>\n",
       "      <td>...</td>\n",
       "      <td>LONGBEACH LEISURE PARK</td>\n",
       "      <td>HORNSEA BURTON ROAD</td>\n",
       "      <td></td>\n",
       "      <td></td>\n",
       "      <td>HORNSEA</td>\n",
       "      <td>EAST RIDING OF YORKSHIRE</td>\n",
       "      <td></td>\n",
       "      <td></td>\n",
       "      <td>HU18 1TL</td>\n",
       "      <td>&lt;NA&gt;, 33 SOUTHFIELD, LONGBEACH LEISURE PARK, H...</td>\n",
       "    </tr>\n",
       "    <tr>\n",
       "      <th>4</th>\n",
       "      <td>10033545757</td>\n",
       "      <td>RD06</td>\n",
       "      <td>100023479131.0</td>\n",
       "      <td>51.514983</td>\n",
       "      <td>-0.179260</td>\n",
       "      <td>E</td>\n",
       "      <td></td>\n",
       "      <td></td>\n",
       "      <td></td>\n",
       "      <td></td>\n",
       "      <td>...</td>\n",
       "      <td></td>\n",
       "      <td>WESTBOURNE TERRACE</td>\n",
       "      <td></td>\n",
       "      <td></td>\n",
       "      <td>LONDON</td>\n",
       "      <td>CITY OF WESTMINSTER</td>\n",
       "      <td></td>\n",
       "      <td></td>\n",
       "      <td>W2 3UJ</td>\n",
       "      <td>&lt;NA&gt;, SECOND FLOOR, 58.0, WESTBOURNE TERRACE</td>\n",
       "    </tr>\n",
       "  </tbody>\n",
       "</table>\n",
       "<p>5 rows × 29 columns</p>\n",
       "</div>"
      ],
      "text/plain": [
       "          uprn class     parent_uprn   latitude  longitude country legal_name  \\\n",
       "0  10012778289  RD02                  54.036005  -2.340833       E              \n",
       "1  10013819934  RG02   10013819576.0  54.780687  -1.510651       E              \n",
       "2  10014309637  RD04  200003655499.0  51.266510   0.497553       E              \n",
       "3  10033213520  RD01   10002821654.0  53.903252  -0.158754       E              \n",
       "4  10033545757  RD06  100023479131.0  51.514983  -0.179260       E              \n",
       "\n",
       "  sub_building_name building_name building_number  ...  \\\n",
       "0                                                  ...   \n",
       "1                                                  ...   \n",
       "2                                                  ...   \n",
       "3                                                  ...   \n",
       "4                                                  ...   \n",
       "\n",
       "                 pao_text              street_description dependent_locality  \\\n",
       "0       SCOUTBER END FARM  OLD OLIVER LANE TO RAGGED HALL                      \n",
       "1          GARAGE SITE 53                     DOWSEY ROAD                      \n",
       "2                                           MILTON STREET                      \n",
       "3  LONGBEACH LEISURE PARK             HORNSEA BURTON ROAD                      \n",
       "4                                      WESTBOURNE TERRACE                      \n",
       "\n",
       "   locality  town_name       administrative_area post_town postcode  \\\n",
       "0  RATHMELL     SETTLE           NORTH YORKSHIRE                      \n",
       "1             SHERBURN                    DURHAM                      \n",
       "2            MAIDSTONE                      KENT                      \n",
       "3              HORNSEA  EAST RIDING OF YORKSHIRE                      \n",
       "4               LONDON       CITY OF WESTMINSTER                      \n",
       "\n",
       "  postcode_locator                                     parsed_address  \n",
       "0         BD24 0LP  <NA>, SCOUTBER END FARM, OLD OLIVER LANE TO RA...  \n",
       "1          DH6 1JH            <NA>, 22.0, GARAGE SITE 53, DOWSEY ROAD  \n",
       "2         ME16 8LD                  <NA>, ROOM 1, 85.0, MILTON STREET  \n",
       "3         HU18 1TL  <NA>, 33 SOUTHFIELD, LONGBEACH LEISURE PARK, H...  \n",
       "4           W2 3UJ       <NA>, SECOND FLOOR, 58.0, WESTBOURNE TERRACE  \n",
       "\n",
       "[5 rows x 29 columns]"
      ]
     },
     "execution_count": 10,
     "metadata": {},
     "output_type": "execute_result"
    }
   ],
   "source": [
    "df_final.head()"
   ]
  },
  {
   "cell_type": "code",
   "execution_count": 11,
   "id": "2b3076b9-5155-4cd9-977d-c3b351496c54",
   "metadata": {
    "tags": []
   },
   "outputs": [],
   "source": [
    "### ------ DATA CLEANING  ----------\n",
    "#edit the parent uprn from OSAddress base to fill out to be strings with 12 digits and leading zeros\n",
    "#replace nan\n",
    "#df_final = df_final.replace([np.nan, -np.inf], 0)\n",
    "\n",
    "#cast as integer\n",
    "#df_final['parent_uprn'] = df_final['parent_uprn'].astype('Int64')\n",
    "#df_final['uprn'] = df_final['uprn'].astype('Int64')\n"
   ]
  },
  {
   "cell_type": "code",
   "execution_count": 14,
   "id": "0016326f-51fd-43ab-b3ff-2b4a02a5ddb4",
   "metadata": {
    "tags": []
   },
   "outputs": [],
   "source": [
    "### ------ DATA CLEANING  ----------\n",
    "#cast as string \n",
    "df_final['parent_uprn'] = df_final['parent_uprn'].astype(str)\n",
    "df_final['uprn'] = df_final['uprn'].astype(str)\n",
    "\n",
    "#fill in with left side padding zeros \n",
    "df_final['parent_uprn'] = df_final['parent_uprn'].apply(lambda x: '{0:0>12}'.format(x))\n",
    "df_final['uprn'] = df_final['uprn'].apply(lambda x: '{0:0>12}'.format(x))\n",
    "\n",
    "#print(df_final['parent_uprn'])"
   ]
  },
  {
   "cell_type": "code",
   "execution_count": 13,
   "id": "649d36d0-b783-49d8-9f7b-615787c33876",
   "metadata": {
    "tags": []
   },
   "outputs": [
    {
     "data": {
      "text/plain": [
       "<bound method DataFrame.info of                   uprn class     parent_uprn   latitude  longitude country  \\\n",
       "0          10012778289  RD02                  54.036005  -2.340833       E   \n",
       "1          10013819934  RG02   10013819576.0  54.780687  -1.510651       E   \n",
       "2          10014309637  RD04  200003655499.0  51.266510   0.497553       E   \n",
       "3          10033213520  RD01   10002821654.0  53.903252  -0.158754       E   \n",
       "4          10033545757  RD06  100023479131.0  51.514983  -0.179260       E   \n",
       "...                ...   ...             ...        ...        ...     ...   \n",
       "26492122  100061604724  RD02                  51.188899  -0.815405       E   \n",
       "26492123  100070351297  RD04                  52.453545  -1.981924       E   \n",
       "26492124   10007935972  RD06  100091465340.0  51.790332   1.161525       E   \n",
       "26492125   10070040744  RD03                  51.902065  -0.367300       E   \n",
       "26492126   10070372825  RD06                  53.677436  -2.662616       E   \n",
       "\n",
       "         legal_name sub_building_name building_name building_number  ...  \\\n",
       "0                                                                    ...   \n",
       "1                                                                    ...   \n",
       "2                                                                    ...   \n",
       "3                                                                    ...   \n",
       "4                                                                    ...   \n",
       "...             ...               ...           ...             ...  ...   \n",
       "26492122                                                        1.0  ...   \n",
       "26492123                                                       36.0  ...   \n",
       "26492124                  APARTMENT 1                          73.0  ...   \n",
       "26492125                                                       20.0  ...   \n",
       "26492126                                                       18.0  ...   \n",
       "\n",
       "                        pao_text              street_description  \\\n",
       "0              SCOUTBER END FARM  OLD OLIVER LANE TO RAGGED HALL   \n",
       "1                 GARAGE SITE 53                     DOWSEY ROAD   \n",
       "2                                                  MILTON STREET   \n",
       "3         LONGBEACH LEISURE PARK             HORNSEA BURTON ROAD   \n",
       "4                                             WESTBOURNE TERRACE   \n",
       "...                          ...                             ...   \n",
       "26492122                                           LAVENDER LANE   \n",
       "26492123                                             DUFTON ROAD   \n",
       "26492124               THE GRAND              MARINE PARADE EAST   \n",
       "26492125                                          MANGROVE GREEN   \n",
       "26492126                                            ABBOTT COURT   \n",
       "\n",
       "         dependent_locality  locality         town_name  \\\n",
       "0                            RATHMELL            SETTLE   \n",
       "1                                              SHERBURN   \n",
       "2                                             MAIDSTONE   \n",
       "3                                               HORNSEA   \n",
       "4                                                LONDON   \n",
       "...                     ...       ...               ...   \n",
       "26492122           ROWLEDGE  ROWLEDGE           FARNHAM   \n",
       "26492123            QUINTON                  BIRMINGHAM   \n",
       "26492124                                 CLACTON ON SEA   \n",
       "26492125         COCKERNHOE                  COCKERNHOE   \n",
       "26492126   BUCKSHAW VILLAGE            BUCKSHAW VILLAGE   \n",
       "\n",
       "               administrative_area       post_town  postcode postcode_locator  \\\n",
       "0                  NORTH YORKSHIRE                                   BD24 0LP   \n",
       "1                           DURHAM                                    DH6 1JH   \n",
       "2                             KENT                                   ME16 8LD   \n",
       "3         EAST RIDING OF YORKSHIRE                                   HU18 1TL   \n",
       "4              CITY OF WESTMINSTER                                     W2 3UJ   \n",
       "...                            ...             ...       ...              ...   \n",
       "26492122                    SURREY         FARNHAM  GU10 4AX         GU10 4AX   \n",
       "26492123                BIRMINGHAM      BIRMINGHAM   B32 2PZ          B32 2PZ   \n",
       "26492124                     ESSEX  CLACTON-ON-SEA  CO15 6JT         CO15 6JT   \n",
       "26492125             HERTFORDSHIRE           LUTON   LU2 8QE          LU2 8QE   \n",
       "26492126                LANCASHIRE         CHORLEY   PR7 7ET          PR7 7ET   \n",
       "\n",
       "                                             parsed_address  \n",
       "0         <NA>, SCOUTBER END FARM, OLD OLIVER LANE TO RA...  \n",
       "1                   <NA>, 22.0, GARAGE SITE 53, DOWSEY ROAD  \n",
       "2                         <NA>, ROOM 1, 85.0, MILTON STREET  \n",
       "3         <NA>, 33 SOUTHFIELD, LONGBEACH LEISURE PARK, H...  \n",
       "4              <NA>, SECOND FLOOR, 58.0, WESTBOURNE TERRACE  \n",
       "...                                                     ...  \n",
       "26492122                              1, 1.0, LAVENDER LANE  \n",
       "26492123                              36, 36.0, DUFTON ROAD  \n",
       "26492124  APARTMENT 1, 73, APARTMENT 1, 73.0, THE GRAND,...  \n",
       "26492125                           20, 20.0, MANGROVE GREEN  \n",
       "26492126                             18, 18.0, ABBOTT COURT  \n",
       "\n",
       "[26492127 rows x 29 columns]>"
      ]
     },
     "execution_count": 13,
     "metadata": {},
     "output_type": "execute_result"
    }
   ],
   "source": [
    "df_final.info"
   ]
  },
  {
   "cell_type": "code",
   "execution_count": 28,
   "id": "2889e1ef-cc0a-4561-9bb8-bf522d5798a1",
   "metadata": {},
   "outputs": [],
   "source": [
    "### ------ DATA CLEANING  ----------\n",
    "\n",
    "#Address matching data clean, make building number into a string \n",
    "df_final['building_number'] = df_final['building_number'].astype('Int64').astype('str') "
   ]
  },
  {
   "cell_type": "code",
   "execution_count": 29,
   "id": "070116ff-f50f-40ef-91f3-9bbb3bcff401",
   "metadata": {
    "tags": []
   },
   "outputs": [],
   "source": [
    "#split the AddressBase into Residential uses and all others\n",
    "# 26,492,127 data ponits\n",
    "resi_AB = df_final[df_final['class'].str.startswith('R')] \n",
    "other_AB = df_final[df_final['class'].str.startswith('R') == False] "
   ]
  },
  {
   "cell_type": "code",
   "execution_count": 30,
   "id": "1c279d45-ecfa-4e01-a1c3-14ae7fecfb57",
   "metadata": {
    "tags": []
   },
   "outputs": [],
   "source": [
    "# DATA EXPLORATION - EXPORT CSV IF NEEDED \n",
    "resi_AB.to_csv('resi_AB_cleaned.csv', index = False)"
   ]
  },
  {
   "cell_type": "code",
   "execution_count": 31,
   "id": "119afb50-d49e-442f-8fb3-54b16b429f87",
   "metadata": {
    "tags": []
   },
   "outputs": [],
   "source": [
    "# DATA EXPLORATION - EXPORT CSV IF NEEDED \n",
    "other_AB.to_csv('other_AB_cleaned.csv', index = False)"
   ]
  },
  {
   "cell_type": "code",
   "execution_count": 114,
   "id": "bc1fab6b-4e53-4709-b668-fe9bc84ba9d3",
   "metadata": {
    "tags": []
   },
   "outputs": [
    {
     "name": "stderr",
     "output_type": "stream",
     "text": [
      "/var/folders/0b/k156jw2x3rz7y1k26v1wkh880000gn/T/ipykernel_2689/3348808103.py:6: SettingWithCopyWarning: \n",
      "A value is trying to be set on a copy of a slice from a DataFrame.\n",
      "Try using .loc[row_indexer,col_indexer] = value instead\n",
      "\n",
      "See the caveats in the documentation: https://pandas.pydata.org/pandas-docs/stable/user_guide/indexing.html#returning-a-view-versus-a-copy\n",
      "  resi_AB['number_street'] = np.where(resi_AB['building_name'] != 0,  resi_AB['building_name'].apply(lambda x: re.sub('[A-Z]', '',x) if type(x) == str else x)\n"
     ]
    }
   ],
   "source": [
    "##-------- DATA MERGING --------  STRATEGY 2 ADDRESS MATCH\n",
    "# concat AB Building number + AB street description = site_name_LPA before comma\n",
    "    #  and postcode  = postcode \n",
    "#create new column and oncatenate the buildign number and street\n",
    "\n",
    "resi_AB['number_street'] = np.where(resi_AB['building_name'] != 0,  resi_AB['building_name'].apply(lambda x: re.sub('[A-Z]', '',x) if type(x) == str else x)\n",
    ", resi_AB['building_number'])"
   ]
  },
  {
   "cell_type": "code",
   "execution_count": 115,
   "id": "a823c5f2-c8b4-4dea-b08f-3676a8ec5ee2",
   "metadata": {
    "tags": []
   },
   "outputs": [
    {
     "name": "stderr",
     "output_type": "stream",
     "text": [
      "/var/folders/0b/k156jw2x3rz7y1k26v1wkh880000gn/T/ipykernel_2689/2416929871.py:1: SettingWithCopyWarning: \n",
      "A value is trying to be set on a copy of a slice from a DataFrame.\n",
      "Try using .loc[row_indexer,col_indexer] = value instead\n",
      "\n",
      "See the caveats in the documentation: https://pandas.pydata.org/pandas-docs/stable/user_guide/indexing.html#returning-a-view-versus-a-copy\n",
      "  resi_AB['number_street'] =  resi_AB['number_street'] + ' ' + resi_AB['street_description'].str.lower()\n"
     ]
    }
   ],
   "source": [
    "resi_AB['number_street'] =  resi_AB['number_street'] + ' ' + resi_AB['street_description'].str.lower()"
   ]
  }
 ],
 "metadata": {
  "kernelspec": {
   "display_name": "sds2023",
   "language": "python",
   "name": "sds2023"
  },
  "language_info": {
   "codemirror_mode": {
    "name": "ipython",
    "version": 3
   },
   "file_extension": ".py",
   "mimetype": "text/x-python",
   "name": "python",
   "nbconvert_exporter": "python",
   "pygments_lexer": "ipython3",
   "version": "3.11.7"
  },
  "toc-autonumbering": true
 },
 "nbformat": 4,
 "nbformat_minor": 5
}
