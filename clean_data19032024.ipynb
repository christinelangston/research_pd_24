{
 "cells": [
  {
   "cell_type": "code",
   "execution_count": 1,
   "id": "92c7d1c5-1f20-44ef-9fe3-6f8fa8b7a774",
   "metadata": {
    "tags": []
   },
   "outputs": [],
   "source": [
    "#after matching via uprn, parentuprn and addresses, we want to try to match via polygon\n",
    "# we also want to be able to take in files that have been matched by hand to addresses"
   ]
  },
  {
   "cell_type": "code",
   "execution_count": 2,
   "id": "e848f803-c330-43a6-b5b5-0d57b970ec97",
   "metadata": {
    "tags": []
   },
   "outputs": [],
   "source": [
    "import pandas as pd\n",
    "import time\n",
    "import numpy as np\n",
    "import copy\n",
    "import re"
   ]
  },
  {
   "cell_type": "code",
   "execution_count": null,
   "id": "1175ed28-d466-4ed8-be22-0bae814bdcad",
   "metadata": {},
   "outputs": [],
   "source": [
    "nana_process_file = \"/Users/christine/OneDrive - University College London/WP1_Address list compilation/13_stage_3_from_NanaWei/PA_batch1_London_202402_processed.csv\"\n",
    "london_data = pd.read_csv(nana_process_file)"
   ]
  },
  {
   "cell_type": "code",
   "execution_count": 140,
   "id": "b1a0b0b5-a115-441b-b437-5e835b29d4c8",
   "metadata": {},
   "outputs": [],
   "source": [
    "no_match = pd.read_csv(\"London1_no_match_0503.csv\")"
   ]
  },
  {
   "cell_type": "code",
   "execution_count": 141,
   "id": "4c4c952c-8090-496f-be20-03a8e682cd88",
   "metadata": {
    "tags": []
   },
   "outputs": [
    {
     "data": {
      "text/html": [
       "<div>\n",
       "<style scoped>\n",
       "    .dataframe tbody tr th:only-of-type {\n",
       "        vertical-align: middle;\n",
       "    }\n",
       "\n",
       "    .dataframe tbody tr th {\n",
       "        vertical-align: top;\n",
       "    }\n",
       "\n",
       "    .dataframe thead th {\n",
       "        text-align: right;\n",
       "    }\n",
       "</style>\n",
       "<table border=\"1\" class=\"dataframe\">\n",
       "  <thead>\n",
       "    <tr style=\"text-align: right;\">\n",
       "      <th></th>\n",
       "      <th>UCL_ID</th>\n",
       "      <th>planning_application_number</th>\n",
       "      <th>lpa_name</th>\n",
       "      <th>application_type</th>\n",
       "      <th>application_type_full</th>\n",
       "      <th>description</th>\n",
       "      <th>number_of_units</th>\n",
       "      <th>site_number_clean</th>\n",
       "      <th>street_name</th>\n",
       "      <th>postcode_clean</th>\n",
       "      <th>ward</th>\n",
       "      <th>site_name_clean</th>\n",
       "      <th>site_name_GLA</th>\n",
       "      <th>site_name_LPA</th>\n",
       "      <th>uprn_x</th>\n",
       "      <th>decision</th>\n",
       "      <th>status</th>\n",
       "      <th>application_date</th>\n",
       "      <th>decision_date</th>\n",
       "      <th>short_site_name_LPA]</th>\n",
       "    </tr>\n",
       "  </thead>\n",
       "  <tbody>\n",
       "    <tr>\n",
       "      <th>0</th>\n",
       "      <td>2</td>\n",
       "      <td>P/0466/21/PRIOR</td>\n",
       "      <td>HARROW</td>\n",
       "      <td>Prior Approval</td>\n",
       "      <td>Prior Approval Office to Residential</td>\n",
       "      <td>Change Of Use From Office (Class B1 (New Class...</td>\n",
       "      <td>20.0</td>\n",
       "      <td>31</td>\n",
       "      <td>NaN</td>\n",
       "      <td>HA1 1BA</td>\n",
       "      <td>NaN</td>\n",
       "      <td>NaN</td>\n",
       "      <td>31 - 33 College Road\\r\\r\\nHarrow\\r\\r\\nHA1 1BA</td>\n",
       "      <td>31 - 33 College Road, Harrow, HA1 1BA</td>\n",
       "      <td>NaN</td>\n",
       "      <td>Grant</td>\n",
       "      <td>NaN</td>\n",
       "      <td>2/4/21</td>\n",
       "      <td>NaN</td>\n",
       "      <td>31 - 33 college road</td>\n",
       "    </tr>\n",
       "    <tr>\n",
       "      <th>1</th>\n",
       "      <td>3</td>\n",
       "      <td>P/2181/21/PRIOR</td>\n",
       "      <td>HARROW</td>\n",
       "      <td>Prior Approval</td>\n",
       "      <td>Prior Approval Office to Residential</td>\n",
       "      <td>Change Of Use From Office (Class B1 (New Class...</td>\n",
       "      <td>10.0</td>\n",
       "      <td>380</td>\n",
       "      <td>NaN</td>\n",
       "      <td>HA3 8EE</td>\n",
       "      <td>NaN</td>\n",
       "      <td>NaN</td>\n",
       "      <td>380 Kenton Road\\r\\r\\nHarrow\\r\\r\\nHA3 8EE</td>\n",
       "      <td>380 Kenton Road, Harrow, HA3 8EE</td>\n",
       "      <td>NaN</td>\n",
       "      <td>Grant</td>\n",
       "      <td>NaN</td>\n",
       "      <td>20/05/2021</td>\n",
       "      <td>NaN</td>\n",
       "      <td>380 kenton road</td>\n",
       "    </tr>\n",
       "    <tr>\n",
       "      <th>2</th>\n",
       "      <td>11</td>\n",
       "      <td>21/01573/PRIMA</td>\n",
       "      <td>BARKING &amp; DAGENHAM</td>\n",
       "      <td>Prior Approval: Change of use from Commercial,...</td>\n",
       "      <td>NaN</td>\n",
       "      <td>Application for prior approval: Proposed chang...</td>\n",
       "      <td>NaN</td>\n",
       "      <td>280</td>\n",
       "      <td>NaN</td>\n",
       "      <td>RM8 2HF</td>\n",
       "      <td>Mayesbrook</td>\n",
       "      <td>Panache</td>\n",
       "      <td>Panache, 280 Lodge Avenue, Dagenham, Barking A...</td>\n",
       "      <td>Panache, 280 Lodge Avenue, Dagenham, Barking A...</td>\n",
       "      <td>NaN</td>\n",
       "      <td>Prior Approval Not Required</td>\n",
       "      <td>NaN</td>\n",
       "      <td>NaN</td>\n",
       "      <td>NaN</td>\n",
       "      <td>panache</td>\n",
       "    </tr>\n",
       "    <tr>\n",
       "      <th>3</th>\n",
       "      <td>15</td>\n",
       "      <td>21/3558</td>\n",
       "      <td>BRENT</td>\n",
       "      <td>Prior Approval</td>\n",
       "      <td>NaN</td>\n",
       "      <td>Prior approval for change of use of second flo...</td>\n",
       "      <td>NaN</td>\n",
       "      <td>37</td>\n",
       "      <td>NaN</td>\n",
       "      <td>NW10 8UN</td>\n",
       "      <td>NaN</td>\n",
       "      <td>Kassinga House</td>\n",
       "      <td>Second Floor, Kassinga House, 37 Winchelsea Ro...</td>\n",
       "      <td>Second Floor, Kassinga House, 37 Winchelsea Ro...</td>\n",
       "      <td>NaN</td>\n",
       "      <td>Prior approval required and approved</td>\n",
       "      <td>NaN</td>\n",
       "      <td>16/11/2021</td>\n",
       "      <td>NaN</td>\n",
       "      <td>second floor</td>\n",
       "    </tr>\n",
       "    <tr>\n",
       "      <th>4</th>\n",
       "      <td>16</td>\n",
       "      <td>22/0186</td>\n",
       "      <td>BRENT</td>\n",
       "      <td>Prior Approval</td>\n",
       "      <td>NaN</td>\n",
       "      <td>Prior approval for change of use of vacant sho...</td>\n",
       "      <td>NaN</td>\n",
       "      <td>9,11</td>\n",
       "      <td>NaN</td>\n",
       "      <td>NW10 1DY</td>\n",
       "      <td>NaN</td>\n",
       "      <td>NaN</td>\n",
       "      <td>9-11 Burnley Road, London, NW10 1DY</td>\n",
       "      <td>9-11 Burnley Road, London, NW10 1DY</td>\n",
       "      <td>NaN</td>\n",
       "      <td>Prior approval is required and approved</td>\n",
       "      <td>NaN</td>\n",
       "      <td>17/03/2022</td>\n",
       "      <td>NaN</td>\n",
       "      <td>9-11 burnley road</td>\n",
       "    </tr>\n",
       "  </tbody>\n",
       "</table>\n",
       "</div>"
      ],
      "text/plain": [
       "   UCL_ID planning_application_number            lpa_name  \\\n",
       "0       2             P/0466/21/PRIOR              HARROW   \n",
       "1       3             P/2181/21/PRIOR              HARROW   \n",
       "2      11              21/01573/PRIMA  BARKING & DAGENHAM   \n",
       "3      15                     21/3558               BRENT   \n",
       "4      16                     22/0186               BRENT   \n",
       "\n",
       "                                    application_type  \\\n",
       "0                                     Prior Approval   \n",
       "1                                     Prior Approval   \n",
       "2  Prior Approval: Change of use from Commercial,...   \n",
       "3                                     Prior Approval   \n",
       "4                                     Prior Approval   \n",
       "\n",
       "                  application_type_full  \\\n",
       "0  Prior Approval Office to Residential   \n",
       "1  Prior Approval Office to Residential   \n",
       "2                                   NaN   \n",
       "3                                   NaN   \n",
       "4                                   NaN   \n",
       "\n",
       "                                         description  number_of_units  \\\n",
       "0  Change Of Use From Office (Class B1 (New Class...             20.0   \n",
       "1  Change Of Use From Office (Class B1 (New Class...             10.0   \n",
       "2  Application for prior approval: Proposed chang...              NaN   \n",
       "3  Prior approval for change of use of second flo...              NaN   \n",
       "4  Prior approval for change of use of vacant sho...              NaN   \n",
       "\n",
       "  site_number_clean street_name postcode_clean        ward site_name_clean  \\\n",
       "0                31         NaN        HA1 1BA         NaN             NaN   \n",
       "1               380         NaN        HA3 8EE         NaN             NaN   \n",
       "2               280         NaN        RM8 2HF  Mayesbrook         Panache   \n",
       "3                37         NaN       NW10 8UN         NaN  Kassinga House   \n",
       "4              9,11         NaN       NW10 1DY         NaN             NaN   \n",
       "\n",
       "                                       site_name_GLA  \\\n",
       "0      31 - 33 College Road\\r\\r\\nHarrow\\r\\r\\nHA1 1BA   \n",
       "1           380 Kenton Road\\r\\r\\nHarrow\\r\\r\\nHA3 8EE   \n",
       "2  Panache, 280 Lodge Avenue, Dagenham, Barking A...   \n",
       "3  Second Floor, Kassinga House, 37 Winchelsea Ro...   \n",
       "4                9-11 Burnley Road, London, NW10 1DY   \n",
       "\n",
       "                                       site_name_LPA  uprn_x  \\\n",
       "0              31 - 33 College Road, Harrow, HA1 1BA     NaN   \n",
       "1                   380 Kenton Road, Harrow, HA3 8EE     NaN   \n",
       "2  Panache, 280 Lodge Avenue, Dagenham, Barking A...     NaN   \n",
       "3  Second Floor, Kassinga House, 37 Winchelsea Ro...     NaN   \n",
       "4                9-11 Burnley Road, London, NW10 1DY     NaN   \n",
       "\n",
       "                                  decision status application_date  \\\n",
       "0                                    Grant    NaN           2/4/21   \n",
       "1                                    Grant    NaN       20/05/2021   \n",
       "2              Prior Approval Not Required    NaN              NaN   \n",
       "3     Prior approval required and approved    NaN       16/11/2021   \n",
       "4  Prior approval is required and approved    NaN       17/03/2022   \n",
       "\n",
       "  decision_date  short_site_name_LPA]  \n",
       "0           NaN  31 - 33 college road  \n",
       "1           NaN       380 kenton road  \n",
       "2           NaN               panache  \n",
       "3           NaN          second floor  \n",
       "4           NaN     9-11 burnley road  "
      ]
     },
     "execution_count": 141,
     "metadata": {},
     "output_type": "execute_result"
    }
   ],
   "source": [
    "no_match.head()"
   ]
  },
  {
   "cell_type": "code",
   "execution_count": 142,
   "id": "a91b49bb-2d66-40b2-8b8b-ae5ae86bbb00",
   "metadata": {
    "tags": []
   },
   "outputs": [],
   "source": [
    "test_data = no_match.iloc[:10]"
   ]
  },
  {
   "cell_type": "code",
   "execution_count": 161,
   "id": "62ac1a20-d02a-45f4-9bfd-f1e89393875c",
   "metadata": {
    "tags": []
   },
   "outputs": [
    {
     "name": "stderr",
     "output_type": "stream",
     "text": [
      "/var/folders/0b/k156jw2x3rz7y1k26v1wkh880000gn/T/ipykernel_66682/1807502907.py:6: SettingWithCopyWarning: \n",
      "A value is trying to be set on a copy of a slice from a DataFrame.\n",
      "Try using .loc[row_indexer,col_indexer] = value instead\n",
      "\n",
      "See the caveats in the documentation: https://pandas.pydata.org/pandas-docs/stable/user_guide/indexing.html#returning-a-view-versus-a-copy\n",
      "  test_data['parsed_street'] = test_data['site_name_LPA'].apply(lambda x: re.findall(\"[0-9]+.-?.[0-9]+?\\s(.+)(Road|Lane|Avenue|Parade|Courtyard|Street|Gardens)\", x) if '-' in x else\n"
     ]
    }
   ],
   "source": [
    "# parse from site_name_LPA\n",
    "\n",
    "#version1: test_data['parsed_street'] = test_data['site_name_LPA'].apply(lambda x: re.findall(\"[0-9]+-?[0-9]?+\\s(.+)(Road|Lane|Avenue|Parade|Courtyard|Street|Gardens)\", x))\n",
    "\n",
    "\n",
    "test_data['parsed_street'] = test_data['site_name_LPA'].apply(lambda x: re.findall(\"[0-9]+.-?.[0-9]+?\\s(.+)(Road|Lane|Avenue|Parade|Courtyard|Street|Gardens)\", x) if '-' in x else \n",
    "                                                                                   re.findall(\"[0-9]+\\s(.+)(Road|Lane|Avenue|Parade|Courtyard|Street|Gardens)\", x))\n",
    "\n"
   ]
  },
  {
   "cell_type": "code",
   "execution_count": 153,
   "id": "85d54d22-2447-4257-8578-2bd1a6f5fb4d",
   "metadata": {
    "tags": []
   },
   "outputs": [
    {
     "data": {
      "text/plain": [
       "['College Road']"
      ]
     },
     "execution_count": 153,
     "metadata": {},
     "output_type": "execute_result"
    }
   ],
   "source": [
    "#re.findall(\"[0-9]+.-?.[0-9]+?\\s(.+)(Road|Lane|Avenue|Parade|Courtyard|Street|Gardens)\", \"31-33 College Road, Harrow, HA1 1BA\")\n",
    "\n",
    "#re.findall(\"[0-9]+.\\s(.+Road|Lane|Avenue|Parade|Courtyard|Street|Gardens)\", \"31 College Road, Harrow, HA1 1BA\")\n",
    "\n",
    "    \n",
    "    #(Road|Lane|Avenue|Parade|Courtyard|Street|Gardens)"
   ]
  },
  {
   "cell_type": "code",
   "execution_count": 163,
   "id": "1b98ae28-c2e7-4909-96d0-552d519d4109",
   "metadata": {
    "tags": []
   },
   "outputs": [
    {
     "name": "stderr",
     "output_type": "stream",
     "text": [
      "/var/folders/0b/k156jw2x3rz7y1k26v1wkh880000gn/T/ipykernel_66682/3449484892.py:1: SettingWithCopyWarning: \n",
      "A value is trying to be set on a copy of a slice from a DataFrame.\n",
      "Try using .loc[row_indexer,col_indexer] = value instead\n",
      "\n",
      "See the caveats in the documentation: https://pandas.pydata.org/pandas-docs/stable/user_guide/indexing.html#returning-a-view-versus-a-copy\n",
      "  test_data['parsed_street'] = test_data['parsed_street'].apply(lambda x: x[0][0] + x[0][1]  if len(x) > 0 else None)\n"
     ]
    }
   ],
   "source": [
    "test_data['parsed_street'] = test_data['parsed_street'].apply(lambda x: x[0][0] + x[0][1]  if len(x) > 0 else None)\n",
    "\n",
    "#re.search(r\"(?<=AAA).*?(?=ZZZ)\", your_text).group(0)\n",
    "#test_data.head(10)\n"
   ]
  },
  {
   "cell_type": "code",
   "execution_count": 52,
   "id": "2b779e2f-cd0c-4da4-8eda-0357790c94c6",
   "metadata": {
    "tags": []
   },
   "outputs": [
    {
     "data": {
      "text/plain": [
       "[]"
      ]
     },
     "execution_count": 52,
     "metadata": {},
     "output_type": "execute_result"
    }
   ],
   "source": [
    "\n",
    "\n",
    "re.findall(\"([0-9]+\\s\\w+\\s\\w.)(Road|Lane|Avenue)\", \"33 Mount View Road London N4 4SS\")\n"
   ]
  },
  {
   "cell_type": "code",
   "execution_count": null,
   "id": "cb819336-240f-4e33-9858-73e4cac24dfd",
   "metadata": {},
   "outputs": [],
   "source": [
    "([0-9]+\\s\\w+.Lane) \n",
    "([0-9]+\\s\\w+.Avenue)"
   ]
  }
 ],
 "metadata": {
  "kernelspec": {
   "display_name": "sds2023",
   "language": "python",
   "name": "sds2023"
  },
  "language_info": {
   "codemirror_mode": {
    "name": "ipython",
    "version": 3
   },
   "file_extension": ".py",
   "mimetype": "text/x-python",
   "name": "python",
   "nbconvert_exporter": "python",
   "pygments_lexer": "ipython3",
   "version": "3.11.7"
  }
 },
 "nbformat": 4,
 "nbformat_minor": 5
}
